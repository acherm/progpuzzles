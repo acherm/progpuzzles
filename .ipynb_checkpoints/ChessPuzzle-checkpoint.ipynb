{
 "cells": [
  {
   "cell_type": "code",
   "execution_count": 1,
   "metadata": {},
   "outputs": [],
   "source": [
    "from itertools import combinations, permutations\n",
    "from math import factorial, ceil, floor\n",
    "\n",
    "# permutations does not scale well and we can exploit the fact that the order of the 4 queens does not matter \n",
    "def gen_combinations():\n",
    "    # 4 queens (order does not matter) + 1 bishop\n",
    "    res = []\n",
    "    for c in combinations(range(0, 64), 4):\n",
    "        for i in [elem for elem in list(range(0, 64)) if not elem in list(c)]:\n",
    "            res.append(c + (i,))\n",
    "    return res\n",
    "    # return permutations(range(0, 64), 5) \n",
    "    # order actually matters (at least for the 4 first) \n",
    "    # return combinations(list(range(0, 64)), 5) \n",
    "\n",
    "# assert(len(list(gen_combinations())) == (factorial(64) / (factorial(64 - 5) * factorial(5))))\n",
    "# assert(len(list(gen_combinations())) == (factorial(64) / (factorial(64 - 5))))\n",
    "\n",
    "# combinations of 4 among 64, and then 60 remaining possibilities\n",
    "assert(len(gen_combinations()) == (factorial(64) / (factorial(64 - 4) * factorial(4))) * 60)"
   ]
  },
  {
   "cell_type": "code",
   "execution_count": 2,
   "metadata": {},
   "outputs": [
    {
     "data": {
      "text/plain": [
       "38122560.0"
      ]
     },
     "execution_count": 2,
     "metadata": {},
     "output_type": "execute_result"
    }
   ],
   "source": [
    "(factorial(64) / (factorial(64 - 4) * factorial(4))) * 60"
   ]
  },
  {
   "cell_type": "code",
   "execution_count": null,
   "metadata": {},
   "outputs": [],
   "source": []
  },
  {
   "cell_type": "code",
   "execution_count": null,
   "metadata": {},
   "outputs": [],
   "source": [
    "\n"
   ]
  },
  {
   "cell_type": "code",
   "execution_count": 3,
   "metadata": {},
   "outputs": [],
   "source": [
    "def to_coordinates(q):\n",
    "    x = q - (floor(q / 8) * 8)\n",
    "    y = floor(q / 8)    \n",
    "    return (x, y)\n",
    "\n",
    "assert(to_coordinates(63) == (7, 7))\n",
    "assert(to_coordinates(28) == (4, 3))\n",
    "assert(to_coordinates(1) == (1, 0))\n",
    "assert(to_coordinates(0) == (0, 0))\n",
    "assert(to_coordinates(7) == (7, 0))\n",
    "assert(to_coordinates(56) == (0, 7))"
   ]
  },
  {
   "cell_type": "code",
   "execution_count": 4,
   "metadata": {},
   "outputs": [
    {
     "name": "stdout",
     "output_type": "stream",
     "text": [
      "0 [0, 1, 2, 3, 4, 5, 6, 7, 8, 9, 16, 18, 24, 27, 32, 36, 40, 45, 48, 54, 56, 63]\n",
      "1 [1, 9, 10, 11, 12, 13, 14, 15, 0, 16, 24, 32, 40, 48, 56, 1, 17, 26, 35, 44, 53, 62]\n",
      "63 [63, 62, 61, 60, 59, 58, 57, 56, 55, 47, 39, 31, 23, 15, 7, 54, 45, 36, 27, 18, 9, 0]\n",
      "13 [13, 42, 43, 44, 45, 46, 47, 40, 33, 25, 17, 9, 1, 49, 57, 34, 27, 20, 13, 6, 50, 59, 48, 32]\n",
      "28 [28, 36, 37, 38, 39, 34, 33, 32, 27, 19, 11, 3, 43, 51, 59, 28, 21, 14, 7, 44, 53, 62, 42, 49, 56, 26, 17, 8]\n"
     ]
    }
   ],
   "source": [
    "def add_x(t, m): # a tuple\n",
    "    x = t[0]\n",
    "    y = t[1]\n",
    "    return (x+m, y)\n",
    "\n",
    "def add_y(t, m): # a tuple\n",
    "    x = t[0]\n",
    "    y = t[1]\n",
    "    return (x, y+m)\n",
    "\n",
    "def is_casein_chessboard(t): # a tuple\n",
    "    x = t[0]\n",
    "    y = t[1]\n",
    "    return x >= 0 and x <= 7 and y >= 0 and y <= 7\n",
    "\n",
    "def horizontal_directions(q):\n",
    "    def horizontal_direction(q, north=True):\n",
    "        norths = []\n",
    "        qcase = to_coordinates(q)\n",
    "        for i in range(1, 8):\n",
    "            if north:\n",
    "                possible_move = add_y(qcase, i)\n",
    "            else:\n",
    "                possible_move = add_y(qcase, -i)\n",
    "            if (not is_casein_chessboard(possible_move)):\n",
    "                break\n",
    "            x = possible_move[0]\n",
    "            y = possible_move[1]\n",
    "            norths.append(x*8 + y)\n",
    "        return norths\n",
    "    n = horizontal_direction(q, True)\n",
    "    s = horizontal_direction(q, False)\n",
    "    return n + s\n",
    "\n",
    "def vertical_directions(q):\n",
    "    def vertical_direction(q, east=True):\n",
    "        eaths = []\n",
    "        qcase = to_coordinates(q)\n",
    "        for i in range(1, 8):\n",
    "            if east:\n",
    "                possible_move = add_x(qcase, i)\n",
    "            else:\n",
    "                possible_move = add_x(qcase, -i)\n",
    "            if (not is_casein_chessboard(possible_move)):\n",
    "                break\n",
    "            x = possible_move[0]\n",
    "            y = possible_move[1]\n",
    "            eaths.append(x*8 + y)\n",
    "        return eaths\n",
    "\n",
    "    w = vertical_direction(q, True)\n",
    "    e = vertical_direction(q, False)\n",
    "    return e + w\n",
    "\n",
    "\n",
    "\n",
    "def diagup(q):\n",
    "    def diagup_direction(q, east=True):\n",
    "        eaths = []\n",
    "        qcase = to_coordinates(q)\n",
    "        for i in range(1, 8):\n",
    "            if east:\n",
    "                possible_move = add_y(qcase, i)\n",
    "                possible_move = add_x(possible_move, i)\n",
    "            else:\n",
    "                possible_move = add_y(qcase, i)\n",
    "                possible_move = add_x(possible_move, -i)\n",
    "            if (not is_casein_chessboard(possible_move)):\n",
    "                break\n",
    "            x = possible_move[0]\n",
    "            y = possible_move[1]\n",
    "            eaths.append(x*8 + y)\n",
    "        return eaths\n",
    "    w = diagup_direction(q, True)\n",
    "    e = diagup_direction(q, False)\n",
    "    return e + w\n",
    "\n",
    "\n",
    "def diagdown(q):\n",
    "    def diagdown_direction(q, east=True):\n",
    "        eaths = []\n",
    "        qcase = to_coordinates(q)\n",
    "        for i in range(1, 8):\n",
    "            if east:\n",
    "                possible_move = add_y(qcase, -i)\n",
    "                possible_move = add_x(possible_move, i)\n",
    "            else:\n",
    "                possible_move = add_y(qcase, -i)\n",
    "                possible_move = add_x(possible_move, -i)\n",
    "            if (not is_casein_chessboard(possible_move)):\n",
    "                break\n",
    "            x = possible_move[0]\n",
    "            y = possible_move[1]\n",
    "            eaths.append(x*8 + y)\n",
    "        return eaths\n",
    "    s = diagdown_direction(q, True)\n",
    "    n = diagdown_direction(q, False)\n",
    "    return s + n\n",
    "\n",
    "def squares_covered_byqueen(q):\n",
    "    horizontals = horizontal_directions(q)\n",
    "    verticals = vertical_directions(q)\n",
    "    diagsup = diagup(q)\n",
    "    diagsdown = diagdown(q)\n",
    "    \n",
    "    return [q] + horizontals + verticals + diagsup + diagsdown\n",
    "\n",
    "def squares_covered_bybishop(q):\n",
    "    diagsup = diagup(q)\n",
    "    diagsdown = diagdown(q)\n",
    "    return [q] + diagsup + diagsdown\n",
    "\n",
    "print(\"0\", sorted(squares_covered_byqueen(0)))\n",
    "print(\"1\", squares_covered_byqueen(1))\n",
    "print(\"63\", squares_covered_byqueen(63))\n",
    "print(\"13\", squares_covered_byqueen(13))\n",
    "print(\"28\", squares_covered_byqueen(28))\n",
    "\n",
    "len(squares_covered_byqueen(0))\n",
    "\n",
    "assert(len(squares_covered_byqueen(0)) == (1+7+7+7))\n",
    "assert(len(squares_covered_byqueen(63)) == (1+7+7+7))\n",
    "assert(len(squares_covered_byqueen(1)) == (1+7+7+6+1))\n",
    "assert(len(squares_covered_byqueen(28)) == (1+7+7+7+6))\n",
    "\n",
    "assert(len(squares_covered_bybishop(28)) == (1+7+6))\n",
    "assert(len(squares_covered_bybishop(0)) == (1+7))\n",
    "# let's go metamorphic ;)\n",
    "assert(len(squares_covered_bybishop(0)) == len(squares_covered_bybishop(63)))\n",
    "assert(len(squares_covered_bybishop(56)) == len(squares_covered_bybishop(7)))\n",
    "# diagup_direction(0), diagup_direction(7, False), diagup_direction(4, False), diagup_direction(4, True), diagup_direction(63, False)\n",
    "# diagup(28), diagdown_direction(28), diagdown_direction(28, False)\n",
    "# [mult_coordinates((0, 1), i) for i in range(0, 8)], [add_coordinates((0, 0), i*8) for i in range(0, 8)]"
   ]
  },
  {
   "cell_type": "code",
   "execution_count": 17,
   "metadata": {},
   "outputs": [
    {
     "data": {
      "image/svg+xml": [
       "<svg version=\"1.1\" viewBox=\"0 0 360 360\" xmlns=\"http://www.w3.org/2000/svg\" xmlns:xlink=\"http://www.w3.org/1999/xlink\"><style>\n",
       ".square.light {\n",
       "fill: #cacaca;\n",
       "}\n",
       ".square.dark {\n",
       "fill: #898989;\n",
       "}\n",
       "#xx {\n",
       "fill: blue;\n",
       "stroke: red;\n",
       "}\n",
       ".square.light.lastmove {\n",
       "fill: #c3d889;\n",
       "}\n",
       ".square.dark.lastmove {\n",
       "fill: #92b167;\n",
       "}\n",
       ".check {\n",
       "fill: url(#check_gradient);\n",
       "}\n",
       ".arrow {\n",
       "stroke: #ff5858;\n",
       "fill: blue;\n",
       "}\n",
       ".mark {\n",
       "stroke: #959fff;\n",
       "fill: blue;\n",
       "}\n",
       "</style><defs><g class=\"white bishop\" fill=\"none\" fill-rule=\"evenodd\" id=\"white-bishop\" stroke=\"#000\" stroke-linecap=\"round\" stroke-linejoin=\"round\" stroke-width=\"1.5\"><g fill=\"#fff\" stroke-linecap=\"butt\"><path d=\"M9 36c3.39-.97 10.11.43 13.5-2 3.39 2.43 10.11 1.03 13.5 2 0 0 1.65.54 3 2-.68.97-1.65.99-3 .5-3.39-.97-10.11.46-13.5-1-3.39 1.46-10.11.03-13.5 1-1.354.49-2.323.47-3-.5 1.354-1.94 3-2 3-2zM15 32c2.5 2.5 12.5 2.5 15 0 .5-1.5 0-2 0-2 0-2.5-2.5-4-2.5-4 5.5-1.5 6-11.5-5-15.5-11 4-10.5 14-5 15.5 0 0-2.5 1.5-2.5 4 0 0-.5.5 0 2zM25 8a2.5 2.5 0 1 1-5 0 2.5 2.5 0 1 1 5 0z\" /></g><path d=\"M17.5 26h10M15 30h15m-7.5-14.5v5M20 18h5\" stroke-linejoin=\"miter\" /></g><g class=\"white queen\" fill=\"#fff\" fill-rule=\"evenodd\" id=\"white-queen\" stroke=\"#000\" stroke-linecap=\"round\" stroke-linejoin=\"round\" stroke-width=\"1.5\"><path d=\"M8 12a2 2 0 1 1-4 0 2 2 0 1 1 4 0zM24.5 7.5a2 2 0 1 1-4 0 2 2 0 1 1 4 0zM41 12a2 2 0 1 1-4 0 2 2 0 1 1 4 0zM16 8.5a2 2 0 1 1-4 0 2 2 0 1 1 4 0zM33 9a2 2 0 1 1-4 0 2 2 0 1 1 4 0z\" /><path d=\"M9 26c8.5-1.5 21-1.5 27 0l2-12-7 11V11l-5.5 13.5-3-15-3 15-5.5-14V25L7 14l2 12zM9 26c0 2 1.5 2 2.5 4 1 1.5 1 1 .5 3.5-1.5 1-1.5 2.5-1.5 2.5-1.5 1.5.5 2.5.5 2.5 6.5 1 16.5 1 23 0 0 0 1.5-1 0-2.5 0 0 .5-1.5-1-2.5-.5-2.5-.5-2 .5-3.5 1-2 2.5-2 2.5-4-8.5-1.5-18.5-1.5-27 0z\" stroke-linecap=\"butt\" /><path d=\"M11.5 30c3.5-1 18.5-1 22 0M12 33.5c6-1 15-1 21 0\" fill=\"none\" /></g></defs><rect class=\"square dark a1\" fill=\"#d18b47\" height=\"45\" stroke=\"none\" width=\"45\" x=\"0\" y=\"315\" /><rect class=\"square light b1\" fill=\"#ffce9e\" height=\"45\" stroke=\"none\" width=\"45\" x=\"45\" y=\"315\" /><rect class=\"square dark c1\" fill=\"#d18b47\" height=\"45\" stroke=\"none\" width=\"45\" x=\"90\" y=\"315\" /><rect class=\"square light d1\" fill=\"#ffce9e\" height=\"45\" stroke=\"none\" width=\"45\" x=\"135\" y=\"315\" /><rect class=\"square dark e1\" fill=\"#d18b47\" height=\"45\" stroke=\"none\" width=\"45\" x=\"180\" y=\"315\" /><rect class=\"square light f1\" fill=\"#ffce9e\" height=\"45\" stroke=\"none\" width=\"45\" x=\"225\" y=\"315\" /><rect class=\"square dark g1\" fill=\"#d18b47\" height=\"45\" stroke=\"none\" width=\"45\" x=\"270\" y=\"315\" /><rect class=\"square light h1\" fill=\"#ffce9e\" height=\"45\" stroke=\"none\" width=\"45\" x=\"315\" y=\"315\" /><rect class=\"square light a2\" fill=\"#ffce9e\" height=\"45\" stroke=\"none\" width=\"45\" x=\"0\" y=\"270\" /><rect class=\"square dark b2\" fill=\"#d18b47\" height=\"45\" stroke=\"none\" width=\"45\" x=\"45\" y=\"270\" /><rect class=\"square light c2\" fill=\"#ffce9e\" height=\"45\" stroke=\"none\" width=\"45\" x=\"90\" y=\"270\" /><rect class=\"square dark d2\" fill=\"#d18b47\" height=\"45\" stroke=\"none\" width=\"45\" x=\"135\" y=\"270\" /><rect class=\"square light e2\" fill=\"#ffce9e\" height=\"45\" stroke=\"none\" width=\"45\" x=\"180\" y=\"270\" /><rect class=\"square dark f2\" fill=\"#d18b47\" height=\"45\" stroke=\"none\" width=\"45\" x=\"225\" y=\"270\" /><rect class=\"square light g2\" fill=\"#ffce9e\" height=\"45\" stroke=\"none\" width=\"45\" x=\"270\" y=\"270\" /><rect class=\"square dark h2\" fill=\"#d18b47\" height=\"45\" stroke=\"none\" width=\"45\" x=\"315\" y=\"270\" /><rect class=\"square dark a3\" fill=\"#d18b47\" height=\"45\" stroke=\"none\" width=\"45\" x=\"0\" y=\"225\" /><rect class=\"square light b3\" fill=\"#ffce9e\" height=\"45\" stroke=\"none\" width=\"45\" x=\"45\" y=\"225\" /><rect class=\"square dark c3\" fill=\"#d18b47\" height=\"45\" stroke=\"none\" width=\"45\" x=\"90\" y=\"225\" /><rect class=\"square light d3\" fill=\"#ffce9e\" height=\"45\" stroke=\"none\" width=\"45\" x=\"135\" y=\"225\" /><rect class=\"square dark e3\" fill=\"#d18b47\" height=\"45\" stroke=\"none\" width=\"45\" x=\"180\" y=\"225\" /><rect class=\"square light f3\" fill=\"#ffce9e\" height=\"45\" stroke=\"none\" width=\"45\" x=\"225\" y=\"225\" /><rect class=\"square dark g3\" fill=\"#d18b47\" height=\"45\" stroke=\"none\" width=\"45\" x=\"270\" y=\"225\" /><rect class=\"square light h3\" fill=\"#ffce9e\" height=\"45\" stroke=\"none\" width=\"45\" x=\"315\" y=\"225\" /><rect class=\"square light a4\" fill=\"#ffce9e\" height=\"45\" stroke=\"none\" width=\"45\" x=\"0\" y=\"180\" /><rect class=\"square dark b4\" fill=\"#d18b47\" height=\"45\" stroke=\"none\" width=\"45\" x=\"45\" y=\"180\" /><rect class=\"square light c4\" fill=\"#ffce9e\" height=\"45\" stroke=\"none\" width=\"45\" x=\"90\" y=\"180\" /><rect class=\"square dark d4\" fill=\"#d18b47\" height=\"45\" stroke=\"none\" width=\"45\" x=\"135\" y=\"180\" /><rect class=\"square light e4\" fill=\"#ffce9e\" height=\"45\" stroke=\"none\" width=\"45\" x=\"180\" y=\"180\" /><rect class=\"square dark f4\" fill=\"#d18b47\" height=\"45\" stroke=\"none\" width=\"45\" x=\"225\" y=\"180\" /><rect class=\"square light g4\" fill=\"#ffce9e\" height=\"45\" stroke=\"none\" width=\"45\" x=\"270\" y=\"180\" /><rect class=\"square dark h4\" fill=\"#d18b47\" height=\"45\" stroke=\"none\" width=\"45\" x=\"315\" y=\"180\" /><rect class=\"square dark a5\" fill=\"#d18b47\" height=\"45\" stroke=\"none\" width=\"45\" x=\"0\" y=\"135\" /><rect class=\"square light b5\" fill=\"#ffce9e\" height=\"45\" stroke=\"none\" width=\"45\" x=\"45\" y=\"135\" /><rect class=\"square dark c5\" fill=\"#d18b47\" height=\"45\" stroke=\"none\" width=\"45\" x=\"90\" y=\"135\" /><rect class=\"square light d5\" fill=\"#ffce9e\" height=\"45\" stroke=\"none\" width=\"45\" x=\"135\" y=\"135\" /><rect class=\"square dark e5\" fill=\"#d18b47\" height=\"45\" stroke=\"none\" width=\"45\" x=\"180\" y=\"135\" /><rect class=\"square light f5\" fill=\"#ffce9e\" height=\"45\" stroke=\"none\" width=\"45\" x=\"225\" y=\"135\" /><rect class=\"square dark g5\" fill=\"#d18b47\" height=\"45\" stroke=\"none\" width=\"45\" x=\"270\" y=\"135\" /><rect class=\"square light h5\" fill=\"#ffce9e\" height=\"45\" stroke=\"none\" width=\"45\" x=\"315\" y=\"135\" /><rect class=\"square light a6\" fill=\"#ffce9e\" height=\"45\" stroke=\"none\" width=\"45\" x=\"0\" y=\"90\" /><rect class=\"square dark b6\" fill=\"#d18b47\" height=\"45\" stroke=\"none\" width=\"45\" x=\"45\" y=\"90\" /><rect class=\"square light c6\" fill=\"#ffce9e\" height=\"45\" stroke=\"none\" width=\"45\" x=\"90\" y=\"90\" /><rect class=\"square dark d6\" fill=\"#d18b47\" height=\"45\" stroke=\"none\" width=\"45\" x=\"135\" y=\"90\" /><rect class=\"square light e6\" fill=\"#ffce9e\" height=\"45\" stroke=\"none\" width=\"45\" x=\"180\" y=\"90\" /><rect class=\"square dark f6\" fill=\"#d18b47\" height=\"45\" stroke=\"none\" width=\"45\" x=\"225\" y=\"90\" /><rect class=\"square light g6\" fill=\"#ffce9e\" height=\"45\" stroke=\"none\" width=\"45\" x=\"270\" y=\"90\" /><rect class=\"square dark h6\" fill=\"#d18b47\" height=\"45\" stroke=\"none\" width=\"45\" x=\"315\" y=\"90\" /><rect class=\"square dark a7\" fill=\"#d18b47\" height=\"45\" stroke=\"none\" width=\"45\" x=\"0\" y=\"45\" /><rect class=\"square light b7\" fill=\"#ffce9e\" height=\"45\" stroke=\"none\" width=\"45\" x=\"45\" y=\"45\" /><rect class=\"square dark c7\" fill=\"#d18b47\" height=\"45\" stroke=\"none\" width=\"45\" x=\"90\" y=\"45\" /><rect class=\"square light d7\" fill=\"#ffce9e\" height=\"45\" stroke=\"none\" width=\"45\" x=\"135\" y=\"45\" /><rect class=\"square dark e7\" fill=\"#d18b47\" height=\"45\" stroke=\"none\" width=\"45\" x=\"180\" y=\"45\" /><rect class=\"square light f7\" fill=\"#ffce9e\" height=\"45\" stroke=\"none\" width=\"45\" x=\"225\" y=\"45\" /><rect class=\"square dark g7\" fill=\"#d18b47\" height=\"45\" stroke=\"none\" width=\"45\" x=\"270\" y=\"45\" /><rect class=\"square light h7\" fill=\"#ffce9e\" height=\"45\" stroke=\"none\" width=\"45\" x=\"315\" y=\"45\" /><rect class=\"square light a8\" fill=\"#ffce9e\" height=\"45\" stroke=\"none\" width=\"45\" x=\"0\" y=\"0\" /><rect class=\"square dark b8\" fill=\"#d18b47\" height=\"45\" stroke=\"none\" width=\"45\" x=\"45\" y=\"0\" /><rect class=\"square light c8\" fill=\"#ffce9e\" height=\"45\" stroke=\"none\" width=\"45\" x=\"90\" y=\"0\" /><rect class=\"square dark d8\" fill=\"#d18b47\" height=\"45\" stroke=\"none\" width=\"45\" x=\"135\" y=\"0\" /><use transform=\"translate(135, 0)\" xlink:href=\"#white-bishop\" /><rect class=\"square light e8\" fill=\"#ffce9e\" height=\"45\" stroke=\"none\" width=\"45\" x=\"180\" y=\"0\" /><use transform=\"translate(180, 0)\" xlink:href=\"#white-queen\" /><rect class=\"square dark f8\" fill=\"#d18b47\" height=\"45\" stroke=\"none\" width=\"45\" x=\"225\" y=\"0\" /><use transform=\"translate(225, 0)\" xlink:href=\"#white-queen\" /><rect class=\"square light g8\" fill=\"#ffce9e\" height=\"45\" stroke=\"none\" width=\"45\" x=\"270\" y=\"0\" /><use transform=\"translate(270, 0)\" xlink:href=\"#white-queen\" /><rect class=\"square dark h8\" fill=\"#d18b47\" height=\"45\" stroke=\"none\" width=\"45\" x=\"315\" y=\"0\" /><use transform=\"translate(315, 0)\" xlink:href=\"#white-queen\" /><circle class=\"circle\" cx=\"67.5\" cy=\"337.5\" fill=\"none\" opacity=\"0.5\" r=\"20.25\" stroke=\"red\" stroke-width=\"4.5\" /><circle class=\"circle\" cx=\"112.5\" cy=\"337.5\" fill=\"none\" opacity=\"0.5\" r=\"20.25\" stroke=\"red\" stroke-width=\"4.5\" /><circle class=\"circle\" cx=\"157.5\" cy=\"337.5\" fill=\"none\" opacity=\"0.5\" r=\"20.25\" stroke=\"red\" stroke-width=\"4.5\" /><circle class=\"circle\" cx=\"112.5\" cy=\"292.5\" fill=\"none\" opacity=\"0.5\" r=\"20.25\" stroke=\"red\" stroke-width=\"4.5\" /><circle class=\"circle\" cx=\"157.5\" cy=\"292.5\" fill=\"none\" opacity=\"0.5\" r=\"20.25\" stroke=\"red\" stroke-width=\"4.5\" /><circle class=\"circle\" cx=\"157.5\" cy=\"247.5\" fill=\"none\" opacity=\"0.5\" r=\"20.25\" stroke=\"red\" stroke-width=\"4.5\" /><circle class=\"circle\" cx=\"22.5\" cy=\"112.5\" fill=\"none\" opacity=\"0.5\" r=\"20.25\" stroke=\"red\" stroke-width=\"4.5\" /><circle class=\"circle\" cx=\"22.5\" cy=\"67.5\" fill=\"none\" opacity=\"0.5\" r=\"20.25\" stroke=\"red\" stroke-width=\"4.5\" /><circle class=\"circle\" cx=\"67.5\" cy=\"67.5\" fill=\"none\" opacity=\"0.5\" r=\"20.25\" stroke=\"red\" stroke-width=\"4.5\" /><circle class=\"circle\" cx=\"22.5\" cy=\"22.5\" fill=\"none\" opacity=\"0.5\" r=\"20.25\" stroke=\"red\" stroke-width=\"4.5\" /><circle class=\"circle\" cx=\"67.5\" cy=\"22.5\" fill=\"none\" opacity=\"0.5\" r=\"20.25\" stroke=\"red\" stroke-width=\"4.5\" /><circle class=\"circle\" cx=\"112.5\" cy=\"22.5\" fill=\"none\" opacity=\"0.5\" r=\"20.25\" stroke=\"red\" stroke-width=\"4.5\" /></svg>"
      ],
      "text/plain": [
       "'<svg version=\"1.1\" viewBox=\"0 0 360 360\" xmlns=\"http://www.w3.org/2000/svg\" xmlns:xlink=\"http://www.w3.org/1999/xlink\"><style>\\n.square.light {\\nfill: #cacaca;\\n}\\n.square.dark {\\nfill: #898989;\\n}\\n#xx {\\nfill: blue;\\nstroke: red;\\n}\\n.square.light.lastmove {\\nfill: #c3d889;\\n}\\n.square.dark.lastmove {\\nfill: #92b167;\\n}\\n.check {\\nfill: url(#check_gradient);\\n}\\n.arrow {\\nstroke: #ff5858;\\nfill: blue;\\n}\\n.mark {\\nstroke: #959fff;\\nfill: blue;\\n}\\n</style><defs><g class=\"white bishop\" fill=\"none\" fill-rule=\"evenodd\" id=\"white-bishop\" stroke=\"#000\" stroke-linecap=\"round\" stroke-linejoin=\"round\" stroke-width=\"1.5\"><g fill=\"#fff\" stroke-linecap=\"butt\"><path d=\"M9 36c3.39-.97 10.11.43 13.5-2 3.39 2.43 10.11 1.03 13.5 2 0 0 1.65.54 3 2-.68.97-1.65.99-3 .5-3.39-.97-10.11.46-13.5-1-3.39 1.46-10.11.03-13.5 1-1.354.49-2.323.47-3-.5 1.354-1.94 3-2 3-2zM15 32c2.5 2.5 12.5 2.5 15 0 .5-1.5 0-2 0-2 0-2.5-2.5-4-2.5-4 5.5-1.5 6-11.5-5-15.5-11 4-10.5 14-5 15.5 0 0-2.5 1.5-2.5 4 0 0-.5.5 0 2zM25 8a2.5 2.5 0 1 1-5 0 2.5 2.5 0 1 1 5 0z\" /></g><path d=\"M17.5 26h10M15 30h15m-7.5-14.5v5M20 18h5\" stroke-linejoin=\"miter\" /></g><g class=\"white queen\" fill=\"#fff\" fill-rule=\"evenodd\" id=\"white-queen\" stroke=\"#000\" stroke-linecap=\"round\" stroke-linejoin=\"round\" stroke-width=\"1.5\"><path d=\"M8 12a2 2 0 1 1-4 0 2 2 0 1 1 4 0zM24.5 7.5a2 2 0 1 1-4 0 2 2 0 1 1 4 0zM41 12a2 2 0 1 1-4 0 2 2 0 1 1 4 0zM16 8.5a2 2 0 1 1-4 0 2 2 0 1 1 4 0zM33 9a2 2 0 1 1-4 0 2 2 0 1 1 4 0z\" /><path d=\"M9 26c8.5-1.5 21-1.5 27 0l2-12-7 11V11l-5.5 13.5-3-15-3 15-5.5-14V25L7 14l2 12zM9 26c0 2 1.5 2 2.5 4 1 1.5 1 1 .5 3.5-1.5 1-1.5 2.5-1.5 2.5-1.5 1.5.5 2.5.5 2.5 6.5 1 16.5 1 23 0 0 0 1.5-1 0-2.5 0 0 .5-1.5-1-2.5-.5-2.5-.5-2 .5-3.5 1-2 2.5-2 2.5-4-8.5-1.5-18.5-1.5-27 0z\" stroke-linecap=\"butt\" /><path d=\"M11.5 30c3.5-1 18.5-1 22 0M12 33.5c6-1 15-1 21 0\" fill=\"none\" /></g></defs><rect class=\"square dark a1\" fill=\"#d18b47\" height=\"45\" stroke=\"none\" width=\"45\" x=\"0\" y=\"315\" /><rect class=\"square light b1\" fill=\"#ffce9e\" height=\"45\" stroke=\"none\" width=\"45\" x=\"45\" y=\"315\" /><rect class=\"square dark c1\" fill=\"#d18b47\" height=\"45\" stroke=\"none\" width=\"45\" x=\"90\" y=\"315\" /><rect class=\"square light d1\" fill=\"#ffce9e\" height=\"45\" stroke=\"none\" width=\"45\" x=\"135\" y=\"315\" /><rect class=\"square dark e1\" fill=\"#d18b47\" height=\"45\" stroke=\"none\" width=\"45\" x=\"180\" y=\"315\" /><rect class=\"square light f1\" fill=\"#ffce9e\" height=\"45\" stroke=\"none\" width=\"45\" x=\"225\" y=\"315\" /><rect class=\"square dark g1\" fill=\"#d18b47\" height=\"45\" stroke=\"none\" width=\"45\" x=\"270\" y=\"315\" /><rect class=\"square light h1\" fill=\"#ffce9e\" height=\"45\" stroke=\"none\" width=\"45\" x=\"315\" y=\"315\" /><rect class=\"square light a2\" fill=\"#ffce9e\" height=\"45\" stroke=\"none\" width=\"45\" x=\"0\" y=\"270\" /><rect class=\"square dark b2\" fill=\"#d18b47\" height=\"45\" stroke=\"none\" width=\"45\" x=\"45\" y=\"270\" /><rect class=\"square light c2\" fill=\"#ffce9e\" height=\"45\" stroke=\"none\" width=\"45\" x=\"90\" y=\"270\" /><rect class=\"square dark d2\" fill=\"#d18b47\" height=\"45\" stroke=\"none\" width=\"45\" x=\"135\" y=\"270\" /><rect class=\"square light e2\" fill=\"#ffce9e\" height=\"45\" stroke=\"none\" width=\"45\" x=\"180\" y=\"270\" /><rect class=\"square dark f2\" fill=\"#d18b47\" height=\"45\" stroke=\"none\" width=\"45\" x=\"225\" y=\"270\" /><rect class=\"square light g2\" fill=\"#ffce9e\" height=\"45\" stroke=\"none\" width=\"45\" x=\"270\" y=\"270\" /><rect class=\"square dark h2\" fill=\"#d18b47\" height=\"45\" stroke=\"none\" width=\"45\" x=\"315\" y=\"270\" /><rect class=\"square dark a3\" fill=\"#d18b47\" height=\"45\" stroke=\"none\" width=\"45\" x=\"0\" y=\"225\" /><rect class=\"square light b3\" fill=\"#ffce9e\" height=\"45\" stroke=\"none\" width=\"45\" x=\"45\" y=\"225\" /><rect class=\"square dark c3\" fill=\"#d18b47\" height=\"45\" stroke=\"none\" width=\"45\" x=\"90\" y=\"225\" /><rect class=\"square light d3\" fill=\"#ffce9e\" height=\"45\" stroke=\"none\" width=\"45\" x=\"135\" y=\"225\" /><rect class=\"square dark e3\" fill=\"#d18b47\" height=\"45\" stroke=\"none\" width=\"45\" x=\"180\" y=\"225\" /><rect class=\"square light f3\" fill=\"#ffce9e\" height=\"45\" stroke=\"none\" width=\"45\" x=\"225\" y=\"225\" /><rect class=\"square dark g3\" fill=\"#d18b47\" height=\"45\" stroke=\"none\" width=\"45\" x=\"270\" y=\"225\" /><rect class=\"square light h3\" fill=\"#ffce9e\" height=\"45\" stroke=\"none\" width=\"45\" x=\"315\" y=\"225\" /><rect class=\"square light a4\" fill=\"#ffce9e\" height=\"45\" stroke=\"none\" width=\"45\" x=\"0\" y=\"180\" /><rect class=\"square dark b4\" fill=\"#d18b47\" height=\"45\" stroke=\"none\" width=\"45\" x=\"45\" y=\"180\" /><rect class=\"square light c4\" fill=\"#ffce9e\" height=\"45\" stroke=\"none\" width=\"45\" x=\"90\" y=\"180\" /><rect class=\"square dark d4\" fill=\"#d18b47\" height=\"45\" stroke=\"none\" width=\"45\" x=\"135\" y=\"180\" /><rect class=\"square light e4\" fill=\"#ffce9e\" height=\"45\" stroke=\"none\" width=\"45\" x=\"180\" y=\"180\" /><rect class=\"square dark f4\" fill=\"#d18b47\" height=\"45\" stroke=\"none\" width=\"45\" x=\"225\" y=\"180\" /><rect class=\"square light g4\" fill=\"#ffce9e\" height=\"45\" stroke=\"none\" width=\"45\" x=\"270\" y=\"180\" /><rect class=\"square dark h4\" fill=\"#d18b47\" height=\"45\" stroke=\"none\" width=\"45\" x=\"315\" y=\"180\" /><rect class=\"square dark a5\" fill=\"#d18b47\" height=\"45\" stroke=\"none\" width=\"45\" x=\"0\" y=\"135\" /><rect class=\"square light b5\" fill=\"#ffce9e\" height=\"45\" stroke=\"none\" width=\"45\" x=\"45\" y=\"135\" /><rect class=\"square dark c5\" fill=\"#d18b47\" height=\"45\" stroke=\"none\" width=\"45\" x=\"90\" y=\"135\" /><rect class=\"square light d5\" fill=\"#ffce9e\" height=\"45\" stroke=\"none\" width=\"45\" x=\"135\" y=\"135\" /><rect class=\"square dark e5\" fill=\"#d18b47\" height=\"45\" stroke=\"none\" width=\"45\" x=\"180\" y=\"135\" /><rect class=\"square light f5\" fill=\"#ffce9e\" height=\"45\" stroke=\"none\" width=\"45\" x=\"225\" y=\"135\" /><rect class=\"square dark g5\" fill=\"#d18b47\" height=\"45\" stroke=\"none\" width=\"45\" x=\"270\" y=\"135\" /><rect class=\"square light h5\" fill=\"#ffce9e\" height=\"45\" stroke=\"none\" width=\"45\" x=\"315\" y=\"135\" /><rect class=\"square light a6\" fill=\"#ffce9e\" height=\"45\" stroke=\"none\" width=\"45\" x=\"0\" y=\"90\" /><rect class=\"square dark b6\" fill=\"#d18b47\" height=\"45\" stroke=\"none\" width=\"45\" x=\"45\" y=\"90\" /><rect class=\"square light c6\" fill=\"#ffce9e\" height=\"45\" stroke=\"none\" width=\"45\" x=\"90\" y=\"90\" /><rect class=\"square dark d6\" fill=\"#d18b47\" height=\"45\" stroke=\"none\" width=\"45\" x=\"135\" y=\"90\" /><rect class=\"square light e6\" fill=\"#ffce9e\" height=\"45\" stroke=\"none\" width=\"45\" x=\"180\" y=\"90\" /><rect class=\"square dark f6\" fill=\"#d18b47\" height=\"45\" stroke=\"none\" width=\"45\" x=\"225\" y=\"90\" /><rect class=\"square light g6\" fill=\"#ffce9e\" height=\"45\" stroke=\"none\" width=\"45\" x=\"270\" y=\"90\" /><rect class=\"square dark h6\" fill=\"#d18b47\" height=\"45\" stroke=\"none\" width=\"45\" x=\"315\" y=\"90\" /><rect class=\"square dark a7\" fill=\"#d18b47\" height=\"45\" stroke=\"none\" width=\"45\" x=\"0\" y=\"45\" /><rect class=\"square light b7\" fill=\"#ffce9e\" height=\"45\" stroke=\"none\" width=\"45\" x=\"45\" y=\"45\" /><rect class=\"square dark c7\" fill=\"#d18b47\" height=\"45\" stroke=\"none\" width=\"45\" x=\"90\" y=\"45\" /><rect class=\"square light d7\" fill=\"#ffce9e\" height=\"45\" stroke=\"none\" width=\"45\" x=\"135\" y=\"45\" /><rect class=\"square dark e7\" fill=\"#d18b47\" height=\"45\" stroke=\"none\" width=\"45\" x=\"180\" y=\"45\" /><rect class=\"square light f7\" fill=\"#ffce9e\" height=\"45\" stroke=\"none\" width=\"45\" x=\"225\" y=\"45\" /><rect class=\"square dark g7\" fill=\"#d18b47\" height=\"45\" stroke=\"none\" width=\"45\" x=\"270\" y=\"45\" /><rect class=\"square light h7\" fill=\"#ffce9e\" height=\"45\" stroke=\"none\" width=\"45\" x=\"315\" y=\"45\" /><rect class=\"square light a8\" fill=\"#ffce9e\" height=\"45\" stroke=\"none\" width=\"45\" x=\"0\" y=\"0\" /><rect class=\"square dark b8\" fill=\"#d18b47\" height=\"45\" stroke=\"none\" width=\"45\" x=\"45\" y=\"0\" /><rect class=\"square light c8\" fill=\"#ffce9e\" height=\"45\" stroke=\"none\" width=\"45\" x=\"90\" y=\"0\" /><rect class=\"square dark d8\" fill=\"#d18b47\" height=\"45\" stroke=\"none\" width=\"45\" x=\"135\" y=\"0\" /><use transform=\"translate(135, 0)\" xlink:href=\"#white-bishop\" /><rect class=\"square light e8\" fill=\"#ffce9e\" height=\"45\" stroke=\"none\" width=\"45\" x=\"180\" y=\"0\" /><use transform=\"translate(180, 0)\" xlink:href=\"#white-queen\" /><rect class=\"square dark f8\" fill=\"#d18b47\" height=\"45\" stroke=\"none\" width=\"45\" x=\"225\" y=\"0\" /><use transform=\"translate(225, 0)\" xlink:href=\"#white-queen\" /><rect class=\"square light g8\" fill=\"#ffce9e\" height=\"45\" stroke=\"none\" width=\"45\" x=\"270\" y=\"0\" /><use transform=\"translate(270, 0)\" xlink:href=\"#white-queen\" /><rect class=\"square dark h8\" fill=\"#d18b47\" height=\"45\" stroke=\"none\" width=\"45\" x=\"315\" y=\"0\" /><use transform=\"translate(315, 0)\" xlink:href=\"#white-queen\" /><circle class=\"circle\" cx=\"67.5\" cy=\"337.5\" fill=\"none\" opacity=\"0.5\" r=\"20.25\" stroke=\"red\" stroke-width=\"4.5\" /><circle class=\"circle\" cx=\"112.5\" cy=\"337.5\" fill=\"none\" opacity=\"0.5\" r=\"20.25\" stroke=\"red\" stroke-width=\"4.5\" /><circle class=\"circle\" cx=\"157.5\" cy=\"337.5\" fill=\"none\" opacity=\"0.5\" r=\"20.25\" stroke=\"red\" stroke-width=\"4.5\" /><circle class=\"circle\" cx=\"112.5\" cy=\"292.5\" fill=\"none\" opacity=\"0.5\" r=\"20.25\" stroke=\"red\" stroke-width=\"4.5\" /><circle class=\"circle\" cx=\"157.5\" cy=\"292.5\" fill=\"none\" opacity=\"0.5\" r=\"20.25\" stroke=\"red\" stroke-width=\"4.5\" /><circle class=\"circle\" cx=\"157.5\" cy=\"247.5\" fill=\"none\" opacity=\"0.5\" r=\"20.25\" stroke=\"red\" stroke-width=\"4.5\" /><circle class=\"circle\" cx=\"22.5\" cy=\"112.5\" fill=\"none\" opacity=\"0.5\" r=\"20.25\" stroke=\"red\" stroke-width=\"4.5\" /><circle class=\"circle\" cx=\"22.5\" cy=\"67.5\" fill=\"none\" opacity=\"0.5\" r=\"20.25\" stroke=\"red\" stroke-width=\"4.5\" /><circle class=\"circle\" cx=\"67.5\" cy=\"67.5\" fill=\"none\" opacity=\"0.5\" r=\"20.25\" stroke=\"red\" stroke-width=\"4.5\" /><circle class=\"circle\" cx=\"22.5\" cy=\"22.5\" fill=\"none\" opacity=\"0.5\" r=\"20.25\" stroke=\"red\" stroke-width=\"4.5\" /><circle class=\"circle\" cx=\"67.5\" cy=\"22.5\" fill=\"none\" opacity=\"0.5\" r=\"20.25\" stroke=\"red\" stroke-width=\"4.5\" /><circle class=\"circle\" cx=\"112.5\" cy=\"22.5\" fill=\"none\" opacity=\"0.5\" r=\"20.25\" stroke=\"red\" stroke-width=\"4.5\" /></svg>'"
      ]
     },
     "execution_count": 17,
     "metadata": {},
     "output_type": "execute_result"
    }
   ],
   "source": [
    "import chess\n",
    "import chess.svg\n",
    "\n",
    "def nbcases_covered(cmb):\n",
    "    squares = []\n",
    "    for q in range(0, 4):\n",
    "        squares = squares + squares_covered_byqueen(cmb[q], cmb) # TODO\n",
    "    bischop_case = cmb[4]\n",
    "    squares = squares + squares_covered_bybishop(bischop_case, cmb) # TODO\n",
    "    return len(set(squares))\n",
    "\n",
    "def display_chessboard(cmb):\n",
    "    board = chess.Board() \n",
    "    board.clear_board()\n",
    "    \n",
    "    for q in range(0, 4):\n",
    "        board.set_piece_at(cmb[q], chess.Piece(chess.QUEEN, color=True))\n",
    "    board.set_piece_at(cmb[4], chess.Piece(chess.BISHOP, color=True))\n",
    "    squares = []\n",
    "    for q in range(0, 4):\n",
    "        squares = squares + list(board.attacks(cmb[q]))\n",
    "    squares = set(squares + list(board.attacks(cmb[4])))\n",
    "    for q in range(0, 5):\n",
    "        if cmb[q] in squares:\n",
    "            squares.remove(cmb[q])\n",
    "    circles = [chess.svg.Arrow(i, i, color=\"red\") for i in range(0, 63) if i not in squares and i not in cmb]\n",
    "    # https://python-chess.readthedocs.io/en/latest/svg.html\n",
    "    # squares=chess.SquareSet(squares), \n",
    "    return chess.svg.board(board=board, arrows=circles, coordinates=False, style='''\n",
    ".square.light {\n",
    "fill: #cacaca;\n",
    "}\n",
    ".square.dark {\n",
    "fill: #898989;\n",
    "}\n",
    "#xx {\n",
    "fill: blue;\n",
    "stroke: red;\n",
    "}\n",
    ".square.light.lastmove {\n",
    "fill: #c3d889;\n",
    "}\n",
    ".square.dark.lastmove {\n",
    "fill: #92b167;\n",
    "}\n",
    ".check {\n",
    "fill: url(#check_gradient);\n",
    "}\n",
    ".arrow {\n",
    "stroke: #ff5858;\n",
    "fill: blue;\n",
    "}\n",
    ".mark {\n",
    "stroke: #959fff;\n",
    "fill: blue;\n",
    "}\n",
    "''')  # doctest: +SKIP\n",
    "    # return chess.svg.board(board=board)  # doctest: +SKIP\n",
    "\n",
    "#recorded_solutions_percases = {}\n",
    "#ntries = 0\n",
    "#for cmb in gen_combinations():\n",
    "#    n = nbcases_covered(cmb)\n",
    "#    recorded_solutions_percases[n] = cmb\n",
    "#    ntries = ntries + 1\n",
    "    # if (n >= 64): # the solution(s)\n",
    "    # if n <= 42: # sounds incredible\n",
    "#    if ntries == 10000000: # monitor a bit \n",
    "#        print(\"alive!\")\n",
    "#        print(cmb, \"=>\", n, ntries)\n",
    "\n",
    "display_chessboard(cmb)\n"
   ]
  },
  {
   "cell_type": "code",
   "execution_count": 18,
   "metadata": {},
   "outputs": [
    {
     "name": "stdout",
     "output_type": "stream",
     "text": [
      "40\n"
     ]
    },
    {
     "data": {
      "image/svg+xml": [
       "<svg version=\"1.1\" viewBox=\"0 0 360 360\" xmlns=\"http://www.w3.org/2000/svg\" xmlns:xlink=\"http://www.w3.org/1999/xlink\"><style>\n",
       ".square.light {\n",
       "fill: #cacaca;\n",
       "}\n",
       ".square.dark {\n",
       "fill: #898989;\n",
       "}\n",
       "#xx {\n",
       "fill: blue;\n",
       "stroke: red;\n",
       "}\n",
       ".square.light.lastmove {\n",
       "fill: #c3d889;\n",
       "}\n",
       ".square.dark.lastmove {\n",
       "fill: #92b167;\n",
       "}\n",
       ".check {\n",
       "fill: url(#check_gradient);\n",
       "}\n",
       ".arrow {\n",
       "stroke: #ff5858;\n",
       "fill: blue;\n",
       "}\n",
       ".mark {\n",
       "stroke: #959fff;\n",
       "fill: blue;\n",
       "}\n",
       "</style><defs><g class=\"white bishop\" fill=\"none\" fill-rule=\"evenodd\" id=\"white-bishop\" stroke=\"#000\" stroke-linecap=\"round\" stroke-linejoin=\"round\" stroke-width=\"1.5\"><g fill=\"#fff\" stroke-linecap=\"butt\"><path d=\"M9 36c3.39-.97 10.11.43 13.5-2 3.39 2.43 10.11 1.03 13.5 2 0 0 1.65.54 3 2-.68.97-1.65.99-3 .5-3.39-.97-10.11.46-13.5-1-3.39 1.46-10.11.03-13.5 1-1.354.49-2.323.47-3-.5 1.354-1.94 3-2 3-2zM15 32c2.5 2.5 12.5 2.5 15 0 .5-1.5 0-2 0-2 0-2.5-2.5-4-2.5-4 5.5-1.5 6-11.5-5-15.5-11 4-10.5 14-5 15.5 0 0-2.5 1.5-2.5 4 0 0-.5.5 0 2zM25 8a2.5 2.5 0 1 1-5 0 2.5 2.5 0 1 1 5 0z\"/></g><path d=\"M17.5 26h10M15 30h15m-7.5-14.5v5M20 18h5\" stroke-linejoin=\"miter\"/></g><g class=\"white queen\" fill=\"#fff\" fill-rule=\"evenodd\" id=\"white-queen\" stroke=\"#000\" stroke-linecap=\"round\" stroke-linejoin=\"round\" stroke-width=\"1.5\"><path d=\"M8 12a2 2 0 1 1-4 0 2 2 0 1 1 4 0zM24.5 7.5a2 2 0 1 1-4 0 2 2 0 1 1 4 0zM41 12a2 2 0 1 1-4 0 2 2 0 1 1 4 0zM16 8.5a2 2 0 1 1-4 0 2 2 0 1 1 4 0zM33 9a2 2 0 1 1-4 0 2 2 0 1 1 4 0z\"/><path d=\"M9 26c8.5-1.5 21-1.5 27 0l2-12-7 11V11l-5.5 13.5-3-15-3 15-5.5-14V25L7 14l2 12zM9 26c0 2 1.5 2 2.5 4 1 1.5 1 1 .5 3.5-1.5 1-1.5 2.5-1.5 2.5-1.5 1.5.5 2.5.5 2.5 6.5 1 16.5 1 23 0 0 0 1.5-1 0-2.5 0 0 .5-1.5-1-2.5-.5-2.5-.5-2 .5-3.5 1-2 2.5-2 2.5-4-8.5-1.5-18.5-1.5-27 0z\" stroke-linecap=\"butt\"/><path d=\"M11.5 30c3.5-1 18.5-1 22 0M12 33.5c6-1 15-1 21 0\" fill=\"none\"/></g></defs><rect class=\"square dark a1\" fill=\"#d18b47\" height=\"45\" stroke=\"none\" width=\"45\" x=\"0\" y=\"315\"/><use transform=\"translate(0, 315)\" xlink:href=\"#white-queen\"/><rect class=\"square light b1\" fill=\"#ffce9e\" height=\"45\" stroke=\"none\" width=\"45\" x=\"45\" y=\"315\"/><rect class=\"square dark c1\" fill=\"#d18b47\" height=\"45\" stroke=\"none\" width=\"45\" x=\"90\" y=\"315\"/><rect class=\"square light d1\" fill=\"#ffce9e\" height=\"45\" stroke=\"none\" width=\"45\" x=\"135\" y=\"315\"/><rect class=\"square dark e1\" fill=\"#d18b47\" height=\"45\" stroke=\"none\" width=\"45\" x=\"180\" y=\"315\"/><rect class=\"square light f1\" fill=\"#ffce9e\" height=\"45\" stroke=\"none\" width=\"45\" x=\"225\" y=\"315\"/><rect class=\"square dark g1\" fill=\"#d18b47\" height=\"45\" stroke=\"none\" width=\"45\" x=\"270\" y=\"315\"/><rect class=\"square light h1\" fill=\"#ffce9e\" height=\"45\" stroke=\"none\" width=\"45\" x=\"315\" y=\"315\"/><use transform=\"translate(315, 315)\" xlink:href=\"#white-queen\"/><rect class=\"square light a2\" fill=\"#ffce9e\" height=\"45\" stroke=\"none\" width=\"45\" x=\"0\" y=\"270\"/><rect class=\"square dark b2\" fill=\"#d18b47\" height=\"45\" stroke=\"none\" width=\"45\" x=\"45\" y=\"270\"/><rect class=\"square light c2\" fill=\"#ffce9e\" height=\"45\" stroke=\"none\" width=\"45\" x=\"90\" y=\"270\"/><rect class=\"square dark d2\" fill=\"#d18b47\" height=\"45\" stroke=\"none\" width=\"45\" x=\"135\" y=\"270\"/><rect class=\"square light e2\" fill=\"#ffce9e\" height=\"45\" stroke=\"none\" width=\"45\" x=\"180\" y=\"270\"/><rect class=\"square dark f2\" fill=\"#d18b47\" height=\"45\" stroke=\"none\" width=\"45\" x=\"225\" y=\"270\"/><rect class=\"square light g2\" fill=\"#ffce9e\" height=\"45\" stroke=\"none\" width=\"45\" x=\"270\" y=\"270\"/><rect class=\"square dark h2\" fill=\"#d18b47\" height=\"45\" stroke=\"none\" width=\"45\" x=\"315\" y=\"270\"/><rect class=\"square dark a3\" fill=\"#d18b47\" height=\"45\" stroke=\"none\" width=\"45\" x=\"0\" y=\"225\"/><rect class=\"square light b3\" fill=\"#ffce9e\" height=\"45\" stroke=\"none\" width=\"45\" x=\"45\" y=\"225\"/><rect class=\"square dark c3\" fill=\"#d18b47\" height=\"45\" stroke=\"none\" width=\"45\" x=\"90\" y=\"225\"/><rect class=\"square light d3\" fill=\"#ffce9e\" height=\"45\" stroke=\"none\" width=\"45\" x=\"135\" y=\"225\"/><rect class=\"square dark e3\" fill=\"#d18b47\" height=\"45\" stroke=\"none\" width=\"45\" x=\"180\" y=\"225\"/><rect class=\"square light f3\" fill=\"#ffce9e\" height=\"45\" stroke=\"none\" width=\"45\" x=\"225\" y=\"225\"/><rect class=\"square dark g3\" fill=\"#d18b47\" height=\"45\" stroke=\"none\" width=\"45\" x=\"270\" y=\"225\"/><rect class=\"square light h3\" fill=\"#ffce9e\" height=\"45\" stroke=\"none\" width=\"45\" x=\"315\" y=\"225\"/><rect class=\"square light a4\" fill=\"#ffce9e\" height=\"45\" stroke=\"none\" width=\"45\" x=\"0\" y=\"180\"/><rect class=\"square dark b4\" fill=\"#d18b47\" height=\"45\" stroke=\"none\" width=\"45\" x=\"45\" y=\"180\"/><rect class=\"square light c4\" fill=\"#ffce9e\" height=\"45\" stroke=\"none\" width=\"45\" x=\"90\" y=\"180\"/><rect class=\"square dark d4\" fill=\"#d18b47\" height=\"45\" stroke=\"none\" width=\"45\" x=\"135\" y=\"180\"/><rect class=\"square light e4\" fill=\"#ffce9e\" height=\"45\" stroke=\"none\" width=\"45\" x=\"180\" y=\"180\"/><rect class=\"square dark f4\" fill=\"#d18b47\" height=\"45\" stroke=\"none\" width=\"45\" x=\"225\" y=\"180\"/><rect class=\"square light g4\" fill=\"#ffce9e\" height=\"45\" stroke=\"none\" width=\"45\" x=\"270\" y=\"180\"/><rect class=\"square dark h4\" fill=\"#d18b47\" height=\"45\" stroke=\"none\" width=\"45\" x=\"315\" y=\"180\"/><rect class=\"square dark a5\" fill=\"#d18b47\" height=\"45\" stroke=\"none\" width=\"45\" x=\"0\" y=\"135\"/><rect class=\"square light b5\" fill=\"#ffce9e\" height=\"45\" stroke=\"none\" width=\"45\" x=\"45\" y=\"135\"/><rect class=\"square dark c5\" fill=\"#d18b47\" height=\"45\" stroke=\"none\" width=\"45\" x=\"90\" y=\"135\"/><rect class=\"square light d5\" fill=\"#ffce9e\" height=\"45\" stroke=\"none\" width=\"45\" x=\"135\" y=\"135\"/><rect class=\"square dark e5\" fill=\"#d18b47\" height=\"45\" stroke=\"none\" width=\"45\" x=\"180\" y=\"135\"/><rect class=\"square light f5\" fill=\"#ffce9e\" height=\"45\" stroke=\"none\" width=\"45\" x=\"225\" y=\"135\"/><rect class=\"square dark g5\" fill=\"#d18b47\" height=\"45\" stroke=\"none\" width=\"45\" x=\"270\" y=\"135\"/><rect class=\"square light h5\" fill=\"#ffce9e\" height=\"45\" stroke=\"none\" width=\"45\" x=\"315\" y=\"135\"/><rect class=\"square light a6\" fill=\"#ffce9e\" height=\"45\" stroke=\"none\" width=\"45\" x=\"0\" y=\"90\"/><rect class=\"square dark b6\" fill=\"#d18b47\" height=\"45\" stroke=\"none\" width=\"45\" x=\"45\" y=\"90\"/><rect class=\"square light c6\" fill=\"#ffce9e\" height=\"45\" stroke=\"none\" width=\"45\" x=\"90\" y=\"90\"/><rect class=\"square dark d6\" fill=\"#d18b47\" height=\"45\" stroke=\"none\" width=\"45\" x=\"135\" y=\"90\"/><rect class=\"square light e6\" fill=\"#ffce9e\" height=\"45\" stroke=\"none\" width=\"45\" x=\"180\" y=\"90\"/><rect class=\"square dark f6\" fill=\"#d18b47\" height=\"45\" stroke=\"none\" width=\"45\" x=\"225\" y=\"90\"/><rect class=\"square light g6\" fill=\"#ffce9e\" height=\"45\" stroke=\"none\" width=\"45\" x=\"270\" y=\"90\"/><rect class=\"square dark h6\" fill=\"#d18b47\" height=\"45\" stroke=\"none\" width=\"45\" x=\"315\" y=\"90\"/><rect class=\"square dark a7\" fill=\"#d18b47\" height=\"45\" stroke=\"none\" width=\"45\" x=\"0\" y=\"45\"/><rect class=\"square light b7\" fill=\"#ffce9e\" height=\"45\" stroke=\"none\" width=\"45\" x=\"45\" y=\"45\"/><rect class=\"square dark c7\" fill=\"#d18b47\" height=\"45\" stroke=\"none\" width=\"45\" x=\"90\" y=\"45\"/><rect class=\"square light d7\" fill=\"#ffce9e\" height=\"45\" stroke=\"none\" width=\"45\" x=\"135\" y=\"45\"/><rect class=\"square dark e7\" fill=\"#d18b47\" height=\"45\" stroke=\"none\" width=\"45\" x=\"180\" y=\"45\"/><rect class=\"square light f7\" fill=\"#ffce9e\" height=\"45\" stroke=\"none\" width=\"45\" x=\"225\" y=\"45\"/><rect class=\"square dark g7\" fill=\"#d18b47\" height=\"45\" stroke=\"none\" width=\"45\" x=\"270\" y=\"45\"/><use transform=\"translate(270, 45)\" xlink:href=\"#white-bishop\"/><rect class=\"square light h7\" fill=\"#ffce9e\" height=\"45\" stroke=\"none\" width=\"45\" x=\"315\" y=\"45\"/><rect class=\"square light a8\" fill=\"#ffce9e\" height=\"45\" stroke=\"none\" width=\"45\" x=\"0\" y=\"0\"/><use transform=\"translate(0, 0)\" xlink:href=\"#white-queen\"/><rect class=\"square dark b8\" fill=\"#d18b47\" height=\"45\" stroke=\"none\" width=\"45\" x=\"45\" y=\"0\"/><rect class=\"square light c8\" fill=\"#ffce9e\" height=\"45\" stroke=\"none\" width=\"45\" x=\"90\" y=\"0\"/><rect class=\"square dark d8\" fill=\"#d18b47\" height=\"45\" stroke=\"none\" width=\"45\" x=\"135\" y=\"0\"/><rect class=\"square light e8\" fill=\"#ffce9e\" height=\"45\" stroke=\"none\" width=\"45\" x=\"180\" y=\"0\"/><rect class=\"square dark f8\" fill=\"#d18b47\" height=\"45\" stroke=\"none\" width=\"45\" x=\"225\" y=\"0\"/><rect class=\"square light g8\" fill=\"#ffce9e\" height=\"45\" stroke=\"none\" width=\"45\" x=\"270\" y=\"0\"/><rect class=\"square dark h8\" fill=\"#d18b47\" height=\"45\" stroke=\"none\" width=\"45\" x=\"315\" y=\"0\"/><use transform=\"translate(315, 0)\" xlink:href=\"#white-queen\"/><circle class=\"circle\" cx=\"112.5\" cy=\"292.5\" fill=\"none\" opacity=\"0.5\" r=\"20.25\" stroke=\"red\" stroke-width=\"4.5\"/><circle class=\"circle\" cx=\"157.5\" cy=\"292.5\" fill=\"none\" opacity=\"0.5\" r=\"20.25\" stroke=\"red\" stroke-width=\"4.5\"/><circle class=\"circle\" cx=\"202.5\" cy=\"292.5\" fill=\"none\" opacity=\"0.5\" r=\"20.25\" stroke=\"red\" stroke-width=\"4.5\"/><circle class=\"circle\" cx=\"247.5\" cy=\"292.5\" fill=\"none\" opacity=\"0.5\" r=\"20.25\" stroke=\"red\" stroke-width=\"4.5\"/><circle class=\"circle\" cx=\"67.5\" cy=\"247.5\" fill=\"none\" opacity=\"0.5\" r=\"20.25\" stroke=\"red\" stroke-width=\"4.5\"/><circle class=\"circle\" cx=\"157.5\" cy=\"247.5\" fill=\"none\" opacity=\"0.5\" r=\"20.25\" stroke=\"red\" stroke-width=\"4.5\"/><circle class=\"circle\" cx=\"202.5\" cy=\"247.5\" fill=\"none\" opacity=\"0.5\" r=\"20.25\" stroke=\"red\" stroke-width=\"4.5\"/><circle class=\"circle\" cx=\"292.5\" cy=\"247.5\" fill=\"none\" opacity=\"0.5\" r=\"20.25\" stroke=\"red\" stroke-width=\"4.5\"/><circle class=\"circle\" cx=\"67.5\" cy=\"202.5\" fill=\"none\" opacity=\"0.5\" r=\"20.25\" stroke=\"red\" stroke-width=\"4.5\"/><circle class=\"circle\" cx=\"112.5\" cy=\"202.5\" fill=\"none\" opacity=\"0.5\" r=\"20.25\" stroke=\"red\" stroke-width=\"4.5\"/><circle class=\"circle\" cx=\"247.5\" cy=\"202.5\" fill=\"none\" opacity=\"0.5\" r=\"20.25\" stroke=\"red\" stroke-width=\"4.5\"/><circle class=\"circle\" cx=\"292.5\" cy=\"202.5\" fill=\"none\" opacity=\"0.5\" r=\"20.25\" stroke=\"red\" stroke-width=\"4.5\"/><circle class=\"circle\" cx=\"67.5\" cy=\"157.5\" fill=\"none\" opacity=\"0.5\" r=\"20.25\" stroke=\"red\" stroke-width=\"4.5\"/><circle class=\"circle\" cx=\"112.5\" cy=\"157.5\" fill=\"none\" opacity=\"0.5\" r=\"20.25\" stroke=\"red\" stroke-width=\"4.5\"/><circle class=\"circle\" cx=\"247.5\" cy=\"157.5\" fill=\"none\" opacity=\"0.5\" r=\"20.25\" stroke=\"red\" stroke-width=\"4.5\"/><circle class=\"circle\" cx=\"292.5\" cy=\"157.5\" fill=\"none\" opacity=\"0.5\" r=\"20.25\" stroke=\"red\" stroke-width=\"4.5\"/><circle class=\"circle\" cx=\"67.5\" cy=\"112.5\" fill=\"none\" opacity=\"0.5\" r=\"20.25\" stroke=\"red\" stroke-width=\"4.5\"/><circle class=\"circle\" cx=\"157.5\" cy=\"112.5\" fill=\"none\" opacity=\"0.5\" r=\"20.25\" stroke=\"red\" stroke-width=\"4.5\"/><circle class=\"circle\" cx=\"202.5\" cy=\"112.5\" fill=\"none\" opacity=\"0.5\" r=\"20.25\" stroke=\"red\" stroke-width=\"4.5\"/><circle class=\"circle\" cx=\"292.5\" cy=\"112.5\" fill=\"none\" opacity=\"0.5\" r=\"20.25\" stroke=\"red\" stroke-width=\"4.5\"/><circle class=\"circle\" cx=\"112.5\" cy=\"67.5\" fill=\"none\" opacity=\"0.5\" r=\"20.25\" stroke=\"red\" stroke-width=\"4.5\"/><circle class=\"circle\" cx=\"157.5\" cy=\"67.5\" fill=\"none\" opacity=\"0.5\" r=\"20.25\" stroke=\"red\" stroke-width=\"4.5\"/><circle class=\"circle\" cx=\"202.5\" cy=\"67.5\" fill=\"none\" opacity=\"0.5\" r=\"20.25\" stroke=\"red\" stroke-width=\"4.5\"/><circle class=\"circle\" cx=\"247.5\" cy=\"67.5\" fill=\"none\" opacity=\"0.5\" r=\"20.25\" stroke=\"red\" stroke-width=\"4.5\"/></svg>"
      ],
      "text/plain": [
       "<IPython.core.display.SVG object>"
      ]
     },
     "metadata": {},
     "output_type": "display_data"
    },
    {
     "name": "stdout",
     "output_type": "stream",
     "text": [
      "42\n"
     ]
    },
    {
     "data": {
      "image/svg+xml": [
       "<svg version=\"1.1\" viewBox=\"0 0 360 360\" xmlns=\"http://www.w3.org/2000/svg\" xmlns:xlink=\"http://www.w3.org/1999/xlink\"><style>\n",
       ".square.light {\n",
       "fill: #cacaca;\n",
       "}\n",
       ".square.dark {\n",
       "fill: #898989;\n",
       "}\n",
       "#xx {\n",
       "fill: blue;\n",
       "stroke: red;\n",
       "}\n",
       ".square.light.lastmove {\n",
       "fill: #c3d889;\n",
       "}\n",
       ".square.dark.lastmove {\n",
       "fill: #92b167;\n",
       "}\n",
       ".check {\n",
       "fill: url(#check_gradient);\n",
       "}\n",
       ".arrow {\n",
       "stroke: #ff5858;\n",
       "fill: blue;\n",
       "}\n",
       ".mark {\n",
       "stroke: #959fff;\n",
       "fill: blue;\n",
       "}\n",
       "</style><defs><g class=\"white bishop\" fill=\"none\" fill-rule=\"evenodd\" id=\"white-bishop\" stroke=\"#000\" stroke-linecap=\"round\" stroke-linejoin=\"round\" stroke-width=\"1.5\"><g fill=\"#fff\" stroke-linecap=\"butt\"><path d=\"M9 36c3.39-.97 10.11.43 13.5-2 3.39 2.43 10.11 1.03 13.5 2 0 0 1.65.54 3 2-.68.97-1.65.99-3 .5-3.39-.97-10.11.46-13.5-1-3.39 1.46-10.11.03-13.5 1-1.354.49-2.323.47-3-.5 1.354-1.94 3-2 3-2zM15 32c2.5 2.5 12.5 2.5 15 0 .5-1.5 0-2 0-2 0-2.5-2.5-4-2.5-4 5.5-1.5 6-11.5-5-15.5-11 4-10.5 14-5 15.5 0 0-2.5 1.5-2.5 4 0 0-.5.5 0 2zM25 8a2.5 2.5 0 1 1-5 0 2.5 2.5 0 1 1 5 0z\"/></g><path d=\"M17.5 26h10M15 30h15m-7.5-14.5v5M20 18h5\" stroke-linejoin=\"miter\"/></g><g class=\"white queen\" fill=\"#fff\" fill-rule=\"evenodd\" id=\"white-queen\" stroke=\"#000\" stroke-linecap=\"round\" stroke-linejoin=\"round\" stroke-width=\"1.5\"><path d=\"M8 12a2 2 0 1 1-4 0 2 2 0 1 1 4 0zM24.5 7.5a2 2 0 1 1-4 0 2 2 0 1 1 4 0zM41 12a2 2 0 1 1-4 0 2 2 0 1 1 4 0zM16 8.5a2 2 0 1 1-4 0 2 2 0 1 1 4 0zM33 9a2 2 0 1 1-4 0 2 2 0 1 1 4 0z\"/><path d=\"M9 26c8.5-1.5 21-1.5 27 0l2-12-7 11V11l-5.5 13.5-3-15-3 15-5.5-14V25L7 14l2 12zM9 26c0 2 1.5 2 2.5 4 1 1.5 1 1 .5 3.5-1.5 1-1.5 2.5-1.5 2.5-1.5 1.5.5 2.5.5 2.5 6.5 1 16.5 1 23 0 0 0 1.5-1 0-2.5 0 0 .5-1.5-1-2.5-.5-2.5-.5-2 .5-3.5 1-2 2.5-2 2.5-4-8.5-1.5-18.5-1.5-27 0z\" stroke-linecap=\"butt\"/><path d=\"M11.5 30c3.5-1 18.5-1 22 0M12 33.5c6-1 15-1 21 0\" fill=\"none\"/></g></defs><rect class=\"square dark a1\" fill=\"#d18b47\" height=\"45\" stroke=\"none\" width=\"45\" x=\"0\" y=\"315\"/><rect class=\"square light b1\" fill=\"#ffce9e\" height=\"45\" stroke=\"none\" width=\"45\" x=\"45\" y=\"315\"/><rect class=\"square dark c1\" fill=\"#d18b47\" height=\"45\" stroke=\"none\" width=\"45\" x=\"90\" y=\"315\"/><rect class=\"square light d1\" fill=\"#ffce9e\" height=\"45\" stroke=\"none\" width=\"45\" x=\"135\" y=\"315\"/><rect class=\"square dark e1\" fill=\"#d18b47\" height=\"45\" stroke=\"none\" width=\"45\" x=\"180\" y=\"315\"/><rect class=\"square light f1\" fill=\"#ffce9e\" height=\"45\" stroke=\"none\" width=\"45\" x=\"225\" y=\"315\"/><rect class=\"square dark g1\" fill=\"#d18b47\" height=\"45\" stroke=\"none\" width=\"45\" x=\"270\" y=\"315\"/><rect class=\"square light h1\" fill=\"#ffce9e\" height=\"45\" stroke=\"none\" width=\"45\" x=\"315\" y=\"315\"/><rect class=\"square light a2\" fill=\"#ffce9e\" height=\"45\" stroke=\"none\" width=\"45\" x=\"0\" y=\"270\"/><rect class=\"square dark b2\" fill=\"#d18b47\" height=\"45\" stroke=\"none\" width=\"45\" x=\"45\" y=\"270\"/><rect class=\"square light c2\" fill=\"#ffce9e\" height=\"45\" stroke=\"none\" width=\"45\" x=\"90\" y=\"270\"/><rect class=\"square dark d2\" fill=\"#d18b47\" height=\"45\" stroke=\"none\" width=\"45\" x=\"135\" y=\"270\"/><rect class=\"square light e2\" fill=\"#ffce9e\" height=\"45\" stroke=\"none\" width=\"45\" x=\"180\" y=\"270\"/><rect class=\"square dark f2\" fill=\"#d18b47\" height=\"45\" stroke=\"none\" width=\"45\" x=\"225\" y=\"270\"/><rect class=\"square light g2\" fill=\"#ffce9e\" height=\"45\" stroke=\"none\" width=\"45\" x=\"270\" y=\"270\"/><rect class=\"square dark h2\" fill=\"#d18b47\" height=\"45\" stroke=\"none\" width=\"45\" x=\"315\" y=\"270\"/><rect class=\"square dark a3\" fill=\"#d18b47\" height=\"45\" stroke=\"none\" width=\"45\" x=\"0\" y=\"225\"/><rect class=\"square light b3\" fill=\"#ffce9e\" height=\"45\" stroke=\"none\" width=\"45\" x=\"45\" y=\"225\"/><rect class=\"square dark c3\" fill=\"#d18b47\" height=\"45\" stroke=\"none\" width=\"45\" x=\"90\" y=\"225\"/><rect class=\"square light d3\" fill=\"#ffce9e\" height=\"45\" stroke=\"none\" width=\"45\" x=\"135\" y=\"225\"/><rect class=\"square dark e3\" fill=\"#d18b47\" height=\"45\" stroke=\"none\" width=\"45\" x=\"180\" y=\"225\"/><rect class=\"square light f3\" fill=\"#ffce9e\" height=\"45\" stroke=\"none\" width=\"45\" x=\"225\" y=\"225\"/><rect class=\"square dark g3\" fill=\"#d18b47\" height=\"45\" stroke=\"none\" width=\"45\" x=\"270\" y=\"225\"/><rect class=\"square light h3\" fill=\"#ffce9e\" height=\"45\" stroke=\"none\" width=\"45\" x=\"315\" y=\"225\"/><rect class=\"square light a4\" fill=\"#ffce9e\" height=\"45\" stroke=\"none\" width=\"45\" x=\"0\" y=\"180\"/><rect class=\"square dark b4\" fill=\"#d18b47\" height=\"45\" stroke=\"none\" width=\"45\" x=\"45\" y=\"180\"/><rect class=\"square light c4\" fill=\"#ffce9e\" height=\"45\" stroke=\"none\" width=\"45\" x=\"90\" y=\"180\"/><rect class=\"square dark d4\" fill=\"#d18b47\" height=\"45\" stroke=\"none\" width=\"45\" x=\"135\" y=\"180\"/><rect class=\"square light e4\" fill=\"#ffce9e\" height=\"45\" stroke=\"none\" width=\"45\" x=\"180\" y=\"180\"/><rect class=\"square dark f4\" fill=\"#d18b47\" height=\"45\" stroke=\"none\" width=\"45\" x=\"225\" y=\"180\"/><rect class=\"square light g4\" fill=\"#ffce9e\" height=\"45\" stroke=\"none\" width=\"45\" x=\"270\" y=\"180\"/><rect class=\"square dark h4\" fill=\"#d18b47\" height=\"45\" stroke=\"none\" width=\"45\" x=\"315\" y=\"180\"/><rect class=\"square dark a5\" fill=\"#d18b47\" height=\"45\" stroke=\"none\" width=\"45\" x=\"0\" y=\"135\"/><rect class=\"square light b5\" fill=\"#ffce9e\" height=\"45\" stroke=\"none\" width=\"45\" x=\"45\" y=\"135\"/><rect class=\"square dark c5\" fill=\"#d18b47\" height=\"45\" stroke=\"none\" width=\"45\" x=\"90\" y=\"135\"/><rect class=\"square light d5\" fill=\"#ffce9e\" height=\"45\" stroke=\"none\" width=\"45\" x=\"135\" y=\"135\"/><rect class=\"square dark e5\" fill=\"#d18b47\" height=\"45\" stroke=\"none\" width=\"45\" x=\"180\" y=\"135\"/><rect class=\"square light f5\" fill=\"#ffce9e\" height=\"45\" stroke=\"none\" width=\"45\" x=\"225\" y=\"135\"/><rect class=\"square dark g5\" fill=\"#d18b47\" height=\"45\" stroke=\"none\" width=\"45\" x=\"270\" y=\"135\"/><rect class=\"square light h5\" fill=\"#ffce9e\" height=\"45\" stroke=\"none\" width=\"45\" x=\"315\" y=\"135\"/><rect class=\"square light a6\" fill=\"#ffce9e\" height=\"45\" stroke=\"none\" width=\"45\" x=\"0\" y=\"90\"/><rect class=\"square dark b6\" fill=\"#d18b47\" height=\"45\" stroke=\"none\" width=\"45\" x=\"45\" y=\"90\"/><rect class=\"square light c6\" fill=\"#ffce9e\" height=\"45\" stroke=\"none\" width=\"45\" x=\"90\" y=\"90\"/><rect class=\"square dark d6\" fill=\"#d18b47\" height=\"45\" stroke=\"none\" width=\"45\" x=\"135\" y=\"90\"/><rect class=\"square light e6\" fill=\"#ffce9e\" height=\"45\" stroke=\"none\" width=\"45\" x=\"180\" y=\"90\"/><rect class=\"square dark f6\" fill=\"#d18b47\" height=\"45\" stroke=\"none\" width=\"45\" x=\"225\" y=\"90\"/><use transform=\"translate(225, 90)\" xlink:href=\"#white-queen\"/><rect class=\"square light g6\" fill=\"#ffce9e\" height=\"45\" stroke=\"none\" width=\"45\" x=\"270\" y=\"90\"/><rect class=\"square dark h6\" fill=\"#d18b47\" height=\"45\" stroke=\"none\" width=\"45\" x=\"315\" y=\"90\"/><use transform=\"translate(315, 90)\" xlink:href=\"#white-queen\"/><rect class=\"square dark a7\" fill=\"#d18b47\" height=\"45\" stroke=\"none\" width=\"45\" x=\"0\" y=\"45\"/><rect class=\"square light b7\" fill=\"#ffce9e\" height=\"45\" stroke=\"none\" width=\"45\" x=\"45\" y=\"45\"/><rect class=\"square dark c7\" fill=\"#d18b47\" height=\"45\" stroke=\"none\" width=\"45\" x=\"90\" y=\"45\"/><rect class=\"square light d7\" fill=\"#ffce9e\" height=\"45\" stroke=\"none\" width=\"45\" x=\"135\" y=\"45\"/><rect class=\"square dark e7\" fill=\"#d18b47\" height=\"45\" stroke=\"none\" width=\"45\" x=\"180\" y=\"45\"/><rect class=\"square light f7\" fill=\"#ffce9e\" height=\"45\" stroke=\"none\" width=\"45\" x=\"225\" y=\"45\"/><rect class=\"square dark g7\" fill=\"#d18b47\" height=\"45\" stroke=\"none\" width=\"45\" x=\"270\" y=\"45\"/><use transform=\"translate(270, 45)\" xlink:href=\"#white-bishop\"/><rect class=\"square light h7\" fill=\"#ffce9e\" height=\"45\" stroke=\"none\" width=\"45\" x=\"315\" y=\"45\"/><rect class=\"square light a8\" fill=\"#ffce9e\" height=\"45\" stroke=\"none\" width=\"45\" x=\"0\" y=\"0\"/><rect class=\"square dark b8\" fill=\"#d18b47\" height=\"45\" stroke=\"none\" width=\"45\" x=\"45\" y=\"0\"/><rect class=\"square light c8\" fill=\"#ffce9e\" height=\"45\" stroke=\"none\" width=\"45\" x=\"90\" y=\"0\"/><rect class=\"square dark d8\" fill=\"#d18b47\" height=\"45\" stroke=\"none\" width=\"45\" x=\"135\" y=\"0\"/><rect class=\"square light e8\" fill=\"#ffce9e\" height=\"45\" stroke=\"none\" width=\"45\" x=\"180\" y=\"0\"/><rect class=\"square dark f8\" fill=\"#d18b47\" height=\"45\" stroke=\"none\" width=\"45\" x=\"225\" y=\"0\"/><use transform=\"translate(225, 0)\" xlink:href=\"#white-queen\"/><rect class=\"square light g8\" fill=\"#ffce9e\" height=\"45\" stroke=\"none\" width=\"45\" x=\"270\" y=\"0\"/><rect class=\"square dark h8\" fill=\"#d18b47\" height=\"45\" stroke=\"none\" width=\"45\" x=\"315\" y=\"0\"/><use transform=\"translate(315, 0)\" xlink:href=\"#white-queen\"/><circle class=\"circle\" cx=\"67.5\" cy=\"337.5\" fill=\"none\" opacity=\"0.5\" r=\"20.25\" stroke=\"red\" stroke-width=\"4.5\"/><circle class=\"circle\" cx=\"157.5\" cy=\"337.5\" fill=\"none\" opacity=\"0.5\" r=\"20.25\" stroke=\"red\" stroke-width=\"4.5\"/><circle class=\"circle\" cx=\"202.5\" cy=\"337.5\" fill=\"none\" opacity=\"0.5\" r=\"20.25\" stroke=\"red\" stroke-width=\"4.5\"/><circle class=\"circle\" cx=\"292.5\" cy=\"337.5\" fill=\"none\" opacity=\"0.5\" r=\"20.25\" stroke=\"red\" stroke-width=\"4.5\"/><circle class=\"circle\" cx=\"22.5\" cy=\"292.5\" fill=\"none\" opacity=\"0.5\" r=\"20.25\" stroke=\"red\" stroke-width=\"4.5\"/><circle class=\"circle\" cx=\"112.5\" cy=\"292.5\" fill=\"none\" opacity=\"0.5\" r=\"20.25\" stroke=\"red\" stroke-width=\"4.5\"/><circle class=\"circle\" cx=\"202.5\" cy=\"292.5\" fill=\"none\" opacity=\"0.5\" r=\"20.25\" stroke=\"red\" stroke-width=\"4.5\"/><circle class=\"circle\" cx=\"292.5\" cy=\"292.5\" fill=\"none\" opacity=\"0.5\" r=\"20.25\" stroke=\"red\" stroke-width=\"4.5\"/><circle class=\"circle\" cx=\"67.5\" cy=\"247.5\" fill=\"none\" opacity=\"0.5\" r=\"20.25\" stroke=\"red\" stroke-width=\"4.5\"/><circle class=\"circle\" cx=\"157.5\" cy=\"247.5\" fill=\"none\" opacity=\"0.5\" r=\"20.25\" stroke=\"red\" stroke-width=\"4.5\"/><circle class=\"circle\" cx=\"292.5\" cy=\"247.5\" fill=\"none\" opacity=\"0.5\" r=\"20.25\" stroke=\"red\" stroke-width=\"4.5\"/><circle class=\"circle\" cx=\"22.5\" cy=\"202.5\" fill=\"none\" opacity=\"0.5\" r=\"20.25\" stroke=\"red\" stroke-width=\"4.5\"/><circle class=\"circle\" cx=\"112.5\" cy=\"202.5\" fill=\"none\" opacity=\"0.5\" r=\"20.25\" stroke=\"red\" stroke-width=\"4.5\"/><circle class=\"circle\" cx=\"202.5\" cy=\"202.5\" fill=\"none\" opacity=\"0.5\" r=\"20.25\" stroke=\"red\" stroke-width=\"4.5\"/><circle class=\"circle\" cx=\"292.5\" cy=\"202.5\" fill=\"none\" opacity=\"0.5\" r=\"20.25\" stroke=\"red\" stroke-width=\"4.5\"/><circle class=\"circle\" cx=\"22.5\" cy=\"157.5\" fill=\"none\" opacity=\"0.5\" r=\"20.25\" stroke=\"red\" stroke-width=\"4.5\"/><circle class=\"circle\" cx=\"67.5\" cy=\"157.5\" fill=\"none\" opacity=\"0.5\" r=\"20.25\" stroke=\"red\" stroke-width=\"4.5\"/><circle class=\"circle\" cx=\"157.5\" cy=\"157.5\" fill=\"none\" opacity=\"0.5\" r=\"20.25\" stroke=\"red\" stroke-width=\"4.5\"/><circle class=\"circle\" cx=\"22.5\" cy=\"67.5\" fill=\"none\" opacity=\"0.5\" r=\"20.25\" stroke=\"red\" stroke-width=\"4.5\"/><circle class=\"circle\" cx=\"67.5\" cy=\"67.5\" fill=\"none\" opacity=\"0.5\" r=\"20.25\" stroke=\"red\" stroke-width=\"4.5\"/><circle class=\"circle\" cx=\"112.5\" cy=\"67.5\" fill=\"none\" opacity=\"0.5\" r=\"20.25\" stroke=\"red\" stroke-width=\"4.5\"/><circle class=\"circle\" cx=\"157.5\" cy=\"67.5\" fill=\"none\" opacity=\"0.5\" r=\"20.25\" stroke=\"red\" stroke-width=\"4.5\"/></svg>"
      ],
      "text/plain": [
       "<IPython.core.display.SVG object>"
      ]
     },
     "metadata": {},
     "output_type": "display_data"
    },
    {
     "name": "stdout",
     "output_type": "stream",
     "text": [
      "43\n"
     ]
    },
    {
     "data": {
      "image/svg+xml": [
       "<svg version=\"1.1\" viewBox=\"0 0 360 360\" xmlns=\"http://www.w3.org/2000/svg\" xmlns:xlink=\"http://www.w3.org/1999/xlink\"><style>\n",
       ".square.light {\n",
       "fill: #cacaca;\n",
       "}\n",
       ".square.dark {\n",
       "fill: #898989;\n",
       "}\n",
       "#xx {\n",
       "fill: blue;\n",
       "stroke: red;\n",
       "}\n",
       ".square.light.lastmove {\n",
       "fill: #c3d889;\n",
       "}\n",
       ".square.dark.lastmove {\n",
       "fill: #92b167;\n",
       "}\n",
       ".check {\n",
       "fill: url(#check_gradient);\n",
       "}\n",
       ".arrow {\n",
       "stroke: #ff5858;\n",
       "fill: blue;\n",
       "}\n",
       ".mark {\n",
       "stroke: #959fff;\n",
       "fill: blue;\n",
       "}\n",
       "</style><defs><g class=\"white bishop\" fill=\"none\" fill-rule=\"evenodd\" id=\"white-bishop\" stroke=\"#000\" stroke-linecap=\"round\" stroke-linejoin=\"round\" stroke-width=\"1.5\"><g fill=\"#fff\" stroke-linecap=\"butt\"><path d=\"M9 36c3.39-.97 10.11.43 13.5-2 3.39 2.43 10.11 1.03 13.5 2 0 0 1.65.54 3 2-.68.97-1.65.99-3 .5-3.39-.97-10.11.46-13.5-1-3.39 1.46-10.11.03-13.5 1-1.354.49-2.323.47-3-.5 1.354-1.94 3-2 3-2zM15 32c2.5 2.5 12.5 2.5 15 0 .5-1.5 0-2 0-2 0-2.5-2.5-4-2.5-4 5.5-1.5 6-11.5-5-15.5-11 4-10.5 14-5 15.5 0 0-2.5 1.5-2.5 4 0 0-.5.5 0 2zM25 8a2.5 2.5 0 1 1-5 0 2.5 2.5 0 1 1 5 0z\"/></g><path d=\"M17.5 26h10M15 30h15m-7.5-14.5v5M20 18h5\" stroke-linejoin=\"miter\"/></g><g class=\"white queen\" fill=\"#fff\" fill-rule=\"evenodd\" id=\"white-queen\" stroke=\"#000\" stroke-linecap=\"round\" stroke-linejoin=\"round\" stroke-width=\"1.5\"><path d=\"M8 12a2 2 0 1 1-4 0 2 2 0 1 1 4 0zM24.5 7.5a2 2 0 1 1-4 0 2 2 0 1 1 4 0zM41 12a2 2 0 1 1-4 0 2 2 0 1 1 4 0zM16 8.5a2 2 0 1 1-4 0 2 2 0 1 1 4 0zM33 9a2 2 0 1 1-4 0 2 2 0 1 1 4 0z\"/><path d=\"M9 26c8.5-1.5 21-1.5 27 0l2-12-7 11V11l-5.5 13.5-3-15-3 15-5.5-14V25L7 14l2 12zM9 26c0 2 1.5 2 2.5 4 1 1.5 1 1 .5 3.5-1.5 1-1.5 2.5-1.5 2.5-1.5 1.5.5 2.5.5 2.5 6.5 1 16.5 1 23 0 0 0 1.5-1 0-2.5 0 0 .5-1.5-1-2.5-.5-2.5-.5-2 .5-3.5 1-2 2.5-2 2.5-4-8.5-1.5-18.5-1.5-27 0z\" stroke-linecap=\"butt\"/><path d=\"M11.5 30c3.5-1 18.5-1 22 0M12 33.5c6-1 15-1 21 0\" fill=\"none\"/></g></defs><rect class=\"square dark a1\" fill=\"#d18b47\" height=\"45\" stroke=\"none\" width=\"45\" x=\"0\" y=\"315\"/><rect class=\"square light b1\" fill=\"#ffce9e\" height=\"45\" stroke=\"none\" width=\"45\" x=\"45\" y=\"315\"/><rect class=\"square dark c1\" fill=\"#d18b47\" height=\"45\" stroke=\"none\" width=\"45\" x=\"90\" y=\"315\"/><rect class=\"square light d1\" fill=\"#ffce9e\" height=\"45\" stroke=\"none\" width=\"45\" x=\"135\" y=\"315\"/><rect class=\"square dark e1\" fill=\"#d18b47\" height=\"45\" stroke=\"none\" width=\"45\" x=\"180\" y=\"315\"/><rect class=\"square light f1\" fill=\"#ffce9e\" height=\"45\" stroke=\"none\" width=\"45\" x=\"225\" y=\"315\"/><rect class=\"square dark g1\" fill=\"#d18b47\" height=\"45\" stroke=\"none\" width=\"45\" x=\"270\" y=\"315\"/><rect class=\"square light h1\" fill=\"#ffce9e\" height=\"45\" stroke=\"none\" width=\"45\" x=\"315\" y=\"315\"/><rect class=\"square light a2\" fill=\"#ffce9e\" height=\"45\" stroke=\"none\" width=\"45\" x=\"0\" y=\"270\"/><rect class=\"square dark b2\" fill=\"#d18b47\" height=\"45\" stroke=\"none\" width=\"45\" x=\"45\" y=\"270\"/><rect class=\"square light c2\" fill=\"#ffce9e\" height=\"45\" stroke=\"none\" width=\"45\" x=\"90\" y=\"270\"/><rect class=\"square dark d2\" fill=\"#d18b47\" height=\"45\" stroke=\"none\" width=\"45\" x=\"135\" y=\"270\"/><rect class=\"square light e2\" fill=\"#ffce9e\" height=\"45\" stroke=\"none\" width=\"45\" x=\"180\" y=\"270\"/><rect class=\"square dark f2\" fill=\"#d18b47\" height=\"45\" stroke=\"none\" width=\"45\" x=\"225\" y=\"270\"/><rect class=\"square light g2\" fill=\"#ffce9e\" height=\"45\" stroke=\"none\" width=\"45\" x=\"270\" y=\"270\"/><rect class=\"square dark h2\" fill=\"#d18b47\" height=\"45\" stroke=\"none\" width=\"45\" x=\"315\" y=\"270\"/><rect class=\"square dark a3\" fill=\"#d18b47\" height=\"45\" stroke=\"none\" width=\"45\" x=\"0\" y=\"225\"/><rect class=\"square light b3\" fill=\"#ffce9e\" height=\"45\" stroke=\"none\" width=\"45\" x=\"45\" y=\"225\"/><rect class=\"square dark c3\" fill=\"#d18b47\" height=\"45\" stroke=\"none\" width=\"45\" x=\"90\" y=\"225\"/><rect class=\"square light d3\" fill=\"#ffce9e\" height=\"45\" stroke=\"none\" width=\"45\" x=\"135\" y=\"225\"/><rect class=\"square dark e3\" fill=\"#d18b47\" height=\"45\" stroke=\"none\" width=\"45\" x=\"180\" y=\"225\"/><rect class=\"square light f3\" fill=\"#ffce9e\" height=\"45\" stroke=\"none\" width=\"45\" x=\"225\" y=\"225\"/><rect class=\"square dark g3\" fill=\"#d18b47\" height=\"45\" stroke=\"none\" width=\"45\" x=\"270\" y=\"225\"/><rect class=\"square light h3\" fill=\"#ffce9e\" height=\"45\" stroke=\"none\" width=\"45\" x=\"315\" y=\"225\"/><rect class=\"square light a4\" fill=\"#ffce9e\" height=\"45\" stroke=\"none\" width=\"45\" x=\"0\" y=\"180\"/><rect class=\"square dark b4\" fill=\"#d18b47\" height=\"45\" stroke=\"none\" width=\"45\" x=\"45\" y=\"180\"/><rect class=\"square light c4\" fill=\"#ffce9e\" height=\"45\" stroke=\"none\" width=\"45\" x=\"90\" y=\"180\"/><rect class=\"square dark d4\" fill=\"#d18b47\" height=\"45\" stroke=\"none\" width=\"45\" x=\"135\" y=\"180\"/><rect class=\"square light e4\" fill=\"#ffce9e\" height=\"45\" stroke=\"none\" width=\"45\" x=\"180\" y=\"180\"/><rect class=\"square dark f4\" fill=\"#d18b47\" height=\"45\" stroke=\"none\" width=\"45\" x=\"225\" y=\"180\"/><rect class=\"square light g4\" fill=\"#ffce9e\" height=\"45\" stroke=\"none\" width=\"45\" x=\"270\" y=\"180\"/><rect class=\"square dark h4\" fill=\"#d18b47\" height=\"45\" stroke=\"none\" width=\"45\" x=\"315\" y=\"180\"/><rect class=\"square dark a5\" fill=\"#d18b47\" height=\"45\" stroke=\"none\" width=\"45\" x=\"0\" y=\"135\"/><rect class=\"square light b5\" fill=\"#ffce9e\" height=\"45\" stroke=\"none\" width=\"45\" x=\"45\" y=\"135\"/><rect class=\"square dark c5\" fill=\"#d18b47\" height=\"45\" stroke=\"none\" width=\"45\" x=\"90\" y=\"135\"/><rect class=\"square light d5\" fill=\"#ffce9e\" height=\"45\" stroke=\"none\" width=\"45\" x=\"135\" y=\"135\"/><rect class=\"square dark e5\" fill=\"#d18b47\" height=\"45\" stroke=\"none\" width=\"45\" x=\"180\" y=\"135\"/><rect class=\"square light f5\" fill=\"#ffce9e\" height=\"45\" stroke=\"none\" width=\"45\" x=\"225\" y=\"135\"/><rect class=\"square dark g5\" fill=\"#d18b47\" height=\"45\" stroke=\"none\" width=\"45\" x=\"270\" y=\"135\"/><rect class=\"square light h5\" fill=\"#ffce9e\" height=\"45\" stroke=\"none\" width=\"45\" x=\"315\" y=\"135\"/><rect class=\"square light a6\" fill=\"#ffce9e\" height=\"45\" stroke=\"none\" width=\"45\" x=\"0\" y=\"90\"/><rect class=\"square dark b6\" fill=\"#d18b47\" height=\"45\" stroke=\"none\" width=\"45\" x=\"45\" y=\"90\"/><rect class=\"square light c6\" fill=\"#ffce9e\" height=\"45\" stroke=\"none\" width=\"45\" x=\"90\" y=\"90\"/><rect class=\"square dark d6\" fill=\"#d18b47\" height=\"45\" stroke=\"none\" width=\"45\" x=\"135\" y=\"90\"/><rect class=\"square light e6\" fill=\"#ffce9e\" height=\"45\" stroke=\"none\" width=\"45\" x=\"180\" y=\"90\"/><rect class=\"square dark f6\" fill=\"#d18b47\" height=\"45\" stroke=\"none\" width=\"45\" x=\"225\" y=\"90\"/><use transform=\"translate(225, 90)\" xlink:href=\"#white-queen\"/><rect class=\"square light g6\" fill=\"#ffce9e\" height=\"45\" stroke=\"none\" width=\"45\" x=\"270\" y=\"90\"/><rect class=\"square dark h6\" fill=\"#d18b47\" height=\"45\" stroke=\"none\" width=\"45\" x=\"315\" y=\"90\"/><use transform=\"translate(315, 90)\" xlink:href=\"#white-queen\"/><rect class=\"square dark a7\" fill=\"#d18b47\" height=\"45\" stroke=\"none\" width=\"45\" x=\"0\" y=\"45\"/><use transform=\"translate(0, 45)\" xlink:href=\"#white-bishop\"/><rect class=\"square light b7\" fill=\"#ffce9e\" height=\"45\" stroke=\"none\" width=\"45\" x=\"45\" y=\"45\"/><rect class=\"square dark c7\" fill=\"#d18b47\" height=\"45\" stroke=\"none\" width=\"45\" x=\"90\" y=\"45\"/><rect class=\"square light d7\" fill=\"#ffce9e\" height=\"45\" stroke=\"none\" width=\"45\" x=\"135\" y=\"45\"/><rect class=\"square dark e7\" fill=\"#d18b47\" height=\"45\" stroke=\"none\" width=\"45\" x=\"180\" y=\"45\"/><rect class=\"square light f7\" fill=\"#ffce9e\" height=\"45\" stroke=\"none\" width=\"45\" x=\"225\" y=\"45\"/><rect class=\"square dark g7\" fill=\"#d18b47\" height=\"45\" stroke=\"none\" width=\"45\" x=\"270\" y=\"45\"/><rect class=\"square light h7\" fill=\"#ffce9e\" height=\"45\" stroke=\"none\" width=\"45\" x=\"315\" y=\"45\"/><rect class=\"square light a8\" fill=\"#ffce9e\" height=\"45\" stroke=\"none\" width=\"45\" x=\"0\" y=\"0\"/><rect class=\"square dark b8\" fill=\"#d18b47\" height=\"45\" stroke=\"none\" width=\"45\" x=\"45\" y=\"0\"/><rect class=\"square light c8\" fill=\"#ffce9e\" height=\"45\" stroke=\"none\" width=\"45\" x=\"90\" y=\"0\"/><rect class=\"square dark d8\" fill=\"#d18b47\" height=\"45\" stroke=\"none\" width=\"45\" x=\"135\" y=\"0\"/><rect class=\"square light e8\" fill=\"#ffce9e\" height=\"45\" stroke=\"none\" width=\"45\" x=\"180\" y=\"0\"/><rect class=\"square dark f8\" fill=\"#d18b47\" height=\"45\" stroke=\"none\" width=\"45\" x=\"225\" y=\"0\"/><use transform=\"translate(225, 0)\" xlink:href=\"#white-queen\"/><rect class=\"square light g8\" fill=\"#ffce9e\" height=\"45\" stroke=\"none\" width=\"45\" x=\"270\" y=\"0\"/><rect class=\"square dark h8\" fill=\"#d18b47\" height=\"45\" stroke=\"none\" width=\"45\" x=\"315\" y=\"0\"/><use transform=\"translate(315, 0)\" xlink:href=\"#white-queen\"/><circle class=\"circle\" cx=\"67.5\" cy=\"337.5\" fill=\"none\" opacity=\"0.5\" r=\"20.25\" stroke=\"red\" stroke-width=\"4.5\"/><circle class=\"circle\" cx=\"157.5\" cy=\"337.5\" fill=\"none\" opacity=\"0.5\" r=\"20.25\" stroke=\"red\" stroke-width=\"4.5\"/><circle class=\"circle\" cx=\"202.5\" cy=\"337.5\" fill=\"none\" opacity=\"0.5\" r=\"20.25\" stroke=\"red\" stroke-width=\"4.5\"/><circle class=\"circle\" cx=\"22.5\" cy=\"292.5\" fill=\"none\" opacity=\"0.5\" r=\"20.25\" stroke=\"red\" stroke-width=\"4.5\"/><circle class=\"circle\" cx=\"112.5\" cy=\"292.5\" fill=\"none\" opacity=\"0.5\" r=\"20.25\" stroke=\"red\" stroke-width=\"4.5\"/><circle class=\"circle\" cx=\"202.5\" cy=\"292.5\" fill=\"none\" opacity=\"0.5\" r=\"20.25\" stroke=\"red\" stroke-width=\"4.5\"/><circle class=\"circle\" cx=\"292.5\" cy=\"292.5\" fill=\"none\" opacity=\"0.5\" r=\"20.25\" stroke=\"red\" stroke-width=\"4.5\"/><circle class=\"circle\" cx=\"67.5\" cy=\"247.5\" fill=\"none\" opacity=\"0.5\" r=\"20.25\" stroke=\"red\" stroke-width=\"4.5\"/><circle class=\"circle\" cx=\"157.5\" cy=\"247.5\" fill=\"none\" opacity=\"0.5\" r=\"20.25\" stroke=\"red\" stroke-width=\"4.5\"/><circle class=\"circle\" cx=\"292.5\" cy=\"247.5\" fill=\"none\" opacity=\"0.5\" r=\"20.25\" stroke=\"red\" stroke-width=\"4.5\"/><circle class=\"circle\" cx=\"22.5\" cy=\"202.5\" fill=\"none\" opacity=\"0.5\" r=\"20.25\" stroke=\"red\" stroke-width=\"4.5\"/><circle class=\"circle\" cx=\"112.5\" cy=\"202.5\" fill=\"none\" opacity=\"0.5\" r=\"20.25\" stroke=\"red\" stroke-width=\"4.5\"/><circle class=\"circle\" cx=\"202.5\" cy=\"202.5\" fill=\"none\" opacity=\"0.5\" r=\"20.25\" stroke=\"red\" stroke-width=\"4.5\"/><circle class=\"circle\" cx=\"292.5\" cy=\"202.5\" fill=\"none\" opacity=\"0.5\" r=\"20.25\" stroke=\"red\" stroke-width=\"4.5\"/><circle class=\"circle\" cx=\"22.5\" cy=\"157.5\" fill=\"none\" opacity=\"0.5\" r=\"20.25\" stroke=\"red\" stroke-width=\"4.5\"/><circle class=\"circle\" cx=\"67.5\" cy=\"157.5\" fill=\"none\" opacity=\"0.5\" r=\"20.25\" stroke=\"red\" stroke-width=\"4.5\"/><circle class=\"circle\" cx=\"157.5\" cy=\"157.5\" fill=\"none\" opacity=\"0.5\" r=\"20.25\" stroke=\"red\" stroke-width=\"4.5\"/><circle class=\"circle\" cx=\"67.5\" cy=\"67.5\" fill=\"none\" opacity=\"0.5\" r=\"20.25\" stroke=\"red\" stroke-width=\"4.5\"/><circle class=\"circle\" cx=\"112.5\" cy=\"67.5\" fill=\"none\" opacity=\"0.5\" r=\"20.25\" stroke=\"red\" stroke-width=\"4.5\"/><circle class=\"circle\" cx=\"157.5\" cy=\"67.5\" fill=\"none\" opacity=\"0.5\" r=\"20.25\" stroke=\"red\" stroke-width=\"4.5\"/></svg>"
      ],
      "text/plain": [
       "<IPython.core.display.SVG object>"
      ]
     },
     "metadata": {},
     "output_type": "display_data"
    },
    {
     "name": "stdout",
     "output_type": "stream",
     "text": [
      "44\n"
     ]
    },
    {
     "data": {
      "image/svg+xml": [
       "<svg version=\"1.1\" viewBox=\"0 0 360 360\" xmlns=\"http://www.w3.org/2000/svg\" xmlns:xlink=\"http://www.w3.org/1999/xlink\"><style>\n",
       ".square.light {\n",
       "fill: #cacaca;\n",
       "}\n",
       ".square.dark {\n",
       "fill: #898989;\n",
       "}\n",
       "#xx {\n",
       "fill: blue;\n",
       "stroke: red;\n",
       "}\n",
       ".square.light.lastmove {\n",
       "fill: #c3d889;\n",
       "}\n",
       ".square.dark.lastmove {\n",
       "fill: #92b167;\n",
       "}\n",
       ".check {\n",
       "fill: url(#check_gradient);\n",
       "}\n",
       ".arrow {\n",
       "stroke: #ff5858;\n",
       "fill: blue;\n",
       "}\n",
       ".mark {\n",
       "stroke: #959fff;\n",
       "fill: blue;\n",
       "}\n",
       "</style><defs><g class=\"white bishop\" fill=\"none\" fill-rule=\"evenodd\" id=\"white-bishop\" stroke=\"#000\" stroke-linecap=\"round\" stroke-linejoin=\"round\" stroke-width=\"1.5\"><g fill=\"#fff\" stroke-linecap=\"butt\"><path d=\"M9 36c3.39-.97 10.11.43 13.5-2 3.39 2.43 10.11 1.03 13.5 2 0 0 1.65.54 3 2-.68.97-1.65.99-3 .5-3.39-.97-10.11.46-13.5-1-3.39 1.46-10.11.03-13.5 1-1.354.49-2.323.47-3-.5 1.354-1.94 3-2 3-2zM15 32c2.5 2.5 12.5 2.5 15 0 .5-1.5 0-2 0-2 0-2.5-2.5-4-2.5-4 5.5-1.5 6-11.5-5-15.5-11 4-10.5 14-5 15.5 0 0-2.5 1.5-2.5 4 0 0-.5.5 0 2zM25 8a2.5 2.5 0 1 1-5 0 2.5 2.5 0 1 1 5 0z\"/></g><path d=\"M17.5 26h10M15 30h15m-7.5-14.5v5M20 18h5\" stroke-linejoin=\"miter\"/></g><g class=\"white queen\" fill=\"#fff\" fill-rule=\"evenodd\" id=\"white-queen\" stroke=\"#000\" stroke-linecap=\"round\" stroke-linejoin=\"round\" stroke-width=\"1.5\"><path d=\"M8 12a2 2 0 1 1-4 0 2 2 0 1 1 4 0zM24.5 7.5a2 2 0 1 1-4 0 2 2 0 1 1 4 0zM41 12a2 2 0 1 1-4 0 2 2 0 1 1 4 0zM16 8.5a2 2 0 1 1-4 0 2 2 0 1 1 4 0zM33 9a2 2 0 1 1-4 0 2 2 0 1 1 4 0z\"/><path d=\"M9 26c8.5-1.5 21-1.5 27 0l2-12-7 11V11l-5.5 13.5-3-15-3 15-5.5-14V25L7 14l2 12zM9 26c0 2 1.5 2 2.5 4 1 1.5 1 1 .5 3.5-1.5 1-1.5 2.5-1.5 2.5-1.5 1.5.5 2.5.5 2.5 6.5 1 16.5 1 23 0 0 0 1.5-1 0-2.5 0 0 .5-1.5-1-2.5-.5-2.5-.5-2 .5-3.5 1-2 2.5-2 2.5-4-8.5-1.5-18.5-1.5-27 0z\" stroke-linecap=\"butt\"/><path d=\"M11.5 30c3.5-1 18.5-1 22 0M12 33.5c6-1 15-1 21 0\" fill=\"none\"/></g></defs><rect class=\"square dark a1\" fill=\"#d18b47\" height=\"45\" stroke=\"none\" width=\"45\" x=\"0\" y=\"315\"/><rect class=\"square light b1\" fill=\"#ffce9e\" height=\"45\" stroke=\"none\" width=\"45\" x=\"45\" y=\"315\"/><rect class=\"square dark c1\" fill=\"#d18b47\" height=\"45\" stroke=\"none\" width=\"45\" x=\"90\" y=\"315\"/><rect class=\"square light d1\" fill=\"#ffce9e\" height=\"45\" stroke=\"none\" width=\"45\" x=\"135\" y=\"315\"/><rect class=\"square dark e1\" fill=\"#d18b47\" height=\"45\" stroke=\"none\" width=\"45\" x=\"180\" y=\"315\"/><rect class=\"square light f1\" fill=\"#ffce9e\" height=\"45\" stroke=\"none\" width=\"45\" x=\"225\" y=\"315\"/><rect class=\"square dark g1\" fill=\"#d18b47\" height=\"45\" stroke=\"none\" width=\"45\" x=\"270\" y=\"315\"/><rect class=\"square light h1\" fill=\"#ffce9e\" height=\"45\" stroke=\"none\" width=\"45\" x=\"315\" y=\"315\"/><rect class=\"square light a2\" fill=\"#ffce9e\" height=\"45\" stroke=\"none\" width=\"45\" x=\"0\" y=\"270\"/><rect class=\"square dark b2\" fill=\"#d18b47\" height=\"45\" stroke=\"none\" width=\"45\" x=\"45\" y=\"270\"/><rect class=\"square light c2\" fill=\"#ffce9e\" height=\"45\" stroke=\"none\" width=\"45\" x=\"90\" y=\"270\"/><rect class=\"square dark d2\" fill=\"#d18b47\" height=\"45\" stroke=\"none\" width=\"45\" x=\"135\" y=\"270\"/><rect class=\"square light e2\" fill=\"#ffce9e\" height=\"45\" stroke=\"none\" width=\"45\" x=\"180\" y=\"270\"/><rect class=\"square dark f2\" fill=\"#d18b47\" height=\"45\" stroke=\"none\" width=\"45\" x=\"225\" y=\"270\"/><rect class=\"square light g2\" fill=\"#ffce9e\" height=\"45\" stroke=\"none\" width=\"45\" x=\"270\" y=\"270\"/><rect class=\"square dark h2\" fill=\"#d18b47\" height=\"45\" stroke=\"none\" width=\"45\" x=\"315\" y=\"270\"/><rect class=\"square dark a3\" fill=\"#d18b47\" height=\"45\" stroke=\"none\" width=\"45\" x=\"0\" y=\"225\"/><rect class=\"square light b3\" fill=\"#ffce9e\" height=\"45\" stroke=\"none\" width=\"45\" x=\"45\" y=\"225\"/><rect class=\"square dark c3\" fill=\"#d18b47\" height=\"45\" stroke=\"none\" width=\"45\" x=\"90\" y=\"225\"/><rect class=\"square light d3\" fill=\"#ffce9e\" height=\"45\" stroke=\"none\" width=\"45\" x=\"135\" y=\"225\"/><rect class=\"square dark e3\" fill=\"#d18b47\" height=\"45\" stroke=\"none\" width=\"45\" x=\"180\" y=\"225\"/><rect class=\"square light f3\" fill=\"#ffce9e\" height=\"45\" stroke=\"none\" width=\"45\" x=\"225\" y=\"225\"/><rect class=\"square dark g3\" fill=\"#d18b47\" height=\"45\" stroke=\"none\" width=\"45\" x=\"270\" y=\"225\"/><rect class=\"square light h3\" fill=\"#ffce9e\" height=\"45\" stroke=\"none\" width=\"45\" x=\"315\" y=\"225\"/><rect class=\"square light a4\" fill=\"#ffce9e\" height=\"45\" stroke=\"none\" width=\"45\" x=\"0\" y=\"180\"/><rect class=\"square dark b4\" fill=\"#d18b47\" height=\"45\" stroke=\"none\" width=\"45\" x=\"45\" y=\"180\"/><rect class=\"square light c4\" fill=\"#ffce9e\" height=\"45\" stroke=\"none\" width=\"45\" x=\"90\" y=\"180\"/><rect class=\"square dark d4\" fill=\"#d18b47\" height=\"45\" stroke=\"none\" width=\"45\" x=\"135\" y=\"180\"/><rect class=\"square light e4\" fill=\"#ffce9e\" height=\"45\" stroke=\"none\" width=\"45\" x=\"180\" y=\"180\"/><rect class=\"square dark f4\" fill=\"#d18b47\" height=\"45\" stroke=\"none\" width=\"45\" x=\"225\" y=\"180\"/><rect class=\"square light g4\" fill=\"#ffce9e\" height=\"45\" stroke=\"none\" width=\"45\" x=\"270\" y=\"180\"/><rect class=\"square dark h4\" fill=\"#d18b47\" height=\"45\" stroke=\"none\" width=\"45\" x=\"315\" y=\"180\"/><rect class=\"square dark a5\" fill=\"#d18b47\" height=\"45\" stroke=\"none\" width=\"45\" x=\"0\" y=\"135\"/><rect class=\"square light b5\" fill=\"#ffce9e\" height=\"45\" stroke=\"none\" width=\"45\" x=\"45\" y=\"135\"/><rect class=\"square dark c5\" fill=\"#d18b47\" height=\"45\" stroke=\"none\" width=\"45\" x=\"90\" y=\"135\"/><rect class=\"square light d5\" fill=\"#ffce9e\" height=\"45\" stroke=\"none\" width=\"45\" x=\"135\" y=\"135\"/><rect class=\"square dark e5\" fill=\"#d18b47\" height=\"45\" stroke=\"none\" width=\"45\" x=\"180\" y=\"135\"/><rect class=\"square light f5\" fill=\"#ffce9e\" height=\"45\" stroke=\"none\" width=\"45\" x=\"225\" y=\"135\"/><rect class=\"square dark g5\" fill=\"#d18b47\" height=\"45\" stroke=\"none\" width=\"45\" x=\"270\" y=\"135\"/><rect class=\"square light h5\" fill=\"#ffce9e\" height=\"45\" stroke=\"none\" width=\"45\" x=\"315\" y=\"135\"/><rect class=\"square light a6\" fill=\"#ffce9e\" height=\"45\" stroke=\"none\" width=\"45\" x=\"0\" y=\"90\"/><rect class=\"square dark b6\" fill=\"#d18b47\" height=\"45\" stroke=\"none\" width=\"45\" x=\"45\" y=\"90\"/><rect class=\"square light c6\" fill=\"#ffce9e\" height=\"45\" stroke=\"none\" width=\"45\" x=\"90\" y=\"90\"/><rect class=\"square dark d6\" fill=\"#d18b47\" height=\"45\" stroke=\"none\" width=\"45\" x=\"135\" y=\"90\"/><rect class=\"square light e6\" fill=\"#ffce9e\" height=\"45\" stroke=\"none\" width=\"45\" x=\"180\" y=\"90\"/><rect class=\"square dark f6\" fill=\"#d18b47\" height=\"45\" stroke=\"none\" width=\"45\" x=\"225\" y=\"90\"/><rect class=\"square light g6\" fill=\"#ffce9e\" height=\"45\" stroke=\"none\" width=\"45\" x=\"270\" y=\"90\"/><rect class=\"square dark h6\" fill=\"#d18b47\" height=\"45\" stroke=\"none\" width=\"45\" x=\"315\" y=\"90\"/><rect class=\"square dark a7\" fill=\"#d18b47\" height=\"45\" stroke=\"none\" width=\"45\" x=\"0\" y=\"45\"/><rect class=\"square light b7\" fill=\"#ffce9e\" height=\"45\" stroke=\"none\" width=\"45\" x=\"45\" y=\"45\"/><rect class=\"square dark c7\" fill=\"#d18b47\" height=\"45\" stroke=\"none\" width=\"45\" x=\"90\" y=\"45\"/><rect class=\"square light d7\" fill=\"#ffce9e\" height=\"45\" stroke=\"none\" width=\"45\" x=\"135\" y=\"45\"/><rect class=\"square dark e7\" fill=\"#d18b47\" height=\"45\" stroke=\"none\" width=\"45\" x=\"180\" y=\"45\"/><rect class=\"square light f7\" fill=\"#ffce9e\" height=\"45\" stroke=\"none\" width=\"45\" x=\"225\" y=\"45\"/><use transform=\"translate(225, 45)\" xlink:href=\"#white-bishop\"/><rect class=\"square dark g7\" fill=\"#d18b47\" height=\"45\" stroke=\"none\" width=\"45\" x=\"270\" y=\"45\"/><use transform=\"translate(270, 45)\" xlink:href=\"#white-queen\"/><rect class=\"square light h7\" fill=\"#ffce9e\" height=\"45\" stroke=\"none\" width=\"45\" x=\"315\" y=\"45\"/><use transform=\"translate(315, 45)\" xlink:href=\"#white-queen\"/><rect class=\"square light a8\" fill=\"#ffce9e\" height=\"45\" stroke=\"none\" width=\"45\" x=\"0\" y=\"0\"/><rect class=\"square dark b8\" fill=\"#d18b47\" height=\"45\" stroke=\"none\" width=\"45\" x=\"45\" y=\"0\"/><rect class=\"square light c8\" fill=\"#ffce9e\" height=\"45\" stroke=\"none\" width=\"45\" x=\"90\" y=\"0\"/><rect class=\"square dark d8\" fill=\"#d18b47\" height=\"45\" stroke=\"none\" width=\"45\" x=\"135\" y=\"0\"/><rect class=\"square light e8\" fill=\"#ffce9e\" height=\"45\" stroke=\"none\" width=\"45\" x=\"180\" y=\"0\"/><rect class=\"square dark f8\" fill=\"#d18b47\" height=\"45\" stroke=\"none\" width=\"45\" x=\"225\" y=\"0\"/><rect class=\"square light g8\" fill=\"#ffce9e\" height=\"45\" stroke=\"none\" width=\"45\" x=\"270\" y=\"0\"/><use transform=\"translate(270, 0)\" xlink:href=\"#white-queen\"/><rect class=\"square dark h8\" fill=\"#d18b47\" height=\"45\" stroke=\"none\" width=\"45\" x=\"315\" y=\"0\"/><use transform=\"translate(315, 0)\" xlink:href=\"#white-queen\"/><circle class=\"circle\" cx=\"112.5\" cy=\"337.5\" fill=\"none\" opacity=\"0.5\" r=\"20.25\" stroke=\"red\" stroke-width=\"4.5\"/><circle class=\"circle\" cx=\"157.5\" cy=\"337.5\" fill=\"none\" opacity=\"0.5\" r=\"20.25\" stroke=\"red\" stroke-width=\"4.5\"/><circle class=\"circle\" cx=\"202.5\" cy=\"337.5\" fill=\"none\" opacity=\"0.5\" r=\"20.25\" stroke=\"red\" stroke-width=\"4.5\"/><circle class=\"circle\" cx=\"247.5\" cy=\"337.5\" fill=\"none\" opacity=\"0.5\" r=\"20.25\" stroke=\"red\" stroke-width=\"4.5\"/><circle class=\"circle\" cx=\"157.5\" cy=\"292.5\" fill=\"none\" opacity=\"0.5\" r=\"20.25\" stroke=\"red\" stroke-width=\"4.5\"/><circle class=\"circle\" cx=\"202.5\" cy=\"292.5\" fill=\"none\" opacity=\"0.5\" r=\"20.25\" stroke=\"red\" stroke-width=\"4.5\"/><circle class=\"circle\" cx=\"247.5\" cy=\"292.5\" fill=\"none\" opacity=\"0.5\" r=\"20.25\" stroke=\"red\" stroke-width=\"4.5\"/><circle class=\"circle\" cx=\"22.5\" cy=\"247.5\" fill=\"none\" opacity=\"0.5\" r=\"20.25\" stroke=\"red\" stroke-width=\"4.5\"/><circle class=\"circle\" cx=\"202.5\" cy=\"247.5\" fill=\"none\" opacity=\"0.5\" r=\"20.25\" stroke=\"red\" stroke-width=\"4.5\"/><circle class=\"circle\" cx=\"247.5\" cy=\"247.5\" fill=\"none\" opacity=\"0.5\" r=\"20.25\" stroke=\"red\" stroke-width=\"4.5\"/><circle class=\"circle\" cx=\"22.5\" cy=\"202.5\" fill=\"none\" opacity=\"0.5\" r=\"20.25\" stroke=\"red\" stroke-width=\"4.5\"/><circle class=\"circle\" cx=\"67.5\" cy=\"202.5\" fill=\"none\" opacity=\"0.5\" r=\"20.25\" stroke=\"red\" stroke-width=\"4.5\"/><circle class=\"circle\" cx=\"247.5\" cy=\"202.5\" fill=\"none\" opacity=\"0.5\" r=\"20.25\" stroke=\"red\" stroke-width=\"4.5\"/><circle class=\"circle\" cx=\"22.5\" cy=\"157.5\" fill=\"none\" opacity=\"0.5\" r=\"20.25\" stroke=\"red\" stroke-width=\"4.5\"/><circle class=\"circle\" cx=\"67.5\" cy=\"157.5\" fill=\"none\" opacity=\"0.5\" r=\"20.25\" stroke=\"red\" stroke-width=\"4.5\"/><circle class=\"circle\" cx=\"112.5\" cy=\"157.5\" fill=\"none\" opacity=\"0.5\" r=\"20.25\" stroke=\"red\" stroke-width=\"4.5\"/><circle class=\"circle\" cx=\"22.5\" cy=\"112.5\" fill=\"none\" opacity=\"0.5\" r=\"20.25\" stroke=\"red\" stroke-width=\"4.5\"/><circle class=\"circle\" cx=\"67.5\" cy=\"112.5\" fill=\"none\" opacity=\"0.5\" r=\"20.25\" stroke=\"red\" stroke-width=\"4.5\"/><circle class=\"circle\" cx=\"112.5\" cy=\"112.5\" fill=\"none\" opacity=\"0.5\" r=\"20.25\" stroke=\"red\" stroke-width=\"4.5\"/><circle class=\"circle\" cx=\"157.5\" cy=\"112.5\" fill=\"none\" opacity=\"0.5\" r=\"20.25\" stroke=\"red\" stroke-width=\"4.5\"/><circle class=\"circle\" cx=\"22.5\" cy=\"67.5\" fill=\"none\" opacity=\"0.5\" r=\"20.25\" stroke=\"red\" stroke-width=\"4.5\"/><circle class=\"circle\" cx=\"67.5\" cy=\"67.5\" fill=\"none\" opacity=\"0.5\" r=\"20.25\" stroke=\"red\" stroke-width=\"4.5\"/><circle class=\"circle\" cx=\"112.5\" cy=\"67.5\" fill=\"none\" opacity=\"0.5\" r=\"20.25\" stroke=\"red\" stroke-width=\"4.5\"/><circle class=\"circle\" cx=\"157.5\" cy=\"67.5\" fill=\"none\" opacity=\"0.5\" r=\"20.25\" stroke=\"red\" stroke-width=\"4.5\"/><circle class=\"circle\" cx=\"202.5\" cy=\"67.5\" fill=\"none\" opacity=\"0.5\" r=\"20.25\" stroke=\"red\" stroke-width=\"4.5\"/></svg>"
      ],
      "text/plain": [
       "<IPython.core.display.SVG object>"
      ]
     },
     "metadata": {},
     "output_type": "display_data"
    },
    {
     "name": "stdout",
     "output_type": "stream",
     "text": [
      "45\n"
     ]
    },
    {
     "data": {
      "image/svg+xml": [
       "<svg version=\"1.1\" viewBox=\"0 0 360 360\" xmlns=\"http://www.w3.org/2000/svg\" xmlns:xlink=\"http://www.w3.org/1999/xlink\"><style>\n",
       ".square.light {\n",
       "fill: #cacaca;\n",
       "}\n",
       ".square.dark {\n",
       "fill: #898989;\n",
       "}\n",
       "#xx {\n",
       "fill: blue;\n",
       "stroke: red;\n",
       "}\n",
       ".square.light.lastmove {\n",
       "fill: #c3d889;\n",
       "}\n",
       ".square.dark.lastmove {\n",
       "fill: #92b167;\n",
       "}\n",
       ".check {\n",
       "fill: url(#check_gradient);\n",
       "}\n",
       ".arrow {\n",
       "stroke: #ff5858;\n",
       "fill: blue;\n",
       "}\n",
       ".mark {\n",
       "stroke: #959fff;\n",
       "fill: blue;\n",
       "}\n",
       "</style><defs><g class=\"white bishop\" fill=\"none\" fill-rule=\"evenodd\" id=\"white-bishop\" stroke=\"#000\" stroke-linecap=\"round\" stroke-linejoin=\"round\" stroke-width=\"1.5\"><g fill=\"#fff\" stroke-linecap=\"butt\"><path d=\"M9 36c3.39-.97 10.11.43 13.5-2 3.39 2.43 10.11 1.03 13.5 2 0 0 1.65.54 3 2-.68.97-1.65.99-3 .5-3.39-.97-10.11.46-13.5-1-3.39 1.46-10.11.03-13.5 1-1.354.49-2.323.47-3-.5 1.354-1.94 3-2 3-2zM15 32c2.5 2.5 12.5 2.5 15 0 .5-1.5 0-2 0-2 0-2.5-2.5-4-2.5-4 5.5-1.5 6-11.5-5-15.5-11 4-10.5 14-5 15.5 0 0-2.5 1.5-2.5 4 0 0-.5.5 0 2zM25 8a2.5 2.5 0 1 1-5 0 2.5 2.5 0 1 1 5 0z\"/></g><path d=\"M17.5 26h10M15 30h15m-7.5-14.5v5M20 18h5\" stroke-linejoin=\"miter\"/></g><g class=\"white queen\" fill=\"#fff\" fill-rule=\"evenodd\" id=\"white-queen\" stroke=\"#000\" stroke-linecap=\"round\" stroke-linejoin=\"round\" stroke-width=\"1.5\"><path d=\"M8 12a2 2 0 1 1-4 0 2 2 0 1 1 4 0zM24.5 7.5a2 2 0 1 1-4 0 2 2 0 1 1 4 0zM41 12a2 2 0 1 1-4 0 2 2 0 1 1 4 0zM16 8.5a2 2 0 1 1-4 0 2 2 0 1 1 4 0zM33 9a2 2 0 1 1-4 0 2 2 0 1 1 4 0z\"/><path d=\"M9 26c8.5-1.5 21-1.5 27 0l2-12-7 11V11l-5.5 13.5-3-15-3 15-5.5-14V25L7 14l2 12zM9 26c0 2 1.5 2 2.5 4 1 1.5 1 1 .5 3.5-1.5 1-1.5 2.5-1.5 2.5-1.5 1.5.5 2.5.5 2.5 6.5 1 16.5 1 23 0 0 0 1.5-1 0-2.5 0 0 .5-1.5-1-2.5-.5-2.5-.5-2 .5-3.5 1-2 2.5-2 2.5-4-8.5-1.5-18.5-1.5-27 0z\" stroke-linecap=\"butt\"/><path d=\"M11.5 30c3.5-1 18.5-1 22 0M12 33.5c6-1 15-1 21 0\" fill=\"none\"/></g></defs><rect class=\"square dark a1\" fill=\"#d18b47\" height=\"45\" stroke=\"none\" width=\"45\" x=\"0\" y=\"315\"/><rect class=\"square light b1\" fill=\"#ffce9e\" height=\"45\" stroke=\"none\" width=\"45\" x=\"45\" y=\"315\"/><rect class=\"square dark c1\" fill=\"#d18b47\" height=\"45\" stroke=\"none\" width=\"45\" x=\"90\" y=\"315\"/><rect class=\"square light d1\" fill=\"#ffce9e\" height=\"45\" stroke=\"none\" width=\"45\" x=\"135\" y=\"315\"/><rect class=\"square dark e1\" fill=\"#d18b47\" height=\"45\" stroke=\"none\" width=\"45\" x=\"180\" y=\"315\"/><rect class=\"square light f1\" fill=\"#ffce9e\" height=\"45\" stroke=\"none\" width=\"45\" x=\"225\" y=\"315\"/><rect class=\"square dark g1\" fill=\"#d18b47\" height=\"45\" stroke=\"none\" width=\"45\" x=\"270\" y=\"315\"/><rect class=\"square light h1\" fill=\"#ffce9e\" height=\"45\" stroke=\"none\" width=\"45\" x=\"315\" y=\"315\"/><rect class=\"square light a2\" fill=\"#ffce9e\" height=\"45\" stroke=\"none\" width=\"45\" x=\"0\" y=\"270\"/><rect class=\"square dark b2\" fill=\"#d18b47\" height=\"45\" stroke=\"none\" width=\"45\" x=\"45\" y=\"270\"/><rect class=\"square light c2\" fill=\"#ffce9e\" height=\"45\" stroke=\"none\" width=\"45\" x=\"90\" y=\"270\"/><rect class=\"square dark d2\" fill=\"#d18b47\" height=\"45\" stroke=\"none\" width=\"45\" x=\"135\" y=\"270\"/><rect class=\"square light e2\" fill=\"#ffce9e\" height=\"45\" stroke=\"none\" width=\"45\" x=\"180\" y=\"270\"/><rect class=\"square dark f2\" fill=\"#d18b47\" height=\"45\" stroke=\"none\" width=\"45\" x=\"225\" y=\"270\"/><rect class=\"square light g2\" fill=\"#ffce9e\" height=\"45\" stroke=\"none\" width=\"45\" x=\"270\" y=\"270\"/><rect class=\"square dark h2\" fill=\"#d18b47\" height=\"45\" stroke=\"none\" width=\"45\" x=\"315\" y=\"270\"/><rect class=\"square dark a3\" fill=\"#d18b47\" height=\"45\" stroke=\"none\" width=\"45\" x=\"0\" y=\"225\"/><rect class=\"square light b3\" fill=\"#ffce9e\" height=\"45\" stroke=\"none\" width=\"45\" x=\"45\" y=\"225\"/><rect class=\"square dark c3\" fill=\"#d18b47\" height=\"45\" stroke=\"none\" width=\"45\" x=\"90\" y=\"225\"/><rect class=\"square light d3\" fill=\"#ffce9e\" height=\"45\" stroke=\"none\" width=\"45\" x=\"135\" y=\"225\"/><rect class=\"square dark e3\" fill=\"#d18b47\" height=\"45\" stroke=\"none\" width=\"45\" x=\"180\" y=\"225\"/><rect class=\"square light f3\" fill=\"#ffce9e\" height=\"45\" stroke=\"none\" width=\"45\" x=\"225\" y=\"225\"/><rect class=\"square dark g3\" fill=\"#d18b47\" height=\"45\" stroke=\"none\" width=\"45\" x=\"270\" y=\"225\"/><rect class=\"square light h3\" fill=\"#ffce9e\" height=\"45\" stroke=\"none\" width=\"45\" x=\"315\" y=\"225\"/><rect class=\"square light a4\" fill=\"#ffce9e\" height=\"45\" stroke=\"none\" width=\"45\" x=\"0\" y=\"180\"/><rect class=\"square dark b4\" fill=\"#d18b47\" height=\"45\" stroke=\"none\" width=\"45\" x=\"45\" y=\"180\"/><rect class=\"square light c4\" fill=\"#ffce9e\" height=\"45\" stroke=\"none\" width=\"45\" x=\"90\" y=\"180\"/><rect class=\"square dark d4\" fill=\"#d18b47\" height=\"45\" stroke=\"none\" width=\"45\" x=\"135\" y=\"180\"/><rect class=\"square light e4\" fill=\"#ffce9e\" height=\"45\" stroke=\"none\" width=\"45\" x=\"180\" y=\"180\"/><rect class=\"square dark f4\" fill=\"#d18b47\" height=\"45\" stroke=\"none\" width=\"45\" x=\"225\" y=\"180\"/><rect class=\"square light g4\" fill=\"#ffce9e\" height=\"45\" stroke=\"none\" width=\"45\" x=\"270\" y=\"180\"/><rect class=\"square dark h4\" fill=\"#d18b47\" height=\"45\" stroke=\"none\" width=\"45\" x=\"315\" y=\"180\"/><rect class=\"square dark a5\" fill=\"#d18b47\" height=\"45\" stroke=\"none\" width=\"45\" x=\"0\" y=\"135\"/><rect class=\"square light b5\" fill=\"#ffce9e\" height=\"45\" stroke=\"none\" width=\"45\" x=\"45\" y=\"135\"/><rect class=\"square dark c5\" fill=\"#d18b47\" height=\"45\" stroke=\"none\" width=\"45\" x=\"90\" y=\"135\"/><rect class=\"square light d5\" fill=\"#ffce9e\" height=\"45\" stroke=\"none\" width=\"45\" x=\"135\" y=\"135\"/><rect class=\"square dark e5\" fill=\"#d18b47\" height=\"45\" stroke=\"none\" width=\"45\" x=\"180\" y=\"135\"/><rect class=\"square light f5\" fill=\"#ffce9e\" height=\"45\" stroke=\"none\" width=\"45\" x=\"225\" y=\"135\"/><rect class=\"square dark g5\" fill=\"#d18b47\" height=\"45\" stroke=\"none\" width=\"45\" x=\"270\" y=\"135\"/><rect class=\"square light h5\" fill=\"#ffce9e\" height=\"45\" stroke=\"none\" width=\"45\" x=\"315\" y=\"135\"/><rect class=\"square light a6\" fill=\"#ffce9e\" height=\"45\" stroke=\"none\" width=\"45\" x=\"0\" y=\"90\"/><rect class=\"square dark b6\" fill=\"#d18b47\" height=\"45\" stroke=\"none\" width=\"45\" x=\"45\" y=\"90\"/><rect class=\"square light c6\" fill=\"#ffce9e\" height=\"45\" stroke=\"none\" width=\"45\" x=\"90\" y=\"90\"/><rect class=\"square dark d6\" fill=\"#d18b47\" height=\"45\" stroke=\"none\" width=\"45\" x=\"135\" y=\"90\"/><rect class=\"square light e6\" fill=\"#ffce9e\" height=\"45\" stroke=\"none\" width=\"45\" x=\"180\" y=\"90\"/><rect class=\"square dark f6\" fill=\"#d18b47\" height=\"45\" stroke=\"none\" width=\"45\" x=\"225\" y=\"90\"/><rect class=\"square light g6\" fill=\"#ffce9e\" height=\"45\" stroke=\"none\" width=\"45\" x=\"270\" y=\"90\"/><rect class=\"square dark h6\" fill=\"#d18b47\" height=\"45\" stroke=\"none\" width=\"45\" x=\"315\" y=\"90\"/><rect class=\"square dark a7\" fill=\"#d18b47\" height=\"45\" stroke=\"none\" width=\"45\" x=\"0\" y=\"45\"/><rect class=\"square light b7\" fill=\"#ffce9e\" height=\"45\" stroke=\"none\" width=\"45\" x=\"45\" y=\"45\"/><rect class=\"square dark c7\" fill=\"#d18b47\" height=\"45\" stroke=\"none\" width=\"45\" x=\"90\" y=\"45\"/><rect class=\"square light d7\" fill=\"#ffce9e\" height=\"45\" stroke=\"none\" width=\"45\" x=\"135\" y=\"45\"/><rect class=\"square dark e7\" fill=\"#d18b47\" height=\"45\" stroke=\"none\" width=\"45\" x=\"180\" y=\"45\"/><rect class=\"square light f7\" fill=\"#ffce9e\" height=\"45\" stroke=\"none\" width=\"45\" x=\"225\" y=\"45\"/><use transform=\"translate(225, 45)\" xlink:href=\"#white-bishop\"/><rect class=\"square dark g7\" fill=\"#d18b47\" height=\"45\" stroke=\"none\" width=\"45\" x=\"270\" y=\"45\"/><use transform=\"translate(270, 45)\" xlink:href=\"#white-queen\"/><rect class=\"square light h7\" fill=\"#ffce9e\" height=\"45\" stroke=\"none\" width=\"45\" x=\"315\" y=\"45\"/><rect class=\"square light a8\" fill=\"#ffce9e\" height=\"45\" stroke=\"none\" width=\"45\" x=\"0\" y=\"0\"/><rect class=\"square dark b8\" fill=\"#d18b47\" height=\"45\" stroke=\"none\" width=\"45\" x=\"45\" y=\"0\"/><rect class=\"square light c8\" fill=\"#ffce9e\" height=\"45\" stroke=\"none\" width=\"45\" x=\"90\" y=\"0\"/><rect class=\"square dark d8\" fill=\"#d18b47\" height=\"45\" stroke=\"none\" width=\"45\" x=\"135\" y=\"0\"/><use transform=\"translate(135, 0)\" xlink:href=\"#white-queen\"/><rect class=\"square light e8\" fill=\"#ffce9e\" height=\"45\" stroke=\"none\" width=\"45\" x=\"180\" y=\"0\"/><rect class=\"square dark f8\" fill=\"#d18b47\" height=\"45\" stroke=\"none\" width=\"45\" x=\"225\" y=\"0\"/><rect class=\"square light g8\" fill=\"#ffce9e\" height=\"45\" stroke=\"none\" width=\"45\" x=\"270\" y=\"0\"/><use transform=\"translate(270, 0)\" xlink:href=\"#white-queen\"/><rect class=\"square dark h8\" fill=\"#d18b47\" height=\"45\" stroke=\"none\" width=\"45\" x=\"315\" y=\"0\"/><use transform=\"translate(315, 0)\" xlink:href=\"#white-queen\"/><circle class=\"circle\" cx=\"67.5\" cy=\"337.5\" fill=\"none\" opacity=\"0.5\" r=\"20.25\" stroke=\"red\" stroke-width=\"4.5\"/><circle class=\"circle\" cx=\"112.5\" cy=\"337.5\" fill=\"none\" opacity=\"0.5\" r=\"20.25\" stroke=\"red\" stroke-width=\"4.5\"/><circle class=\"circle\" cx=\"202.5\" cy=\"337.5\" fill=\"none\" opacity=\"0.5\" r=\"20.25\" stroke=\"red\" stroke-width=\"4.5\"/><circle class=\"circle\" cx=\"247.5\" cy=\"337.5\" fill=\"none\" opacity=\"0.5\" r=\"20.25\" stroke=\"red\" stroke-width=\"4.5\"/><circle class=\"circle\" cx=\"112.5\" cy=\"292.5\" fill=\"none\" opacity=\"0.5\" r=\"20.25\" stroke=\"red\" stroke-width=\"4.5\"/><circle class=\"circle\" cx=\"202.5\" cy=\"292.5\" fill=\"none\" opacity=\"0.5\" r=\"20.25\" stroke=\"red\" stroke-width=\"4.5\"/><circle class=\"circle\" cx=\"247.5\" cy=\"292.5\" fill=\"none\" opacity=\"0.5\" r=\"20.25\" stroke=\"red\" stroke-width=\"4.5\"/><circle class=\"circle\" cx=\"22.5\" cy=\"247.5\" fill=\"none\" opacity=\"0.5\" r=\"20.25\" stroke=\"red\" stroke-width=\"4.5\"/><circle class=\"circle\" cx=\"202.5\" cy=\"247.5\" fill=\"none\" opacity=\"0.5\" r=\"20.25\" stroke=\"red\" stroke-width=\"4.5\"/><circle class=\"circle\" cx=\"247.5\" cy=\"247.5\" fill=\"none\" opacity=\"0.5\" r=\"20.25\" stroke=\"red\" stroke-width=\"4.5\"/><circle class=\"circle\" cx=\"22.5\" cy=\"202.5\" fill=\"none\" opacity=\"0.5\" r=\"20.25\" stroke=\"red\" stroke-width=\"4.5\"/><circle class=\"circle\" cx=\"67.5\" cy=\"202.5\" fill=\"none\" opacity=\"0.5\" r=\"20.25\" stroke=\"red\" stroke-width=\"4.5\"/><circle class=\"circle\" cx=\"202.5\" cy=\"202.5\" fill=\"none\" opacity=\"0.5\" r=\"20.25\" stroke=\"red\" stroke-width=\"4.5\"/><circle class=\"circle\" cx=\"247.5\" cy=\"202.5\" fill=\"none\" opacity=\"0.5\" r=\"20.25\" stroke=\"red\" stroke-width=\"4.5\"/><circle class=\"circle\" cx=\"67.5\" cy=\"157.5\" fill=\"none\" opacity=\"0.5\" r=\"20.25\" stroke=\"red\" stroke-width=\"4.5\"/><circle class=\"circle\" cx=\"112.5\" cy=\"157.5\" fill=\"none\" opacity=\"0.5\" r=\"20.25\" stroke=\"red\" stroke-width=\"4.5\"/><circle class=\"circle\" cx=\"247.5\" cy=\"157.5\" fill=\"none\" opacity=\"0.5\" r=\"20.25\" stroke=\"red\" stroke-width=\"4.5\"/><circle class=\"circle\" cx=\"22.5\" cy=\"112.5\" fill=\"none\" opacity=\"0.5\" r=\"20.25\" stroke=\"red\" stroke-width=\"4.5\"/><circle class=\"circle\" cx=\"112.5\" cy=\"112.5\" fill=\"none\" opacity=\"0.5\" r=\"20.25\" stroke=\"red\" stroke-width=\"4.5\"/><circle class=\"circle\" cx=\"22.5\" cy=\"67.5\" fill=\"none\" opacity=\"0.5\" r=\"20.25\" stroke=\"red\" stroke-width=\"4.5\"/><circle class=\"circle\" cx=\"67.5\" cy=\"67.5\" fill=\"none\" opacity=\"0.5\" r=\"20.25\" stroke=\"red\" stroke-width=\"4.5\"/></svg>"
      ],
      "text/plain": [
       "<IPython.core.display.SVG object>"
      ]
     },
     "metadata": {},
     "output_type": "display_data"
    },
    {
     "name": "stdout",
     "output_type": "stream",
     "text": [
      "46\n"
     ]
    },
    {
     "data": {
      "image/svg+xml": [
       "<svg version=\"1.1\" viewBox=\"0 0 360 360\" xmlns=\"http://www.w3.org/2000/svg\" xmlns:xlink=\"http://www.w3.org/1999/xlink\"><style>\n",
       ".square.light {\n",
       "fill: #cacaca;\n",
       "}\n",
       ".square.dark {\n",
       "fill: #898989;\n",
       "}\n",
       "#xx {\n",
       "fill: blue;\n",
       "stroke: red;\n",
       "}\n",
       ".square.light.lastmove {\n",
       "fill: #c3d889;\n",
       "}\n",
       ".square.dark.lastmove {\n",
       "fill: #92b167;\n",
       "}\n",
       ".check {\n",
       "fill: url(#check_gradient);\n",
       "}\n",
       ".arrow {\n",
       "stroke: #ff5858;\n",
       "fill: blue;\n",
       "}\n",
       ".mark {\n",
       "stroke: #959fff;\n",
       "fill: blue;\n",
       "}\n",
       "</style><defs><g class=\"white bishop\" fill=\"none\" fill-rule=\"evenodd\" id=\"white-bishop\" stroke=\"#000\" stroke-linecap=\"round\" stroke-linejoin=\"round\" stroke-width=\"1.5\"><g fill=\"#fff\" stroke-linecap=\"butt\"><path d=\"M9 36c3.39-.97 10.11.43 13.5-2 3.39 2.43 10.11 1.03 13.5 2 0 0 1.65.54 3 2-.68.97-1.65.99-3 .5-3.39-.97-10.11.46-13.5-1-3.39 1.46-10.11.03-13.5 1-1.354.49-2.323.47-3-.5 1.354-1.94 3-2 3-2zM15 32c2.5 2.5 12.5 2.5 15 0 .5-1.5 0-2 0-2 0-2.5-2.5-4-2.5-4 5.5-1.5 6-11.5-5-15.5-11 4-10.5 14-5 15.5 0 0-2.5 1.5-2.5 4 0 0-.5.5 0 2zM25 8a2.5 2.5 0 1 1-5 0 2.5 2.5 0 1 1 5 0z\"/></g><path d=\"M17.5 26h10M15 30h15m-7.5-14.5v5M20 18h5\" stroke-linejoin=\"miter\"/></g><g class=\"white queen\" fill=\"#fff\" fill-rule=\"evenodd\" id=\"white-queen\" stroke=\"#000\" stroke-linecap=\"round\" stroke-linejoin=\"round\" stroke-width=\"1.5\"><path d=\"M8 12a2 2 0 1 1-4 0 2 2 0 1 1 4 0zM24.5 7.5a2 2 0 1 1-4 0 2 2 0 1 1 4 0zM41 12a2 2 0 1 1-4 0 2 2 0 1 1 4 0zM16 8.5a2 2 0 1 1-4 0 2 2 0 1 1 4 0zM33 9a2 2 0 1 1-4 0 2 2 0 1 1 4 0z\"/><path d=\"M9 26c8.5-1.5 21-1.5 27 0l2-12-7 11V11l-5.5 13.5-3-15-3 15-5.5-14V25L7 14l2 12zM9 26c0 2 1.5 2 2.5 4 1 1.5 1 1 .5 3.5-1.5 1-1.5 2.5-1.5 2.5-1.5 1.5.5 2.5.5 2.5 6.5 1 16.5 1 23 0 0 0 1.5-1 0-2.5 0 0 .5-1.5-1-2.5-.5-2.5-.5-2 .5-3.5 1-2 2.5-2 2.5-4-8.5-1.5-18.5-1.5-27 0z\" stroke-linecap=\"butt\"/><path d=\"M11.5 30c3.5-1 18.5-1 22 0M12 33.5c6-1 15-1 21 0\" fill=\"none\"/></g></defs><rect class=\"square dark a1\" fill=\"#d18b47\" height=\"45\" stroke=\"none\" width=\"45\" x=\"0\" y=\"315\"/><rect class=\"square light b1\" fill=\"#ffce9e\" height=\"45\" stroke=\"none\" width=\"45\" x=\"45\" y=\"315\"/><rect class=\"square dark c1\" fill=\"#d18b47\" height=\"45\" stroke=\"none\" width=\"45\" x=\"90\" y=\"315\"/><rect class=\"square light d1\" fill=\"#ffce9e\" height=\"45\" stroke=\"none\" width=\"45\" x=\"135\" y=\"315\"/><rect class=\"square dark e1\" fill=\"#d18b47\" height=\"45\" stroke=\"none\" width=\"45\" x=\"180\" y=\"315\"/><rect class=\"square light f1\" fill=\"#ffce9e\" height=\"45\" stroke=\"none\" width=\"45\" x=\"225\" y=\"315\"/><rect class=\"square dark g1\" fill=\"#d18b47\" height=\"45\" stroke=\"none\" width=\"45\" x=\"270\" y=\"315\"/><rect class=\"square light h1\" fill=\"#ffce9e\" height=\"45\" stroke=\"none\" width=\"45\" x=\"315\" y=\"315\"/><rect class=\"square light a2\" fill=\"#ffce9e\" height=\"45\" stroke=\"none\" width=\"45\" x=\"0\" y=\"270\"/><rect class=\"square dark b2\" fill=\"#d18b47\" height=\"45\" stroke=\"none\" width=\"45\" x=\"45\" y=\"270\"/><rect class=\"square light c2\" fill=\"#ffce9e\" height=\"45\" stroke=\"none\" width=\"45\" x=\"90\" y=\"270\"/><rect class=\"square dark d2\" fill=\"#d18b47\" height=\"45\" stroke=\"none\" width=\"45\" x=\"135\" y=\"270\"/><rect class=\"square light e2\" fill=\"#ffce9e\" height=\"45\" stroke=\"none\" width=\"45\" x=\"180\" y=\"270\"/><rect class=\"square dark f2\" fill=\"#d18b47\" height=\"45\" stroke=\"none\" width=\"45\" x=\"225\" y=\"270\"/><rect class=\"square light g2\" fill=\"#ffce9e\" height=\"45\" stroke=\"none\" width=\"45\" x=\"270\" y=\"270\"/><rect class=\"square dark h2\" fill=\"#d18b47\" height=\"45\" stroke=\"none\" width=\"45\" x=\"315\" y=\"270\"/><rect class=\"square dark a3\" fill=\"#d18b47\" height=\"45\" stroke=\"none\" width=\"45\" x=\"0\" y=\"225\"/><rect class=\"square light b3\" fill=\"#ffce9e\" height=\"45\" stroke=\"none\" width=\"45\" x=\"45\" y=\"225\"/><rect class=\"square dark c3\" fill=\"#d18b47\" height=\"45\" stroke=\"none\" width=\"45\" x=\"90\" y=\"225\"/><rect class=\"square light d3\" fill=\"#ffce9e\" height=\"45\" stroke=\"none\" width=\"45\" x=\"135\" y=\"225\"/><rect class=\"square dark e3\" fill=\"#d18b47\" height=\"45\" stroke=\"none\" width=\"45\" x=\"180\" y=\"225\"/><rect class=\"square light f3\" fill=\"#ffce9e\" height=\"45\" stroke=\"none\" width=\"45\" x=\"225\" y=\"225\"/><rect class=\"square dark g3\" fill=\"#d18b47\" height=\"45\" stroke=\"none\" width=\"45\" x=\"270\" y=\"225\"/><rect class=\"square light h3\" fill=\"#ffce9e\" height=\"45\" stroke=\"none\" width=\"45\" x=\"315\" y=\"225\"/><rect class=\"square light a4\" fill=\"#ffce9e\" height=\"45\" stroke=\"none\" width=\"45\" x=\"0\" y=\"180\"/><rect class=\"square dark b4\" fill=\"#d18b47\" height=\"45\" stroke=\"none\" width=\"45\" x=\"45\" y=\"180\"/><rect class=\"square light c4\" fill=\"#ffce9e\" height=\"45\" stroke=\"none\" width=\"45\" x=\"90\" y=\"180\"/><rect class=\"square dark d4\" fill=\"#d18b47\" height=\"45\" stroke=\"none\" width=\"45\" x=\"135\" y=\"180\"/><rect class=\"square light e4\" fill=\"#ffce9e\" height=\"45\" stroke=\"none\" width=\"45\" x=\"180\" y=\"180\"/><rect class=\"square dark f4\" fill=\"#d18b47\" height=\"45\" stroke=\"none\" width=\"45\" x=\"225\" y=\"180\"/><rect class=\"square light g4\" fill=\"#ffce9e\" height=\"45\" stroke=\"none\" width=\"45\" x=\"270\" y=\"180\"/><rect class=\"square dark h4\" fill=\"#d18b47\" height=\"45\" stroke=\"none\" width=\"45\" x=\"315\" y=\"180\"/><rect class=\"square dark a5\" fill=\"#d18b47\" height=\"45\" stroke=\"none\" width=\"45\" x=\"0\" y=\"135\"/><rect class=\"square light b5\" fill=\"#ffce9e\" height=\"45\" stroke=\"none\" width=\"45\" x=\"45\" y=\"135\"/><rect class=\"square dark c5\" fill=\"#d18b47\" height=\"45\" stroke=\"none\" width=\"45\" x=\"90\" y=\"135\"/><rect class=\"square light d5\" fill=\"#ffce9e\" height=\"45\" stroke=\"none\" width=\"45\" x=\"135\" y=\"135\"/><rect class=\"square dark e5\" fill=\"#d18b47\" height=\"45\" stroke=\"none\" width=\"45\" x=\"180\" y=\"135\"/><rect class=\"square light f5\" fill=\"#ffce9e\" height=\"45\" stroke=\"none\" width=\"45\" x=\"225\" y=\"135\"/><rect class=\"square dark g5\" fill=\"#d18b47\" height=\"45\" stroke=\"none\" width=\"45\" x=\"270\" y=\"135\"/><rect class=\"square light h5\" fill=\"#ffce9e\" height=\"45\" stroke=\"none\" width=\"45\" x=\"315\" y=\"135\"/><rect class=\"square light a6\" fill=\"#ffce9e\" height=\"45\" stroke=\"none\" width=\"45\" x=\"0\" y=\"90\"/><rect class=\"square dark b6\" fill=\"#d18b47\" height=\"45\" stroke=\"none\" width=\"45\" x=\"45\" y=\"90\"/><rect class=\"square light c6\" fill=\"#ffce9e\" height=\"45\" stroke=\"none\" width=\"45\" x=\"90\" y=\"90\"/><rect class=\"square dark d6\" fill=\"#d18b47\" height=\"45\" stroke=\"none\" width=\"45\" x=\"135\" y=\"90\"/><rect class=\"square light e6\" fill=\"#ffce9e\" height=\"45\" stroke=\"none\" width=\"45\" x=\"180\" y=\"90\"/><rect class=\"square dark f6\" fill=\"#d18b47\" height=\"45\" stroke=\"none\" width=\"45\" x=\"225\" y=\"90\"/><rect class=\"square light g6\" fill=\"#ffce9e\" height=\"45\" stroke=\"none\" width=\"45\" x=\"270\" y=\"90\"/><rect class=\"square dark h6\" fill=\"#d18b47\" height=\"45\" stroke=\"none\" width=\"45\" x=\"315\" y=\"90\"/><rect class=\"square dark a7\" fill=\"#d18b47\" height=\"45\" stroke=\"none\" width=\"45\" x=\"0\" y=\"45\"/><rect class=\"square light b7\" fill=\"#ffce9e\" height=\"45\" stroke=\"none\" width=\"45\" x=\"45\" y=\"45\"/><rect class=\"square dark c7\" fill=\"#d18b47\" height=\"45\" stroke=\"none\" width=\"45\" x=\"90\" y=\"45\"/><rect class=\"square light d7\" fill=\"#ffce9e\" height=\"45\" stroke=\"none\" width=\"45\" x=\"135\" y=\"45\"/><rect class=\"square dark e7\" fill=\"#d18b47\" height=\"45\" stroke=\"none\" width=\"45\" x=\"180\" y=\"45\"/><rect class=\"square light f7\" fill=\"#ffce9e\" height=\"45\" stroke=\"none\" width=\"45\" x=\"225\" y=\"45\"/><rect class=\"square dark g7\" fill=\"#d18b47\" height=\"45\" stroke=\"none\" width=\"45\" x=\"270\" y=\"45\"/><use transform=\"translate(270, 45)\" xlink:href=\"#white-bishop\"/><rect class=\"square light h7\" fill=\"#ffce9e\" height=\"45\" stroke=\"none\" width=\"45\" x=\"315\" y=\"45\"/><use transform=\"translate(315, 45)\" xlink:href=\"#white-queen\"/><rect class=\"square light a8\" fill=\"#ffce9e\" height=\"45\" stroke=\"none\" width=\"45\" x=\"0\" y=\"0\"/><rect class=\"square dark b8\" fill=\"#d18b47\" height=\"45\" stroke=\"none\" width=\"45\" x=\"45\" y=\"0\"/><rect class=\"square light c8\" fill=\"#ffce9e\" height=\"45\" stroke=\"none\" width=\"45\" x=\"90\" y=\"0\"/><use transform=\"translate(90, 0)\" xlink:href=\"#white-queen\"/><rect class=\"square dark d8\" fill=\"#d18b47\" height=\"45\" stroke=\"none\" width=\"45\" x=\"135\" y=\"0\"/><rect class=\"square light e8\" fill=\"#ffce9e\" height=\"45\" stroke=\"none\" width=\"45\" x=\"180\" y=\"0\"/><use transform=\"translate(180, 0)\" xlink:href=\"#white-queen\"/><rect class=\"square dark f8\" fill=\"#d18b47\" height=\"45\" stroke=\"none\" width=\"45\" x=\"225\" y=\"0\"/><rect class=\"square light g8\" fill=\"#ffce9e\" height=\"45\" stroke=\"none\" width=\"45\" x=\"270\" y=\"0\"/><rect class=\"square dark h8\" fill=\"#d18b47\" height=\"45\" stroke=\"none\" width=\"45\" x=\"315\" y=\"0\"/><use transform=\"translate(315, 0)\" xlink:href=\"#white-queen\"/><circle class=\"circle\" cx=\"157.5\" cy=\"337.5\" fill=\"none\" opacity=\"0.5\" r=\"20.25\" stroke=\"red\" stroke-width=\"4.5\"/><circle class=\"circle\" cx=\"247.5\" cy=\"337.5\" fill=\"none\" opacity=\"0.5\" r=\"20.25\" stroke=\"red\" stroke-width=\"4.5\"/><circle class=\"circle\" cx=\"292.5\" cy=\"337.5\" fill=\"none\" opacity=\"0.5\" r=\"20.25\" stroke=\"red\" stroke-width=\"4.5\"/><circle class=\"circle\" cx=\"22.5\" cy=\"292.5\" fill=\"none\" opacity=\"0.5\" r=\"20.25\" stroke=\"red\" stroke-width=\"4.5\"/><circle class=\"circle\" cx=\"157.5\" cy=\"292.5\" fill=\"none\" opacity=\"0.5\" r=\"20.25\" stroke=\"red\" stroke-width=\"4.5\"/><circle class=\"circle\" cx=\"247.5\" cy=\"292.5\" fill=\"none\" opacity=\"0.5\" r=\"20.25\" stroke=\"red\" stroke-width=\"4.5\"/><circle class=\"circle\" cx=\"292.5\" cy=\"292.5\" fill=\"none\" opacity=\"0.5\" r=\"20.25\" stroke=\"red\" stroke-width=\"4.5\"/><circle class=\"circle\" cx=\"22.5\" cy=\"247.5\" fill=\"none\" opacity=\"0.5\" r=\"20.25\" stroke=\"red\" stroke-width=\"4.5\"/><circle class=\"circle\" cx=\"67.5\" cy=\"247.5\" fill=\"none\" opacity=\"0.5\" r=\"20.25\" stroke=\"red\" stroke-width=\"4.5\"/><circle class=\"circle\" cx=\"247.5\" cy=\"247.5\" fill=\"none\" opacity=\"0.5\" r=\"20.25\" stroke=\"red\" stroke-width=\"4.5\"/><circle class=\"circle\" cx=\"292.5\" cy=\"247.5\" fill=\"none\" opacity=\"0.5\" r=\"20.25\" stroke=\"red\" stroke-width=\"4.5\"/><circle class=\"circle\" cx=\"67.5\" cy=\"202.5\" fill=\"none\" opacity=\"0.5\" r=\"20.25\" stroke=\"red\" stroke-width=\"4.5\"/><circle class=\"circle\" cx=\"247.5\" cy=\"202.5\" fill=\"none\" opacity=\"0.5\" r=\"20.25\" stroke=\"red\" stroke-width=\"4.5\"/><circle class=\"circle\" cx=\"22.5\" cy=\"157.5\" fill=\"none\" opacity=\"0.5\" r=\"20.25\" stroke=\"red\" stroke-width=\"4.5\"/><circle class=\"circle\" cx=\"157.5\" cy=\"157.5\" fill=\"none\" opacity=\"0.5\" r=\"20.25\" stroke=\"red\" stroke-width=\"4.5\"/><circle class=\"circle\" cx=\"292.5\" cy=\"157.5\" fill=\"none\" opacity=\"0.5\" r=\"20.25\" stroke=\"red\" stroke-width=\"4.5\"/><circle class=\"circle\" cx=\"67.5\" cy=\"112.5\" fill=\"none\" opacity=\"0.5\" r=\"20.25\" stroke=\"red\" stroke-width=\"4.5\"/><circle class=\"circle\" cx=\"157.5\" cy=\"112.5\" fill=\"none\" opacity=\"0.5\" r=\"20.25\" stroke=\"red\" stroke-width=\"4.5\"/><circle class=\"circle\" cx=\"22.5\" cy=\"67.5\" fill=\"none\" opacity=\"0.5\" r=\"20.25\" stroke=\"red\" stroke-width=\"4.5\"/></svg>"
      ],
      "text/plain": [
       "<IPython.core.display.SVG object>"
      ]
     },
     "metadata": {},
     "output_type": "display_data"
    },
    {
     "name": "stdout",
     "output_type": "stream",
     "text": [
      "47\n"
     ]
    },
    {
     "data": {
      "image/svg+xml": [
       "<svg version=\"1.1\" viewBox=\"0 0 360 360\" xmlns=\"http://www.w3.org/2000/svg\" xmlns:xlink=\"http://www.w3.org/1999/xlink\"><style>\n",
       ".square.light {\n",
       "fill: #cacaca;\n",
       "}\n",
       ".square.dark {\n",
       "fill: #898989;\n",
       "}\n",
       "#xx {\n",
       "fill: blue;\n",
       "stroke: red;\n",
       "}\n",
       ".square.light.lastmove {\n",
       "fill: #c3d889;\n",
       "}\n",
       ".square.dark.lastmove {\n",
       "fill: #92b167;\n",
       "}\n",
       ".check {\n",
       "fill: url(#check_gradient);\n",
       "}\n",
       ".arrow {\n",
       "stroke: #ff5858;\n",
       "fill: blue;\n",
       "}\n",
       ".mark {\n",
       "stroke: #959fff;\n",
       "fill: blue;\n",
       "}\n",
       "</style><defs><g class=\"white bishop\" fill=\"none\" fill-rule=\"evenodd\" id=\"white-bishop\" stroke=\"#000\" stroke-linecap=\"round\" stroke-linejoin=\"round\" stroke-width=\"1.5\"><g fill=\"#fff\" stroke-linecap=\"butt\"><path d=\"M9 36c3.39-.97 10.11.43 13.5-2 3.39 2.43 10.11 1.03 13.5 2 0 0 1.65.54 3 2-.68.97-1.65.99-3 .5-3.39-.97-10.11.46-13.5-1-3.39 1.46-10.11.03-13.5 1-1.354.49-2.323.47-3-.5 1.354-1.94 3-2 3-2zM15 32c2.5 2.5 12.5 2.5 15 0 .5-1.5 0-2 0-2 0-2.5-2.5-4-2.5-4 5.5-1.5 6-11.5-5-15.5-11 4-10.5 14-5 15.5 0 0-2.5 1.5-2.5 4 0 0-.5.5 0 2zM25 8a2.5 2.5 0 1 1-5 0 2.5 2.5 0 1 1 5 0z\"/></g><path d=\"M17.5 26h10M15 30h15m-7.5-14.5v5M20 18h5\" stroke-linejoin=\"miter\"/></g><g class=\"white queen\" fill=\"#fff\" fill-rule=\"evenodd\" id=\"white-queen\" stroke=\"#000\" stroke-linecap=\"round\" stroke-linejoin=\"round\" stroke-width=\"1.5\"><path d=\"M8 12a2 2 0 1 1-4 0 2 2 0 1 1 4 0zM24.5 7.5a2 2 0 1 1-4 0 2 2 0 1 1 4 0zM41 12a2 2 0 1 1-4 0 2 2 0 1 1 4 0zM16 8.5a2 2 0 1 1-4 0 2 2 0 1 1 4 0zM33 9a2 2 0 1 1-4 0 2 2 0 1 1 4 0z\"/><path d=\"M9 26c8.5-1.5 21-1.5 27 0l2-12-7 11V11l-5.5 13.5-3-15-3 15-5.5-14V25L7 14l2 12zM9 26c0 2 1.5 2 2.5 4 1 1.5 1 1 .5 3.5-1.5 1-1.5 2.5-1.5 2.5-1.5 1.5.5 2.5.5 2.5 6.5 1 16.5 1 23 0 0 0 1.5-1 0-2.5 0 0 .5-1.5-1-2.5-.5-2.5-.5-2 .5-3.5 1-2 2.5-2 2.5-4-8.5-1.5-18.5-1.5-27 0z\" stroke-linecap=\"butt\"/><path d=\"M11.5 30c3.5-1 18.5-1 22 0M12 33.5c6-1 15-1 21 0\" fill=\"none\"/></g></defs><rect class=\"square dark a1\" fill=\"#d18b47\" height=\"45\" stroke=\"none\" width=\"45\" x=\"0\" y=\"315\"/><rect class=\"square light b1\" fill=\"#ffce9e\" height=\"45\" stroke=\"none\" width=\"45\" x=\"45\" y=\"315\"/><rect class=\"square dark c1\" fill=\"#d18b47\" height=\"45\" stroke=\"none\" width=\"45\" x=\"90\" y=\"315\"/><rect class=\"square light d1\" fill=\"#ffce9e\" height=\"45\" stroke=\"none\" width=\"45\" x=\"135\" y=\"315\"/><rect class=\"square dark e1\" fill=\"#d18b47\" height=\"45\" stroke=\"none\" width=\"45\" x=\"180\" y=\"315\"/><rect class=\"square light f1\" fill=\"#ffce9e\" height=\"45\" stroke=\"none\" width=\"45\" x=\"225\" y=\"315\"/><rect class=\"square dark g1\" fill=\"#d18b47\" height=\"45\" stroke=\"none\" width=\"45\" x=\"270\" y=\"315\"/><rect class=\"square light h1\" fill=\"#ffce9e\" height=\"45\" stroke=\"none\" width=\"45\" x=\"315\" y=\"315\"/><rect class=\"square light a2\" fill=\"#ffce9e\" height=\"45\" stroke=\"none\" width=\"45\" x=\"0\" y=\"270\"/><rect class=\"square dark b2\" fill=\"#d18b47\" height=\"45\" stroke=\"none\" width=\"45\" x=\"45\" y=\"270\"/><rect class=\"square light c2\" fill=\"#ffce9e\" height=\"45\" stroke=\"none\" width=\"45\" x=\"90\" y=\"270\"/><rect class=\"square dark d2\" fill=\"#d18b47\" height=\"45\" stroke=\"none\" width=\"45\" x=\"135\" y=\"270\"/><rect class=\"square light e2\" fill=\"#ffce9e\" height=\"45\" stroke=\"none\" width=\"45\" x=\"180\" y=\"270\"/><rect class=\"square dark f2\" fill=\"#d18b47\" height=\"45\" stroke=\"none\" width=\"45\" x=\"225\" y=\"270\"/><rect class=\"square light g2\" fill=\"#ffce9e\" height=\"45\" stroke=\"none\" width=\"45\" x=\"270\" y=\"270\"/><rect class=\"square dark h2\" fill=\"#d18b47\" height=\"45\" stroke=\"none\" width=\"45\" x=\"315\" y=\"270\"/><rect class=\"square dark a3\" fill=\"#d18b47\" height=\"45\" stroke=\"none\" width=\"45\" x=\"0\" y=\"225\"/><rect class=\"square light b3\" fill=\"#ffce9e\" height=\"45\" stroke=\"none\" width=\"45\" x=\"45\" y=\"225\"/><rect class=\"square dark c3\" fill=\"#d18b47\" height=\"45\" stroke=\"none\" width=\"45\" x=\"90\" y=\"225\"/><rect class=\"square light d3\" fill=\"#ffce9e\" height=\"45\" stroke=\"none\" width=\"45\" x=\"135\" y=\"225\"/><rect class=\"square dark e3\" fill=\"#d18b47\" height=\"45\" stroke=\"none\" width=\"45\" x=\"180\" y=\"225\"/><rect class=\"square light f3\" fill=\"#ffce9e\" height=\"45\" stroke=\"none\" width=\"45\" x=\"225\" y=\"225\"/><rect class=\"square dark g3\" fill=\"#d18b47\" height=\"45\" stroke=\"none\" width=\"45\" x=\"270\" y=\"225\"/><rect class=\"square light h3\" fill=\"#ffce9e\" height=\"45\" stroke=\"none\" width=\"45\" x=\"315\" y=\"225\"/><rect class=\"square light a4\" fill=\"#ffce9e\" height=\"45\" stroke=\"none\" width=\"45\" x=\"0\" y=\"180\"/><rect class=\"square dark b4\" fill=\"#d18b47\" height=\"45\" stroke=\"none\" width=\"45\" x=\"45\" y=\"180\"/><rect class=\"square light c4\" fill=\"#ffce9e\" height=\"45\" stroke=\"none\" width=\"45\" x=\"90\" y=\"180\"/><rect class=\"square dark d4\" fill=\"#d18b47\" height=\"45\" stroke=\"none\" width=\"45\" x=\"135\" y=\"180\"/><rect class=\"square light e4\" fill=\"#ffce9e\" height=\"45\" stroke=\"none\" width=\"45\" x=\"180\" y=\"180\"/><rect class=\"square dark f4\" fill=\"#d18b47\" height=\"45\" stroke=\"none\" width=\"45\" x=\"225\" y=\"180\"/><rect class=\"square light g4\" fill=\"#ffce9e\" height=\"45\" stroke=\"none\" width=\"45\" x=\"270\" y=\"180\"/><rect class=\"square dark h4\" fill=\"#d18b47\" height=\"45\" stroke=\"none\" width=\"45\" x=\"315\" y=\"180\"/><rect class=\"square dark a5\" fill=\"#d18b47\" height=\"45\" stroke=\"none\" width=\"45\" x=\"0\" y=\"135\"/><rect class=\"square light b5\" fill=\"#ffce9e\" height=\"45\" stroke=\"none\" width=\"45\" x=\"45\" y=\"135\"/><rect class=\"square dark c5\" fill=\"#d18b47\" height=\"45\" stroke=\"none\" width=\"45\" x=\"90\" y=\"135\"/><rect class=\"square light d5\" fill=\"#ffce9e\" height=\"45\" stroke=\"none\" width=\"45\" x=\"135\" y=\"135\"/><rect class=\"square dark e5\" fill=\"#d18b47\" height=\"45\" stroke=\"none\" width=\"45\" x=\"180\" y=\"135\"/><rect class=\"square light f5\" fill=\"#ffce9e\" height=\"45\" stroke=\"none\" width=\"45\" x=\"225\" y=\"135\"/><rect class=\"square dark g5\" fill=\"#d18b47\" height=\"45\" stroke=\"none\" width=\"45\" x=\"270\" y=\"135\"/><rect class=\"square light h5\" fill=\"#ffce9e\" height=\"45\" stroke=\"none\" width=\"45\" x=\"315\" y=\"135\"/><rect class=\"square light a6\" fill=\"#ffce9e\" height=\"45\" stroke=\"none\" width=\"45\" x=\"0\" y=\"90\"/><rect class=\"square dark b6\" fill=\"#d18b47\" height=\"45\" stroke=\"none\" width=\"45\" x=\"45\" y=\"90\"/><rect class=\"square light c6\" fill=\"#ffce9e\" height=\"45\" stroke=\"none\" width=\"45\" x=\"90\" y=\"90\"/><rect class=\"square dark d6\" fill=\"#d18b47\" height=\"45\" stroke=\"none\" width=\"45\" x=\"135\" y=\"90\"/><rect class=\"square light e6\" fill=\"#ffce9e\" height=\"45\" stroke=\"none\" width=\"45\" x=\"180\" y=\"90\"/><rect class=\"square dark f6\" fill=\"#d18b47\" height=\"45\" stroke=\"none\" width=\"45\" x=\"225\" y=\"90\"/><use transform=\"translate(225, 90)\" xlink:href=\"#white-bishop\"/><rect class=\"square light g6\" fill=\"#ffce9e\" height=\"45\" stroke=\"none\" width=\"45\" x=\"270\" y=\"90\"/><rect class=\"square dark h6\" fill=\"#d18b47\" height=\"45\" stroke=\"none\" width=\"45\" x=\"315\" y=\"90\"/><rect class=\"square dark a7\" fill=\"#d18b47\" height=\"45\" stroke=\"none\" width=\"45\" x=\"0\" y=\"45\"/><rect class=\"square light b7\" fill=\"#ffce9e\" height=\"45\" stroke=\"none\" width=\"45\" x=\"45\" y=\"45\"/><rect class=\"square dark c7\" fill=\"#d18b47\" height=\"45\" stroke=\"none\" width=\"45\" x=\"90\" y=\"45\"/><rect class=\"square light d7\" fill=\"#ffce9e\" height=\"45\" stroke=\"none\" width=\"45\" x=\"135\" y=\"45\"/><rect class=\"square dark e7\" fill=\"#d18b47\" height=\"45\" stroke=\"none\" width=\"45\" x=\"180\" y=\"45\"/><rect class=\"square light f7\" fill=\"#ffce9e\" height=\"45\" stroke=\"none\" width=\"45\" x=\"225\" y=\"45\"/><rect class=\"square dark g7\" fill=\"#d18b47\" height=\"45\" stroke=\"none\" width=\"45\" x=\"270\" y=\"45\"/><rect class=\"square light h7\" fill=\"#ffce9e\" height=\"45\" stroke=\"none\" width=\"45\" x=\"315\" y=\"45\"/><use transform=\"translate(315, 45)\" xlink:href=\"#white-queen\"/><rect class=\"square light a8\" fill=\"#ffce9e\" height=\"45\" stroke=\"none\" width=\"45\" x=\"0\" y=\"0\"/><rect class=\"square dark b8\" fill=\"#d18b47\" height=\"45\" stroke=\"none\" width=\"45\" x=\"45\" y=\"0\"/><rect class=\"square light c8\" fill=\"#ffce9e\" height=\"45\" stroke=\"none\" width=\"45\" x=\"90\" y=\"0\"/><use transform=\"translate(90, 0)\" xlink:href=\"#white-queen\"/><rect class=\"square dark d8\" fill=\"#d18b47\" height=\"45\" stroke=\"none\" width=\"45\" x=\"135\" y=\"0\"/><rect class=\"square light e8\" fill=\"#ffce9e\" height=\"45\" stroke=\"none\" width=\"45\" x=\"180\" y=\"0\"/><use transform=\"translate(180, 0)\" xlink:href=\"#white-queen\"/><rect class=\"square dark f8\" fill=\"#d18b47\" height=\"45\" stroke=\"none\" width=\"45\" x=\"225\" y=\"0\"/><rect class=\"square light g8\" fill=\"#ffce9e\" height=\"45\" stroke=\"none\" width=\"45\" x=\"270\" y=\"0\"/><rect class=\"square dark h8\" fill=\"#d18b47\" height=\"45\" stroke=\"none\" width=\"45\" x=\"315\" y=\"0\"/><use transform=\"translate(315, 0)\" xlink:href=\"#white-queen\"/><circle class=\"circle\" cx=\"157.5\" cy=\"337.5\" fill=\"none\" opacity=\"0.5\" r=\"20.25\" stroke=\"red\" stroke-width=\"4.5\"/><circle class=\"circle\" cx=\"247.5\" cy=\"337.5\" fill=\"none\" opacity=\"0.5\" r=\"20.25\" stroke=\"red\" stroke-width=\"4.5\"/><circle class=\"circle\" cx=\"292.5\" cy=\"337.5\" fill=\"none\" opacity=\"0.5\" r=\"20.25\" stroke=\"red\" stroke-width=\"4.5\"/><circle class=\"circle\" cx=\"22.5\" cy=\"292.5\" fill=\"none\" opacity=\"0.5\" r=\"20.25\" stroke=\"red\" stroke-width=\"4.5\"/><circle class=\"circle\" cx=\"157.5\" cy=\"292.5\" fill=\"none\" opacity=\"0.5\" r=\"20.25\" stroke=\"red\" stroke-width=\"4.5\"/><circle class=\"circle\" cx=\"247.5\" cy=\"292.5\" fill=\"none\" opacity=\"0.5\" r=\"20.25\" stroke=\"red\" stroke-width=\"4.5\"/><circle class=\"circle\" cx=\"292.5\" cy=\"292.5\" fill=\"none\" opacity=\"0.5\" r=\"20.25\" stroke=\"red\" stroke-width=\"4.5\"/><circle class=\"circle\" cx=\"22.5\" cy=\"247.5\" fill=\"none\" opacity=\"0.5\" r=\"20.25\" stroke=\"red\" stroke-width=\"4.5\"/><circle class=\"circle\" cx=\"67.5\" cy=\"247.5\" fill=\"none\" opacity=\"0.5\" r=\"20.25\" stroke=\"red\" stroke-width=\"4.5\"/><circle class=\"circle\" cx=\"247.5\" cy=\"247.5\" fill=\"none\" opacity=\"0.5\" r=\"20.25\" stroke=\"red\" stroke-width=\"4.5\"/><circle class=\"circle\" cx=\"292.5\" cy=\"247.5\" fill=\"none\" opacity=\"0.5\" r=\"20.25\" stroke=\"red\" stroke-width=\"4.5\"/><circle class=\"circle\" cx=\"67.5\" cy=\"202.5\" fill=\"none\" opacity=\"0.5\" r=\"20.25\" stroke=\"red\" stroke-width=\"4.5\"/><circle class=\"circle\" cx=\"247.5\" cy=\"202.5\" fill=\"none\" opacity=\"0.5\" r=\"20.25\" stroke=\"red\" stroke-width=\"4.5\"/><circle class=\"circle\" cx=\"22.5\" cy=\"157.5\" fill=\"none\" opacity=\"0.5\" r=\"20.25\" stroke=\"red\" stroke-width=\"4.5\"/><circle class=\"circle\" cx=\"157.5\" cy=\"157.5\" fill=\"none\" opacity=\"0.5\" r=\"20.25\" stroke=\"red\" stroke-width=\"4.5\"/><circle class=\"circle\" cx=\"67.5\" cy=\"112.5\" fill=\"none\" opacity=\"0.5\" r=\"20.25\" stroke=\"red\" stroke-width=\"4.5\"/><circle class=\"circle\" cx=\"157.5\" cy=\"112.5\" fill=\"none\" opacity=\"0.5\" r=\"20.25\" stroke=\"red\" stroke-width=\"4.5\"/></svg>"
      ],
      "text/plain": [
       "<IPython.core.display.SVG object>"
      ]
     },
     "metadata": {},
     "output_type": "display_data"
    },
    {
     "name": "stdout",
     "output_type": "stream",
     "text": [
      "48\n"
     ]
    },
    {
     "data": {
      "image/svg+xml": [
       "<svg version=\"1.1\" viewBox=\"0 0 360 360\" xmlns=\"http://www.w3.org/2000/svg\" xmlns:xlink=\"http://www.w3.org/1999/xlink\"><style>\n",
       ".square.light {\n",
       "fill: #cacaca;\n",
       "}\n",
       ".square.dark {\n",
       "fill: #898989;\n",
       "}\n",
       "#xx {\n",
       "fill: blue;\n",
       "stroke: red;\n",
       "}\n",
       ".square.light.lastmove {\n",
       "fill: #c3d889;\n",
       "}\n",
       ".square.dark.lastmove {\n",
       "fill: #92b167;\n",
       "}\n",
       ".check {\n",
       "fill: url(#check_gradient);\n",
       "}\n",
       ".arrow {\n",
       "stroke: #ff5858;\n",
       "fill: blue;\n",
       "}\n",
       ".mark {\n",
       "stroke: #959fff;\n",
       "fill: blue;\n",
       "}\n",
       "</style><defs><g class=\"white bishop\" fill=\"none\" fill-rule=\"evenodd\" id=\"white-bishop\" stroke=\"#000\" stroke-linecap=\"round\" stroke-linejoin=\"round\" stroke-width=\"1.5\"><g fill=\"#fff\" stroke-linecap=\"butt\"><path d=\"M9 36c3.39-.97 10.11.43 13.5-2 3.39 2.43 10.11 1.03 13.5 2 0 0 1.65.54 3 2-.68.97-1.65.99-3 .5-3.39-.97-10.11.46-13.5-1-3.39 1.46-10.11.03-13.5 1-1.354.49-2.323.47-3-.5 1.354-1.94 3-2 3-2zM15 32c2.5 2.5 12.5 2.5 15 0 .5-1.5 0-2 0-2 0-2.5-2.5-4-2.5-4 5.5-1.5 6-11.5-5-15.5-11 4-10.5 14-5 15.5 0 0-2.5 1.5-2.5 4 0 0-.5.5 0 2zM25 8a2.5 2.5 0 1 1-5 0 2.5 2.5 0 1 1 5 0z\"/></g><path d=\"M17.5 26h10M15 30h15m-7.5-14.5v5M20 18h5\" stroke-linejoin=\"miter\"/></g><g class=\"white queen\" fill=\"#fff\" fill-rule=\"evenodd\" id=\"white-queen\" stroke=\"#000\" stroke-linecap=\"round\" stroke-linejoin=\"round\" stroke-width=\"1.5\"><path d=\"M8 12a2 2 0 1 1-4 0 2 2 0 1 1 4 0zM24.5 7.5a2 2 0 1 1-4 0 2 2 0 1 1 4 0zM41 12a2 2 0 1 1-4 0 2 2 0 1 1 4 0zM16 8.5a2 2 0 1 1-4 0 2 2 0 1 1 4 0zM33 9a2 2 0 1 1-4 0 2 2 0 1 1 4 0z\"/><path d=\"M9 26c8.5-1.5 21-1.5 27 0l2-12-7 11V11l-5.5 13.5-3-15-3 15-5.5-14V25L7 14l2 12zM9 26c0 2 1.5 2 2.5 4 1 1.5 1 1 .5 3.5-1.5 1-1.5 2.5-1.5 2.5-1.5 1.5.5 2.5.5 2.5 6.5 1 16.5 1 23 0 0 0 1.5-1 0-2.5 0 0 .5-1.5-1-2.5-.5-2.5-.5-2 .5-3.5 1-2 2.5-2 2.5-4-8.5-1.5-18.5-1.5-27 0z\" stroke-linecap=\"butt\"/><path d=\"M11.5 30c3.5-1 18.5-1 22 0M12 33.5c6-1 15-1 21 0\" fill=\"none\"/></g></defs><rect class=\"square dark a1\" fill=\"#d18b47\" height=\"45\" stroke=\"none\" width=\"45\" x=\"0\" y=\"315\"/><rect class=\"square light b1\" fill=\"#ffce9e\" height=\"45\" stroke=\"none\" width=\"45\" x=\"45\" y=\"315\"/><rect class=\"square dark c1\" fill=\"#d18b47\" height=\"45\" stroke=\"none\" width=\"45\" x=\"90\" y=\"315\"/><rect class=\"square light d1\" fill=\"#ffce9e\" height=\"45\" stroke=\"none\" width=\"45\" x=\"135\" y=\"315\"/><rect class=\"square dark e1\" fill=\"#d18b47\" height=\"45\" stroke=\"none\" width=\"45\" x=\"180\" y=\"315\"/><rect class=\"square light f1\" fill=\"#ffce9e\" height=\"45\" stroke=\"none\" width=\"45\" x=\"225\" y=\"315\"/><rect class=\"square dark g1\" fill=\"#d18b47\" height=\"45\" stroke=\"none\" width=\"45\" x=\"270\" y=\"315\"/><rect class=\"square light h1\" fill=\"#ffce9e\" height=\"45\" stroke=\"none\" width=\"45\" x=\"315\" y=\"315\"/><rect class=\"square light a2\" fill=\"#ffce9e\" height=\"45\" stroke=\"none\" width=\"45\" x=\"0\" y=\"270\"/><rect class=\"square dark b2\" fill=\"#d18b47\" height=\"45\" stroke=\"none\" width=\"45\" x=\"45\" y=\"270\"/><rect class=\"square light c2\" fill=\"#ffce9e\" height=\"45\" stroke=\"none\" width=\"45\" x=\"90\" y=\"270\"/><rect class=\"square dark d2\" fill=\"#d18b47\" height=\"45\" stroke=\"none\" width=\"45\" x=\"135\" y=\"270\"/><rect class=\"square light e2\" fill=\"#ffce9e\" height=\"45\" stroke=\"none\" width=\"45\" x=\"180\" y=\"270\"/><rect class=\"square dark f2\" fill=\"#d18b47\" height=\"45\" stroke=\"none\" width=\"45\" x=\"225\" y=\"270\"/><rect class=\"square light g2\" fill=\"#ffce9e\" height=\"45\" stroke=\"none\" width=\"45\" x=\"270\" y=\"270\"/><rect class=\"square dark h2\" fill=\"#d18b47\" height=\"45\" stroke=\"none\" width=\"45\" x=\"315\" y=\"270\"/><rect class=\"square dark a3\" fill=\"#d18b47\" height=\"45\" stroke=\"none\" width=\"45\" x=\"0\" y=\"225\"/><rect class=\"square light b3\" fill=\"#ffce9e\" height=\"45\" stroke=\"none\" width=\"45\" x=\"45\" y=\"225\"/><rect class=\"square dark c3\" fill=\"#d18b47\" height=\"45\" stroke=\"none\" width=\"45\" x=\"90\" y=\"225\"/><rect class=\"square light d3\" fill=\"#ffce9e\" height=\"45\" stroke=\"none\" width=\"45\" x=\"135\" y=\"225\"/><rect class=\"square dark e3\" fill=\"#d18b47\" height=\"45\" stroke=\"none\" width=\"45\" x=\"180\" y=\"225\"/><rect class=\"square light f3\" fill=\"#ffce9e\" height=\"45\" stroke=\"none\" width=\"45\" x=\"225\" y=\"225\"/><rect class=\"square dark g3\" fill=\"#d18b47\" height=\"45\" stroke=\"none\" width=\"45\" x=\"270\" y=\"225\"/><rect class=\"square light h3\" fill=\"#ffce9e\" height=\"45\" stroke=\"none\" width=\"45\" x=\"315\" y=\"225\"/><rect class=\"square light a4\" fill=\"#ffce9e\" height=\"45\" stroke=\"none\" width=\"45\" x=\"0\" y=\"180\"/><rect class=\"square dark b4\" fill=\"#d18b47\" height=\"45\" stroke=\"none\" width=\"45\" x=\"45\" y=\"180\"/><rect class=\"square light c4\" fill=\"#ffce9e\" height=\"45\" stroke=\"none\" width=\"45\" x=\"90\" y=\"180\"/><rect class=\"square dark d4\" fill=\"#d18b47\" height=\"45\" stroke=\"none\" width=\"45\" x=\"135\" y=\"180\"/><rect class=\"square light e4\" fill=\"#ffce9e\" height=\"45\" stroke=\"none\" width=\"45\" x=\"180\" y=\"180\"/><rect class=\"square dark f4\" fill=\"#d18b47\" height=\"45\" stroke=\"none\" width=\"45\" x=\"225\" y=\"180\"/><rect class=\"square light g4\" fill=\"#ffce9e\" height=\"45\" stroke=\"none\" width=\"45\" x=\"270\" y=\"180\"/><rect class=\"square dark h4\" fill=\"#d18b47\" height=\"45\" stroke=\"none\" width=\"45\" x=\"315\" y=\"180\"/><rect class=\"square dark a5\" fill=\"#d18b47\" height=\"45\" stroke=\"none\" width=\"45\" x=\"0\" y=\"135\"/><rect class=\"square light b5\" fill=\"#ffce9e\" height=\"45\" stroke=\"none\" width=\"45\" x=\"45\" y=\"135\"/><rect class=\"square dark c5\" fill=\"#d18b47\" height=\"45\" stroke=\"none\" width=\"45\" x=\"90\" y=\"135\"/><rect class=\"square light d5\" fill=\"#ffce9e\" height=\"45\" stroke=\"none\" width=\"45\" x=\"135\" y=\"135\"/><rect class=\"square dark e5\" fill=\"#d18b47\" height=\"45\" stroke=\"none\" width=\"45\" x=\"180\" y=\"135\"/><rect class=\"square light f5\" fill=\"#ffce9e\" height=\"45\" stroke=\"none\" width=\"45\" x=\"225\" y=\"135\"/><rect class=\"square dark g5\" fill=\"#d18b47\" height=\"45\" stroke=\"none\" width=\"45\" x=\"270\" y=\"135\"/><rect class=\"square light h5\" fill=\"#ffce9e\" height=\"45\" stroke=\"none\" width=\"45\" x=\"315\" y=\"135\"/><rect class=\"square light a6\" fill=\"#ffce9e\" height=\"45\" stroke=\"none\" width=\"45\" x=\"0\" y=\"90\"/><rect class=\"square dark b6\" fill=\"#d18b47\" height=\"45\" stroke=\"none\" width=\"45\" x=\"45\" y=\"90\"/><rect class=\"square light c6\" fill=\"#ffce9e\" height=\"45\" stroke=\"none\" width=\"45\" x=\"90\" y=\"90\"/><rect class=\"square dark d6\" fill=\"#d18b47\" height=\"45\" stroke=\"none\" width=\"45\" x=\"135\" y=\"90\"/><rect class=\"square light e6\" fill=\"#ffce9e\" height=\"45\" stroke=\"none\" width=\"45\" x=\"180\" y=\"90\"/><rect class=\"square dark f6\" fill=\"#d18b47\" height=\"45\" stroke=\"none\" width=\"45\" x=\"225\" y=\"90\"/><rect class=\"square light g6\" fill=\"#ffce9e\" height=\"45\" stroke=\"none\" width=\"45\" x=\"270\" y=\"90\"/><rect class=\"square dark h6\" fill=\"#d18b47\" height=\"45\" stroke=\"none\" width=\"45\" x=\"315\" y=\"90\"/><rect class=\"square dark a7\" fill=\"#d18b47\" height=\"45\" stroke=\"none\" width=\"45\" x=\"0\" y=\"45\"/><rect class=\"square light b7\" fill=\"#ffce9e\" height=\"45\" stroke=\"none\" width=\"45\" x=\"45\" y=\"45\"/><rect class=\"square dark c7\" fill=\"#d18b47\" height=\"45\" stroke=\"none\" width=\"45\" x=\"90\" y=\"45\"/><rect class=\"square light d7\" fill=\"#ffce9e\" height=\"45\" stroke=\"none\" width=\"45\" x=\"135\" y=\"45\"/><rect class=\"square dark e7\" fill=\"#d18b47\" height=\"45\" stroke=\"none\" width=\"45\" x=\"180\" y=\"45\"/><rect class=\"square light f7\" fill=\"#ffce9e\" height=\"45\" stroke=\"none\" width=\"45\" x=\"225\" y=\"45\"/><rect class=\"square dark g7\" fill=\"#d18b47\" height=\"45\" stroke=\"none\" width=\"45\" x=\"270\" y=\"45\"/><use transform=\"translate(270, 45)\" xlink:href=\"#white-bishop\"/><rect class=\"square light h7\" fill=\"#ffce9e\" height=\"45\" stroke=\"none\" width=\"45\" x=\"315\" y=\"45\"/><rect class=\"square light a8\" fill=\"#ffce9e\" height=\"45\" stroke=\"none\" width=\"45\" x=\"0\" y=\"0\"/><rect class=\"square dark b8\" fill=\"#d18b47\" height=\"45\" stroke=\"none\" width=\"45\" x=\"45\" y=\"0\"/><use transform=\"translate(45, 0)\" xlink:href=\"#white-queen\"/><rect class=\"square light c8\" fill=\"#ffce9e\" height=\"45\" stroke=\"none\" width=\"45\" x=\"90\" y=\"0\"/><rect class=\"square dark d8\" fill=\"#d18b47\" height=\"45\" stroke=\"none\" width=\"45\" x=\"135\" y=\"0\"/><use transform=\"translate(135, 0)\" xlink:href=\"#white-queen\"/><rect class=\"square light e8\" fill=\"#ffce9e\" height=\"45\" stroke=\"none\" width=\"45\" x=\"180\" y=\"0\"/><rect class=\"square dark f8\" fill=\"#d18b47\" height=\"45\" stroke=\"none\" width=\"45\" x=\"225\" y=\"0\"/><use transform=\"translate(225, 0)\" xlink:href=\"#white-queen\"/><rect class=\"square light g8\" fill=\"#ffce9e\" height=\"45\" stroke=\"none\" width=\"45\" x=\"270\" y=\"0\"/><rect class=\"square dark h8\" fill=\"#d18b47\" height=\"45\" stroke=\"none\" width=\"45\" x=\"315\" y=\"0\"/><use transform=\"translate(315, 0)\" xlink:href=\"#white-queen\"/><circle class=\"circle\" cx=\"112.5\" cy=\"337.5\" fill=\"none\" opacity=\"0.5\" r=\"20.25\" stroke=\"red\" stroke-width=\"4.5\"/><circle class=\"circle\" cx=\"202.5\" cy=\"337.5\" fill=\"none\" opacity=\"0.5\" r=\"20.25\" stroke=\"red\" stroke-width=\"4.5\"/><circle class=\"circle\" cx=\"292.5\" cy=\"337.5\" fill=\"none\" opacity=\"0.5\" r=\"20.25\" stroke=\"red\" stroke-width=\"4.5\"/><circle class=\"circle\" cx=\"22.5\" cy=\"292.5\" fill=\"none\" opacity=\"0.5\" r=\"20.25\" stroke=\"red\" stroke-width=\"4.5\"/><circle class=\"circle\" cx=\"112.5\" cy=\"292.5\" fill=\"none\" opacity=\"0.5\" r=\"20.25\" stroke=\"red\" stroke-width=\"4.5\"/><circle class=\"circle\" cx=\"202.5\" cy=\"292.5\" fill=\"none\" opacity=\"0.5\" r=\"20.25\" stroke=\"red\" stroke-width=\"4.5\"/><circle class=\"circle\" cx=\"292.5\" cy=\"292.5\" fill=\"none\" opacity=\"0.5\" r=\"20.25\" stroke=\"red\" stroke-width=\"4.5\"/><circle class=\"circle\" cx=\"202.5\" cy=\"247.5\" fill=\"none\" opacity=\"0.5\" r=\"20.25\" stroke=\"red\" stroke-width=\"4.5\"/><circle class=\"circle\" cx=\"22.5\" cy=\"202.5\" fill=\"none\" opacity=\"0.5\" r=\"20.25\" stroke=\"red\" stroke-width=\"4.5\"/><circle class=\"circle\" cx=\"112.5\" cy=\"202.5\" fill=\"none\" opacity=\"0.5\" r=\"20.25\" stroke=\"red\" stroke-width=\"4.5\"/><circle class=\"circle\" cx=\"202.5\" cy=\"202.5\" fill=\"none\" opacity=\"0.5\" r=\"20.25\" stroke=\"red\" stroke-width=\"4.5\"/><circle class=\"circle\" cx=\"292.5\" cy=\"202.5\" fill=\"none\" opacity=\"0.5\" r=\"20.25\" stroke=\"red\" stroke-width=\"4.5\"/><circle class=\"circle\" cx=\"22.5\" cy=\"112.5\" fill=\"none\" opacity=\"0.5\" r=\"20.25\" stroke=\"red\" stroke-width=\"4.5\"/><circle class=\"circle\" cx=\"112.5\" cy=\"112.5\" fill=\"none\" opacity=\"0.5\" r=\"20.25\" stroke=\"red\" stroke-width=\"4.5\"/><circle class=\"circle\" cx=\"202.5\" cy=\"112.5\" fill=\"none\" opacity=\"0.5\" r=\"20.25\" stroke=\"red\" stroke-width=\"4.5\"/><circle class=\"circle\" cx=\"292.5\" cy=\"112.5\" fill=\"none\" opacity=\"0.5\" r=\"20.25\" stroke=\"red\" stroke-width=\"4.5\"/></svg>"
      ],
      "text/plain": [
       "<IPython.core.display.SVG object>"
      ]
     },
     "metadata": {},
     "output_type": "display_data"
    },
    {
     "name": "stdout",
     "output_type": "stream",
     "text": [
      "49\n"
     ]
    },
    {
     "data": {
      "image/svg+xml": [
       "<svg version=\"1.1\" viewBox=\"0 0 360 360\" xmlns=\"http://www.w3.org/2000/svg\" xmlns:xlink=\"http://www.w3.org/1999/xlink\"><style>\n",
       ".square.light {\n",
       "fill: #cacaca;\n",
       "}\n",
       ".square.dark {\n",
       "fill: #898989;\n",
       "}\n",
       "#xx {\n",
       "fill: blue;\n",
       "stroke: red;\n",
       "}\n",
       ".square.light.lastmove {\n",
       "fill: #c3d889;\n",
       "}\n",
       ".square.dark.lastmove {\n",
       "fill: #92b167;\n",
       "}\n",
       ".check {\n",
       "fill: url(#check_gradient);\n",
       "}\n",
       ".arrow {\n",
       "stroke: #ff5858;\n",
       "fill: blue;\n",
       "}\n",
       ".mark {\n",
       "stroke: #959fff;\n",
       "fill: blue;\n",
       "}\n",
       "</style><defs><g class=\"white bishop\" fill=\"none\" fill-rule=\"evenodd\" id=\"white-bishop\" stroke=\"#000\" stroke-linecap=\"round\" stroke-linejoin=\"round\" stroke-width=\"1.5\"><g fill=\"#fff\" stroke-linecap=\"butt\"><path d=\"M9 36c3.39-.97 10.11.43 13.5-2 3.39 2.43 10.11 1.03 13.5 2 0 0 1.65.54 3 2-.68.97-1.65.99-3 .5-3.39-.97-10.11.46-13.5-1-3.39 1.46-10.11.03-13.5 1-1.354.49-2.323.47-3-.5 1.354-1.94 3-2 3-2zM15 32c2.5 2.5 12.5 2.5 15 0 .5-1.5 0-2 0-2 0-2.5-2.5-4-2.5-4 5.5-1.5 6-11.5-5-15.5-11 4-10.5 14-5 15.5 0 0-2.5 1.5-2.5 4 0 0-.5.5 0 2zM25 8a2.5 2.5 0 1 1-5 0 2.5 2.5 0 1 1 5 0z\"/></g><path d=\"M17.5 26h10M15 30h15m-7.5-14.5v5M20 18h5\" stroke-linejoin=\"miter\"/></g><g class=\"white queen\" fill=\"#fff\" fill-rule=\"evenodd\" id=\"white-queen\" stroke=\"#000\" stroke-linecap=\"round\" stroke-linejoin=\"round\" stroke-width=\"1.5\"><path d=\"M8 12a2 2 0 1 1-4 0 2 2 0 1 1 4 0zM24.5 7.5a2 2 0 1 1-4 0 2 2 0 1 1 4 0zM41 12a2 2 0 1 1-4 0 2 2 0 1 1 4 0zM16 8.5a2 2 0 1 1-4 0 2 2 0 1 1 4 0zM33 9a2 2 0 1 1-4 0 2 2 0 1 1 4 0z\"/><path d=\"M9 26c8.5-1.5 21-1.5 27 0l2-12-7 11V11l-5.5 13.5-3-15-3 15-5.5-14V25L7 14l2 12zM9 26c0 2 1.5 2 2.5 4 1 1.5 1 1 .5 3.5-1.5 1-1.5 2.5-1.5 2.5-1.5 1.5.5 2.5.5 2.5 6.5 1 16.5 1 23 0 0 0 1.5-1 0-2.5 0 0 .5-1.5-1-2.5-.5-2.5-.5-2 .5-3.5 1-2 2.5-2 2.5-4-8.5-1.5-18.5-1.5-27 0z\" stroke-linecap=\"butt\"/><path d=\"M11.5 30c3.5-1 18.5-1 22 0M12 33.5c6-1 15-1 21 0\" fill=\"none\"/></g></defs><rect class=\"square dark a1\" fill=\"#d18b47\" height=\"45\" stroke=\"none\" width=\"45\" x=\"0\" y=\"315\"/><rect class=\"square light b1\" fill=\"#ffce9e\" height=\"45\" stroke=\"none\" width=\"45\" x=\"45\" y=\"315\"/><rect class=\"square dark c1\" fill=\"#d18b47\" height=\"45\" stroke=\"none\" width=\"45\" x=\"90\" y=\"315\"/><rect class=\"square light d1\" fill=\"#ffce9e\" height=\"45\" stroke=\"none\" width=\"45\" x=\"135\" y=\"315\"/><rect class=\"square dark e1\" fill=\"#d18b47\" height=\"45\" stroke=\"none\" width=\"45\" x=\"180\" y=\"315\"/><rect class=\"square light f1\" fill=\"#ffce9e\" height=\"45\" stroke=\"none\" width=\"45\" x=\"225\" y=\"315\"/><rect class=\"square dark g1\" fill=\"#d18b47\" height=\"45\" stroke=\"none\" width=\"45\" x=\"270\" y=\"315\"/><rect class=\"square light h1\" fill=\"#ffce9e\" height=\"45\" stroke=\"none\" width=\"45\" x=\"315\" y=\"315\"/><rect class=\"square light a2\" fill=\"#ffce9e\" height=\"45\" stroke=\"none\" width=\"45\" x=\"0\" y=\"270\"/><rect class=\"square dark b2\" fill=\"#d18b47\" height=\"45\" stroke=\"none\" width=\"45\" x=\"45\" y=\"270\"/><rect class=\"square light c2\" fill=\"#ffce9e\" height=\"45\" stroke=\"none\" width=\"45\" x=\"90\" y=\"270\"/><rect class=\"square dark d2\" fill=\"#d18b47\" height=\"45\" stroke=\"none\" width=\"45\" x=\"135\" y=\"270\"/><rect class=\"square light e2\" fill=\"#ffce9e\" height=\"45\" stroke=\"none\" width=\"45\" x=\"180\" y=\"270\"/><rect class=\"square dark f2\" fill=\"#d18b47\" height=\"45\" stroke=\"none\" width=\"45\" x=\"225\" y=\"270\"/><rect class=\"square light g2\" fill=\"#ffce9e\" height=\"45\" stroke=\"none\" width=\"45\" x=\"270\" y=\"270\"/><rect class=\"square dark h2\" fill=\"#d18b47\" height=\"45\" stroke=\"none\" width=\"45\" x=\"315\" y=\"270\"/><rect class=\"square dark a3\" fill=\"#d18b47\" height=\"45\" stroke=\"none\" width=\"45\" x=\"0\" y=\"225\"/><rect class=\"square light b3\" fill=\"#ffce9e\" height=\"45\" stroke=\"none\" width=\"45\" x=\"45\" y=\"225\"/><rect class=\"square dark c3\" fill=\"#d18b47\" height=\"45\" stroke=\"none\" width=\"45\" x=\"90\" y=\"225\"/><rect class=\"square light d3\" fill=\"#ffce9e\" height=\"45\" stroke=\"none\" width=\"45\" x=\"135\" y=\"225\"/><rect class=\"square dark e3\" fill=\"#d18b47\" height=\"45\" stroke=\"none\" width=\"45\" x=\"180\" y=\"225\"/><rect class=\"square light f3\" fill=\"#ffce9e\" height=\"45\" stroke=\"none\" width=\"45\" x=\"225\" y=\"225\"/><rect class=\"square dark g3\" fill=\"#d18b47\" height=\"45\" stroke=\"none\" width=\"45\" x=\"270\" y=\"225\"/><rect class=\"square light h3\" fill=\"#ffce9e\" height=\"45\" stroke=\"none\" width=\"45\" x=\"315\" y=\"225\"/><rect class=\"square light a4\" fill=\"#ffce9e\" height=\"45\" stroke=\"none\" width=\"45\" x=\"0\" y=\"180\"/><rect class=\"square dark b4\" fill=\"#d18b47\" height=\"45\" stroke=\"none\" width=\"45\" x=\"45\" y=\"180\"/><rect class=\"square light c4\" fill=\"#ffce9e\" height=\"45\" stroke=\"none\" width=\"45\" x=\"90\" y=\"180\"/><rect class=\"square dark d4\" fill=\"#d18b47\" height=\"45\" stroke=\"none\" width=\"45\" x=\"135\" y=\"180\"/><rect class=\"square light e4\" fill=\"#ffce9e\" height=\"45\" stroke=\"none\" width=\"45\" x=\"180\" y=\"180\"/><rect class=\"square dark f4\" fill=\"#d18b47\" height=\"45\" stroke=\"none\" width=\"45\" x=\"225\" y=\"180\"/><rect class=\"square light g4\" fill=\"#ffce9e\" height=\"45\" stroke=\"none\" width=\"45\" x=\"270\" y=\"180\"/><rect class=\"square dark h4\" fill=\"#d18b47\" height=\"45\" stroke=\"none\" width=\"45\" x=\"315\" y=\"180\"/><rect class=\"square dark a5\" fill=\"#d18b47\" height=\"45\" stroke=\"none\" width=\"45\" x=\"0\" y=\"135\"/><rect class=\"square light b5\" fill=\"#ffce9e\" height=\"45\" stroke=\"none\" width=\"45\" x=\"45\" y=\"135\"/><rect class=\"square dark c5\" fill=\"#d18b47\" height=\"45\" stroke=\"none\" width=\"45\" x=\"90\" y=\"135\"/><rect class=\"square light d5\" fill=\"#ffce9e\" height=\"45\" stroke=\"none\" width=\"45\" x=\"135\" y=\"135\"/><rect class=\"square dark e5\" fill=\"#d18b47\" height=\"45\" stroke=\"none\" width=\"45\" x=\"180\" y=\"135\"/><rect class=\"square light f5\" fill=\"#ffce9e\" height=\"45\" stroke=\"none\" width=\"45\" x=\"225\" y=\"135\"/><rect class=\"square dark g5\" fill=\"#d18b47\" height=\"45\" stroke=\"none\" width=\"45\" x=\"270\" y=\"135\"/><rect class=\"square light h5\" fill=\"#ffce9e\" height=\"45\" stroke=\"none\" width=\"45\" x=\"315\" y=\"135\"/><rect class=\"square light a6\" fill=\"#ffce9e\" height=\"45\" stroke=\"none\" width=\"45\" x=\"0\" y=\"90\"/><rect class=\"square dark b6\" fill=\"#d18b47\" height=\"45\" stroke=\"none\" width=\"45\" x=\"45\" y=\"90\"/><rect class=\"square light c6\" fill=\"#ffce9e\" height=\"45\" stroke=\"none\" width=\"45\" x=\"90\" y=\"90\"/><rect class=\"square dark d6\" fill=\"#d18b47\" height=\"45\" stroke=\"none\" width=\"45\" x=\"135\" y=\"90\"/><rect class=\"square light e6\" fill=\"#ffce9e\" height=\"45\" stroke=\"none\" width=\"45\" x=\"180\" y=\"90\"/><rect class=\"square dark f6\" fill=\"#d18b47\" height=\"45\" stroke=\"none\" width=\"45\" x=\"225\" y=\"90\"/><rect class=\"square light g6\" fill=\"#ffce9e\" height=\"45\" stroke=\"none\" width=\"45\" x=\"270\" y=\"90\"/><rect class=\"square dark h6\" fill=\"#d18b47\" height=\"45\" stroke=\"none\" width=\"45\" x=\"315\" y=\"90\"/><rect class=\"square dark a7\" fill=\"#d18b47\" height=\"45\" stroke=\"none\" width=\"45\" x=\"0\" y=\"45\"/><rect class=\"square light b7\" fill=\"#ffce9e\" height=\"45\" stroke=\"none\" width=\"45\" x=\"45\" y=\"45\"/><rect class=\"square dark c7\" fill=\"#d18b47\" height=\"45\" stroke=\"none\" width=\"45\" x=\"90\" y=\"45\"/><rect class=\"square light d7\" fill=\"#ffce9e\" height=\"45\" stroke=\"none\" width=\"45\" x=\"135\" y=\"45\"/><rect class=\"square dark e7\" fill=\"#d18b47\" height=\"45\" stroke=\"none\" width=\"45\" x=\"180\" y=\"45\"/><rect class=\"square light f7\" fill=\"#ffce9e\" height=\"45\" stroke=\"none\" width=\"45\" x=\"225\" y=\"45\"/><rect class=\"square dark g7\" fill=\"#d18b47\" height=\"45\" stroke=\"none\" width=\"45\" x=\"270\" y=\"45\"/><use transform=\"translate(270, 45)\" xlink:href=\"#white-bishop\"/><rect class=\"square light h7\" fill=\"#ffce9e\" height=\"45\" stroke=\"none\" width=\"45\" x=\"315\" y=\"45\"/><rect class=\"square light a8\" fill=\"#ffce9e\" height=\"45\" stroke=\"none\" width=\"45\" x=\"0\" y=\"0\"/><rect class=\"square dark b8\" fill=\"#d18b47\" height=\"45\" stroke=\"none\" width=\"45\" x=\"45\" y=\"0\"/><use transform=\"translate(45, 0)\" xlink:href=\"#white-queen\"/><rect class=\"square light c8\" fill=\"#ffce9e\" height=\"45\" stroke=\"none\" width=\"45\" x=\"90\" y=\"0\"/><rect class=\"square dark d8\" fill=\"#d18b47\" height=\"45\" stroke=\"none\" width=\"45\" x=\"135\" y=\"0\"/><use transform=\"translate(135, 0)\" xlink:href=\"#white-queen\"/><rect class=\"square light e8\" fill=\"#ffce9e\" height=\"45\" stroke=\"none\" width=\"45\" x=\"180\" y=\"0\"/><rect class=\"square dark f8\" fill=\"#d18b47\" height=\"45\" stroke=\"none\" width=\"45\" x=\"225\" y=\"0\"/><rect class=\"square light g8\" fill=\"#ffce9e\" height=\"45\" stroke=\"none\" width=\"45\" x=\"270\" y=\"0\"/><use transform=\"translate(270, 0)\" xlink:href=\"#white-queen\"/><rect class=\"square dark h8\" fill=\"#d18b47\" height=\"45\" stroke=\"none\" width=\"45\" x=\"315\" y=\"0\"/><use transform=\"translate(315, 0)\" xlink:href=\"#white-queen\"/><circle class=\"circle\" cx=\"112.5\" cy=\"337.5\" fill=\"none\" opacity=\"0.5\" r=\"20.25\" stroke=\"red\" stroke-width=\"4.5\"/><circle class=\"circle\" cx=\"202.5\" cy=\"337.5\" fill=\"none\" opacity=\"0.5\" r=\"20.25\" stroke=\"red\" stroke-width=\"4.5\"/><circle class=\"circle\" cx=\"247.5\" cy=\"337.5\" fill=\"none\" opacity=\"0.5\" r=\"20.25\" stroke=\"red\" stroke-width=\"4.5\"/><circle class=\"circle\" cx=\"292.5\" cy=\"337.5\" fill=\"none\" opacity=\"0.5\" r=\"20.25\" stroke=\"red\" stroke-width=\"4.5\"/><circle class=\"circle\" cx=\"112.5\" cy=\"292.5\" fill=\"none\" opacity=\"0.5\" r=\"20.25\" stroke=\"red\" stroke-width=\"4.5\"/><circle class=\"circle\" cx=\"202.5\" cy=\"292.5\" fill=\"none\" opacity=\"0.5\" r=\"20.25\" stroke=\"red\" stroke-width=\"4.5\"/><circle class=\"circle\" cx=\"247.5\" cy=\"292.5\" fill=\"none\" opacity=\"0.5\" r=\"20.25\" stroke=\"red\" stroke-width=\"4.5\"/><circle class=\"circle\" cx=\"292.5\" cy=\"292.5\" fill=\"none\" opacity=\"0.5\" r=\"20.25\" stroke=\"red\" stroke-width=\"4.5\"/><circle class=\"circle\" cx=\"22.5\" cy=\"247.5\" fill=\"none\" opacity=\"0.5\" r=\"20.25\" stroke=\"red\" stroke-width=\"4.5\"/><circle class=\"circle\" cx=\"202.5\" cy=\"247.5\" fill=\"none\" opacity=\"0.5\" r=\"20.25\" stroke=\"red\" stroke-width=\"4.5\"/><circle class=\"circle\" cx=\"247.5\" cy=\"247.5\" fill=\"none\" opacity=\"0.5\" r=\"20.25\" stroke=\"red\" stroke-width=\"4.5\"/><circle class=\"circle\" cx=\"22.5\" cy=\"202.5\" fill=\"none\" opacity=\"0.5\" r=\"20.25\" stroke=\"red\" stroke-width=\"4.5\"/><circle class=\"circle\" cx=\"202.5\" cy=\"202.5\" fill=\"none\" opacity=\"0.5\" r=\"20.25\" stroke=\"red\" stroke-width=\"4.5\"/><circle class=\"circle\" cx=\"292.5\" cy=\"202.5\" fill=\"none\" opacity=\"0.5\" r=\"20.25\" stroke=\"red\" stroke-width=\"4.5\"/><circle class=\"circle\" cx=\"112.5\" cy=\"157.5\" fill=\"none\" opacity=\"0.5\" r=\"20.25\" stroke=\"red\" stroke-width=\"4.5\"/><circle class=\"circle\" cx=\"247.5\" cy=\"157.5\" fill=\"none\" opacity=\"0.5\" r=\"20.25\" stroke=\"red\" stroke-width=\"4.5\"/><circle class=\"circle\" cx=\"22.5\" cy=\"112.5\" fill=\"none\" opacity=\"0.5\" r=\"20.25\" stroke=\"red\" stroke-width=\"4.5\"/><circle class=\"circle\" cx=\"112.5\" cy=\"112.5\" fill=\"none\" opacity=\"0.5\" r=\"20.25\" stroke=\"red\" stroke-width=\"4.5\"/><circle class=\"circle\" cx=\"292.5\" cy=\"112.5\" fill=\"none\" opacity=\"0.5\" r=\"20.25\" stroke=\"red\" stroke-width=\"4.5\"/></svg>"
      ],
      "text/plain": [
       "<IPython.core.display.SVG object>"
      ]
     },
     "metadata": {},
     "output_type": "display_data"
    },
    {
     "name": "stdout",
     "output_type": "stream",
     "text": [
      "50\n"
     ]
    },
    {
     "data": {
      "image/svg+xml": [
       "<svg version=\"1.1\" viewBox=\"0 0 360 360\" xmlns=\"http://www.w3.org/2000/svg\" xmlns:xlink=\"http://www.w3.org/1999/xlink\"><style>\n",
       ".square.light {\n",
       "fill: #cacaca;\n",
       "}\n",
       ".square.dark {\n",
       "fill: #898989;\n",
       "}\n",
       "#xx {\n",
       "fill: blue;\n",
       "stroke: red;\n",
       "}\n",
       ".square.light.lastmove {\n",
       "fill: #c3d889;\n",
       "}\n",
       ".square.dark.lastmove {\n",
       "fill: #92b167;\n",
       "}\n",
       ".check {\n",
       "fill: url(#check_gradient);\n",
       "}\n",
       ".arrow {\n",
       "stroke: #ff5858;\n",
       "fill: blue;\n",
       "}\n",
       ".mark {\n",
       "stroke: #959fff;\n",
       "fill: blue;\n",
       "}\n",
       "</style><defs><g class=\"white bishop\" fill=\"none\" fill-rule=\"evenodd\" id=\"white-bishop\" stroke=\"#000\" stroke-linecap=\"round\" stroke-linejoin=\"round\" stroke-width=\"1.5\"><g fill=\"#fff\" stroke-linecap=\"butt\"><path d=\"M9 36c3.39-.97 10.11.43 13.5-2 3.39 2.43 10.11 1.03 13.5 2 0 0 1.65.54 3 2-.68.97-1.65.99-3 .5-3.39-.97-10.11.46-13.5-1-3.39 1.46-10.11.03-13.5 1-1.354.49-2.323.47-3-.5 1.354-1.94 3-2 3-2zM15 32c2.5 2.5 12.5 2.5 15 0 .5-1.5 0-2 0-2 0-2.5-2.5-4-2.5-4 5.5-1.5 6-11.5-5-15.5-11 4-10.5 14-5 15.5 0 0-2.5 1.5-2.5 4 0 0-.5.5 0 2zM25 8a2.5 2.5 0 1 1-5 0 2.5 2.5 0 1 1 5 0z\"/></g><path d=\"M17.5 26h10M15 30h15m-7.5-14.5v5M20 18h5\" stroke-linejoin=\"miter\"/></g><g class=\"white queen\" fill=\"#fff\" fill-rule=\"evenodd\" id=\"white-queen\" stroke=\"#000\" stroke-linecap=\"round\" stroke-linejoin=\"round\" stroke-width=\"1.5\"><path d=\"M8 12a2 2 0 1 1-4 0 2 2 0 1 1 4 0zM24.5 7.5a2 2 0 1 1-4 0 2 2 0 1 1 4 0zM41 12a2 2 0 1 1-4 0 2 2 0 1 1 4 0zM16 8.5a2 2 0 1 1-4 0 2 2 0 1 1 4 0zM33 9a2 2 0 1 1-4 0 2 2 0 1 1 4 0z\"/><path d=\"M9 26c8.5-1.5 21-1.5 27 0l2-12-7 11V11l-5.5 13.5-3-15-3 15-5.5-14V25L7 14l2 12zM9 26c0 2 1.5 2 2.5 4 1 1.5 1 1 .5 3.5-1.5 1-1.5 2.5-1.5 2.5-1.5 1.5.5 2.5.5 2.5 6.5 1 16.5 1 23 0 0 0 1.5-1 0-2.5 0 0 .5-1.5-1-2.5-.5-2.5-.5-2 .5-3.5 1-2 2.5-2 2.5-4-8.5-1.5-18.5-1.5-27 0z\" stroke-linecap=\"butt\"/><path d=\"M11.5 30c3.5-1 18.5-1 22 0M12 33.5c6-1 15-1 21 0\" fill=\"none\"/></g></defs><rect class=\"square dark a1\" fill=\"#d18b47\" height=\"45\" stroke=\"none\" width=\"45\" x=\"0\" y=\"315\"/><rect class=\"square light b1\" fill=\"#ffce9e\" height=\"45\" stroke=\"none\" width=\"45\" x=\"45\" y=\"315\"/><rect class=\"square dark c1\" fill=\"#d18b47\" height=\"45\" stroke=\"none\" width=\"45\" x=\"90\" y=\"315\"/><rect class=\"square light d1\" fill=\"#ffce9e\" height=\"45\" stroke=\"none\" width=\"45\" x=\"135\" y=\"315\"/><rect class=\"square dark e1\" fill=\"#d18b47\" height=\"45\" stroke=\"none\" width=\"45\" x=\"180\" y=\"315\"/><rect class=\"square light f1\" fill=\"#ffce9e\" height=\"45\" stroke=\"none\" width=\"45\" x=\"225\" y=\"315\"/><rect class=\"square dark g1\" fill=\"#d18b47\" height=\"45\" stroke=\"none\" width=\"45\" x=\"270\" y=\"315\"/><rect class=\"square light h1\" fill=\"#ffce9e\" height=\"45\" stroke=\"none\" width=\"45\" x=\"315\" y=\"315\"/><rect class=\"square light a2\" fill=\"#ffce9e\" height=\"45\" stroke=\"none\" width=\"45\" x=\"0\" y=\"270\"/><rect class=\"square dark b2\" fill=\"#d18b47\" height=\"45\" stroke=\"none\" width=\"45\" x=\"45\" y=\"270\"/><rect class=\"square light c2\" fill=\"#ffce9e\" height=\"45\" stroke=\"none\" width=\"45\" x=\"90\" y=\"270\"/><rect class=\"square dark d2\" fill=\"#d18b47\" height=\"45\" stroke=\"none\" width=\"45\" x=\"135\" y=\"270\"/><rect class=\"square light e2\" fill=\"#ffce9e\" height=\"45\" stroke=\"none\" width=\"45\" x=\"180\" y=\"270\"/><rect class=\"square dark f2\" fill=\"#d18b47\" height=\"45\" stroke=\"none\" width=\"45\" x=\"225\" y=\"270\"/><rect class=\"square light g2\" fill=\"#ffce9e\" height=\"45\" stroke=\"none\" width=\"45\" x=\"270\" y=\"270\"/><rect class=\"square dark h2\" fill=\"#d18b47\" height=\"45\" stroke=\"none\" width=\"45\" x=\"315\" y=\"270\"/><rect class=\"square dark a3\" fill=\"#d18b47\" height=\"45\" stroke=\"none\" width=\"45\" x=\"0\" y=\"225\"/><rect class=\"square light b3\" fill=\"#ffce9e\" height=\"45\" stroke=\"none\" width=\"45\" x=\"45\" y=\"225\"/><rect class=\"square dark c3\" fill=\"#d18b47\" height=\"45\" stroke=\"none\" width=\"45\" x=\"90\" y=\"225\"/><rect class=\"square light d3\" fill=\"#ffce9e\" height=\"45\" stroke=\"none\" width=\"45\" x=\"135\" y=\"225\"/><rect class=\"square dark e3\" fill=\"#d18b47\" height=\"45\" stroke=\"none\" width=\"45\" x=\"180\" y=\"225\"/><rect class=\"square light f3\" fill=\"#ffce9e\" height=\"45\" stroke=\"none\" width=\"45\" x=\"225\" y=\"225\"/><rect class=\"square dark g3\" fill=\"#d18b47\" height=\"45\" stroke=\"none\" width=\"45\" x=\"270\" y=\"225\"/><rect class=\"square light h3\" fill=\"#ffce9e\" height=\"45\" stroke=\"none\" width=\"45\" x=\"315\" y=\"225\"/><rect class=\"square light a4\" fill=\"#ffce9e\" height=\"45\" stroke=\"none\" width=\"45\" x=\"0\" y=\"180\"/><rect class=\"square dark b4\" fill=\"#d18b47\" height=\"45\" stroke=\"none\" width=\"45\" x=\"45\" y=\"180\"/><rect class=\"square light c4\" fill=\"#ffce9e\" height=\"45\" stroke=\"none\" width=\"45\" x=\"90\" y=\"180\"/><rect class=\"square dark d4\" fill=\"#d18b47\" height=\"45\" stroke=\"none\" width=\"45\" x=\"135\" y=\"180\"/><rect class=\"square light e4\" fill=\"#ffce9e\" height=\"45\" stroke=\"none\" width=\"45\" x=\"180\" y=\"180\"/><rect class=\"square dark f4\" fill=\"#d18b47\" height=\"45\" stroke=\"none\" width=\"45\" x=\"225\" y=\"180\"/><rect class=\"square light g4\" fill=\"#ffce9e\" height=\"45\" stroke=\"none\" width=\"45\" x=\"270\" y=\"180\"/><rect class=\"square dark h4\" fill=\"#d18b47\" height=\"45\" stroke=\"none\" width=\"45\" x=\"315\" y=\"180\"/><rect class=\"square dark a5\" fill=\"#d18b47\" height=\"45\" stroke=\"none\" width=\"45\" x=\"0\" y=\"135\"/><rect class=\"square light b5\" fill=\"#ffce9e\" height=\"45\" stroke=\"none\" width=\"45\" x=\"45\" y=\"135\"/><rect class=\"square dark c5\" fill=\"#d18b47\" height=\"45\" stroke=\"none\" width=\"45\" x=\"90\" y=\"135\"/><rect class=\"square light d5\" fill=\"#ffce9e\" height=\"45\" stroke=\"none\" width=\"45\" x=\"135\" y=\"135\"/><rect class=\"square dark e5\" fill=\"#d18b47\" height=\"45\" stroke=\"none\" width=\"45\" x=\"180\" y=\"135\"/><rect class=\"square light f5\" fill=\"#ffce9e\" height=\"45\" stroke=\"none\" width=\"45\" x=\"225\" y=\"135\"/><rect class=\"square dark g5\" fill=\"#d18b47\" height=\"45\" stroke=\"none\" width=\"45\" x=\"270\" y=\"135\"/><rect class=\"square light h5\" fill=\"#ffce9e\" height=\"45\" stroke=\"none\" width=\"45\" x=\"315\" y=\"135\"/><rect class=\"square light a6\" fill=\"#ffce9e\" height=\"45\" stroke=\"none\" width=\"45\" x=\"0\" y=\"90\"/><rect class=\"square dark b6\" fill=\"#d18b47\" height=\"45\" stroke=\"none\" width=\"45\" x=\"45\" y=\"90\"/><rect class=\"square light c6\" fill=\"#ffce9e\" height=\"45\" stroke=\"none\" width=\"45\" x=\"90\" y=\"90\"/><rect class=\"square dark d6\" fill=\"#d18b47\" height=\"45\" stroke=\"none\" width=\"45\" x=\"135\" y=\"90\"/><rect class=\"square light e6\" fill=\"#ffce9e\" height=\"45\" stroke=\"none\" width=\"45\" x=\"180\" y=\"90\"/><rect class=\"square dark f6\" fill=\"#d18b47\" height=\"45\" stroke=\"none\" width=\"45\" x=\"225\" y=\"90\"/><rect class=\"square light g6\" fill=\"#ffce9e\" height=\"45\" stroke=\"none\" width=\"45\" x=\"270\" y=\"90\"/><rect class=\"square dark h6\" fill=\"#d18b47\" height=\"45\" stroke=\"none\" width=\"45\" x=\"315\" y=\"90\"/><rect class=\"square dark a7\" fill=\"#d18b47\" height=\"45\" stroke=\"none\" width=\"45\" x=\"0\" y=\"45\"/><rect class=\"square light b7\" fill=\"#ffce9e\" height=\"45\" stroke=\"none\" width=\"45\" x=\"45\" y=\"45\"/><rect class=\"square dark c7\" fill=\"#d18b47\" height=\"45\" stroke=\"none\" width=\"45\" x=\"90\" y=\"45\"/><rect class=\"square light d7\" fill=\"#ffce9e\" height=\"45\" stroke=\"none\" width=\"45\" x=\"135\" y=\"45\"/><rect class=\"square dark e7\" fill=\"#d18b47\" height=\"45\" stroke=\"none\" width=\"45\" x=\"180\" y=\"45\"/><rect class=\"square light f7\" fill=\"#ffce9e\" height=\"45\" stroke=\"none\" width=\"45\" x=\"225\" y=\"45\"/><rect class=\"square dark g7\" fill=\"#d18b47\" height=\"45\" stroke=\"none\" width=\"45\" x=\"270\" y=\"45\"/><use transform=\"translate(270, 45)\" xlink:href=\"#white-bishop\"/><rect class=\"square light h7\" fill=\"#ffce9e\" height=\"45\" stroke=\"none\" width=\"45\" x=\"315\" y=\"45\"/><rect class=\"square light a8\" fill=\"#ffce9e\" height=\"45\" stroke=\"none\" width=\"45\" x=\"0\" y=\"0\"/><rect class=\"square dark b8\" fill=\"#d18b47\" height=\"45\" stroke=\"none\" width=\"45\" x=\"45\" y=\"0\"/><rect class=\"square light c8\" fill=\"#ffce9e\" height=\"45\" stroke=\"none\" width=\"45\" x=\"90\" y=\"0\"/><rect class=\"square dark d8\" fill=\"#d18b47\" height=\"45\" stroke=\"none\" width=\"45\" x=\"135\" y=\"0\"/><use transform=\"translate(135, 0)\" xlink:href=\"#white-queen\"/><rect class=\"square light e8\" fill=\"#ffce9e\" height=\"45\" stroke=\"none\" width=\"45\" x=\"180\" y=\"0\"/><use transform=\"translate(180, 0)\" xlink:href=\"#white-queen\"/><rect class=\"square dark f8\" fill=\"#d18b47\" height=\"45\" stroke=\"none\" width=\"45\" x=\"225\" y=\"0\"/><rect class=\"square light g8\" fill=\"#ffce9e\" height=\"45\" stroke=\"none\" width=\"45\" x=\"270\" y=\"0\"/><use transform=\"translate(270, 0)\" xlink:href=\"#white-queen\"/><rect class=\"square dark h8\" fill=\"#d18b47\" height=\"45\" stroke=\"none\" width=\"45\" x=\"315\" y=\"0\"/><use transform=\"translate(315, 0)\" xlink:href=\"#white-queen\"/><circle class=\"circle\" cx=\"67.5\" cy=\"337.5\" fill=\"none\" opacity=\"0.5\" r=\"20.25\" stroke=\"red\" stroke-width=\"4.5\"/><circle class=\"circle\" cx=\"112.5\" cy=\"337.5\" fill=\"none\" opacity=\"0.5\" r=\"20.25\" stroke=\"red\" stroke-width=\"4.5\"/><circle class=\"circle\" cx=\"247.5\" cy=\"337.5\" fill=\"none\" opacity=\"0.5\" r=\"20.25\" stroke=\"red\" stroke-width=\"4.5\"/><circle class=\"circle\" cx=\"292.5\" cy=\"337.5\" fill=\"none\" opacity=\"0.5\" r=\"20.25\" stroke=\"red\" stroke-width=\"4.5\"/><circle class=\"circle\" cx=\"112.5\" cy=\"292.5\" fill=\"none\" opacity=\"0.5\" r=\"20.25\" stroke=\"red\" stroke-width=\"4.5\"/><circle class=\"circle\" cx=\"247.5\" cy=\"292.5\" fill=\"none\" opacity=\"0.5\" r=\"20.25\" stroke=\"red\" stroke-width=\"4.5\"/><circle class=\"circle\" cx=\"292.5\" cy=\"292.5\" fill=\"none\" opacity=\"0.5\" r=\"20.25\" stroke=\"red\" stroke-width=\"4.5\"/><circle class=\"circle\" cx=\"22.5\" cy=\"247.5\" fill=\"none\" opacity=\"0.5\" r=\"20.25\" stroke=\"red\" stroke-width=\"4.5\"/><circle class=\"circle\" cx=\"247.5\" cy=\"247.5\" fill=\"none\" opacity=\"0.5\" r=\"20.25\" stroke=\"red\" stroke-width=\"4.5\"/><circle class=\"circle\" cx=\"292.5\" cy=\"247.5\" fill=\"none\" opacity=\"0.5\" r=\"20.25\" stroke=\"red\" stroke-width=\"4.5\"/><circle class=\"circle\" cx=\"67.5\" cy=\"202.5\" fill=\"none\" opacity=\"0.5\" r=\"20.25\" stroke=\"red\" stroke-width=\"4.5\"/><circle class=\"circle\" cx=\"247.5\" cy=\"202.5\" fill=\"none\" opacity=\"0.5\" r=\"20.25\" stroke=\"red\" stroke-width=\"4.5\"/><circle class=\"circle\" cx=\"292.5\" cy=\"202.5\" fill=\"none\" opacity=\"0.5\" r=\"20.25\" stroke=\"red\" stroke-width=\"4.5\"/><circle class=\"circle\" cx=\"112.5\" cy=\"157.5\" fill=\"none\" opacity=\"0.5\" r=\"20.25\" stroke=\"red\" stroke-width=\"4.5\"/><circle class=\"circle\" cx=\"247.5\" cy=\"157.5\" fill=\"none\" opacity=\"0.5\" r=\"20.25\" stroke=\"red\" stroke-width=\"4.5\"/><circle class=\"circle\" cx=\"22.5\" cy=\"112.5\" fill=\"none\" opacity=\"0.5\" r=\"20.25\" stroke=\"red\" stroke-width=\"4.5\"/><circle class=\"circle\" cx=\"22.5\" cy=\"67.5\" fill=\"none\" opacity=\"0.5\" r=\"20.25\" stroke=\"red\" stroke-width=\"4.5\"/><circle class=\"circle\" cx=\"67.5\" cy=\"67.5\" fill=\"none\" opacity=\"0.5\" r=\"20.25\" stroke=\"red\" stroke-width=\"4.5\"/></svg>"
      ],
      "text/plain": [
       "<IPython.core.display.SVG object>"
      ]
     },
     "metadata": {},
     "output_type": "display_data"
    },
    {
     "name": "stdout",
     "output_type": "stream",
     "text": [
      "51\n"
     ]
    },
    {
     "data": {
      "image/svg+xml": [
       "<svg version=\"1.1\" viewBox=\"0 0 360 360\" xmlns=\"http://www.w3.org/2000/svg\" xmlns:xlink=\"http://www.w3.org/1999/xlink\"><style>\n",
       ".square.light {\n",
       "fill: #cacaca;\n",
       "}\n",
       ".square.dark {\n",
       "fill: #898989;\n",
       "}\n",
       "#xx {\n",
       "fill: blue;\n",
       "stroke: red;\n",
       "}\n",
       ".square.light.lastmove {\n",
       "fill: #c3d889;\n",
       "}\n",
       ".square.dark.lastmove {\n",
       "fill: #92b167;\n",
       "}\n",
       ".check {\n",
       "fill: url(#check_gradient);\n",
       "}\n",
       ".arrow {\n",
       "stroke: #ff5858;\n",
       "fill: blue;\n",
       "}\n",
       ".mark {\n",
       "stroke: #959fff;\n",
       "fill: blue;\n",
       "}\n",
       "</style><defs><g class=\"white bishop\" fill=\"none\" fill-rule=\"evenodd\" id=\"white-bishop\" stroke=\"#000\" stroke-linecap=\"round\" stroke-linejoin=\"round\" stroke-width=\"1.5\"><g fill=\"#fff\" stroke-linecap=\"butt\"><path d=\"M9 36c3.39-.97 10.11.43 13.5-2 3.39 2.43 10.11 1.03 13.5 2 0 0 1.65.54 3 2-.68.97-1.65.99-3 .5-3.39-.97-10.11.46-13.5-1-3.39 1.46-10.11.03-13.5 1-1.354.49-2.323.47-3-.5 1.354-1.94 3-2 3-2zM15 32c2.5 2.5 12.5 2.5 15 0 .5-1.5 0-2 0-2 0-2.5-2.5-4-2.5-4 5.5-1.5 6-11.5-5-15.5-11 4-10.5 14-5 15.5 0 0-2.5 1.5-2.5 4 0 0-.5.5 0 2zM25 8a2.5 2.5 0 1 1-5 0 2.5 2.5 0 1 1 5 0z\"/></g><path d=\"M17.5 26h10M15 30h15m-7.5-14.5v5M20 18h5\" stroke-linejoin=\"miter\"/></g><g class=\"white queen\" fill=\"#fff\" fill-rule=\"evenodd\" id=\"white-queen\" stroke=\"#000\" stroke-linecap=\"round\" stroke-linejoin=\"round\" stroke-width=\"1.5\"><path d=\"M8 12a2 2 0 1 1-4 0 2 2 0 1 1 4 0zM24.5 7.5a2 2 0 1 1-4 0 2 2 0 1 1 4 0zM41 12a2 2 0 1 1-4 0 2 2 0 1 1 4 0zM16 8.5a2 2 0 1 1-4 0 2 2 0 1 1 4 0zM33 9a2 2 0 1 1-4 0 2 2 0 1 1 4 0z\"/><path d=\"M9 26c8.5-1.5 21-1.5 27 0l2-12-7 11V11l-5.5 13.5-3-15-3 15-5.5-14V25L7 14l2 12zM9 26c0 2 1.5 2 2.5 4 1 1.5 1 1 .5 3.5-1.5 1-1.5 2.5-1.5 2.5-1.5 1.5.5 2.5.5 2.5 6.5 1 16.5 1 23 0 0 0 1.5-1 0-2.5 0 0 .5-1.5-1-2.5-.5-2.5-.5-2 .5-3.5 1-2 2.5-2 2.5-4-8.5-1.5-18.5-1.5-27 0z\" stroke-linecap=\"butt\"/><path d=\"M11.5 30c3.5-1 18.5-1 22 0M12 33.5c6-1 15-1 21 0\" fill=\"none\"/></g></defs><rect class=\"square dark a1\" fill=\"#d18b47\" height=\"45\" stroke=\"none\" width=\"45\" x=\"0\" y=\"315\"/><rect class=\"square light b1\" fill=\"#ffce9e\" height=\"45\" stroke=\"none\" width=\"45\" x=\"45\" y=\"315\"/><rect class=\"square dark c1\" fill=\"#d18b47\" height=\"45\" stroke=\"none\" width=\"45\" x=\"90\" y=\"315\"/><rect class=\"square light d1\" fill=\"#ffce9e\" height=\"45\" stroke=\"none\" width=\"45\" x=\"135\" y=\"315\"/><rect class=\"square dark e1\" fill=\"#d18b47\" height=\"45\" stroke=\"none\" width=\"45\" x=\"180\" y=\"315\"/><rect class=\"square light f1\" fill=\"#ffce9e\" height=\"45\" stroke=\"none\" width=\"45\" x=\"225\" y=\"315\"/><rect class=\"square dark g1\" fill=\"#d18b47\" height=\"45\" stroke=\"none\" width=\"45\" x=\"270\" y=\"315\"/><rect class=\"square light h1\" fill=\"#ffce9e\" height=\"45\" stroke=\"none\" width=\"45\" x=\"315\" y=\"315\"/><rect class=\"square light a2\" fill=\"#ffce9e\" height=\"45\" stroke=\"none\" width=\"45\" x=\"0\" y=\"270\"/><rect class=\"square dark b2\" fill=\"#d18b47\" height=\"45\" stroke=\"none\" width=\"45\" x=\"45\" y=\"270\"/><rect class=\"square light c2\" fill=\"#ffce9e\" height=\"45\" stroke=\"none\" width=\"45\" x=\"90\" y=\"270\"/><rect class=\"square dark d2\" fill=\"#d18b47\" height=\"45\" stroke=\"none\" width=\"45\" x=\"135\" y=\"270\"/><rect class=\"square light e2\" fill=\"#ffce9e\" height=\"45\" stroke=\"none\" width=\"45\" x=\"180\" y=\"270\"/><rect class=\"square dark f2\" fill=\"#d18b47\" height=\"45\" stroke=\"none\" width=\"45\" x=\"225\" y=\"270\"/><rect class=\"square light g2\" fill=\"#ffce9e\" height=\"45\" stroke=\"none\" width=\"45\" x=\"270\" y=\"270\"/><rect class=\"square dark h2\" fill=\"#d18b47\" height=\"45\" stroke=\"none\" width=\"45\" x=\"315\" y=\"270\"/><rect class=\"square dark a3\" fill=\"#d18b47\" height=\"45\" stroke=\"none\" width=\"45\" x=\"0\" y=\"225\"/><rect class=\"square light b3\" fill=\"#ffce9e\" height=\"45\" stroke=\"none\" width=\"45\" x=\"45\" y=\"225\"/><rect class=\"square dark c3\" fill=\"#d18b47\" height=\"45\" stroke=\"none\" width=\"45\" x=\"90\" y=\"225\"/><rect class=\"square light d3\" fill=\"#ffce9e\" height=\"45\" stroke=\"none\" width=\"45\" x=\"135\" y=\"225\"/><rect class=\"square dark e3\" fill=\"#d18b47\" height=\"45\" stroke=\"none\" width=\"45\" x=\"180\" y=\"225\"/><rect class=\"square light f3\" fill=\"#ffce9e\" height=\"45\" stroke=\"none\" width=\"45\" x=\"225\" y=\"225\"/><rect class=\"square dark g3\" fill=\"#d18b47\" height=\"45\" stroke=\"none\" width=\"45\" x=\"270\" y=\"225\"/><rect class=\"square light h3\" fill=\"#ffce9e\" height=\"45\" stroke=\"none\" width=\"45\" x=\"315\" y=\"225\"/><rect class=\"square light a4\" fill=\"#ffce9e\" height=\"45\" stroke=\"none\" width=\"45\" x=\"0\" y=\"180\"/><rect class=\"square dark b4\" fill=\"#d18b47\" height=\"45\" stroke=\"none\" width=\"45\" x=\"45\" y=\"180\"/><rect class=\"square light c4\" fill=\"#ffce9e\" height=\"45\" stroke=\"none\" width=\"45\" x=\"90\" y=\"180\"/><rect class=\"square dark d4\" fill=\"#d18b47\" height=\"45\" stroke=\"none\" width=\"45\" x=\"135\" y=\"180\"/><rect class=\"square light e4\" fill=\"#ffce9e\" height=\"45\" stroke=\"none\" width=\"45\" x=\"180\" y=\"180\"/><rect class=\"square dark f4\" fill=\"#d18b47\" height=\"45\" stroke=\"none\" width=\"45\" x=\"225\" y=\"180\"/><rect class=\"square light g4\" fill=\"#ffce9e\" height=\"45\" stroke=\"none\" width=\"45\" x=\"270\" y=\"180\"/><rect class=\"square dark h4\" fill=\"#d18b47\" height=\"45\" stroke=\"none\" width=\"45\" x=\"315\" y=\"180\"/><rect class=\"square dark a5\" fill=\"#d18b47\" height=\"45\" stroke=\"none\" width=\"45\" x=\"0\" y=\"135\"/><rect class=\"square light b5\" fill=\"#ffce9e\" height=\"45\" stroke=\"none\" width=\"45\" x=\"45\" y=\"135\"/><rect class=\"square dark c5\" fill=\"#d18b47\" height=\"45\" stroke=\"none\" width=\"45\" x=\"90\" y=\"135\"/><rect class=\"square light d5\" fill=\"#ffce9e\" height=\"45\" stroke=\"none\" width=\"45\" x=\"135\" y=\"135\"/><rect class=\"square dark e5\" fill=\"#d18b47\" height=\"45\" stroke=\"none\" width=\"45\" x=\"180\" y=\"135\"/><rect class=\"square light f5\" fill=\"#ffce9e\" height=\"45\" stroke=\"none\" width=\"45\" x=\"225\" y=\"135\"/><rect class=\"square dark g5\" fill=\"#d18b47\" height=\"45\" stroke=\"none\" width=\"45\" x=\"270\" y=\"135\"/><rect class=\"square light h5\" fill=\"#ffce9e\" height=\"45\" stroke=\"none\" width=\"45\" x=\"315\" y=\"135\"/><rect class=\"square light a6\" fill=\"#ffce9e\" height=\"45\" stroke=\"none\" width=\"45\" x=\"0\" y=\"90\"/><rect class=\"square dark b6\" fill=\"#d18b47\" height=\"45\" stroke=\"none\" width=\"45\" x=\"45\" y=\"90\"/><rect class=\"square light c6\" fill=\"#ffce9e\" height=\"45\" stroke=\"none\" width=\"45\" x=\"90\" y=\"90\"/><rect class=\"square dark d6\" fill=\"#d18b47\" height=\"45\" stroke=\"none\" width=\"45\" x=\"135\" y=\"90\"/><rect class=\"square light e6\" fill=\"#ffce9e\" height=\"45\" stroke=\"none\" width=\"45\" x=\"180\" y=\"90\"/><rect class=\"square dark f6\" fill=\"#d18b47\" height=\"45\" stroke=\"none\" width=\"45\" x=\"225\" y=\"90\"/><rect class=\"square light g6\" fill=\"#ffce9e\" height=\"45\" stroke=\"none\" width=\"45\" x=\"270\" y=\"90\"/><rect class=\"square dark h6\" fill=\"#d18b47\" height=\"45\" stroke=\"none\" width=\"45\" x=\"315\" y=\"90\"/><rect class=\"square dark a7\" fill=\"#d18b47\" height=\"45\" stroke=\"none\" width=\"45\" x=\"0\" y=\"45\"/><rect class=\"square light b7\" fill=\"#ffce9e\" height=\"45\" stroke=\"none\" width=\"45\" x=\"45\" y=\"45\"/><rect class=\"square dark c7\" fill=\"#d18b47\" height=\"45\" stroke=\"none\" width=\"45\" x=\"90\" y=\"45\"/><rect class=\"square light d7\" fill=\"#ffce9e\" height=\"45\" stroke=\"none\" width=\"45\" x=\"135\" y=\"45\"/><rect class=\"square dark e7\" fill=\"#d18b47\" height=\"45\" stroke=\"none\" width=\"45\" x=\"180\" y=\"45\"/><rect class=\"square light f7\" fill=\"#ffce9e\" height=\"45\" stroke=\"none\" width=\"45\" x=\"225\" y=\"45\"/><rect class=\"square dark g7\" fill=\"#d18b47\" height=\"45\" stroke=\"none\" width=\"45\" x=\"270\" y=\"45\"/><use transform=\"translate(270, 45)\" xlink:href=\"#white-bishop\"/><rect class=\"square light h7\" fill=\"#ffce9e\" height=\"45\" stroke=\"none\" width=\"45\" x=\"315\" y=\"45\"/><rect class=\"square light a8\" fill=\"#ffce9e\" height=\"45\" stroke=\"none\" width=\"45\" x=\"0\" y=\"0\"/><rect class=\"square dark b8\" fill=\"#d18b47\" height=\"45\" stroke=\"none\" width=\"45\" x=\"45\" y=\"0\"/><rect class=\"square light c8\" fill=\"#ffce9e\" height=\"45\" stroke=\"none\" width=\"45\" x=\"90\" y=\"0\"/><rect class=\"square dark d8\" fill=\"#d18b47\" height=\"45\" stroke=\"none\" width=\"45\" x=\"135\" y=\"0\"/><use transform=\"translate(135, 0)\" xlink:href=\"#white-queen\"/><rect class=\"square light e8\" fill=\"#ffce9e\" height=\"45\" stroke=\"none\" width=\"45\" x=\"180\" y=\"0\"/><rect class=\"square dark f8\" fill=\"#d18b47\" height=\"45\" stroke=\"none\" width=\"45\" x=\"225\" y=\"0\"/><use transform=\"translate(225, 0)\" xlink:href=\"#white-queen\"/><rect class=\"square light g8\" fill=\"#ffce9e\" height=\"45\" stroke=\"none\" width=\"45\" x=\"270\" y=\"0\"/><use transform=\"translate(270, 0)\" xlink:href=\"#white-queen\"/><rect class=\"square dark h8\" fill=\"#d18b47\" height=\"45\" stroke=\"none\" width=\"45\" x=\"315\" y=\"0\"/><use transform=\"translate(315, 0)\" xlink:href=\"#white-queen\"/><circle class=\"circle\" cx=\"67.5\" cy=\"337.5\" fill=\"none\" opacity=\"0.5\" r=\"20.25\" stroke=\"red\" stroke-width=\"4.5\"/><circle class=\"circle\" cx=\"112.5\" cy=\"337.5\" fill=\"none\" opacity=\"0.5\" r=\"20.25\" stroke=\"red\" stroke-width=\"4.5\"/><circle class=\"circle\" cx=\"202.5\" cy=\"337.5\" fill=\"none\" opacity=\"0.5\" r=\"20.25\" stroke=\"red\" stroke-width=\"4.5\"/><circle class=\"circle\" cx=\"292.5\" cy=\"337.5\" fill=\"none\" opacity=\"0.5\" r=\"20.25\" stroke=\"red\" stroke-width=\"4.5\"/><circle class=\"circle\" cx=\"112.5\" cy=\"292.5\" fill=\"none\" opacity=\"0.5\" r=\"20.25\" stroke=\"red\" stroke-width=\"4.5\"/><circle class=\"circle\" cx=\"202.5\" cy=\"292.5\" fill=\"none\" opacity=\"0.5\" r=\"20.25\" stroke=\"red\" stroke-width=\"4.5\"/><circle class=\"circle\" cx=\"292.5\" cy=\"292.5\" fill=\"none\" opacity=\"0.5\" r=\"20.25\" stroke=\"red\" stroke-width=\"4.5\"/><circle class=\"circle\" cx=\"202.5\" cy=\"247.5\" fill=\"none\" opacity=\"0.5\" r=\"20.25\" stroke=\"red\" stroke-width=\"4.5\"/><circle class=\"circle\" cx=\"292.5\" cy=\"247.5\" fill=\"none\" opacity=\"0.5\" r=\"20.25\" stroke=\"red\" stroke-width=\"4.5\"/><circle class=\"circle\" cx=\"22.5\" cy=\"202.5\" fill=\"none\" opacity=\"0.5\" r=\"20.25\" stroke=\"red\" stroke-width=\"4.5\"/><circle class=\"circle\" cx=\"202.5\" cy=\"202.5\" fill=\"none\" opacity=\"0.5\" r=\"20.25\" stroke=\"red\" stroke-width=\"4.5\"/><circle class=\"circle\" cx=\"292.5\" cy=\"202.5\" fill=\"none\" opacity=\"0.5\" r=\"20.25\" stroke=\"red\" stroke-width=\"4.5\"/><circle class=\"circle\" cx=\"67.5\" cy=\"157.5\" fill=\"none\" opacity=\"0.5\" r=\"20.25\" stroke=\"red\" stroke-width=\"4.5\"/><circle class=\"circle\" cx=\"22.5\" cy=\"112.5\" fill=\"none\" opacity=\"0.5\" r=\"20.25\" stroke=\"red\" stroke-width=\"4.5\"/><circle class=\"circle\" cx=\"112.5\" cy=\"112.5\" fill=\"none\" opacity=\"0.5\" r=\"20.25\" stroke=\"red\" stroke-width=\"4.5\"/><circle class=\"circle\" cx=\"292.5\" cy=\"112.5\" fill=\"none\" opacity=\"0.5\" r=\"20.25\" stroke=\"red\" stroke-width=\"4.5\"/><circle class=\"circle\" cx=\"22.5\" cy=\"67.5\" fill=\"none\" opacity=\"0.5\" r=\"20.25\" stroke=\"red\" stroke-width=\"4.5\"/><circle class=\"circle\" cx=\"67.5\" cy=\"67.5\" fill=\"none\" opacity=\"0.5\" r=\"20.25\" stroke=\"red\" stroke-width=\"4.5\"/></svg>"
      ],
      "text/plain": [
       "<IPython.core.display.SVG object>"
      ]
     },
     "metadata": {},
     "output_type": "display_data"
    },
    {
     "name": "stdout",
     "output_type": "stream",
     "text": [
      "52\n"
     ]
    },
    {
     "data": {
      "image/svg+xml": [
       "<svg version=\"1.1\" viewBox=\"0 0 360 360\" xmlns=\"http://www.w3.org/2000/svg\" xmlns:xlink=\"http://www.w3.org/1999/xlink\"><style>\n",
       ".square.light {\n",
       "fill: #cacaca;\n",
       "}\n",
       ".square.dark {\n",
       "fill: #898989;\n",
       "}\n",
       "#xx {\n",
       "fill: blue;\n",
       "stroke: red;\n",
       "}\n",
       ".square.light.lastmove {\n",
       "fill: #c3d889;\n",
       "}\n",
       ".square.dark.lastmove {\n",
       "fill: #92b167;\n",
       "}\n",
       ".check {\n",
       "fill: url(#check_gradient);\n",
       "}\n",
       ".arrow {\n",
       "stroke: #ff5858;\n",
       "fill: blue;\n",
       "}\n",
       ".mark {\n",
       "stroke: #959fff;\n",
       "fill: blue;\n",
       "}\n",
       "</style><defs><g class=\"white bishop\" fill=\"none\" fill-rule=\"evenodd\" id=\"white-bishop\" stroke=\"#000\" stroke-linecap=\"round\" stroke-linejoin=\"round\" stroke-width=\"1.5\"><g fill=\"#fff\" stroke-linecap=\"butt\"><path d=\"M9 36c3.39-.97 10.11.43 13.5-2 3.39 2.43 10.11 1.03 13.5 2 0 0 1.65.54 3 2-.68.97-1.65.99-3 .5-3.39-.97-10.11.46-13.5-1-3.39 1.46-10.11.03-13.5 1-1.354.49-2.323.47-3-.5 1.354-1.94 3-2 3-2zM15 32c2.5 2.5 12.5 2.5 15 0 .5-1.5 0-2 0-2 0-2.5-2.5-4-2.5-4 5.5-1.5 6-11.5-5-15.5-11 4-10.5 14-5 15.5 0 0-2.5 1.5-2.5 4 0 0-.5.5 0 2zM25 8a2.5 2.5 0 1 1-5 0 2.5 2.5 0 1 1 5 0z\"/></g><path d=\"M17.5 26h10M15 30h15m-7.5-14.5v5M20 18h5\" stroke-linejoin=\"miter\"/></g><g class=\"white queen\" fill=\"#fff\" fill-rule=\"evenodd\" id=\"white-queen\" stroke=\"#000\" stroke-linecap=\"round\" stroke-linejoin=\"round\" stroke-width=\"1.5\"><path d=\"M8 12a2 2 0 1 1-4 0 2 2 0 1 1 4 0zM24.5 7.5a2 2 0 1 1-4 0 2 2 0 1 1 4 0zM41 12a2 2 0 1 1-4 0 2 2 0 1 1 4 0zM16 8.5a2 2 0 1 1-4 0 2 2 0 1 1 4 0zM33 9a2 2 0 1 1-4 0 2 2 0 1 1 4 0z\"/><path d=\"M9 26c8.5-1.5 21-1.5 27 0l2-12-7 11V11l-5.5 13.5-3-15-3 15-5.5-14V25L7 14l2 12zM9 26c0 2 1.5 2 2.5 4 1 1.5 1 1 .5 3.5-1.5 1-1.5 2.5-1.5 2.5-1.5 1.5.5 2.5.5 2.5 6.5 1 16.5 1 23 0 0 0 1.5-1 0-2.5 0 0 .5-1.5-1-2.5-.5-2.5-.5-2 .5-3.5 1-2 2.5-2 2.5-4-8.5-1.5-18.5-1.5-27 0z\" stroke-linecap=\"butt\"/><path d=\"M11.5 30c3.5-1 18.5-1 22 0M12 33.5c6-1 15-1 21 0\" fill=\"none\"/></g></defs><rect class=\"square dark a1\" fill=\"#d18b47\" height=\"45\" stroke=\"none\" width=\"45\" x=\"0\" y=\"315\"/><rect class=\"square light b1\" fill=\"#ffce9e\" height=\"45\" stroke=\"none\" width=\"45\" x=\"45\" y=\"315\"/><rect class=\"square dark c1\" fill=\"#d18b47\" height=\"45\" stroke=\"none\" width=\"45\" x=\"90\" y=\"315\"/><rect class=\"square light d1\" fill=\"#ffce9e\" height=\"45\" stroke=\"none\" width=\"45\" x=\"135\" y=\"315\"/><rect class=\"square dark e1\" fill=\"#d18b47\" height=\"45\" stroke=\"none\" width=\"45\" x=\"180\" y=\"315\"/><rect class=\"square light f1\" fill=\"#ffce9e\" height=\"45\" stroke=\"none\" width=\"45\" x=\"225\" y=\"315\"/><rect class=\"square dark g1\" fill=\"#d18b47\" height=\"45\" stroke=\"none\" width=\"45\" x=\"270\" y=\"315\"/><rect class=\"square light h1\" fill=\"#ffce9e\" height=\"45\" stroke=\"none\" width=\"45\" x=\"315\" y=\"315\"/><rect class=\"square light a2\" fill=\"#ffce9e\" height=\"45\" stroke=\"none\" width=\"45\" x=\"0\" y=\"270\"/><rect class=\"square dark b2\" fill=\"#d18b47\" height=\"45\" stroke=\"none\" width=\"45\" x=\"45\" y=\"270\"/><rect class=\"square light c2\" fill=\"#ffce9e\" height=\"45\" stroke=\"none\" width=\"45\" x=\"90\" y=\"270\"/><rect class=\"square dark d2\" fill=\"#d18b47\" height=\"45\" stroke=\"none\" width=\"45\" x=\"135\" y=\"270\"/><rect class=\"square light e2\" fill=\"#ffce9e\" height=\"45\" stroke=\"none\" width=\"45\" x=\"180\" y=\"270\"/><rect class=\"square dark f2\" fill=\"#d18b47\" height=\"45\" stroke=\"none\" width=\"45\" x=\"225\" y=\"270\"/><rect class=\"square light g2\" fill=\"#ffce9e\" height=\"45\" stroke=\"none\" width=\"45\" x=\"270\" y=\"270\"/><rect class=\"square dark h2\" fill=\"#d18b47\" height=\"45\" stroke=\"none\" width=\"45\" x=\"315\" y=\"270\"/><rect class=\"square dark a3\" fill=\"#d18b47\" height=\"45\" stroke=\"none\" width=\"45\" x=\"0\" y=\"225\"/><rect class=\"square light b3\" fill=\"#ffce9e\" height=\"45\" stroke=\"none\" width=\"45\" x=\"45\" y=\"225\"/><rect class=\"square dark c3\" fill=\"#d18b47\" height=\"45\" stroke=\"none\" width=\"45\" x=\"90\" y=\"225\"/><rect class=\"square light d3\" fill=\"#ffce9e\" height=\"45\" stroke=\"none\" width=\"45\" x=\"135\" y=\"225\"/><rect class=\"square dark e3\" fill=\"#d18b47\" height=\"45\" stroke=\"none\" width=\"45\" x=\"180\" y=\"225\"/><rect class=\"square light f3\" fill=\"#ffce9e\" height=\"45\" stroke=\"none\" width=\"45\" x=\"225\" y=\"225\"/><rect class=\"square dark g3\" fill=\"#d18b47\" height=\"45\" stroke=\"none\" width=\"45\" x=\"270\" y=\"225\"/><rect class=\"square light h3\" fill=\"#ffce9e\" height=\"45\" stroke=\"none\" width=\"45\" x=\"315\" y=\"225\"/><rect class=\"square light a4\" fill=\"#ffce9e\" height=\"45\" stroke=\"none\" width=\"45\" x=\"0\" y=\"180\"/><rect class=\"square dark b4\" fill=\"#d18b47\" height=\"45\" stroke=\"none\" width=\"45\" x=\"45\" y=\"180\"/><rect class=\"square light c4\" fill=\"#ffce9e\" height=\"45\" stroke=\"none\" width=\"45\" x=\"90\" y=\"180\"/><rect class=\"square dark d4\" fill=\"#d18b47\" height=\"45\" stroke=\"none\" width=\"45\" x=\"135\" y=\"180\"/><rect class=\"square light e4\" fill=\"#ffce9e\" height=\"45\" stroke=\"none\" width=\"45\" x=\"180\" y=\"180\"/><rect class=\"square dark f4\" fill=\"#d18b47\" height=\"45\" stroke=\"none\" width=\"45\" x=\"225\" y=\"180\"/><rect class=\"square light g4\" fill=\"#ffce9e\" height=\"45\" stroke=\"none\" width=\"45\" x=\"270\" y=\"180\"/><rect class=\"square dark h4\" fill=\"#d18b47\" height=\"45\" stroke=\"none\" width=\"45\" x=\"315\" y=\"180\"/><rect class=\"square dark a5\" fill=\"#d18b47\" height=\"45\" stroke=\"none\" width=\"45\" x=\"0\" y=\"135\"/><rect class=\"square light b5\" fill=\"#ffce9e\" height=\"45\" stroke=\"none\" width=\"45\" x=\"45\" y=\"135\"/><rect class=\"square dark c5\" fill=\"#d18b47\" height=\"45\" stroke=\"none\" width=\"45\" x=\"90\" y=\"135\"/><rect class=\"square light d5\" fill=\"#ffce9e\" height=\"45\" stroke=\"none\" width=\"45\" x=\"135\" y=\"135\"/><rect class=\"square dark e5\" fill=\"#d18b47\" height=\"45\" stroke=\"none\" width=\"45\" x=\"180\" y=\"135\"/><rect class=\"square light f5\" fill=\"#ffce9e\" height=\"45\" stroke=\"none\" width=\"45\" x=\"225\" y=\"135\"/><rect class=\"square dark g5\" fill=\"#d18b47\" height=\"45\" stroke=\"none\" width=\"45\" x=\"270\" y=\"135\"/><rect class=\"square light h5\" fill=\"#ffce9e\" height=\"45\" stroke=\"none\" width=\"45\" x=\"315\" y=\"135\"/><rect class=\"square light a6\" fill=\"#ffce9e\" height=\"45\" stroke=\"none\" width=\"45\" x=\"0\" y=\"90\"/><rect class=\"square dark b6\" fill=\"#d18b47\" height=\"45\" stroke=\"none\" width=\"45\" x=\"45\" y=\"90\"/><rect class=\"square light c6\" fill=\"#ffce9e\" height=\"45\" stroke=\"none\" width=\"45\" x=\"90\" y=\"90\"/><rect class=\"square dark d6\" fill=\"#d18b47\" height=\"45\" stroke=\"none\" width=\"45\" x=\"135\" y=\"90\"/><rect class=\"square light e6\" fill=\"#ffce9e\" height=\"45\" stroke=\"none\" width=\"45\" x=\"180\" y=\"90\"/><rect class=\"square dark f6\" fill=\"#d18b47\" height=\"45\" stroke=\"none\" width=\"45\" x=\"225\" y=\"90\"/><rect class=\"square light g6\" fill=\"#ffce9e\" height=\"45\" stroke=\"none\" width=\"45\" x=\"270\" y=\"90\"/><rect class=\"square dark h6\" fill=\"#d18b47\" height=\"45\" stroke=\"none\" width=\"45\" x=\"315\" y=\"90\"/><rect class=\"square dark a7\" fill=\"#d18b47\" height=\"45\" stroke=\"none\" width=\"45\" x=\"0\" y=\"45\"/><rect class=\"square light b7\" fill=\"#ffce9e\" height=\"45\" stroke=\"none\" width=\"45\" x=\"45\" y=\"45\"/><rect class=\"square dark c7\" fill=\"#d18b47\" height=\"45\" stroke=\"none\" width=\"45\" x=\"90\" y=\"45\"/><rect class=\"square light d7\" fill=\"#ffce9e\" height=\"45\" stroke=\"none\" width=\"45\" x=\"135\" y=\"45\"/><rect class=\"square dark e7\" fill=\"#d18b47\" height=\"45\" stroke=\"none\" width=\"45\" x=\"180\" y=\"45\"/><rect class=\"square light f7\" fill=\"#ffce9e\" height=\"45\" stroke=\"none\" width=\"45\" x=\"225\" y=\"45\"/><rect class=\"square dark g7\" fill=\"#d18b47\" height=\"45\" stroke=\"none\" width=\"45\" x=\"270\" y=\"45\"/><use transform=\"translate(270, 45)\" xlink:href=\"#white-bishop\"/><rect class=\"square light h7\" fill=\"#ffce9e\" height=\"45\" stroke=\"none\" width=\"45\" x=\"315\" y=\"45\"/><rect class=\"square light a8\" fill=\"#ffce9e\" height=\"45\" stroke=\"none\" width=\"45\" x=\"0\" y=\"0\"/><rect class=\"square dark b8\" fill=\"#d18b47\" height=\"45\" stroke=\"none\" width=\"45\" x=\"45\" y=\"0\"/><rect class=\"square light c8\" fill=\"#ffce9e\" height=\"45\" stroke=\"none\" width=\"45\" x=\"90\" y=\"0\"/><rect class=\"square dark d8\" fill=\"#d18b47\" height=\"45\" stroke=\"none\" width=\"45\" x=\"135\" y=\"0\"/><rect class=\"square light e8\" fill=\"#ffce9e\" height=\"45\" stroke=\"none\" width=\"45\" x=\"180\" y=\"0\"/><use transform=\"translate(180, 0)\" xlink:href=\"#white-queen\"/><rect class=\"square dark f8\" fill=\"#d18b47\" height=\"45\" stroke=\"none\" width=\"45\" x=\"225\" y=\"0\"/><use transform=\"translate(225, 0)\" xlink:href=\"#white-queen\"/><rect class=\"square light g8\" fill=\"#ffce9e\" height=\"45\" stroke=\"none\" width=\"45\" x=\"270\" y=\"0\"/><use transform=\"translate(270, 0)\" xlink:href=\"#white-queen\"/><rect class=\"square dark h8\" fill=\"#d18b47\" height=\"45\" stroke=\"none\" width=\"45\" x=\"315\" y=\"0\"/><use transform=\"translate(315, 0)\" xlink:href=\"#white-queen\"/><circle class=\"circle\" cx=\"67.5\" cy=\"337.5\" fill=\"none\" opacity=\"0.5\" r=\"20.25\" stroke=\"red\" stroke-width=\"4.5\"/><circle class=\"circle\" cx=\"112.5\" cy=\"337.5\" fill=\"none\" opacity=\"0.5\" r=\"20.25\" stroke=\"red\" stroke-width=\"4.5\"/><circle class=\"circle\" cx=\"157.5\" cy=\"337.5\" fill=\"none\" opacity=\"0.5\" r=\"20.25\" stroke=\"red\" stroke-width=\"4.5\"/><circle class=\"circle\" cx=\"292.5\" cy=\"337.5\" fill=\"none\" opacity=\"0.5\" r=\"20.25\" stroke=\"red\" stroke-width=\"4.5\"/><circle class=\"circle\" cx=\"112.5\" cy=\"292.5\" fill=\"none\" opacity=\"0.5\" r=\"20.25\" stroke=\"red\" stroke-width=\"4.5\"/><circle class=\"circle\" cx=\"157.5\" cy=\"292.5\" fill=\"none\" opacity=\"0.5\" r=\"20.25\" stroke=\"red\" stroke-width=\"4.5\"/><circle class=\"circle\" cx=\"292.5\" cy=\"292.5\" fill=\"none\" opacity=\"0.5\" r=\"20.25\" stroke=\"red\" stroke-width=\"4.5\"/><circle class=\"circle\" cx=\"157.5\" cy=\"247.5\" fill=\"none\" opacity=\"0.5\" r=\"20.25\" stroke=\"red\" stroke-width=\"4.5\"/><circle class=\"circle\" cx=\"292.5\" cy=\"247.5\" fill=\"none\" opacity=\"0.5\" r=\"20.25\" stroke=\"red\" stroke-width=\"4.5\"/><circle class=\"circle\" cx=\"292.5\" cy=\"202.5\" fill=\"none\" opacity=\"0.5\" r=\"20.25\" stroke=\"red\" stroke-width=\"4.5\"/><circle class=\"circle\" cx=\"22.5\" cy=\"157.5\" fill=\"none\" opacity=\"0.5\" r=\"20.25\" stroke=\"red\" stroke-width=\"4.5\"/><circle class=\"circle\" cx=\"292.5\" cy=\"157.5\" fill=\"none\" opacity=\"0.5\" r=\"20.25\" stroke=\"red\" stroke-width=\"4.5\"/><circle class=\"circle\" cx=\"22.5\" cy=\"112.5\" fill=\"none\" opacity=\"0.5\" r=\"20.25\" stroke=\"red\" stroke-width=\"4.5\"/><circle class=\"circle\" cx=\"67.5\" cy=\"112.5\" fill=\"none\" opacity=\"0.5\" r=\"20.25\" stroke=\"red\" stroke-width=\"4.5\"/><circle class=\"circle\" cx=\"22.5\" cy=\"67.5\" fill=\"none\" opacity=\"0.5\" r=\"20.25\" stroke=\"red\" stroke-width=\"4.5\"/><circle class=\"circle\" cx=\"67.5\" cy=\"67.5\" fill=\"none\" opacity=\"0.5\" r=\"20.25\" stroke=\"red\" stroke-width=\"4.5\"/><circle class=\"circle\" cx=\"112.5\" cy=\"67.5\" fill=\"none\" opacity=\"0.5\" r=\"20.25\" stroke=\"red\" stroke-width=\"4.5\"/></svg>"
      ],
      "text/plain": [
       "<IPython.core.display.SVG object>"
      ]
     },
     "metadata": {},
     "output_type": "display_data"
    },
    {
     "name": "stdout",
     "output_type": "stream",
     "text": [
      "53\n"
     ]
    },
    {
     "data": {
      "image/svg+xml": [
       "<svg version=\"1.1\" viewBox=\"0 0 360 360\" xmlns=\"http://www.w3.org/2000/svg\" xmlns:xlink=\"http://www.w3.org/1999/xlink\"><style>\n",
       ".square.light {\n",
       "fill: #cacaca;\n",
       "}\n",
       ".square.dark {\n",
       "fill: #898989;\n",
       "}\n",
       "#xx {\n",
       "fill: blue;\n",
       "stroke: red;\n",
       "}\n",
       ".square.light.lastmove {\n",
       "fill: #c3d889;\n",
       "}\n",
       ".square.dark.lastmove {\n",
       "fill: #92b167;\n",
       "}\n",
       ".check {\n",
       "fill: url(#check_gradient);\n",
       "}\n",
       ".arrow {\n",
       "stroke: #ff5858;\n",
       "fill: blue;\n",
       "}\n",
       ".mark {\n",
       "stroke: #959fff;\n",
       "fill: blue;\n",
       "}\n",
       "</style><defs><g class=\"white bishop\" fill=\"none\" fill-rule=\"evenodd\" id=\"white-bishop\" stroke=\"#000\" stroke-linecap=\"round\" stroke-linejoin=\"round\" stroke-width=\"1.5\"><g fill=\"#fff\" stroke-linecap=\"butt\"><path d=\"M9 36c3.39-.97 10.11.43 13.5-2 3.39 2.43 10.11 1.03 13.5 2 0 0 1.65.54 3 2-.68.97-1.65.99-3 .5-3.39-.97-10.11.46-13.5-1-3.39 1.46-10.11.03-13.5 1-1.354.49-2.323.47-3-.5 1.354-1.94 3-2 3-2zM15 32c2.5 2.5 12.5 2.5 15 0 .5-1.5 0-2 0-2 0-2.5-2.5-4-2.5-4 5.5-1.5 6-11.5-5-15.5-11 4-10.5 14-5 15.5 0 0-2.5 1.5-2.5 4 0 0-.5.5 0 2zM25 8a2.5 2.5 0 1 1-5 0 2.5 2.5 0 1 1 5 0z\"/></g><path d=\"M17.5 26h10M15 30h15m-7.5-14.5v5M20 18h5\" stroke-linejoin=\"miter\"/></g><g class=\"white queen\" fill=\"#fff\" fill-rule=\"evenodd\" id=\"white-queen\" stroke=\"#000\" stroke-linecap=\"round\" stroke-linejoin=\"round\" stroke-width=\"1.5\"><path d=\"M8 12a2 2 0 1 1-4 0 2 2 0 1 1 4 0zM24.5 7.5a2 2 0 1 1-4 0 2 2 0 1 1 4 0zM41 12a2 2 0 1 1-4 0 2 2 0 1 1 4 0zM16 8.5a2 2 0 1 1-4 0 2 2 0 1 1 4 0zM33 9a2 2 0 1 1-4 0 2 2 0 1 1 4 0z\"/><path d=\"M9 26c8.5-1.5 21-1.5 27 0l2-12-7 11V11l-5.5 13.5-3-15-3 15-5.5-14V25L7 14l2 12zM9 26c0 2 1.5 2 2.5 4 1 1.5 1 1 .5 3.5-1.5 1-1.5 2.5-1.5 2.5-1.5 1.5.5 2.5.5 2.5 6.5 1 16.5 1 23 0 0 0 1.5-1 0-2.5 0 0 .5-1.5-1-2.5-.5-2.5-.5-2 .5-3.5 1-2 2.5-2 2.5-4-8.5-1.5-18.5-1.5-27 0z\" stroke-linecap=\"butt\"/><path d=\"M11.5 30c3.5-1 18.5-1 22 0M12 33.5c6-1 15-1 21 0\" fill=\"none\"/></g></defs><rect class=\"square dark a1\" fill=\"#d18b47\" height=\"45\" stroke=\"none\" width=\"45\" x=\"0\" y=\"315\"/><rect class=\"square light b1\" fill=\"#ffce9e\" height=\"45\" stroke=\"none\" width=\"45\" x=\"45\" y=\"315\"/><rect class=\"square dark c1\" fill=\"#d18b47\" height=\"45\" stroke=\"none\" width=\"45\" x=\"90\" y=\"315\"/><rect class=\"square light d1\" fill=\"#ffce9e\" height=\"45\" stroke=\"none\" width=\"45\" x=\"135\" y=\"315\"/><rect class=\"square dark e1\" fill=\"#d18b47\" height=\"45\" stroke=\"none\" width=\"45\" x=\"180\" y=\"315\"/><rect class=\"square light f1\" fill=\"#ffce9e\" height=\"45\" stroke=\"none\" width=\"45\" x=\"225\" y=\"315\"/><rect class=\"square dark g1\" fill=\"#d18b47\" height=\"45\" stroke=\"none\" width=\"45\" x=\"270\" y=\"315\"/><rect class=\"square light h1\" fill=\"#ffce9e\" height=\"45\" stroke=\"none\" width=\"45\" x=\"315\" y=\"315\"/><rect class=\"square light a2\" fill=\"#ffce9e\" height=\"45\" stroke=\"none\" width=\"45\" x=\"0\" y=\"270\"/><rect class=\"square dark b2\" fill=\"#d18b47\" height=\"45\" stroke=\"none\" width=\"45\" x=\"45\" y=\"270\"/><rect class=\"square light c2\" fill=\"#ffce9e\" height=\"45\" stroke=\"none\" width=\"45\" x=\"90\" y=\"270\"/><rect class=\"square dark d2\" fill=\"#d18b47\" height=\"45\" stroke=\"none\" width=\"45\" x=\"135\" y=\"270\"/><rect class=\"square light e2\" fill=\"#ffce9e\" height=\"45\" stroke=\"none\" width=\"45\" x=\"180\" y=\"270\"/><rect class=\"square dark f2\" fill=\"#d18b47\" height=\"45\" stroke=\"none\" width=\"45\" x=\"225\" y=\"270\"/><rect class=\"square light g2\" fill=\"#ffce9e\" height=\"45\" stroke=\"none\" width=\"45\" x=\"270\" y=\"270\"/><rect class=\"square dark h2\" fill=\"#d18b47\" height=\"45\" stroke=\"none\" width=\"45\" x=\"315\" y=\"270\"/><rect class=\"square dark a3\" fill=\"#d18b47\" height=\"45\" stroke=\"none\" width=\"45\" x=\"0\" y=\"225\"/><rect class=\"square light b3\" fill=\"#ffce9e\" height=\"45\" stroke=\"none\" width=\"45\" x=\"45\" y=\"225\"/><rect class=\"square dark c3\" fill=\"#d18b47\" height=\"45\" stroke=\"none\" width=\"45\" x=\"90\" y=\"225\"/><rect class=\"square light d3\" fill=\"#ffce9e\" height=\"45\" stroke=\"none\" width=\"45\" x=\"135\" y=\"225\"/><rect class=\"square dark e3\" fill=\"#d18b47\" height=\"45\" stroke=\"none\" width=\"45\" x=\"180\" y=\"225\"/><rect class=\"square light f3\" fill=\"#ffce9e\" height=\"45\" stroke=\"none\" width=\"45\" x=\"225\" y=\"225\"/><rect class=\"square dark g3\" fill=\"#d18b47\" height=\"45\" stroke=\"none\" width=\"45\" x=\"270\" y=\"225\"/><rect class=\"square light h3\" fill=\"#ffce9e\" height=\"45\" stroke=\"none\" width=\"45\" x=\"315\" y=\"225\"/><rect class=\"square light a4\" fill=\"#ffce9e\" height=\"45\" stroke=\"none\" width=\"45\" x=\"0\" y=\"180\"/><rect class=\"square dark b4\" fill=\"#d18b47\" height=\"45\" stroke=\"none\" width=\"45\" x=\"45\" y=\"180\"/><rect class=\"square light c4\" fill=\"#ffce9e\" height=\"45\" stroke=\"none\" width=\"45\" x=\"90\" y=\"180\"/><rect class=\"square dark d4\" fill=\"#d18b47\" height=\"45\" stroke=\"none\" width=\"45\" x=\"135\" y=\"180\"/><rect class=\"square light e4\" fill=\"#ffce9e\" height=\"45\" stroke=\"none\" width=\"45\" x=\"180\" y=\"180\"/><rect class=\"square dark f4\" fill=\"#d18b47\" height=\"45\" stroke=\"none\" width=\"45\" x=\"225\" y=\"180\"/><rect class=\"square light g4\" fill=\"#ffce9e\" height=\"45\" stroke=\"none\" width=\"45\" x=\"270\" y=\"180\"/><rect class=\"square dark h4\" fill=\"#d18b47\" height=\"45\" stroke=\"none\" width=\"45\" x=\"315\" y=\"180\"/><rect class=\"square dark a5\" fill=\"#d18b47\" height=\"45\" stroke=\"none\" width=\"45\" x=\"0\" y=\"135\"/><rect class=\"square light b5\" fill=\"#ffce9e\" height=\"45\" stroke=\"none\" width=\"45\" x=\"45\" y=\"135\"/><rect class=\"square dark c5\" fill=\"#d18b47\" height=\"45\" stroke=\"none\" width=\"45\" x=\"90\" y=\"135\"/><rect class=\"square light d5\" fill=\"#ffce9e\" height=\"45\" stroke=\"none\" width=\"45\" x=\"135\" y=\"135\"/><rect class=\"square dark e5\" fill=\"#d18b47\" height=\"45\" stroke=\"none\" width=\"45\" x=\"180\" y=\"135\"/><rect class=\"square light f5\" fill=\"#ffce9e\" height=\"45\" stroke=\"none\" width=\"45\" x=\"225\" y=\"135\"/><rect class=\"square dark g5\" fill=\"#d18b47\" height=\"45\" stroke=\"none\" width=\"45\" x=\"270\" y=\"135\"/><rect class=\"square light h5\" fill=\"#ffce9e\" height=\"45\" stroke=\"none\" width=\"45\" x=\"315\" y=\"135\"/><rect class=\"square light a6\" fill=\"#ffce9e\" height=\"45\" stroke=\"none\" width=\"45\" x=\"0\" y=\"90\"/><rect class=\"square dark b6\" fill=\"#d18b47\" height=\"45\" stroke=\"none\" width=\"45\" x=\"45\" y=\"90\"/><rect class=\"square light c6\" fill=\"#ffce9e\" height=\"45\" stroke=\"none\" width=\"45\" x=\"90\" y=\"90\"/><rect class=\"square dark d6\" fill=\"#d18b47\" height=\"45\" stroke=\"none\" width=\"45\" x=\"135\" y=\"90\"/><rect class=\"square light e6\" fill=\"#ffce9e\" height=\"45\" stroke=\"none\" width=\"45\" x=\"180\" y=\"90\"/><rect class=\"square dark f6\" fill=\"#d18b47\" height=\"45\" stroke=\"none\" width=\"45\" x=\"225\" y=\"90\"/><rect class=\"square light g6\" fill=\"#ffce9e\" height=\"45\" stroke=\"none\" width=\"45\" x=\"270\" y=\"90\"/><rect class=\"square dark h6\" fill=\"#d18b47\" height=\"45\" stroke=\"none\" width=\"45\" x=\"315\" y=\"90\"/><rect class=\"square dark a7\" fill=\"#d18b47\" height=\"45\" stroke=\"none\" width=\"45\" x=\"0\" y=\"45\"/><rect class=\"square light b7\" fill=\"#ffce9e\" height=\"45\" stroke=\"none\" width=\"45\" x=\"45\" y=\"45\"/><rect class=\"square dark c7\" fill=\"#d18b47\" height=\"45\" stroke=\"none\" width=\"45\" x=\"90\" y=\"45\"/><rect class=\"square light d7\" fill=\"#ffce9e\" height=\"45\" stroke=\"none\" width=\"45\" x=\"135\" y=\"45\"/><rect class=\"square dark e7\" fill=\"#d18b47\" height=\"45\" stroke=\"none\" width=\"45\" x=\"180\" y=\"45\"/><rect class=\"square light f7\" fill=\"#ffce9e\" height=\"45\" stroke=\"none\" width=\"45\" x=\"225\" y=\"45\"/><rect class=\"square dark g7\" fill=\"#d18b47\" height=\"45\" stroke=\"none\" width=\"45\" x=\"270\" y=\"45\"/><rect class=\"square light h7\" fill=\"#ffce9e\" height=\"45\" stroke=\"none\" width=\"45\" x=\"315\" y=\"45\"/><rect class=\"square light a8\" fill=\"#ffce9e\" height=\"45\" stroke=\"none\" width=\"45\" x=\"0\" y=\"0\"/><use transform=\"translate(0, 0)\" xlink:href=\"#white-bishop\"/><rect class=\"square dark b8\" fill=\"#d18b47\" height=\"45\" stroke=\"none\" width=\"45\" x=\"45\" y=\"0\"/><rect class=\"square light c8\" fill=\"#ffce9e\" height=\"45\" stroke=\"none\" width=\"45\" x=\"90\" y=\"0\"/><rect class=\"square dark d8\" fill=\"#d18b47\" height=\"45\" stroke=\"none\" width=\"45\" x=\"135\" y=\"0\"/><rect class=\"square light e8\" fill=\"#ffce9e\" height=\"45\" stroke=\"none\" width=\"45\" x=\"180\" y=\"0\"/><use transform=\"translate(180, 0)\" xlink:href=\"#white-queen\"/><rect class=\"square dark f8\" fill=\"#d18b47\" height=\"45\" stroke=\"none\" width=\"45\" x=\"225\" y=\"0\"/><use transform=\"translate(225, 0)\" xlink:href=\"#white-queen\"/><rect class=\"square light g8\" fill=\"#ffce9e\" height=\"45\" stroke=\"none\" width=\"45\" x=\"270\" y=\"0\"/><use transform=\"translate(270, 0)\" xlink:href=\"#white-queen\"/><rect class=\"square dark h8\" fill=\"#d18b47\" height=\"45\" stroke=\"none\" width=\"45\" x=\"315\" y=\"0\"/><use transform=\"translate(315, 0)\" xlink:href=\"#white-queen\"/><circle class=\"circle\" cx=\"67.5\" cy=\"337.5\" fill=\"none\" opacity=\"0.5\" r=\"20.25\" stroke=\"red\" stroke-width=\"4.5\"/><circle class=\"circle\" cx=\"112.5\" cy=\"337.5\" fill=\"none\" opacity=\"0.5\" r=\"20.25\" stroke=\"red\" stroke-width=\"4.5\"/><circle class=\"circle\" cx=\"157.5\" cy=\"337.5\" fill=\"none\" opacity=\"0.5\" r=\"20.25\" stroke=\"red\" stroke-width=\"4.5\"/><circle class=\"circle\" cx=\"112.5\" cy=\"292.5\" fill=\"none\" opacity=\"0.5\" r=\"20.25\" stroke=\"red\" stroke-width=\"4.5\"/><circle class=\"circle\" cx=\"157.5\" cy=\"292.5\" fill=\"none\" opacity=\"0.5\" r=\"20.25\" stroke=\"red\" stroke-width=\"4.5\"/><circle class=\"circle\" cx=\"157.5\" cy=\"247.5\" fill=\"none\" opacity=\"0.5\" r=\"20.25\" stroke=\"red\" stroke-width=\"4.5\"/><circle class=\"circle\" cx=\"22.5\" cy=\"157.5\" fill=\"none\" opacity=\"0.5\" r=\"20.25\" stroke=\"red\" stroke-width=\"4.5\"/><circle class=\"circle\" cx=\"22.5\" cy=\"112.5\" fill=\"none\" opacity=\"0.5\" r=\"20.25\" stroke=\"red\" stroke-width=\"4.5\"/><circle class=\"circle\" cx=\"67.5\" cy=\"112.5\" fill=\"none\" opacity=\"0.5\" r=\"20.25\" stroke=\"red\" stroke-width=\"4.5\"/><circle class=\"circle\" cx=\"22.5\" cy=\"67.5\" fill=\"none\" opacity=\"0.5\" r=\"20.25\" stroke=\"red\" stroke-width=\"4.5\"/><circle class=\"circle\" cx=\"112.5\" cy=\"67.5\" fill=\"none\" opacity=\"0.5\" r=\"20.25\" stroke=\"red\" stroke-width=\"4.5\"/></svg>"
      ],
      "text/plain": [
       "<IPython.core.display.SVG object>"
      ]
     },
     "metadata": {},
     "output_type": "display_data"
    },
    {
     "name": "stdout",
     "output_type": "stream",
     "text": [
      "54\n"
     ]
    },
    {
     "data": {
      "image/svg+xml": [
       "<svg version=\"1.1\" viewBox=\"0 0 360 360\" xmlns=\"http://www.w3.org/2000/svg\" xmlns:xlink=\"http://www.w3.org/1999/xlink\"><style>\n",
       ".square.light {\n",
       "fill: #cacaca;\n",
       "}\n",
       ".square.dark {\n",
       "fill: #898989;\n",
       "}\n",
       "#xx {\n",
       "fill: blue;\n",
       "stroke: red;\n",
       "}\n",
       ".square.light.lastmove {\n",
       "fill: #c3d889;\n",
       "}\n",
       ".square.dark.lastmove {\n",
       "fill: #92b167;\n",
       "}\n",
       ".check {\n",
       "fill: url(#check_gradient);\n",
       "}\n",
       ".arrow {\n",
       "stroke: #ff5858;\n",
       "fill: blue;\n",
       "}\n",
       ".mark {\n",
       "stroke: #959fff;\n",
       "fill: blue;\n",
       "}\n",
       "</style><defs><g class=\"white bishop\" fill=\"none\" fill-rule=\"evenodd\" id=\"white-bishop\" stroke=\"#000\" stroke-linecap=\"round\" stroke-linejoin=\"round\" stroke-width=\"1.5\"><g fill=\"#fff\" stroke-linecap=\"butt\"><path d=\"M9 36c3.39-.97 10.11.43 13.5-2 3.39 2.43 10.11 1.03 13.5 2 0 0 1.65.54 3 2-.68.97-1.65.99-3 .5-3.39-.97-10.11.46-13.5-1-3.39 1.46-10.11.03-13.5 1-1.354.49-2.323.47-3-.5 1.354-1.94 3-2 3-2zM15 32c2.5 2.5 12.5 2.5 15 0 .5-1.5 0-2 0-2 0-2.5-2.5-4-2.5-4 5.5-1.5 6-11.5-5-15.5-11 4-10.5 14-5 15.5 0 0-2.5 1.5-2.5 4 0 0-.5.5 0 2zM25 8a2.5 2.5 0 1 1-5 0 2.5 2.5 0 1 1 5 0z\"/></g><path d=\"M17.5 26h10M15 30h15m-7.5-14.5v5M20 18h5\" stroke-linejoin=\"miter\"/></g><g class=\"white queen\" fill=\"#fff\" fill-rule=\"evenodd\" id=\"white-queen\" stroke=\"#000\" stroke-linecap=\"round\" stroke-linejoin=\"round\" stroke-width=\"1.5\"><path d=\"M8 12a2 2 0 1 1-4 0 2 2 0 1 1 4 0zM24.5 7.5a2 2 0 1 1-4 0 2 2 0 1 1 4 0zM41 12a2 2 0 1 1-4 0 2 2 0 1 1 4 0zM16 8.5a2 2 0 1 1-4 0 2 2 0 1 1 4 0zM33 9a2 2 0 1 1-4 0 2 2 0 1 1 4 0z\"/><path d=\"M9 26c8.5-1.5 21-1.5 27 0l2-12-7 11V11l-5.5 13.5-3-15-3 15-5.5-14V25L7 14l2 12zM9 26c0 2 1.5 2 2.5 4 1 1.5 1 1 .5 3.5-1.5 1-1.5 2.5-1.5 2.5-1.5 1.5.5 2.5.5 2.5 6.5 1 16.5 1 23 0 0 0 1.5-1 0-2.5 0 0 .5-1.5-1-2.5-.5-2.5-.5-2 .5-3.5 1-2 2.5-2 2.5-4-8.5-1.5-18.5-1.5-27 0z\" stroke-linecap=\"butt\"/><path d=\"M11.5 30c3.5-1 18.5-1 22 0M12 33.5c6-1 15-1 21 0\" fill=\"none\"/></g></defs><rect class=\"square dark a1\" fill=\"#d18b47\" height=\"45\" stroke=\"none\" width=\"45\" x=\"0\" y=\"315\"/><rect class=\"square light b1\" fill=\"#ffce9e\" height=\"45\" stroke=\"none\" width=\"45\" x=\"45\" y=\"315\"/><rect class=\"square dark c1\" fill=\"#d18b47\" height=\"45\" stroke=\"none\" width=\"45\" x=\"90\" y=\"315\"/><rect class=\"square light d1\" fill=\"#ffce9e\" height=\"45\" stroke=\"none\" width=\"45\" x=\"135\" y=\"315\"/><rect class=\"square dark e1\" fill=\"#d18b47\" height=\"45\" stroke=\"none\" width=\"45\" x=\"180\" y=\"315\"/><rect class=\"square light f1\" fill=\"#ffce9e\" height=\"45\" stroke=\"none\" width=\"45\" x=\"225\" y=\"315\"/><rect class=\"square dark g1\" fill=\"#d18b47\" height=\"45\" stroke=\"none\" width=\"45\" x=\"270\" y=\"315\"/><rect class=\"square light h1\" fill=\"#ffce9e\" height=\"45\" stroke=\"none\" width=\"45\" x=\"315\" y=\"315\"/><rect class=\"square light a2\" fill=\"#ffce9e\" height=\"45\" stroke=\"none\" width=\"45\" x=\"0\" y=\"270\"/><rect class=\"square dark b2\" fill=\"#d18b47\" height=\"45\" stroke=\"none\" width=\"45\" x=\"45\" y=\"270\"/><rect class=\"square light c2\" fill=\"#ffce9e\" height=\"45\" stroke=\"none\" width=\"45\" x=\"90\" y=\"270\"/><rect class=\"square dark d2\" fill=\"#d18b47\" height=\"45\" stroke=\"none\" width=\"45\" x=\"135\" y=\"270\"/><rect class=\"square light e2\" fill=\"#ffce9e\" height=\"45\" stroke=\"none\" width=\"45\" x=\"180\" y=\"270\"/><rect class=\"square dark f2\" fill=\"#d18b47\" height=\"45\" stroke=\"none\" width=\"45\" x=\"225\" y=\"270\"/><rect class=\"square light g2\" fill=\"#ffce9e\" height=\"45\" stroke=\"none\" width=\"45\" x=\"270\" y=\"270\"/><rect class=\"square dark h2\" fill=\"#d18b47\" height=\"45\" stroke=\"none\" width=\"45\" x=\"315\" y=\"270\"/><rect class=\"square dark a3\" fill=\"#d18b47\" height=\"45\" stroke=\"none\" width=\"45\" x=\"0\" y=\"225\"/><rect class=\"square light b3\" fill=\"#ffce9e\" height=\"45\" stroke=\"none\" width=\"45\" x=\"45\" y=\"225\"/><rect class=\"square dark c3\" fill=\"#d18b47\" height=\"45\" stroke=\"none\" width=\"45\" x=\"90\" y=\"225\"/><rect class=\"square light d3\" fill=\"#ffce9e\" height=\"45\" stroke=\"none\" width=\"45\" x=\"135\" y=\"225\"/><rect class=\"square dark e3\" fill=\"#d18b47\" height=\"45\" stroke=\"none\" width=\"45\" x=\"180\" y=\"225\"/><rect class=\"square light f3\" fill=\"#ffce9e\" height=\"45\" stroke=\"none\" width=\"45\" x=\"225\" y=\"225\"/><rect class=\"square dark g3\" fill=\"#d18b47\" height=\"45\" stroke=\"none\" width=\"45\" x=\"270\" y=\"225\"/><rect class=\"square light h3\" fill=\"#ffce9e\" height=\"45\" stroke=\"none\" width=\"45\" x=\"315\" y=\"225\"/><rect class=\"square light a4\" fill=\"#ffce9e\" height=\"45\" stroke=\"none\" width=\"45\" x=\"0\" y=\"180\"/><rect class=\"square dark b4\" fill=\"#d18b47\" height=\"45\" stroke=\"none\" width=\"45\" x=\"45\" y=\"180\"/><rect class=\"square light c4\" fill=\"#ffce9e\" height=\"45\" stroke=\"none\" width=\"45\" x=\"90\" y=\"180\"/><rect class=\"square dark d4\" fill=\"#d18b47\" height=\"45\" stroke=\"none\" width=\"45\" x=\"135\" y=\"180\"/><rect class=\"square light e4\" fill=\"#ffce9e\" height=\"45\" stroke=\"none\" width=\"45\" x=\"180\" y=\"180\"/><rect class=\"square dark f4\" fill=\"#d18b47\" height=\"45\" stroke=\"none\" width=\"45\" x=\"225\" y=\"180\"/><rect class=\"square light g4\" fill=\"#ffce9e\" height=\"45\" stroke=\"none\" width=\"45\" x=\"270\" y=\"180\"/><rect class=\"square dark h4\" fill=\"#d18b47\" height=\"45\" stroke=\"none\" width=\"45\" x=\"315\" y=\"180\"/><rect class=\"square dark a5\" fill=\"#d18b47\" height=\"45\" stroke=\"none\" width=\"45\" x=\"0\" y=\"135\"/><rect class=\"square light b5\" fill=\"#ffce9e\" height=\"45\" stroke=\"none\" width=\"45\" x=\"45\" y=\"135\"/><rect class=\"square dark c5\" fill=\"#d18b47\" height=\"45\" stroke=\"none\" width=\"45\" x=\"90\" y=\"135\"/><rect class=\"square light d5\" fill=\"#ffce9e\" height=\"45\" stroke=\"none\" width=\"45\" x=\"135\" y=\"135\"/><rect class=\"square dark e5\" fill=\"#d18b47\" height=\"45\" stroke=\"none\" width=\"45\" x=\"180\" y=\"135\"/><rect class=\"square light f5\" fill=\"#ffce9e\" height=\"45\" stroke=\"none\" width=\"45\" x=\"225\" y=\"135\"/><rect class=\"square dark g5\" fill=\"#d18b47\" height=\"45\" stroke=\"none\" width=\"45\" x=\"270\" y=\"135\"/><rect class=\"square light h5\" fill=\"#ffce9e\" height=\"45\" stroke=\"none\" width=\"45\" x=\"315\" y=\"135\"/><rect class=\"square light a6\" fill=\"#ffce9e\" height=\"45\" stroke=\"none\" width=\"45\" x=\"0\" y=\"90\"/><rect class=\"square dark b6\" fill=\"#d18b47\" height=\"45\" stroke=\"none\" width=\"45\" x=\"45\" y=\"90\"/><rect class=\"square light c6\" fill=\"#ffce9e\" height=\"45\" stroke=\"none\" width=\"45\" x=\"90\" y=\"90\"/><rect class=\"square dark d6\" fill=\"#d18b47\" height=\"45\" stroke=\"none\" width=\"45\" x=\"135\" y=\"90\"/><rect class=\"square light e6\" fill=\"#ffce9e\" height=\"45\" stroke=\"none\" width=\"45\" x=\"180\" y=\"90\"/><rect class=\"square dark f6\" fill=\"#d18b47\" height=\"45\" stroke=\"none\" width=\"45\" x=\"225\" y=\"90\"/><rect class=\"square light g6\" fill=\"#ffce9e\" height=\"45\" stroke=\"none\" width=\"45\" x=\"270\" y=\"90\"/><rect class=\"square dark h6\" fill=\"#d18b47\" height=\"45\" stroke=\"none\" width=\"45\" x=\"315\" y=\"90\"/><rect class=\"square dark a7\" fill=\"#d18b47\" height=\"45\" stroke=\"none\" width=\"45\" x=\"0\" y=\"45\"/><rect class=\"square light b7\" fill=\"#ffce9e\" height=\"45\" stroke=\"none\" width=\"45\" x=\"45\" y=\"45\"/><rect class=\"square dark c7\" fill=\"#d18b47\" height=\"45\" stroke=\"none\" width=\"45\" x=\"90\" y=\"45\"/><rect class=\"square light d7\" fill=\"#ffce9e\" height=\"45\" stroke=\"none\" width=\"45\" x=\"135\" y=\"45\"/><rect class=\"square dark e7\" fill=\"#d18b47\" height=\"45\" stroke=\"none\" width=\"45\" x=\"180\" y=\"45\"/><rect class=\"square light f7\" fill=\"#ffce9e\" height=\"45\" stroke=\"none\" width=\"45\" x=\"225\" y=\"45\"/><rect class=\"square dark g7\" fill=\"#d18b47\" height=\"45\" stroke=\"none\" width=\"45\" x=\"270\" y=\"45\"/><rect class=\"square light h7\" fill=\"#ffce9e\" height=\"45\" stroke=\"none\" width=\"45\" x=\"315\" y=\"45\"/><rect class=\"square light a8\" fill=\"#ffce9e\" height=\"45\" stroke=\"none\" width=\"45\" x=\"0\" y=\"0\"/><rect class=\"square dark b8\" fill=\"#d18b47\" height=\"45\" stroke=\"none\" width=\"45\" x=\"45\" y=\"0\"/><rect class=\"square light c8\" fill=\"#ffce9e\" height=\"45\" stroke=\"none\" width=\"45\" x=\"90\" y=\"0\"/><use transform=\"translate(90, 0)\" xlink:href=\"#white-bishop\"/><rect class=\"square dark d8\" fill=\"#d18b47\" height=\"45\" stroke=\"none\" width=\"45\" x=\"135\" y=\"0\"/><rect class=\"square light e8\" fill=\"#ffce9e\" height=\"45\" stroke=\"none\" width=\"45\" x=\"180\" y=\"0\"/><use transform=\"translate(180, 0)\" xlink:href=\"#white-queen\"/><rect class=\"square dark f8\" fill=\"#d18b47\" height=\"45\" stroke=\"none\" width=\"45\" x=\"225\" y=\"0\"/><use transform=\"translate(225, 0)\" xlink:href=\"#white-queen\"/><rect class=\"square light g8\" fill=\"#ffce9e\" height=\"45\" stroke=\"none\" width=\"45\" x=\"270\" y=\"0\"/><use transform=\"translate(270, 0)\" xlink:href=\"#white-queen\"/><rect class=\"square dark h8\" fill=\"#d18b47\" height=\"45\" stroke=\"none\" width=\"45\" x=\"315\" y=\"0\"/><use transform=\"translate(315, 0)\" xlink:href=\"#white-queen\"/><circle class=\"circle\" cx=\"67.5\" cy=\"337.5\" fill=\"none\" opacity=\"0.5\" r=\"20.25\" stroke=\"red\" stroke-width=\"4.5\"/><circle class=\"circle\" cx=\"112.5\" cy=\"337.5\" fill=\"none\" opacity=\"0.5\" r=\"20.25\" stroke=\"red\" stroke-width=\"4.5\"/><circle class=\"circle\" cx=\"157.5\" cy=\"337.5\" fill=\"none\" opacity=\"0.5\" r=\"20.25\" stroke=\"red\" stroke-width=\"4.5\"/><circle class=\"circle\" cx=\"112.5\" cy=\"292.5\" fill=\"none\" opacity=\"0.5\" r=\"20.25\" stroke=\"red\" stroke-width=\"4.5\"/><circle class=\"circle\" cx=\"157.5\" cy=\"292.5\" fill=\"none\" opacity=\"0.5\" r=\"20.25\" stroke=\"red\" stroke-width=\"4.5\"/><circle class=\"circle\" cx=\"157.5\" cy=\"247.5\" fill=\"none\" opacity=\"0.5\" r=\"20.25\" stroke=\"red\" stroke-width=\"4.5\"/><circle class=\"circle\" cx=\"22.5\" cy=\"157.5\" fill=\"none\" opacity=\"0.5\" r=\"20.25\" stroke=\"red\" stroke-width=\"4.5\"/><circle class=\"circle\" cx=\"67.5\" cy=\"112.5\" fill=\"none\" opacity=\"0.5\" r=\"20.25\" stroke=\"red\" stroke-width=\"4.5\"/><circle class=\"circle\" cx=\"22.5\" cy=\"67.5\" fill=\"none\" opacity=\"0.5\" r=\"20.25\" stroke=\"red\" stroke-width=\"4.5\"/><circle class=\"circle\" cx=\"112.5\" cy=\"67.5\" fill=\"none\" opacity=\"0.5\" r=\"20.25\" stroke=\"red\" stroke-width=\"4.5\"/><circle class=\"circle\" cx=\"22.5\" cy=\"22.5\" fill=\"none\" opacity=\"0.5\" r=\"20.25\" stroke=\"red\" stroke-width=\"4.5\"/><circle class=\"circle\" cx=\"67.5\" cy=\"22.5\" fill=\"none\" opacity=\"0.5\" r=\"20.25\" stroke=\"red\" stroke-width=\"4.5\"/></svg>"
      ],
      "text/plain": [
       "<IPython.core.display.SVG object>"
      ]
     },
     "metadata": {},
     "output_type": "display_data"
    },
    {
     "name": "stdout",
     "output_type": "stream",
     "text": [
      "55\n"
     ]
    },
    {
     "data": {
      "image/svg+xml": [
       "<svg version=\"1.1\" viewBox=\"0 0 360 360\" xmlns=\"http://www.w3.org/2000/svg\" xmlns:xlink=\"http://www.w3.org/1999/xlink\"><style>\n",
       ".square.light {\n",
       "fill: #cacaca;\n",
       "}\n",
       ".square.dark {\n",
       "fill: #898989;\n",
       "}\n",
       "#xx {\n",
       "fill: blue;\n",
       "stroke: red;\n",
       "}\n",
       ".square.light.lastmove {\n",
       "fill: #c3d889;\n",
       "}\n",
       ".square.dark.lastmove {\n",
       "fill: #92b167;\n",
       "}\n",
       ".check {\n",
       "fill: url(#check_gradient);\n",
       "}\n",
       ".arrow {\n",
       "stroke: #ff5858;\n",
       "fill: blue;\n",
       "}\n",
       ".mark {\n",
       "stroke: #959fff;\n",
       "fill: blue;\n",
       "}\n",
       "</style><defs><g class=\"white bishop\" fill=\"none\" fill-rule=\"evenodd\" id=\"white-bishop\" stroke=\"#000\" stroke-linecap=\"round\" stroke-linejoin=\"round\" stroke-width=\"1.5\"><g fill=\"#fff\" stroke-linecap=\"butt\"><path d=\"M9 36c3.39-.97 10.11.43 13.5-2 3.39 2.43 10.11 1.03 13.5 2 0 0 1.65.54 3 2-.68.97-1.65.99-3 .5-3.39-.97-10.11.46-13.5-1-3.39 1.46-10.11.03-13.5 1-1.354.49-2.323.47-3-.5 1.354-1.94 3-2 3-2zM15 32c2.5 2.5 12.5 2.5 15 0 .5-1.5 0-2 0-2 0-2.5-2.5-4-2.5-4 5.5-1.5 6-11.5-5-15.5-11 4-10.5 14-5 15.5 0 0-2.5 1.5-2.5 4 0 0-.5.5 0 2zM25 8a2.5 2.5 0 1 1-5 0 2.5 2.5 0 1 1 5 0z\"/></g><path d=\"M17.5 26h10M15 30h15m-7.5-14.5v5M20 18h5\" stroke-linejoin=\"miter\"/></g><g class=\"white queen\" fill=\"#fff\" fill-rule=\"evenodd\" id=\"white-queen\" stroke=\"#000\" stroke-linecap=\"round\" stroke-linejoin=\"round\" stroke-width=\"1.5\"><path d=\"M8 12a2 2 0 1 1-4 0 2 2 0 1 1 4 0zM24.5 7.5a2 2 0 1 1-4 0 2 2 0 1 1 4 0zM41 12a2 2 0 1 1-4 0 2 2 0 1 1 4 0zM16 8.5a2 2 0 1 1-4 0 2 2 0 1 1 4 0zM33 9a2 2 0 1 1-4 0 2 2 0 1 1 4 0z\"/><path d=\"M9 26c8.5-1.5 21-1.5 27 0l2-12-7 11V11l-5.5 13.5-3-15-3 15-5.5-14V25L7 14l2 12zM9 26c0 2 1.5 2 2.5 4 1 1.5 1 1 .5 3.5-1.5 1-1.5 2.5-1.5 2.5-1.5 1.5.5 2.5.5 2.5 6.5 1 16.5 1 23 0 0 0 1.5-1 0-2.5 0 0 .5-1.5-1-2.5-.5-2.5-.5-2 .5-3.5 1-2 2.5-2 2.5-4-8.5-1.5-18.5-1.5-27 0z\" stroke-linecap=\"butt\"/><path d=\"M11.5 30c3.5-1 18.5-1 22 0M12 33.5c6-1 15-1 21 0\" fill=\"none\"/></g></defs><rect class=\"square dark a1\" fill=\"#d18b47\" height=\"45\" stroke=\"none\" width=\"45\" x=\"0\" y=\"315\"/><rect class=\"square light b1\" fill=\"#ffce9e\" height=\"45\" stroke=\"none\" width=\"45\" x=\"45\" y=\"315\"/><rect class=\"square dark c1\" fill=\"#d18b47\" height=\"45\" stroke=\"none\" width=\"45\" x=\"90\" y=\"315\"/><rect class=\"square light d1\" fill=\"#ffce9e\" height=\"45\" stroke=\"none\" width=\"45\" x=\"135\" y=\"315\"/><rect class=\"square dark e1\" fill=\"#d18b47\" height=\"45\" stroke=\"none\" width=\"45\" x=\"180\" y=\"315\"/><rect class=\"square light f1\" fill=\"#ffce9e\" height=\"45\" stroke=\"none\" width=\"45\" x=\"225\" y=\"315\"/><rect class=\"square dark g1\" fill=\"#d18b47\" height=\"45\" stroke=\"none\" width=\"45\" x=\"270\" y=\"315\"/><rect class=\"square light h1\" fill=\"#ffce9e\" height=\"45\" stroke=\"none\" width=\"45\" x=\"315\" y=\"315\"/><rect class=\"square light a2\" fill=\"#ffce9e\" height=\"45\" stroke=\"none\" width=\"45\" x=\"0\" y=\"270\"/><rect class=\"square dark b2\" fill=\"#d18b47\" height=\"45\" stroke=\"none\" width=\"45\" x=\"45\" y=\"270\"/><rect class=\"square light c2\" fill=\"#ffce9e\" height=\"45\" stroke=\"none\" width=\"45\" x=\"90\" y=\"270\"/><rect class=\"square dark d2\" fill=\"#d18b47\" height=\"45\" stroke=\"none\" width=\"45\" x=\"135\" y=\"270\"/><rect class=\"square light e2\" fill=\"#ffce9e\" height=\"45\" stroke=\"none\" width=\"45\" x=\"180\" y=\"270\"/><rect class=\"square dark f2\" fill=\"#d18b47\" height=\"45\" stroke=\"none\" width=\"45\" x=\"225\" y=\"270\"/><rect class=\"square light g2\" fill=\"#ffce9e\" height=\"45\" stroke=\"none\" width=\"45\" x=\"270\" y=\"270\"/><rect class=\"square dark h2\" fill=\"#d18b47\" height=\"45\" stroke=\"none\" width=\"45\" x=\"315\" y=\"270\"/><rect class=\"square dark a3\" fill=\"#d18b47\" height=\"45\" stroke=\"none\" width=\"45\" x=\"0\" y=\"225\"/><rect class=\"square light b3\" fill=\"#ffce9e\" height=\"45\" stroke=\"none\" width=\"45\" x=\"45\" y=\"225\"/><rect class=\"square dark c3\" fill=\"#d18b47\" height=\"45\" stroke=\"none\" width=\"45\" x=\"90\" y=\"225\"/><rect class=\"square light d3\" fill=\"#ffce9e\" height=\"45\" stroke=\"none\" width=\"45\" x=\"135\" y=\"225\"/><rect class=\"square dark e3\" fill=\"#d18b47\" height=\"45\" stroke=\"none\" width=\"45\" x=\"180\" y=\"225\"/><rect class=\"square light f3\" fill=\"#ffce9e\" height=\"45\" stroke=\"none\" width=\"45\" x=\"225\" y=\"225\"/><rect class=\"square dark g3\" fill=\"#d18b47\" height=\"45\" stroke=\"none\" width=\"45\" x=\"270\" y=\"225\"/><rect class=\"square light h3\" fill=\"#ffce9e\" height=\"45\" stroke=\"none\" width=\"45\" x=\"315\" y=\"225\"/><rect class=\"square light a4\" fill=\"#ffce9e\" height=\"45\" stroke=\"none\" width=\"45\" x=\"0\" y=\"180\"/><rect class=\"square dark b4\" fill=\"#d18b47\" height=\"45\" stroke=\"none\" width=\"45\" x=\"45\" y=\"180\"/><rect class=\"square light c4\" fill=\"#ffce9e\" height=\"45\" stroke=\"none\" width=\"45\" x=\"90\" y=\"180\"/><rect class=\"square dark d4\" fill=\"#d18b47\" height=\"45\" stroke=\"none\" width=\"45\" x=\"135\" y=\"180\"/><rect class=\"square light e4\" fill=\"#ffce9e\" height=\"45\" stroke=\"none\" width=\"45\" x=\"180\" y=\"180\"/><rect class=\"square dark f4\" fill=\"#d18b47\" height=\"45\" stroke=\"none\" width=\"45\" x=\"225\" y=\"180\"/><rect class=\"square light g4\" fill=\"#ffce9e\" height=\"45\" stroke=\"none\" width=\"45\" x=\"270\" y=\"180\"/><rect class=\"square dark h4\" fill=\"#d18b47\" height=\"45\" stroke=\"none\" width=\"45\" x=\"315\" y=\"180\"/><rect class=\"square dark a5\" fill=\"#d18b47\" height=\"45\" stroke=\"none\" width=\"45\" x=\"0\" y=\"135\"/><rect class=\"square light b5\" fill=\"#ffce9e\" height=\"45\" stroke=\"none\" width=\"45\" x=\"45\" y=\"135\"/><rect class=\"square dark c5\" fill=\"#d18b47\" height=\"45\" stroke=\"none\" width=\"45\" x=\"90\" y=\"135\"/><rect class=\"square light d5\" fill=\"#ffce9e\" height=\"45\" stroke=\"none\" width=\"45\" x=\"135\" y=\"135\"/><rect class=\"square dark e5\" fill=\"#d18b47\" height=\"45\" stroke=\"none\" width=\"45\" x=\"180\" y=\"135\"/><rect class=\"square light f5\" fill=\"#ffce9e\" height=\"45\" stroke=\"none\" width=\"45\" x=\"225\" y=\"135\"/><rect class=\"square dark g5\" fill=\"#d18b47\" height=\"45\" stroke=\"none\" width=\"45\" x=\"270\" y=\"135\"/><rect class=\"square light h5\" fill=\"#ffce9e\" height=\"45\" stroke=\"none\" width=\"45\" x=\"315\" y=\"135\"/><rect class=\"square light a6\" fill=\"#ffce9e\" height=\"45\" stroke=\"none\" width=\"45\" x=\"0\" y=\"90\"/><rect class=\"square dark b6\" fill=\"#d18b47\" height=\"45\" stroke=\"none\" width=\"45\" x=\"45\" y=\"90\"/><rect class=\"square light c6\" fill=\"#ffce9e\" height=\"45\" stroke=\"none\" width=\"45\" x=\"90\" y=\"90\"/><rect class=\"square dark d6\" fill=\"#d18b47\" height=\"45\" stroke=\"none\" width=\"45\" x=\"135\" y=\"90\"/><rect class=\"square light e6\" fill=\"#ffce9e\" height=\"45\" stroke=\"none\" width=\"45\" x=\"180\" y=\"90\"/><rect class=\"square dark f6\" fill=\"#d18b47\" height=\"45\" stroke=\"none\" width=\"45\" x=\"225\" y=\"90\"/><rect class=\"square light g6\" fill=\"#ffce9e\" height=\"45\" stroke=\"none\" width=\"45\" x=\"270\" y=\"90\"/><rect class=\"square dark h6\" fill=\"#d18b47\" height=\"45\" stroke=\"none\" width=\"45\" x=\"315\" y=\"90\"/><rect class=\"square dark a7\" fill=\"#d18b47\" height=\"45\" stroke=\"none\" width=\"45\" x=\"0\" y=\"45\"/><rect class=\"square light b7\" fill=\"#ffce9e\" height=\"45\" stroke=\"none\" width=\"45\" x=\"45\" y=\"45\"/><rect class=\"square dark c7\" fill=\"#d18b47\" height=\"45\" stroke=\"none\" width=\"45\" x=\"90\" y=\"45\"/><rect class=\"square light d7\" fill=\"#ffce9e\" height=\"45\" stroke=\"none\" width=\"45\" x=\"135\" y=\"45\"/><rect class=\"square dark e7\" fill=\"#d18b47\" height=\"45\" stroke=\"none\" width=\"45\" x=\"180\" y=\"45\"/><rect class=\"square light f7\" fill=\"#ffce9e\" height=\"45\" stroke=\"none\" width=\"45\" x=\"225\" y=\"45\"/><rect class=\"square dark g7\" fill=\"#d18b47\" height=\"45\" stroke=\"none\" width=\"45\" x=\"270\" y=\"45\"/><rect class=\"square light h7\" fill=\"#ffce9e\" height=\"45\" stroke=\"none\" width=\"45\" x=\"315\" y=\"45\"/><rect class=\"square light a8\" fill=\"#ffce9e\" height=\"45\" stroke=\"none\" width=\"45\" x=\"0\" y=\"0\"/><rect class=\"square dark b8\" fill=\"#d18b47\" height=\"45\" stroke=\"none\" width=\"45\" x=\"45\" y=\"0\"/><rect class=\"square light c8\" fill=\"#ffce9e\" height=\"45\" stroke=\"none\" width=\"45\" x=\"90\" y=\"0\"/><rect class=\"square dark d8\" fill=\"#d18b47\" height=\"45\" stroke=\"none\" width=\"45\" x=\"135\" y=\"0\"/><use transform=\"translate(135, 0)\" xlink:href=\"#white-bishop\"/><rect class=\"square light e8\" fill=\"#ffce9e\" height=\"45\" stroke=\"none\" width=\"45\" x=\"180\" y=\"0\"/><use transform=\"translate(180, 0)\" xlink:href=\"#white-queen\"/><rect class=\"square dark f8\" fill=\"#d18b47\" height=\"45\" stroke=\"none\" width=\"45\" x=\"225\" y=\"0\"/><use transform=\"translate(225, 0)\" xlink:href=\"#white-queen\"/><rect class=\"square light g8\" fill=\"#ffce9e\" height=\"45\" stroke=\"none\" width=\"45\" x=\"270\" y=\"0\"/><use transform=\"translate(270, 0)\" xlink:href=\"#white-queen\"/><rect class=\"square dark h8\" fill=\"#d18b47\" height=\"45\" stroke=\"none\" width=\"45\" x=\"315\" y=\"0\"/><use transform=\"translate(315, 0)\" xlink:href=\"#white-queen\"/><circle class=\"circle\" cx=\"67.5\" cy=\"337.5\" fill=\"none\" opacity=\"0.5\" r=\"20.25\" stroke=\"red\" stroke-width=\"4.5\"/><circle class=\"circle\" cx=\"112.5\" cy=\"337.5\" fill=\"none\" opacity=\"0.5\" r=\"20.25\" stroke=\"red\" stroke-width=\"4.5\"/><circle class=\"circle\" cx=\"157.5\" cy=\"337.5\" fill=\"none\" opacity=\"0.5\" r=\"20.25\" stroke=\"red\" stroke-width=\"4.5\"/><circle class=\"circle\" cx=\"112.5\" cy=\"292.5\" fill=\"none\" opacity=\"0.5\" r=\"20.25\" stroke=\"red\" stroke-width=\"4.5\"/><circle class=\"circle\" cx=\"157.5\" cy=\"292.5\" fill=\"none\" opacity=\"0.5\" r=\"20.25\" stroke=\"red\" stroke-width=\"4.5\"/><circle class=\"circle\" cx=\"157.5\" cy=\"247.5\" fill=\"none\" opacity=\"0.5\" r=\"20.25\" stroke=\"red\" stroke-width=\"4.5\"/><circle class=\"circle\" cx=\"22.5\" cy=\"112.5\" fill=\"none\" opacity=\"0.5\" r=\"20.25\" stroke=\"red\" stroke-width=\"4.5\"/><circle class=\"circle\" cx=\"22.5\" cy=\"67.5\" fill=\"none\" opacity=\"0.5\" r=\"20.25\" stroke=\"red\" stroke-width=\"4.5\"/><circle class=\"circle\" cx=\"67.5\" cy=\"67.5\" fill=\"none\" opacity=\"0.5\" r=\"20.25\" stroke=\"red\" stroke-width=\"4.5\"/><circle class=\"circle\" cx=\"22.5\" cy=\"22.5\" fill=\"none\" opacity=\"0.5\" r=\"20.25\" stroke=\"red\" stroke-width=\"4.5\"/><circle class=\"circle\" cx=\"67.5\" cy=\"22.5\" fill=\"none\" opacity=\"0.5\" r=\"20.25\" stroke=\"red\" stroke-width=\"4.5\"/><circle class=\"circle\" cx=\"112.5\" cy=\"22.5\" fill=\"none\" opacity=\"0.5\" r=\"20.25\" stroke=\"red\" stroke-width=\"4.5\"/></svg>"
      ],
      "text/plain": [
       "<IPython.core.display.SVG object>"
      ]
     },
     "metadata": {},
     "output_type": "display_data"
    },
    {
     "name": "stdout",
     "output_type": "stream",
     "text": [
      "56\n"
     ]
    },
    {
     "data": {
      "image/svg+xml": [
       "<svg version=\"1.1\" viewBox=\"0 0 360 360\" xmlns=\"http://www.w3.org/2000/svg\" xmlns:xlink=\"http://www.w3.org/1999/xlink\"><style>\n",
       ".square.light {\n",
       "fill: #cacaca;\n",
       "}\n",
       ".square.dark {\n",
       "fill: #898989;\n",
       "}\n",
       "#xx {\n",
       "fill: blue;\n",
       "stroke: red;\n",
       "}\n",
       ".square.light.lastmove {\n",
       "fill: #c3d889;\n",
       "}\n",
       ".square.dark.lastmove {\n",
       "fill: #92b167;\n",
       "}\n",
       ".check {\n",
       "fill: url(#check_gradient);\n",
       "}\n",
       ".arrow {\n",
       "stroke: #ff5858;\n",
       "fill: blue;\n",
       "}\n",
       ".mark {\n",
       "stroke: #959fff;\n",
       "fill: blue;\n",
       "}\n",
       "</style><defs><g class=\"white bishop\" fill=\"none\" fill-rule=\"evenodd\" id=\"white-bishop\" stroke=\"#000\" stroke-linecap=\"round\" stroke-linejoin=\"round\" stroke-width=\"1.5\"><g fill=\"#fff\" stroke-linecap=\"butt\"><path d=\"M9 36c3.39-.97 10.11.43 13.5-2 3.39 2.43 10.11 1.03 13.5 2 0 0 1.65.54 3 2-.68.97-1.65.99-3 .5-3.39-.97-10.11.46-13.5-1-3.39 1.46-10.11.03-13.5 1-1.354.49-2.323.47-3-.5 1.354-1.94 3-2 3-2zM15 32c2.5 2.5 12.5 2.5 15 0 .5-1.5 0-2 0-2 0-2.5-2.5-4-2.5-4 5.5-1.5 6-11.5-5-15.5-11 4-10.5 14-5 15.5 0 0-2.5 1.5-2.5 4 0 0-.5.5 0 2zM25 8a2.5 2.5 0 1 1-5 0 2.5 2.5 0 1 1 5 0z\"/></g><path d=\"M17.5 26h10M15 30h15m-7.5-14.5v5M20 18h5\" stroke-linejoin=\"miter\"/></g><g class=\"white queen\" fill=\"#fff\" fill-rule=\"evenodd\" id=\"white-queen\" stroke=\"#000\" stroke-linecap=\"round\" stroke-linejoin=\"round\" stroke-width=\"1.5\"><path d=\"M8 12a2 2 0 1 1-4 0 2 2 0 1 1 4 0zM24.5 7.5a2 2 0 1 1-4 0 2 2 0 1 1 4 0zM41 12a2 2 0 1 1-4 0 2 2 0 1 1 4 0zM16 8.5a2 2 0 1 1-4 0 2 2 0 1 1 4 0zM33 9a2 2 0 1 1-4 0 2 2 0 1 1 4 0z\"/><path d=\"M9 26c8.5-1.5 21-1.5 27 0l2-12-7 11V11l-5.5 13.5-3-15-3 15-5.5-14V25L7 14l2 12zM9 26c0 2 1.5 2 2.5 4 1 1.5 1 1 .5 3.5-1.5 1-1.5 2.5-1.5 2.5-1.5 1.5.5 2.5.5 2.5 6.5 1 16.5 1 23 0 0 0 1.5-1 0-2.5 0 0 .5-1.5-1-2.5-.5-2.5-.5-2 .5-3.5 1-2 2.5-2 2.5-4-8.5-1.5-18.5-1.5-27 0z\" stroke-linecap=\"butt\"/><path d=\"M11.5 30c3.5-1 18.5-1 22 0M12 33.5c6-1 15-1 21 0\" fill=\"none\"/></g></defs><rect class=\"square dark a1\" fill=\"#d18b47\" height=\"45\" stroke=\"none\" width=\"45\" x=\"0\" y=\"315\"/><rect class=\"square light b1\" fill=\"#ffce9e\" height=\"45\" stroke=\"none\" width=\"45\" x=\"45\" y=\"315\"/><rect class=\"square dark c1\" fill=\"#d18b47\" height=\"45\" stroke=\"none\" width=\"45\" x=\"90\" y=\"315\"/><rect class=\"square light d1\" fill=\"#ffce9e\" height=\"45\" stroke=\"none\" width=\"45\" x=\"135\" y=\"315\"/><rect class=\"square dark e1\" fill=\"#d18b47\" height=\"45\" stroke=\"none\" width=\"45\" x=\"180\" y=\"315\"/><rect class=\"square light f1\" fill=\"#ffce9e\" height=\"45\" stroke=\"none\" width=\"45\" x=\"225\" y=\"315\"/><rect class=\"square dark g1\" fill=\"#d18b47\" height=\"45\" stroke=\"none\" width=\"45\" x=\"270\" y=\"315\"/><rect class=\"square light h1\" fill=\"#ffce9e\" height=\"45\" stroke=\"none\" width=\"45\" x=\"315\" y=\"315\"/><rect class=\"square light a2\" fill=\"#ffce9e\" height=\"45\" stroke=\"none\" width=\"45\" x=\"0\" y=\"270\"/><rect class=\"square dark b2\" fill=\"#d18b47\" height=\"45\" stroke=\"none\" width=\"45\" x=\"45\" y=\"270\"/><rect class=\"square light c2\" fill=\"#ffce9e\" height=\"45\" stroke=\"none\" width=\"45\" x=\"90\" y=\"270\"/><rect class=\"square dark d2\" fill=\"#d18b47\" height=\"45\" stroke=\"none\" width=\"45\" x=\"135\" y=\"270\"/><rect class=\"square light e2\" fill=\"#ffce9e\" height=\"45\" stroke=\"none\" width=\"45\" x=\"180\" y=\"270\"/><rect class=\"square dark f2\" fill=\"#d18b47\" height=\"45\" stroke=\"none\" width=\"45\" x=\"225\" y=\"270\"/><rect class=\"square light g2\" fill=\"#ffce9e\" height=\"45\" stroke=\"none\" width=\"45\" x=\"270\" y=\"270\"/><rect class=\"square dark h2\" fill=\"#d18b47\" height=\"45\" stroke=\"none\" width=\"45\" x=\"315\" y=\"270\"/><rect class=\"square dark a3\" fill=\"#d18b47\" height=\"45\" stroke=\"none\" width=\"45\" x=\"0\" y=\"225\"/><rect class=\"square light b3\" fill=\"#ffce9e\" height=\"45\" stroke=\"none\" width=\"45\" x=\"45\" y=\"225\"/><rect class=\"square dark c3\" fill=\"#d18b47\" height=\"45\" stroke=\"none\" width=\"45\" x=\"90\" y=\"225\"/><rect class=\"square light d3\" fill=\"#ffce9e\" height=\"45\" stroke=\"none\" width=\"45\" x=\"135\" y=\"225\"/><rect class=\"square dark e3\" fill=\"#d18b47\" height=\"45\" stroke=\"none\" width=\"45\" x=\"180\" y=\"225\"/><rect class=\"square light f3\" fill=\"#ffce9e\" height=\"45\" stroke=\"none\" width=\"45\" x=\"225\" y=\"225\"/><rect class=\"square dark g3\" fill=\"#d18b47\" height=\"45\" stroke=\"none\" width=\"45\" x=\"270\" y=\"225\"/><rect class=\"square light h3\" fill=\"#ffce9e\" height=\"45\" stroke=\"none\" width=\"45\" x=\"315\" y=\"225\"/><rect class=\"square light a4\" fill=\"#ffce9e\" height=\"45\" stroke=\"none\" width=\"45\" x=\"0\" y=\"180\"/><rect class=\"square dark b4\" fill=\"#d18b47\" height=\"45\" stroke=\"none\" width=\"45\" x=\"45\" y=\"180\"/><rect class=\"square light c4\" fill=\"#ffce9e\" height=\"45\" stroke=\"none\" width=\"45\" x=\"90\" y=\"180\"/><rect class=\"square dark d4\" fill=\"#d18b47\" height=\"45\" stroke=\"none\" width=\"45\" x=\"135\" y=\"180\"/><rect class=\"square light e4\" fill=\"#ffce9e\" height=\"45\" stroke=\"none\" width=\"45\" x=\"180\" y=\"180\"/><use transform=\"translate(180, 180)\" xlink:href=\"#white-bishop\"/><rect class=\"square dark f4\" fill=\"#d18b47\" height=\"45\" stroke=\"none\" width=\"45\" x=\"225\" y=\"180\"/><rect class=\"square light g4\" fill=\"#ffce9e\" height=\"45\" stroke=\"none\" width=\"45\" x=\"270\" y=\"180\"/><rect class=\"square dark h4\" fill=\"#d18b47\" height=\"45\" stroke=\"none\" width=\"45\" x=\"315\" y=\"180\"/><rect class=\"square dark a5\" fill=\"#d18b47\" height=\"45\" stroke=\"none\" width=\"45\" x=\"0\" y=\"135\"/><rect class=\"square light b5\" fill=\"#ffce9e\" height=\"45\" stroke=\"none\" width=\"45\" x=\"45\" y=\"135\"/><rect class=\"square dark c5\" fill=\"#d18b47\" height=\"45\" stroke=\"none\" width=\"45\" x=\"90\" y=\"135\"/><rect class=\"square light d5\" fill=\"#ffce9e\" height=\"45\" stroke=\"none\" width=\"45\" x=\"135\" y=\"135\"/><rect class=\"square dark e5\" fill=\"#d18b47\" height=\"45\" stroke=\"none\" width=\"45\" x=\"180\" y=\"135\"/><rect class=\"square light f5\" fill=\"#ffce9e\" height=\"45\" stroke=\"none\" width=\"45\" x=\"225\" y=\"135\"/><rect class=\"square dark g5\" fill=\"#d18b47\" height=\"45\" stroke=\"none\" width=\"45\" x=\"270\" y=\"135\"/><rect class=\"square light h5\" fill=\"#ffce9e\" height=\"45\" stroke=\"none\" width=\"45\" x=\"315\" y=\"135\"/><rect class=\"square light a6\" fill=\"#ffce9e\" height=\"45\" stroke=\"none\" width=\"45\" x=\"0\" y=\"90\"/><rect class=\"square dark b6\" fill=\"#d18b47\" height=\"45\" stroke=\"none\" width=\"45\" x=\"45\" y=\"90\"/><rect class=\"square light c6\" fill=\"#ffce9e\" height=\"45\" stroke=\"none\" width=\"45\" x=\"90\" y=\"90\"/><rect class=\"square dark d6\" fill=\"#d18b47\" height=\"45\" stroke=\"none\" width=\"45\" x=\"135\" y=\"90\"/><rect class=\"square light e6\" fill=\"#ffce9e\" height=\"45\" stroke=\"none\" width=\"45\" x=\"180\" y=\"90\"/><rect class=\"square dark f6\" fill=\"#d18b47\" height=\"45\" stroke=\"none\" width=\"45\" x=\"225\" y=\"90\"/><rect class=\"square light g6\" fill=\"#ffce9e\" height=\"45\" stroke=\"none\" width=\"45\" x=\"270\" y=\"90\"/><rect class=\"square dark h6\" fill=\"#d18b47\" height=\"45\" stroke=\"none\" width=\"45\" x=\"315\" y=\"90\"/><rect class=\"square dark a7\" fill=\"#d18b47\" height=\"45\" stroke=\"none\" width=\"45\" x=\"0\" y=\"45\"/><rect class=\"square light b7\" fill=\"#ffce9e\" height=\"45\" stroke=\"none\" width=\"45\" x=\"45\" y=\"45\"/><rect class=\"square dark c7\" fill=\"#d18b47\" height=\"45\" stroke=\"none\" width=\"45\" x=\"90\" y=\"45\"/><rect class=\"square light d7\" fill=\"#ffce9e\" height=\"45\" stroke=\"none\" width=\"45\" x=\"135\" y=\"45\"/><rect class=\"square dark e7\" fill=\"#d18b47\" height=\"45\" stroke=\"none\" width=\"45\" x=\"180\" y=\"45\"/><rect class=\"square light f7\" fill=\"#ffce9e\" height=\"45\" stroke=\"none\" width=\"45\" x=\"225\" y=\"45\"/><rect class=\"square dark g7\" fill=\"#d18b47\" height=\"45\" stroke=\"none\" width=\"45\" x=\"270\" y=\"45\"/><rect class=\"square light h7\" fill=\"#ffce9e\" height=\"45\" stroke=\"none\" width=\"45\" x=\"315\" y=\"45\"/><rect class=\"square light a8\" fill=\"#ffce9e\" height=\"45\" stroke=\"none\" width=\"45\" x=\"0\" y=\"0\"/><rect class=\"square dark b8\" fill=\"#d18b47\" height=\"45\" stroke=\"none\" width=\"45\" x=\"45\" y=\"0\"/><rect class=\"square light c8\" fill=\"#ffce9e\" height=\"45\" stroke=\"none\" width=\"45\" x=\"90\" y=\"0\"/><rect class=\"square dark d8\" fill=\"#d18b47\" height=\"45\" stroke=\"none\" width=\"45\" x=\"135\" y=\"0\"/><rect class=\"square light e8\" fill=\"#ffce9e\" height=\"45\" stroke=\"none\" width=\"45\" x=\"180\" y=\"0\"/><use transform=\"translate(180, 0)\" xlink:href=\"#white-queen\"/><rect class=\"square dark f8\" fill=\"#d18b47\" height=\"45\" stroke=\"none\" width=\"45\" x=\"225\" y=\"0\"/><use transform=\"translate(225, 0)\" xlink:href=\"#white-queen\"/><rect class=\"square light g8\" fill=\"#ffce9e\" height=\"45\" stroke=\"none\" width=\"45\" x=\"270\" y=\"0\"/><use transform=\"translate(270, 0)\" xlink:href=\"#white-queen\"/><rect class=\"square dark h8\" fill=\"#d18b47\" height=\"45\" stroke=\"none\" width=\"45\" x=\"315\" y=\"0\"/><use transform=\"translate(315, 0)\" xlink:href=\"#white-queen\"/><circle class=\"circle\" cx=\"112.5\" cy=\"337.5\" fill=\"none\" opacity=\"0.5\" r=\"20.25\" stroke=\"red\" stroke-width=\"4.5\"/><circle class=\"circle\" cx=\"157.5\" cy=\"337.5\" fill=\"none\" opacity=\"0.5\" r=\"20.25\" stroke=\"red\" stroke-width=\"4.5\"/><circle class=\"circle\" cx=\"202.5\" cy=\"337.5\" fill=\"none\" opacity=\"0.5\" r=\"20.25\" stroke=\"red\" stroke-width=\"4.5\"/><circle class=\"circle\" cx=\"157.5\" cy=\"292.5\" fill=\"none\" opacity=\"0.5\" r=\"20.25\" stroke=\"red\" stroke-width=\"4.5\"/><circle class=\"circle\" cx=\"202.5\" cy=\"292.5\" fill=\"none\" opacity=\"0.5\" r=\"20.25\" stroke=\"red\" stroke-width=\"4.5\"/><circle class=\"circle\" cx=\"202.5\" cy=\"247.5\" fill=\"none\" opacity=\"0.5\" r=\"20.25\" stroke=\"red\" stroke-width=\"4.5\"/><circle class=\"circle\" cx=\"22.5\" cy=\"157.5\" fill=\"none\" opacity=\"0.5\" r=\"20.25\" stroke=\"red\" stroke-width=\"4.5\"/><circle class=\"circle\" cx=\"22.5\" cy=\"112.5\" fill=\"none\" opacity=\"0.5\" r=\"20.25\" stroke=\"red\" stroke-width=\"4.5\"/><circle class=\"circle\" cx=\"67.5\" cy=\"112.5\" fill=\"none\" opacity=\"0.5\" r=\"20.25\" stroke=\"red\" stroke-width=\"4.5\"/><circle class=\"circle\" cx=\"22.5\" cy=\"67.5\" fill=\"none\" opacity=\"0.5\" r=\"20.25\" stroke=\"red\" stroke-width=\"4.5\"/><circle class=\"circle\" cx=\"112.5\" cy=\"67.5\" fill=\"none\" opacity=\"0.5\" r=\"20.25\" stroke=\"red\" stroke-width=\"4.5\"/></svg>"
      ],
      "text/plain": [
       "<IPython.core.display.SVG object>"
      ]
     },
     "metadata": {},
     "output_type": "display_data"
    },
    {
     "name": "stdout",
     "output_type": "stream",
     "text": [
      "57\n"
     ]
    },
    {
     "data": {
      "image/svg+xml": [
       "<svg version=\"1.1\" viewBox=\"0 0 360 360\" xmlns=\"http://www.w3.org/2000/svg\" xmlns:xlink=\"http://www.w3.org/1999/xlink\"><style>\n",
       ".square.light {\n",
       "fill: #cacaca;\n",
       "}\n",
       ".square.dark {\n",
       "fill: #898989;\n",
       "}\n",
       "#xx {\n",
       "fill: blue;\n",
       "stroke: red;\n",
       "}\n",
       ".square.light.lastmove {\n",
       "fill: #c3d889;\n",
       "}\n",
       ".square.dark.lastmove {\n",
       "fill: #92b167;\n",
       "}\n",
       ".check {\n",
       "fill: url(#check_gradient);\n",
       "}\n",
       ".arrow {\n",
       "stroke: #ff5858;\n",
       "fill: blue;\n",
       "}\n",
       ".mark {\n",
       "stroke: #959fff;\n",
       "fill: blue;\n",
       "}\n",
       "</style><defs><g class=\"white bishop\" fill=\"none\" fill-rule=\"evenodd\" id=\"white-bishop\" stroke=\"#000\" stroke-linecap=\"round\" stroke-linejoin=\"round\" stroke-width=\"1.5\"><g fill=\"#fff\" stroke-linecap=\"butt\"><path d=\"M9 36c3.39-.97 10.11.43 13.5-2 3.39 2.43 10.11 1.03 13.5 2 0 0 1.65.54 3 2-.68.97-1.65.99-3 .5-3.39-.97-10.11.46-13.5-1-3.39 1.46-10.11.03-13.5 1-1.354.49-2.323.47-3-.5 1.354-1.94 3-2 3-2zM15 32c2.5 2.5 12.5 2.5 15 0 .5-1.5 0-2 0-2 0-2.5-2.5-4-2.5-4 5.5-1.5 6-11.5-5-15.5-11 4-10.5 14-5 15.5 0 0-2.5 1.5-2.5 4 0 0-.5.5 0 2zM25 8a2.5 2.5 0 1 1-5 0 2.5 2.5 0 1 1 5 0z\"/></g><path d=\"M17.5 26h10M15 30h15m-7.5-14.5v5M20 18h5\" stroke-linejoin=\"miter\"/></g><g class=\"white queen\" fill=\"#fff\" fill-rule=\"evenodd\" id=\"white-queen\" stroke=\"#000\" stroke-linecap=\"round\" stroke-linejoin=\"round\" stroke-width=\"1.5\"><path d=\"M8 12a2 2 0 1 1-4 0 2 2 0 1 1 4 0zM24.5 7.5a2 2 0 1 1-4 0 2 2 0 1 1 4 0zM41 12a2 2 0 1 1-4 0 2 2 0 1 1 4 0zM16 8.5a2 2 0 1 1-4 0 2 2 0 1 1 4 0zM33 9a2 2 0 1 1-4 0 2 2 0 1 1 4 0z\"/><path d=\"M9 26c8.5-1.5 21-1.5 27 0l2-12-7 11V11l-5.5 13.5-3-15-3 15-5.5-14V25L7 14l2 12zM9 26c0 2 1.5 2 2.5 4 1 1.5 1 1 .5 3.5-1.5 1-1.5 2.5-1.5 2.5-1.5 1.5.5 2.5.5 2.5 6.5 1 16.5 1 23 0 0 0 1.5-1 0-2.5 0 0 .5-1.5-1-2.5-.5-2.5-.5-2 .5-3.5 1-2 2.5-2 2.5-4-8.5-1.5-18.5-1.5-27 0z\" stroke-linecap=\"butt\"/><path d=\"M11.5 30c3.5-1 18.5-1 22 0M12 33.5c6-1 15-1 21 0\" fill=\"none\"/></g></defs><rect class=\"square dark a1\" fill=\"#d18b47\" height=\"45\" stroke=\"none\" width=\"45\" x=\"0\" y=\"315\"/><rect class=\"square light b1\" fill=\"#ffce9e\" height=\"45\" stroke=\"none\" width=\"45\" x=\"45\" y=\"315\"/><rect class=\"square dark c1\" fill=\"#d18b47\" height=\"45\" stroke=\"none\" width=\"45\" x=\"90\" y=\"315\"/><rect class=\"square light d1\" fill=\"#ffce9e\" height=\"45\" stroke=\"none\" width=\"45\" x=\"135\" y=\"315\"/><rect class=\"square dark e1\" fill=\"#d18b47\" height=\"45\" stroke=\"none\" width=\"45\" x=\"180\" y=\"315\"/><rect class=\"square light f1\" fill=\"#ffce9e\" height=\"45\" stroke=\"none\" width=\"45\" x=\"225\" y=\"315\"/><rect class=\"square dark g1\" fill=\"#d18b47\" height=\"45\" stroke=\"none\" width=\"45\" x=\"270\" y=\"315\"/><rect class=\"square light h1\" fill=\"#ffce9e\" height=\"45\" stroke=\"none\" width=\"45\" x=\"315\" y=\"315\"/><rect class=\"square light a2\" fill=\"#ffce9e\" height=\"45\" stroke=\"none\" width=\"45\" x=\"0\" y=\"270\"/><rect class=\"square dark b2\" fill=\"#d18b47\" height=\"45\" stroke=\"none\" width=\"45\" x=\"45\" y=\"270\"/><rect class=\"square light c2\" fill=\"#ffce9e\" height=\"45\" stroke=\"none\" width=\"45\" x=\"90\" y=\"270\"/><rect class=\"square dark d2\" fill=\"#d18b47\" height=\"45\" stroke=\"none\" width=\"45\" x=\"135\" y=\"270\"/><rect class=\"square light e2\" fill=\"#ffce9e\" height=\"45\" stroke=\"none\" width=\"45\" x=\"180\" y=\"270\"/><rect class=\"square dark f2\" fill=\"#d18b47\" height=\"45\" stroke=\"none\" width=\"45\" x=\"225\" y=\"270\"/><rect class=\"square light g2\" fill=\"#ffce9e\" height=\"45\" stroke=\"none\" width=\"45\" x=\"270\" y=\"270\"/><rect class=\"square dark h2\" fill=\"#d18b47\" height=\"45\" stroke=\"none\" width=\"45\" x=\"315\" y=\"270\"/><rect class=\"square dark a3\" fill=\"#d18b47\" height=\"45\" stroke=\"none\" width=\"45\" x=\"0\" y=\"225\"/><rect class=\"square light b3\" fill=\"#ffce9e\" height=\"45\" stroke=\"none\" width=\"45\" x=\"45\" y=\"225\"/><rect class=\"square dark c3\" fill=\"#d18b47\" height=\"45\" stroke=\"none\" width=\"45\" x=\"90\" y=\"225\"/><rect class=\"square light d3\" fill=\"#ffce9e\" height=\"45\" stroke=\"none\" width=\"45\" x=\"135\" y=\"225\"/><use transform=\"translate(135, 225)\" xlink:href=\"#white-bishop\"/><rect class=\"square dark e3\" fill=\"#d18b47\" height=\"45\" stroke=\"none\" width=\"45\" x=\"180\" y=\"225\"/><rect class=\"square light f3\" fill=\"#ffce9e\" height=\"45\" stroke=\"none\" width=\"45\" x=\"225\" y=\"225\"/><rect class=\"square dark g3\" fill=\"#d18b47\" height=\"45\" stroke=\"none\" width=\"45\" x=\"270\" y=\"225\"/><rect class=\"square light h3\" fill=\"#ffce9e\" height=\"45\" stroke=\"none\" width=\"45\" x=\"315\" y=\"225\"/><rect class=\"square light a4\" fill=\"#ffce9e\" height=\"45\" stroke=\"none\" width=\"45\" x=\"0\" y=\"180\"/><rect class=\"square dark b4\" fill=\"#d18b47\" height=\"45\" stroke=\"none\" width=\"45\" x=\"45\" y=\"180\"/><rect class=\"square light c4\" fill=\"#ffce9e\" height=\"45\" stroke=\"none\" width=\"45\" x=\"90\" y=\"180\"/><rect class=\"square dark d4\" fill=\"#d18b47\" height=\"45\" stroke=\"none\" width=\"45\" x=\"135\" y=\"180\"/><rect class=\"square light e4\" fill=\"#ffce9e\" height=\"45\" stroke=\"none\" width=\"45\" x=\"180\" y=\"180\"/><rect class=\"square dark f4\" fill=\"#d18b47\" height=\"45\" stroke=\"none\" width=\"45\" x=\"225\" y=\"180\"/><rect class=\"square light g4\" fill=\"#ffce9e\" height=\"45\" stroke=\"none\" width=\"45\" x=\"270\" y=\"180\"/><rect class=\"square dark h4\" fill=\"#d18b47\" height=\"45\" stroke=\"none\" width=\"45\" x=\"315\" y=\"180\"/><rect class=\"square dark a5\" fill=\"#d18b47\" height=\"45\" stroke=\"none\" width=\"45\" x=\"0\" y=\"135\"/><rect class=\"square light b5\" fill=\"#ffce9e\" height=\"45\" stroke=\"none\" width=\"45\" x=\"45\" y=\"135\"/><rect class=\"square dark c5\" fill=\"#d18b47\" height=\"45\" stroke=\"none\" width=\"45\" x=\"90\" y=\"135\"/><rect class=\"square light d5\" fill=\"#ffce9e\" height=\"45\" stroke=\"none\" width=\"45\" x=\"135\" y=\"135\"/><rect class=\"square dark e5\" fill=\"#d18b47\" height=\"45\" stroke=\"none\" width=\"45\" x=\"180\" y=\"135\"/><rect class=\"square light f5\" fill=\"#ffce9e\" height=\"45\" stroke=\"none\" width=\"45\" x=\"225\" y=\"135\"/><rect class=\"square dark g5\" fill=\"#d18b47\" height=\"45\" stroke=\"none\" width=\"45\" x=\"270\" y=\"135\"/><rect class=\"square light h5\" fill=\"#ffce9e\" height=\"45\" stroke=\"none\" width=\"45\" x=\"315\" y=\"135\"/><rect class=\"square light a6\" fill=\"#ffce9e\" height=\"45\" stroke=\"none\" width=\"45\" x=\"0\" y=\"90\"/><rect class=\"square dark b6\" fill=\"#d18b47\" height=\"45\" stroke=\"none\" width=\"45\" x=\"45\" y=\"90\"/><rect class=\"square light c6\" fill=\"#ffce9e\" height=\"45\" stroke=\"none\" width=\"45\" x=\"90\" y=\"90\"/><rect class=\"square dark d6\" fill=\"#d18b47\" height=\"45\" stroke=\"none\" width=\"45\" x=\"135\" y=\"90\"/><rect class=\"square light e6\" fill=\"#ffce9e\" height=\"45\" stroke=\"none\" width=\"45\" x=\"180\" y=\"90\"/><rect class=\"square dark f6\" fill=\"#d18b47\" height=\"45\" stroke=\"none\" width=\"45\" x=\"225\" y=\"90\"/><rect class=\"square light g6\" fill=\"#ffce9e\" height=\"45\" stroke=\"none\" width=\"45\" x=\"270\" y=\"90\"/><rect class=\"square dark h6\" fill=\"#d18b47\" height=\"45\" stroke=\"none\" width=\"45\" x=\"315\" y=\"90\"/><rect class=\"square dark a7\" fill=\"#d18b47\" height=\"45\" stroke=\"none\" width=\"45\" x=\"0\" y=\"45\"/><rect class=\"square light b7\" fill=\"#ffce9e\" height=\"45\" stroke=\"none\" width=\"45\" x=\"45\" y=\"45\"/><rect class=\"square dark c7\" fill=\"#d18b47\" height=\"45\" stroke=\"none\" width=\"45\" x=\"90\" y=\"45\"/><rect class=\"square light d7\" fill=\"#ffce9e\" height=\"45\" stroke=\"none\" width=\"45\" x=\"135\" y=\"45\"/><rect class=\"square dark e7\" fill=\"#d18b47\" height=\"45\" stroke=\"none\" width=\"45\" x=\"180\" y=\"45\"/><rect class=\"square light f7\" fill=\"#ffce9e\" height=\"45\" stroke=\"none\" width=\"45\" x=\"225\" y=\"45\"/><rect class=\"square dark g7\" fill=\"#d18b47\" height=\"45\" stroke=\"none\" width=\"45\" x=\"270\" y=\"45\"/><rect class=\"square light h7\" fill=\"#ffce9e\" height=\"45\" stroke=\"none\" width=\"45\" x=\"315\" y=\"45\"/><rect class=\"square light a8\" fill=\"#ffce9e\" height=\"45\" stroke=\"none\" width=\"45\" x=\"0\" y=\"0\"/><rect class=\"square dark b8\" fill=\"#d18b47\" height=\"45\" stroke=\"none\" width=\"45\" x=\"45\" y=\"0\"/><rect class=\"square light c8\" fill=\"#ffce9e\" height=\"45\" stroke=\"none\" width=\"45\" x=\"90\" y=\"0\"/><rect class=\"square dark d8\" fill=\"#d18b47\" height=\"45\" stroke=\"none\" width=\"45\" x=\"135\" y=\"0\"/><use transform=\"translate(135, 0)\" xlink:href=\"#white-queen\"/><rect class=\"square light e8\" fill=\"#ffce9e\" height=\"45\" stroke=\"none\" width=\"45\" x=\"180\" y=\"0\"/><rect class=\"square dark f8\" fill=\"#d18b47\" height=\"45\" stroke=\"none\" width=\"45\" x=\"225\" y=\"0\"/><use transform=\"translate(225, 0)\" xlink:href=\"#white-queen\"/><rect class=\"square light g8\" fill=\"#ffce9e\" height=\"45\" stroke=\"none\" width=\"45\" x=\"270\" y=\"0\"/><use transform=\"translate(270, 0)\" xlink:href=\"#white-queen\"/><rect class=\"square dark h8\" fill=\"#d18b47\" height=\"45\" stroke=\"none\" width=\"45\" x=\"315\" y=\"0\"/><use transform=\"translate(315, 0)\" xlink:href=\"#white-queen\"/><circle class=\"circle\" cx=\"112.5\" cy=\"337.5\" fill=\"none\" opacity=\"0.5\" r=\"20.25\" stroke=\"red\" stroke-width=\"4.5\"/><circle class=\"circle\" cx=\"157.5\" cy=\"337.5\" fill=\"none\" opacity=\"0.5\" r=\"20.25\" stroke=\"red\" stroke-width=\"4.5\"/><circle class=\"circle\" cx=\"202.5\" cy=\"337.5\" fill=\"none\" opacity=\"0.5\" r=\"20.25\" stroke=\"red\" stroke-width=\"4.5\"/><circle class=\"circle\" cx=\"157.5\" cy=\"292.5\" fill=\"none\" opacity=\"0.5\" r=\"20.25\" stroke=\"red\" stroke-width=\"4.5\"/><circle class=\"circle\" cx=\"202.5\" cy=\"247.5\" fill=\"none\" opacity=\"0.5\" r=\"20.25\" stroke=\"red\" stroke-width=\"4.5\"/><circle class=\"circle\" cx=\"22.5\" cy=\"202.5\" fill=\"none\" opacity=\"0.5\" r=\"20.25\" stroke=\"red\" stroke-width=\"4.5\"/><circle class=\"circle\" cx=\"112.5\" cy=\"112.5\" fill=\"none\" opacity=\"0.5\" r=\"20.25\" stroke=\"red\" stroke-width=\"4.5\"/><circle class=\"circle\" cx=\"22.5\" cy=\"67.5\" fill=\"none\" opacity=\"0.5\" r=\"20.25\" stroke=\"red\" stroke-width=\"4.5\"/><circle class=\"circle\" cx=\"67.5\" cy=\"67.5\" fill=\"none\" opacity=\"0.5\" r=\"20.25\" stroke=\"red\" stroke-width=\"4.5\"/></svg>"
      ],
      "text/plain": [
       "<IPython.core.display.SVG object>"
      ]
     },
     "metadata": {},
     "output_type": "display_data"
    },
    {
     "name": "stdout",
     "output_type": "stream",
     "text": [
      "58\n"
     ]
    },
    {
     "data": {
      "image/svg+xml": [
       "<svg version=\"1.1\" viewBox=\"0 0 360 360\" xmlns=\"http://www.w3.org/2000/svg\" xmlns:xlink=\"http://www.w3.org/1999/xlink\"><style>\n",
       ".square.light {\n",
       "fill: #cacaca;\n",
       "}\n",
       ".square.dark {\n",
       "fill: #898989;\n",
       "}\n",
       "#xx {\n",
       "fill: blue;\n",
       "stroke: red;\n",
       "}\n",
       ".square.light.lastmove {\n",
       "fill: #c3d889;\n",
       "}\n",
       ".square.dark.lastmove {\n",
       "fill: #92b167;\n",
       "}\n",
       ".check {\n",
       "fill: url(#check_gradient);\n",
       "}\n",
       ".arrow {\n",
       "stroke: #ff5858;\n",
       "fill: blue;\n",
       "}\n",
       ".mark {\n",
       "stroke: #959fff;\n",
       "fill: blue;\n",
       "}\n",
       "</style><defs><g class=\"white bishop\" fill=\"none\" fill-rule=\"evenodd\" id=\"white-bishop\" stroke=\"#000\" stroke-linecap=\"round\" stroke-linejoin=\"round\" stroke-width=\"1.5\"><g fill=\"#fff\" stroke-linecap=\"butt\"><path d=\"M9 36c3.39-.97 10.11.43 13.5-2 3.39 2.43 10.11 1.03 13.5 2 0 0 1.65.54 3 2-.68.97-1.65.99-3 .5-3.39-.97-10.11.46-13.5-1-3.39 1.46-10.11.03-13.5 1-1.354.49-2.323.47-3-.5 1.354-1.94 3-2 3-2zM15 32c2.5 2.5 12.5 2.5 15 0 .5-1.5 0-2 0-2 0-2.5-2.5-4-2.5-4 5.5-1.5 6-11.5-5-15.5-11 4-10.5 14-5 15.5 0 0-2.5 1.5-2.5 4 0 0-.5.5 0 2zM25 8a2.5 2.5 0 1 1-5 0 2.5 2.5 0 1 1 5 0z\"/></g><path d=\"M17.5 26h10M15 30h15m-7.5-14.5v5M20 18h5\" stroke-linejoin=\"miter\"/></g><g class=\"white queen\" fill=\"#fff\" fill-rule=\"evenodd\" id=\"white-queen\" stroke=\"#000\" stroke-linecap=\"round\" stroke-linejoin=\"round\" stroke-width=\"1.5\"><path d=\"M8 12a2 2 0 1 1-4 0 2 2 0 1 1 4 0zM24.5 7.5a2 2 0 1 1-4 0 2 2 0 1 1 4 0zM41 12a2 2 0 1 1-4 0 2 2 0 1 1 4 0zM16 8.5a2 2 0 1 1-4 0 2 2 0 1 1 4 0zM33 9a2 2 0 1 1-4 0 2 2 0 1 1 4 0z\"/><path d=\"M9 26c8.5-1.5 21-1.5 27 0l2-12-7 11V11l-5.5 13.5-3-15-3 15-5.5-14V25L7 14l2 12zM9 26c0 2 1.5 2 2.5 4 1 1.5 1 1 .5 3.5-1.5 1-1.5 2.5-1.5 2.5-1.5 1.5.5 2.5.5 2.5 6.5 1 16.5 1 23 0 0 0 1.5-1 0-2.5 0 0 .5-1.5-1-2.5-.5-2.5-.5-2 .5-3.5 1-2 2.5-2 2.5-4-8.5-1.5-18.5-1.5-27 0z\" stroke-linecap=\"butt\"/><path d=\"M11.5 30c3.5-1 18.5-1 22 0M12 33.5c6-1 15-1 21 0\" fill=\"none\"/></g></defs><rect class=\"square dark a1\" fill=\"#d18b47\" height=\"45\" stroke=\"none\" width=\"45\" x=\"0\" y=\"315\"/><rect class=\"square light b1\" fill=\"#ffce9e\" height=\"45\" stroke=\"none\" width=\"45\" x=\"45\" y=\"315\"/><rect class=\"square dark c1\" fill=\"#d18b47\" height=\"45\" stroke=\"none\" width=\"45\" x=\"90\" y=\"315\"/><rect class=\"square light d1\" fill=\"#ffce9e\" height=\"45\" stroke=\"none\" width=\"45\" x=\"135\" y=\"315\"/><rect class=\"square dark e1\" fill=\"#d18b47\" height=\"45\" stroke=\"none\" width=\"45\" x=\"180\" y=\"315\"/><rect class=\"square light f1\" fill=\"#ffce9e\" height=\"45\" stroke=\"none\" width=\"45\" x=\"225\" y=\"315\"/><rect class=\"square dark g1\" fill=\"#d18b47\" height=\"45\" stroke=\"none\" width=\"45\" x=\"270\" y=\"315\"/><rect class=\"square light h1\" fill=\"#ffce9e\" height=\"45\" stroke=\"none\" width=\"45\" x=\"315\" y=\"315\"/><rect class=\"square light a2\" fill=\"#ffce9e\" height=\"45\" stroke=\"none\" width=\"45\" x=\"0\" y=\"270\"/><rect class=\"square dark b2\" fill=\"#d18b47\" height=\"45\" stroke=\"none\" width=\"45\" x=\"45\" y=\"270\"/><rect class=\"square light c2\" fill=\"#ffce9e\" height=\"45\" stroke=\"none\" width=\"45\" x=\"90\" y=\"270\"/><rect class=\"square dark d2\" fill=\"#d18b47\" height=\"45\" stroke=\"none\" width=\"45\" x=\"135\" y=\"270\"/><rect class=\"square light e2\" fill=\"#ffce9e\" height=\"45\" stroke=\"none\" width=\"45\" x=\"180\" y=\"270\"/><rect class=\"square dark f2\" fill=\"#d18b47\" height=\"45\" stroke=\"none\" width=\"45\" x=\"225\" y=\"270\"/><rect class=\"square light g2\" fill=\"#ffce9e\" height=\"45\" stroke=\"none\" width=\"45\" x=\"270\" y=\"270\"/><rect class=\"square dark h2\" fill=\"#d18b47\" height=\"45\" stroke=\"none\" width=\"45\" x=\"315\" y=\"270\"/><rect class=\"square dark a3\" fill=\"#d18b47\" height=\"45\" stroke=\"none\" width=\"45\" x=\"0\" y=\"225\"/><rect class=\"square light b3\" fill=\"#ffce9e\" height=\"45\" stroke=\"none\" width=\"45\" x=\"45\" y=\"225\"/><rect class=\"square dark c3\" fill=\"#d18b47\" height=\"45\" stroke=\"none\" width=\"45\" x=\"90\" y=\"225\"/><rect class=\"square light d3\" fill=\"#ffce9e\" height=\"45\" stroke=\"none\" width=\"45\" x=\"135\" y=\"225\"/><rect class=\"square dark e3\" fill=\"#d18b47\" height=\"45\" stroke=\"none\" width=\"45\" x=\"180\" y=\"225\"/><rect class=\"square light f3\" fill=\"#ffce9e\" height=\"45\" stroke=\"none\" width=\"45\" x=\"225\" y=\"225\"/><rect class=\"square dark g3\" fill=\"#d18b47\" height=\"45\" stroke=\"none\" width=\"45\" x=\"270\" y=\"225\"/><rect class=\"square light h3\" fill=\"#ffce9e\" height=\"45\" stroke=\"none\" width=\"45\" x=\"315\" y=\"225\"/><rect class=\"square light a4\" fill=\"#ffce9e\" height=\"45\" stroke=\"none\" width=\"45\" x=\"0\" y=\"180\"/><rect class=\"square dark b4\" fill=\"#d18b47\" height=\"45\" stroke=\"none\" width=\"45\" x=\"45\" y=\"180\"/><rect class=\"square light c4\" fill=\"#ffce9e\" height=\"45\" stroke=\"none\" width=\"45\" x=\"90\" y=\"180\"/><rect class=\"square dark d4\" fill=\"#d18b47\" height=\"45\" stroke=\"none\" width=\"45\" x=\"135\" y=\"180\"/><rect class=\"square light e4\" fill=\"#ffce9e\" height=\"45\" stroke=\"none\" width=\"45\" x=\"180\" y=\"180\"/><rect class=\"square dark f4\" fill=\"#d18b47\" height=\"45\" stroke=\"none\" width=\"45\" x=\"225\" y=\"180\"/><rect class=\"square light g4\" fill=\"#ffce9e\" height=\"45\" stroke=\"none\" width=\"45\" x=\"270\" y=\"180\"/><rect class=\"square dark h4\" fill=\"#d18b47\" height=\"45\" stroke=\"none\" width=\"45\" x=\"315\" y=\"180\"/><rect class=\"square dark a5\" fill=\"#d18b47\" height=\"45\" stroke=\"none\" width=\"45\" x=\"0\" y=\"135\"/><rect class=\"square light b5\" fill=\"#ffce9e\" height=\"45\" stroke=\"none\" width=\"45\" x=\"45\" y=\"135\"/><rect class=\"square dark c5\" fill=\"#d18b47\" height=\"45\" stroke=\"none\" width=\"45\" x=\"90\" y=\"135\"/><rect class=\"square light d5\" fill=\"#ffce9e\" height=\"45\" stroke=\"none\" width=\"45\" x=\"135\" y=\"135\"/><rect class=\"square dark e5\" fill=\"#d18b47\" height=\"45\" stroke=\"none\" width=\"45\" x=\"180\" y=\"135\"/><rect class=\"square light f5\" fill=\"#ffce9e\" height=\"45\" stroke=\"none\" width=\"45\" x=\"225\" y=\"135\"/><rect class=\"square dark g5\" fill=\"#d18b47\" height=\"45\" stroke=\"none\" width=\"45\" x=\"270\" y=\"135\"/><rect class=\"square light h5\" fill=\"#ffce9e\" height=\"45\" stroke=\"none\" width=\"45\" x=\"315\" y=\"135\"/><rect class=\"square light a6\" fill=\"#ffce9e\" height=\"45\" stroke=\"none\" width=\"45\" x=\"0\" y=\"90\"/><rect class=\"square dark b6\" fill=\"#d18b47\" height=\"45\" stroke=\"none\" width=\"45\" x=\"45\" y=\"90\"/><rect class=\"square light c6\" fill=\"#ffce9e\" height=\"45\" stroke=\"none\" width=\"45\" x=\"90\" y=\"90\"/><rect class=\"square dark d6\" fill=\"#d18b47\" height=\"45\" stroke=\"none\" width=\"45\" x=\"135\" y=\"90\"/><rect class=\"square light e6\" fill=\"#ffce9e\" height=\"45\" stroke=\"none\" width=\"45\" x=\"180\" y=\"90\"/><rect class=\"square dark f6\" fill=\"#d18b47\" height=\"45\" stroke=\"none\" width=\"45\" x=\"225\" y=\"90\"/><rect class=\"square light g6\" fill=\"#ffce9e\" height=\"45\" stroke=\"none\" width=\"45\" x=\"270\" y=\"90\"/><rect class=\"square dark h6\" fill=\"#d18b47\" height=\"45\" stroke=\"none\" width=\"45\" x=\"315\" y=\"90\"/><rect class=\"square dark a7\" fill=\"#d18b47\" height=\"45\" stroke=\"none\" width=\"45\" x=\"0\" y=\"45\"/><rect class=\"square light b7\" fill=\"#ffce9e\" height=\"45\" stroke=\"none\" width=\"45\" x=\"45\" y=\"45\"/><rect class=\"square dark c7\" fill=\"#d18b47\" height=\"45\" stroke=\"none\" width=\"45\" x=\"90\" y=\"45\"/><rect class=\"square light d7\" fill=\"#ffce9e\" height=\"45\" stroke=\"none\" width=\"45\" x=\"135\" y=\"45\"/><rect class=\"square dark e7\" fill=\"#d18b47\" height=\"45\" stroke=\"none\" width=\"45\" x=\"180\" y=\"45\"/><rect class=\"square light f7\" fill=\"#ffce9e\" height=\"45\" stroke=\"none\" width=\"45\" x=\"225\" y=\"45\"/><rect class=\"square dark g7\" fill=\"#d18b47\" height=\"45\" stroke=\"none\" width=\"45\" x=\"270\" y=\"45\"/><rect class=\"square light h7\" fill=\"#ffce9e\" height=\"45\" stroke=\"none\" width=\"45\" x=\"315\" y=\"45\"/><use transform=\"translate(315, 45)\" xlink:href=\"#white-queen\"/><rect class=\"square light a8\" fill=\"#ffce9e\" height=\"45\" stroke=\"none\" width=\"45\" x=\"0\" y=\"0\"/><rect class=\"square dark b8\" fill=\"#d18b47\" height=\"45\" stroke=\"none\" width=\"45\" x=\"45\" y=\"0\"/><rect class=\"square light c8\" fill=\"#ffce9e\" height=\"45\" stroke=\"none\" width=\"45\" x=\"90\" y=\"0\"/><rect class=\"square dark d8\" fill=\"#d18b47\" height=\"45\" stroke=\"none\" width=\"45\" x=\"135\" y=\"0\"/><rect class=\"square light e8\" fill=\"#ffce9e\" height=\"45\" stroke=\"none\" width=\"45\" x=\"180\" y=\"0\"/><use transform=\"translate(180, 0)\" xlink:href=\"#white-queen\"/><rect class=\"square dark f8\" fill=\"#d18b47\" height=\"45\" stroke=\"none\" width=\"45\" x=\"225\" y=\"0\"/><use transform=\"translate(225, 0)\" xlink:href=\"#white-queen\"/><rect class=\"square light g8\" fill=\"#ffce9e\" height=\"45\" stroke=\"none\" width=\"45\" x=\"270\" y=\"0\"/><use transform=\"translate(270, 0)\" xlink:href=\"#white-queen\"/><rect class=\"square dark h8\" fill=\"#d18b47\" height=\"45\" stroke=\"none\" width=\"45\" x=\"315\" y=\"0\"/><use transform=\"translate(315, 0)\" xlink:href=\"#white-bishop\"/><circle class=\"circle\" cx=\"112.5\" cy=\"337.5\" fill=\"none\" opacity=\"0.5\" r=\"20.25\" stroke=\"red\" stroke-width=\"4.5\"/><circle class=\"circle\" cx=\"157.5\" cy=\"337.5\" fill=\"none\" opacity=\"0.5\" r=\"20.25\" stroke=\"red\" stroke-width=\"4.5\"/><circle class=\"circle\" cx=\"157.5\" cy=\"292.5\" fill=\"none\" opacity=\"0.5\" r=\"20.25\" stroke=\"red\" stroke-width=\"4.5\"/><circle class=\"circle\" cx=\"22.5\" cy=\"157.5\" fill=\"none\" opacity=\"0.5\" r=\"20.25\" stroke=\"red\" stroke-width=\"4.5\"/><circle class=\"circle\" cx=\"22.5\" cy=\"112.5\" fill=\"none\" opacity=\"0.5\" r=\"20.25\" stroke=\"red\" stroke-width=\"4.5\"/><circle class=\"circle\" cx=\"67.5\" cy=\"112.5\" fill=\"none\" opacity=\"0.5\" r=\"20.25\" stroke=\"red\" stroke-width=\"4.5\"/></svg>"
      ],
      "text/plain": [
       "<IPython.core.display.SVG object>"
      ]
     },
     "metadata": {},
     "output_type": "display_data"
    },
    {
     "name": "stdout",
     "output_type": "stream",
     "text": [
      "59\n"
     ]
    },
    {
     "data": {
      "image/svg+xml": [
       "<svg version=\"1.1\" viewBox=\"0 0 360 360\" xmlns=\"http://www.w3.org/2000/svg\" xmlns:xlink=\"http://www.w3.org/1999/xlink\"><style>\n",
       ".square.light {\n",
       "fill: #cacaca;\n",
       "}\n",
       ".square.dark {\n",
       "fill: #898989;\n",
       "}\n",
       "#xx {\n",
       "fill: blue;\n",
       "stroke: red;\n",
       "}\n",
       ".square.light.lastmove {\n",
       "fill: #c3d889;\n",
       "}\n",
       ".square.dark.lastmove {\n",
       "fill: #92b167;\n",
       "}\n",
       ".check {\n",
       "fill: url(#check_gradient);\n",
       "}\n",
       ".arrow {\n",
       "stroke: #ff5858;\n",
       "fill: blue;\n",
       "}\n",
       ".mark {\n",
       "stroke: #959fff;\n",
       "fill: blue;\n",
       "}\n",
       "</style><defs><g class=\"white bishop\" fill=\"none\" fill-rule=\"evenodd\" id=\"white-bishop\" stroke=\"#000\" stroke-linecap=\"round\" stroke-linejoin=\"round\" stroke-width=\"1.5\"><g fill=\"#fff\" stroke-linecap=\"butt\"><path d=\"M9 36c3.39-.97 10.11.43 13.5-2 3.39 2.43 10.11 1.03 13.5 2 0 0 1.65.54 3 2-.68.97-1.65.99-3 .5-3.39-.97-10.11.46-13.5-1-3.39 1.46-10.11.03-13.5 1-1.354.49-2.323.47-3-.5 1.354-1.94 3-2 3-2zM15 32c2.5 2.5 12.5 2.5 15 0 .5-1.5 0-2 0-2 0-2.5-2.5-4-2.5-4 5.5-1.5 6-11.5-5-15.5-11 4-10.5 14-5 15.5 0 0-2.5 1.5-2.5 4 0 0-.5.5 0 2zM25 8a2.5 2.5 0 1 1-5 0 2.5 2.5 0 1 1 5 0z\"/></g><path d=\"M17.5 26h10M15 30h15m-7.5-14.5v5M20 18h5\" stroke-linejoin=\"miter\"/></g><g class=\"white queen\" fill=\"#fff\" fill-rule=\"evenodd\" id=\"white-queen\" stroke=\"#000\" stroke-linecap=\"round\" stroke-linejoin=\"round\" stroke-width=\"1.5\"><path d=\"M8 12a2 2 0 1 1-4 0 2 2 0 1 1 4 0zM24.5 7.5a2 2 0 1 1-4 0 2 2 0 1 1 4 0zM41 12a2 2 0 1 1-4 0 2 2 0 1 1 4 0zM16 8.5a2 2 0 1 1-4 0 2 2 0 1 1 4 0zM33 9a2 2 0 1 1-4 0 2 2 0 1 1 4 0z\"/><path d=\"M9 26c8.5-1.5 21-1.5 27 0l2-12-7 11V11l-5.5 13.5-3-15-3 15-5.5-14V25L7 14l2 12zM9 26c0 2 1.5 2 2.5 4 1 1.5 1 1 .5 3.5-1.5 1-1.5 2.5-1.5 2.5-1.5 1.5.5 2.5.5 2.5 6.5 1 16.5 1 23 0 0 0 1.5-1 0-2.5 0 0 .5-1.5-1-2.5-.5-2.5-.5-2 .5-3.5 1-2 2.5-2 2.5-4-8.5-1.5-18.5-1.5-27 0z\" stroke-linecap=\"butt\"/><path d=\"M11.5 30c3.5-1 18.5-1 22 0M12 33.5c6-1 15-1 21 0\" fill=\"none\"/></g></defs><rect class=\"square dark a1\" fill=\"#d18b47\" height=\"45\" stroke=\"none\" width=\"45\" x=\"0\" y=\"315\"/><rect class=\"square light b1\" fill=\"#ffce9e\" height=\"45\" stroke=\"none\" width=\"45\" x=\"45\" y=\"315\"/><rect class=\"square dark c1\" fill=\"#d18b47\" height=\"45\" stroke=\"none\" width=\"45\" x=\"90\" y=\"315\"/><rect class=\"square light d1\" fill=\"#ffce9e\" height=\"45\" stroke=\"none\" width=\"45\" x=\"135\" y=\"315\"/><rect class=\"square dark e1\" fill=\"#d18b47\" height=\"45\" stroke=\"none\" width=\"45\" x=\"180\" y=\"315\"/><rect class=\"square light f1\" fill=\"#ffce9e\" height=\"45\" stroke=\"none\" width=\"45\" x=\"225\" y=\"315\"/><rect class=\"square dark g1\" fill=\"#d18b47\" height=\"45\" stroke=\"none\" width=\"45\" x=\"270\" y=\"315\"/><rect class=\"square light h1\" fill=\"#ffce9e\" height=\"45\" stroke=\"none\" width=\"45\" x=\"315\" y=\"315\"/><rect class=\"square light a2\" fill=\"#ffce9e\" height=\"45\" stroke=\"none\" width=\"45\" x=\"0\" y=\"270\"/><rect class=\"square dark b2\" fill=\"#d18b47\" height=\"45\" stroke=\"none\" width=\"45\" x=\"45\" y=\"270\"/><rect class=\"square light c2\" fill=\"#ffce9e\" height=\"45\" stroke=\"none\" width=\"45\" x=\"90\" y=\"270\"/><rect class=\"square dark d2\" fill=\"#d18b47\" height=\"45\" stroke=\"none\" width=\"45\" x=\"135\" y=\"270\"/><rect class=\"square light e2\" fill=\"#ffce9e\" height=\"45\" stroke=\"none\" width=\"45\" x=\"180\" y=\"270\"/><rect class=\"square dark f2\" fill=\"#d18b47\" height=\"45\" stroke=\"none\" width=\"45\" x=\"225\" y=\"270\"/><rect class=\"square light g2\" fill=\"#ffce9e\" height=\"45\" stroke=\"none\" width=\"45\" x=\"270\" y=\"270\"/><rect class=\"square dark h2\" fill=\"#d18b47\" height=\"45\" stroke=\"none\" width=\"45\" x=\"315\" y=\"270\"/><rect class=\"square dark a3\" fill=\"#d18b47\" height=\"45\" stroke=\"none\" width=\"45\" x=\"0\" y=\"225\"/><rect class=\"square light b3\" fill=\"#ffce9e\" height=\"45\" stroke=\"none\" width=\"45\" x=\"45\" y=\"225\"/><rect class=\"square dark c3\" fill=\"#d18b47\" height=\"45\" stroke=\"none\" width=\"45\" x=\"90\" y=\"225\"/><rect class=\"square light d3\" fill=\"#ffce9e\" height=\"45\" stroke=\"none\" width=\"45\" x=\"135\" y=\"225\"/><rect class=\"square dark e3\" fill=\"#d18b47\" height=\"45\" stroke=\"none\" width=\"45\" x=\"180\" y=\"225\"/><rect class=\"square light f3\" fill=\"#ffce9e\" height=\"45\" stroke=\"none\" width=\"45\" x=\"225\" y=\"225\"/><rect class=\"square dark g3\" fill=\"#d18b47\" height=\"45\" stroke=\"none\" width=\"45\" x=\"270\" y=\"225\"/><rect class=\"square light h3\" fill=\"#ffce9e\" height=\"45\" stroke=\"none\" width=\"45\" x=\"315\" y=\"225\"/><rect class=\"square light a4\" fill=\"#ffce9e\" height=\"45\" stroke=\"none\" width=\"45\" x=\"0\" y=\"180\"/><rect class=\"square dark b4\" fill=\"#d18b47\" height=\"45\" stroke=\"none\" width=\"45\" x=\"45\" y=\"180\"/><rect class=\"square light c4\" fill=\"#ffce9e\" height=\"45\" stroke=\"none\" width=\"45\" x=\"90\" y=\"180\"/><rect class=\"square dark d4\" fill=\"#d18b47\" height=\"45\" stroke=\"none\" width=\"45\" x=\"135\" y=\"180\"/><use transform=\"translate(135, 180)\" xlink:href=\"#white-bishop\"/><rect class=\"square light e4\" fill=\"#ffce9e\" height=\"45\" stroke=\"none\" width=\"45\" x=\"180\" y=\"180\"/><rect class=\"square dark f4\" fill=\"#d18b47\" height=\"45\" stroke=\"none\" width=\"45\" x=\"225\" y=\"180\"/><rect class=\"square light g4\" fill=\"#ffce9e\" height=\"45\" stroke=\"none\" width=\"45\" x=\"270\" y=\"180\"/><rect class=\"square dark h4\" fill=\"#d18b47\" height=\"45\" stroke=\"none\" width=\"45\" x=\"315\" y=\"180\"/><rect class=\"square dark a5\" fill=\"#d18b47\" height=\"45\" stroke=\"none\" width=\"45\" x=\"0\" y=\"135\"/><rect class=\"square light b5\" fill=\"#ffce9e\" height=\"45\" stroke=\"none\" width=\"45\" x=\"45\" y=\"135\"/><rect class=\"square dark c5\" fill=\"#d18b47\" height=\"45\" stroke=\"none\" width=\"45\" x=\"90\" y=\"135\"/><rect class=\"square light d5\" fill=\"#ffce9e\" height=\"45\" stroke=\"none\" width=\"45\" x=\"135\" y=\"135\"/><rect class=\"square dark e5\" fill=\"#d18b47\" height=\"45\" stroke=\"none\" width=\"45\" x=\"180\" y=\"135\"/><rect class=\"square light f5\" fill=\"#ffce9e\" height=\"45\" stroke=\"none\" width=\"45\" x=\"225\" y=\"135\"/><rect class=\"square dark g5\" fill=\"#d18b47\" height=\"45\" stroke=\"none\" width=\"45\" x=\"270\" y=\"135\"/><rect class=\"square light h5\" fill=\"#ffce9e\" height=\"45\" stroke=\"none\" width=\"45\" x=\"315\" y=\"135\"/><rect class=\"square light a6\" fill=\"#ffce9e\" height=\"45\" stroke=\"none\" width=\"45\" x=\"0\" y=\"90\"/><rect class=\"square dark b6\" fill=\"#d18b47\" height=\"45\" stroke=\"none\" width=\"45\" x=\"45\" y=\"90\"/><rect class=\"square light c6\" fill=\"#ffce9e\" height=\"45\" stroke=\"none\" width=\"45\" x=\"90\" y=\"90\"/><rect class=\"square dark d6\" fill=\"#d18b47\" height=\"45\" stroke=\"none\" width=\"45\" x=\"135\" y=\"90\"/><rect class=\"square light e6\" fill=\"#ffce9e\" height=\"45\" stroke=\"none\" width=\"45\" x=\"180\" y=\"90\"/><rect class=\"square dark f6\" fill=\"#d18b47\" height=\"45\" stroke=\"none\" width=\"45\" x=\"225\" y=\"90\"/><rect class=\"square light g6\" fill=\"#ffce9e\" height=\"45\" stroke=\"none\" width=\"45\" x=\"270\" y=\"90\"/><rect class=\"square dark h6\" fill=\"#d18b47\" height=\"45\" stroke=\"none\" width=\"45\" x=\"315\" y=\"90\"/><rect class=\"square dark a7\" fill=\"#d18b47\" height=\"45\" stroke=\"none\" width=\"45\" x=\"0\" y=\"45\"/><rect class=\"square light b7\" fill=\"#ffce9e\" height=\"45\" stroke=\"none\" width=\"45\" x=\"45\" y=\"45\"/><rect class=\"square dark c7\" fill=\"#d18b47\" height=\"45\" stroke=\"none\" width=\"45\" x=\"90\" y=\"45\"/><rect class=\"square light d7\" fill=\"#ffce9e\" height=\"45\" stroke=\"none\" width=\"45\" x=\"135\" y=\"45\"/><rect class=\"square dark e7\" fill=\"#d18b47\" height=\"45\" stroke=\"none\" width=\"45\" x=\"180\" y=\"45\"/><rect class=\"square light f7\" fill=\"#ffce9e\" height=\"45\" stroke=\"none\" width=\"45\" x=\"225\" y=\"45\"/><rect class=\"square dark g7\" fill=\"#d18b47\" height=\"45\" stroke=\"none\" width=\"45\" x=\"270\" y=\"45\"/><rect class=\"square light h7\" fill=\"#ffce9e\" height=\"45\" stroke=\"none\" width=\"45\" x=\"315\" y=\"45\"/><use transform=\"translate(315, 45)\" xlink:href=\"#white-queen\"/><rect class=\"square light a8\" fill=\"#ffce9e\" height=\"45\" stroke=\"none\" width=\"45\" x=\"0\" y=\"0\"/><rect class=\"square dark b8\" fill=\"#d18b47\" height=\"45\" stroke=\"none\" width=\"45\" x=\"45\" y=\"0\"/><rect class=\"square light c8\" fill=\"#ffce9e\" height=\"45\" stroke=\"none\" width=\"45\" x=\"90\" y=\"0\"/><rect class=\"square dark d8\" fill=\"#d18b47\" height=\"45\" stroke=\"none\" width=\"45\" x=\"135\" y=\"0\"/><rect class=\"square light e8\" fill=\"#ffce9e\" height=\"45\" stroke=\"none\" width=\"45\" x=\"180\" y=\"0\"/><use transform=\"translate(180, 0)\" xlink:href=\"#white-queen\"/><rect class=\"square dark f8\" fill=\"#d18b47\" height=\"45\" stroke=\"none\" width=\"45\" x=\"225\" y=\"0\"/><use transform=\"translate(225, 0)\" xlink:href=\"#white-queen\"/><rect class=\"square light g8\" fill=\"#ffce9e\" height=\"45\" stroke=\"none\" width=\"45\" x=\"270\" y=\"0\"/><use transform=\"translate(270, 0)\" xlink:href=\"#white-queen\"/><rect class=\"square dark h8\" fill=\"#d18b47\" height=\"45\" stroke=\"none\" width=\"45\" x=\"315\" y=\"0\"/><circle class=\"circle\" cx=\"112.5\" cy=\"337.5\" fill=\"none\" opacity=\"0.5\" r=\"20.25\" stroke=\"red\" stroke-width=\"4.5\"/><circle class=\"circle\" cx=\"157.5\" cy=\"337.5\" fill=\"none\" opacity=\"0.5\" r=\"20.25\" stroke=\"red\" stroke-width=\"4.5\"/><circle class=\"circle\" cx=\"157.5\" cy=\"292.5\" fill=\"none\" opacity=\"0.5\" r=\"20.25\" stroke=\"red\" stroke-width=\"4.5\"/><circle class=\"circle\" cx=\"22.5\" cy=\"157.5\" fill=\"none\" opacity=\"0.5\" r=\"20.25\" stroke=\"red\" stroke-width=\"4.5\"/><circle class=\"circle\" cx=\"22.5\" cy=\"112.5\" fill=\"none\" opacity=\"0.5\" r=\"20.25\" stroke=\"red\" stroke-width=\"4.5\"/></svg>"
      ],
      "text/plain": [
       "<IPython.core.display.SVG object>"
      ]
     },
     "metadata": {},
     "output_type": "display_data"
    },
    {
     "name": "stdout",
     "output_type": "stream",
     "text": [
      "60\n"
     ]
    },
    {
     "data": {
      "image/svg+xml": [
       "<svg version=\"1.1\" viewBox=\"0 0 360 360\" xmlns=\"http://www.w3.org/2000/svg\" xmlns:xlink=\"http://www.w3.org/1999/xlink\"><style>\n",
       ".square.light {\n",
       "fill: #cacaca;\n",
       "}\n",
       ".square.dark {\n",
       "fill: #898989;\n",
       "}\n",
       "#xx {\n",
       "fill: blue;\n",
       "stroke: red;\n",
       "}\n",
       ".square.light.lastmove {\n",
       "fill: #c3d889;\n",
       "}\n",
       ".square.dark.lastmove {\n",
       "fill: #92b167;\n",
       "}\n",
       ".check {\n",
       "fill: url(#check_gradient);\n",
       "}\n",
       ".arrow {\n",
       "stroke: #ff5858;\n",
       "fill: blue;\n",
       "}\n",
       ".mark {\n",
       "stroke: #959fff;\n",
       "fill: blue;\n",
       "}\n",
       "</style><defs><g class=\"white bishop\" fill=\"none\" fill-rule=\"evenodd\" id=\"white-bishop\" stroke=\"#000\" stroke-linecap=\"round\" stroke-linejoin=\"round\" stroke-width=\"1.5\"><g fill=\"#fff\" stroke-linecap=\"butt\"><path d=\"M9 36c3.39-.97 10.11.43 13.5-2 3.39 2.43 10.11 1.03 13.5 2 0 0 1.65.54 3 2-.68.97-1.65.99-3 .5-3.39-.97-10.11.46-13.5-1-3.39 1.46-10.11.03-13.5 1-1.354.49-2.323.47-3-.5 1.354-1.94 3-2 3-2zM15 32c2.5 2.5 12.5 2.5 15 0 .5-1.5 0-2 0-2 0-2.5-2.5-4-2.5-4 5.5-1.5 6-11.5-5-15.5-11 4-10.5 14-5 15.5 0 0-2.5 1.5-2.5 4 0 0-.5.5 0 2zM25 8a2.5 2.5 0 1 1-5 0 2.5 2.5 0 1 1 5 0z\"/></g><path d=\"M17.5 26h10M15 30h15m-7.5-14.5v5M20 18h5\" stroke-linejoin=\"miter\"/></g><g class=\"white queen\" fill=\"#fff\" fill-rule=\"evenodd\" id=\"white-queen\" stroke=\"#000\" stroke-linecap=\"round\" stroke-linejoin=\"round\" stroke-width=\"1.5\"><path d=\"M8 12a2 2 0 1 1-4 0 2 2 0 1 1 4 0zM24.5 7.5a2 2 0 1 1-4 0 2 2 0 1 1 4 0zM41 12a2 2 0 1 1-4 0 2 2 0 1 1 4 0zM16 8.5a2 2 0 1 1-4 0 2 2 0 1 1 4 0zM33 9a2 2 0 1 1-4 0 2 2 0 1 1 4 0z\"/><path d=\"M9 26c8.5-1.5 21-1.5 27 0l2-12-7 11V11l-5.5 13.5-3-15-3 15-5.5-14V25L7 14l2 12zM9 26c0 2 1.5 2 2.5 4 1 1.5 1 1 .5 3.5-1.5 1-1.5 2.5-1.5 2.5-1.5 1.5.5 2.5.5 2.5 6.5 1 16.5 1 23 0 0 0 1.5-1 0-2.5 0 0 .5-1.5-1-2.5-.5-2.5-.5-2 .5-3.5 1-2 2.5-2 2.5-4-8.5-1.5-18.5-1.5-27 0z\" stroke-linecap=\"butt\"/><path d=\"M11.5 30c3.5-1 18.5-1 22 0M12 33.5c6-1 15-1 21 0\" fill=\"none\"/></g></defs><rect class=\"square dark a1\" fill=\"#d18b47\" height=\"45\" stroke=\"none\" width=\"45\" x=\"0\" y=\"315\"/><rect class=\"square light b1\" fill=\"#ffce9e\" height=\"45\" stroke=\"none\" width=\"45\" x=\"45\" y=\"315\"/><rect class=\"square dark c1\" fill=\"#d18b47\" height=\"45\" stroke=\"none\" width=\"45\" x=\"90\" y=\"315\"/><rect class=\"square light d1\" fill=\"#ffce9e\" height=\"45\" stroke=\"none\" width=\"45\" x=\"135\" y=\"315\"/><rect class=\"square dark e1\" fill=\"#d18b47\" height=\"45\" stroke=\"none\" width=\"45\" x=\"180\" y=\"315\"/><rect class=\"square light f1\" fill=\"#ffce9e\" height=\"45\" stroke=\"none\" width=\"45\" x=\"225\" y=\"315\"/><rect class=\"square dark g1\" fill=\"#d18b47\" height=\"45\" stroke=\"none\" width=\"45\" x=\"270\" y=\"315\"/><rect class=\"square light h1\" fill=\"#ffce9e\" height=\"45\" stroke=\"none\" width=\"45\" x=\"315\" y=\"315\"/><rect class=\"square light a2\" fill=\"#ffce9e\" height=\"45\" stroke=\"none\" width=\"45\" x=\"0\" y=\"270\"/><rect class=\"square dark b2\" fill=\"#d18b47\" height=\"45\" stroke=\"none\" width=\"45\" x=\"45\" y=\"270\"/><rect class=\"square light c2\" fill=\"#ffce9e\" height=\"45\" stroke=\"none\" width=\"45\" x=\"90\" y=\"270\"/><rect class=\"square dark d2\" fill=\"#d18b47\" height=\"45\" stroke=\"none\" width=\"45\" x=\"135\" y=\"270\"/><rect class=\"square light e2\" fill=\"#ffce9e\" height=\"45\" stroke=\"none\" width=\"45\" x=\"180\" y=\"270\"/><rect class=\"square dark f2\" fill=\"#d18b47\" height=\"45\" stroke=\"none\" width=\"45\" x=\"225\" y=\"270\"/><rect class=\"square light g2\" fill=\"#ffce9e\" height=\"45\" stroke=\"none\" width=\"45\" x=\"270\" y=\"270\"/><rect class=\"square dark h2\" fill=\"#d18b47\" height=\"45\" stroke=\"none\" width=\"45\" x=\"315\" y=\"270\"/><rect class=\"square dark a3\" fill=\"#d18b47\" height=\"45\" stroke=\"none\" width=\"45\" x=\"0\" y=\"225\"/><rect class=\"square light b3\" fill=\"#ffce9e\" height=\"45\" stroke=\"none\" width=\"45\" x=\"45\" y=\"225\"/><rect class=\"square dark c3\" fill=\"#d18b47\" height=\"45\" stroke=\"none\" width=\"45\" x=\"90\" y=\"225\"/><use transform=\"translate(90, 225)\" xlink:href=\"#white-bishop\"/><rect class=\"square light d3\" fill=\"#ffce9e\" height=\"45\" stroke=\"none\" width=\"45\" x=\"135\" y=\"225\"/><rect class=\"square dark e3\" fill=\"#d18b47\" height=\"45\" stroke=\"none\" width=\"45\" x=\"180\" y=\"225\"/><rect class=\"square light f3\" fill=\"#ffce9e\" height=\"45\" stroke=\"none\" width=\"45\" x=\"225\" y=\"225\"/><rect class=\"square dark g3\" fill=\"#d18b47\" height=\"45\" stroke=\"none\" width=\"45\" x=\"270\" y=\"225\"/><rect class=\"square light h3\" fill=\"#ffce9e\" height=\"45\" stroke=\"none\" width=\"45\" x=\"315\" y=\"225\"/><rect class=\"square light a4\" fill=\"#ffce9e\" height=\"45\" stroke=\"none\" width=\"45\" x=\"0\" y=\"180\"/><rect class=\"square dark b4\" fill=\"#d18b47\" height=\"45\" stroke=\"none\" width=\"45\" x=\"45\" y=\"180\"/><rect class=\"square light c4\" fill=\"#ffce9e\" height=\"45\" stroke=\"none\" width=\"45\" x=\"90\" y=\"180\"/><rect class=\"square dark d4\" fill=\"#d18b47\" height=\"45\" stroke=\"none\" width=\"45\" x=\"135\" y=\"180\"/><rect class=\"square light e4\" fill=\"#ffce9e\" height=\"45\" stroke=\"none\" width=\"45\" x=\"180\" y=\"180\"/><rect class=\"square dark f4\" fill=\"#d18b47\" height=\"45\" stroke=\"none\" width=\"45\" x=\"225\" y=\"180\"/><rect class=\"square light g4\" fill=\"#ffce9e\" height=\"45\" stroke=\"none\" width=\"45\" x=\"270\" y=\"180\"/><rect class=\"square dark h4\" fill=\"#d18b47\" height=\"45\" stroke=\"none\" width=\"45\" x=\"315\" y=\"180\"/><rect class=\"square dark a5\" fill=\"#d18b47\" height=\"45\" stroke=\"none\" width=\"45\" x=\"0\" y=\"135\"/><rect class=\"square light b5\" fill=\"#ffce9e\" height=\"45\" stroke=\"none\" width=\"45\" x=\"45\" y=\"135\"/><rect class=\"square dark c5\" fill=\"#d18b47\" height=\"45\" stroke=\"none\" width=\"45\" x=\"90\" y=\"135\"/><rect class=\"square light d5\" fill=\"#ffce9e\" height=\"45\" stroke=\"none\" width=\"45\" x=\"135\" y=\"135\"/><rect class=\"square dark e5\" fill=\"#d18b47\" height=\"45\" stroke=\"none\" width=\"45\" x=\"180\" y=\"135\"/><rect class=\"square light f5\" fill=\"#ffce9e\" height=\"45\" stroke=\"none\" width=\"45\" x=\"225\" y=\"135\"/><rect class=\"square dark g5\" fill=\"#d18b47\" height=\"45\" stroke=\"none\" width=\"45\" x=\"270\" y=\"135\"/><rect class=\"square light h5\" fill=\"#ffce9e\" height=\"45\" stroke=\"none\" width=\"45\" x=\"315\" y=\"135\"/><rect class=\"square light a6\" fill=\"#ffce9e\" height=\"45\" stroke=\"none\" width=\"45\" x=\"0\" y=\"90\"/><rect class=\"square dark b6\" fill=\"#d18b47\" height=\"45\" stroke=\"none\" width=\"45\" x=\"45\" y=\"90\"/><rect class=\"square light c6\" fill=\"#ffce9e\" height=\"45\" stroke=\"none\" width=\"45\" x=\"90\" y=\"90\"/><rect class=\"square dark d6\" fill=\"#d18b47\" height=\"45\" stroke=\"none\" width=\"45\" x=\"135\" y=\"90\"/><rect class=\"square light e6\" fill=\"#ffce9e\" height=\"45\" stroke=\"none\" width=\"45\" x=\"180\" y=\"90\"/><rect class=\"square dark f6\" fill=\"#d18b47\" height=\"45\" stroke=\"none\" width=\"45\" x=\"225\" y=\"90\"/><rect class=\"square light g6\" fill=\"#ffce9e\" height=\"45\" stroke=\"none\" width=\"45\" x=\"270\" y=\"90\"/><rect class=\"square dark h6\" fill=\"#d18b47\" height=\"45\" stroke=\"none\" width=\"45\" x=\"315\" y=\"90\"/><rect class=\"square dark a7\" fill=\"#d18b47\" height=\"45\" stroke=\"none\" width=\"45\" x=\"0\" y=\"45\"/><rect class=\"square light b7\" fill=\"#ffce9e\" height=\"45\" stroke=\"none\" width=\"45\" x=\"45\" y=\"45\"/><rect class=\"square dark c7\" fill=\"#d18b47\" height=\"45\" stroke=\"none\" width=\"45\" x=\"90\" y=\"45\"/><rect class=\"square light d7\" fill=\"#ffce9e\" height=\"45\" stroke=\"none\" width=\"45\" x=\"135\" y=\"45\"/><rect class=\"square dark e7\" fill=\"#d18b47\" height=\"45\" stroke=\"none\" width=\"45\" x=\"180\" y=\"45\"/><rect class=\"square light f7\" fill=\"#ffce9e\" height=\"45\" stroke=\"none\" width=\"45\" x=\"225\" y=\"45\"/><rect class=\"square dark g7\" fill=\"#d18b47\" height=\"45\" stroke=\"none\" width=\"45\" x=\"270\" y=\"45\"/><rect class=\"square light h7\" fill=\"#ffce9e\" height=\"45\" stroke=\"none\" width=\"45\" x=\"315\" y=\"45\"/><use transform=\"translate(315, 45)\" xlink:href=\"#white-queen\"/><rect class=\"square light a8\" fill=\"#ffce9e\" height=\"45\" stroke=\"none\" width=\"45\" x=\"0\" y=\"0\"/><rect class=\"square dark b8\" fill=\"#d18b47\" height=\"45\" stroke=\"none\" width=\"45\" x=\"45\" y=\"0\"/><rect class=\"square light c8\" fill=\"#ffce9e\" height=\"45\" stroke=\"none\" width=\"45\" x=\"90\" y=\"0\"/><rect class=\"square dark d8\" fill=\"#d18b47\" height=\"45\" stroke=\"none\" width=\"45\" x=\"135\" y=\"0\"/><rect class=\"square light e8\" fill=\"#ffce9e\" height=\"45\" stroke=\"none\" width=\"45\" x=\"180\" y=\"0\"/><use transform=\"translate(180, 0)\" xlink:href=\"#white-queen\"/><rect class=\"square dark f8\" fill=\"#d18b47\" height=\"45\" stroke=\"none\" width=\"45\" x=\"225\" y=\"0\"/><use transform=\"translate(225, 0)\" xlink:href=\"#white-queen\"/><rect class=\"square light g8\" fill=\"#ffce9e\" height=\"45\" stroke=\"none\" width=\"45\" x=\"270\" y=\"0\"/><use transform=\"translate(270, 0)\" xlink:href=\"#white-queen\"/><rect class=\"square dark h8\" fill=\"#d18b47\" height=\"45\" stroke=\"none\" width=\"45\" x=\"315\" y=\"0\"/><circle class=\"circle\" cx=\"112.5\" cy=\"337.5\" fill=\"none\" opacity=\"0.5\" r=\"20.25\" stroke=\"red\" stroke-width=\"4.5\"/><circle class=\"circle\" cx=\"157.5\" cy=\"337.5\" fill=\"none\" opacity=\"0.5\" r=\"20.25\" stroke=\"red\" stroke-width=\"4.5\"/><circle class=\"circle\" cx=\"22.5\" cy=\"112.5\" fill=\"none\" opacity=\"0.5\" r=\"20.25\" stroke=\"red\" stroke-width=\"4.5\"/><circle class=\"circle\" cx=\"67.5\" cy=\"112.5\" fill=\"none\" opacity=\"0.5\" r=\"20.25\" stroke=\"red\" stroke-width=\"4.5\"/></svg>"
      ],
      "text/plain": [
       "<IPython.core.display.SVG object>"
      ]
     },
     "metadata": {},
     "output_type": "display_data"
    },
    {
     "name": "stdout",
     "output_type": "stream",
     "text": [
      "61\n"
     ]
    },
    {
     "data": {
      "image/svg+xml": [
       "<svg version=\"1.1\" viewBox=\"0 0 360 360\" xmlns=\"http://www.w3.org/2000/svg\" xmlns:xlink=\"http://www.w3.org/1999/xlink\"><style>\n",
       ".square.light {\n",
       "fill: #cacaca;\n",
       "}\n",
       ".square.dark {\n",
       "fill: #898989;\n",
       "}\n",
       "#xx {\n",
       "fill: blue;\n",
       "stroke: red;\n",
       "}\n",
       ".square.light.lastmove {\n",
       "fill: #c3d889;\n",
       "}\n",
       ".square.dark.lastmove {\n",
       "fill: #92b167;\n",
       "}\n",
       ".check {\n",
       "fill: url(#check_gradient);\n",
       "}\n",
       ".arrow {\n",
       "stroke: #ff5858;\n",
       "fill: blue;\n",
       "}\n",
       ".mark {\n",
       "stroke: #959fff;\n",
       "fill: blue;\n",
       "}\n",
       "</style><defs><g class=\"white bishop\" fill=\"none\" fill-rule=\"evenodd\" id=\"white-bishop\" stroke=\"#000\" stroke-linecap=\"round\" stroke-linejoin=\"round\" stroke-width=\"1.5\"><g fill=\"#fff\" stroke-linecap=\"butt\"><path d=\"M9 36c3.39-.97 10.11.43 13.5-2 3.39 2.43 10.11 1.03 13.5 2 0 0 1.65.54 3 2-.68.97-1.65.99-3 .5-3.39-.97-10.11.46-13.5-1-3.39 1.46-10.11.03-13.5 1-1.354.49-2.323.47-3-.5 1.354-1.94 3-2 3-2zM15 32c2.5 2.5 12.5 2.5 15 0 .5-1.5 0-2 0-2 0-2.5-2.5-4-2.5-4 5.5-1.5 6-11.5-5-15.5-11 4-10.5 14-5 15.5 0 0-2.5 1.5-2.5 4 0 0-.5.5 0 2zM25 8a2.5 2.5 0 1 1-5 0 2.5 2.5 0 1 1 5 0z\"/></g><path d=\"M17.5 26h10M15 30h15m-7.5-14.5v5M20 18h5\" stroke-linejoin=\"miter\"/></g><g class=\"white queen\" fill=\"#fff\" fill-rule=\"evenodd\" id=\"white-queen\" stroke=\"#000\" stroke-linecap=\"round\" stroke-linejoin=\"round\" stroke-width=\"1.5\"><path d=\"M8 12a2 2 0 1 1-4 0 2 2 0 1 1 4 0zM24.5 7.5a2 2 0 1 1-4 0 2 2 0 1 1 4 0zM41 12a2 2 0 1 1-4 0 2 2 0 1 1 4 0zM16 8.5a2 2 0 1 1-4 0 2 2 0 1 1 4 0zM33 9a2 2 0 1 1-4 0 2 2 0 1 1 4 0z\"/><path d=\"M9 26c8.5-1.5 21-1.5 27 0l2-12-7 11V11l-5.5 13.5-3-15-3 15-5.5-14V25L7 14l2 12zM9 26c0 2 1.5 2 2.5 4 1 1.5 1 1 .5 3.5-1.5 1-1.5 2.5-1.5 2.5-1.5 1.5.5 2.5.5 2.5 6.5 1 16.5 1 23 0 0 0 1.5-1 0-2.5 0 0 .5-1.5-1-2.5-.5-2.5-.5-2 .5-3.5 1-2 2.5-2 2.5-4-8.5-1.5-18.5-1.5-27 0z\" stroke-linecap=\"butt\"/><path d=\"M11.5 30c3.5-1 18.5-1 22 0M12 33.5c6-1 15-1 21 0\" fill=\"none\"/></g></defs><rect class=\"square dark a1\" fill=\"#d18b47\" height=\"45\" stroke=\"none\" width=\"45\" x=\"0\" y=\"315\"/><rect class=\"square light b1\" fill=\"#ffce9e\" height=\"45\" stroke=\"none\" width=\"45\" x=\"45\" y=\"315\"/><rect class=\"square dark c1\" fill=\"#d18b47\" height=\"45\" stroke=\"none\" width=\"45\" x=\"90\" y=\"315\"/><rect class=\"square light d1\" fill=\"#ffce9e\" height=\"45\" stroke=\"none\" width=\"45\" x=\"135\" y=\"315\"/><rect class=\"square dark e1\" fill=\"#d18b47\" height=\"45\" stroke=\"none\" width=\"45\" x=\"180\" y=\"315\"/><rect class=\"square light f1\" fill=\"#ffce9e\" height=\"45\" stroke=\"none\" width=\"45\" x=\"225\" y=\"315\"/><rect class=\"square dark g1\" fill=\"#d18b47\" height=\"45\" stroke=\"none\" width=\"45\" x=\"270\" y=\"315\"/><rect class=\"square light h1\" fill=\"#ffce9e\" height=\"45\" stroke=\"none\" width=\"45\" x=\"315\" y=\"315\"/><rect class=\"square light a2\" fill=\"#ffce9e\" height=\"45\" stroke=\"none\" width=\"45\" x=\"0\" y=\"270\"/><rect class=\"square dark b2\" fill=\"#d18b47\" height=\"45\" stroke=\"none\" width=\"45\" x=\"45\" y=\"270\"/><rect class=\"square light c2\" fill=\"#ffce9e\" height=\"45\" stroke=\"none\" width=\"45\" x=\"90\" y=\"270\"/><rect class=\"square dark d2\" fill=\"#d18b47\" height=\"45\" stroke=\"none\" width=\"45\" x=\"135\" y=\"270\"/><rect class=\"square light e2\" fill=\"#ffce9e\" height=\"45\" stroke=\"none\" width=\"45\" x=\"180\" y=\"270\"/><rect class=\"square dark f2\" fill=\"#d18b47\" height=\"45\" stroke=\"none\" width=\"45\" x=\"225\" y=\"270\"/><rect class=\"square light g2\" fill=\"#ffce9e\" height=\"45\" stroke=\"none\" width=\"45\" x=\"270\" y=\"270\"/><rect class=\"square dark h2\" fill=\"#d18b47\" height=\"45\" stroke=\"none\" width=\"45\" x=\"315\" y=\"270\"/><rect class=\"square dark a3\" fill=\"#d18b47\" height=\"45\" stroke=\"none\" width=\"45\" x=\"0\" y=\"225\"/><rect class=\"square light b3\" fill=\"#ffce9e\" height=\"45\" stroke=\"none\" width=\"45\" x=\"45\" y=\"225\"/><rect class=\"square dark c3\" fill=\"#d18b47\" height=\"45\" stroke=\"none\" width=\"45\" x=\"90\" y=\"225\"/><rect class=\"square light d3\" fill=\"#ffce9e\" height=\"45\" stroke=\"none\" width=\"45\" x=\"135\" y=\"225\"/><rect class=\"square dark e3\" fill=\"#d18b47\" height=\"45\" stroke=\"none\" width=\"45\" x=\"180\" y=\"225\"/><rect class=\"square light f3\" fill=\"#ffce9e\" height=\"45\" stroke=\"none\" width=\"45\" x=\"225\" y=\"225\"/><rect class=\"square dark g3\" fill=\"#d18b47\" height=\"45\" stroke=\"none\" width=\"45\" x=\"270\" y=\"225\"/><rect class=\"square light h3\" fill=\"#ffce9e\" height=\"45\" stroke=\"none\" width=\"45\" x=\"315\" y=\"225\"/><rect class=\"square light a4\" fill=\"#ffce9e\" height=\"45\" stroke=\"none\" width=\"45\" x=\"0\" y=\"180\"/><rect class=\"square dark b4\" fill=\"#d18b47\" height=\"45\" stroke=\"none\" width=\"45\" x=\"45\" y=\"180\"/><use transform=\"translate(45, 180)\" xlink:href=\"#white-bishop\"/><rect class=\"square light c4\" fill=\"#ffce9e\" height=\"45\" stroke=\"none\" width=\"45\" x=\"90\" y=\"180\"/><rect class=\"square dark d4\" fill=\"#d18b47\" height=\"45\" stroke=\"none\" width=\"45\" x=\"135\" y=\"180\"/><rect class=\"square light e4\" fill=\"#ffce9e\" height=\"45\" stroke=\"none\" width=\"45\" x=\"180\" y=\"180\"/><rect class=\"square dark f4\" fill=\"#d18b47\" height=\"45\" stroke=\"none\" width=\"45\" x=\"225\" y=\"180\"/><rect class=\"square light g4\" fill=\"#ffce9e\" height=\"45\" stroke=\"none\" width=\"45\" x=\"270\" y=\"180\"/><rect class=\"square dark h4\" fill=\"#d18b47\" height=\"45\" stroke=\"none\" width=\"45\" x=\"315\" y=\"180\"/><rect class=\"square dark a5\" fill=\"#d18b47\" height=\"45\" stroke=\"none\" width=\"45\" x=\"0\" y=\"135\"/><rect class=\"square light b5\" fill=\"#ffce9e\" height=\"45\" stroke=\"none\" width=\"45\" x=\"45\" y=\"135\"/><rect class=\"square dark c5\" fill=\"#d18b47\" height=\"45\" stroke=\"none\" width=\"45\" x=\"90\" y=\"135\"/><rect class=\"square light d5\" fill=\"#ffce9e\" height=\"45\" stroke=\"none\" width=\"45\" x=\"135\" y=\"135\"/><rect class=\"square dark e5\" fill=\"#d18b47\" height=\"45\" stroke=\"none\" width=\"45\" x=\"180\" y=\"135\"/><rect class=\"square light f5\" fill=\"#ffce9e\" height=\"45\" stroke=\"none\" width=\"45\" x=\"225\" y=\"135\"/><rect class=\"square dark g5\" fill=\"#d18b47\" height=\"45\" stroke=\"none\" width=\"45\" x=\"270\" y=\"135\"/><rect class=\"square light h5\" fill=\"#ffce9e\" height=\"45\" stroke=\"none\" width=\"45\" x=\"315\" y=\"135\"/><rect class=\"square light a6\" fill=\"#ffce9e\" height=\"45\" stroke=\"none\" width=\"45\" x=\"0\" y=\"90\"/><rect class=\"square dark b6\" fill=\"#d18b47\" height=\"45\" stroke=\"none\" width=\"45\" x=\"45\" y=\"90\"/><rect class=\"square light c6\" fill=\"#ffce9e\" height=\"45\" stroke=\"none\" width=\"45\" x=\"90\" y=\"90\"/><rect class=\"square dark d6\" fill=\"#d18b47\" height=\"45\" stroke=\"none\" width=\"45\" x=\"135\" y=\"90\"/><rect class=\"square light e6\" fill=\"#ffce9e\" height=\"45\" stroke=\"none\" width=\"45\" x=\"180\" y=\"90\"/><rect class=\"square dark f6\" fill=\"#d18b47\" height=\"45\" stroke=\"none\" width=\"45\" x=\"225\" y=\"90\"/><rect class=\"square light g6\" fill=\"#ffce9e\" height=\"45\" stroke=\"none\" width=\"45\" x=\"270\" y=\"90\"/><use transform=\"translate(270, 90)\" xlink:href=\"#white-queen\"/><rect class=\"square dark h6\" fill=\"#d18b47\" height=\"45\" stroke=\"none\" width=\"45\" x=\"315\" y=\"90\"/><rect class=\"square dark a7\" fill=\"#d18b47\" height=\"45\" stroke=\"none\" width=\"45\" x=\"0\" y=\"45\"/><rect class=\"square light b7\" fill=\"#ffce9e\" height=\"45\" stroke=\"none\" width=\"45\" x=\"45\" y=\"45\"/><rect class=\"square dark c7\" fill=\"#d18b47\" height=\"45\" stroke=\"none\" width=\"45\" x=\"90\" y=\"45\"/><rect class=\"square light d7\" fill=\"#ffce9e\" height=\"45\" stroke=\"none\" width=\"45\" x=\"135\" y=\"45\"/><rect class=\"square dark e7\" fill=\"#d18b47\" height=\"45\" stroke=\"none\" width=\"45\" x=\"180\" y=\"45\"/><rect class=\"square light f7\" fill=\"#ffce9e\" height=\"45\" stroke=\"none\" width=\"45\" x=\"225\" y=\"45\"/><use transform=\"translate(225, 45)\" xlink:href=\"#white-queen\"/><rect class=\"square dark g7\" fill=\"#d18b47\" height=\"45\" stroke=\"none\" width=\"45\" x=\"270\" y=\"45\"/><rect class=\"square light h7\" fill=\"#ffce9e\" height=\"45\" stroke=\"none\" width=\"45\" x=\"315\" y=\"45\"/><rect class=\"square light a8\" fill=\"#ffce9e\" height=\"45\" stroke=\"none\" width=\"45\" x=\"0\" y=\"0\"/><rect class=\"square dark b8\" fill=\"#d18b47\" height=\"45\" stroke=\"none\" width=\"45\" x=\"45\" y=\"0\"/><rect class=\"square light c8\" fill=\"#ffce9e\" height=\"45\" stroke=\"none\" width=\"45\" x=\"90\" y=\"0\"/><rect class=\"square dark d8\" fill=\"#d18b47\" height=\"45\" stroke=\"none\" width=\"45\" x=\"135\" y=\"0\"/><rect class=\"square light e8\" fill=\"#ffce9e\" height=\"45\" stroke=\"none\" width=\"45\" x=\"180\" y=\"0\"/><use transform=\"translate(180, 0)\" xlink:href=\"#white-queen\"/><rect class=\"square dark f8\" fill=\"#d18b47\" height=\"45\" stroke=\"none\" width=\"45\" x=\"225\" y=\"0\"/><rect class=\"square light g8\" fill=\"#ffce9e\" height=\"45\" stroke=\"none\" width=\"45\" x=\"270\" y=\"0\"/><rect class=\"square dark h8\" fill=\"#d18b47\" height=\"45\" stroke=\"none\" width=\"45\" x=\"315\" y=\"0\"/><use transform=\"translate(315, 0)\" xlink:href=\"#white-queen\"/><circle class=\"circle\" cx=\"112.5\" cy=\"337.5\" fill=\"none\" opacity=\"0.5\" r=\"20.25\" stroke=\"red\" stroke-width=\"4.5\"/><circle class=\"circle\" cx=\"157.5\" cy=\"337.5\" fill=\"none\" opacity=\"0.5\" r=\"20.25\" stroke=\"red\" stroke-width=\"4.5\"/></svg>"
      ],
      "text/plain": [
       "<IPython.core.display.SVG object>"
      ]
     },
     "metadata": {},
     "output_type": "display_data"
    },
    {
     "name": "stdout",
     "output_type": "stream",
     "text": [
      "62\n"
     ]
    },
    {
     "data": {
      "image/svg+xml": [
       "<svg version=\"1.1\" viewBox=\"0 0 360 360\" xmlns=\"http://www.w3.org/2000/svg\" xmlns:xlink=\"http://www.w3.org/1999/xlink\"><style>\n",
       ".square.light {\n",
       "fill: #cacaca;\n",
       "}\n",
       ".square.dark {\n",
       "fill: #898989;\n",
       "}\n",
       "#xx {\n",
       "fill: blue;\n",
       "stroke: red;\n",
       "}\n",
       ".square.light.lastmove {\n",
       "fill: #c3d889;\n",
       "}\n",
       ".square.dark.lastmove {\n",
       "fill: #92b167;\n",
       "}\n",
       ".check {\n",
       "fill: url(#check_gradient);\n",
       "}\n",
       ".arrow {\n",
       "stroke: #ff5858;\n",
       "fill: blue;\n",
       "}\n",
       ".mark {\n",
       "stroke: #959fff;\n",
       "fill: blue;\n",
       "}\n",
       "</style><defs><g class=\"white bishop\" fill=\"none\" fill-rule=\"evenodd\" id=\"white-bishop\" stroke=\"#000\" stroke-linecap=\"round\" stroke-linejoin=\"round\" stroke-width=\"1.5\"><g fill=\"#fff\" stroke-linecap=\"butt\"><path d=\"M9 36c3.39-.97 10.11.43 13.5-2 3.39 2.43 10.11 1.03 13.5 2 0 0 1.65.54 3 2-.68.97-1.65.99-3 .5-3.39-.97-10.11.46-13.5-1-3.39 1.46-10.11.03-13.5 1-1.354.49-2.323.47-3-.5 1.354-1.94 3-2 3-2zM15 32c2.5 2.5 12.5 2.5 15 0 .5-1.5 0-2 0-2 0-2.5-2.5-4-2.5-4 5.5-1.5 6-11.5-5-15.5-11 4-10.5 14-5 15.5 0 0-2.5 1.5-2.5 4 0 0-.5.5 0 2zM25 8a2.5 2.5 0 1 1-5 0 2.5 2.5 0 1 1 5 0z\"/></g><path d=\"M17.5 26h10M15 30h15m-7.5-14.5v5M20 18h5\" stroke-linejoin=\"miter\"/></g><g class=\"white queen\" fill=\"#fff\" fill-rule=\"evenodd\" id=\"white-queen\" stroke=\"#000\" stroke-linecap=\"round\" stroke-linejoin=\"round\" stroke-width=\"1.5\"><path d=\"M8 12a2 2 0 1 1-4 0 2 2 0 1 1 4 0zM24.5 7.5a2 2 0 1 1-4 0 2 2 0 1 1 4 0zM41 12a2 2 0 1 1-4 0 2 2 0 1 1 4 0zM16 8.5a2 2 0 1 1-4 0 2 2 0 1 1 4 0zM33 9a2 2 0 1 1-4 0 2 2 0 1 1 4 0z\"/><path d=\"M9 26c8.5-1.5 21-1.5 27 0l2-12-7 11V11l-5.5 13.5-3-15-3 15-5.5-14V25L7 14l2 12zM9 26c0 2 1.5 2 2.5 4 1 1.5 1 1 .5 3.5-1.5 1-1.5 2.5-1.5 2.5-1.5 1.5.5 2.5.5 2.5 6.5 1 16.5 1 23 0 0 0 1.5-1 0-2.5 0 0 .5-1.5-1-2.5-.5-2.5-.5-2 .5-3.5 1-2 2.5-2 2.5-4-8.5-1.5-18.5-1.5-27 0z\" stroke-linecap=\"butt\"/><path d=\"M11.5 30c3.5-1 18.5-1 22 0M12 33.5c6-1 15-1 21 0\" fill=\"none\"/></g></defs><rect class=\"square dark a1\" fill=\"#d18b47\" height=\"45\" stroke=\"none\" width=\"45\" x=\"0\" y=\"315\"/><rect class=\"square light b1\" fill=\"#ffce9e\" height=\"45\" stroke=\"none\" width=\"45\" x=\"45\" y=\"315\"/><rect class=\"square dark c1\" fill=\"#d18b47\" height=\"45\" stroke=\"none\" width=\"45\" x=\"90\" y=\"315\"/><rect class=\"square light d1\" fill=\"#ffce9e\" height=\"45\" stroke=\"none\" width=\"45\" x=\"135\" y=\"315\"/><rect class=\"square dark e1\" fill=\"#d18b47\" height=\"45\" stroke=\"none\" width=\"45\" x=\"180\" y=\"315\"/><rect class=\"square light f1\" fill=\"#ffce9e\" height=\"45\" stroke=\"none\" width=\"45\" x=\"225\" y=\"315\"/><rect class=\"square dark g1\" fill=\"#d18b47\" height=\"45\" stroke=\"none\" width=\"45\" x=\"270\" y=\"315\"/><rect class=\"square light h1\" fill=\"#ffce9e\" height=\"45\" stroke=\"none\" width=\"45\" x=\"315\" y=\"315\"/><rect class=\"square light a2\" fill=\"#ffce9e\" height=\"45\" stroke=\"none\" width=\"45\" x=\"0\" y=\"270\"/><rect class=\"square dark b2\" fill=\"#d18b47\" height=\"45\" stroke=\"none\" width=\"45\" x=\"45\" y=\"270\"/><rect class=\"square light c2\" fill=\"#ffce9e\" height=\"45\" stroke=\"none\" width=\"45\" x=\"90\" y=\"270\"/><rect class=\"square dark d2\" fill=\"#d18b47\" height=\"45\" stroke=\"none\" width=\"45\" x=\"135\" y=\"270\"/><rect class=\"square light e2\" fill=\"#ffce9e\" height=\"45\" stroke=\"none\" width=\"45\" x=\"180\" y=\"270\"/><rect class=\"square dark f2\" fill=\"#d18b47\" height=\"45\" stroke=\"none\" width=\"45\" x=\"225\" y=\"270\"/><rect class=\"square light g2\" fill=\"#ffce9e\" height=\"45\" stroke=\"none\" width=\"45\" x=\"270\" y=\"270\"/><rect class=\"square dark h2\" fill=\"#d18b47\" height=\"45\" stroke=\"none\" width=\"45\" x=\"315\" y=\"270\"/><rect class=\"square dark a3\" fill=\"#d18b47\" height=\"45\" stroke=\"none\" width=\"45\" x=\"0\" y=\"225\"/><rect class=\"square light b3\" fill=\"#ffce9e\" height=\"45\" stroke=\"none\" width=\"45\" x=\"45\" y=\"225\"/><rect class=\"square dark c3\" fill=\"#d18b47\" height=\"45\" stroke=\"none\" width=\"45\" x=\"90\" y=\"225\"/><use transform=\"translate(90, 225)\" xlink:href=\"#white-bishop\"/><rect class=\"square light d3\" fill=\"#ffce9e\" height=\"45\" stroke=\"none\" width=\"45\" x=\"135\" y=\"225\"/><rect class=\"square dark e3\" fill=\"#d18b47\" height=\"45\" stroke=\"none\" width=\"45\" x=\"180\" y=\"225\"/><rect class=\"square light f3\" fill=\"#ffce9e\" height=\"45\" stroke=\"none\" width=\"45\" x=\"225\" y=\"225\"/><rect class=\"square dark g3\" fill=\"#d18b47\" height=\"45\" stroke=\"none\" width=\"45\" x=\"270\" y=\"225\"/><rect class=\"square light h3\" fill=\"#ffce9e\" height=\"45\" stroke=\"none\" width=\"45\" x=\"315\" y=\"225\"/><rect class=\"square light a4\" fill=\"#ffce9e\" height=\"45\" stroke=\"none\" width=\"45\" x=\"0\" y=\"180\"/><rect class=\"square dark b4\" fill=\"#d18b47\" height=\"45\" stroke=\"none\" width=\"45\" x=\"45\" y=\"180\"/><rect class=\"square light c4\" fill=\"#ffce9e\" height=\"45\" stroke=\"none\" width=\"45\" x=\"90\" y=\"180\"/><rect class=\"square dark d4\" fill=\"#d18b47\" height=\"45\" stroke=\"none\" width=\"45\" x=\"135\" y=\"180\"/><rect class=\"square light e4\" fill=\"#ffce9e\" height=\"45\" stroke=\"none\" width=\"45\" x=\"180\" y=\"180\"/><rect class=\"square dark f4\" fill=\"#d18b47\" height=\"45\" stroke=\"none\" width=\"45\" x=\"225\" y=\"180\"/><rect class=\"square light g4\" fill=\"#ffce9e\" height=\"45\" stroke=\"none\" width=\"45\" x=\"270\" y=\"180\"/><rect class=\"square dark h4\" fill=\"#d18b47\" height=\"45\" stroke=\"none\" width=\"45\" x=\"315\" y=\"180\"/><rect class=\"square dark a5\" fill=\"#d18b47\" height=\"45\" stroke=\"none\" width=\"45\" x=\"0\" y=\"135\"/><rect class=\"square light b5\" fill=\"#ffce9e\" height=\"45\" stroke=\"none\" width=\"45\" x=\"45\" y=\"135\"/><rect class=\"square dark c5\" fill=\"#d18b47\" height=\"45\" stroke=\"none\" width=\"45\" x=\"90\" y=\"135\"/><rect class=\"square light d5\" fill=\"#ffce9e\" height=\"45\" stroke=\"none\" width=\"45\" x=\"135\" y=\"135\"/><rect class=\"square dark e5\" fill=\"#d18b47\" height=\"45\" stroke=\"none\" width=\"45\" x=\"180\" y=\"135\"/><rect class=\"square light f5\" fill=\"#ffce9e\" height=\"45\" stroke=\"none\" width=\"45\" x=\"225\" y=\"135\"/><rect class=\"square dark g5\" fill=\"#d18b47\" height=\"45\" stroke=\"none\" width=\"45\" x=\"270\" y=\"135\"/><rect class=\"square light h5\" fill=\"#ffce9e\" height=\"45\" stroke=\"none\" width=\"45\" x=\"315\" y=\"135\"/><use transform=\"translate(315, 135)\" xlink:href=\"#white-queen\"/><rect class=\"square light a6\" fill=\"#ffce9e\" height=\"45\" stroke=\"none\" width=\"45\" x=\"0\" y=\"90\"/><rect class=\"square dark b6\" fill=\"#d18b47\" height=\"45\" stroke=\"none\" width=\"45\" x=\"45\" y=\"90\"/><rect class=\"square light c6\" fill=\"#ffce9e\" height=\"45\" stroke=\"none\" width=\"45\" x=\"90\" y=\"90\"/><rect class=\"square dark d6\" fill=\"#d18b47\" height=\"45\" stroke=\"none\" width=\"45\" x=\"135\" y=\"90\"/><rect class=\"square light e6\" fill=\"#ffce9e\" height=\"45\" stroke=\"none\" width=\"45\" x=\"180\" y=\"90\"/><rect class=\"square dark f6\" fill=\"#d18b47\" height=\"45\" stroke=\"none\" width=\"45\" x=\"225\" y=\"90\"/><rect class=\"square light g6\" fill=\"#ffce9e\" height=\"45\" stroke=\"none\" width=\"45\" x=\"270\" y=\"90\"/><use transform=\"translate(270, 90)\" xlink:href=\"#white-queen\"/><rect class=\"square dark h6\" fill=\"#d18b47\" height=\"45\" stroke=\"none\" width=\"45\" x=\"315\" y=\"90\"/><rect class=\"square dark a7\" fill=\"#d18b47\" height=\"45\" stroke=\"none\" width=\"45\" x=\"0\" y=\"45\"/><rect class=\"square light b7\" fill=\"#ffce9e\" height=\"45\" stroke=\"none\" width=\"45\" x=\"45\" y=\"45\"/><rect class=\"square dark c7\" fill=\"#d18b47\" height=\"45\" stroke=\"none\" width=\"45\" x=\"90\" y=\"45\"/><rect class=\"square light d7\" fill=\"#ffce9e\" height=\"45\" stroke=\"none\" width=\"45\" x=\"135\" y=\"45\"/><rect class=\"square dark e7\" fill=\"#d18b47\" height=\"45\" stroke=\"none\" width=\"45\" x=\"180\" y=\"45\"/><rect class=\"square light f7\" fill=\"#ffce9e\" height=\"45\" stroke=\"none\" width=\"45\" x=\"225\" y=\"45\"/><use transform=\"translate(225, 45)\" xlink:href=\"#white-queen\"/><rect class=\"square dark g7\" fill=\"#d18b47\" height=\"45\" stroke=\"none\" width=\"45\" x=\"270\" y=\"45\"/><rect class=\"square light h7\" fill=\"#ffce9e\" height=\"45\" stroke=\"none\" width=\"45\" x=\"315\" y=\"45\"/><rect class=\"square light a8\" fill=\"#ffce9e\" height=\"45\" stroke=\"none\" width=\"45\" x=\"0\" y=\"0\"/><rect class=\"square dark b8\" fill=\"#d18b47\" height=\"45\" stroke=\"none\" width=\"45\" x=\"45\" y=\"0\"/><rect class=\"square light c8\" fill=\"#ffce9e\" height=\"45\" stroke=\"none\" width=\"45\" x=\"90\" y=\"0\"/><rect class=\"square dark d8\" fill=\"#d18b47\" height=\"45\" stroke=\"none\" width=\"45\" x=\"135\" y=\"0\"/><rect class=\"square light e8\" fill=\"#ffce9e\" height=\"45\" stroke=\"none\" width=\"45\" x=\"180\" y=\"0\"/><use transform=\"translate(180, 0)\" xlink:href=\"#white-queen\"/><rect class=\"square dark f8\" fill=\"#d18b47\" height=\"45\" stroke=\"none\" width=\"45\" x=\"225\" y=\"0\"/><rect class=\"square light g8\" fill=\"#ffce9e\" height=\"45\" stroke=\"none\" width=\"45\" x=\"270\" y=\"0\"/><rect class=\"square dark h8\" fill=\"#d18b47\" height=\"45\" stroke=\"none\" width=\"45\" x=\"315\" y=\"0\"/><circle class=\"circle\" cx=\"112.5\" cy=\"337.5\" fill=\"none\" opacity=\"0.5\" r=\"20.25\" stroke=\"red\" stroke-width=\"4.5\"/><circle class=\"circle\" cx=\"22.5\" cy=\"247.5\" fill=\"none\" opacity=\"0.5\" r=\"20.25\" stroke=\"red\" stroke-width=\"4.5\"/></svg>"
      ],
      "text/plain": [
       "<IPython.core.display.SVG object>"
      ]
     },
     "metadata": {},
     "output_type": "display_data"
    },
    {
     "name": "stdout",
     "output_type": "stream",
     "text": [
      "63\n"
     ]
    },
    {
     "data": {
      "image/svg+xml": [
       "<svg version=\"1.1\" viewBox=\"0 0 360 360\" xmlns=\"http://www.w3.org/2000/svg\" xmlns:xlink=\"http://www.w3.org/1999/xlink\"><style>\n",
       ".square.light {\n",
       "fill: #cacaca;\n",
       "}\n",
       ".square.dark {\n",
       "fill: #898989;\n",
       "}\n",
       "#xx {\n",
       "fill: blue;\n",
       "stroke: red;\n",
       "}\n",
       ".square.light.lastmove {\n",
       "fill: #c3d889;\n",
       "}\n",
       ".square.dark.lastmove {\n",
       "fill: #92b167;\n",
       "}\n",
       ".check {\n",
       "fill: url(#check_gradient);\n",
       "}\n",
       ".arrow {\n",
       "stroke: #ff5858;\n",
       "fill: blue;\n",
       "}\n",
       ".mark {\n",
       "stroke: #959fff;\n",
       "fill: blue;\n",
       "}\n",
       "</style><defs><g class=\"white bishop\" fill=\"none\" fill-rule=\"evenodd\" id=\"white-bishop\" stroke=\"#000\" stroke-linecap=\"round\" stroke-linejoin=\"round\" stroke-width=\"1.5\"><g fill=\"#fff\" stroke-linecap=\"butt\"><path d=\"M9 36c3.39-.97 10.11.43 13.5-2 3.39 2.43 10.11 1.03 13.5 2 0 0 1.65.54 3 2-.68.97-1.65.99-3 .5-3.39-.97-10.11.46-13.5-1-3.39 1.46-10.11.03-13.5 1-1.354.49-2.323.47-3-.5 1.354-1.94 3-2 3-2zM15 32c2.5 2.5 12.5 2.5 15 0 .5-1.5 0-2 0-2 0-2.5-2.5-4-2.5-4 5.5-1.5 6-11.5-5-15.5-11 4-10.5 14-5 15.5 0 0-2.5 1.5-2.5 4 0 0-.5.5 0 2zM25 8a2.5 2.5 0 1 1-5 0 2.5 2.5 0 1 1 5 0z\"/></g><path d=\"M17.5 26h10M15 30h15m-7.5-14.5v5M20 18h5\" stroke-linejoin=\"miter\"/></g><g class=\"white queen\" fill=\"#fff\" fill-rule=\"evenodd\" id=\"white-queen\" stroke=\"#000\" stroke-linecap=\"round\" stroke-linejoin=\"round\" stroke-width=\"1.5\"><path d=\"M8 12a2 2 0 1 1-4 0 2 2 0 1 1 4 0zM24.5 7.5a2 2 0 1 1-4 0 2 2 0 1 1 4 0zM41 12a2 2 0 1 1-4 0 2 2 0 1 1 4 0zM16 8.5a2 2 0 1 1-4 0 2 2 0 1 1 4 0zM33 9a2 2 0 1 1-4 0 2 2 0 1 1 4 0z\"/><path d=\"M9 26c8.5-1.5 21-1.5 27 0l2-12-7 11V11l-5.5 13.5-3-15-3 15-5.5-14V25L7 14l2 12zM9 26c0 2 1.5 2 2.5 4 1 1.5 1 1 .5 3.5-1.5 1-1.5 2.5-1.5 2.5-1.5 1.5.5 2.5.5 2.5 6.5 1 16.5 1 23 0 0 0 1.5-1 0-2.5 0 0 .5-1.5-1-2.5-.5-2.5-.5-2 .5-3.5 1-2 2.5-2 2.5-4-8.5-1.5-18.5-1.5-27 0z\" stroke-linecap=\"butt\"/><path d=\"M11.5 30c3.5-1 18.5-1 22 0M12 33.5c6-1 15-1 21 0\" fill=\"none\"/></g></defs><rect class=\"square dark a1\" fill=\"#d18b47\" height=\"45\" stroke=\"none\" width=\"45\" x=\"0\" y=\"315\"/><rect class=\"square light b1\" fill=\"#ffce9e\" height=\"45\" stroke=\"none\" width=\"45\" x=\"45\" y=\"315\"/><rect class=\"square dark c1\" fill=\"#d18b47\" height=\"45\" stroke=\"none\" width=\"45\" x=\"90\" y=\"315\"/><rect class=\"square light d1\" fill=\"#ffce9e\" height=\"45\" stroke=\"none\" width=\"45\" x=\"135\" y=\"315\"/><rect class=\"square dark e1\" fill=\"#d18b47\" height=\"45\" stroke=\"none\" width=\"45\" x=\"180\" y=\"315\"/><rect class=\"square light f1\" fill=\"#ffce9e\" height=\"45\" stroke=\"none\" width=\"45\" x=\"225\" y=\"315\"/><rect class=\"square dark g1\" fill=\"#d18b47\" height=\"45\" stroke=\"none\" width=\"45\" x=\"270\" y=\"315\"/><rect class=\"square light h1\" fill=\"#ffce9e\" height=\"45\" stroke=\"none\" width=\"45\" x=\"315\" y=\"315\"/><rect class=\"square light a2\" fill=\"#ffce9e\" height=\"45\" stroke=\"none\" width=\"45\" x=\"0\" y=\"270\"/><rect class=\"square dark b2\" fill=\"#d18b47\" height=\"45\" stroke=\"none\" width=\"45\" x=\"45\" y=\"270\"/><rect class=\"square light c2\" fill=\"#ffce9e\" height=\"45\" stroke=\"none\" width=\"45\" x=\"90\" y=\"270\"/><rect class=\"square dark d2\" fill=\"#d18b47\" height=\"45\" stroke=\"none\" width=\"45\" x=\"135\" y=\"270\"/><rect class=\"square light e2\" fill=\"#ffce9e\" height=\"45\" stroke=\"none\" width=\"45\" x=\"180\" y=\"270\"/><rect class=\"square dark f2\" fill=\"#d18b47\" height=\"45\" stroke=\"none\" width=\"45\" x=\"225\" y=\"270\"/><rect class=\"square light g2\" fill=\"#ffce9e\" height=\"45\" stroke=\"none\" width=\"45\" x=\"270\" y=\"270\"/><rect class=\"square dark h2\" fill=\"#d18b47\" height=\"45\" stroke=\"none\" width=\"45\" x=\"315\" y=\"270\"/><rect class=\"square dark a3\" fill=\"#d18b47\" height=\"45\" stroke=\"none\" width=\"45\" x=\"0\" y=\"225\"/><rect class=\"square light b3\" fill=\"#ffce9e\" height=\"45\" stroke=\"none\" width=\"45\" x=\"45\" y=\"225\"/><rect class=\"square dark c3\" fill=\"#d18b47\" height=\"45\" stroke=\"none\" width=\"45\" x=\"90\" y=\"225\"/><rect class=\"square light d3\" fill=\"#ffce9e\" height=\"45\" stroke=\"none\" width=\"45\" x=\"135\" y=\"225\"/><rect class=\"square dark e3\" fill=\"#d18b47\" height=\"45\" stroke=\"none\" width=\"45\" x=\"180\" y=\"225\"/><rect class=\"square light f3\" fill=\"#ffce9e\" height=\"45\" stroke=\"none\" width=\"45\" x=\"225\" y=\"225\"/><rect class=\"square dark g3\" fill=\"#d18b47\" height=\"45\" stroke=\"none\" width=\"45\" x=\"270\" y=\"225\"/><rect class=\"square light h3\" fill=\"#ffce9e\" height=\"45\" stroke=\"none\" width=\"45\" x=\"315\" y=\"225\"/><rect class=\"square light a4\" fill=\"#ffce9e\" height=\"45\" stroke=\"none\" width=\"45\" x=\"0\" y=\"180\"/><rect class=\"square dark b4\" fill=\"#d18b47\" height=\"45\" stroke=\"none\" width=\"45\" x=\"45\" y=\"180\"/><rect class=\"square light c4\" fill=\"#ffce9e\" height=\"45\" stroke=\"none\" width=\"45\" x=\"90\" y=\"180\"/><rect class=\"square dark d4\" fill=\"#d18b47\" height=\"45\" stroke=\"none\" width=\"45\" x=\"135\" y=\"180\"/><use transform=\"translate(135, 180)\" xlink:href=\"#white-bishop\"/><rect class=\"square light e4\" fill=\"#ffce9e\" height=\"45\" stroke=\"none\" width=\"45\" x=\"180\" y=\"180\"/><rect class=\"square dark f4\" fill=\"#d18b47\" height=\"45\" stroke=\"none\" width=\"45\" x=\"225\" y=\"180\"/><rect class=\"square light g4\" fill=\"#ffce9e\" height=\"45\" stroke=\"none\" width=\"45\" x=\"270\" y=\"180\"/><rect class=\"square dark h4\" fill=\"#d18b47\" height=\"45\" stroke=\"none\" width=\"45\" x=\"315\" y=\"180\"/><rect class=\"square dark a5\" fill=\"#d18b47\" height=\"45\" stroke=\"none\" width=\"45\" x=\"0\" y=\"135\"/><rect class=\"square light b5\" fill=\"#ffce9e\" height=\"45\" stroke=\"none\" width=\"45\" x=\"45\" y=\"135\"/><rect class=\"square dark c5\" fill=\"#d18b47\" height=\"45\" stroke=\"none\" width=\"45\" x=\"90\" y=\"135\"/><rect class=\"square light d5\" fill=\"#ffce9e\" height=\"45\" stroke=\"none\" width=\"45\" x=\"135\" y=\"135\"/><rect class=\"square dark e5\" fill=\"#d18b47\" height=\"45\" stroke=\"none\" width=\"45\" x=\"180\" y=\"135\"/><rect class=\"square light f5\" fill=\"#ffce9e\" height=\"45\" stroke=\"none\" width=\"45\" x=\"225\" y=\"135\"/><use transform=\"translate(225, 135)\" xlink:href=\"#white-queen\"/><rect class=\"square dark g5\" fill=\"#d18b47\" height=\"45\" stroke=\"none\" width=\"45\" x=\"270\" y=\"135\"/><rect class=\"square light h5\" fill=\"#ffce9e\" height=\"45\" stroke=\"none\" width=\"45\" x=\"315\" y=\"135\"/><rect class=\"square light a6\" fill=\"#ffce9e\" height=\"45\" stroke=\"none\" width=\"45\" x=\"0\" y=\"90\"/><rect class=\"square dark b6\" fill=\"#d18b47\" height=\"45\" stroke=\"none\" width=\"45\" x=\"45\" y=\"90\"/><rect class=\"square light c6\" fill=\"#ffce9e\" height=\"45\" stroke=\"none\" width=\"45\" x=\"90\" y=\"90\"/><use transform=\"translate(90, 90)\" xlink:href=\"#white-queen\"/><rect class=\"square dark d6\" fill=\"#d18b47\" height=\"45\" stroke=\"none\" width=\"45\" x=\"135\" y=\"90\"/><use transform=\"translate(135, 90)\" xlink:href=\"#white-queen\"/><rect class=\"square light e6\" fill=\"#ffce9e\" height=\"45\" stroke=\"none\" width=\"45\" x=\"180\" y=\"90\"/><use transform=\"translate(180, 90)\" xlink:href=\"#white-queen\"/><rect class=\"square dark f6\" fill=\"#d18b47\" height=\"45\" stroke=\"none\" width=\"45\" x=\"225\" y=\"90\"/><rect class=\"square light g6\" fill=\"#ffce9e\" height=\"45\" stroke=\"none\" width=\"45\" x=\"270\" y=\"90\"/><rect class=\"square dark h6\" fill=\"#d18b47\" height=\"45\" stroke=\"none\" width=\"45\" x=\"315\" y=\"90\"/><rect class=\"square dark a7\" fill=\"#d18b47\" height=\"45\" stroke=\"none\" width=\"45\" x=\"0\" y=\"45\"/><rect class=\"square light b7\" fill=\"#ffce9e\" height=\"45\" stroke=\"none\" width=\"45\" x=\"45\" y=\"45\"/><rect class=\"square dark c7\" fill=\"#d18b47\" height=\"45\" stroke=\"none\" width=\"45\" x=\"90\" y=\"45\"/><rect class=\"square light d7\" fill=\"#ffce9e\" height=\"45\" stroke=\"none\" width=\"45\" x=\"135\" y=\"45\"/><rect class=\"square dark e7\" fill=\"#d18b47\" height=\"45\" stroke=\"none\" width=\"45\" x=\"180\" y=\"45\"/><rect class=\"square light f7\" fill=\"#ffce9e\" height=\"45\" stroke=\"none\" width=\"45\" x=\"225\" y=\"45\"/><rect class=\"square dark g7\" fill=\"#d18b47\" height=\"45\" stroke=\"none\" width=\"45\" x=\"270\" y=\"45\"/><rect class=\"square light h7\" fill=\"#ffce9e\" height=\"45\" stroke=\"none\" width=\"45\" x=\"315\" y=\"45\"/><rect class=\"square light a8\" fill=\"#ffce9e\" height=\"45\" stroke=\"none\" width=\"45\" x=\"0\" y=\"0\"/><rect class=\"square dark b8\" fill=\"#d18b47\" height=\"45\" stroke=\"none\" width=\"45\" x=\"45\" y=\"0\"/><rect class=\"square light c8\" fill=\"#ffce9e\" height=\"45\" stroke=\"none\" width=\"45\" x=\"90\" y=\"0\"/><rect class=\"square dark d8\" fill=\"#d18b47\" height=\"45\" stroke=\"none\" width=\"45\" x=\"135\" y=\"0\"/><rect class=\"square light e8\" fill=\"#ffce9e\" height=\"45\" stroke=\"none\" width=\"45\" x=\"180\" y=\"0\"/><rect class=\"square dark f8\" fill=\"#d18b47\" height=\"45\" stroke=\"none\" width=\"45\" x=\"225\" y=\"0\"/><rect class=\"square light g8\" fill=\"#ffce9e\" height=\"45\" stroke=\"none\" width=\"45\" x=\"270\" y=\"0\"/><rect class=\"square dark h8\" fill=\"#d18b47\" height=\"45\" stroke=\"none\" width=\"45\" x=\"315\" y=\"0\"/><circle class=\"circle\" cx=\"157.5\" cy=\"337.5\" fill=\"none\" opacity=\"0.5\" r=\"20.25\" stroke=\"red\" stroke-width=\"4.5\"/><circle class=\"circle\" cx=\"157.5\" cy=\"292.5\" fill=\"none\" opacity=\"0.5\" r=\"20.25\" stroke=\"red\" stroke-width=\"4.5\"/><circle class=\"circle\" cx=\"337.5\" cy=\"202.5\" fill=\"none\" opacity=\"0.5\" r=\"20.25\" stroke=\"red\" stroke-width=\"4.5\"/></svg>"
      ],
      "text/plain": [
       "<IPython.core.display.SVG object>"
      ]
     },
     "metadata": {},
     "output_type": "display_data"
    },
    {
     "name": "stdout",
     "output_type": "stream",
     "text": [
      "64\n"
     ]
    },
    {
     "data": {
      "image/svg+xml": [
       "<svg version=\"1.1\" viewBox=\"0 0 360 360\" xmlns=\"http://www.w3.org/2000/svg\" xmlns:xlink=\"http://www.w3.org/1999/xlink\"><style>\n",
       ".square.light {\n",
       "fill: #cacaca;\n",
       "}\n",
       ".square.dark {\n",
       "fill: #898989;\n",
       "}\n",
       "#xx {\n",
       "fill: blue;\n",
       "stroke: red;\n",
       "}\n",
       ".square.light.lastmove {\n",
       "fill: #c3d889;\n",
       "}\n",
       ".square.dark.lastmove {\n",
       "fill: #92b167;\n",
       "}\n",
       ".check {\n",
       "fill: url(#check_gradient);\n",
       "}\n",
       ".arrow {\n",
       "stroke: #ff5858;\n",
       "fill: blue;\n",
       "}\n",
       ".mark {\n",
       "stroke: #959fff;\n",
       "fill: blue;\n",
       "}\n",
       "</style><defs><g class=\"white bishop\" fill=\"none\" fill-rule=\"evenodd\" id=\"white-bishop\" stroke=\"#000\" stroke-linecap=\"round\" stroke-linejoin=\"round\" stroke-width=\"1.5\"><g fill=\"#fff\" stroke-linecap=\"butt\"><path d=\"M9 36c3.39-.97 10.11.43 13.5-2 3.39 2.43 10.11 1.03 13.5 2 0 0 1.65.54 3 2-.68.97-1.65.99-3 .5-3.39-.97-10.11.46-13.5-1-3.39 1.46-10.11.03-13.5 1-1.354.49-2.323.47-3-.5 1.354-1.94 3-2 3-2zM15 32c2.5 2.5 12.5 2.5 15 0 .5-1.5 0-2 0-2 0-2.5-2.5-4-2.5-4 5.5-1.5 6-11.5-5-15.5-11 4-10.5 14-5 15.5 0 0-2.5 1.5-2.5 4 0 0-.5.5 0 2zM25 8a2.5 2.5 0 1 1-5 0 2.5 2.5 0 1 1 5 0z\"/></g><path d=\"M17.5 26h10M15 30h15m-7.5-14.5v5M20 18h5\" stroke-linejoin=\"miter\"/></g><g class=\"white queen\" fill=\"#fff\" fill-rule=\"evenodd\" id=\"white-queen\" stroke=\"#000\" stroke-linecap=\"round\" stroke-linejoin=\"round\" stroke-width=\"1.5\"><path d=\"M8 12a2 2 0 1 1-4 0 2 2 0 1 1 4 0zM24.5 7.5a2 2 0 1 1-4 0 2 2 0 1 1 4 0zM41 12a2 2 0 1 1-4 0 2 2 0 1 1 4 0zM16 8.5a2 2 0 1 1-4 0 2 2 0 1 1 4 0zM33 9a2 2 0 1 1-4 0 2 2 0 1 1 4 0z\"/><path d=\"M9 26c8.5-1.5 21-1.5 27 0l2-12-7 11V11l-5.5 13.5-3-15-3 15-5.5-14V25L7 14l2 12zM9 26c0 2 1.5 2 2.5 4 1 1.5 1 1 .5 3.5-1.5 1-1.5 2.5-1.5 2.5-1.5 1.5.5 2.5.5 2.5 6.5 1 16.5 1 23 0 0 0 1.5-1 0-2.5 0 0 .5-1.5-1-2.5-.5-2.5-.5-2 .5-3.5 1-2 2.5-2 2.5-4-8.5-1.5-18.5-1.5-27 0z\" stroke-linecap=\"butt\"/><path d=\"M11.5 30c3.5-1 18.5-1 22 0M12 33.5c6-1 15-1 21 0\" fill=\"none\"/></g></defs><rect class=\"square dark a1\" fill=\"#d18b47\" height=\"45\" stroke=\"none\" width=\"45\" x=\"0\" y=\"315\"/><rect class=\"square light b1\" fill=\"#ffce9e\" height=\"45\" stroke=\"none\" width=\"45\" x=\"45\" y=\"315\"/><rect class=\"square dark c1\" fill=\"#d18b47\" height=\"45\" stroke=\"none\" width=\"45\" x=\"90\" y=\"315\"/><rect class=\"square light d1\" fill=\"#ffce9e\" height=\"45\" stroke=\"none\" width=\"45\" x=\"135\" y=\"315\"/><rect class=\"square dark e1\" fill=\"#d18b47\" height=\"45\" stroke=\"none\" width=\"45\" x=\"180\" y=\"315\"/><rect class=\"square light f1\" fill=\"#ffce9e\" height=\"45\" stroke=\"none\" width=\"45\" x=\"225\" y=\"315\"/><rect class=\"square dark g1\" fill=\"#d18b47\" height=\"45\" stroke=\"none\" width=\"45\" x=\"270\" y=\"315\"/><rect class=\"square light h1\" fill=\"#ffce9e\" height=\"45\" stroke=\"none\" width=\"45\" x=\"315\" y=\"315\"/><rect class=\"square light a2\" fill=\"#ffce9e\" height=\"45\" stroke=\"none\" width=\"45\" x=\"0\" y=\"270\"/><rect class=\"square dark b2\" fill=\"#d18b47\" height=\"45\" stroke=\"none\" width=\"45\" x=\"45\" y=\"270\"/><rect class=\"square light c2\" fill=\"#ffce9e\" height=\"45\" stroke=\"none\" width=\"45\" x=\"90\" y=\"270\"/><rect class=\"square dark d2\" fill=\"#d18b47\" height=\"45\" stroke=\"none\" width=\"45\" x=\"135\" y=\"270\"/><rect class=\"square light e2\" fill=\"#ffce9e\" height=\"45\" stroke=\"none\" width=\"45\" x=\"180\" y=\"270\"/><rect class=\"square dark f2\" fill=\"#d18b47\" height=\"45\" stroke=\"none\" width=\"45\" x=\"225\" y=\"270\"/><rect class=\"square light g2\" fill=\"#ffce9e\" height=\"45\" stroke=\"none\" width=\"45\" x=\"270\" y=\"270\"/><rect class=\"square dark h2\" fill=\"#d18b47\" height=\"45\" stroke=\"none\" width=\"45\" x=\"315\" y=\"270\"/><rect class=\"square dark a3\" fill=\"#d18b47\" height=\"45\" stroke=\"none\" width=\"45\" x=\"0\" y=\"225\"/><rect class=\"square light b3\" fill=\"#ffce9e\" height=\"45\" stroke=\"none\" width=\"45\" x=\"45\" y=\"225\"/><rect class=\"square dark c3\" fill=\"#d18b47\" height=\"45\" stroke=\"none\" width=\"45\" x=\"90\" y=\"225\"/><rect class=\"square light d3\" fill=\"#ffce9e\" height=\"45\" stroke=\"none\" width=\"45\" x=\"135\" y=\"225\"/><use transform=\"translate(135, 225)\" xlink:href=\"#white-bishop\"/><rect class=\"square dark e3\" fill=\"#d18b47\" height=\"45\" stroke=\"none\" width=\"45\" x=\"180\" y=\"225\"/><rect class=\"square light f3\" fill=\"#ffce9e\" height=\"45\" stroke=\"none\" width=\"45\" x=\"225\" y=\"225\"/><rect class=\"square dark g3\" fill=\"#d18b47\" height=\"45\" stroke=\"none\" width=\"45\" x=\"270\" y=\"225\"/><rect class=\"square light h3\" fill=\"#ffce9e\" height=\"45\" stroke=\"none\" width=\"45\" x=\"315\" y=\"225\"/><rect class=\"square light a4\" fill=\"#ffce9e\" height=\"45\" stroke=\"none\" width=\"45\" x=\"0\" y=\"180\"/><rect class=\"square dark b4\" fill=\"#d18b47\" height=\"45\" stroke=\"none\" width=\"45\" x=\"45\" y=\"180\"/><rect class=\"square light c4\" fill=\"#ffce9e\" height=\"45\" stroke=\"none\" width=\"45\" x=\"90\" y=\"180\"/><rect class=\"square dark d4\" fill=\"#d18b47\" height=\"45\" stroke=\"none\" width=\"45\" x=\"135\" y=\"180\"/><rect class=\"square light e4\" fill=\"#ffce9e\" height=\"45\" stroke=\"none\" width=\"45\" x=\"180\" y=\"180\"/><rect class=\"square dark f4\" fill=\"#d18b47\" height=\"45\" stroke=\"none\" width=\"45\" x=\"225\" y=\"180\"/><rect class=\"square light g4\" fill=\"#ffce9e\" height=\"45\" stroke=\"none\" width=\"45\" x=\"270\" y=\"180\"/><rect class=\"square dark h4\" fill=\"#d18b47\" height=\"45\" stroke=\"none\" width=\"45\" x=\"315\" y=\"180\"/><use transform=\"translate(315, 180)\" xlink:href=\"#white-queen\"/><rect class=\"square dark a5\" fill=\"#d18b47\" height=\"45\" stroke=\"none\" width=\"45\" x=\"0\" y=\"135\"/><rect class=\"square light b5\" fill=\"#ffce9e\" height=\"45\" stroke=\"none\" width=\"45\" x=\"45\" y=\"135\"/><rect class=\"square dark c5\" fill=\"#d18b47\" height=\"45\" stroke=\"none\" width=\"45\" x=\"90\" y=\"135\"/><use transform=\"translate(90, 135)\" xlink:href=\"#white-queen\"/><rect class=\"square light d5\" fill=\"#ffce9e\" height=\"45\" stroke=\"none\" width=\"45\" x=\"135\" y=\"135\"/><use transform=\"translate(135, 135)\" xlink:href=\"#white-queen\"/><rect class=\"square dark e5\" fill=\"#d18b47\" height=\"45\" stroke=\"none\" width=\"45\" x=\"180\" y=\"135\"/><rect class=\"square light f5\" fill=\"#ffce9e\" height=\"45\" stroke=\"none\" width=\"45\" x=\"225\" y=\"135\"/><rect class=\"square dark g5\" fill=\"#d18b47\" height=\"45\" stroke=\"none\" width=\"45\" x=\"270\" y=\"135\"/><rect class=\"square light h5\" fill=\"#ffce9e\" height=\"45\" stroke=\"none\" width=\"45\" x=\"315\" y=\"135\"/><rect class=\"square light a6\" fill=\"#ffce9e\" height=\"45\" stroke=\"none\" width=\"45\" x=\"0\" y=\"90\"/><rect class=\"square dark b6\" fill=\"#d18b47\" height=\"45\" stroke=\"none\" width=\"45\" x=\"45\" y=\"90\"/><rect class=\"square light c6\" fill=\"#ffce9e\" height=\"45\" stroke=\"none\" width=\"45\" x=\"90\" y=\"90\"/><rect class=\"square dark d6\" fill=\"#d18b47\" height=\"45\" stroke=\"none\" width=\"45\" x=\"135\" y=\"90\"/><rect class=\"square light e6\" fill=\"#ffce9e\" height=\"45\" stroke=\"none\" width=\"45\" x=\"180\" y=\"90\"/><rect class=\"square dark f6\" fill=\"#d18b47\" height=\"45\" stroke=\"none\" width=\"45\" x=\"225\" y=\"90\"/><rect class=\"square light g6\" fill=\"#ffce9e\" height=\"45\" stroke=\"none\" width=\"45\" x=\"270\" y=\"90\"/><rect class=\"square dark h6\" fill=\"#d18b47\" height=\"45\" stroke=\"none\" width=\"45\" x=\"315\" y=\"90\"/><rect class=\"square dark a7\" fill=\"#d18b47\" height=\"45\" stroke=\"none\" width=\"45\" x=\"0\" y=\"45\"/><rect class=\"square light b7\" fill=\"#ffce9e\" height=\"45\" stroke=\"none\" width=\"45\" x=\"45\" y=\"45\"/><rect class=\"square dark c7\" fill=\"#d18b47\" height=\"45\" stroke=\"none\" width=\"45\" x=\"90\" y=\"45\"/><rect class=\"square light d7\" fill=\"#ffce9e\" height=\"45\" stroke=\"none\" width=\"45\" x=\"135\" y=\"45\"/><rect class=\"square dark e7\" fill=\"#d18b47\" height=\"45\" stroke=\"none\" width=\"45\" x=\"180\" y=\"45\"/><rect class=\"square light f7\" fill=\"#ffce9e\" height=\"45\" stroke=\"none\" width=\"45\" x=\"225\" y=\"45\"/><rect class=\"square dark g7\" fill=\"#d18b47\" height=\"45\" stroke=\"none\" width=\"45\" x=\"270\" y=\"45\"/><rect class=\"square light h7\" fill=\"#ffce9e\" height=\"45\" stroke=\"none\" width=\"45\" x=\"315\" y=\"45\"/><rect class=\"square light a8\" fill=\"#ffce9e\" height=\"45\" stroke=\"none\" width=\"45\" x=\"0\" y=\"0\"/><rect class=\"square dark b8\" fill=\"#d18b47\" height=\"45\" stroke=\"none\" width=\"45\" x=\"45\" y=\"0\"/><rect class=\"square light c8\" fill=\"#ffce9e\" height=\"45\" stroke=\"none\" width=\"45\" x=\"90\" y=\"0\"/><rect class=\"square dark d8\" fill=\"#d18b47\" height=\"45\" stroke=\"none\" width=\"45\" x=\"135\" y=\"0\"/><rect class=\"square light e8\" fill=\"#ffce9e\" height=\"45\" stroke=\"none\" width=\"45\" x=\"180\" y=\"0\"/><rect class=\"square dark f8\" fill=\"#d18b47\" height=\"45\" stroke=\"none\" width=\"45\" x=\"225\" y=\"0\"/><rect class=\"square light g8\" fill=\"#ffce9e\" height=\"45\" stroke=\"none\" width=\"45\" x=\"270\" y=\"0\"/><rect class=\"square dark h8\" fill=\"#d18b47\" height=\"45\" stroke=\"none\" width=\"45\" x=\"315\" y=\"0\"/><use transform=\"translate(315, 0)\" xlink:href=\"#white-queen\"/><circle class=\"circle\" cx=\"157.5\" cy=\"337.5\" fill=\"none\" opacity=\"0.5\" r=\"20.25\" stroke=\"red\" stroke-width=\"4.5\"/><circle class=\"circle\" cx=\"157.5\" cy=\"292.5\" fill=\"none\" opacity=\"0.5\" r=\"20.25\" stroke=\"red\" stroke-width=\"4.5\"/></svg>"
      ],
      "text/plain": [
       "<IPython.core.display.SVG object>"
      ]
     },
     "metadata": {},
     "output_type": "display_data"
    }
   ],
   "source": [
    "# display_chessboard(cmb)\n",
    "import chess\n",
    "import chess.svg\n",
    "from IPython.display import SVG, display\n",
    "\n",
    "recorded_solutions_percases, ntries\n",
    "\n",
    "for k in sorted(recorded_solutions_percases):\n",
    "    print(k)\n",
    "    display(SVG(display_chessboard(recorded_solutions_percases[k])))\n",
    "    with open('chess-try' + str(k) + '.svg', 'w') as f:\n",
    "        f.write(display_chessboard(recorded_solutions_percases[k]))"
   ]
  },
  {
   "cell_type": "code",
   "execution_count": 29,
   "metadata": {},
   "outputs": [
    {
     "name": "stdout",
     "output_type": "stream",
     "text": [
      "(0, 6, 29, 51, 3) => 64 592623\n",
      "(0, 12, 39, 57, 24) => 64 1116203\n",
      "(0, 12, 39, 57, 42) => 64 1116220\n",
      "(0, 12, 39, 57, 51) => 64 1116229\n",
      "(0, 12, 44, 52, 15) => 64 1122194\n",
      "(0, 12, 44, 52, 22) => 64 1122201\n",
      "(0, 12, 44, 52, 29) => 64 1122208\n",
      "(0, 12, 44, 52, 36) => 64 1122215\n",
      "(0, 12, 44, 52, 57) => 64 1122234\n",
      "(0, 15, 33, 60, 3) => 64 1318563\n",
      "(0, 15, 33, 60, 21) => 64 1318580\n",
      "(0, 15, 33, 60, 30) => 64 1318589\n",
      "(0, 15, 35, 44, 25) => 64 1321044\n",
      "(0, 15, 35, 44, 61) => 64 1321078\n",
      "(0, 20, 28, 60, 15) => 64 1606275\n",
      "(0, 20, 28, 60, 36) => 64 1606294\n",
      "(0, 20, 28, 60, 43) => 64 1606301\n",
      "(0, 20, 28, 60, 50) => 64 1606308\n",
      "(0, 20, 28, 60, 57) => 64 1606315\n",
      "(0, 20, 38, 50, 25) => 64 1623384\n",
      "(0, 20, 38, 50, 43) => 64 1623401\n",
      "(0, 20, 38, 50, 61) => 64 1623418\n",
      "(0, 22, 34, 52, 11) => 64 1717991\n",
      "(0, 22, 34, 52, 29) => 64 1718008\n",
      "(0, 22, 34, 52, 47) => 64 1718025\n",
      "(0, 28, 37, 43, 17) => 64 1969217\n",
      "(0, 28, 37, 43, 26) => 64 1969226\n",
      "(0, 28, 37, 43, 53) => 64 1969250\n",
      "(0, 28, 37, 43, 62) => 64 1969259\n",
      "(0, 28, 37, 57, 11) => 64 1970051\n",
      "(0, 28, 37, 57, 47) => 64 1970085\n",
      "(0, 29, 35, 44, 10) => 64 1999750\n",
      "(0, 29, 35, 44, 19) => 64 1999759\n",
      "(0, 29, 35, 44, 46) => 64 1999783\n",
      "(0, 29, 35, 44, 55) => 64 1999792\n",
      "(0, 30, 43, 48, 24) => 64 2042964\n",
      "(0, 33, 37, 38, 15) => 64 2118015\n",
      "(0, 33, 37, 38, 36) => 64 2118035\n",
      "(0, 33, 37, 38, 43) => 64 2118040\n",
      "(0, 33, 37, 38, 50) => 64 2118047\n",
      "(0, 33, 37, 38, 57) => 64 2118054\n",
      "(0, 34, 35, 39, 15) => 64 2139255\n",
      "(0, 34, 35, 39, 22) => 64 2139262\n",
      "(0, 34, 35, 39, 29) => 64 2139269\n",
      "(0, 34, 35, 39, 36) => 64 2139274\n",
      "(0, 34, 35, 39, 57) => 64 2139294\n",
      "(1, 7, 26, 52, 4) => 64 2947984\n",
      "(1, 8, 36, 45, 23) => 64 3055582\n",
      "(1, 8, 36, 45, 30) => 64 3055589\n",
      "(1, 8, 36, 45, 51) => 64 3055608\n",
      "(1, 8, 36, 45, 58) => 64 3055615\n",
      "(1, 13, 32, 44, 0) => 64 3446761\n",
      "(1, 13, 32, 44, 18) => 64 3446777\n",
      "(1, 13, 32, 44, 27) => 64 3446786\n",
      "(1, 13, 32, 44, 54) => 64 3446811\n",
      "(1, 13, 32, 44, 63) => 64 3446820\n",
      "(1, 14, 34, 45, 24) => 64 3520943\n",
      "(1, 14, 34, 45, 51) => 64 3520968\n",
      "(1, 14, 34, 45, 60) => 64 3520977\n",
      "(1, 15, 16, 44, 45) => 64 3548082\n",
      "(1, 19, 37, 55, 42) => 64 3837220\n",
      "(1, 21, 39, 51, 26) => 64 3945745\n",
      "(1, 22, 32, 44, 54) => 64 3983211\n",
      "(1, 29, 36, 56, 23) => 64 4271303\n",
      "(1, 29, 36, 56, 51) => 64 4271329\n",
      "(1, 29, 48, 58, 21) => 64 4286181\n",
      "(1, 31, 49, 60, 25) => 64 4348585\n",
      "(1, 31, 52, 56, 11) => 64 4350491\n",
      "(1, 31, 52, 56, 18) => 64 4350498\n",
      "(1, 31, 52, 56, 32) => 64 4350511\n",
      "(2, 8, 37, 57, 45) => 64 5217283\n",
      "(2, 14, 33, 52, 0) => 64 5679001\n",
      "(2, 14, 33, 52, 27) => 64 5679026\n",
      "(2, 14, 33, 52, 45) => 64 5679043\n",
      "(2, 14, 33, 52, 63) => 64 5679060\n",
      "(2, 22, 32, 52, 0) => 64 6143041\n",
      "(2, 22, 32, 52, 9) => 64 6143049\n",
      "(2, 22, 32, 52, 27) => 64 6143066\n",
      "(2, 22, 32, 52, 45) => 64 6143083\n",
      "(2, 22, 32, 52, 63) => 64 6143100\n",
      "(3, 14, 32, 62, 38) => 64 7731036\n",
      "(3, 15, 34, 46, 7) => 64 7801267\n",
      "(3, 15, 34, 46, 21) => 64 7801280\n",
      "(3, 15, 34, 46, 28) => 64 7801287\n",
      "(3, 15, 34, 46, 49) => 64 7801306\n",
      "(3, 15, 34, 46, 56) => 64 7801313\n",
      "(3, 15, 34, 53, 49) => 64 7801727\n",
      "(3, 21, 33, 55, 44) => 64 8149062\n",
      "(3, 21, 39, 49, 8) => 64 8158208\n",
      "(3, 21, 39, 49, 26) => 64 8158225\n",
      "(3, 21, 39, 49, 44) => 64 8158242\n",
      "(3, 21, 39, 49, 62) => 64 8158259\n",
      "(3, 23, 33, 53, 7) => 64 8244907\n",
      "(3, 23, 33, 53, 14) => 64 8244914\n",
      "(3, 23, 33, 53, 28) => 64 8244927\n",
      "(3, 23, 33, 53, 42) => 64 8244940\n",
      "(3, 23, 33, 53, 56) => 64 8244953\n",
      "(3, 30, 48, 63, 33) => 64 8530772\n",
      "(3, 30, 48, 63, 42) => 64 8530781\n",
      "(3, 30, 48, 63, 60) => 64 8530798\n",
      "(3, 31, 48, 54, 51) => 64 8560009\n",
      "(3, 35, 43, 63, 6) => 64 8656446\n",
      "(3, 35, 43, 63, 13) => 64 8656453\n",
      "(3, 35, 43, 63, 20) => 64 8656460\n",
      "(3, 35, 43, 63, 27) => 64 8656467\n",
      "(3, 35, 43, 63, 48) => 64 8656486\n",
      "(4, 8, 37, 41, 0) => 64 9220021\n",
      "(4, 8, 37, 41, 18) => 64 9220037\n",
      "(4, 8, 37, 41, 27) => 64 9220046\n",
      "(4, 8, 37, 41, 54) => 64 9220071\n",
      "(4, 8, 37, 41, 63) => 64 9220080\n",
      "(4, 8, 37, 50, 54) => 64 9220611\n",
      "(4, 9, 39, 57, 33) => 64 9309812\n",
      "(4, 16, 38, 50, 0) => 64 9823261\n",
      "(4, 16, 38, 50, 9) => 64 9823269\n",
      "(4, 16, 38, 50, 27) => 64 9823286\n",
      "(4, 16, 38, 50, 45) => 64 9823303\n",
      "(4, 16, 38, 50, 63) => 64 9823320\n",
      "(4, 18, 32, 54, 15) => 64 9935115\n",
      "(4, 18, 32, 54, 29) => 64 9935128\n",
      "(4, 18, 32, 54, 43) => 64 9935141\n",
      "(4, 18, 32, 54, 57) => 64 9935154\n",
      "(4, 18, 38, 48, 43) => 64 9944681\n",
      "alive!\n",
      "(4, 24, 49, 55, 52) => 64 10260710\n",
      "(4, 25, 55, 56, 38) => 64 10306717\n",
      "(4, 25, 55, 56, 45) => 64 10306724\n",
      "(4, 25, 55, 56, 59) => 64 10306736\n",
      "(4, 36, 44, 56, 1) => 64 10628762\n",
      "(4, 36, 44, 56, 10) => 64 10628770\n",
      "(4, 36, 44, 56, 19) => 64 10628779\n",
      "(4, 36, 44, 56, 28) => 64 10628788\n",
      "(4, 36, 44, 56, 55) => 64 10628813\n",
      "(5, 9, 38, 51, 7) => 64 11159347\n",
      "(5, 9, 38, 51, 28) => 64 11159367\n",
      "(5, 9, 38, 51, 42) => 64 11159380\n",
      "(5, 9, 38, 51, 56) => 64 11159393\n",
      "(5, 15, 34, 62, 42) => 64 11604160\n",
      "(5, 17, 39, 51, 7) => 64 11738227\n",
      "(5, 17, 39, 51, 14) => 64 11738234\n",
      "(5, 17, 39, 51, 28) => 64 11738247\n",
      "(5, 17, 39, 51, 42) => 64 11738260\n",
      "(5, 17, 39, 51, 56) => 64 11738273\n",
      "(6, 8, 23, 43, 42) => 64 12799840\n",
      "(6, 9, 37, 42, 31) => 64 12912930\n",
      "(6, 9, 37, 42, 52) => 64 12912949\n",
      "(6, 9, 37, 42, 59) => 64 12912956\n",
      "(6, 10, 39, 43, 7) => 64 12998587\n",
      "(6, 10, 39, 43, 21) => 64 12998600\n",
      "(6, 10, 39, 43, 28) => 64 12998607\n",
      "(6, 10, 39, 43, 49) => 64 12998626\n",
      "(6, 10, 39, 43, 56) => 64 12998633\n",
      "(6, 15, 35, 42, 16) => 64 13360215\n",
      "(6, 15, 35, 42, 25) => 64 13360224\n",
      "(6, 15, 35, 42, 52) => 64 13360249\n",
      "(6, 15, 35, 42, 61) => 64 13360258\n",
      "(6, 17, 39, 43, 49) => 64 13493386\n",
      "(6, 18, 32, 52, 29) => 64 13541968\n",
      "(6, 20, 34, 48, 45) => 64 13656223\n",
      "(6, 24, 51, 63, 12) => 64 13869612\n",
      "(6, 24, 51, 63, 21) => 64 13869621\n",
      "(6, 24, 51, 63, 39) => 64 13869638\n",
      "(6, 24, 54, 59, 30) => 64 13871189\n",
      "(6, 26, 35, 63, 16) => 64 13933036\n",
      "(6, 26, 35, 63, 52) => 64 13933070\n",
      "(6, 26, 55, 61, 18) => 64 13953918\n",
      "(7, 8, 36, 43, 30) => 64 14488769\n",
      "(7, 8, 36, 43, 58) => 64 14488795\n",
      "(7, 8, 38, 59, 4) => 64 14492765\n",
      "(7, 8, 38, 59, 18) => 64 14492777\n",
      "(7, 8, 38, 59, 25) => 64 14492784\n",
      "(7, 11, 32, 62, 31) => 64 14731170\n",
      "(7, 11, 32, 62, 45) => 64 14731183\n",
      "(7, 11, 32, 62, 52) => 64 14731190\n",
      "(7, 11, 43, 51, 8) => 64 14746988\n",
      "(7, 11, 43, 51, 17) => 64 14746996\n",
      "(7, 11, 43, 51, 26) => 64 14747005\n",
      "(7, 11, 43, 51, 35) => 64 14747014\n",
      "(7, 11, 43, 51, 62) => 64 14747039\n",
      "(7, 17, 37, 51, 12) => 64 15154092\n",
      "(7, 17, 37, 51, 26) => 64 15154105\n",
      "(7, 17, 37, 51, 40) => 64 15154118\n",
      "(7, 19, 27, 59, 8) => 64 15252428\n",
      "(7, 19, 27, 59, 35) => 64 15252453\n",
      "(7, 19, 27, 59, 44) => 64 15252462\n",
      "(7, 19, 27, 59, 53) => 64 15252471\n",
      "(7, 19, 27, 59, 62) => 64 15252479\n",
      "(7, 19, 33, 53, 30) => 64 15263789\n",
      "(7, 19, 33, 53, 44) => 64 15263802\n",
      "(7, 19, 33, 53, 58) => 64 15263815\n",
      "(7, 25, 44, 55, 31) => 64 15568230\n",
      "(7, 26, 36, 43, 13) => 64 15596653\n",
      "(7, 26, 36, 43, 20) => 64 15596660\n",
      "(7, 26, 36, 43, 41) => 64 15596679\n",
      "(7, 26, 36, 43, 48) => 64 15596685\n",
      "(7, 27, 34, 44, 22) => 64 15631222\n",
      "(7, 27, 34, 44, 29) => 64 15631228\n",
      "(7, 27, 34, 44, 50) => 64 15631247\n",
      "(7, 27, 34, 44, 57) => 64 15631254\n",
      "(7, 27, 34, 62, 12) => 64 15632292\n",
      "(7, 27, 34, 62, 40) => 64 15632318\n",
      "(7, 32, 36, 37, 8) => 64 15792788\n",
      "(7, 32, 36, 37, 17) => 64 15792797\n",
      "(7, 32, 36, 37, 26) => 64 15792806\n",
      "(7, 32, 36, 37, 35) => 64 15792814\n",
      "(7, 32, 36, 37, 62) => 64 15792839\n",
      "(7, 33, 34, 38, 8) => 64 15815648\n",
      "(7, 33, 34, 38, 35) => 64 15815673\n",
      "(7, 33, 34, 38, 44) => 64 15815681\n",
      "(7, 33, 34, 38, 53) => 64 15815690\n",
      "(7, 33, 34, 38, 62) => 64 15815699\n",
      "(8, 14, 39, 59, 11) => 64 16536971\n",
      "(8, 19, 38, 56, 32) => 64 16846171\n",
      "(8, 20, 45, 49, 3) => 64 16908724\n",
      "(8, 20, 45, 49, 30) => 64 16908749\n",
      "(8, 20, 45, 49, 39) => 64 16908758\n",
      "(8, 26, 44, 62, 21) => 64 17182701\n",
      "(8, 30, 42, 60, 19) => 64 17319079\n",
      "(9, 15, 32, 60, 12) => 64 18081612\n",
      "(9, 21, 44, 48, 31) => 64 18447510\n",
      "(9, 21, 44, 48, 38) => 64 18447517\n",
      "(9, 21, 44, 48, 59) => 64 18447536\n",
      "(9, 30, 40, 52, 7) => 64 18804248\n",
      "(9, 30, 40, 52, 21) => 64 18804261\n",
      "(9, 30, 40, 52, 35) => 64 18804274\n",
      "(9, 30, 40, 52, 56) => 64 18804293\n",
      "(9, 31, 45, 59, 6) => 64 18840427\n",
      "(9, 31, 45, 59, 20) => 64 18840440\n",
      "(9, 31, 45, 59, 34) => 64 18840453\n",
      "(9, 31, 45, 59, 48) => 64 18840466\n",
      "(10, 29, 48, 60, 14) => 64 20187494\n",
      "(10, 30, 40, 60, 7) => 64 20210288\n",
      "(10, 30, 40, 60, 21) => 64 20210301\n",
      "(10, 30, 40, 60, 35) => 64 20210314\n",
      "(10, 30, 40, 60, 49) => 64 20210327\n",
      "(10, 30, 40, 60, 56) => 64 20210334\n",
      "(10, 30, 44, 56, 5) => 64 20214966\n",
      "(10, 30, 44, 56, 19) => 64 20214979\n",
      "(10, 30, 44, 56, 33) => 64 20214992\n",
      "(11, 19, 51, 63, 6) => 64 21080407\n",
      "(11, 19, 51, 63, 27) => 64 21080426\n",
      "(11, 19, 51, 63, 34) => 64 21080433\n",
      "(11, 19, 51, 63, 41) => 64 21080440\n",
      "(11, 19, 51, 63, 48) => 64 21080447\n"
     ]
    },
    {
     "name": "stdout",
     "output_type": "stream",
     "text": [
      "(11, 23, 33, 54, 7) => 64 21259568\n",
      "(11, 23, 33, 54, 28) => 64 21259587\n",
      "(11, 23, 33, 54, 42) => 64 21259600\n",
      "(11, 23, 33, 54, 56) => 64 21259613\n",
      "(11, 29, 41, 63, 16) => 64 21506116\n",
      "(11, 29, 41, 63, 34) => 64 21506133\n",
      "(11, 29, 41, 63, 52) => 64 21506150\n",
      "(11, 30, 49, 61, 0) => 64 21546061\n",
      "(11, 30, 49, 61, 18) => 64 21546078\n",
      "(11, 30, 49, 61, 36) => 64 21546095\n",
      "(11, 30, 49, 61, 63) => 64 21546120\n",
      "(11, 31, 41, 61, 0) => 64 21567421\n",
      "(11, 31, 41, 61, 18) => 64 21567438\n",
      "(11, 31, 41, 61, 36) => 64 21567455\n",
      "(11, 31, 41, 61, 54) => 64 21567472\n",
      "(11, 31, 41, 61, 63) => 64 21567480\n",
      "(11, 31, 45, 57, 34) => 64 21571893\n",
      "(11, 37, 56, 62, 59) => 64 21721737\n",
      "(12, 16, 38, 49, 0) => 64 22136761\n",
      "(12, 16, 38, 49, 27) => 64 22136786\n",
      "(12, 16, 38, 49, 45) => 64 22136803\n",
      "(12, 16, 38, 49, 63) => 64 22136820\n",
      "(12, 20, 52, 56, 1) => 64 22384322\n",
      "(12, 20, 52, 56, 28) => 64 22384347\n",
      "(12, 20, 52, 56, 37) => 64 22384356\n",
      "(12, 20, 52, 56, 46) => 64 22384365\n",
      "(12, 20, 52, 56, 55) => 64 22384373\n",
      "(12, 24, 42, 62, 37) => 64 22567536\n",
      "(12, 24, 46, 58, 7) => 64 22571708\n",
      "(12, 24, 46, 58, 21) => 64 22571721\n",
      "(12, 24, 46, 58, 35) => 64 22571734\n",
      "(12, 24, 46, 58, 49) => 64 22571747\n",
      "(12, 24, 46, 58, 56) => 64 22571754\n",
      "(12, 25, 54, 58, 7) => 64 22619888\n",
      "(12, 25, 54, 58, 21) => 64 22619901\n",
      "(12, 25, 54, 58, 35) => 64 22619914\n",
      "(12, 25, 54, 58, 56) => 64 22619934\n",
      "(12, 26, 46, 56, 23) => 64 22653743\n",
      "(12, 26, 46, 56, 37) => 64 22653756\n",
      "(12, 26, 46, 56, 51) => 64 22653769\n",
      "(12, 34, 57, 63, 60) => 64 22908418\n",
      "(13, 25, 43, 63, 2) => 64 23786943\n",
      "(13, 25, 43, 63, 20) => 64 23786960\n",
      "(13, 25, 43, 63, 38) => 64 23786977\n",
      "(13, 25, 47, 59, 0) => 64 23790901\n",
      "(13, 25, 47, 59, 18) => 64 23790918\n",
      "(13, 25, 47, 59, 36) => 64 23790935\n",
      "(13, 25, 47, 59, 54) => 64 23790952\n",
      "(13, 25, 47, 59, 63) => 64 23790960\n",
      "(13, 26, 55, 59, 9) => 64 23836390\n",
      "(14, 18, 43, 55, 24) => 64 24546683\n",
      "(14, 18, 43, 55, 33) => 64 24546692\n",
      "(14, 18, 43, 55, 60) => 64 24546717\n",
      "(14, 24, 42, 60, 1) => 64 24848822\n",
      "(14, 24, 42, 60, 19) => 64 24848839\n",
      "(14, 24, 42, 60, 37) => 64 24848856\n",
      "(14, 24, 42, 60, 55) => 64 24848873\n",
      "(14, 25, 47, 51, 0) => 64 24895861\n",
      "(14, 25, 47, 51, 18) => 64 24895878\n",
      "(14, 25, 47, 51, 36) => 64 24895895\n",
      "(14, 25, 47, 51, 63) => 64 24895920\n",
      "(15, 19, 42, 54, 4) => 64 25639925\n",
      "(15, 19, 42, 54, 25) => 64 25639944\n",
      "(15, 19, 42, 54, 32) => 64 25639951\n",
      "(15, 20, 33, 63, 39) => 64 25681177\n",
      "(15, 25, 45, 59, 20) => 64 25932140\n",
      "(15, 29, 43, 57, 18) => 64 26076918\n",
      "(17, 29, 48, 60, 7) => 64 27965888\n",
      "(17, 29, 48, 60, 14) => 64 27965895\n",
      "(17, 29, 48, 60, 35) => 64 27965914\n",
      "(17, 29, 48, 60, 42) => 64 27965921\n",
      "(17, 29, 48, 60, 56) => 64 27965934\n",
      "(18, 27, 55, 62, 5) => 64 28752666\n",
      "(18, 27, 55, 62, 12) => 64 28752673\n",
      "(18, 27, 55, 62, 33) => 64 28752692\n",
      "(18, 27, 55, 62, 40) => 64 28752699\n",
      "(18, 29, 49, 62, 3) => 64 28818244\n",
      "(18, 29, 49, 62, 12) => 64 28818253\n",
      "(18, 29, 49, 62, 39) => 64 28818278\n",
      "(19, 28, 34, 63, 8) => 64 29560389\n",
      "(19, 28, 34, 63, 17) => 64 29560398\n",
      "(19, 28, 34, 63, 44) => 64 29560422\n",
      "(19, 28, 34, 63, 53) => 64 29560431\n",
      "(19, 28, 48, 63, 2) => 64 29578443\n",
      "(19, 28, 48, 63, 38) => 64 29578477\n",
      "(19, 29, 36, 56, 6) => 64 29596927\n",
      "(19, 29, 36, 56, 13) => 64 29596934\n",
      "(19, 29, 36, 56, 34) => 64 29596953\n",
      "(19, 29, 36, 56, 41) => 64 29596959\n",
      "(19, 31, 41, 62, 9) => 64 29665930\n",
      "(19, 31, 50, 62, 0) => 64 29675101\n",
      "(19, 31, 50, 62, 9) => 64 29675110\n",
      "(19, 31, 50, 62, 36) => 64 29675135\n",
      "(19, 31, 50, 62, 45) => 64 29675144\n",
      "(19, 31, 50, 62, 63) => 64 29675160\n",
      "(19, 47, 48, 62, 18) => 64 29937499\n",
      "(20, 24, 46, 57, 14) => 64 30161055\n",
      "(20, 24, 53, 57, 7) => 64 30166508\n",
      "(20, 24, 53, 57, 14) => 64 30166515\n",
      "(20, 24, 53, 57, 35) => 64 30166534\n",
      "(20, 24, 53, 57, 42) => 64 30166541\n",
      "(20, 24, 53, 57, 56) => 64 30166554\n",
      "(20, 26, 35, 63, 1) => 64 30229022\n",
      "(20, 26, 35, 63, 10) => 64 30229031\n",
      "(20, 26, 35, 63, 37) => 64 30229055\n",
      "(20, 26, 35, 63, 46) => 64 30229064\n",
      "(20, 27, 37, 56, 15) => 64 30269596\n",
      "(20, 27, 37, 56, 22) => 64 30269602\n",
      "(20, 27, 37, 56, 43) => 64 30269621\n",
      "(20, 27, 37, 56, 50) => 64 30269628\n",
      "(20, 27, 55, 56, 5) => 64 30287406\n",
      "(20, 27, 55, 56, 33) => 64 30287432\n",
      "(20, 40, 55, 57, 21) => 64 30609621\n",
      "(21, 26, 54, 57, 4) => 64 30937985\n",
      "(21, 26, 54, 57, 11) => 64 30937992\n",
      "(21, 26, 54, 57, 32) => 64 30938011\n",
      "(21, 28, 48, 57, 2) => 64 31007343\n",
      "(21, 28, 48, 57, 11) => 64 31007352\n",
      "(21, 28, 48, 57, 38) => 64 31007377\n",
      "(21, 28, 48, 57, 47) => 64 31007386\n",
      "(22, 26, 55, 59, 0) => 64 31578181\n",
      "(22, 26, 55, 59, 9) => 64 31578190\n",
      "(22, 26, 55, 59, 36) => 64 31578215\n",
      "(22, 26, 55, 59, 45) => 64 31578224\n",
      "(22, 26, 55, 59, 63) => 64 31578240\n",
      "(24, 28, 29, 63, 6) => 64 32761087\n",
      "(24, 28, 29, 63, 27) => 64 32761107\n",
      "(24, 28, 29, 63, 34) => 64 32761112\n",
      "(24, 28, 29, 63, 41) => 64 32761119\n",
      "(24, 28, 29, 63, 48) => 64 32761126\n",
      "(25, 26, 30, 63, 6) => 64 33195727\n",
      "(25, 26, 30, 63, 13) => 64 33195734\n",
      "(25, 26, 30, 63, 20) => 64 33195741\n",
      "(25, 26, 30, 63, 27) => 64 33195746\n",
      "(25, 26, 30, 63, 48) => 64 33195766\n",
      "(25, 29, 30, 56, 1) => 64 33302462\n",
      "(25, 29, 30, 56, 10) => 64 33302471\n",
      "(25, 29, 30, 56, 19) => 64 33302480\n",
      "(25, 29, 30, 56, 28) => 64 33302488\n",
      "(25, 29, 30, 56, 55) => 64 33302513\n",
      "(26, 27, 31, 56, 1) => 64 33701222\n",
      "(26, 27, 31, 56, 28) => 64 33701247\n",
      "(26, 27, 31, 56, 37) => 64 33701255\n",
      "(26, 27, 31, 56, 46) => 64 33701264\n",
      "(26, 27, 31, 56, 55) => 64 33701273\n"
     ]
    }
   ],
   "source": [
    "def nbcases_covered2(cmb):\n",
    "    board = chess.Board() \n",
    "    board.clear_board()\n",
    "    \n",
    "    for q in range(0, 4):\n",
    "        board.set_piece_at(cmb[q], chess.Piece(chess.QUEEN, color=True))\n",
    "    board.set_piece_at(cmb[4], chess.Piece(chess.BISHOP, color=True))  \n",
    "    \n",
    "    squares = []\n",
    "    for q in range(0, 5):\n",
    "        squares.append(cmb[q])\n",
    "        squares = squares + list(board.attacks(cmb[q]))\n",
    "    # squares = set(squares + list(board.attacks(cmb[4])))\n",
    "    return len(set(squares))\n",
    "\n",
    "recorded_solutions_percases = {}\n",
    "ntries = 0\n",
    "for cmb in gen_combinations():\n",
    "    n = nbcases_covered2(cmb)\n",
    "    recorded_solutions_percases[n] = cmb\n",
    "    ntries = ntries + 1\n",
    "    if (n > 63): # the solution(s)\n",
    "        print(cmb, \"=>\", n, ntries)\n",
    "    # if n <= 42: # sounds incredible\n",
    "    if ntries == 10000000: # monitor a bit \n",
    "        print(\"alive!\")\n",
    "#        print(cmb, \"=>\", n, ntries)\n"
   ]
  },
  {
   "cell_type": "code",
   "execution_count": 27,
   "metadata": {},
   "outputs": [
    {
     "data": {
      "image/svg+xml": [
       "<svg version=\"1.1\" viewBox=\"0 0 360 360\" xmlns=\"http://www.w3.org/2000/svg\" xmlns:xlink=\"http://www.w3.org/1999/xlink\"><style>\n",
       ".square.light {\n",
       "fill: #cacaca;\n",
       "}\n",
       ".square.dark {\n",
       "fill: #898989;\n",
       "}\n",
       "#xx {\n",
       "fill: blue;\n",
       "stroke: red;\n",
       "}\n",
       ".square.light.lastmove {\n",
       "fill: #c3d889;\n",
       "}\n",
       ".square.dark.lastmove {\n",
       "fill: #92b167;\n",
       "}\n",
       ".check {\n",
       "fill: url(#check_gradient);\n",
       "}\n",
       ".arrow {\n",
       "stroke: #ff5858;\n",
       "fill: blue;\n",
       "}\n",
       ".mark {\n",
       "stroke: #959fff;\n",
       "fill: blue;\n",
       "}\n",
       "</style><defs><g class=\"white bishop\" fill=\"none\" fill-rule=\"evenodd\" id=\"white-bishop\" stroke=\"#000\" stroke-linecap=\"round\" stroke-linejoin=\"round\" stroke-width=\"1.5\"><g fill=\"#fff\" stroke-linecap=\"butt\"><path d=\"M9 36c3.39-.97 10.11.43 13.5-2 3.39 2.43 10.11 1.03 13.5 2 0 0 1.65.54 3 2-.68.97-1.65.99-3 .5-3.39-.97-10.11.46-13.5-1-3.39 1.46-10.11.03-13.5 1-1.354.49-2.323.47-3-.5 1.354-1.94 3-2 3-2zM15 32c2.5 2.5 12.5 2.5 15 0 .5-1.5 0-2 0-2 0-2.5-2.5-4-2.5-4 5.5-1.5 6-11.5-5-15.5-11 4-10.5 14-5 15.5 0 0-2.5 1.5-2.5 4 0 0-.5.5 0 2zM25 8a2.5 2.5 0 1 1-5 0 2.5 2.5 0 1 1 5 0z\" /></g><path d=\"M17.5 26h10M15 30h15m-7.5-14.5v5M20 18h5\" stroke-linejoin=\"miter\" /></g><g class=\"white queen\" fill=\"#fff\" fill-rule=\"evenodd\" id=\"white-queen\" stroke=\"#000\" stroke-linecap=\"round\" stroke-linejoin=\"round\" stroke-width=\"1.5\"><path d=\"M8 12a2 2 0 1 1-4 0 2 2 0 1 1 4 0zM24.5 7.5a2 2 0 1 1-4 0 2 2 0 1 1 4 0zM41 12a2 2 0 1 1-4 0 2 2 0 1 1 4 0zM16 8.5a2 2 0 1 1-4 0 2 2 0 1 1 4 0zM33 9a2 2 0 1 1-4 0 2 2 0 1 1 4 0z\" /><path d=\"M9 26c8.5-1.5 21-1.5 27 0l2-12-7 11V11l-5.5 13.5-3-15-3 15-5.5-14V25L7 14l2 12zM9 26c0 2 1.5 2 2.5 4 1 1.5 1 1 .5 3.5-1.5 1-1.5 2.5-1.5 2.5-1.5 1.5.5 2.5.5 2.5 6.5 1 16.5 1 23 0 0 0 1.5-1 0-2.5 0 0 .5-1.5-1-2.5-.5-2.5-.5-2 .5-3.5 1-2 2.5-2 2.5-4-8.5-1.5-18.5-1.5-27 0z\" stroke-linecap=\"butt\" /><path d=\"M11.5 30c3.5-1 18.5-1 22 0M12 33.5c6-1 15-1 21 0\" fill=\"none\" /></g></defs><rect class=\"square dark a1\" fill=\"#d18b47\" height=\"45\" stroke=\"none\" width=\"45\" x=\"0\" y=\"315\" /><use transform=\"translate(0, 315)\" xlink:href=\"#white-queen\" /><rect class=\"square light b1\" fill=\"#ffce9e\" height=\"45\" stroke=\"none\" width=\"45\" x=\"45\" y=\"315\" /><rect class=\"square dark c1\" fill=\"#d18b47\" height=\"45\" stroke=\"none\" width=\"45\" x=\"90\" y=\"315\" /><rect class=\"square light d1\" fill=\"#ffce9e\" height=\"45\" stroke=\"none\" width=\"45\" x=\"135\" y=\"315\" /><use transform=\"translate(135, 315)\" xlink:href=\"#white-bishop\" /><rect class=\"square dark e1\" fill=\"#d18b47\" height=\"45\" stroke=\"none\" width=\"45\" x=\"180\" y=\"315\" /><rect class=\"square light f1\" fill=\"#ffce9e\" height=\"45\" stroke=\"none\" width=\"45\" x=\"225\" y=\"315\" /><rect class=\"square dark g1\" fill=\"#d18b47\" height=\"45\" stroke=\"none\" width=\"45\" x=\"270\" y=\"315\" /><use transform=\"translate(270, 315)\" xlink:href=\"#white-queen\" /><rect class=\"square light h1\" fill=\"#ffce9e\" height=\"45\" stroke=\"none\" width=\"45\" x=\"315\" y=\"315\" /><rect class=\"square light a2\" fill=\"#ffce9e\" height=\"45\" stroke=\"none\" width=\"45\" x=\"0\" y=\"270\" /><rect class=\"square dark b2\" fill=\"#d18b47\" height=\"45\" stroke=\"none\" width=\"45\" x=\"45\" y=\"270\" /><rect class=\"square light c2\" fill=\"#ffce9e\" height=\"45\" stroke=\"none\" width=\"45\" x=\"90\" y=\"270\" /><rect class=\"square dark d2\" fill=\"#d18b47\" height=\"45\" stroke=\"none\" width=\"45\" x=\"135\" y=\"270\" /><rect class=\"square light e2\" fill=\"#ffce9e\" height=\"45\" stroke=\"none\" width=\"45\" x=\"180\" y=\"270\" /><rect class=\"square dark f2\" fill=\"#d18b47\" height=\"45\" stroke=\"none\" width=\"45\" x=\"225\" y=\"270\" /><rect class=\"square light g2\" fill=\"#ffce9e\" height=\"45\" stroke=\"none\" width=\"45\" x=\"270\" y=\"270\" /><rect class=\"square dark h2\" fill=\"#d18b47\" height=\"45\" stroke=\"none\" width=\"45\" x=\"315\" y=\"270\" /><rect class=\"square dark a3\" fill=\"#d18b47\" height=\"45\" stroke=\"none\" width=\"45\" x=\"0\" y=\"225\" /><rect class=\"square light b3\" fill=\"#ffce9e\" height=\"45\" stroke=\"none\" width=\"45\" x=\"45\" y=\"225\" /><rect class=\"square dark c3\" fill=\"#d18b47\" height=\"45\" stroke=\"none\" width=\"45\" x=\"90\" y=\"225\" /><rect class=\"square light d3\" fill=\"#ffce9e\" height=\"45\" stroke=\"none\" width=\"45\" x=\"135\" y=\"225\" /><rect class=\"square dark e3\" fill=\"#d18b47\" height=\"45\" stroke=\"none\" width=\"45\" x=\"180\" y=\"225\" /><rect class=\"square light f3\" fill=\"#ffce9e\" height=\"45\" stroke=\"none\" width=\"45\" x=\"225\" y=\"225\" /><rect class=\"square dark g3\" fill=\"#d18b47\" height=\"45\" stroke=\"none\" width=\"45\" x=\"270\" y=\"225\" /><rect class=\"square light h3\" fill=\"#ffce9e\" height=\"45\" stroke=\"none\" width=\"45\" x=\"315\" y=\"225\" /><rect class=\"square light a4\" fill=\"#ffce9e\" height=\"45\" stroke=\"none\" width=\"45\" x=\"0\" y=\"180\" /><rect class=\"square dark b4\" fill=\"#d18b47\" height=\"45\" stroke=\"none\" width=\"45\" x=\"45\" y=\"180\" /><rect class=\"square light c4\" fill=\"#ffce9e\" height=\"45\" stroke=\"none\" width=\"45\" x=\"90\" y=\"180\" /><rect class=\"square dark d4\" fill=\"#d18b47\" height=\"45\" stroke=\"none\" width=\"45\" x=\"135\" y=\"180\" /><rect class=\"square light e4\" fill=\"#ffce9e\" height=\"45\" stroke=\"none\" width=\"45\" x=\"180\" y=\"180\" /><rect class=\"square dark f4\" fill=\"#d18b47\" height=\"45\" stroke=\"none\" width=\"45\" x=\"225\" y=\"180\" /><use transform=\"translate(225, 180)\" xlink:href=\"#white-queen\" /><rect class=\"square light g4\" fill=\"#ffce9e\" height=\"45\" stroke=\"none\" width=\"45\" x=\"270\" y=\"180\" /><rect class=\"square dark h4\" fill=\"#d18b47\" height=\"45\" stroke=\"none\" width=\"45\" x=\"315\" y=\"180\" /><rect class=\"square dark a5\" fill=\"#d18b47\" height=\"45\" stroke=\"none\" width=\"45\" x=\"0\" y=\"135\" /><rect class=\"square light b5\" fill=\"#ffce9e\" height=\"45\" stroke=\"none\" width=\"45\" x=\"45\" y=\"135\" /><rect class=\"square dark c5\" fill=\"#d18b47\" height=\"45\" stroke=\"none\" width=\"45\" x=\"90\" y=\"135\" /><rect class=\"square light d5\" fill=\"#ffce9e\" height=\"45\" stroke=\"none\" width=\"45\" x=\"135\" y=\"135\" /><rect class=\"square dark e5\" fill=\"#d18b47\" height=\"45\" stroke=\"none\" width=\"45\" x=\"180\" y=\"135\" /><rect class=\"square light f5\" fill=\"#ffce9e\" height=\"45\" stroke=\"none\" width=\"45\" x=\"225\" y=\"135\" /><rect class=\"square dark g5\" fill=\"#d18b47\" height=\"45\" stroke=\"none\" width=\"45\" x=\"270\" y=\"135\" /><rect class=\"square light h5\" fill=\"#ffce9e\" height=\"45\" stroke=\"none\" width=\"45\" x=\"315\" y=\"135\" /><rect class=\"square light a6\" fill=\"#ffce9e\" height=\"45\" stroke=\"none\" width=\"45\" x=\"0\" y=\"90\" /><rect class=\"square dark b6\" fill=\"#d18b47\" height=\"45\" stroke=\"none\" width=\"45\" x=\"45\" y=\"90\" /><rect class=\"square light c6\" fill=\"#ffce9e\" height=\"45\" stroke=\"none\" width=\"45\" x=\"90\" y=\"90\" /><rect class=\"square dark d6\" fill=\"#d18b47\" height=\"45\" stroke=\"none\" width=\"45\" x=\"135\" y=\"90\" /><rect class=\"square light e6\" fill=\"#ffce9e\" height=\"45\" stroke=\"none\" width=\"45\" x=\"180\" y=\"90\" /><rect class=\"square dark f6\" fill=\"#d18b47\" height=\"45\" stroke=\"none\" width=\"45\" x=\"225\" y=\"90\" /><rect class=\"square light g6\" fill=\"#ffce9e\" height=\"45\" stroke=\"none\" width=\"45\" x=\"270\" y=\"90\" /><rect class=\"square dark h6\" fill=\"#d18b47\" height=\"45\" stroke=\"none\" width=\"45\" x=\"315\" y=\"90\" /><rect class=\"square dark a7\" fill=\"#d18b47\" height=\"45\" stroke=\"none\" width=\"45\" x=\"0\" y=\"45\" /><rect class=\"square light b7\" fill=\"#ffce9e\" height=\"45\" stroke=\"none\" width=\"45\" x=\"45\" y=\"45\" /><rect class=\"square dark c7\" fill=\"#d18b47\" height=\"45\" stroke=\"none\" width=\"45\" x=\"90\" y=\"45\" /><rect class=\"square light d7\" fill=\"#ffce9e\" height=\"45\" stroke=\"none\" width=\"45\" x=\"135\" y=\"45\" /><use transform=\"translate(135, 45)\" xlink:href=\"#white-queen\" /><rect class=\"square dark e7\" fill=\"#d18b47\" height=\"45\" stroke=\"none\" width=\"45\" x=\"180\" y=\"45\" /><rect class=\"square light f7\" fill=\"#ffce9e\" height=\"45\" stroke=\"none\" width=\"45\" x=\"225\" y=\"45\" /><rect class=\"square dark g7\" fill=\"#d18b47\" height=\"45\" stroke=\"none\" width=\"45\" x=\"270\" y=\"45\" /><rect class=\"square light h7\" fill=\"#ffce9e\" height=\"45\" stroke=\"none\" width=\"45\" x=\"315\" y=\"45\" /><rect class=\"square light a8\" fill=\"#ffce9e\" height=\"45\" stroke=\"none\" width=\"45\" x=\"0\" y=\"0\" /><rect class=\"square dark b8\" fill=\"#d18b47\" height=\"45\" stroke=\"none\" width=\"45\" x=\"45\" y=\"0\" /><rect class=\"square light c8\" fill=\"#ffce9e\" height=\"45\" stroke=\"none\" width=\"45\" x=\"90\" y=\"0\" /><rect class=\"square dark d8\" fill=\"#d18b47\" height=\"45\" stroke=\"none\" width=\"45\" x=\"135\" y=\"0\" /><rect class=\"square light e8\" fill=\"#ffce9e\" height=\"45\" stroke=\"none\" width=\"45\" x=\"180\" y=\"0\" /><rect class=\"square dark f8\" fill=\"#d18b47\" height=\"45\" stroke=\"none\" width=\"45\" x=\"225\" y=\"0\" /><rect class=\"square light g8\" fill=\"#ffce9e\" height=\"45\" stroke=\"none\" width=\"45\" x=\"270\" y=\"0\" /><rect class=\"square dark h8\" fill=\"#d18b47\" height=\"45\" stroke=\"none\" width=\"45\" x=\"315\" y=\"0\" /></svg>"
      ],
      "text/plain": [
       "'<svg version=\"1.1\" viewBox=\"0 0 360 360\" xmlns=\"http://www.w3.org/2000/svg\" xmlns:xlink=\"http://www.w3.org/1999/xlink\"><style>\\n.square.light {\\nfill: #cacaca;\\n}\\n.square.dark {\\nfill: #898989;\\n}\\n#xx {\\nfill: blue;\\nstroke: red;\\n}\\n.square.light.lastmove {\\nfill: #c3d889;\\n}\\n.square.dark.lastmove {\\nfill: #92b167;\\n}\\n.check {\\nfill: url(#check_gradient);\\n}\\n.arrow {\\nstroke: #ff5858;\\nfill: blue;\\n}\\n.mark {\\nstroke: #959fff;\\nfill: blue;\\n}\\n</style><defs><g class=\"white bishop\" fill=\"none\" fill-rule=\"evenodd\" id=\"white-bishop\" stroke=\"#000\" stroke-linecap=\"round\" stroke-linejoin=\"round\" stroke-width=\"1.5\"><g fill=\"#fff\" stroke-linecap=\"butt\"><path d=\"M9 36c3.39-.97 10.11.43 13.5-2 3.39 2.43 10.11 1.03 13.5 2 0 0 1.65.54 3 2-.68.97-1.65.99-3 .5-3.39-.97-10.11.46-13.5-1-3.39 1.46-10.11.03-13.5 1-1.354.49-2.323.47-3-.5 1.354-1.94 3-2 3-2zM15 32c2.5 2.5 12.5 2.5 15 0 .5-1.5 0-2 0-2 0-2.5-2.5-4-2.5-4 5.5-1.5 6-11.5-5-15.5-11 4-10.5 14-5 15.5 0 0-2.5 1.5-2.5 4 0 0-.5.5 0 2zM25 8a2.5 2.5 0 1 1-5 0 2.5 2.5 0 1 1 5 0z\" /></g><path d=\"M17.5 26h10M15 30h15m-7.5-14.5v5M20 18h5\" stroke-linejoin=\"miter\" /></g><g class=\"white queen\" fill=\"#fff\" fill-rule=\"evenodd\" id=\"white-queen\" stroke=\"#000\" stroke-linecap=\"round\" stroke-linejoin=\"round\" stroke-width=\"1.5\"><path d=\"M8 12a2 2 0 1 1-4 0 2 2 0 1 1 4 0zM24.5 7.5a2 2 0 1 1-4 0 2 2 0 1 1 4 0zM41 12a2 2 0 1 1-4 0 2 2 0 1 1 4 0zM16 8.5a2 2 0 1 1-4 0 2 2 0 1 1 4 0zM33 9a2 2 0 1 1-4 0 2 2 0 1 1 4 0z\" /><path d=\"M9 26c8.5-1.5 21-1.5 27 0l2-12-7 11V11l-5.5 13.5-3-15-3 15-5.5-14V25L7 14l2 12zM9 26c0 2 1.5 2 2.5 4 1 1.5 1 1 .5 3.5-1.5 1-1.5 2.5-1.5 2.5-1.5 1.5.5 2.5.5 2.5 6.5 1 16.5 1 23 0 0 0 1.5-1 0-2.5 0 0 .5-1.5-1-2.5-.5-2.5-.5-2 .5-3.5 1-2 2.5-2 2.5-4-8.5-1.5-18.5-1.5-27 0z\" stroke-linecap=\"butt\" /><path d=\"M11.5 30c3.5-1 18.5-1 22 0M12 33.5c6-1 15-1 21 0\" fill=\"none\" /></g></defs><rect class=\"square dark a1\" fill=\"#d18b47\" height=\"45\" stroke=\"none\" width=\"45\" x=\"0\" y=\"315\" /><use transform=\"translate(0, 315)\" xlink:href=\"#white-queen\" /><rect class=\"square light b1\" fill=\"#ffce9e\" height=\"45\" stroke=\"none\" width=\"45\" x=\"45\" y=\"315\" /><rect class=\"square dark c1\" fill=\"#d18b47\" height=\"45\" stroke=\"none\" width=\"45\" x=\"90\" y=\"315\" /><rect class=\"square light d1\" fill=\"#ffce9e\" height=\"45\" stroke=\"none\" width=\"45\" x=\"135\" y=\"315\" /><use transform=\"translate(135, 315)\" xlink:href=\"#white-bishop\" /><rect class=\"square dark e1\" fill=\"#d18b47\" height=\"45\" stroke=\"none\" width=\"45\" x=\"180\" y=\"315\" /><rect class=\"square light f1\" fill=\"#ffce9e\" height=\"45\" stroke=\"none\" width=\"45\" x=\"225\" y=\"315\" /><rect class=\"square dark g1\" fill=\"#d18b47\" height=\"45\" stroke=\"none\" width=\"45\" x=\"270\" y=\"315\" /><use transform=\"translate(270, 315)\" xlink:href=\"#white-queen\" /><rect class=\"square light h1\" fill=\"#ffce9e\" height=\"45\" stroke=\"none\" width=\"45\" x=\"315\" y=\"315\" /><rect class=\"square light a2\" fill=\"#ffce9e\" height=\"45\" stroke=\"none\" width=\"45\" x=\"0\" y=\"270\" /><rect class=\"square dark b2\" fill=\"#d18b47\" height=\"45\" stroke=\"none\" width=\"45\" x=\"45\" y=\"270\" /><rect class=\"square light c2\" fill=\"#ffce9e\" height=\"45\" stroke=\"none\" width=\"45\" x=\"90\" y=\"270\" /><rect class=\"square dark d2\" fill=\"#d18b47\" height=\"45\" stroke=\"none\" width=\"45\" x=\"135\" y=\"270\" /><rect class=\"square light e2\" fill=\"#ffce9e\" height=\"45\" stroke=\"none\" width=\"45\" x=\"180\" y=\"270\" /><rect class=\"square dark f2\" fill=\"#d18b47\" height=\"45\" stroke=\"none\" width=\"45\" x=\"225\" y=\"270\" /><rect class=\"square light g2\" fill=\"#ffce9e\" height=\"45\" stroke=\"none\" width=\"45\" x=\"270\" y=\"270\" /><rect class=\"square dark h2\" fill=\"#d18b47\" height=\"45\" stroke=\"none\" width=\"45\" x=\"315\" y=\"270\" /><rect class=\"square dark a3\" fill=\"#d18b47\" height=\"45\" stroke=\"none\" width=\"45\" x=\"0\" y=\"225\" /><rect class=\"square light b3\" fill=\"#ffce9e\" height=\"45\" stroke=\"none\" width=\"45\" x=\"45\" y=\"225\" /><rect class=\"square dark c3\" fill=\"#d18b47\" height=\"45\" stroke=\"none\" width=\"45\" x=\"90\" y=\"225\" /><rect class=\"square light d3\" fill=\"#ffce9e\" height=\"45\" stroke=\"none\" width=\"45\" x=\"135\" y=\"225\" /><rect class=\"square dark e3\" fill=\"#d18b47\" height=\"45\" stroke=\"none\" width=\"45\" x=\"180\" y=\"225\" /><rect class=\"square light f3\" fill=\"#ffce9e\" height=\"45\" stroke=\"none\" width=\"45\" x=\"225\" y=\"225\" /><rect class=\"square dark g3\" fill=\"#d18b47\" height=\"45\" stroke=\"none\" width=\"45\" x=\"270\" y=\"225\" /><rect class=\"square light h3\" fill=\"#ffce9e\" height=\"45\" stroke=\"none\" width=\"45\" x=\"315\" y=\"225\" /><rect class=\"square light a4\" fill=\"#ffce9e\" height=\"45\" stroke=\"none\" width=\"45\" x=\"0\" y=\"180\" /><rect class=\"square dark b4\" fill=\"#d18b47\" height=\"45\" stroke=\"none\" width=\"45\" x=\"45\" y=\"180\" /><rect class=\"square light c4\" fill=\"#ffce9e\" height=\"45\" stroke=\"none\" width=\"45\" x=\"90\" y=\"180\" /><rect class=\"square dark d4\" fill=\"#d18b47\" height=\"45\" stroke=\"none\" width=\"45\" x=\"135\" y=\"180\" /><rect class=\"square light e4\" fill=\"#ffce9e\" height=\"45\" stroke=\"none\" width=\"45\" x=\"180\" y=\"180\" /><rect class=\"square dark f4\" fill=\"#d18b47\" height=\"45\" stroke=\"none\" width=\"45\" x=\"225\" y=\"180\" /><use transform=\"translate(225, 180)\" xlink:href=\"#white-queen\" /><rect class=\"square light g4\" fill=\"#ffce9e\" height=\"45\" stroke=\"none\" width=\"45\" x=\"270\" y=\"180\" /><rect class=\"square dark h4\" fill=\"#d18b47\" height=\"45\" stroke=\"none\" width=\"45\" x=\"315\" y=\"180\" /><rect class=\"square dark a5\" fill=\"#d18b47\" height=\"45\" stroke=\"none\" width=\"45\" x=\"0\" y=\"135\" /><rect class=\"square light b5\" fill=\"#ffce9e\" height=\"45\" stroke=\"none\" width=\"45\" x=\"45\" y=\"135\" /><rect class=\"square dark c5\" fill=\"#d18b47\" height=\"45\" stroke=\"none\" width=\"45\" x=\"90\" y=\"135\" /><rect class=\"square light d5\" fill=\"#ffce9e\" height=\"45\" stroke=\"none\" width=\"45\" x=\"135\" y=\"135\" /><rect class=\"square dark e5\" fill=\"#d18b47\" height=\"45\" stroke=\"none\" width=\"45\" x=\"180\" y=\"135\" /><rect class=\"square light f5\" fill=\"#ffce9e\" height=\"45\" stroke=\"none\" width=\"45\" x=\"225\" y=\"135\" /><rect class=\"square dark g5\" fill=\"#d18b47\" height=\"45\" stroke=\"none\" width=\"45\" x=\"270\" y=\"135\" /><rect class=\"square light h5\" fill=\"#ffce9e\" height=\"45\" stroke=\"none\" width=\"45\" x=\"315\" y=\"135\" /><rect class=\"square light a6\" fill=\"#ffce9e\" height=\"45\" stroke=\"none\" width=\"45\" x=\"0\" y=\"90\" /><rect class=\"square dark b6\" fill=\"#d18b47\" height=\"45\" stroke=\"none\" width=\"45\" x=\"45\" y=\"90\" /><rect class=\"square light c6\" fill=\"#ffce9e\" height=\"45\" stroke=\"none\" width=\"45\" x=\"90\" y=\"90\" /><rect class=\"square dark d6\" fill=\"#d18b47\" height=\"45\" stroke=\"none\" width=\"45\" x=\"135\" y=\"90\" /><rect class=\"square light e6\" fill=\"#ffce9e\" height=\"45\" stroke=\"none\" width=\"45\" x=\"180\" y=\"90\" /><rect class=\"square dark f6\" fill=\"#d18b47\" height=\"45\" stroke=\"none\" width=\"45\" x=\"225\" y=\"90\" /><rect class=\"square light g6\" fill=\"#ffce9e\" height=\"45\" stroke=\"none\" width=\"45\" x=\"270\" y=\"90\" /><rect class=\"square dark h6\" fill=\"#d18b47\" height=\"45\" stroke=\"none\" width=\"45\" x=\"315\" y=\"90\" /><rect class=\"square dark a7\" fill=\"#d18b47\" height=\"45\" stroke=\"none\" width=\"45\" x=\"0\" y=\"45\" /><rect class=\"square light b7\" fill=\"#ffce9e\" height=\"45\" stroke=\"none\" width=\"45\" x=\"45\" y=\"45\" /><rect class=\"square dark c7\" fill=\"#d18b47\" height=\"45\" stroke=\"none\" width=\"45\" x=\"90\" y=\"45\" /><rect class=\"square light d7\" fill=\"#ffce9e\" height=\"45\" stroke=\"none\" width=\"45\" x=\"135\" y=\"45\" /><use transform=\"translate(135, 45)\" xlink:href=\"#white-queen\" /><rect class=\"square dark e7\" fill=\"#d18b47\" height=\"45\" stroke=\"none\" width=\"45\" x=\"180\" y=\"45\" /><rect class=\"square light f7\" fill=\"#ffce9e\" height=\"45\" stroke=\"none\" width=\"45\" x=\"225\" y=\"45\" /><rect class=\"square dark g7\" fill=\"#d18b47\" height=\"45\" stroke=\"none\" width=\"45\" x=\"270\" y=\"45\" /><rect class=\"square light h7\" fill=\"#ffce9e\" height=\"45\" stroke=\"none\" width=\"45\" x=\"315\" y=\"45\" /><rect class=\"square light a8\" fill=\"#ffce9e\" height=\"45\" stroke=\"none\" width=\"45\" x=\"0\" y=\"0\" /><rect class=\"square dark b8\" fill=\"#d18b47\" height=\"45\" stroke=\"none\" width=\"45\" x=\"45\" y=\"0\" /><rect class=\"square light c8\" fill=\"#ffce9e\" height=\"45\" stroke=\"none\" width=\"45\" x=\"90\" y=\"0\" /><rect class=\"square dark d8\" fill=\"#d18b47\" height=\"45\" stroke=\"none\" width=\"45\" x=\"135\" y=\"0\" /><rect class=\"square light e8\" fill=\"#ffce9e\" height=\"45\" stroke=\"none\" width=\"45\" x=\"180\" y=\"0\" /><rect class=\"square dark f8\" fill=\"#d18b47\" height=\"45\" stroke=\"none\" width=\"45\" x=\"225\" y=\"0\" /><rect class=\"square light g8\" fill=\"#ffce9e\" height=\"45\" stroke=\"none\" width=\"45\" x=\"270\" y=\"0\" /><rect class=\"square dark h8\" fill=\"#d18b47\" height=\"45\" stroke=\"none\" width=\"45\" x=\"315\" y=\"0\" /></svg>'"
      ]
     },
     "execution_count": 27,
     "metadata": {},
     "output_type": "execute_result"
    }
   ],
   "source": [
    "display_chessboard((0, 6, 29, 51, 3))"
   ]
  },
  {
   "cell_type": "code",
   "execution_count": 30,
   "metadata": {},
   "outputs": [
    {
     "data": {
      "text/plain": [
       "({52: (60, 61, 62, 63, 59),\n",
       "  53: (60, 61, 62, 63, 57),\n",
       "  51: (60, 61, 62, 63, 55),\n",
       "  47: (60, 61, 62, 63, 54),\n",
       "  48: (60, 61, 62, 63, 52),\n",
       "  55: (60, 61, 62, 63, 50),\n",
       "  54: (60, 61, 62, 63, 49),\n",
       "  50: (60, 61, 62, 63, 47),\n",
       "  56: (60, 61, 62, 63, 41),\n",
       "  49: (60, 61, 62, 63, 39),\n",
       "  46: (59, 61, 62, 63, 54),\n",
       "  45: (57, 61, 62, 63, 54),\n",
       "  43: (55, 61, 62, 63, 54),\n",
       "  44: (57, 59, 61, 63, 45),\n",
       "  57: (55, 61, 62, 63, 33),\n",
       "  39: (54, 61, 62, 63, 53),\n",
       "  58: (55, 60, 61, 62, 63),\n",
       "  59: (55, 60, 61, 62, 27),\n",
       "  42: (55, 60, 62, 63, 54),\n",
       "  60: (55, 60, 61, 62, 18),\n",
       "  61: (47, 54, 60, 61, 17),\n",
       "  41: (54, 55, 60, 63, 46),\n",
       "  62: (46, 53, 60, 63, 25),\n",
       "  63: (36, 37, 38, 49, 17),\n",
       "  64: (26, 27, 31, 56, 55),\n",
       "  40: (53, 60, 61, 62, 52)},\n",
       " 38122560)"
      ]
     },
     "execution_count": 30,
     "metadata": {},
     "output_type": "execute_result"
    }
   ],
   "source": [
    "recorded_solutions_percases, ntries"
   ]
  },
  {
   "cell_type": "code",
   "execution_count": 31,
   "metadata": {},
   "outputs": [
    {
     "name": "stdout",
     "output_type": "stream",
     "text": [
      "39\n"
     ]
    },
    {
     "data": {
      "image/svg+xml": [
       "<svg version=\"1.1\" viewBox=\"0 0 360 360\" xmlns=\"http://www.w3.org/2000/svg\" xmlns:xlink=\"http://www.w3.org/1999/xlink\"><style>\n",
       ".square.light {\n",
       "fill: #cacaca;\n",
       "}\n",
       ".square.dark {\n",
       "fill: #898989;\n",
       "}\n",
       "#xx {\n",
       "fill: blue;\n",
       "stroke: red;\n",
       "}\n",
       ".square.light.lastmove {\n",
       "fill: #c3d889;\n",
       "}\n",
       ".square.dark.lastmove {\n",
       "fill: #92b167;\n",
       "}\n",
       ".check {\n",
       "fill: url(#check_gradient);\n",
       "}\n",
       ".arrow {\n",
       "stroke: #ff5858;\n",
       "fill: blue;\n",
       "}\n",
       ".mark {\n",
       "stroke: #959fff;\n",
       "fill: blue;\n",
       "}\n",
       "</style><defs><g class=\"white bishop\" fill=\"none\" fill-rule=\"evenodd\" id=\"white-bishop\" stroke=\"#000\" stroke-linecap=\"round\" stroke-linejoin=\"round\" stroke-width=\"1.5\"><g fill=\"#fff\" stroke-linecap=\"butt\"><path d=\"M9 36c3.39-.97 10.11.43 13.5-2 3.39 2.43 10.11 1.03 13.5 2 0 0 1.65.54 3 2-.68.97-1.65.99-3 .5-3.39-.97-10.11.46-13.5-1-3.39 1.46-10.11.03-13.5 1-1.354.49-2.323.47-3-.5 1.354-1.94 3-2 3-2zM15 32c2.5 2.5 12.5 2.5 15 0 .5-1.5 0-2 0-2 0-2.5-2.5-4-2.5-4 5.5-1.5 6-11.5-5-15.5-11 4-10.5 14-5 15.5 0 0-2.5 1.5-2.5 4 0 0-.5.5 0 2zM25 8a2.5 2.5 0 1 1-5 0 2.5 2.5 0 1 1 5 0z\"/></g><path d=\"M17.5 26h10M15 30h15m-7.5-14.5v5M20 18h5\" stroke-linejoin=\"miter\"/></g><g class=\"white queen\" fill=\"#fff\" fill-rule=\"evenodd\" id=\"white-queen\" stroke=\"#000\" stroke-linecap=\"round\" stroke-linejoin=\"round\" stroke-width=\"1.5\"><path d=\"M8 12a2 2 0 1 1-4 0 2 2 0 1 1 4 0zM24.5 7.5a2 2 0 1 1-4 0 2 2 0 1 1 4 0zM41 12a2 2 0 1 1-4 0 2 2 0 1 1 4 0zM16 8.5a2 2 0 1 1-4 0 2 2 0 1 1 4 0zM33 9a2 2 0 1 1-4 0 2 2 0 1 1 4 0z\"/><path d=\"M9 26c8.5-1.5 21-1.5 27 0l2-12-7 11V11l-5.5 13.5-3-15-3 15-5.5-14V25L7 14l2 12zM9 26c0 2 1.5 2 2.5 4 1 1.5 1 1 .5 3.5-1.5 1-1.5 2.5-1.5 2.5-1.5 1.5.5 2.5.5 2.5 6.5 1 16.5 1 23 0 0 0 1.5-1 0-2.5 0 0 .5-1.5-1-2.5-.5-2.5-.5-2 .5-3.5 1-2 2.5-2 2.5-4-8.5-1.5-18.5-1.5-27 0z\" stroke-linecap=\"butt\"/><path d=\"M11.5 30c3.5-1 18.5-1 22 0M12 33.5c6-1 15-1 21 0\" fill=\"none\"/></g></defs><rect class=\"square dark a1\" fill=\"#d18b47\" height=\"45\" stroke=\"none\" width=\"45\" x=\"0\" y=\"315\"/><rect class=\"square light b1\" fill=\"#ffce9e\" height=\"45\" stroke=\"none\" width=\"45\" x=\"45\" y=\"315\"/><rect class=\"square dark c1\" fill=\"#d18b47\" height=\"45\" stroke=\"none\" width=\"45\" x=\"90\" y=\"315\"/><rect class=\"square light d1\" fill=\"#ffce9e\" height=\"45\" stroke=\"none\" width=\"45\" x=\"135\" y=\"315\"/><rect class=\"square dark e1\" fill=\"#d18b47\" height=\"45\" stroke=\"none\" width=\"45\" x=\"180\" y=\"315\"/><rect class=\"square light f1\" fill=\"#ffce9e\" height=\"45\" stroke=\"none\" width=\"45\" x=\"225\" y=\"315\"/><rect class=\"square dark g1\" fill=\"#d18b47\" height=\"45\" stroke=\"none\" width=\"45\" x=\"270\" y=\"315\"/><rect class=\"square light h1\" fill=\"#ffce9e\" height=\"45\" stroke=\"none\" width=\"45\" x=\"315\" y=\"315\"/><rect class=\"square light a2\" fill=\"#ffce9e\" height=\"45\" stroke=\"none\" width=\"45\" x=\"0\" y=\"270\"/><rect class=\"square dark b2\" fill=\"#d18b47\" height=\"45\" stroke=\"none\" width=\"45\" x=\"45\" y=\"270\"/><rect class=\"square light c2\" fill=\"#ffce9e\" height=\"45\" stroke=\"none\" width=\"45\" x=\"90\" y=\"270\"/><rect class=\"square dark d2\" fill=\"#d18b47\" height=\"45\" stroke=\"none\" width=\"45\" x=\"135\" y=\"270\"/><rect class=\"square light e2\" fill=\"#ffce9e\" height=\"45\" stroke=\"none\" width=\"45\" x=\"180\" y=\"270\"/><rect class=\"square dark f2\" fill=\"#d18b47\" height=\"45\" stroke=\"none\" width=\"45\" x=\"225\" y=\"270\"/><rect class=\"square light g2\" fill=\"#ffce9e\" height=\"45\" stroke=\"none\" width=\"45\" x=\"270\" y=\"270\"/><rect class=\"square dark h2\" fill=\"#d18b47\" height=\"45\" stroke=\"none\" width=\"45\" x=\"315\" y=\"270\"/><rect class=\"square dark a3\" fill=\"#d18b47\" height=\"45\" stroke=\"none\" width=\"45\" x=\"0\" y=\"225\"/><rect class=\"square light b3\" fill=\"#ffce9e\" height=\"45\" stroke=\"none\" width=\"45\" x=\"45\" y=\"225\"/><rect class=\"square dark c3\" fill=\"#d18b47\" height=\"45\" stroke=\"none\" width=\"45\" x=\"90\" y=\"225\"/><rect class=\"square light d3\" fill=\"#ffce9e\" height=\"45\" stroke=\"none\" width=\"45\" x=\"135\" y=\"225\"/><rect class=\"square dark e3\" fill=\"#d18b47\" height=\"45\" stroke=\"none\" width=\"45\" x=\"180\" y=\"225\"/><rect class=\"square light f3\" fill=\"#ffce9e\" height=\"45\" stroke=\"none\" width=\"45\" x=\"225\" y=\"225\"/><rect class=\"square dark g3\" fill=\"#d18b47\" height=\"45\" stroke=\"none\" width=\"45\" x=\"270\" y=\"225\"/><rect class=\"square light h3\" fill=\"#ffce9e\" height=\"45\" stroke=\"none\" width=\"45\" x=\"315\" y=\"225\"/><rect class=\"square light a4\" fill=\"#ffce9e\" height=\"45\" stroke=\"none\" width=\"45\" x=\"0\" y=\"180\"/><rect class=\"square dark b4\" fill=\"#d18b47\" height=\"45\" stroke=\"none\" width=\"45\" x=\"45\" y=\"180\"/><rect class=\"square light c4\" fill=\"#ffce9e\" height=\"45\" stroke=\"none\" width=\"45\" x=\"90\" y=\"180\"/><rect class=\"square dark d4\" fill=\"#d18b47\" height=\"45\" stroke=\"none\" width=\"45\" x=\"135\" y=\"180\"/><rect class=\"square light e4\" fill=\"#ffce9e\" height=\"45\" stroke=\"none\" width=\"45\" x=\"180\" y=\"180\"/><rect class=\"square dark f4\" fill=\"#d18b47\" height=\"45\" stroke=\"none\" width=\"45\" x=\"225\" y=\"180\"/><rect class=\"square light g4\" fill=\"#ffce9e\" height=\"45\" stroke=\"none\" width=\"45\" x=\"270\" y=\"180\"/><rect class=\"square dark h4\" fill=\"#d18b47\" height=\"45\" stroke=\"none\" width=\"45\" x=\"315\" y=\"180\"/><rect class=\"square dark a5\" fill=\"#d18b47\" height=\"45\" stroke=\"none\" width=\"45\" x=\"0\" y=\"135\"/><rect class=\"square light b5\" fill=\"#ffce9e\" height=\"45\" stroke=\"none\" width=\"45\" x=\"45\" y=\"135\"/><rect class=\"square dark c5\" fill=\"#d18b47\" height=\"45\" stroke=\"none\" width=\"45\" x=\"90\" y=\"135\"/><rect class=\"square light d5\" fill=\"#ffce9e\" height=\"45\" stroke=\"none\" width=\"45\" x=\"135\" y=\"135\"/><rect class=\"square dark e5\" fill=\"#d18b47\" height=\"45\" stroke=\"none\" width=\"45\" x=\"180\" y=\"135\"/><rect class=\"square light f5\" fill=\"#ffce9e\" height=\"45\" stroke=\"none\" width=\"45\" x=\"225\" y=\"135\"/><rect class=\"square dark g5\" fill=\"#d18b47\" height=\"45\" stroke=\"none\" width=\"45\" x=\"270\" y=\"135\"/><rect class=\"square light h5\" fill=\"#ffce9e\" height=\"45\" stroke=\"none\" width=\"45\" x=\"315\" y=\"135\"/><rect class=\"square light a6\" fill=\"#ffce9e\" height=\"45\" stroke=\"none\" width=\"45\" x=\"0\" y=\"90\"/><rect class=\"square dark b6\" fill=\"#d18b47\" height=\"45\" stroke=\"none\" width=\"45\" x=\"45\" y=\"90\"/><rect class=\"square light c6\" fill=\"#ffce9e\" height=\"45\" stroke=\"none\" width=\"45\" x=\"90\" y=\"90\"/><rect class=\"square dark d6\" fill=\"#d18b47\" height=\"45\" stroke=\"none\" width=\"45\" x=\"135\" y=\"90\"/><rect class=\"square light e6\" fill=\"#ffce9e\" height=\"45\" stroke=\"none\" width=\"45\" x=\"180\" y=\"90\"/><rect class=\"square dark f6\" fill=\"#d18b47\" height=\"45\" stroke=\"none\" width=\"45\" x=\"225\" y=\"90\"/><rect class=\"square light g6\" fill=\"#ffce9e\" height=\"45\" stroke=\"none\" width=\"45\" x=\"270\" y=\"90\"/><rect class=\"square dark h6\" fill=\"#d18b47\" height=\"45\" stroke=\"none\" width=\"45\" x=\"315\" y=\"90\"/><rect class=\"square dark a7\" fill=\"#d18b47\" height=\"45\" stroke=\"none\" width=\"45\" x=\"0\" y=\"45\"/><rect class=\"square light b7\" fill=\"#ffce9e\" height=\"45\" stroke=\"none\" width=\"45\" x=\"45\" y=\"45\"/><rect class=\"square dark c7\" fill=\"#d18b47\" height=\"45\" stroke=\"none\" width=\"45\" x=\"90\" y=\"45\"/><rect class=\"square light d7\" fill=\"#ffce9e\" height=\"45\" stroke=\"none\" width=\"45\" x=\"135\" y=\"45\"/><rect class=\"square dark e7\" fill=\"#d18b47\" height=\"45\" stroke=\"none\" width=\"45\" x=\"180\" y=\"45\"/><rect class=\"square light f7\" fill=\"#ffce9e\" height=\"45\" stroke=\"none\" width=\"45\" x=\"225\" y=\"45\"/><use transform=\"translate(225, 45)\" xlink:href=\"#white-bishop\"/><rect class=\"square dark g7\" fill=\"#d18b47\" height=\"45\" stroke=\"none\" width=\"45\" x=\"270\" y=\"45\"/><use transform=\"translate(270, 45)\" xlink:href=\"#white-queen\"/><rect class=\"square light h7\" fill=\"#ffce9e\" height=\"45\" stroke=\"none\" width=\"45\" x=\"315\" y=\"45\"/><rect class=\"square light a8\" fill=\"#ffce9e\" height=\"45\" stroke=\"none\" width=\"45\" x=\"0\" y=\"0\"/><rect class=\"square dark b8\" fill=\"#d18b47\" height=\"45\" stroke=\"none\" width=\"45\" x=\"45\" y=\"0\"/><rect class=\"square light c8\" fill=\"#ffce9e\" height=\"45\" stroke=\"none\" width=\"45\" x=\"90\" y=\"0\"/><rect class=\"square dark d8\" fill=\"#d18b47\" height=\"45\" stroke=\"none\" width=\"45\" x=\"135\" y=\"0\"/><rect class=\"square light e8\" fill=\"#ffce9e\" height=\"45\" stroke=\"none\" width=\"45\" x=\"180\" y=\"0\"/><rect class=\"square dark f8\" fill=\"#d18b47\" height=\"45\" stroke=\"none\" width=\"45\" x=\"225\" y=\"0\"/><use transform=\"translate(225, 0)\" xlink:href=\"#white-queen\"/><rect class=\"square light g8\" fill=\"#ffce9e\" height=\"45\" stroke=\"none\" width=\"45\" x=\"270\" y=\"0\"/><use transform=\"translate(270, 0)\" xlink:href=\"#white-queen\"/><rect class=\"square dark h8\" fill=\"#d18b47\" height=\"45\" stroke=\"none\" width=\"45\" x=\"315\" y=\"0\"/><use transform=\"translate(315, 0)\" xlink:href=\"#white-queen\"/><circle class=\"circle\" cx=\"67.5\" cy=\"337.5\" fill=\"none\" opacity=\"0.5\" r=\"20.25\" stroke=\"red\" stroke-width=\"4.5\"/><circle class=\"circle\" cx=\"112.5\" cy=\"337.5\" fill=\"none\" opacity=\"0.5\" r=\"20.25\" stroke=\"red\" stroke-width=\"4.5\"/><circle class=\"circle\" cx=\"157.5\" cy=\"337.5\" fill=\"none\" opacity=\"0.5\" r=\"20.25\" stroke=\"red\" stroke-width=\"4.5\"/><circle class=\"circle\" cx=\"202.5\" cy=\"337.5\" fill=\"none\" opacity=\"0.5\" r=\"20.25\" stroke=\"red\" stroke-width=\"4.5\"/><circle class=\"circle\" cx=\"247.5\" cy=\"337.5\" fill=\"none\" opacity=\"0.5\" r=\"20.25\" stroke=\"red\" stroke-width=\"4.5\"/><circle class=\"circle\" cx=\"112.5\" cy=\"292.5\" fill=\"none\" opacity=\"0.5\" r=\"20.25\" stroke=\"red\" stroke-width=\"4.5\"/><circle class=\"circle\" cx=\"157.5\" cy=\"292.5\" fill=\"none\" opacity=\"0.5\" r=\"20.25\" stroke=\"red\" stroke-width=\"4.5\"/><circle class=\"circle\" cx=\"202.5\" cy=\"292.5\" fill=\"none\" opacity=\"0.5\" r=\"20.25\" stroke=\"red\" stroke-width=\"4.5\"/><circle class=\"circle\" cx=\"247.5\" cy=\"292.5\" fill=\"none\" opacity=\"0.5\" r=\"20.25\" stroke=\"red\" stroke-width=\"4.5\"/><circle class=\"circle\" cx=\"157.5\" cy=\"247.5\" fill=\"none\" opacity=\"0.5\" r=\"20.25\" stroke=\"red\" stroke-width=\"4.5\"/><circle class=\"circle\" cx=\"202.5\" cy=\"247.5\" fill=\"none\" opacity=\"0.5\" r=\"20.25\" stroke=\"red\" stroke-width=\"4.5\"/><circle class=\"circle\" cx=\"247.5\" cy=\"247.5\" fill=\"none\" opacity=\"0.5\" r=\"20.25\" stroke=\"red\" stroke-width=\"4.5\"/><circle class=\"circle\" cx=\"22.5\" cy=\"202.5\" fill=\"none\" opacity=\"0.5\" r=\"20.25\" stroke=\"red\" stroke-width=\"4.5\"/><circle class=\"circle\" cx=\"202.5\" cy=\"202.5\" fill=\"none\" opacity=\"0.5\" r=\"20.25\" stroke=\"red\" stroke-width=\"4.5\"/><circle class=\"circle\" cx=\"247.5\" cy=\"202.5\" fill=\"none\" opacity=\"0.5\" r=\"20.25\" stroke=\"red\" stroke-width=\"4.5\"/><circle class=\"circle\" cx=\"22.5\" cy=\"157.5\" fill=\"none\" opacity=\"0.5\" r=\"20.25\" stroke=\"red\" stroke-width=\"4.5\"/><circle class=\"circle\" cx=\"67.5\" cy=\"157.5\" fill=\"none\" opacity=\"0.5\" r=\"20.25\" stroke=\"red\" stroke-width=\"4.5\"/><circle class=\"circle\" cx=\"247.5\" cy=\"157.5\" fill=\"none\" opacity=\"0.5\" r=\"20.25\" stroke=\"red\" stroke-width=\"4.5\"/><circle class=\"circle\" cx=\"22.5\" cy=\"112.5\" fill=\"none\" opacity=\"0.5\" r=\"20.25\" stroke=\"red\" stroke-width=\"4.5\"/><circle class=\"circle\" cx=\"67.5\" cy=\"112.5\" fill=\"none\" opacity=\"0.5\" r=\"20.25\" stroke=\"red\" stroke-width=\"4.5\"/><circle class=\"circle\" cx=\"112.5\" cy=\"112.5\" fill=\"none\" opacity=\"0.5\" r=\"20.25\" stroke=\"red\" stroke-width=\"4.5\"/><circle class=\"circle\" cx=\"22.5\" cy=\"67.5\" fill=\"none\" opacity=\"0.5\" r=\"20.25\" stroke=\"red\" stroke-width=\"4.5\"/><circle class=\"circle\" cx=\"67.5\" cy=\"67.5\" fill=\"none\" opacity=\"0.5\" r=\"20.25\" stroke=\"red\" stroke-width=\"4.5\"/><circle class=\"circle\" cx=\"112.5\" cy=\"67.5\" fill=\"none\" opacity=\"0.5\" r=\"20.25\" stroke=\"red\" stroke-width=\"4.5\"/><circle class=\"circle\" cx=\"157.5\" cy=\"67.5\" fill=\"none\" opacity=\"0.5\" r=\"20.25\" stroke=\"red\" stroke-width=\"4.5\"/></svg>"
      ],
      "text/plain": [
       "<IPython.core.display.SVG object>"
      ]
     },
     "metadata": {},
     "output_type": "display_data"
    },
    {
     "name": "stdout",
     "output_type": "stream",
     "text": [
      "40\n"
     ]
    },
    {
     "data": {
      "image/svg+xml": [
       "<svg version=\"1.1\" viewBox=\"0 0 360 360\" xmlns=\"http://www.w3.org/2000/svg\" xmlns:xlink=\"http://www.w3.org/1999/xlink\"><style>\n",
       ".square.light {\n",
       "fill: #cacaca;\n",
       "}\n",
       ".square.dark {\n",
       "fill: #898989;\n",
       "}\n",
       "#xx {\n",
       "fill: blue;\n",
       "stroke: red;\n",
       "}\n",
       ".square.light.lastmove {\n",
       "fill: #c3d889;\n",
       "}\n",
       ".square.dark.lastmove {\n",
       "fill: #92b167;\n",
       "}\n",
       ".check {\n",
       "fill: url(#check_gradient);\n",
       "}\n",
       ".arrow {\n",
       "stroke: #ff5858;\n",
       "fill: blue;\n",
       "}\n",
       ".mark {\n",
       "stroke: #959fff;\n",
       "fill: blue;\n",
       "}\n",
       "</style><defs><g class=\"white bishop\" fill=\"none\" fill-rule=\"evenodd\" id=\"white-bishop\" stroke=\"#000\" stroke-linecap=\"round\" stroke-linejoin=\"round\" stroke-width=\"1.5\"><g fill=\"#fff\" stroke-linecap=\"butt\"><path d=\"M9 36c3.39-.97 10.11.43 13.5-2 3.39 2.43 10.11 1.03 13.5 2 0 0 1.65.54 3 2-.68.97-1.65.99-3 .5-3.39-.97-10.11.46-13.5-1-3.39 1.46-10.11.03-13.5 1-1.354.49-2.323.47-3-.5 1.354-1.94 3-2 3-2zM15 32c2.5 2.5 12.5 2.5 15 0 .5-1.5 0-2 0-2 0-2.5-2.5-4-2.5-4 5.5-1.5 6-11.5-5-15.5-11 4-10.5 14-5 15.5 0 0-2.5 1.5-2.5 4 0 0-.5.5 0 2zM25 8a2.5 2.5 0 1 1-5 0 2.5 2.5 0 1 1 5 0z\"/></g><path d=\"M17.5 26h10M15 30h15m-7.5-14.5v5M20 18h5\" stroke-linejoin=\"miter\"/></g><g class=\"white queen\" fill=\"#fff\" fill-rule=\"evenodd\" id=\"white-queen\" stroke=\"#000\" stroke-linecap=\"round\" stroke-linejoin=\"round\" stroke-width=\"1.5\"><path d=\"M8 12a2 2 0 1 1-4 0 2 2 0 1 1 4 0zM24.5 7.5a2 2 0 1 1-4 0 2 2 0 1 1 4 0zM41 12a2 2 0 1 1-4 0 2 2 0 1 1 4 0zM16 8.5a2 2 0 1 1-4 0 2 2 0 1 1 4 0zM33 9a2 2 0 1 1-4 0 2 2 0 1 1 4 0z\"/><path d=\"M9 26c8.5-1.5 21-1.5 27 0l2-12-7 11V11l-5.5 13.5-3-15-3 15-5.5-14V25L7 14l2 12zM9 26c0 2 1.5 2 2.5 4 1 1.5 1 1 .5 3.5-1.5 1-1.5 2.5-1.5 2.5-1.5 1.5.5 2.5.5 2.5 6.5 1 16.5 1 23 0 0 0 1.5-1 0-2.5 0 0 .5-1.5-1-2.5-.5-2.5-.5-2 .5-3.5 1-2 2.5-2 2.5-4-8.5-1.5-18.5-1.5-27 0z\" stroke-linecap=\"butt\"/><path d=\"M11.5 30c3.5-1 18.5-1 22 0M12 33.5c6-1 15-1 21 0\" fill=\"none\"/></g></defs><rect class=\"square dark a1\" fill=\"#d18b47\" height=\"45\" stroke=\"none\" width=\"45\" x=\"0\" y=\"315\"/><rect class=\"square light b1\" fill=\"#ffce9e\" height=\"45\" stroke=\"none\" width=\"45\" x=\"45\" y=\"315\"/><rect class=\"square dark c1\" fill=\"#d18b47\" height=\"45\" stroke=\"none\" width=\"45\" x=\"90\" y=\"315\"/><rect class=\"square light d1\" fill=\"#ffce9e\" height=\"45\" stroke=\"none\" width=\"45\" x=\"135\" y=\"315\"/><rect class=\"square dark e1\" fill=\"#d18b47\" height=\"45\" stroke=\"none\" width=\"45\" x=\"180\" y=\"315\"/><rect class=\"square light f1\" fill=\"#ffce9e\" height=\"45\" stroke=\"none\" width=\"45\" x=\"225\" y=\"315\"/><rect class=\"square dark g1\" fill=\"#d18b47\" height=\"45\" stroke=\"none\" width=\"45\" x=\"270\" y=\"315\"/><rect class=\"square light h1\" fill=\"#ffce9e\" height=\"45\" stroke=\"none\" width=\"45\" x=\"315\" y=\"315\"/><rect class=\"square light a2\" fill=\"#ffce9e\" height=\"45\" stroke=\"none\" width=\"45\" x=\"0\" y=\"270\"/><rect class=\"square dark b2\" fill=\"#d18b47\" height=\"45\" stroke=\"none\" width=\"45\" x=\"45\" y=\"270\"/><rect class=\"square light c2\" fill=\"#ffce9e\" height=\"45\" stroke=\"none\" width=\"45\" x=\"90\" y=\"270\"/><rect class=\"square dark d2\" fill=\"#d18b47\" height=\"45\" stroke=\"none\" width=\"45\" x=\"135\" y=\"270\"/><rect class=\"square light e2\" fill=\"#ffce9e\" height=\"45\" stroke=\"none\" width=\"45\" x=\"180\" y=\"270\"/><rect class=\"square dark f2\" fill=\"#d18b47\" height=\"45\" stroke=\"none\" width=\"45\" x=\"225\" y=\"270\"/><rect class=\"square light g2\" fill=\"#ffce9e\" height=\"45\" stroke=\"none\" width=\"45\" x=\"270\" y=\"270\"/><rect class=\"square dark h2\" fill=\"#d18b47\" height=\"45\" stroke=\"none\" width=\"45\" x=\"315\" y=\"270\"/><rect class=\"square dark a3\" fill=\"#d18b47\" height=\"45\" stroke=\"none\" width=\"45\" x=\"0\" y=\"225\"/><rect class=\"square light b3\" fill=\"#ffce9e\" height=\"45\" stroke=\"none\" width=\"45\" x=\"45\" y=\"225\"/><rect class=\"square dark c3\" fill=\"#d18b47\" height=\"45\" stroke=\"none\" width=\"45\" x=\"90\" y=\"225\"/><rect class=\"square light d3\" fill=\"#ffce9e\" height=\"45\" stroke=\"none\" width=\"45\" x=\"135\" y=\"225\"/><rect class=\"square dark e3\" fill=\"#d18b47\" height=\"45\" stroke=\"none\" width=\"45\" x=\"180\" y=\"225\"/><rect class=\"square light f3\" fill=\"#ffce9e\" height=\"45\" stroke=\"none\" width=\"45\" x=\"225\" y=\"225\"/><rect class=\"square dark g3\" fill=\"#d18b47\" height=\"45\" stroke=\"none\" width=\"45\" x=\"270\" y=\"225\"/><rect class=\"square light h3\" fill=\"#ffce9e\" height=\"45\" stroke=\"none\" width=\"45\" x=\"315\" y=\"225\"/><rect class=\"square light a4\" fill=\"#ffce9e\" height=\"45\" stroke=\"none\" width=\"45\" x=\"0\" y=\"180\"/><rect class=\"square dark b4\" fill=\"#d18b47\" height=\"45\" stroke=\"none\" width=\"45\" x=\"45\" y=\"180\"/><rect class=\"square light c4\" fill=\"#ffce9e\" height=\"45\" stroke=\"none\" width=\"45\" x=\"90\" y=\"180\"/><rect class=\"square dark d4\" fill=\"#d18b47\" height=\"45\" stroke=\"none\" width=\"45\" x=\"135\" y=\"180\"/><rect class=\"square light e4\" fill=\"#ffce9e\" height=\"45\" stroke=\"none\" width=\"45\" x=\"180\" y=\"180\"/><rect class=\"square dark f4\" fill=\"#d18b47\" height=\"45\" stroke=\"none\" width=\"45\" x=\"225\" y=\"180\"/><rect class=\"square light g4\" fill=\"#ffce9e\" height=\"45\" stroke=\"none\" width=\"45\" x=\"270\" y=\"180\"/><rect class=\"square dark h4\" fill=\"#d18b47\" height=\"45\" stroke=\"none\" width=\"45\" x=\"315\" y=\"180\"/><rect class=\"square dark a5\" fill=\"#d18b47\" height=\"45\" stroke=\"none\" width=\"45\" x=\"0\" y=\"135\"/><rect class=\"square light b5\" fill=\"#ffce9e\" height=\"45\" stroke=\"none\" width=\"45\" x=\"45\" y=\"135\"/><rect class=\"square dark c5\" fill=\"#d18b47\" height=\"45\" stroke=\"none\" width=\"45\" x=\"90\" y=\"135\"/><rect class=\"square light d5\" fill=\"#ffce9e\" height=\"45\" stroke=\"none\" width=\"45\" x=\"135\" y=\"135\"/><rect class=\"square dark e5\" fill=\"#d18b47\" height=\"45\" stroke=\"none\" width=\"45\" x=\"180\" y=\"135\"/><rect class=\"square light f5\" fill=\"#ffce9e\" height=\"45\" stroke=\"none\" width=\"45\" x=\"225\" y=\"135\"/><rect class=\"square dark g5\" fill=\"#d18b47\" height=\"45\" stroke=\"none\" width=\"45\" x=\"270\" y=\"135\"/><rect class=\"square light h5\" fill=\"#ffce9e\" height=\"45\" stroke=\"none\" width=\"45\" x=\"315\" y=\"135\"/><rect class=\"square light a6\" fill=\"#ffce9e\" height=\"45\" stroke=\"none\" width=\"45\" x=\"0\" y=\"90\"/><rect class=\"square dark b6\" fill=\"#d18b47\" height=\"45\" stroke=\"none\" width=\"45\" x=\"45\" y=\"90\"/><rect class=\"square light c6\" fill=\"#ffce9e\" height=\"45\" stroke=\"none\" width=\"45\" x=\"90\" y=\"90\"/><rect class=\"square dark d6\" fill=\"#d18b47\" height=\"45\" stroke=\"none\" width=\"45\" x=\"135\" y=\"90\"/><rect class=\"square light e6\" fill=\"#ffce9e\" height=\"45\" stroke=\"none\" width=\"45\" x=\"180\" y=\"90\"/><rect class=\"square dark f6\" fill=\"#d18b47\" height=\"45\" stroke=\"none\" width=\"45\" x=\"225\" y=\"90\"/><rect class=\"square light g6\" fill=\"#ffce9e\" height=\"45\" stroke=\"none\" width=\"45\" x=\"270\" y=\"90\"/><rect class=\"square dark h6\" fill=\"#d18b47\" height=\"45\" stroke=\"none\" width=\"45\" x=\"315\" y=\"90\"/><rect class=\"square dark a7\" fill=\"#d18b47\" height=\"45\" stroke=\"none\" width=\"45\" x=\"0\" y=\"45\"/><rect class=\"square light b7\" fill=\"#ffce9e\" height=\"45\" stroke=\"none\" width=\"45\" x=\"45\" y=\"45\"/><rect class=\"square dark c7\" fill=\"#d18b47\" height=\"45\" stroke=\"none\" width=\"45\" x=\"90\" y=\"45\"/><rect class=\"square light d7\" fill=\"#ffce9e\" height=\"45\" stroke=\"none\" width=\"45\" x=\"135\" y=\"45\"/><rect class=\"square dark e7\" fill=\"#d18b47\" height=\"45\" stroke=\"none\" width=\"45\" x=\"180\" y=\"45\"/><use transform=\"translate(180, 45)\" xlink:href=\"#white-bishop\"/><rect class=\"square light f7\" fill=\"#ffce9e\" height=\"45\" stroke=\"none\" width=\"45\" x=\"225\" y=\"45\"/><use transform=\"translate(225, 45)\" xlink:href=\"#white-queen\"/><rect class=\"square dark g7\" fill=\"#d18b47\" height=\"45\" stroke=\"none\" width=\"45\" x=\"270\" y=\"45\"/><rect class=\"square light h7\" fill=\"#ffce9e\" height=\"45\" stroke=\"none\" width=\"45\" x=\"315\" y=\"45\"/><rect class=\"square light a8\" fill=\"#ffce9e\" height=\"45\" stroke=\"none\" width=\"45\" x=\"0\" y=\"0\"/><rect class=\"square dark b8\" fill=\"#d18b47\" height=\"45\" stroke=\"none\" width=\"45\" x=\"45\" y=\"0\"/><rect class=\"square light c8\" fill=\"#ffce9e\" height=\"45\" stroke=\"none\" width=\"45\" x=\"90\" y=\"0\"/><rect class=\"square dark d8\" fill=\"#d18b47\" height=\"45\" stroke=\"none\" width=\"45\" x=\"135\" y=\"0\"/><rect class=\"square light e8\" fill=\"#ffce9e\" height=\"45\" stroke=\"none\" width=\"45\" x=\"180\" y=\"0\"/><use transform=\"translate(180, 0)\" xlink:href=\"#white-queen\"/><rect class=\"square dark f8\" fill=\"#d18b47\" height=\"45\" stroke=\"none\" width=\"45\" x=\"225\" y=\"0\"/><use transform=\"translate(225, 0)\" xlink:href=\"#white-queen\"/><rect class=\"square light g8\" fill=\"#ffce9e\" height=\"45\" stroke=\"none\" width=\"45\" x=\"270\" y=\"0\"/><use transform=\"translate(270, 0)\" xlink:href=\"#white-queen\"/><rect class=\"square dark h8\" fill=\"#d18b47\" height=\"45\" stroke=\"none\" width=\"45\" x=\"315\" y=\"0\"/><circle class=\"circle\" cx=\"22.5\" cy=\"337.5\" fill=\"none\" opacity=\"0.5\" r=\"20.25\" stroke=\"red\" stroke-width=\"4.5\"/><circle class=\"circle\" cx=\"67.5\" cy=\"337.5\" fill=\"none\" opacity=\"0.5\" r=\"20.25\" stroke=\"red\" stroke-width=\"4.5\"/><circle class=\"circle\" cx=\"112.5\" cy=\"337.5\" fill=\"none\" opacity=\"0.5\" r=\"20.25\" stroke=\"red\" stroke-width=\"4.5\"/><circle class=\"circle\" cx=\"157.5\" cy=\"337.5\" fill=\"none\" opacity=\"0.5\" r=\"20.25\" stroke=\"red\" stroke-width=\"4.5\"/><circle class=\"circle\" cx=\"202.5\" cy=\"337.5\" fill=\"none\" opacity=\"0.5\" r=\"20.25\" stroke=\"red\" stroke-width=\"4.5\"/><circle class=\"circle\" cx=\"337.5\" cy=\"337.5\" fill=\"none\" opacity=\"0.5\" r=\"20.25\" stroke=\"red\" stroke-width=\"4.5\"/><circle class=\"circle\" cx=\"67.5\" cy=\"292.5\" fill=\"none\" opacity=\"0.5\" r=\"20.25\" stroke=\"red\" stroke-width=\"4.5\"/><circle class=\"circle\" cx=\"112.5\" cy=\"292.5\" fill=\"none\" opacity=\"0.5\" r=\"20.25\" stroke=\"red\" stroke-width=\"4.5\"/><circle class=\"circle\" cx=\"157.5\" cy=\"292.5\" fill=\"none\" opacity=\"0.5\" r=\"20.25\" stroke=\"red\" stroke-width=\"4.5\"/><circle class=\"circle\" cx=\"202.5\" cy=\"292.5\" fill=\"none\" opacity=\"0.5\" r=\"20.25\" stroke=\"red\" stroke-width=\"4.5\"/><circle class=\"circle\" cx=\"337.5\" cy=\"292.5\" fill=\"none\" opacity=\"0.5\" r=\"20.25\" stroke=\"red\" stroke-width=\"4.5\"/><circle class=\"circle\" cx=\"112.5\" cy=\"247.5\" fill=\"none\" opacity=\"0.5\" r=\"20.25\" stroke=\"red\" stroke-width=\"4.5\"/><circle class=\"circle\" cx=\"157.5\" cy=\"247.5\" fill=\"none\" opacity=\"0.5\" r=\"20.25\" stroke=\"red\" stroke-width=\"4.5\"/><circle class=\"circle\" cx=\"202.5\" cy=\"247.5\" fill=\"none\" opacity=\"0.5\" r=\"20.25\" stroke=\"red\" stroke-width=\"4.5\"/><circle class=\"circle\" cx=\"337.5\" cy=\"247.5\" fill=\"none\" opacity=\"0.5\" r=\"20.25\" stroke=\"red\" stroke-width=\"4.5\"/><circle class=\"circle\" cx=\"157.5\" cy=\"202.5\" fill=\"none\" opacity=\"0.5\" r=\"20.25\" stroke=\"red\" stroke-width=\"4.5\"/><circle class=\"circle\" cx=\"202.5\" cy=\"202.5\" fill=\"none\" opacity=\"0.5\" r=\"20.25\" stroke=\"red\" stroke-width=\"4.5\"/><circle class=\"circle\" cx=\"22.5\" cy=\"157.5\" fill=\"none\" opacity=\"0.5\" r=\"20.25\" stroke=\"red\" stroke-width=\"4.5\"/><circle class=\"circle\" cx=\"202.5\" cy=\"157.5\" fill=\"none\" opacity=\"0.5\" r=\"20.25\" stroke=\"red\" stroke-width=\"4.5\"/><circle class=\"circle\" cx=\"22.5\" cy=\"112.5\" fill=\"none\" opacity=\"0.5\" r=\"20.25\" stroke=\"red\" stroke-width=\"4.5\"/><circle class=\"circle\" cx=\"67.5\" cy=\"112.5\" fill=\"none\" opacity=\"0.5\" r=\"20.25\" stroke=\"red\" stroke-width=\"4.5\"/><circle class=\"circle\" cx=\"22.5\" cy=\"67.5\" fill=\"none\" opacity=\"0.5\" r=\"20.25\" stroke=\"red\" stroke-width=\"4.5\"/><circle class=\"circle\" cx=\"67.5\" cy=\"67.5\" fill=\"none\" opacity=\"0.5\" r=\"20.25\" stroke=\"red\" stroke-width=\"4.5\"/><circle class=\"circle\" cx=\"112.5\" cy=\"67.5\" fill=\"none\" opacity=\"0.5\" r=\"20.25\" stroke=\"red\" stroke-width=\"4.5\"/></svg>"
      ],
      "text/plain": [
       "<IPython.core.display.SVG object>"
      ]
     },
     "metadata": {},
     "output_type": "display_data"
    },
    {
     "name": "stdout",
     "output_type": "stream",
     "text": [
      "41\n"
     ]
    },
    {
     "data": {
      "image/svg+xml": [
       "<svg version=\"1.1\" viewBox=\"0 0 360 360\" xmlns=\"http://www.w3.org/2000/svg\" xmlns:xlink=\"http://www.w3.org/1999/xlink\"><style>\n",
       ".square.light {\n",
       "fill: #cacaca;\n",
       "}\n",
       ".square.dark {\n",
       "fill: #898989;\n",
       "}\n",
       "#xx {\n",
       "fill: blue;\n",
       "stroke: red;\n",
       "}\n",
       ".square.light.lastmove {\n",
       "fill: #c3d889;\n",
       "}\n",
       ".square.dark.lastmove {\n",
       "fill: #92b167;\n",
       "}\n",
       ".check {\n",
       "fill: url(#check_gradient);\n",
       "}\n",
       ".arrow {\n",
       "stroke: #ff5858;\n",
       "fill: blue;\n",
       "}\n",
       ".mark {\n",
       "stroke: #959fff;\n",
       "fill: blue;\n",
       "}\n",
       "</style><defs><g class=\"white bishop\" fill=\"none\" fill-rule=\"evenodd\" id=\"white-bishop\" stroke=\"#000\" stroke-linecap=\"round\" stroke-linejoin=\"round\" stroke-width=\"1.5\"><g fill=\"#fff\" stroke-linecap=\"butt\"><path d=\"M9 36c3.39-.97 10.11.43 13.5-2 3.39 2.43 10.11 1.03 13.5 2 0 0 1.65.54 3 2-.68.97-1.65.99-3 .5-3.39-.97-10.11.46-13.5-1-3.39 1.46-10.11.03-13.5 1-1.354.49-2.323.47-3-.5 1.354-1.94 3-2 3-2zM15 32c2.5 2.5 12.5 2.5 15 0 .5-1.5 0-2 0-2 0-2.5-2.5-4-2.5-4 5.5-1.5 6-11.5-5-15.5-11 4-10.5 14-5 15.5 0 0-2.5 1.5-2.5 4 0 0-.5.5 0 2zM25 8a2.5 2.5 0 1 1-5 0 2.5 2.5 0 1 1 5 0z\"/></g><path d=\"M17.5 26h10M15 30h15m-7.5-14.5v5M20 18h5\" stroke-linejoin=\"miter\"/></g><g class=\"white queen\" fill=\"#fff\" fill-rule=\"evenodd\" id=\"white-queen\" stroke=\"#000\" stroke-linecap=\"round\" stroke-linejoin=\"round\" stroke-width=\"1.5\"><path d=\"M8 12a2 2 0 1 1-4 0 2 2 0 1 1 4 0zM24.5 7.5a2 2 0 1 1-4 0 2 2 0 1 1 4 0zM41 12a2 2 0 1 1-4 0 2 2 0 1 1 4 0zM16 8.5a2 2 0 1 1-4 0 2 2 0 1 1 4 0zM33 9a2 2 0 1 1-4 0 2 2 0 1 1 4 0z\"/><path d=\"M9 26c8.5-1.5 21-1.5 27 0l2-12-7 11V11l-5.5 13.5-3-15-3 15-5.5-14V25L7 14l2 12zM9 26c0 2 1.5 2 2.5 4 1 1.5 1 1 .5 3.5-1.5 1-1.5 2.5-1.5 2.5-1.5 1.5.5 2.5.5 2.5 6.5 1 16.5 1 23 0 0 0 1.5-1 0-2.5 0 0 .5-1.5-1-2.5-.5-2.5-.5-2 .5-3.5 1-2 2.5-2 2.5-4-8.5-1.5-18.5-1.5-27 0z\" stroke-linecap=\"butt\"/><path d=\"M11.5 30c3.5-1 18.5-1 22 0M12 33.5c6-1 15-1 21 0\" fill=\"none\"/></g></defs><rect class=\"square dark a1\" fill=\"#d18b47\" height=\"45\" stroke=\"none\" width=\"45\" x=\"0\" y=\"315\"/><rect class=\"square light b1\" fill=\"#ffce9e\" height=\"45\" stroke=\"none\" width=\"45\" x=\"45\" y=\"315\"/><rect class=\"square dark c1\" fill=\"#d18b47\" height=\"45\" stroke=\"none\" width=\"45\" x=\"90\" y=\"315\"/><rect class=\"square light d1\" fill=\"#ffce9e\" height=\"45\" stroke=\"none\" width=\"45\" x=\"135\" y=\"315\"/><rect class=\"square dark e1\" fill=\"#d18b47\" height=\"45\" stroke=\"none\" width=\"45\" x=\"180\" y=\"315\"/><rect class=\"square light f1\" fill=\"#ffce9e\" height=\"45\" stroke=\"none\" width=\"45\" x=\"225\" y=\"315\"/><rect class=\"square dark g1\" fill=\"#d18b47\" height=\"45\" stroke=\"none\" width=\"45\" x=\"270\" y=\"315\"/><rect class=\"square light h1\" fill=\"#ffce9e\" height=\"45\" stroke=\"none\" width=\"45\" x=\"315\" y=\"315\"/><rect class=\"square light a2\" fill=\"#ffce9e\" height=\"45\" stroke=\"none\" width=\"45\" x=\"0\" y=\"270\"/><rect class=\"square dark b2\" fill=\"#d18b47\" height=\"45\" stroke=\"none\" width=\"45\" x=\"45\" y=\"270\"/><rect class=\"square light c2\" fill=\"#ffce9e\" height=\"45\" stroke=\"none\" width=\"45\" x=\"90\" y=\"270\"/><rect class=\"square dark d2\" fill=\"#d18b47\" height=\"45\" stroke=\"none\" width=\"45\" x=\"135\" y=\"270\"/><rect class=\"square light e2\" fill=\"#ffce9e\" height=\"45\" stroke=\"none\" width=\"45\" x=\"180\" y=\"270\"/><rect class=\"square dark f2\" fill=\"#d18b47\" height=\"45\" stroke=\"none\" width=\"45\" x=\"225\" y=\"270\"/><rect class=\"square light g2\" fill=\"#ffce9e\" height=\"45\" stroke=\"none\" width=\"45\" x=\"270\" y=\"270\"/><rect class=\"square dark h2\" fill=\"#d18b47\" height=\"45\" stroke=\"none\" width=\"45\" x=\"315\" y=\"270\"/><rect class=\"square dark a3\" fill=\"#d18b47\" height=\"45\" stroke=\"none\" width=\"45\" x=\"0\" y=\"225\"/><rect class=\"square light b3\" fill=\"#ffce9e\" height=\"45\" stroke=\"none\" width=\"45\" x=\"45\" y=\"225\"/><rect class=\"square dark c3\" fill=\"#d18b47\" height=\"45\" stroke=\"none\" width=\"45\" x=\"90\" y=\"225\"/><rect class=\"square light d3\" fill=\"#ffce9e\" height=\"45\" stroke=\"none\" width=\"45\" x=\"135\" y=\"225\"/><rect class=\"square dark e3\" fill=\"#d18b47\" height=\"45\" stroke=\"none\" width=\"45\" x=\"180\" y=\"225\"/><rect class=\"square light f3\" fill=\"#ffce9e\" height=\"45\" stroke=\"none\" width=\"45\" x=\"225\" y=\"225\"/><rect class=\"square dark g3\" fill=\"#d18b47\" height=\"45\" stroke=\"none\" width=\"45\" x=\"270\" y=\"225\"/><rect class=\"square light h3\" fill=\"#ffce9e\" height=\"45\" stroke=\"none\" width=\"45\" x=\"315\" y=\"225\"/><rect class=\"square light a4\" fill=\"#ffce9e\" height=\"45\" stroke=\"none\" width=\"45\" x=\"0\" y=\"180\"/><rect class=\"square dark b4\" fill=\"#d18b47\" height=\"45\" stroke=\"none\" width=\"45\" x=\"45\" y=\"180\"/><rect class=\"square light c4\" fill=\"#ffce9e\" height=\"45\" stroke=\"none\" width=\"45\" x=\"90\" y=\"180\"/><rect class=\"square dark d4\" fill=\"#d18b47\" height=\"45\" stroke=\"none\" width=\"45\" x=\"135\" y=\"180\"/><rect class=\"square light e4\" fill=\"#ffce9e\" height=\"45\" stroke=\"none\" width=\"45\" x=\"180\" y=\"180\"/><rect class=\"square dark f4\" fill=\"#d18b47\" height=\"45\" stroke=\"none\" width=\"45\" x=\"225\" y=\"180\"/><rect class=\"square light g4\" fill=\"#ffce9e\" height=\"45\" stroke=\"none\" width=\"45\" x=\"270\" y=\"180\"/><rect class=\"square dark h4\" fill=\"#d18b47\" height=\"45\" stroke=\"none\" width=\"45\" x=\"315\" y=\"180\"/><rect class=\"square dark a5\" fill=\"#d18b47\" height=\"45\" stroke=\"none\" width=\"45\" x=\"0\" y=\"135\"/><rect class=\"square light b5\" fill=\"#ffce9e\" height=\"45\" stroke=\"none\" width=\"45\" x=\"45\" y=\"135\"/><rect class=\"square dark c5\" fill=\"#d18b47\" height=\"45\" stroke=\"none\" width=\"45\" x=\"90\" y=\"135\"/><rect class=\"square light d5\" fill=\"#ffce9e\" height=\"45\" stroke=\"none\" width=\"45\" x=\"135\" y=\"135\"/><rect class=\"square dark e5\" fill=\"#d18b47\" height=\"45\" stroke=\"none\" width=\"45\" x=\"180\" y=\"135\"/><rect class=\"square light f5\" fill=\"#ffce9e\" height=\"45\" stroke=\"none\" width=\"45\" x=\"225\" y=\"135\"/><rect class=\"square dark g5\" fill=\"#d18b47\" height=\"45\" stroke=\"none\" width=\"45\" x=\"270\" y=\"135\"/><rect class=\"square light h5\" fill=\"#ffce9e\" height=\"45\" stroke=\"none\" width=\"45\" x=\"315\" y=\"135\"/><rect class=\"square light a6\" fill=\"#ffce9e\" height=\"45\" stroke=\"none\" width=\"45\" x=\"0\" y=\"90\"/><rect class=\"square dark b6\" fill=\"#d18b47\" height=\"45\" stroke=\"none\" width=\"45\" x=\"45\" y=\"90\"/><rect class=\"square light c6\" fill=\"#ffce9e\" height=\"45\" stroke=\"none\" width=\"45\" x=\"90\" y=\"90\"/><rect class=\"square dark d6\" fill=\"#d18b47\" height=\"45\" stroke=\"none\" width=\"45\" x=\"135\" y=\"90\"/><rect class=\"square light e6\" fill=\"#ffce9e\" height=\"45\" stroke=\"none\" width=\"45\" x=\"180\" y=\"90\"/><rect class=\"square dark f6\" fill=\"#d18b47\" height=\"45\" stroke=\"none\" width=\"45\" x=\"225\" y=\"90\"/><rect class=\"square light g6\" fill=\"#ffce9e\" height=\"45\" stroke=\"none\" width=\"45\" x=\"270\" y=\"90\"/><use transform=\"translate(270, 90)\" xlink:href=\"#white-bishop\"/><rect class=\"square dark h6\" fill=\"#d18b47\" height=\"45\" stroke=\"none\" width=\"45\" x=\"315\" y=\"90\"/><rect class=\"square dark a7\" fill=\"#d18b47\" height=\"45\" stroke=\"none\" width=\"45\" x=\"0\" y=\"45\"/><rect class=\"square light b7\" fill=\"#ffce9e\" height=\"45\" stroke=\"none\" width=\"45\" x=\"45\" y=\"45\"/><rect class=\"square dark c7\" fill=\"#d18b47\" height=\"45\" stroke=\"none\" width=\"45\" x=\"90\" y=\"45\"/><rect class=\"square light d7\" fill=\"#ffce9e\" height=\"45\" stroke=\"none\" width=\"45\" x=\"135\" y=\"45\"/><rect class=\"square dark e7\" fill=\"#d18b47\" height=\"45\" stroke=\"none\" width=\"45\" x=\"180\" y=\"45\"/><rect class=\"square light f7\" fill=\"#ffce9e\" height=\"45\" stroke=\"none\" width=\"45\" x=\"225\" y=\"45\"/><rect class=\"square dark g7\" fill=\"#d18b47\" height=\"45\" stroke=\"none\" width=\"45\" x=\"270\" y=\"45\"/><use transform=\"translate(270, 45)\" xlink:href=\"#white-queen\"/><rect class=\"square light h7\" fill=\"#ffce9e\" height=\"45\" stroke=\"none\" width=\"45\" x=\"315\" y=\"45\"/><use transform=\"translate(315, 45)\" xlink:href=\"#white-queen\"/><rect class=\"square light a8\" fill=\"#ffce9e\" height=\"45\" stroke=\"none\" width=\"45\" x=\"0\" y=\"0\"/><rect class=\"square dark b8\" fill=\"#d18b47\" height=\"45\" stroke=\"none\" width=\"45\" x=\"45\" y=\"0\"/><rect class=\"square light c8\" fill=\"#ffce9e\" height=\"45\" stroke=\"none\" width=\"45\" x=\"90\" y=\"0\"/><rect class=\"square dark d8\" fill=\"#d18b47\" height=\"45\" stroke=\"none\" width=\"45\" x=\"135\" y=\"0\"/><rect class=\"square light e8\" fill=\"#ffce9e\" height=\"45\" stroke=\"none\" width=\"45\" x=\"180\" y=\"0\"/><use transform=\"translate(180, 0)\" xlink:href=\"#white-queen\"/><rect class=\"square dark f8\" fill=\"#d18b47\" height=\"45\" stroke=\"none\" width=\"45\" x=\"225\" y=\"0\"/><rect class=\"square light g8\" fill=\"#ffce9e\" height=\"45\" stroke=\"none\" width=\"45\" x=\"270\" y=\"0\"/><rect class=\"square dark h8\" fill=\"#d18b47\" height=\"45\" stroke=\"none\" width=\"45\" x=\"315\" y=\"0\"/><use transform=\"translate(315, 0)\" xlink:href=\"#white-queen\"/><circle class=\"circle\" cx=\"112.5\" cy=\"337.5\" fill=\"none\" opacity=\"0.5\" r=\"20.25\" stroke=\"red\" stroke-width=\"4.5\"/><circle class=\"circle\" cx=\"157.5\" cy=\"337.5\" fill=\"none\" opacity=\"0.5\" r=\"20.25\" stroke=\"red\" stroke-width=\"4.5\"/><circle class=\"circle\" cx=\"247.5\" cy=\"337.5\" fill=\"none\" opacity=\"0.5\" r=\"20.25\" stroke=\"red\" stroke-width=\"4.5\"/><circle class=\"circle\" cx=\"292.5\" cy=\"337.5\" fill=\"none\" opacity=\"0.5\" r=\"20.25\" stroke=\"red\" stroke-width=\"4.5\"/><circle class=\"circle\" cx=\"22.5\" cy=\"292.5\" fill=\"none\" opacity=\"0.5\" r=\"20.25\" stroke=\"red\" stroke-width=\"4.5\"/><circle class=\"circle\" cx=\"157.5\" cy=\"292.5\" fill=\"none\" opacity=\"0.5\" r=\"20.25\" stroke=\"red\" stroke-width=\"4.5\"/><circle class=\"circle\" cx=\"247.5\" cy=\"292.5\" fill=\"none\" opacity=\"0.5\" r=\"20.25\" stroke=\"red\" stroke-width=\"4.5\"/><circle class=\"circle\" cx=\"292.5\" cy=\"292.5\" fill=\"none\" opacity=\"0.5\" r=\"20.25\" stroke=\"red\" stroke-width=\"4.5\"/><circle class=\"circle\" cx=\"22.5\" cy=\"247.5\" fill=\"none\" opacity=\"0.5\" r=\"20.25\" stroke=\"red\" stroke-width=\"4.5\"/><circle class=\"circle\" cx=\"67.5\" cy=\"247.5\" fill=\"none\" opacity=\"0.5\" r=\"20.25\" stroke=\"red\" stroke-width=\"4.5\"/><circle class=\"circle\" cx=\"247.5\" cy=\"247.5\" fill=\"none\" opacity=\"0.5\" r=\"20.25\" stroke=\"red\" stroke-width=\"4.5\"/><circle class=\"circle\" cx=\"292.5\" cy=\"247.5\" fill=\"none\" opacity=\"0.5\" r=\"20.25\" stroke=\"red\" stroke-width=\"4.5\"/><circle class=\"circle\" cx=\"67.5\" cy=\"202.5\" fill=\"none\" opacity=\"0.5\" r=\"20.25\" stroke=\"red\" stroke-width=\"4.5\"/><circle class=\"circle\" cx=\"112.5\" cy=\"202.5\" fill=\"none\" opacity=\"0.5\" r=\"20.25\" stroke=\"red\" stroke-width=\"4.5\"/><circle class=\"circle\" cx=\"247.5\" cy=\"202.5\" fill=\"none\" opacity=\"0.5\" r=\"20.25\" stroke=\"red\" stroke-width=\"4.5\"/><circle class=\"circle\" cx=\"292.5\" cy=\"202.5\" fill=\"none\" opacity=\"0.5\" r=\"20.25\" stroke=\"red\" stroke-width=\"4.5\"/><circle class=\"circle\" cx=\"22.5\" cy=\"157.5\" fill=\"none\" opacity=\"0.5\" r=\"20.25\" stroke=\"red\" stroke-width=\"4.5\"/><circle class=\"circle\" cx=\"112.5\" cy=\"157.5\" fill=\"none\" opacity=\"0.5\" r=\"20.25\" stroke=\"red\" stroke-width=\"4.5\"/><circle class=\"circle\" cx=\"157.5\" cy=\"157.5\" fill=\"none\" opacity=\"0.5\" r=\"20.25\" stroke=\"red\" stroke-width=\"4.5\"/><circle class=\"circle\" cx=\"292.5\" cy=\"157.5\" fill=\"none\" opacity=\"0.5\" r=\"20.25\" stroke=\"red\" stroke-width=\"4.5\"/><circle class=\"circle\" cx=\"22.5\" cy=\"112.5\" fill=\"none\" opacity=\"0.5\" r=\"20.25\" stroke=\"red\" stroke-width=\"4.5\"/><circle class=\"circle\" cx=\"67.5\" cy=\"112.5\" fill=\"none\" opacity=\"0.5\" r=\"20.25\" stroke=\"red\" stroke-width=\"4.5\"/><circle class=\"circle\" cx=\"157.5\" cy=\"112.5\" fill=\"none\" opacity=\"0.5\" r=\"20.25\" stroke=\"red\" stroke-width=\"4.5\"/></svg>"
      ],
      "text/plain": [
       "<IPython.core.display.SVG object>"
      ]
     },
     "metadata": {},
     "output_type": "display_data"
    },
    {
     "name": "stdout",
     "output_type": "stream",
     "text": [
      "42\n"
     ]
    },
    {
     "data": {
      "image/svg+xml": [
       "<svg version=\"1.1\" viewBox=\"0 0 360 360\" xmlns=\"http://www.w3.org/2000/svg\" xmlns:xlink=\"http://www.w3.org/1999/xlink\"><style>\n",
       ".square.light {\n",
       "fill: #cacaca;\n",
       "}\n",
       ".square.dark {\n",
       "fill: #898989;\n",
       "}\n",
       "#xx {\n",
       "fill: blue;\n",
       "stroke: red;\n",
       "}\n",
       ".square.light.lastmove {\n",
       "fill: #c3d889;\n",
       "}\n",
       ".square.dark.lastmove {\n",
       "fill: #92b167;\n",
       "}\n",
       ".check {\n",
       "fill: url(#check_gradient);\n",
       "}\n",
       ".arrow {\n",
       "stroke: #ff5858;\n",
       "fill: blue;\n",
       "}\n",
       ".mark {\n",
       "stroke: #959fff;\n",
       "fill: blue;\n",
       "}\n",
       "</style><defs><g class=\"white bishop\" fill=\"none\" fill-rule=\"evenodd\" id=\"white-bishop\" stroke=\"#000\" stroke-linecap=\"round\" stroke-linejoin=\"round\" stroke-width=\"1.5\"><g fill=\"#fff\" stroke-linecap=\"butt\"><path d=\"M9 36c3.39-.97 10.11.43 13.5-2 3.39 2.43 10.11 1.03 13.5 2 0 0 1.65.54 3 2-.68.97-1.65.99-3 .5-3.39-.97-10.11.46-13.5-1-3.39 1.46-10.11.03-13.5 1-1.354.49-2.323.47-3-.5 1.354-1.94 3-2 3-2zM15 32c2.5 2.5 12.5 2.5 15 0 .5-1.5 0-2 0-2 0-2.5-2.5-4-2.5-4 5.5-1.5 6-11.5-5-15.5-11 4-10.5 14-5 15.5 0 0-2.5 1.5-2.5 4 0 0-.5.5 0 2zM25 8a2.5 2.5 0 1 1-5 0 2.5 2.5 0 1 1 5 0z\"/></g><path d=\"M17.5 26h10M15 30h15m-7.5-14.5v5M20 18h5\" stroke-linejoin=\"miter\"/></g><g class=\"white queen\" fill=\"#fff\" fill-rule=\"evenodd\" id=\"white-queen\" stroke=\"#000\" stroke-linecap=\"round\" stroke-linejoin=\"round\" stroke-width=\"1.5\"><path d=\"M8 12a2 2 0 1 1-4 0 2 2 0 1 1 4 0zM24.5 7.5a2 2 0 1 1-4 0 2 2 0 1 1 4 0zM41 12a2 2 0 1 1-4 0 2 2 0 1 1 4 0zM16 8.5a2 2 0 1 1-4 0 2 2 0 1 1 4 0zM33 9a2 2 0 1 1-4 0 2 2 0 1 1 4 0z\"/><path d=\"M9 26c8.5-1.5 21-1.5 27 0l2-12-7 11V11l-5.5 13.5-3-15-3 15-5.5-14V25L7 14l2 12zM9 26c0 2 1.5 2 2.5 4 1 1.5 1 1 .5 3.5-1.5 1-1.5 2.5-1.5 2.5-1.5 1.5.5 2.5.5 2.5 6.5 1 16.5 1 23 0 0 0 1.5-1 0-2.5 0 0 .5-1.5-1-2.5-.5-2.5-.5-2 .5-3.5 1-2 2.5-2 2.5-4-8.5-1.5-18.5-1.5-27 0z\" stroke-linecap=\"butt\"/><path d=\"M11.5 30c3.5-1 18.5-1 22 0M12 33.5c6-1 15-1 21 0\" fill=\"none\"/></g></defs><rect class=\"square dark a1\" fill=\"#d18b47\" height=\"45\" stroke=\"none\" width=\"45\" x=\"0\" y=\"315\"/><rect class=\"square light b1\" fill=\"#ffce9e\" height=\"45\" stroke=\"none\" width=\"45\" x=\"45\" y=\"315\"/><rect class=\"square dark c1\" fill=\"#d18b47\" height=\"45\" stroke=\"none\" width=\"45\" x=\"90\" y=\"315\"/><rect class=\"square light d1\" fill=\"#ffce9e\" height=\"45\" stroke=\"none\" width=\"45\" x=\"135\" y=\"315\"/><rect class=\"square dark e1\" fill=\"#d18b47\" height=\"45\" stroke=\"none\" width=\"45\" x=\"180\" y=\"315\"/><rect class=\"square light f1\" fill=\"#ffce9e\" height=\"45\" stroke=\"none\" width=\"45\" x=\"225\" y=\"315\"/><rect class=\"square dark g1\" fill=\"#d18b47\" height=\"45\" stroke=\"none\" width=\"45\" x=\"270\" y=\"315\"/><rect class=\"square light h1\" fill=\"#ffce9e\" height=\"45\" stroke=\"none\" width=\"45\" x=\"315\" y=\"315\"/><rect class=\"square light a2\" fill=\"#ffce9e\" height=\"45\" stroke=\"none\" width=\"45\" x=\"0\" y=\"270\"/><rect class=\"square dark b2\" fill=\"#d18b47\" height=\"45\" stroke=\"none\" width=\"45\" x=\"45\" y=\"270\"/><rect class=\"square light c2\" fill=\"#ffce9e\" height=\"45\" stroke=\"none\" width=\"45\" x=\"90\" y=\"270\"/><rect class=\"square dark d2\" fill=\"#d18b47\" height=\"45\" stroke=\"none\" width=\"45\" x=\"135\" y=\"270\"/><rect class=\"square light e2\" fill=\"#ffce9e\" height=\"45\" stroke=\"none\" width=\"45\" x=\"180\" y=\"270\"/><rect class=\"square dark f2\" fill=\"#d18b47\" height=\"45\" stroke=\"none\" width=\"45\" x=\"225\" y=\"270\"/><rect class=\"square light g2\" fill=\"#ffce9e\" height=\"45\" stroke=\"none\" width=\"45\" x=\"270\" y=\"270\"/><rect class=\"square dark h2\" fill=\"#d18b47\" height=\"45\" stroke=\"none\" width=\"45\" x=\"315\" y=\"270\"/><rect class=\"square dark a3\" fill=\"#d18b47\" height=\"45\" stroke=\"none\" width=\"45\" x=\"0\" y=\"225\"/><rect class=\"square light b3\" fill=\"#ffce9e\" height=\"45\" stroke=\"none\" width=\"45\" x=\"45\" y=\"225\"/><rect class=\"square dark c3\" fill=\"#d18b47\" height=\"45\" stroke=\"none\" width=\"45\" x=\"90\" y=\"225\"/><rect class=\"square light d3\" fill=\"#ffce9e\" height=\"45\" stroke=\"none\" width=\"45\" x=\"135\" y=\"225\"/><rect class=\"square dark e3\" fill=\"#d18b47\" height=\"45\" stroke=\"none\" width=\"45\" x=\"180\" y=\"225\"/><rect class=\"square light f3\" fill=\"#ffce9e\" height=\"45\" stroke=\"none\" width=\"45\" x=\"225\" y=\"225\"/><rect class=\"square dark g3\" fill=\"#d18b47\" height=\"45\" stroke=\"none\" width=\"45\" x=\"270\" y=\"225\"/><rect class=\"square light h3\" fill=\"#ffce9e\" height=\"45\" stroke=\"none\" width=\"45\" x=\"315\" y=\"225\"/><rect class=\"square light a4\" fill=\"#ffce9e\" height=\"45\" stroke=\"none\" width=\"45\" x=\"0\" y=\"180\"/><rect class=\"square dark b4\" fill=\"#d18b47\" height=\"45\" stroke=\"none\" width=\"45\" x=\"45\" y=\"180\"/><rect class=\"square light c4\" fill=\"#ffce9e\" height=\"45\" stroke=\"none\" width=\"45\" x=\"90\" y=\"180\"/><rect class=\"square dark d4\" fill=\"#d18b47\" height=\"45\" stroke=\"none\" width=\"45\" x=\"135\" y=\"180\"/><rect class=\"square light e4\" fill=\"#ffce9e\" height=\"45\" stroke=\"none\" width=\"45\" x=\"180\" y=\"180\"/><rect class=\"square dark f4\" fill=\"#d18b47\" height=\"45\" stroke=\"none\" width=\"45\" x=\"225\" y=\"180\"/><rect class=\"square light g4\" fill=\"#ffce9e\" height=\"45\" stroke=\"none\" width=\"45\" x=\"270\" y=\"180\"/><rect class=\"square dark h4\" fill=\"#d18b47\" height=\"45\" stroke=\"none\" width=\"45\" x=\"315\" y=\"180\"/><rect class=\"square dark a5\" fill=\"#d18b47\" height=\"45\" stroke=\"none\" width=\"45\" x=\"0\" y=\"135\"/><rect class=\"square light b5\" fill=\"#ffce9e\" height=\"45\" stroke=\"none\" width=\"45\" x=\"45\" y=\"135\"/><rect class=\"square dark c5\" fill=\"#d18b47\" height=\"45\" stroke=\"none\" width=\"45\" x=\"90\" y=\"135\"/><rect class=\"square light d5\" fill=\"#ffce9e\" height=\"45\" stroke=\"none\" width=\"45\" x=\"135\" y=\"135\"/><rect class=\"square dark e5\" fill=\"#d18b47\" height=\"45\" stroke=\"none\" width=\"45\" x=\"180\" y=\"135\"/><rect class=\"square light f5\" fill=\"#ffce9e\" height=\"45\" stroke=\"none\" width=\"45\" x=\"225\" y=\"135\"/><rect class=\"square dark g5\" fill=\"#d18b47\" height=\"45\" stroke=\"none\" width=\"45\" x=\"270\" y=\"135\"/><rect class=\"square light h5\" fill=\"#ffce9e\" height=\"45\" stroke=\"none\" width=\"45\" x=\"315\" y=\"135\"/><rect class=\"square light a6\" fill=\"#ffce9e\" height=\"45\" stroke=\"none\" width=\"45\" x=\"0\" y=\"90\"/><rect class=\"square dark b6\" fill=\"#d18b47\" height=\"45\" stroke=\"none\" width=\"45\" x=\"45\" y=\"90\"/><rect class=\"square light c6\" fill=\"#ffce9e\" height=\"45\" stroke=\"none\" width=\"45\" x=\"90\" y=\"90\"/><rect class=\"square dark d6\" fill=\"#d18b47\" height=\"45\" stroke=\"none\" width=\"45\" x=\"135\" y=\"90\"/><rect class=\"square light e6\" fill=\"#ffce9e\" height=\"45\" stroke=\"none\" width=\"45\" x=\"180\" y=\"90\"/><rect class=\"square dark f6\" fill=\"#d18b47\" height=\"45\" stroke=\"none\" width=\"45\" x=\"225\" y=\"90\"/><rect class=\"square light g6\" fill=\"#ffce9e\" height=\"45\" stroke=\"none\" width=\"45\" x=\"270\" y=\"90\"/><rect class=\"square dark h6\" fill=\"#d18b47\" height=\"45\" stroke=\"none\" width=\"45\" x=\"315\" y=\"90\"/><rect class=\"square dark a7\" fill=\"#d18b47\" height=\"45\" stroke=\"none\" width=\"45\" x=\"0\" y=\"45\"/><rect class=\"square light b7\" fill=\"#ffce9e\" height=\"45\" stroke=\"none\" width=\"45\" x=\"45\" y=\"45\"/><rect class=\"square dark c7\" fill=\"#d18b47\" height=\"45\" stroke=\"none\" width=\"45\" x=\"90\" y=\"45\"/><rect class=\"square light d7\" fill=\"#ffce9e\" height=\"45\" stroke=\"none\" width=\"45\" x=\"135\" y=\"45\"/><rect class=\"square dark e7\" fill=\"#d18b47\" height=\"45\" stroke=\"none\" width=\"45\" x=\"180\" y=\"45\"/><rect class=\"square light f7\" fill=\"#ffce9e\" height=\"45\" stroke=\"none\" width=\"45\" x=\"225\" y=\"45\"/><rect class=\"square dark g7\" fill=\"#d18b47\" height=\"45\" stroke=\"none\" width=\"45\" x=\"270\" y=\"45\"/><use transform=\"translate(270, 45)\" xlink:href=\"#white-bishop\"/><rect class=\"square light h7\" fill=\"#ffce9e\" height=\"45\" stroke=\"none\" width=\"45\" x=\"315\" y=\"45\"/><use transform=\"translate(315, 45)\" xlink:href=\"#white-queen\"/><rect class=\"square light a8\" fill=\"#ffce9e\" height=\"45\" stroke=\"none\" width=\"45\" x=\"0\" y=\"0\"/><rect class=\"square dark b8\" fill=\"#d18b47\" height=\"45\" stroke=\"none\" width=\"45\" x=\"45\" y=\"0\"/><rect class=\"square light c8\" fill=\"#ffce9e\" height=\"45\" stroke=\"none\" width=\"45\" x=\"90\" y=\"0\"/><rect class=\"square dark d8\" fill=\"#d18b47\" height=\"45\" stroke=\"none\" width=\"45\" x=\"135\" y=\"0\"/><rect class=\"square light e8\" fill=\"#ffce9e\" height=\"45\" stroke=\"none\" width=\"45\" x=\"180\" y=\"0\"/><use transform=\"translate(180, 0)\" xlink:href=\"#white-queen\"/><rect class=\"square dark f8\" fill=\"#d18b47\" height=\"45\" stroke=\"none\" width=\"45\" x=\"225\" y=\"0\"/><rect class=\"square light g8\" fill=\"#ffce9e\" height=\"45\" stroke=\"none\" width=\"45\" x=\"270\" y=\"0\"/><use transform=\"translate(270, 0)\" xlink:href=\"#white-queen\"/><rect class=\"square dark h8\" fill=\"#d18b47\" height=\"45\" stroke=\"none\" width=\"45\" x=\"315\" y=\"0\"/><use transform=\"translate(315, 0)\" xlink:href=\"#white-queen\"/><circle class=\"circle\" cx=\"112.5\" cy=\"337.5\" fill=\"none\" opacity=\"0.5\" r=\"20.25\" stroke=\"red\" stroke-width=\"4.5\"/><circle class=\"circle\" cx=\"157.5\" cy=\"337.5\" fill=\"none\" opacity=\"0.5\" r=\"20.25\" stroke=\"red\" stroke-width=\"4.5\"/><circle class=\"circle\" cx=\"247.5\" cy=\"337.5\" fill=\"none\" opacity=\"0.5\" r=\"20.25\" stroke=\"red\" stroke-width=\"4.5\"/><circle class=\"circle\" cx=\"292.5\" cy=\"337.5\" fill=\"none\" opacity=\"0.5\" r=\"20.25\" stroke=\"red\" stroke-width=\"4.5\"/><circle class=\"circle\" cx=\"157.5\" cy=\"292.5\" fill=\"none\" opacity=\"0.5\" r=\"20.25\" stroke=\"red\" stroke-width=\"4.5\"/><circle class=\"circle\" cx=\"247.5\" cy=\"292.5\" fill=\"none\" opacity=\"0.5\" r=\"20.25\" stroke=\"red\" stroke-width=\"4.5\"/><circle class=\"circle\" cx=\"292.5\" cy=\"292.5\" fill=\"none\" opacity=\"0.5\" r=\"20.25\" stroke=\"red\" stroke-width=\"4.5\"/><circle class=\"circle\" cx=\"22.5\" cy=\"247.5\" fill=\"none\" opacity=\"0.5\" r=\"20.25\" stroke=\"red\" stroke-width=\"4.5\"/><circle class=\"circle\" cx=\"247.5\" cy=\"247.5\" fill=\"none\" opacity=\"0.5\" r=\"20.25\" stroke=\"red\" stroke-width=\"4.5\"/><circle class=\"circle\" cx=\"292.5\" cy=\"247.5\" fill=\"none\" opacity=\"0.5\" r=\"20.25\" stroke=\"red\" stroke-width=\"4.5\"/><circle class=\"circle\" cx=\"67.5\" cy=\"202.5\" fill=\"none\" opacity=\"0.5\" r=\"20.25\" stroke=\"red\" stroke-width=\"4.5\"/><circle class=\"circle\" cx=\"247.5\" cy=\"202.5\" fill=\"none\" opacity=\"0.5\" r=\"20.25\" stroke=\"red\" stroke-width=\"4.5\"/><circle class=\"circle\" cx=\"292.5\" cy=\"202.5\" fill=\"none\" opacity=\"0.5\" r=\"20.25\" stroke=\"red\" stroke-width=\"4.5\"/><circle class=\"circle\" cx=\"22.5\" cy=\"157.5\" fill=\"none\" opacity=\"0.5\" r=\"20.25\" stroke=\"red\" stroke-width=\"4.5\"/><circle class=\"circle\" cx=\"112.5\" cy=\"157.5\" fill=\"none\" opacity=\"0.5\" r=\"20.25\" stroke=\"red\" stroke-width=\"4.5\"/><circle class=\"circle\" cx=\"292.5\" cy=\"157.5\" fill=\"none\" opacity=\"0.5\" r=\"20.25\" stroke=\"red\" stroke-width=\"4.5\"/><circle class=\"circle\" cx=\"22.5\" cy=\"112.5\" fill=\"none\" opacity=\"0.5\" r=\"20.25\" stroke=\"red\" stroke-width=\"4.5\"/><circle class=\"circle\" cx=\"67.5\" cy=\"112.5\" fill=\"none\" opacity=\"0.5\" r=\"20.25\" stroke=\"red\" stroke-width=\"4.5\"/><circle class=\"circle\" cx=\"157.5\" cy=\"112.5\" fill=\"none\" opacity=\"0.5\" r=\"20.25\" stroke=\"red\" stroke-width=\"4.5\"/><circle class=\"circle\" cx=\"22.5\" cy=\"67.5\" fill=\"none\" opacity=\"0.5\" r=\"20.25\" stroke=\"red\" stroke-width=\"4.5\"/><circle class=\"circle\" cx=\"67.5\" cy=\"67.5\" fill=\"none\" opacity=\"0.5\" r=\"20.25\" stroke=\"red\" stroke-width=\"4.5\"/><circle class=\"circle\" cx=\"112.5\" cy=\"67.5\" fill=\"none\" opacity=\"0.5\" r=\"20.25\" stroke=\"red\" stroke-width=\"4.5\"/></svg>"
      ],
      "text/plain": [
       "<IPython.core.display.SVG object>"
      ]
     },
     "metadata": {},
     "output_type": "display_data"
    },
    {
     "name": "stdout",
     "output_type": "stream",
     "text": [
      "43\n"
     ]
    },
    {
     "data": {
      "image/svg+xml": [
       "<svg version=\"1.1\" viewBox=\"0 0 360 360\" xmlns=\"http://www.w3.org/2000/svg\" xmlns:xlink=\"http://www.w3.org/1999/xlink\"><style>\n",
       ".square.light {\n",
       "fill: #cacaca;\n",
       "}\n",
       ".square.dark {\n",
       "fill: #898989;\n",
       "}\n",
       "#xx {\n",
       "fill: blue;\n",
       "stroke: red;\n",
       "}\n",
       ".square.light.lastmove {\n",
       "fill: #c3d889;\n",
       "}\n",
       ".square.dark.lastmove {\n",
       "fill: #92b167;\n",
       "}\n",
       ".check {\n",
       "fill: url(#check_gradient);\n",
       "}\n",
       ".arrow {\n",
       "stroke: #ff5858;\n",
       "fill: blue;\n",
       "}\n",
       ".mark {\n",
       "stroke: #959fff;\n",
       "fill: blue;\n",
       "}\n",
       "</style><defs><g class=\"white bishop\" fill=\"none\" fill-rule=\"evenodd\" id=\"white-bishop\" stroke=\"#000\" stroke-linecap=\"round\" stroke-linejoin=\"round\" stroke-width=\"1.5\"><g fill=\"#fff\" stroke-linecap=\"butt\"><path d=\"M9 36c3.39-.97 10.11.43 13.5-2 3.39 2.43 10.11 1.03 13.5 2 0 0 1.65.54 3 2-.68.97-1.65.99-3 .5-3.39-.97-10.11.46-13.5-1-3.39 1.46-10.11.03-13.5 1-1.354.49-2.323.47-3-.5 1.354-1.94 3-2 3-2zM15 32c2.5 2.5 12.5 2.5 15 0 .5-1.5 0-2 0-2 0-2.5-2.5-4-2.5-4 5.5-1.5 6-11.5-5-15.5-11 4-10.5 14-5 15.5 0 0-2.5 1.5-2.5 4 0 0-.5.5 0 2zM25 8a2.5 2.5 0 1 1-5 0 2.5 2.5 0 1 1 5 0z\"/></g><path d=\"M17.5 26h10M15 30h15m-7.5-14.5v5M20 18h5\" stroke-linejoin=\"miter\"/></g><g class=\"white queen\" fill=\"#fff\" fill-rule=\"evenodd\" id=\"white-queen\" stroke=\"#000\" stroke-linecap=\"round\" stroke-linejoin=\"round\" stroke-width=\"1.5\"><path d=\"M8 12a2 2 0 1 1-4 0 2 2 0 1 1 4 0zM24.5 7.5a2 2 0 1 1-4 0 2 2 0 1 1 4 0zM41 12a2 2 0 1 1-4 0 2 2 0 1 1 4 0zM16 8.5a2 2 0 1 1-4 0 2 2 0 1 1 4 0zM33 9a2 2 0 1 1-4 0 2 2 0 1 1 4 0z\"/><path d=\"M9 26c8.5-1.5 21-1.5 27 0l2-12-7 11V11l-5.5 13.5-3-15-3 15-5.5-14V25L7 14l2 12zM9 26c0 2 1.5 2 2.5 4 1 1.5 1 1 .5 3.5-1.5 1-1.5 2.5-1.5 2.5-1.5 1.5.5 2.5.5 2.5 6.5 1 16.5 1 23 0 0 0 1.5-1 0-2.5 0 0 .5-1.5-1-2.5-.5-2.5-.5-2 .5-3.5 1-2 2.5-2 2.5-4-8.5-1.5-18.5-1.5-27 0z\" stroke-linecap=\"butt\"/><path d=\"M11.5 30c3.5-1 18.5-1 22 0M12 33.5c6-1 15-1 21 0\" fill=\"none\"/></g></defs><rect class=\"square dark a1\" fill=\"#d18b47\" height=\"45\" stroke=\"none\" width=\"45\" x=\"0\" y=\"315\"/><rect class=\"square light b1\" fill=\"#ffce9e\" height=\"45\" stroke=\"none\" width=\"45\" x=\"45\" y=\"315\"/><rect class=\"square dark c1\" fill=\"#d18b47\" height=\"45\" stroke=\"none\" width=\"45\" x=\"90\" y=\"315\"/><rect class=\"square light d1\" fill=\"#ffce9e\" height=\"45\" stroke=\"none\" width=\"45\" x=\"135\" y=\"315\"/><rect class=\"square dark e1\" fill=\"#d18b47\" height=\"45\" stroke=\"none\" width=\"45\" x=\"180\" y=\"315\"/><rect class=\"square light f1\" fill=\"#ffce9e\" height=\"45\" stroke=\"none\" width=\"45\" x=\"225\" y=\"315\"/><rect class=\"square dark g1\" fill=\"#d18b47\" height=\"45\" stroke=\"none\" width=\"45\" x=\"270\" y=\"315\"/><rect class=\"square light h1\" fill=\"#ffce9e\" height=\"45\" stroke=\"none\" width=\"45\" x=\"315\" y=\"315\"/><rect class=\"square light a2\" fill=\"#ffce9e\" height=\"45\" stroke=\"none\" width=\"45\" x=\"0\" y=\"270\"/><rect class=\"square dark b2\" fill=\"#d18b47\" height=\"45\" stroke=\"none\" width=\"45\" x=\"45\" y=\"270\"/><rect class=\"square light c2\" fill=\"#ffce9e\" height=\"45\" stroke=\"none\" width=\"45\" x=\"90\" y=\"270\"/><rect class=\"square dark d2\" fill=\"#d18b47\" height=\"45\" stroke=\"none\" width=\"45\" x=\"135\" y=\"270\"/><rect class=\"square light e2\" fill=\"#ffce9e\" height=\"45\" stroke=\"none\" width=\"45\" x=\"180\" y=\"270\"/><rect class=\"square dark f2\" fill=\"#d18b47\" height=\"45\" stroke=\"none\" width=\"45\" x=\"225\" y=\"270\"/><rect class=\"square light g2\" fill=\"#ffce9e\" height=\"45\" stroke=\"none\" width=\"45\" x=\"270\" y=\"270\"/><rect class=\"square dark h2\" fill=\"#d18b47\" height=\"45\" stroke=\"none\" width=\"45\" x=\"315\" y=\"270\"/><rect class=\"square dark a3\" fill=\"#d18b47\" height=\"45\" stroke=\"none\" width=\"45\" x=\"0\" y=\"225\"/><rect class=\"square light b3\" fill=\"#ffce9e\" height=\"45\" stroke=\"none\" width=\"45\" x=\"45\" y=\"225\"/><rect class=\"square dark c3\" fill=\"#d18b47\" height=\"45\" stroke=\"none\" width=\"45\" x=\"90\" y=\"225\"/><rect class=\"square light d3\" fill=\"#ffce9e\" height=\"45\" stroke=\"none\" width=\"45\" x=\"135\" y=\"225\"/><rect class=\"square dark e3\" fill=\"#d18b47\" height=\"45\" stroke=\"none\" width=\"45\" x=\"180\" y=\"225\"/><rect class=\"square light f3\" fill=\"#ffce9e\" height=\"45\" stroke=\"none\" width=\"45\" x=\"225\" y=\"225\"/><rect class=\"square dark g3\" fill=\"#d18b47\" height=\"45\" stroke=\"none\" width=\"45\" x=\"270\" y=\"225\"/><rect class=\"square light h3\" fill=\"#ffce9e\" height=\"45\" stroke=\"none\" width=\"45\" x=\"315\" y=\"225\"/><rect class=\"square light a4\" fill=\"#ffce9e\" height=\"45\" stroke=\"none\" width=\"45\" x=\"0\" y=\"180\"/><rect class=\"square dark b4\" fill=\"#d18b47\" height=\"45\" stroke=\"none\" width=\"45\" x=\"45\" y=\"180\"/><rect class=\"square light c4\" fill=\"#ffce9e\" height=\"45\" stroke=\"none\" width=\"45\" x=\"90\" y=\"180\"/><rect class=\"square dark d4\" fill=\"#d18b47\" height=\"45\" stroke=\"none\" width=\"45\" x=\"135\" y=\"180\"/><rect class=\"square light e4\" fill=\"#ffce9e\" height=\"45\" stroke=\"none\" width=\"45\" x=\"180\" y=\"180\"/><rect class=\"square dark f4\" fill=\"#d18b47\" height=\"45\" stroke=\"none\" width=\"45\" x=\"225\" y=\"180\"/><rect class=\"square light g4\" fill=\"#ffce9e\" height=\"45\" stroke=\"none\" width=\"45\" x=\"270\" y=\"180\"/><rect class=\"square dark h4\" fill=\"#d18b47\" height=\"45\" stroke=\"none\" width=\"45\" x=\"315\" y=\"180\"/><rect class=\"square dark a5\" fill=\"#d18b47\" height=\"45\" stroke=\"none\" width=\"45\" x=\"0\" y=\"135\"/><rect class=\"square light b5\" fill=\"#ffce9e\" height=\"45\" stroke=\"none\" width=\"45\" x=\"45\" y=\"135\"/><rect class=\"square dark c5\" fill=\"#d18b47\" height=\"45\" stroke=\"none\" width=\"45\" x=\"90\" y=\"135\"/><rect class=\"square light d5\" fill=\"#ffce9e\" height=\"45\" stroke=\"none\" width=\"45\" x=\"135\" y=\"135\"/><rect class=\"square dark e5\" fill=\"#d18b47\" height=\"45\" stroke=\"none\" width=\"45\" x=\"180\" y=\"135\"/><rect class=\"square light f5\" fill=\"#ffce9e\" height=\"45\" stroke=\"none\" width=\"45\" x=\"225\" y=\"135\"/><rect class=\"square dark g5\" fill=\"#d18b47\" height=\"45\" stroke=\"none\" width=\"45\" x=\"270\" y=\"135\"/><rect class=\"square light h5\" fill=\"#ffce9e\" height=\"45\" stroke=\"none\" width=\"45\" x=\"315\" y=\"135\"/><rect class=\"square light a6\" fill=\"#ffce9e\" height=\"45\" stroke=\"none\" width=\"45\" x=\"0\" y=\"90\"/><rect class=\"square dark b6\" fill=\"#d18b47\" height=\"45\" stroke=\"none\" width=\"45\" x=\"45\" y=\"90\"/><rect class=\"square light c6\" fill=\"#ffce9e\" height=\"45\" stroke=\"none\" width=\"45\" x=\"90\" y=\"90\"/><rect class=\"square dark d6\" fill=\"#d18b47\" height=\"45\" stroke=\"none\" width=\"45\" x=\"135\" y=\"90\"/><rect class=\"square light e6\" fill=\"#ffce9e\" height=\"45\" stroke=\"none\" width=\"45\" x=\"180\" y=\"90\"/><rect class=\"square dark f6\" fill=\"#d18b47\" height=\"45\" stroke=\"none\" width=\"45\" x=\"225\" y=\"90\"/><rect class=\"square light g6\" fill=\"#ffce9e\" height=\"45\" stroke=\"none\" width=\"45\" x=\"270\" y=\"90\"/><rect class=\"square dark h6\" fill=\"#d18b47\" height=\"45\" stroke=\"none\" width=\"45\" x=\"315\" y=\"90\"/><rect class=\"square dark a7\" fill=\"#d18b47\" height=\"45\" stroke=\"none\" width=\"45\" x=\"0\" y=\"45\"/><rect class=\"square light b7\" fill=\"#ffce9e\" height=\"45\" stroke=\"none\" width=\"45\" x=\"45\" y=\"45\"/><rect class=\"square dark c7\" fill=\"#d18b47\" height=\"45\" stroke=\"none\" width=\"45\" x=\"90\" y=\"45\"/><rect class=\"square light d7\" fill=\"#ffce9e\" height=\"45\" stroke=\"none\" width=\"45\" x=\"135\" y=\"45\"/><rect class=\"square dark e7\" fill=\"#d18b47\" height=\"45\" stroke=\"none\" width=\"45\" x=\"180\" y=\"45\"/><rect class=\"square light f7\" fill=\"#ffce9e\" height=\"45\" stroke=\"none\" width=\"45\" x=\"225\" y=\"45\"/><rect class=\"square dark g7\" fill=\"#d18b47\" height=\"45\" stroke=\"none\" width=\"45\" x=\"270\" y=\"45\"/><use transform=\"translate(270, 45)\" xlink:href=\"#white-bishop\"/><rect class=\"square light h7\" fill=\"#ffce9e\" height=\"45\" stroke=\"none\" width=\"45\" x=\"315\" y=\"45\"/><use transform=\"translate(315, 45)\" xlink:href=\"#white-queen\"/><rect class=\"square light a8\" fill=\"#ffce9e\" height=\"45\" stroke=\"none\" width=\"45\" x=\"0\" y=\"0\"/><rect class=\"square dark b8\" fill=\"#d18b47\" height=\"45\" stroke=\"none\" width=\"45\" x=\"45\" y=\"0\"/><rect class=\"square light c8\" fill=\"#ffce9e\" height=\"45\" stroke=\"none\" width=\"45\" x=\"90\" y=\"0\"/><rect class=\"square dark d8\" fill=\"#d18b47\" height=\"45\" stroke=\"none\" width=\"45\" x=\"135\" y=\"0\"/><rect class=\"square light e8\" fill=\"#ffce9e\" height=\"45\" stroke=\"none\" width=\"45\" x=\"180\" y=\"0\"/><rect class=\"square dark f8\" fill=\"#d18b47\" height=\"45\" stroke=\"none\" width=\"45\" x=\"225\" y=\"0\"/><use transform=\"translate(225, 0)\" xlink:href=\"#white-queen\"/><rect class=\"square light g8\" fill=\"#ffce9e\" height=\"45\" stroke=\"none\" width=\"45\" x=\"270\" y=\"0\"/><use transform=\"translate(270, 0)\" xlink:href=\"#white-queen\"/><rect class=\"square dark h8\" fill=\"#d18b47\" height=\"45\" stroke=\"none\" width=\"45\" x=\"315\" y=\"0\"/><use transform=\"translate(315, 0)\" xlink:href=\"#white-queen\"/><circle class=\"circle\" cx=\"112.5\" cy=\"337.5\" fill=\"none\" opacity=\"0.5\" r=\"20.25\" stroke=\"red\" stroke-width=\"4.5\"/><circle class=\"circle\" cx=\"157.5\" cy=\"337.5\" fill=\"none\" opacity=\"0.5\" r=\"20.25\" stroke=\"red\" stroke-width=\"4.5\"/><circle class=\"circle\" cx=\"202.5\" cy=\"337.5\" fill=\"none\" opacity=\"0.5\" r=\"20.25\" stroke=\"red\" stroke-width=\"4.5\"/><circle class=\"circle\" cx=\"292.5\" cy=\"337.5\" fill=\"none\" opacity=\"0.5\" r=\"20.25\" stroke=\"red\" stroke-width=\"4.5\"/><circle class=\"circle\" cx=\"157.5\" cy=\"292.5\" fill=\"none\" opacity=\"0.5\" r=\"20.25\" stroke=\"red\" stroke-width=\"4.5\"/><circle class=\"circle\" cx=\"202.5\" cy=\"292.5\" fill=\"none\" opacity=\"0.5\" r=\"20.25\" stroke=\"red\" stroke-width=\"4.5\"/><circle class=\"circle\" cx=\"292.5\" cy=\"292.5\" fill=\"none\" opacity=\"0.5\" r=\"20.25\" stroke=\"red\" stroke-width=\"4.5\"/><circle class=\"circle\" cx=\"202.5\" cy=\"247.5\" fill=\"none\" opacity=\"0.5\" r=\"20.25\" stroke=\"red\" stroke-width=\"4.5\"/><circle class=\"circle\" cx=\"292.5\" cy=\"247.5\" fill=\"none\" opacity=\"0.5\" r=\"20.25\" stroke=\"red\" stroke-width=\"4.5\"/><circle class=\"circle\" cx=\"22.5\" cy=\"202.5\" fill=\"none\" opacity=\"0.5\" r=\"20.25\" stroke=\"red\" stroke-width=\"4.5\"/><circle class=\"circle\" cx=\"292.5\" cy=\"202.5\" fill=\"none\" opacity=\"0.5\" r=\"20.25\" stroke=\"red\" stroke-width=\"4.5\"/><circle class=\"circle\" cx=\"22.5\" cy=\"157.5\" fill=\"none\" opacity=\"0.5\" r=\"20.25\" stroke=\"red\" stroke-width=\"4.5\"/><circle class=\"circle\" cx=\"67.5\" cy=\"157.5\" fill=\"none\" opacity=\"0.5\" r=\"20.25\" stroke=\"red\" stroke-width=\"4.5\"/><circle class=\"circle\" cx=\"292.5\" cy=\"157.5\" fill=\"none\" opacity=\"0.5\" r=\"20.25\" stroke=\"red\" stroke-width=\"4.5\"/><circle class=\"circle\" cx=\"22.5\" cy=\"112.5\" fill=\"none\" opacity=\"0.5\" r=\"20.25\" stroke=\"red\" stroke-width=\"4.5\"/><circle class=\"circle\" cx=\"67.5\" cy=\"112.5\" fill=\"none\" opacity=\"0.5\" r=\"20.25\" stroke=\"red\" stroke-width=\"4.5\"/><circle class=\"circle\" cx=\"112.5\" cy=\"112.5\" fill=\"none\" opacity=\"0.5\" r=\"20.25\" stroke=\"red\" stroke-width=\"4.5\"/><circle class=\"circle\" cx=\"22.5\" cy=\"67.5\" fill=\"none\" opacity=\"0.5\" r=\"20.25\" stroke=\"red\" stroke-width=\"4.5\"/><circle class=\"circle\" cx=\"67.5\" cy=\"67.5\" fill=\"none\" opacity=\"0.5\" r=\"20.25\" stroke=\"red\" stroke-width=\"4.5\"/><circle class=\"circle\" cx=\"112.5\" cy=\"67.5\" fill=\"none\" opacity=\"0.5\" r=\"20.25\" stroke=\"red\" stroke-width=\"4.5\"/><circle class=\"circle\" cx=\"157.5\" cy=\"67.5\" fill=\"none\" opacity=\"0.5\" r=\"20.25\" stroke=\"red\" stroke-width=\"4.5\"/></svg>"
      ],
      "text/plain": [
       "<IPython.core.display.SVG object>"
      ]
     },
     "metadata": {},
     "output_type": "display_data"
    },
    {
     "name": "stdout",
     "output_type": "stream",
     "text": [
      "44\n"
     ]
    },
    {
     "data": {
      "image/svg+xml": [
       "<svg version=\"1.1\" viewBox=\"0 0 360 360\" xmlns=\"http://www.w3.org/2000/svg\" xmlns:xlink=\"http://www.w3.org/1999/xlink\"><style>\n",
       ".square.light {\n",
       "fill: #cacaca;\n",
       "}\n",
       ".square.dark {\n",
       "fill: #898989;\n",
       "}\n",
       "#xx {\n",
       "fill: blue;\n",
       "stroke: red;\n",
       "}\n",
       ".square.light.lastmove {\n",
       "fill: #c3d889;\n",
       "}\n",
       ".square.dark.lastmove {\n",
       "fill: #92b167;\n",
       "}\n",
       ".check {\n",
       "fill: url(#check_gradient);\n",
       "}\n",
       ".arrow {\n",
       "stroke: #ff5858;\n",
       "fill: blue;\n",
       "}\n",
       ".mark {\n",
       "stroke: #959fff;\n",
       "fill: blue;\n",
       "}\n",
       "</style><defs><g class=\"white bishop\" fill=\"none\" fill-rule=\"evenodd\" id=\"white-bishop\" stroke=\"#000\" stroke-linecap=\"round\" stroke-linejoin=\"round\" stroke-width=\"1.5\"><g fill=\"#fff\" stroke-linecap=\"butt\"><path d=\"M9 36c3.39-.97 10.11.43 13.5-2 3.39 2.43 10.11 1.03 13.5 2 0 0 1.65.54 3 2-.68.97-1.65.99-3 .5-3.39-.97-10.11.46-13.5-1-3.39 1.46-10.11.03-13.5 1-1.354.49-2.323.47-3-.5 1.354-1.94 3-2 3-2zM15 32c2.5 2.5 12.5 2.5 15 0 .5-1.5 0-2 0-2 0-2.5-2.5-4-2.5-4 5.5-1.5 6-11.5-5-15.5-11 4-10.5 14-5 15.5 0 0-2.5 1.5-2.5 4 0 0-.5.5 0 2zM25 8a2.5 2.5 0 1 1-5 0 2.5 2.5 0 1 1 5 0z\"/></g><path d=\"M17.5 26h10M15 30h15m-7.5-14.5v5M20 18h5\" stroke-linejoin=\"miter\"/></g><g class=\"white queen\" fill=\"#fff\" fill-rule=\"evenodd\" id=\"white-queen\" stroke=\"#000\" stroke-linecap=\"round\" stroke-linejoin=\"round\" stroke-width=\"1.5\"><path d=\"M8 12a2 2 0 1 1-4 0 2 2 0 1 1 4 0zM24.5 7.5a2 2 0 1 1-4 0 2 2 0 1 1 4 0zM41 12a2 2 0 1 1-4 0 2 2 0 1 1 4 0zM16 8.5a2 2 0 1 1-4 0 2 2 0 1 1 4 0zM33 9a2 2 0 1 1-4 0 2 2 0 1 1 4 0z\"/><path d=\"M9 26c8.5-1.5 21-1.5 27 0l2-12-7 11V11l-5.5 13.5-3-15-3 15-5.5-14V25L7 14l2 12zM9 26c0 2 1.5 2 2.5 4 1 1.5 1 1 .5 3.5-1.5 1-1.5 2.5-1.5 2.5-1.5 1.5.5 2.5.5 2.5 6.5 1 16.5 1 23 0 0 0 1.5-1 0-2.5 0 0 .5-1.5-1-2.5-.5-2.5-.5-2 .5-3.5 1-2 2.5-2 2.5-4-8.5-1.5-18.5-1.5-27 0z\" stroke-linecap=\"butt\"/><path d=\"M11.5 30c3.5-1 18.5-1 22 0M12 33.5c6-1 15-1 21 0\" fill=\"none\"/></g></defs><rect class=\"square dark a1\" fill=\"#d18b47\" height=\"45\" stroke=\"none\" width=\"45\" x=\"0\" y=\"315\"/><rect class=\"square light b1\" fill=\"#ffce9e\" height=\"45\" stroke=\"none\" width=\"45\" x=\"45\" y=\"315\"/><rect class=\"square dark c1\" fill=\"#d18b47\" height=\"45\" stroke=\"none\" width=\"45\" x=\"90\" y=\"315\"/><rect class=\"square light d1\" fill=\"#ffce9e\" height=\"45\" stroke=\"none\" width=\"45\" x=\"135\" y=\"315\"/><rect class=\"square dark e1\" fill=\"#d18b47\" height=\"45\" stroke=\"none\" width=\"45\" x=\"180\" y=\"315\"/><rect class=\"square light f1\" fill=\"#ffce9e\" height=\"45\" stroke=\"none\" width=\"45\" x=\"225\" y=\"315\"/><rect class=\"square dark g1\" fill=\"#d18b47\" height=\"45\" stroke=\"none\" width=\"45\" x=\"270\" y=\"315\"/><rect class=\"square light h1\" fill=\"#ffce9e\" height=\"45\" stroke=\"none\" width=\"45\" x=\"315\" y=\"315\"/><rect class=\"square light a2\" fill=\"#ffce9e\" height=\"45\" stroke=\"none\" width=\"45\" x=\"0\" y=\"270\"/><rect class=\"square dark b2\" fill=\"#d18b47\" height=\"45\" stroke=\"none\" width=\"45\" x=\"45\" y=\"270\"/><rect class=\"square light c2\" fill=\"#ffce9e\" height=\"45\" stroke=\"none\" width=\"45\" x=\"90\" y=\"270\"/><rect class=\"square dark d2\" fill=\"#d18b47\" height=\"45\" stroke=\"none\" width=\"45\" x=\"135\" y=\"270\"/><rect class=\"square light e2\" fill=\"#ffce9e\" height=\"45\" stroke=\"none\" width=\"45\" x=\"180\" y=\"270\"/><rect class=\"square dark f2\" fill=\"#d18b47\" height=\"45\" stroke=\"none\" width=\"45\" x=\"225\" y=\"270\"/><rect class=\"square light g2\" fill=\"#ffce9e\" height=\"45\" stroke=\"none\" width=\"45\" x=\"270\" y=\"270\"/><rect class=\"square dark h2\" fill=\"#d18b47\" height=\"45\" stroke=\"none\" width=\"45\" x=\"315\" y=\"270\"/><rect class=\"square dark a3\" fill=\"#d18b47\" height=\"45\" stroke=\"none\" width=\"45\" x=\"0\" y=\"225\"/><rect class=\"square light b3\" fill=\"#ffce9e\" height=\"45\" stroke=\"none\" width=\"45\" x=\"45\" y=\"225\"/><rect class=\"square dark c3\" fill=\"#d18b47\" height=\"45\" stroke=\"none\" width=\"45\" x=\"90\" y=\"225\"/><rect class=\"square light d3\" fill=\"#ffce9e\" height=\"45\" stroke=\"none\" width=\"45\" x=\"135\" y=\"225\"/><rect class=\"square dark e3\" fill=\"#d18b47\" height=\"45\" stroke=\"none\" width=\"45\" x=\"180\" y=\"225\"/><rect class=\"square light f3\" fill=\"#ffce9e\" height=\"45\" stroke=\"none\" width=\"45\" x=\"225\" y=\"225\"/><rect class=\"square dark g3\" fill=\"#d18b47\" height=\"45\" stroke=\"none\" width=\"45\" x=\"270\" y=\"225\"/><rect class=\"square light h3\" fill=\"#ffce9e\" height=\"45\" stroke=\"none\" width=\"45\" x=\"315\" y=\"225\"/><rect class=\"square light a4\" fill=\"#ffce9e\" height=\"45\" stroke=\"none\" width=\"45\" x=\"0\" y=\"180\"/><rect class=\"square dark b4\" fill=\"#d18b47\" height=\"45\" stroke=\"none\" width=\"45\" x=\"45\" y=\"180\"/><rect class=\"square light c4\" fill=\"#ffce9e\" height=\"45\" stroke=\"none\" width=\"45\" x=\"90\" y=\"180\"/><rect class=\"square dark d4\" fill=\"#d18b47\" height=\"45\" stroke=\"none\" width=\"45\" x=\"135\" y=\"180\"/><rect class=\"square light e4\" fill=\"#ffce9e\" height=\"45\" stroke=\"none\" width=\"45\" x=\"180\" y=\"180\"/><rect class=\"square dark f4\" fill=\"#d18b47\" height=\"45\" stroke=\"none\" width=\"45\" x=\"225\" y=\"180\"/><rect class=\"square light g4\" fill=\"#ffce9e\" height=\"45\" stroke=\"none\" width=\"45\" x=\"270\" y=\"180\"/><rect class=\"square dark h4\" fill=\"#d18b47\" height=\"45\" stroke=\"none\" width=\"45\" x=\"315\" y=\"180\"/><rect class=\"square dark a5\" fill=\"#d18b47\" height=\"45\" stroke=\"none\" width=\"45\" x=\"0\" y=\"135\"/><rect class=\"square light b5\" fill=\"#ffce9e\" height=\"45\" stroke=\"none\" width=\"45\" x=\"45\" y=\"135\"/><rect class=\"square dark c5\" fill=\"#d18b47\" height=\"45\" stroke=\"none\" width=\"45\" x=\"90\" y=\"135\"/><rect class=\"square light d5\" fill=\"#ffce9e\" height=\"45\" stroke=\"none\" width=\"45\" x=\"135\" y=\"135\"/><rect class=\"square dark e5\" fill=\"#d18b47\" height=\"45\" stroke=\"none\" width=\"45\" x=\"180\" y=\"135\"/><rect class=\"square light f5\" fill=\"#ffce9e\" height=\"45\" stroke=\"none\" width=\"45\" x=\"225\" y=\"135\"/><rect class=\"square dark g5\" fill=\"#d18b47\" height=\"45\" stroke=\"none\" width=\"45\" x=\"270\" y=\"135\"/><rect class=\"square light h5\" fill=\"#ffce9e\" height=\"45\" stroke=\"none\" width=\"45\" x=\"315\" y=\"135\"/><rect class=\"square light a6\" fill=\"#ffce9e\" height=\"45\" stroke=\"none\" width=\"45\" x=\"0\" y=\"90\"/><rect class=\"square dark b6\" fill=\"#d18b47\" height=\"45\" stroke=\"none\" width=\"45\" x=\"45\" y=\"90\"/><rect class=\"square light c6\" fill=\"#ffce9e\" height=\"45\" stroke=\"none\" width=\"45\" x=\"90\" y=\"90\"/><rect class=\"square dark d6\" fill=\"#d18b47\" height=\"45\" stroke=\"none\" width=\"45\" x=\"135\" y=\"90\"/><rect class=\"square light e6\" fill=\"#ffce9e\" height=\"45\" stroke=\"none\" width=\"45\" x=\"180\" y=\"90\"/><rect class=\"square dark f6\" fill=\"#d18b47\" height=\"45\" stroke=\"none\" width=\"45\" x=\"225\" y=\"90\"/><use transform=\"translate(225, 90)\" xlink:href=\"#white-bishop\"/><rect class=\"square light g6\" fill=\"#ffce9e\" height=\"45\" stroke=\"none\" width=\"45\" x=\"270\" y=\"90\"/><rect class=\"square dark h6\" fill=\"#d18b47\" height=\"45\" stroke=\"none\" width=\"45\" x=\"315\" y=\"90\"/><rect class=\"square dark a7\" fill=\"#d18b47\" height=\"45\" stroke=\"none\" width=\"45\" x=\"0\" y=\"45\"/><rect class=\"square light b7\" fill=\"#ffce9e\" height=\"45\" stroke=\"none\" width=\"45\" x=\"45\" y=\"45\"/><rect class=\"square dark c7\" fill=\"#d18b47\" height=\"45\" stroke=\"none\" width=\"45\" x=\"90\" y=\"45\"/><rect class=\"square light d7\" fill=\"#ffce9e\" height=\"45\" stroke=\"none\" width=\"45\" x=\"135\" y=\"45\"/><rect class=\"square dark e7\" fill=\"#d18b47\" height=\"45\" stroke=\"none\" width=\"45\" x=\"180\" y=\"45\"/><rect class=\"square light f7\" fill=\"#ffce9e\" height=\"45\" stroke=\"none\" width=\"45\" x=\"225\" y=\"45\"/><rect class=\"square dark g7\" fill=\"#d18b47\" height=\"45\" stroke=\"none\" width=\"45\" x=\"270\" y=\"45\"/><rect class=\"square light h7\" fill=\"#ffce9e\" height=\"45\" stroke=\"none\" width=\"45\" x=\"315\" y=\"45\"/><rect class=\"square light a8\" fill=\"#ffce9e\" height=\"45\" stroke=\"none\" width=\"45\" x=\"0\" y=\"0\"/><rect class=\"square dark b8\" fill=\"#d18b47\" height=\"45\" stroke=\"none\" width=\"45\" x=\"45\" y=\"0\"/><use transform=\"translate(45, 0)\" xlink:href=\"#white-queen\"/><rect class=\"square light c8\" fill=\"#ffce9e\" height=\"45\" stroke=\"none\" width=\"45\" x=\"90\" y=\"0\"/><rect class=\"square dark d8\" fill=\"#d18b47\" height=\"45\" stroke=\"none\" width=\"45\" x=\"135\" y=\"0\"/><use transform=\"translate(135, 0)\" xlink:href=\"#white-queen\"/><rect class=\"square light e8\" fill=\"#ffce9e\" height=\"45\" stroke=\"none\" width=\"45\" x=\"180\" y=\"0\"/><rect class=\"square dark f8\" fill=\"#d18b47\" height=\"45\" stroke=\"none\" width=\"45\" x=\"225\" y=\"0\"/><use transform=\"translate(225, 0)\" xlink:href=\"#white-queen\"/><rect class=\"square light g8\" fill=\"#ffce9e\" height=\"45\" stroke=\"none\" width=\"45\" x=\"270\" y=\"0\"/><rect class=\"square dark h8\" fill=\"#d18b47\" height=\"45\" stroke=\"none\" width=\"45\" x=\"315\" y=\"0\"/><use transform=\"translate(315, 0)\" xlink:href=\"#white-queen\"/><circle class=\"circle\" cx=\"112.5\" cy=\"337.5\" fill=\"none\" opacity=\"0.5\" r=\"20.25\" stroke=\"red\" stroke-width=\"4.5\"/><circle class=\"circle\" cx=\"202.5\" cy=\"337.5\" fill=\"none\" opacity=\"0.5\" r=\"20.25\" stroke=\"red\" stroke-width=\"4.5\"/><circle class=\"circle\" cx=\"247.5\" cy=\"337.5\" fill=\"none\" opacity=\"0.5\" r=\"20.25\" stroke=\"red\" stroke-width=\"4.5\"/><circle class=\"circle\" cx=\"292.5\" cy=\"337.5\" fill=\"none\" opacity=\"0.5\" r=\"20.25\" stroke=\"red\" stroke-width=\"4.5\"/><circle class=\"circle\" cx=\"22.5\" cy=\"292.5\" fill=\"none\" opacity=\"0.5\" r=\"20.25\" stroke=\"red\" stroke-width=\"4.5\"/><circle class=\"circle\" cx=\"112.5\" cy=\"292.5\" fill=\"none\" opacity=\"0.5\" r=\"20.25\" stroke=\"red\" stroke-width=\"4.5\"/><circle class=\"circle\" cx=\"202.5\" cy=\"292.5\" fill=\"none\" opacity=\"0.5\" r=\"20.25\" stroke=\"red\" stroke-width=\"4.5\"/><circle class=\"circle\" cx=\"247.5\" cy=\"292.5\" fill=\"none\" opacity=\"0.5\" r=\"20.25\" stroke=\"red\" stroke-width=\"4.5\"/><circle class=\"circle\" cx=\"292.5\" cy=\"292.5\" fill=\"none\" opacity=\"0.5\" r=\"20.25\" stroke=\"red\" stroke-width=\"4.5\"/><circle class=\"circle\" cx=\"202.5\" cy=\"247.5\" fill=\"none\" opacity=\"0.5\" r=\"20.25\" stroke=\"red\" stroke-width=\"4.5\"/><circle class=\"circle\" cx=\"247.5\" cy=\"247.5\" fill=\"none\" opacity=\"0.5\" r=\"20.25\" stroke=\"red\" stroke-width=\"4.5\"/><circle class=\"circle\" cx=\"22.5\" cy=\"202.5\" fill=\"none\" opacity=\"0.5\" r=\"20.25\" stroke=\"red\" stroke-width=\"4.5\"/><circle class=\"circle\" cx=\"112.5\" cy=\"202.5\" fill=\"none\" opacity=\"0.5\" r=\"20.25\" stroke=\"red\" stroke-width=\"4.5\"/><circle class=\"circle\" cx=\"202.5\" cy=\"202.5\" fill=\"none\" opacity=\"0.5\" r=\"20.25\" stroke=\"red\" stroke-width=\"4.5\"/><circle class=\"circle\" cx=\"292.5\" cy=\"202.5\" fill=\"none\" opacity=\"0.5\" r=\"20.25\" stroke=\"red\" stroke-width=\"4.5\"/><circle class=\"circle\" cx=\"247.5\" cy=\"157.5\" fill=\"none\" opacity=\"0.5\" r=\"20.25\" stroke=\"red\" stroke-width=\"4.5\"/><circle class=\"circle\" cx=\"22.5\" cy=\"112.5\" fill=\"none\" opacity=\"0.5\" r=\"20.25\" stroke=\"red\" stroke-width=\"4.5\"/><circle class=\"circle\" cx=\"112.5\" cy=\"112.5\" fill=\"none\" opacity=\"0.5\" r=\"20.25\" stroke=\"red\" stroke-width=\"4.5\"/><circle class=\"circle\" cx=\"202.5\" cy=\"112.5\" fill=\"none\" opacity=\"0.5\" r=\"20.25\" stroke=\"red\" stroke-width=\"4.5\"/><circle class=\"circle\" cx=\"292.5\" cy=\"112.5\" fill=\"none\" opacity=\"0.5\" r=\"20.25\" stroke=\"red\" stroke-width=\"4.5\"/></svg>"
      ],
      "text/plain": [
       "<IPython.core.display.SVG object>"
      ]
     },
     "metadata": {},
     "output_type": "display_data"
    },
    {
     "name": "stdout",
     "output_type": "stream",
     "text": [
      "45\n"
     ]
    },
    {
     "data": {
      "image/svg+xml": [
       "<svg version=\"1.1\" viewBox=\"0 0 360 360\" xmlns=\"http://www.w3.org/2000/svg\" xmlns:xlink=\"http://www.w3.org/1999/xlink\"><style>\n",
       ".square.light {\n",
       "fill: #cacaca;\n",
       "}\n",
       ".square.dark {\n",
       "fill: #898989;\n",
       "}\n",
       "#xx {\n",
       "fill: blue;\n",
       "stroke: red;\n",
       "}\n",
       ".square.light.lastmove {\n",
       "fill: #c3d889;\n",
       "}\n",
       ".square.dark.lastmove {\n",
       "fill: #92b167;\n",
       "}\n",
       ".check {\n",
       "fill: url(#check_gradient);\n",
       "}\n",
       ".arrow {\n",
       "stroke: #ff5858;\n",
       "fill: blue;\n",
       "}\n",
       ".mark {\n",
       "stroke: #959fff;\n",
       "fill: blue;\n",
       "}\n",
       "</style><defs><g class=\"white bishop\" fill=\"none\" fill-rule=\"evenodd\" id=\"white-bishop\" stroke=\"#000\" stroke-linecap=\"round\" stroke-linejoin=\"round\" stroke-width=\"1.5\"><g fill=\"#fff\" stroke-linecap=\"butt\"><path d=\"M9 36c3.39-.97 10.11.43 13.5-2 3.39 2.43 10.11 1.03 13.5 2 0 0 1.65.54 3 2-.68.97-1.65.99-3 .5-3.39-.97-10.11.46-13.5-1-3.39 1.46-10.11.03-13.5 1-1.354.49-2.323.47-3-.5 1.354-1.94 3-2 3-2zM15 32c2.5 2.5 12.5 2.5 15 0 .5-1.5 0-2 0-2 0-2.5-2.5-4-2.5-4 5.5-1.5 6-11.5-5-15.5-11 4-10.5 14-5 15.5 0 0-2.5 1.5-2.5 4 0 0-.5.5 0 2zM25 8a2.5 2.5 0 1 1-5 0 2.5 2.5 0 1 1 5 0z\"/></g><path d=\"M17.5 26h10M15 30h15m-7.5-14.5v5M20 18h5\" stroke-linejoin=\"miter\"/></g><g class=\"white queen\" fill=\"#fff\" fill-rule=\"evenodd\" id=\"white-queen\" stroke=\"#000\" stroke-linecap=\"round\" stroke-linejoin=\"round\" stroke-width=\"1.5\"><path d=\"M8 12a2 2 0 1 1-4 0 2 2 0 1 1 4 0zM24.5 7.5a2 2 0 1 1-4 0 2 2 0 1 1 4 0zM41 12a2 2 0 1 1-4 0 2 2 0 1 1 4 0zM16 8.5a2 2 0 1 1-4 0 2 2 0 1 1 4 0zM33 9a2 2 0 1 1-4 0 2 2 0 1 1 4 0z\"/><path d=\"M9 26c8.5-1.5 21-1.5 27 0l2-12-7 11V11l-5.5 13.5-3-15-3 15-5.5-14V25L7 14l2 12zM9 26c0 2 1.5 2 2.5 4 1 1.5 1 1 .5 3.5-1.5 1-1.5 2.5-1.5 2.5-1.5 1.5.5 2.5.5 2.5 6.5 1 16.5 1 23 0 0 0 1.5-1 0-2.5 0 0 .5-1.5-1-2.5-.5-2.5-.5-2 .5-3.5 1-2 2.5-2 2.5-4-8.5-1.5-18.5-1.5-27 0z\" stroke-linecap=\"butt\"/><path d=\"M11.5 30c3.5-1 18.5-1 22 0M12 33.5c6-1 15-1 21 0\" fill=\"none\"/></g></defs><rect class=\"square dark a1\" fill=\"#d18b47\" height=\"45\" stroke=\"none\" width=\"45\" x=\"0\" y=\"315\"/><rect class=\"square light b1\" fill=\"#ffce9e\" height=\"45\" stroke=\"none\" width=\"45\" x=\"45\" y=\"315\"/><rect class=\"square dark c1\" fill=\"#d18b47\" height=\"45\" stroke=\"none\" width=\"45\" x=\"90\" y=\"315\"/><rect class=\"square light d1\" fill=\"#ffce9e\" height=\"45\" stroke=\"none\" width=\"45\" x=\"135\" y=\"315\"/><rect class=\"square dark e1\" fill=\"#d18b47\" height=\"45\" stroke=\"none\" width=\"45\" x=\"180\" y=\"315\"/><rect class=\"square light f1\" fill=\"#ffce9e\" height=\"45\" stroke=\"none\" width=\"45\" x=\"225\" y=\"315\"/><rect class=\"square dark g1\" fill=\"#d18b47\" height=\"45\" stroke=\"none\" width=\"45\" x=\"270\" y=\"315\"/><rect class=\"square light h1\" fill=\"#ffce9e\" height=\"45\" stroke=\"none\" width=\"45\" x=\"315\" y=\"315\"/><rect class=\"square light a2\" fill=\"#ffce9e\" height=\"45\" stroke=\"none\" width=\"45\" x=\"0\" y=\"270\"/><rect class=\"square dark b2\" fill=\"#d18b47\" height=\"45\" stroke=\"none\" width=\"45\" x=\"45\" y=\"270\"/><rect class=\"square light c2\" fill=\"#ffce9e\" height=\"45\" stroke=\"none\" width=\"45\" x=\"90\" y=\"270\"/><rect class=\"square dark d2\" fill=\"#d18b47\" height=\"45\" stroke=\"none\" width=\"45\" x=\"135\" y=\"270\"/><rect class=\"square light e2\" fill=\"#ffce9e\" height=\"45\" stroke=\"none\" width=\"45\" x=\"180\" y=\"270\"/><rect class=\"square dark f2\" fill=\"#d18b47\" height=\"45\" stroke=\"none\" width=\"45\" x=\"225\" y=\"270\"/><rect class=\"square light g2\" fill=\"#ffce9e\" height=\"45\" stroke=\"none\" width=\"45\" x=\"270\" y=\"270\"/><rect class=\"square dark h2\" fill=\"#d18b47\" height=\"45\" stroke=\"none\" width=\"45\" x=\"315\" y=\"270\"/><rect class=\"square dark a3\" fill=\"#d18b47\" height=\"45\" stroke=\"none\" width=\"45\" x=\"0\" y=\"225\"/><rect class=\"square light b3\" fill=\"#ffce9e\" height=\"45\" stroke=\"none\" width=\"45\" x=\"45\" y=\"225\"/><rect class=\"square dark c3\" fill=\"#d18b47\" height=\"45\" stroke=\"none\" width=\"45\" x=\"90\" y=\"225\"/><rect class=\"square light d3\" fill=\"#ffce9e\" height=\"45\" stroke=\"none\" width=\"45\" x=\"135\" y=\"225\"/><rect class=\"square dark e3\" fill=\"#d18b47\" height=\"45\" stroke=\"none\" width=\"45\" x=\"180\" y=\"225\"/><rect class=\"square light f3\" fill=\"#ffce9e\" height=\"45\" stroke=\"none\" width=\"45\" x=\"225\" y=\"225\"/><rect class=\"square dark g3\" fill=\"#d18b47\" height=\"45\" stroke=\"none\" width=\"45\" x=\"270\" y=\"225\"/><rect class=\"square light h3\" fill=\"#ffce9e\" height=\"45\" stroke=\"none\" width=\"45\" x=\"315\" y=\"225\"/><rect class=\"square light a4\" fill=\"#ffce9e\" height=\"45\" stroke=\"none\" width=\"45\" x=\"0\" y=\"180\"/><rect class=\"square dark b4\" fill=\"#d18b47\" height=\"45\" stroke=\"none\" width=\"45\" x=\"45\" y=\"180\"/><rect class=\"square light c4\" fill=\"#ffce9e\" height=\"45\" stroke=\"none\" width=\"45\" x=\"90\" y=\"180\"/><rect class=\"square dark d4\" fill=\"#d18b47\" height=\"45\" stroke=\"none\" width=\"45\" x=\"135\" y=\"180\"/><rect class=\"square light e4\" fill=\"#ffce9e\" height=\"45\" stroke=\"none\" width=\"45\" x=\"180\" y=\"180\"/><rect class=\"square dark f4\" fill=\"#d18b47\" height=\"45\" stroke=\"none\" width=\"45\" x=\"225\" y=\"180\"/><rect class=\"square light g4\" fill=\"#ffce9e\" height=\"45\" stroke=\"none\" width=\"45\" x=\"270\" y=\"180\"/><rect class=\"square dark h4\" fill=\"#d18b47\" height=\"45\" stroke=\"none\" width=\"45\" x=\"315\" y=\"180\"/><rect class=\"square dark a5\" fill=\"#d18b47\" height=\"45\" stroke=\"none\" width=\"45\" x=\"0\" y=\"135\"/><rect class=\"square light b5\" fill=\"#ffce9e\" height=\"45\" stroke=\"none\" width=\"45\" x=\"45\" y=\"135\"/><rect class=\"square dark c5\" fill=\"#d18b47\" height=\"45\" stroke=\"none\" width=\"45\" x=\"90\" y=\"135\"/><rect class=\"square light d5\" fill=\"#ffce9e\" height=\"45\" stroke=\"none\" width=\"45\" x=\"135\" y=\"135\"/><rect class=\"square dark e5\" fill=\"#d18b47\" height=\"45\" stroke=\"none\" width=\"45\" x=\"180\" y=\"135\"/><rect class=\"square light f5\" fill=\"#ffce9e\" height=\"45\" stroke=\"none\" width=\"45\" x=\"225\" y=\"135\"/><rect class=\"square dark g5\" fill=\"#d18b47\" height=\"45\" stroke=\"none\" width=\"45\" x=\"270\" y=\"135\"/><rect class=\"square light h5\" fill=\"#ffce9e\" height=\"45\" stroke=\"none\" width=\"45\" x=\"315\" y=\"135\"/><rect class=\"square light a6\" fill=\"#ffce9e\" height=\"45\" stroke=\"none\" width=\"45\" x=\"0\" y=\"90\"/><rect class=\"square dark b6\" fill=\"#d18b47\" height=\"45\" stroke=\"none\" width=\"45\" x=\"45\" y=\"90\"/><rect class=\"square light c6\" fill=\"#ffce9e\" height=\"45\" stroke=\"none\" width=\"45\" x=\"90\" y=\"90\"/><rect class=\"square dark d6\" fill=\"#d18b47\" height=\"45\" stroke=\"none\" width=\"45\" x=\"135\" y=\"90\"/><rect class=\"square light e6\" fill=\"#ffce9e\" height=\"45\" stroke=\"none\" width=\"45\" x=\"180\" y=\"90\"/><rect class=\"square dark f6\" fill=\"#d18b47\" height=\"45\" stroke=\"none\" width=\"45\" x=\"225\" y=\"90\"/><rect class=\"square light g6\" fill=\"#ffce9e\" height=\"45\" stroke=\"none\" width=\"45\" x=\"270\" y=\"90\"/><rect class=\"square dark h6\" fill=\"#d18b47\" height=\"45\" stroke=\"none\" width=\"45\" x=\"315\" y=\"90\"/><rect class=\"square dark a7\" fill=\"#d18b47\" height=\"45\" stroke=\"none\" width=\"45\" x=\"0\" y=\"45\"/><rect class=\"square light b7\" fill=\"#ffce9e\" height=\"45\" stroke=\"none\" width=\"45\" x=\"45\" y=\"45\"/><rect class=\"square dark c7\" fill=\"#d18b47\" height=\"45\" stroke=\"none\" width=\"45\" x=\"90\" y=\"45\"/><rect class=\"square light d7\" fill=\"#ffce9e\" height=\"45\" stroke=\"none\" width=\"45\" x=\"135\" y=\"45\"/><rect class=\"square dark e7\" fill=\"#d18b47\" height=\"45\" stroke=\"none\" width=\"45\" x=\"180\" y=\"45\"/><rect class=\"square light f7\" fill=\"#ffce9e\" height=\"45\" stroke=\"none\" width=\"45\" x=\"225\" y=\"45\"/><rect class=\"square dark g7\" fill=\"#d18b47\" height=\"45\" stroke=\"none\" width=\"45\" x=\"270\" y=\"45\"/><use transform=\"translate(270, 45)\" xlink:href=\"#white-bishop\"/><rect class=\"square light h7\" fill=\"#ffce9e\" height=\"45\" stroke=\"none\" width=\"45\" x=\"315\" y=\"45\"/><rect class=\"square light a8\" fill=\"#ffce9e\" height=\"45\" stroke=\"none\" width=\"45\" x=\"0\" y=\"0\"/><rect class=\"square dark b8\" fill=\"#d18b47\" height=\"45\" stroke=\"none\" width=\"45\" x=\"45\" y=\"0\"/><use transform=\"translate(45, 0)\" xlink:href=\"#white-queen\"/><rect class=\"square light c8\" fill=\"#ffce9e\" height=\"45\" stroke=\"none\" width=\"45\" x=\"90\" y=\"0\"/><rect class=\"square dark d8\" fill=\"#d18b47\" height=\"45\" stroke=\"none\" width=\"45\" x=\"135\" y=\"0\"/><rect class=\"square light e8\" fill=\"#ffce9e\" height=\"45\" stroke=\"none\" width=\"45\" x=\"180\" y=\"0\"/><rect class=\"square dark f8\" fill=\"#d18b47\" height=\"45\" stroke=\"none\" width=\"45\" x=\"225\" y=\"0\"/><use transform=\"translate(225, 0)\" xlink:href=\"#white-queen\"/><rect class=\"square light g8\" fill=\"#ffce9e\" height=\"45\" stroke=\"none\" width=\"45\" x=\"270\" y=\"0\"/><use transform=\"translate(270, 0)\" xlink:href=\"#white-queen\"/><rect class=\"square dark h8\" fill=\"#d18b47\" height=\"45\" stroke=\"none\" width=\"45\" x=\"315\" y=\"0\"/><use transform=\"translate(315, 0)\" xlink:href=\"#white-queen\"/><circle class=\"circle\" cx=\"112.5\" cy=\"337.5\" fill=\"none\" opacity=\"0.5\" r=\"20.25\" stroke=\"red\" stroke-width=\"4.5\"/><circle class=\"circle\" cx=\"157.5\" cy=\"337.5\" fill=\"none\" opacity=\"0.5\" r=\"20.25\" stroke=\"red\" stroke-width=\"4.5\"/><circle class=\"circle\" cx=\"202.5\" cy=\"337.5\" fill=\"none\" opacity=\"0.5\" r=\"20.25\" stroke=\"red\" stroke-width=\"4.5\"/><circle class=\"circle\" cx=\"292.5\" cy=\"337.5\" fill=\"none\" opacity=\"0.5\" r=\"20.25\" stroke=\"red\" stroke-width=\"4.5\"/><circle class=\"circle\" cx=\"112.5\" cy=\"292.5\" fill=\"none\" opacity=\"0.5\" r=\"20.25\" stroke=\"red\" stroke-width=\"4.5\"/><circle class=\"circle\" cx=\"157.5\" cy=\"292.5\" fill=\"none\" opacity=\"0.5\" r=\"20.25\" stroke=\"red\" stroke-width=\"4.5\"/><circle class=\"circle\" cx=\"202.5\" cy=\"292.5\" fill=\"none\" opacity=\"0.5\" r=\"20.25\" stroke=\"red\" stroke-width=\"4.5\"/><circle class=\"circle\" cx=\"292.5\" cy=\"292.5\" fill=\"none\" opacity=\"0.5\" r=\"20.25\" stroke=\"red\" stroke-width=\"4.5\"/><circle class=\"circle\" cx=\"157.5\" cy=\"247.5\" fill=\"none\" opacity=\"0.5\" r=\"20.25\" stroke=\"red\" stroke-width=\"4.5\"/><circle class=\"circle\" cx=\"202.5\" cy=\"247.5\" fill=\"none\" opacity=\"0.5\" r=\"20.25\" stroke=\"red\" stroke-width=\"4.5\"/><circle class=\"circle\" cx=\"22.5\" cy=\"202.5\" fill=\"none\" opacity=\"0.5\" r=\"20.25\" stroke=\"red\" stroke-width=\"4.5\"/><circle class=\"circle\" cx=\"202.5\" cy=\"202.5\" fill=\"none\" opacity=\"0.5\" r=\"20.25\" stroke=\"red\" stroke-width=\"4.5\"/><circle class=\"circle\" cx=\"292.5\" cy=\"202.5\" fill=\"none\" opacity=\"0.5\" r=\"20.25\" stroke=\"red\" stroke-width=\"4.5\"/><circle class=\"circle\" cx=\"22.5\" cy=\"157.5\" fill=\"none\" opacity=\"0.5\" r=\"20.25\" stroke=\"red\" stroke-width=\"4.5\"/><circle class=\"circle\" cx=\"292.5\" cy=\"157.5\" fill=\"none\" opacity=\"0.5\" r=\"20.25\" stroke=\"red\" stroke-width=\"4.5\"/><circle class=\"circle\" cx=\"22.5\" cy=\"112.5\" fill=\"none\" opacity=\"0.5\" r=\"20.25\" stroke=\"red\" stroke-width=\"4.5\"/><circle class=\"circle\" cx=\"112.5\" cy=\"112.5\" fill=\"none\" opacity=\"0.5\" r=\"20.25\" stroke=\"red\" stroke-width=\"4.5\"/><circle class=\"circle\" cx=\"292.5\" cy=\"112.5\" fill=\"none\" opacity=\"0.5\" r=\"20.25\" stroke=\"red\" stroke-width=\"4.5\"/><circle class=\"circle\" cx=\"157.5\" cy=\"67.5\" fill=\"none\" opacity=\"0.5\" r=\"20.25\" stroke=\"red\" stroke-width=\"4.5\"/></svg>"
      ],
      "text/plain": [
       "<IPython.core.display.SVG object>"
      ]
     },
     "metadata": {},
     "output_type": "display_data"
    },
    {
     "name": "stdout",
     "output_type": "stream",
     "text": [
      "46\n"
     ]
    },
    {
     "data": {
      "image/svg+xml": [
       "<svg version=\"1.1\" viewBox=\"0 0 360 360\" xmlns=\"http://www.w3.org/2000/svg\" xmlns:xlink=\"http://www.w3.org/1999/xlink\"><style>\n",
       ".square.light {\n",
       "fill: #cacaca;\n",
       "}\n",
       ".square.dark {\n",
       "fill: #898989;\n",
       "}\n",
       "#xx {\n",
       "fill: blue;\n",
       "stroke: red;\n",
       "}\n",
       ".square.light.lastmove {\n",
       "fill: #c3d889;\n",
       "}\n",
       ".square.dark.lastmove {\n",
       "fill: #92b167;\n",
       "}\n",
       ".check {\n",
       "fill: url(#check_gradient);\n",
       "}\n",
       ".arrow {\n",
       "stroke: #ff5858;\n",
       "fill: blue;\n",
       "}\n",
       ".mark {\n",
       "stroke: #959fff;\n",
       "fill: blue;\n",
       "}\n",
       "</style><defs><g class=\"white bishop\" fill=\"none\" fill-rule=\"evenodd\" id=\"white-bishop\" stroke=\"#000\" stroke-linecap=\"round\" stroke-linejoin=\"round\" stroke-width=\"1.5\"><g fill=\"#fff\" stroke-linecap=\"butt\"><path d=\"M9 36c3.39-.97 10.11.43 13.5-2 3.39 2.43 10.11 1.03 13.5 2 0 0 1.65.54 3 2-.68.97-1.65.99-3 .5-3.39-.97-10.11.46-13.5-1-3.39 1.46-10.11.03-13.5 1-1.354.49-2.323.47-3-.5 1.354-1.94 3-2 3-2zM15 32c2.5 2.5 12.5 2.5 15 0 .5-1.5 0-2 0-2 0-2.5-2.5-4-2.5-4 5.5-1.5 6-11.5-5-15.5-11 4-10.5 14-5 15.5 0 0-2.5 1.5-2.5 4 0 0-.5.5 0 2zM25 8a2.5 2.5 0 1 1-5 0 2.5 2.5 0 1 1 5 0z\"/></g><path d=\"M17.5 26h10M15 30h15m-7.5-14.5v5M20 18h5\" stroke-linejoin=\"miter\"/></g><g class=\"white queen\" fill=\"#fff\" fill-rule=\"evenodd\" id=\"white-queen\" stroke=\"#000\" stroke-linecap=\"round\" stroke-linejoin=\"round\" stroke-width=\"1.5\"><path d=\"M8 12a2 2 0 1 1-4 0 2 2 0 1 1 4 0zM24.5 7.5a2 2 0 1 1-4 0 2 2 0 1 1 4 0zM41 12a2 2 0 1 1-4 0 2 2 0 1 1 4 0zM16 8.5a2 2 0 1 1-4 0 2 2 0 1 1 4 0zM33 9a2 2 0 1 1-4 0 2 2 0 1 1 4 0z\"/><path d=\"M9 26c8.5-1.5 21-1.5 27 0l2-12-7 11V11l-5.5 13.5-3-15-3 15-5.5-14V25L7 14l2 12zM9 26c0 2 1.5 2 2.5 4 1 1.5 1 1 .5 3.5-1.5 1-1.5 2.5-1.5 2.5-1.5 1.5.5 2.5.5 2.5 6.5 1 16.5 1 23 0 0 0 1.5-1 0-2.5 0 0 .5-1.5-1-2.5-.5-2.5-.5-2 .5-3.5 1-2 2.5-2 2.5-4-8.5-1.5-18.5-1.5-27 0z\" stroke-linecap=\"butt\"/><path d=\"M11.5 30c3.5-1 18.5-1 22 0M12 33.5c6-1 15-1 21 0\" fill=\"none\"/></g></defs><rect class=\"square dark a1\" fill=\"#d18b47\" height=\"45\" stroke=\"none\" width=\"45\" x=\"0\" y=\"315\"/><rect class=\"square light b1\" fill=\"#ffce9e\" height=\"45\" stroke=\"none\" width=\"45\" x=\"45\" y=\"315\"/><rect class=\"square dark c1\" fill=\"#d18b47\" height=\"45\" stroke=\"none\" width=\"45\" x=\"90\" y=\"315\"/><rect class=\"square light d1\" fill=\"#ffce9e\" height=\"45\" stroke=\"none\" width=\"45\" x=\"135\" y=\"315\"/><rect class=\"square dark e1\" fill=\"#d18b47\" height=\"45\" stroke=\"none\" width=\"45\" x=\"180\" y=\"315\"/><rect class=\"square light f1\" fill=\"#ffce9e\" height=\"45\" stroke=\"none\" width=\"45\" x=\"225\" y=\"315\"/><rect class=\"square dark g1\" fill=\"#d18b47\" height=\"45\" stroke=\"none\" width=\"45\" x=\"270\" y=\"315\"/><rect class=\"square light h1\" fill=\"#ffce9e\" height=\"45\" stroke=\"none\" width=\"45\" x=\"315\" y=\"315\"/><rect class=\"square light a2\" fill=\"#ffce9e\" height=\"45\" stroke=\"none\" width=\"45\" x=\"0\" y=\"270\"/><rect class=\"square dark b2\" fill=\"#d18b47\" height=\"45\" stroke=\"none\" width=\"45\" x=\"45\" y=\"270\"/><rect class=\"square light c2\" fill=\"#ffce9e\" height=\"45\" stroke=\"none\" width=\"45\" x=\"90\" y=\"270\"/><rect class=\"square dark d2\" fill=\"#d18b47\" height=\"45\" stroke=\"none\" width=\"45\" x=\"135\" y=\"270\"/><rect class=\"square light e2\" fill=\"#ffce9e\" height=\"45\" stroke=\"none\" width=\"45\" x=\"180\" y=\"270\"/><rect class=\"square dark f2\" fill=\"#d18b47\" height=\"45\" stroke=\"none\" width=\"45\" x=\"225\" y=\"270\"/><rect class=\"square light g2\" fill=\"#ffce9e\" height=\"45\" stroke=\"none\" width=\"45\" x=\"270\" y=\"270\"/><rect class=\"square dark h2\" fill=\"#d18b47\" height=\"45\" stroke=\"none\" width=\"45\" x=\"315\" y=\"270\"/><rect class=\"square dark a3\" fill=\"#d18b47\" height=\"45\" stroke=\"none\" width=\"45\" x=\"0\" y=\"225\"/><rect class=\"square light b3\" fill=\"#ffce9e\" height=\"45\" stroke=\"none\" width=\"45\" x=\"45\" y=\"225\"/><rect class=\"square dark c3\" fill=\"#d18b47\" height=\"45\" stroke=\"none\" width=\"45\" x=\"90\" y=\"225\"/><rect class=\"square light d3\" fill=\"#ffce9e\" height=\"45\" stroke=\"none\" width=\"45\" x=\"135\" y=\"225\"/><rect class=\"square dark e3\" fill=\"#d18b47\" height=\"45\" stroke=\"none\" width=\"45\" x=\"180\" y=\"225\"/><rect class=\"square light f3\" fill=\"#ffce9e\" height=\"45\" stroke=\"none\" width=\"45\" x=\"225\" y=\"225\"/><rect class=\"square dark g3\" fill=\"#d18b47\" height=\"45\" stroke=\"none\" width=\"45\" x=\"270\" y=\"225\"/><rect class=\"square light h3\" fill=\"#ffce9e\" height=\"45\" stroke=\"none\" width=\"45\" x=\"315\" y=\"225\"/><rect class=\"square light a4\" fill=\"#ffce9e\" height=\"45\" stroke=\"none\" width=\"45\" x=\"0\" y=\"180\"/><rect class=\"square dark b4\" fill=\"#d18b47\" height=\"45\" stroke=\"none\" width=\"45\" x=\"45\" y=\"180\"/><rect class=\"square light c4\" fill=\"#ffce9e\" height=\"45\" stroke=\"none\" width=\"45\" x=\"90\" y=\"180\"/><rect class=\"square dark d4\" fill=\"#d18b47\" height=\"45\" stroke=\"none\" width=\"45\" x=\"135\" y=\"180\"/><rect class=\"square light e4\" fill=\"#ffce9e\" height=\"45\" stroke=\"none\" width=\"45\" x=\"180\" y=\"180\"/><rect class=\"square dark f4\" fill=\"#d18b47\" height=\"45\" stroke=\"none\" width=\"45\" x=\"225\" y=\"180\"/><rect class=\"square light g4\" fill=\"#ffce9e\" height=\"45\" stroke=\"none\" width=\"45\" x=\"270\" y=\"180\"/><rect class=\"square dark h4\" fill=\"#d18b47\" height=\"45\" stroke=\"none\" width=\"45\" x=\"315\" y=\"180\"/><rect class=\"square dark a5\" fill=\"#d18b47\" height=\"45\" stroke=\"none\" width=\"45\" x=\"0\" y=\"135\"/><rect class=\"square light b5\" fill=\"#ffce9e\" height=\"45\" stroke=\"none\" width=\"45\" x=\"45\" y=\"135\"/><rect class=\"square dark c5\" fill=\"#d18b47\" height=\"45\" stroke=\"none\" width=\"45\" x=\"90\" y=\"135\"/><rect class=\"square light d5\" fill=\"#ffce9e\" height=\"45\" stroke=\"none\" width=\"45\" x=\"135\" y=\"135\"/><rect class=\"square dark e5\" fill=\"#d18b47\" height=\"45\" stroke=\"none\" width=\"45\" x=\"180\" y=\"135\"/><rect class=\"square light f5\" fill=\"#ffce9e\" height=\"45\" stroke=\"none\" width=\"45\" x=\"225\" y=\"135\"/><rect class=\"square dark g5\" fill=\"#d18b47\" height=\"45\" stroke=\"none\" width=\"45\" x=\"270\" y=\"135\"/><rect class=\"square light h5\" fill=\"#ffce9e\" height=\"45\" stroke=\"none\" width=\"45\" x=\"315\" y=\"135\"/><rect class=\"square light a6\" fill=\"#ffce9e\" height=\"45\" stroke=\"none\" width=\"45\" x=\"0\" y=\"90\"/><rect class=\"square dark b6\" fill=\"#d18b47\" height=\"45\" stroke=\"none\" width=\"45\" x=\"45\" y=\"90\"/><rect class=\"square light c6\" fill=\"#ffce9e\" height=\"45\" stroke=\"none\" width=\"45\" x=\"90\" y=\"90\"/><rect class=\"square dark d6\" fill=\"#d18b47\" height=\"45\" stroke=\"none\" width=\"45\" x=\"135\" y=\"90\"/><rect class=\"square light e6\" fill=\"#ffce9e\" height=\"45\" stroke=\"none\" width=\"45\" x=\"180\" y=\"90\"/><rect class=\"square dark f6\" fill=\"#d18b47\" height=\"45\" stroke=\"none\" width=\"45\" x=\"225\" y=\"90\"/><rect class=\"square light g6\" fill=\"#ffce9e\" height=\"45\" stroke=\"none\" width=\"45\" x=\"270\" y=\"90\"/><rect class=\"square dark h6\" fill=\"#d18b47\" height=\"45\" stroke=\"none\" width=\"45\" x=\"315\" y=\"90\"/><rect class=\"square dark a7\" fill=\"#d18b47\" height=\"45\" stroke=\"none\" width=\"45\" x=\"0\" y=\"45\"/><rect class=\"square light b7\" fill=\"#ffce9e\" height=\"45\" stroke=\"none\" width=\"45\" x=\"45\" y=\"45\"/><rect class=\"square dark c7\" fill=\"#d18b47\" height=\"45\" stroke=\"none\" width=\"45\" x=\"90\" y=\"45\"/><rect class=\"square light d7\" fill=\"#ffce9e\" height=\"45\" stroke=\"none\" width=\"45\" x=\"135\" y=\"45\"/><rect class=\"square dark e7\" fill=\"#d18b47\" height=\"45\" stroke=\"none\" width=\"45\" x=\"180\" y=\"45\"/><rect class=\"square light f7\" fill=\"#ffce9e\" height=\"45\" stroke=\"none\" width=\"45\" x=\"225\" y=\"45\"/><rect class=\"square dark g7\" fill=\"#d18b47\" height=\"45\" stroke=\"none\" width=\"45\" x=\"270\" y=\"45\"/><use transform=\"translate(270, 45)\" xlink:href=\"#white-bishop\"/><rect class=\"square light h7\" fill=\"#ffce9e\" height=\"45\" stroke=\"none\" width=\"45\" x=\"315\" y=\"45\"/><rect class=\"square light a8\" fill=\"#ffce9e\" height=\"45\" stroke=\"none\" width=\"45\" x=\"0\" y=\"0\"/><rect class=\"square dark b8\" fill=\"#d18b47\" height=\"45\" stroke=\"none\" width=\"45\" x=\"45\" y=\"0\"/><rect class=\"square light c8\" fill=\"#ffce9e\" height=\"45\" stroke=\"none\" width=\"45\" x=\"90\" y=\"0\"/><rect class=\"square dark d8\" fill=\"#d18b47\" height=\"45\" stroke=\"none\" width=\"45\" x=\"135\" y=\"0\"/><use transform=\"translate(135, 0)\" xlink:href=\"#white-queen\"/><rect class=\"square light e8\" fill=\"#ffce9e\" height=\"45\" stroke=\"none\" width=\"45\" x=\"180\" y=\"0\"/><rect class=\"square dark f8\" fill=\"#d18b47\" height=\"45\" stroke=\"none\" width=\"45\" x=\"225\" y=\"0\"/><use transform=\"translate(225, 0)\" xlink:href=\"#white-queen\"/><rect class=\"square light g8\" fill=\"#ffce9e\" height=\"45\" stroke=\"none\" width=\"45\" x=\"270\" y=\"0\"/><use transform=\"translate(270, 0)\" xlink:href=\"#white-queen\"/><rect class=\"square dark h8\" fill=\"#d18b47\" height=\"45\" stroke=\"none\" width=\"45\" x=\"315\" y=\"0\"/><use transform=\"translate(315, 0)\" xlink:href=\"#white-queen\"/><circle class=\"circle\" cx=\"67.5\" cy=\"337.5\" fill=\"none\" opacity=\"0.5\" r=\"20.25\" stroke=\"red\" stroke-width=\"4.5\"/><circle class=\"circle\" cx=\"112.5\" cy=\"337.5\" fill=\"none\" opacity=\"0.5\" r=\"20.25\" stroke=\"red\" stroke-width=\"4.5\"/><circle class=\"circle\" cx=\"202.5\" cy=\"337.5\" fill=\"none\" opacity=\"0.5\" r=\"20.25\" stroke=\"red\" stroke-width=\"4.5\"/><circle class=\"circle\" cx=\"292.5\" cy=\"337.5\" fill=\"none\" opacity=\"0.5\" r=\"20.25\" stroke=\"red\" stroke-width=\"4.5\"/><circle class=\"circle\" cx=\"112.5\" cy=\"292.5\" fill=\"none\" opacity=\"0.5\" r=\"20.25\" stroke=\"red\" stroke-width=\"4.5\"/><circle class=\"circle\" cx=\"202.5\" cy=\"292.5\" fill=\"none\" opacity=\"0.5\" r=\"20.25\" stroke=\"red\" stroke-width=\"4.5\"/><circle class=\"circle\" cx=\"292.5\" cy=\"292.5\" fill=\"none\" opacity=\"0.5\" r=\"20.25\" stroke=\"red\" stroke-width=\"4.5\"/><circle class=\"circle\" cx=\"202.5\" cy=\"247.5\" fill=\"none\" opacity=\"0.5\" r=\"20.25\" stroke=\"red\" stroke-width=\"4.5\"/><circle class=\"circle\" cx=\"292.5\" cy=\"247.5\" fill=\"none\" opacity=\"0.5\" r=\"20.25\" stroke=\"red\" stroke-width=\"4.5\"/><circle class=\"circle\" cx=\"22.5\" cy=\"202.5\" fill=\"none\" opacity=\"0.5\" r=\"20.25\" stroke=\"red\" stroke-width=\"4.5\"/><circle class=\"circle\" cx=\"202.5\" cy=\"202.5\" fill=\"none\" opacity=\"0.5\" r=\"20.25\" stroke=\"red\" stroke-width=\"4.5\"/><circle class=\"circle\" cx=\"292.5\" cy=\"202.5\" fill=\"none\" opacity=\"0.5\" r=\"20.25\" stroke=\"red\" stroke-width=\"4.5\"/><circle class=\"circle\" cx=\"67.5\" cy=\"157.5\" fill=\"none\" opacity=\"0.5\" r=\"20.25\" stroke=\"red\" stroke-width=\"4.5\"/><circle class=\"circle\" cx=\"22.5\" cy=\"112.5\" fill=\"none\" opacity=\"0.5\" r=\"20.25\" stroke=\"red\" stroke-width=\"4.5\"/><circle class=\"circle\" cx=\"112.5\" cy=\"112.5\" fill=\"none\" opacity=\"0.5\" r=\"20.25\" stroke=\"red\" stroke-width=\"4.5\"/><circle class=\"circle\" cx=\"292.5\" cy=\"112.5\" fill=\"none\" opacity=\"0.5\" r=\"20.25\" stroke=\"red\" stroke-width=\"4.5\"/><circle class=\"circle\" cx=\"22.5\" cy=\"67.5\" fill=\"none\" opacity=\"0.5\" r=\"20.25\" stroke=\"red\" stroke-width=\"4.5\"/><circle class=\"circle\" cx=\"67.5\" cy=\"67.5\" fill=\"none\" opacity=\"0.5\" r=\"20.25\" stroke=\"red\" stroke-width=\"4.5\"/></svg>"
      ],
      "text/plain": [
       "<IPython.core.display.SVG object>"
      ]
     },
     "metadata": {},
     "output_type": "display_data"
    },
    {
     "name": "stdout",
     "output_type": "stream",
     "text": [
      "47\n"
     ]
    },
    {
     "data": {
      "image/svg+xml": [
       "<svg version=\"1.1\" viewBox=\"0 0 360 360\" xmlns=\"http://www.w3.org/2000/svg\" xmlns:xlink=\"http://www.w3.org/1999/xlink\"><style>\n",
       ".square.light {\n",
       "fill: #cacaca;\n",
       "}\n",
       ".square.dark {\n",
       "fill: #898989;\n",
       "}\n",
       "#xx {\n",
       "fill: blue;\n",
       "stroke: red;\n",
       "}\n",
       ".square.light.lastmove {\n",
       "fill: #c3d889;\n",
       "}\n",
       ".square.dark.lastmove {\n",
       "fill: #92b167;\n",
       "}\n",
       ".check {\n",
       "fill: url(#check_gradient);\n",
       "}\n",
       ".arrow {\n",
       "stroke: #ff5858;\n",
       "fill: blue;\n",
       "}\n",
       ".mark {\n",
       "stroke: #959fff;\n",
       "fill: blue;\n",
       "}\n",
       "</style><defs><g class=\"white bishop\" fill=\"none\" fill-rule=\"evenodd\" id=\"white-bishop\" stroke=\"#000\" stroke-linecap=\"round\" stroke-linejoin=\"round\" stroke-width=\"1.5\"><g fill=\"#fff\" stroke-linecap=\"butt\"><path d=\"M9 36c3.39-.97 10.11.43 13.5-2 3.39 2.43 10.11 1.03 13.5 2 0 0 1.65.54 3 2-.68.97-1.65.99-3 .5-3.39-.97-10.11.46-13.5-1-3.39 1.46-10.11.03-13.5 1-1.354.49-2.323.47-3-.5 1.354-1.94 3-2 3-2zM15 32c2.5 2.5 12.5 2.5 15 0 .5-1.5 0-2 0-2 0-2.5-2.5-4-2.5-4 5.5-1.5 6-11.5-5-15.5-11 4-10.5 14-5 15.5 0 0-2.5 1.5-2.5 4 0 0-.5.5 0 2zM25 8a2.5 2.5 0 1 1-5 0 2.5 2.5 0 1 1 5 0z\"/></g><path d=\"M17.5 26h10M15 30h15m-7.5-14.5v5M20 18h5\" stroke-linejoin=\"miter\"/></g><g class=\"white queen\" fill=\"#fff\" fill-rule=\"evenodd\" id=\"white-queen\" stroke=\"#000\" stroke-linecap=\"round\" stroke-linejoin=\"round\" stroke-width=\"1.5\"><path d=\"M8 12a2 2 0 1 1-4 0 2 2 0 1 1 4 0zM24.5 7.5a2 2 0 1 1-4 0 2 2 0 1 1 4 0zM41 12a2 2 0 1 1-4 0 2 2 0 1 1 4 0zM16 8.5a2 2 0 1 1-4 0 2 2 0 1 1 4 0zM33 9a2 2 0 1 1-4 0 2 2 0 1 1 4 0z\"/><path d=\"M9 26c8.5-1.5 21-1.5 27 0l2-12-7 11V11l-5.5 13.5-3-15-3 15-5.5-14V25L7 14l2 12zM9 26c0 2 1.5 2 2.5 4 1 1.5 1 1 .5 3.5-1.5 1-1.5 2.5-1.5 2.5-1.5 1.5.5 2.5.5 2.5 6.5 1 16.5 1 23 0 0 0 1.5-1 0-2.5 0 0 .5-1.5-1-2.5-.5-2.5-.5-2 .5-3.5 1-2 2.5-2 2.5-4-8.5-1.5-18.5-1.5-27 0z\" stroke-linecap=\"butt\"/><path d=\"M11.5 30c3.5-1 18.5-1 22 0M12 33.5c6-1 15-1 21 0\" fill=\"none\"/></g></defs><rect class=\"square dark a1\" fill=\"#d18b47\" height=\"45\" stroke=\"none\" width=\"45\" x=\"0\" y=\"315\"/><rect class=\"square light b1\" fill=\"#ffce9e\" height=\"45\" stroke=\"none\" width=\"45\" x=\"45\" y=\"315\"/><rect class=\"square dark c1\" fill=\"#d18b47\" height=\"45\" stroke=\"none\" width=\"45\" x=\"90\" y=\"315\"/><rect class=\"square light d1\" fill=\"#ffce9e\" height=\"45\" stroke=\"none\" width=\"45\" x=\"135\" y=\"315\"/><rect class=\"square dark e1\" fill=\"#d18b47\" height=\"45\" stroke=\"none\" width=\"45\" x=\"180\" y=\"315\"/><rect class=\"square light f1\" fill=\"#ffce9e\" height=\"45\" stroke=\"none\" width=\"45\" x=\"225\" y=\"315\"/><rect class=\"square dark g1\" fill=\"#d18b47\" height=\"45\" stroke=\"none\" width=\"45\" x=\"270\" y=\"315\"/><rect class=\"square light h1\" fill=\"#ffce9e\" height=\"45\" stroke=\"none\" width=\"45\" x=\"315\" y=\"315\"/><rect class=\"square light a2\" fill=\"#ffce9e\" height=\"45\" stroke=\"none\" width=\"45\" x=\"0\" y=\"270\"/><rect class=\"square dark b2\" fill=\"#d18b47\" height=\"45\" stroke=\"none\" width=\"45\" x=\"45\" y=\"270\"/><rect class=\"square light c2\" fill=\"#ffce9e\" height=\"45\" stroke=\"none\" width=\"45\" x=\"90\" y=\"270\"/><rect class=\"square dark d2\" fill=\"#d18b47\" height=\"45\" stroke=\"none\" width=\"45\" x=\"135\" y=\"270\"/><rect class=\"square light e2\" fill=\"#ffce9e\" height=\"45\" stroke=\"none\" width=\"45\" x=\"180\" y=\"270\"/><rect class=\"square dark f2\" fill=\"#d18b47\" height=\"45\" stroke=\"none\" width=\"45\" x=\"225\" y=\"270\"/><rect class=\"square light g2\" fill=\"#ffce9e\" height=\"45\" stroke=\"none\" width=\"45\" x=\"270\" y=\"270\"/><rect class=\"square dark h2\" fill=\"#d18b47\" height=\"45\" stroke=\"none\" width=\"45\" x=\"315\" y=\"270\"/><rect class=\"square dark a3\" fill=\"#d18b47\" height=\"45\" stroke=\"none\" width=\"45\" x=\"0\" y=\"225\"/><rect class=\"square light b3\" fill=\"#ffce9e\" height=\"45\" stroke=\"none\" width=\"45\" x=\"45\" y=\"225\"/><rect class=\"square dark c3\" fill=\"#d18b47\" height=\"45\" stroke=\"none\" width=\"45\" x=\"90\" y=\"225\"/><rect class=\"square light d3\" fill=\"#ffce9e\" height=\"45\" stroke=\"none\" width=\"45\" x=\"135\" y=\"225\"/><rect class=\"square dark e3\" fill=\"#d18b47\" height=\"45\" stroke=\"none\" width=\"45\" x=\"180\" y=\"225\"/><rect class=\"square light f3\" fill=\"#ffce9e\" height=\"45\" stroke=\"none\" width=\"45\" x=\"225\" y=\"225\"/><rect class=\"square dark g3\" fill=\"#d18b47\" height=\"45\" stroke=\"none\" width=\"45\" x=\"270\" y=\"225\"/><rect class=\"square light h3\" fill=\"#ffce9e\" height=\"45\" stroke=\"none\" width=\"45\" x=\"315\" y=\"225\"/><rect class=\"square light a4\" fill=\"#ffce9e\" height=\"45\" stroke=\"none\" width=\"45\" x=\"0\" y=\"180\"/><rect class=\"square dark b4\" fill=\"#d18b47\" height=\"45\" stroke=\"none\" width=\"45\" x=\"45\" y=\"180\"/><rect class=\"square light c4\" fill=\"#ffce9e\" height=\"45\" stroke=\"none\" width=\"45\" x=\"90\" y=\"180\"/><rect class=\"square dark d4\" fill=\"#d18b47\" height=\"45\" stroke=\"none\" width=\"45\" x=\"135\" y=\"180\"/><rect class=\"square light e4\" fill=\"#ffce9e\" height=\"45\" stroke=\"none\" width=\"45\" x=\"180\" y=\"180\"/><rect class=\"square dark f4\" fill=\"#d18b47\" height=\"45\" stroke=\"none\" width=\"45\" x=\"225\" y=\"180\"/><rect class=\"square light g4\" fill=\"#ffce9e\" height=\"45\" stroke=\"none\" width=\"45\" x=\"270\" y=\"180\"/><rect class=\"square dark h4\" fill=\"#d18b47\" height=\"45\" stroke=\"none\" width=\"45\" x=\"315\" y=\"180\"/><rect class=\"square dark a5\" fill=\"#d18b47\" height=\"45\" stroke=\"none\" width=\"45\" x=\"0\" y=\"135\"/><rect class=\"square light b5\" fill=\"#ffce9e\" height=\"45\" stroke=\"none\" width=\"45\" x=\"45\" y=\"135\"/><rect class=\"square dark c5\" fill=\"#d18b47\" height=\"45\" stroke=\"none\" width=\"45\" x=\"90\" y=\"135\"/><rect class=\"square light d5\" fill=\"#ffce9e\" height=\"45\" stroke=\"none\" width=\"45\" x=\"135\" y=\"135\"/><rect class=\"square dark e5\" fill=\"#d18b47\" height=\"45\" stroke=\"none\" width=\"45\" x=\"180\" y=\"135\"/><rect class=\"square light f5\" fill=\"#ffce9e\" height=\"45\" stroke=\"none\" width=\"45\" x=\"225\" y=\"135\"/><rect class=\"square dark g5\" fill=\"#d18b47\" height=\"45\" stroke=\"none\" width=\"45\" x=\"270\" y=\"135\"/><rect class=\"square light h5\" fill=\"#ffce9e\" height=\"45\" stroke=\"none\" width=\"45\" x=\"315\" y=\"135\"/><rect class=\"square light a6\" fill=\"#ffce9e\" height=\"45\" stroke=\"none\" width=\"45\" x=\"0\" y=\"90\"/><rect class=\"square dark b6\" fill=\"#d18b47\" height=\"45\" stroke=\"none\" width=\"45\" x=\"45\" y=\"90\"/><rect class=\"square light c6\" fill=\"#ffce9e\" height=\"45\" stroke=\"none\" width=\"45\" x=\"90\" y=\"90\"/><rect class=\"square dark d6\" fill=\"#d18b47\" height=\"45\" stroke=\"none\" width=\"45\" x=\"135\" y=\"90\"/><rect class=\"square light e6\" fill=\"#ffce9e\" height=\"45\" stroke=\"none\" width=\"45\" x=\"180\" y=\"90\"/><rect class=\"square dark f6\" fill=\"#d18b47\" height=\"45\" stroke=\"none\" width=\"45\" x=\"225\" y=\"90\"/><rect class=\"square light g6\" fill=\"#ffce9e\" height=\"45\" stroke=\"none\" width=\"45\" x=\"270\" y=\"90\"/><rect class=\"square dark h6\" fill=\"#d18b47\" height=\"45\" stroke=\"none\" width=\"45\" x=\"315\" y=\"90\"/><rect class=\"square dark a7\" fill=\"#d18b47\" height=\"45\" stroke=\"none\" width=\"45\" x=\"0\" y=\"45\"/><rect class=\"square light b7\" fill=\"#ffce9e\" height=\"45\" stroke=\"none\" width=\"45\" x=\"45\" y=\"45\"/><rect class=\"square dark c7\" fill=\"#d18b47\" height=\"45\" stroke=\"none\" width=\"45\" x=\"90\" y=\"45\"/><rect class=\"square light d7\" fill=\"#ffce9e\" height=\"45\" stroke=\"none\" width=\"45\" x=\"135\" y=\"45\"/><rect class=\"square dark e7\" fill=\"#d18b47\" height=\"45\" stroke=\"none\" width=\"45\" x=\"180\" y=\"45\"/><rect class=\"square light f7\" fill=\"#ffce9e\" height=\"45\" stroke=\"none\" width=\"45\" x=\"225\" y=\"45\"/><rect class=\"square dark g7\" fill=\"#d18b47\" height=\"45\" stroke=\"none\" width=\"45\" x=\"270\" y=\"45\"/><use transform=\"translate(270, 45)\" xlink:href=\"#white-bishop\"/><rect class=\"square light h7\" fill=\"#ffce9e\" height=\"45\" stroke=\"none\" width=\"45\" x=\"315\" y=\"45\"/><rect class=\"square light a8\" fill=\"#ffce9e\" height=\"45\" stroke=\"none\" width=\"45\" x=\"0\" y=\"0\"/><rect class=\"square dark b8\" fill=\"#d18b47\" height=\"45\" stroke=\"none\" width=\"45\" x=\"45\" y=\"0\"/><rect class=\"square light c8\" fill=\"#ffce9e\" height=\"45\" stroke=\"none\" width=\"45\" x=\"90\" y=\"0\"/><rect class=\"square dark d8\" fill=\"#d18b47\" height=\"45\" stroke=\"none\" width=\"45\" x=\"135\" y=\"0\"/><rect class=\"square light e8\" fill=\"#ffce9e\" height=\"45\" stroke=\"none\" width=\"45\" x=\"180\" y=\"0\"/><use transform=\"translate(180, 0)\" xlink:href=\"#white-queen\"/><rect class=\"square dark f8\" fill=\"#d18b47\" height=\"45\" stroke=\"none\" width=\"45\" x=\"225\" y=\"0\"/><use transform=\"translate(225, 0)\" xlink:href=\"#white-queen\"/><rect class=\"square light g8\" fill=\"#ffce9e\" height=\"45\" stroke=\"none\" width=\"45\" x=\"270\" y=\"0\"/><use transform=\"translate(270, 0)\" xlink:href=\"#white-queen\"/><rect class=\"square dark h8\" fill=\"#d18b47\" height=\"45\" stroke=\"none\" width=\"45\" x=\"315\" y=\"0\"/><use transform=\"translate(315, 0)\" xlink:href=\"#white-queen\"/><circle class=\"circle\" cx=\"67.5\" cy=\"337.5\" fill=\"none\" opacity=\"0.5\" r=\"20.25\" stroke=\"red\" stroke-width=\"4.5\"/><circle class=\"circle\" cx=\"112.5\" cy=\"337.5\" fill=\"none\" opacity=\"0.5\" r=\"20.25\" stroke=\"red\" stroke-width=\"4.5\"/><circle class=\"circle\" cx=\"157.5\" cy=\"337.5\" fill=\"none\" opacity=\"0.5\" r=\"20.25\" stroke=\"red\" stroke-width=\"4.5\"/><circle class=\"circle\" cx=\"292.5\" cy=\"337.5\" fill=\"none\" opacity=\"0.5\" r=\"20.25\" stroke=\"red\" stroke-width=\"4.5\"/><circle class=\"circle\" cx=\"112.5\" cy=\"292.5\" fill=\"none\" opacity=\"0.5\" r=\"20.25\" stroke=\"red\" stroke-width=\"4.5\"/><circle class=\"circle\" cx=\"157.5\" cy=\"292.5\" fill=\"none\" opacity=\"0.5\" r=\"20.25\" stroke=\"red\" stroke-width=\"4.5\"/><circle class=\"circle\" cx=\"292.5\" cy=\"292.5\" fill=\"none\" opacity=\"0.5\" r=\"20.25\" stroke=\"red\" stroke-width=\"4.5\"/><circle class=\"circle\" cx=\"157.5\" cy=\"247.5\" fill=\"none\" opacity=\"0.5\" r=\"20.25\" stroke=\"red\" stroke-width=\"4.5\"/><circle class=\"circle\" cx=\"292.5\" cy=\"247.5\" fill=\"none\" opacity=\"0.5\" r=\"20.25\" stroke=\"red\" stroke-width=\"4.5\"/><circle class=\"circle\" cx=\"292.5\" cy=\"202.5\" fill=\"none\" opacity=\"0.5\" r=\"20.25\" stroke=\"red\" stroke-width=\"4.5\"/><circle class=\"circle\" cx=\"22.5\" cy=\"157.5\" fill=\"none\" opacity=\"0.5\" r=\"20.25\" stroke=\"red\" stroke-width=\"4.5\"/><circle class=\"circle\" cx=\"292.5\" cy=\"157.5\" fill=\"none\" opacity=\"0.5\" r=\"20.25\" stroke=\"red\" stroke-width=\"4.5\"/><circle class=\"circle\" cx=\"22.5\" cy=\"112.5\" fill=\"none\" opacity=\"0.5\" r=\"20.25\" stroke=\"red\" stroke-width=\"4.5\"/><circle class=\"circle\" cx=\"67.5\" cy=\"112.5\" fill=\"none\" opacity=\"0.5\" r=\"20.25\" stroke=\"red\" stroke-width=\"4.5\"/><circle class=\"circle\" cx=\"22.5\" cy=\"67.5\" fill=\"none\" opacity=\"0.5\" r=\"20.25\" stroke=\"red\" stroke-width=\"4.5\"/><circle class=\"circle\" cx=\"67.5\" cy=\"67.5\" fill=\"none\" opacity=\"0.5\" r=\"20.25\" stroke=\"red\" stroke-width=\"4.5\"/><circle class=\"circle\" cx=\"112.5\" cy=\"67.5\" fill=\"none\" opacity=\"0.5\" r=\"20.25\" stroke=\"red\" stroke-width=\"4.5\"/></svg>"
      ],
      "text/plain": [
       "<IPython.core.display.SVG object>"
      ]
     },
     "metadata": {},
     "output_type": "display_data"
    },
    {
     "name": "stdout",
     "output_type": "stream",
     "text": [
      "48\n"
     ]
    },
    {
     "data": {
      "image/svg+xml": [
       "<svg version=\"1.1\" viewBox=\"0 0 360 360\" xmlns=\"http://www.w3.org/2000/svg\" xmlns:xlink=\"http://www.w3.org/1999/xlink\"><style>\n",
       ".square.light {\n",
       "fill: #cacaca;\n",
       "}\n",
       ".square.dark {\n",
       "fill: #898989;\n",
       "}\n",
       "#xx {\n",
       "fill: blue;\n",
       "stroke: red;\n",
       "}\n",
       ".square.light.lastmove {\n",
       "fill: #c3d889;\n",
       "}\n",
       ".square.dark.lastmove {\n",
       "fill: #92b167;\n",
       "}\n",
       ".check {\n",
       "fill: url(#check_gradient);\n",
       "}\n",
       ".arrow {\n",
       "stroke: #ff5858;\n",
       "fill: blue;\n",
       "}\n",
       ".mark {\n",
       "stroke: #959fff;\n",
       "fill: blue;\n",
       "}\n",
       "</style><defs><g class=\"white bishop\" fill=\"none\" fill-rule=\"evenodd\" id=\"white-bishop\" stroke=\"#000\" stroke-linecap=\"round\" stroke-linejoin=\"round\" stroke-width=\"1.5\"><g fill=\"#fff\" stroke-linecap=\"butt\"><path d=\"M9 36c3.39-.97 10.11.43 13.5-2 3.39 2.43 10.11 1.03 13.5 2 0 0 1.65.54 3 2-.68.97-1.65.99-3 .5-3.39-.97-10.11.46-13.5-1-3.39 1.46-10.11.03-13.5 1-1.354.49-2.323.47-3-.5 1.354-1.94 3-2 3-2zM15 32c2.5 2.5 12.5 2.5 15 0 .5-1.5 0-2 0-2 0-2.5-2.5-4-2.5-4 5.5-1.5 6-11.5-5-15.5-11 4-10.5 14-5 15.5 0 0-2.5 1.5-2.5 4 0 0-.5.5 0 2zM25 8a2.5 2.5 0 1 1-5 0 2.5 2.5 0 1 1 5 0z\"/></g><path d=\"M17.5 26h10M15 30h15m-7.5-14.5v5M20 18h5\" stroke-linejoin=\"miter\"/></g><g class=\"white queen\" fill=\"#fff\" fill-rule=\"evenodd\" id=\"white-queen\" stroke=\"#000\" stroke-linecap=\"round\" stroke-linejoin=\"round\" stroke-width=\"1.5\"><path d=\"M8 12a2 2 0 1 1-4 0 2 2 0 1 1 4 0zM24.5 7.5a2 2 0 1 1-4 0 2 2 0 1 1 4 0zM41 12a2 2 0 1 1-4 0 2 2 0 1 1 4 0zM16 8.5a2 2 0 1 1-4 0 2 2 0 1 1 4 0zM33 9a2 2 0 1 1-4 0 2 2 0 1 1 4 0z\"/><path d=\"M9 26c8.5-1.5 21-1.5 27 0l2-12-7 11V11l-5.5 13.5-3-15-3 15-5.5-14V25L7 14l2 12zM9 26c0 2 1.5 2 2.5 4 1 1.5 1 1 .5 3.5-1.5 1-1.5 2.5-1.5 2.5-1.5 1.5.5 2.5.5 2.5 6.5 1 16.5 1 23 0 0 0 1.5-1 0-2.5 0 0 .5-1.5-1-2.5-.5-2.5-.5-2 .5-3.5 1-2 2.5-2 2.5-4-8.5-1.5-18.5-1.5-27 0z\" stroke-linecap=\"butt\"/><path d=\"M11.5 30c3.5-1 18.5-1 22 0M12 33.5c6-1 15-1 21 0\" fill=\"none\"/></g></defs><rect class=\"square dark a1\" fill=\"#d18b47\" height=\"45\" stroke=\"none\" width=\"45\" x=\"0\" y=\"315\"/><rect class=\"square light b1\" fill=\"#ffce9e\" height=\"45\" stroke=\"none\" width=\"45\" x=\"45\" y=\"315\"/><rect class=\"square dark c1\" fill=\"#d18b47\" height=\"45\" stroke=\"none\" width=\"45\" x=\"90\" y=\"315\"/><rect class=\"square light d1\" fill=\"#ffce9e\" height=\"45\" stroke=\"none\" width=\"45\" x=\"135\" y=\"315\"/><rect class=\"square dark e1\" fill=\"#d18b47\" height=\"45\" stroke=\"none\" width=\"45\" x=\"180\" y=\"315\"/><rect class=\"square light f1\" fill=\"#ffce9e\" height=\"45\" stroke=\"none\" width=\"45\" x=\"225\" y=\"315\"/><rect class=\"square dark g1\" fill=\"#d18b47\" height=\"45\" stroke=\"none\" width=\"45\" x=\"270\" y=\"315\"/><rect class=\"square light h1\" fill=\"#ffce9e\" height=\"45\" stroke=\"none\" width=\"45\" x=\"315\" y=\"315\"/><rect class=\"square light a2\" fill=\"#ffce9e\" height=\"45\" stroke=\"none\" width=\"45\" x=\"0\" y=\"270\"/><rect class=\"square dark b2\" fill=\"#d18b47\" height=\"45\" stroke=\"none\" width=\"45\" x=\"45\" y=\"270\"/><rect class=\"square light c2\" fill=\"#ffce9e\" height=\"45\" stroke=\"none\" width=\"45\" x=\"90\" y=\"270\"/><rect class=\"square dark d2\" fill=\"#d18b47\" height=\"45\" stroke=\"none\" width=\"45\" x=\"135\" y=\"270\"/><rect class=\"square light e2\" fill=\"#ffce9e\" height=\"45\" stroke=\"none\" width=\"45\" x=\"180\" y=\"270\"/><rect class=\"square dark f2\" fill=\"#d18b47\" height=\"45\" stroke=\"none\" width=\"45\" x=\"225\" y=\"270\"/><rect class=\"square light g2\" fill=\"#ffce9e\" height=\"45\" stroke=\"none\" width=\"45\" x=\"270\" y=\"270\"/><rect class=\"square dark h2\" fill=\"#d18b47\" height=\"45\" stroke=\"none\" width=\"45\" x=\"315\" y=\"270\"/><rect class=\"square dark a3\" fill=\"#d18b47\" height=\"45\" stroke=\"none\" width=\"45\" x=\"0\" y=\"225\"/><rect class=\"square light b3\" fill=\"#ffce9e\" height=\"45\" stroke=\"none\" width=\"45\" x=\"45\" y=\"225\"/><rect class=\"square dark c3\" fill=\"#d18b47\" height=\"45\" stroke=\"none\" width=\"45\" x=\"90\" y=\"225\"/><rect class=\"square light d3\" fill=\"#ffce9e\" height=\"45\" stroke=\"none\" width=\"45\" x=\"135\" y=\"225\"/><rect class=\"square dark e3\" fill=\"#d18b47\" height=\"45\" stroke=\"none\" width=\"45\" x=\"180\" y=\"225\"/><rect class=\"square light f3\" fill=\"#ffce9e\" height=\"45\" stroke=\"none\" width=\"45\" x=\"225\" y=\"225\"/><rect class=\"square dark g3\" fill=\"#d18b47\" height=\"45\" stroke=\"none\" width=\"45\" x=\"270\" y=\"225\"/><rect class=\"square light h3\" fill=\"#ffce9e\" height=\"45\" stroke=\"none\" width=\"45\" x=\"315\" y=\"225\"/><rect class=\"square light a4\" fill=\"#ffce9e\" height=\"45\" stroke=\"none\" width=\"45\" x=\"0\" y=\"180\"/><rect class=\"square dark b4\" fill=\"#d18b47\" height=\"45\" stroke=\"none\" width=\"45\" x=\"45\" y=\"180\"/><rect class=\"square light c4\" fill=\"#ffce9e\" height=\"45\" stroke=\"none\" width=\"45\" x=\"90\" y=\"180\"/><rect class=\"square dark d4\" fill=\"#d18b47\" height=\"45\" stroke=\"none\" width=\"45\" x=\"135\" y=\"180\"/><rect class=\"square light e4\" fill=\"#ffce9e\" height=\"45\" stroke=\"none\" width=\"45\" x=\"180\" y=\"180\"/><rect class=\"square dark f4\" fill=\"#d18b47\" height=\"45\" stroke=\"none\" width=\"45\" x=\"225\" y=\"180\"/><rect class=\"square light g4\" fill=\"#ffce9e\" height=\"45\" stroke=\"none\" width=\"45\" x=\"270\" y=\"180\"/><rect class=\"square dark h4\" fill=\"#d18b47\" height=\"45\" stroke=\"none\" width=\"45\" x=\"315\" y=\"180\"/><rect class=\"square dark a5\" fill=\"#d18b47\" height=\"45\" stroke=\"none\" width=\"45\" x=\"0\" y=\"135\"/><rect class=\"square light b5\" fill=\"#ffce9e\" height=\"45\" stroke=\"none\" width=\"45\" x=\"45\" y=\"135\"/><rect class=\"square dark c5\" fill=\"#d18b47\" height=\"45\" stroke=\"none\" width=\"45\" x=\"90\" y=\"135\"/><rect class=\"square light d5\" fill=\"#ffce9e\" height=\"45\" stroke=\"none\" width=\"45\" x=\"135\" y=\"135\"/><rect class=\"square dark e5\" fill=\"#d18b47\" height=\"45\" stroke=\"none\" width=\"45\" x=\"180\" y=\"135\"/><rect class=\"square light f5\" fill=\"#ffce9e\" height=\"45\" stroke=\"none\" width=\"45\" x=\"225\" y=\"135\"/><rect class=\"square dark g5\" fill=\"#d18b47\" height=\"45\" stroke=\"none\" width=\"45\" x=\"270\" y=\"135\"/><rect class=\"square light h5\" fill=\"#ffce9e\" height=\"45\" stroke=\"none\" width=\"45\" x=\"315\" y=\"135\"/><rect class=\"square light a6\" fill=\"#ffce9e\" height=\"45\" stroke=\"none\" width=\"45\" x=\"0\" y=\"90\"/><rect class=\"square dark b6\" fill=\"#d18b47\" height=\"45\" stroke=\"none\" width=\"45\" x=\"45\" y=\"90\"/><rect class=\"square light c6\" fill=\"#ffce9e\" height=\"45\" stroke=\"none\" width=\"45\" x=\"90\" y=\"90\"/><rect class=\"square dark d6\" fill=\"#d18b47\" height=\"45\" stroke=\"none\" width=\"45\" x=\"135\" y=\"90\"/><rect class=\"square light e6\" fill=\"#ffce9e\" height=\"45\" stroke=\"none\" width=\"45\" x=\"180\" y=\"90\"/><rect class=\"square dark f6\" fill=\"#d18b47\" height=\"45\" stroke=\"none\" width=\"45\" x=\"225\" y=\"90\"/><rect class=\"square light g6\" fill=\"#ffce9e\" height=\"45\" stroke=\"none\" width=\"45\" x=\"270\" y=\"90\"/><rect class=\"square dark h6\" fill=\"#d18b47\" height=\"45\" stroke=\"none\" width=\"45\" x=\"315\" y=\"90\"/><rect class=\"square dark a7\" fill=\"#d18b47\" height=\"45\" stroke=\"none\" width=\"45\" x=\"0\" y=\"45\"/><rect class=\"square light b7\" fill=\"#ffce9e\" height=\"45\" stroke=\"none\" width=\"45\" x=\"45\" y=\"45\"/><rect class=\"square dark c7\" fill=\"#d18b47\" height=\"45\" stroke=\"none\" width=\"45\" x=\"90\" y=\"45\"/><rect class=\"square light d7\" fill=\"#ffce9e\" height=\"45\" stroke=\"none\" width=\"45\" x=\"135\" y=\"45\"/><rect class=\"square dark e7\" fill=\"#d18b47\" height=\"45\" stroke=\"none\" width=\"45\" x=\"180\" y=\"45\"/><use transform=\"translate(180, 45)\" xlink:href=\"#white-bishop\"/><rect class=\"square light f7\" fill=\"#ffce9e\" height=\"45\" stroke=\"none\" width=\"45\" x=\"225\" y=\"45\"/><rect class=\"square dark g7\" fill=\"#d18b47\" height=\"45\" stroke=\"none\" width=\"45\" x=\"270\" y=\"45\"/><rect class=\"square light h7\" fill=\"#ffce9e\" height=\"45\" stroke=\"none\" width=\"45\" x=\"315\" y=\"45\"/><rect class=\"square light a8\" fill=\"#ffce9e\" height=\"45\" stroke=\"none\" width=\"45\" x=\"0\" y=\"0\"/><rect class=\"square dark b8\" fill=\"#d18b47\" height=\"45\" stroke=\"none\" width=\"45\" x=\"45\" y=\"0\"/><rect class=\"square light c8\" fill=\"#ffce9e\" height=\"45\" stroke=\"none\" width=\"45\" x=\"90\" y=\"0\"/><rect class=\"square dark d8\" fill=\"#d18b47\" height=\"45\" stroke=\"none\" width=\"45\" x=\"135\" y=\"0\"/><rect class=\"square light e8\" fill=\"#ffce9e\" height=\"45\" stroke=\"none\" width=\"45\" x=\"180\" y=\"0\"/><use transform=\"translate(180, 0)\" xlink:href=\"#white-queen\"/><rect class=\"square dark f8\" fill=\"#d18b47\" height=\"45\" stroke=\"none\" width=\"45\" x=\"225\" y=\"0\"/><use transform=\"translate(225, 0)\" xlink:href=\"#white-queen\"/><rect class=\"square light g8\" fill=\"#ffce9e\" height=\"45\" stroke=\"none\" width=\"45\" x=\"270\" y=\"0\"/><use transform=\"translate(270, 0)\" xlink:href=\"#white-queen\"/><rect class=\"square dark h8\" fill=\"#d18b47\" height=\"45\" stroke=\"none\" width=\"45\" x=\"315\" y=\"0\"/><use transform=\"translate(315, 0)\" xlink:href=\"#white-queen\"/><circle class=\"circle\" cx=\"67.5\" cy=\"337.5\" fill=\"none\" opacity=\"0.5\" r=\"20.25\" stroke=\"red\" stroke-width=\"4.5\"/><circle class=\"circle\" cx=\"112.5\" cy=\"337.5\" fill=\"none\" opacity=\"0.5\" r=\"20.25\" stroke=\"red\" stroke-width=\"4.5\"/><circle class=\"circle\" cx=\"157.5\" cy=\"337.5\" fill=\"none\" opacity=\"0.5\" r=\"20.25\" stroke=\"red\" stroke-width=\"4.5\"/><circle class=\"circle\" cx=\"202.5\" cy=\"337.5\" fill=\"none\" opacity=\"0.5\" r=\"20.25\" stroke=\"red\" stroke-width=\"4.5\"/><circle class=\"circle\" cx=\"112.5\" cy=\"292.5\" fill=\"none\" opacity=\"0.5\" r=\"20.25\" stroke=\"red\" stroke-width=\"4.5\"/><circle class=\"circle\" cx=\"157.5\" cy=\"292.5\" fill=\"none\" opacity=\"0.5\" r=\"20.25\" stroke=\"red\" stroke-width=\"4.5\"/><circle class=\"circle\" cx=\"202.5\" cy=\"292.5\" fill=\"none\" opacity=\"0.5\" r=\"20.25\" stroke=\"red\" stroke-width=\"4.5\"/><circle class=\"circle\" cx=\"157.5\" cy=\"247.5\" fill=\"none\" opacity=\"0.5\" r=\"20.25\" stroke=\"red\" stroke-width=\"4.5\"/><circle class=\"circle\" cx=\"202.5\" cy=\"247.5\" fill=\"none\" opacity=\"0.5\" r=\"20.25\" stroke=\"red\" stroke-width=\"4.5\"/><circle class=\"circle\" cx=\"202.5\" cy=\"202.5\" fill=\"none\" opacity=\"0.5\" r=\"20.25\" stroke=\"red\" stroke-width=\"4.5\"/><circle class=\"circle\" cx=\"22.5\" cy=\"157.5\" fill=\"none\" opacity=\"0.5\" r=\"20.25\" stroke=\"red\" stroke-width=\"4.5\"/><circle class=\"circle\" cx=\"22.5\" cy=\"112.5\" fill=\"none\" opacity=\"0.5\" r=\"20.25\" stroke=\"red\" stroke-width=\"4.5\"/><circle class=\"circle\" cx=\"67.5\" cy=\"112.5\" fill=\"none\" opacity=\"0.5\" r=\"20.25\" stroke=\"red\" stroke-width=\"4.5\"/><circle class=\"circle\" cx=\"22.5\" cy=\"67.5\" fill=\"none\" opacity=\"0.5\" r=\"20.25\" stroke=\"red\" stroke-width=\"4.5\"/><circle class=\"circle\" cx=\"67.5\" cy=\"67.5\" fill=\"none\" opacity=\"0.5\" r=\"20.25\" stroke=\"red\" stroke-width=\"4.5\"/><circle class=\"circle\" cx=\"112.5\" cy=\"67.5\" fill=\"none\" opacity=\"0.5\" r=\"20.25\" stroke=\"red\" stroke-width=\"4.5\"/></svg>"
      ],
      "text/plain": [
       "<IPython.core.display.SVG object>"
      ]
     },
     "metadata": {},
     "output_type": "display_data"
    },
    {
     "name": "stdout",
     "output_type": "stream",
     "text": [
      "49\n"
     ]
    },
    {
     "data": {
      "image/svg+xml": [
       "<svg version=\"1.1\" viewBox=\"0 0 360 360\" xmlns=\"http://www.w3.org/2000/svg\" xmlns:xlink=\"http://www.w3.org/1999/xlink\"><style>\n",
       ".square.light {\n",
       "fill: #cacaca;\n",
       "}\n",
       ".square.dark {\n",
       "fill: #898989;\n",
       "}\n",
       "#xx {\n",
       "fill: blue;\n",
       "stroke: red;\n",
       "}\n",
       ".square.light.lastmove {\n",
       "fill: #c3d889;\n",
       "}\n",
       ".square.dark.lastmove {\n",
       "fill: #92b167;\n",
       "}\n",
       ".check {\n",
       "fill: url(#check_gradient);\n",
       "}\n",
       ".arrow {\n",
       "stroke: #ff5858;\n",
       "fill: blue;\n",
       "}\n",
       ".mark {\n",
       "stroke: #959fff;\n",
       "fill: blue;\n",
       "}\n",
       "</style><defs><g class=\"white bishop\" fill=\"none\" fill-rule=\"evenodd\" id=\"white-bishop\" stroke=\"#000\" stroke-linecap=\"round\" stroke-linejoin=\"round\" stroke-width=\"1.5\"><g fill=\"#fff\" stroke-linecap=\"butt\"><path d=\"M9 36c3.39-.97 10.11.43 13.5-2 3.39 2.43 10.11 1.03 13.5 2 0 0 1.65.54 3 2-.68.97-1.65.99-3 .5-3.39-.97-10.11.46-13.5-1-3.39 1.46-10.11.03-13.5 1-1.354.49-2.323.47-3-.5 1.354-1.94 3-2 3-2zM15 32c2.5 2.5 12.5 2.5 15 0 .5-1.5 0-2 0-2 0-2.5-2.5-4-2.5-4 5.5-1.5 6-11.5-5-15.5-11 4-10.5 14-5 15.5 0 0-2.5 1.5-2.5 4 0 0-.5.5 0 2zM25 8a2.5 2.5 0 1 1-5 0 2.5 2.5 0 1 1 5 0z\"/></g><path d=\"M17.5 26h10M15 30h15m-7.5-14.5v5M20 18h5\" stroke-linejoin=\"miter\"/></g><g class=\"white queen\" fill=\"#fff\" fill-rule=\"evenodd\" id=\"white-queen\" stroke=\"#000\" stroke-linecap=\"round\" stroke-linejoin=\"round\" stroke-width=\"1.5\"><path d=\"M8 12a2 2 0 1 1-4 0 2 2 0 1 1 4 0zM24.5 7.5a2 2 0 1 1-4 0 2 2 0 1 1 4 0zM41 12a2 2 0 1 1-4 0 2 2 0 1 1 4 0zM16 8.5a2 2 0 1 1-4 0 2 2 0 1 1 4 0zM33 9a2 2 0 1 1-4 0 2 2 0 1 1 4 0z\"/><path d=\"M9 26c8.5-1.5 21-1.5 27 0l2-12-7 11V11l-5.5 13.5-3-15-3 15-5.5-14V25L7 14l2 12zM9 26c0 2 1.5 2 2.5 4 1 1.5 1 1 .5 3.5-1.5 1-1.5 2.5-1.5 2.5-1.5 1.5.5 2.5.5 2.5 6.5 1 16.5 1 23 0 0 0 1.5-1 0-2.5 0 0 .5-1.5-1-2.5-.5-2.5-.5-2 .5-3.5 1-2 2.5-2 2.5-4-8.5-1.5-18.5-1.5-27 0z\" stroke-linecap=\"butt\"/><path d=\"M11.5 30c3.5-1 18.5-1 22 0M12 33.5c6-1 15-1 21 0\" fill=\"none\"/></g></defs><rect class=\"square dark a1\" fill=\"#d18b47\" height=\"45\" stroke=\"none\" width=\"45\" x=\"0\" y=\"315\"/><rect class=\"square light b1\" fill=\"#ffce9e\" height=\"45\" stroke=\"none\" width=\"45\" x=\"45\" y=\"315\"/><rect class=\"square dark c1\" fill=\"#d18b47\" height=\"45\" stroke=\"none\" width=\"45\" x=\"90\" y=\"315\"/><rect class=\"square light d1\" fill=\"#ffce9e\" height=\"45\" stroke=\"none\" width=\"45\" x=\"135\" y=\"315\"/><rect class=\"square dark e1\" fill=\"#d18b47\" height=\"45\" stroke=\"none\" width=\"45\" x=\"180\" y=\"315\"/><rect class=\"square light f1\" fill=\"#ffce9e\" height=\"45\" stroke=\"none\" width=\"45\" x=\"225\" y=\"315\"/><rect class=\"square dark g1\" fill=\"#d18b47\" height=\"45\" stroke=\"none\" width=\"45\" x=\"270\" y=\"315\"/><rect class=\"square light h1\" fill=\"#ffce9e\" height=\"45\" stroke=\"none\" width=\"45\" x=\"315\" y=\"315\"/><rect class=\"square light a2\" fill=\"#ffce9e\" height=\"45\" stroke=\"none\" width=\"45\" x=\"0\" y=\"270\"/><rect class=\"square dark b2\" fill=\"#d18b47\" height=\"45\" stroke=\"none\" width=\"45\" x=\"45\" y=\"270\"/><rect class=\"square light c2\" fill=\"#ffce9e\" height=\"45\" stroke=\"none\" width=\"45\" x=\"90\" y=\"270\"/><rect class=\"square dark d2\" fill=\"#d18b47\" height=\"45\" stroke=\"none\" width=\"45\" x=\"135\" y=\"270\"/><rect class=\"square light e2\" fill=\"#ffce9e\" height=\"45\" stroke=\"none\" width=\"45\" x=\"180\" y=\"270\"/><rect class=\"square dark f2\" fill=\"#d18b47\" height=\"45\" stroke=\"none\" width=\"45\" x=\"225\" y=\"270\"/><rect class=\"square light g2\" fill=\"#ffce9e\" height=\"45\" stroke=\"none\" width=\"45\" x=\"270\" y=\"270\"/><rect class=\"square dark h2\" fill=\"#d18b47\" height=\"45\" stroke=\"none\" width=\"45\" x=\"315\" y=\"270\"/><rect class=\"square dark a3\" fill=\"#d18b47\" height=\"45\" stroke=\"none\" width=\"45\" x=\"0\" y=\"225\"/><rect class=\"square light b3\" fill=\"#ffce9e\" height=\"45\" stroke=\"none\" width=\"45\" x=\"45\" y=\"225\"/><rect class=\"square dark c3\" fill=\"#d18b47\" height=\"45\" stroke=\"none\" width=\"45\" x=\"90\" y=\"225\"/><rect class=\"square light d3\" fill=\"#ffce9e\" height=\"45\" stroke=\"none\" width=\"45\" x=\"135\" y=\"225\"/><rect class=\"square dark e3\" fill=\"#d18b47\" height=\"45\" stroke=\"none\" width=\"45\" x=\"180\" y=\"225\"/><rect class=\"square light f3\" fill=\"#ffce9e\" height=\"45\" stroke=\"none\" width=\"45\" x=\"225\" y=\"225\"/><rect class=\"square dark g3\" fill=\"#d18b47\" height=\"45\" stroke=\"none\" width=\"45\" x=\"270\" y=\"225\"/><rect class=\"square light h3\" fill=\"#ffce9e\" height=\"45\" stroke=\"none\" width=\"45\" x=\"315\" y=\"225\"/><rect class=\"square light a4\" fill=\"#ffce9e\" height=\"45\" stroke=\"none\" width=\"45\" x=\"0\" y=\"180\"/><rect class=\"square dark b4\" fill=\"#d18b47\" height=\"45\" stroke=\"none\" width=\"45\" x=\"45\" y=\"180\"/><rect class=\"square light c4\" fill=\"#ffce9e\" height=\"45\" stroke=\"none\" width=\"45\" x=\"90\" y=\"180\"/><rect class=\"square dark d4\" fill=\"#d18b47\" height=\"45\" stroke=\"none\" width=\"45\" x=\"135\" y=\"180\"/><rect class=\"square light e4\" fill=\"#ffce9e\" height=\"45\" stroke=\"none\" width=\"45\" x=\"180\" y=\"180\"/><rect class=\"square dark f4\" fill=\"#d18b47\" height=\"45\" stroke=\"none\" width=\"45\" x=\"225\" y=\"180\"/><rect class=\"square light g4\" fill=\"#ffce9e\" height=\"45\" stroke=\"none\" width=\"45\" x=\"270\" y=\"180\"/><rect class=\"square dark h4\" fill=\"#d18b47\" height=\"45\" stroke=\"none\" width=\"45\" x=\"315\" y=\"180\"/><rect class=\"square dark a5\" fill=\"#d18b47\" height=\"45\" stroke=\"none\" width=\"45\" x=\"0\" y=\"135\"/><rect class=\"square light b5\" fill=\"#ffce9e\" height=\"45\" stroke=\"none\" width=\"45\" x=\"45\" y=\"135\"/><rect class=\"square dark c5\" fill=\"#d18b47\" height=\"45\" stroke=\"none\" width=\"45\" x=\"90\" y=\"135\"/><rect class=\"square light d5\" fill=\"#ffce9e\" height=\"45\" stroke=\"none\" width=\"45\" x=\"135\" y=\"135\"/><rect class=\"square dark e5\" fill=\"#d18b47\" height=\"45\" stroke=\"none\" width=\"45\" x=\"180\" y=\"135\"/><rect class=\"square light f5\" fill=\"#ffce9e\" height=\"45\" stroke=\"none\" width=\"45\" x=\"225\" y=\"135\"/><rect class=\"square dark g5\" fill=\"#d18b47\" height=\"45\" stroke=\"none\" width=\"45\" x=\"270\" y=\"135\"/><rect class=\"square light h5\" fill=\"#ffce9e\" height=\"45\" stroke=\"none\" width=\"45\" x=\"315\" y=\"135\"/><use transform=\"translate(315, 135)\" xlink:href=\"#white-bishop\"/><rect class=\"square light a6\" fill=\"#ffce9e\" height=\"45\" stroke=\"none\" width=\"45\" x=\"0\" y=\"90\"/><rect class=\"square dark b6\" fill=\"#d18b47\" height=\"45\" stroke=\"none\" width=\"45\" x=\"45\" y=\"90\"/><rect class=\"square light c6\" fill=\"#ffce9e\" height=\"45\" stroke=\"none\" width=\"45\" x=\"90\" y=\"90\"/><rect class=\"square dark d6\" fill=\"#d18b47\" height=\"45\" stroke=\"none\" width=\"45\" x=\"135\" y=\"90\"/><rect class=\"square light e6\" fill=\"#ffce9e\" height=\"45\" stroke=\"none\" width=\"45\" x=\"180\" y=\"90\"/><rect class=\"square dark f6\" fill=\"#d18b47\" height=\"45\" stroke=\"none\" width=\"45\" x=\"225\" y=\"90\"/><rect class=\"square light g6\" fill=\"#ffce9e\" height=\"45\" stroke=\"none\" width=\"45\" x=\"270\" y=\"90\"/><rect class=\"square dark h6\" fill=\"#d18b47\" height=\"45\" stroke=\"none\" width=\"45\" x=\"315\" y=\"90\"/><rect class=\"square dark a7\" fill=\"#d18b47\" height=\"45\" stroke=\"none\" width=\"45\" x=\"0\" y=\"45\"/><rect class=\"square light b7\" fill=\"#ffce9e\" height=\"45\" stroke=\"none\" width=\"45\" x=\"45\" y=\"45\"/><rect class=\"square dark c7\" fill=\"#d18b47\" height=\"45\" stroke=\"none\" width=\"45\" x=\"90\" y=\"45\"/><rect class=\"square light d7\" fill=\"#ffce9e\" height=\"45\" stroke=\"none\" width=\"45\" x=\"135\" y=\"45\"/><rect class=\"square dark e7\" fill=\"#d18b47\" height=\"45\" stroke=\"none\" width=\"45\" x=\"180\" y=\"45\"/><rect class=\"square light f7\" fill=\"#ffce9e\" height=\"45\" stroke=\"none\" width=\"45\" x=\"225\" y=\"45\"/><rect class=\"square dark g7\" fill=\"#d18b47\" height=\"45\" stroke=\"none\" width=\"45\" x=\"270\" y=\"45\"/><rect class=\"square light h7\" fill=\"#ffce9e\" height=\"45\" stroke=\"none\" width=\"45\" x=\"315\" y=\"45\"/><rect class=\"square light a8\" fill=\"#ffce9e\" height=\"45\" stroke=\"none\" width=\"45\" x=\"0\" y=\"0\"/><rect class=\"square dark b8\" fill=\"#d18b47\" height=\"45\" stroke=\"none\" width=\"45\" x=\"45\" y=\"0\"/><rect class=\"square light c8\" fill=\"#ffce9e\" height=\"45\" stroke=\"none\" width=\"45\" x=\"90\" y=\"0\"/><rect class=\"square dark d8\" fill=\"#d18b47\" height=\"45\" stroke=\"none\" width=\"45\" x=\"135\" y=\"0\"/><rect class=\"square light e8\" fill=\"#ffce9e\" height=\"45\" stroke=\"none\" width=\"45\" x=\"180\" y=\"0\"/><use transform=\"translate(180, 0)\" xlink:href=\"#white-queen\"/><rect class=\"square dark f8\" fill=\"#d18b47\" height=\"45\" stroke=\"none\" width=\"45\" x=\"225\" y=\"0\"/><use transform=\"translate(225, 0)\" xlink:href=\"#white-queen\"/><rect class=\"square light g8\" fill=\"#ffce9e\" height=\"45\" stroke=\"none\" width=\"45\" x=\"270\" y=\"0\"/><use transform=\"translate(270, 0)\" xlink:href=\"#white-queen\"/><rect class=\"square dark h8\" fill=\"#d18b47\" height=\"45\" stroke=\"none\" width=\"45\" x=\"315\" y=\"0\"/><use transform=\"translate(315, 0)\" xlink:href=\"#white-queen\"/><circle class=\"circle\" cx=\"67.5\" cy=\"337.5\" fill=\"none\" opacity=\"0.5\" r=\"20.25\" stroke=\"red\" stroke-width=\"4.5\"/><circle class=\"circle\" cx=\"112.5\" cy=\"337.5\" fill=\"none\" opacity=\"0.5\" r=\"20.25\" stroke=\"red\" stroke-width=\"4.5\"/><circle class=\"circle\" cx=\"337.5\" cy=\"337.5\" fill=\"none\" opacity=\"0.5\" r=\"20.25\" stroke=\"red\" stroke-width=\"4.5\"/><circle class=\"circle\" cx=\"112.5\" cy=\"292.5\" fill=\"none\" opacity=\"0.5\" r=\"20.25\" stroke=\"red\" stroke-width=\"4.5\"/><circle class=\"circle\" cx=\"157.5\" cy=\"292.5\" fill=\"none\" opacity=\"0.5\" r=\"20.25\" stroke=\"red\" stroke-width=\"4.5\"/><circle class=\"circle\" cx=\"337.5\" cy=\"292.5\" fill=\"none\" opacity=\"0.5\" r=\"20.25\" stroke=\"red\" stroke-width=\"4.5\"/><circle class=\"circle\" cx=\"157.5\" cy=\"247.5\" fill=\"none\" opacity=\"0.5\" r=\"20.25\" stroke=\"red\" stroke-width=\"4.5\"/><circle class=\"circle\" cx=\"337.5\" cy=\"247.5\" fill=\"none\" opacity=\"0.5\" r=\"20.25\" stroke=\"red\" stroke-width=\"4.5\"/><circle class=\"circle\" cx=\"337.5\" cy=\"202.5\" fill=\"none\" opacity=\"0.5\" r=\"20.25\" stroke=\"red\" stroke-width=\"4.5\"/><circle class=\"circle\" cx=\"22.5\" cy=\"157.5\" fill=\"none\" opacity=\"0.5\" r=\"20.25\" stroke=\"red\" stroke-width=\"4.5\"/><circle class=\"circle\" cx=\"22.5\" cy=\"112.5\" fill=\"none\" opacity=\"0.5\" r=\"20.25\" stroke=\"red\" stroke-width=\"4.5\"/><circle class=\"circle\" cx=\"67.5\" cy=\"112.5\" fill=\"none\" opacity=\"0.5\" r=\"20.25\" stroke=\"red\" stroke-width=\"4.5\"/><circle class=\"circle\" cx=\"22.5\" cy=\"67.5\" fill=\"none\" opacity=\"0.5\" r=\"20.25\" stroke=\"red\" stroke-width=\"4.5\"/><circle class=\"circle\" cx=\"67.5\" cy=\"67.5\" fill=\"none\" opacity=\"0.5\" r=\"20.25\" stroke=\"red\" stroke-width=\"4.5\"/><circle class=\"circle\" cx=\"112.5\" cy=\"67.5\" fill=\"none\" opacity=\"0.5\" r=\"20.25\" stroke=\"red\" stroke-width=\"4.5\"/></svg>"
      ],
      "text/plain": [
       "<IPython.core.display.SVG object>"
      ]
     },
     "metadata": {},
     "output_type": "display_data"
    },
    {
     "name": "stdout",
     "output_type": "stream",
     "text": [
      "50\n"
     ]
    },
    {
     "data": {
      "image/svg+xml": [
       "<svg version=\"1.1\" viewBox=\"0 0 360 360\" xmlns=\"http://www.w3.org/2000/svg\" xmlns:xlink=\"http://www.w3.org/1999/xlink\"><style>\n",
       ".square.light {\n",
       "fill: #cacaca;\n",
       "}\n",
       ".square.dark {\n",
       "fill: #898989;\n",
       "}\n",
       "#xx {\n",
       "fill: blue;\n",
       "stroke: red;\n",
       "}\n",
       ".square.light.lastmove {\n",
       "fill: #c3d889;\n",
       "}\n",
       ".square.dark.lastmove {\n",
       "fill: #92b167;\n",
       "}\n",
       ".check {\n",
       "fill: url(#check_gradient);\n",
       "}\n",
       ".arrow {\n",
       "stroke: #ff5858;\n",
       "fill: blue;\n",
       "}\n",
       ".mark {\n",
       "stroke: #959fff;\n",
       "fill: blue;\n",
       "}\n",
       "</style><defs><g class=\"white bishop\" fill=\"none\" fill-rule=\"evenodd\" id=\"white-bishop\" stroke=\"#000\" stroke-linecap=\"round\" stroke-linejoin=\"round\" stroke-width=\"1.5\"><g fill=\"#fff\" stroke-linecap=\"butt\"><path d=\"M9 36c3.39-.97 10.11.43 13.5-2 3.39 2.43 10.11 1.03 13.5 2 0 0 1.65.54 3 2-.68.97-1.65.99-3 .5-3.39-.97-10.11.46-13.5-1-3.39 1.46-10.11.03-13.5 1-1.354.49-2.323.47-3-.5 1.354-1.94 3-2 3-2zM15 32c2.5 2.5 12.5 2.5 15 0 .5-1.5 0-2 0-2 0-2.5-2.5-4-2.5-4 5.5-1.5 6-11.5-5-15.5-11 4-10.5 14-5 15.5 0 0-2.5 1.5-2.5 4 0 0-.5.5 0 2zM25 8a2.5 2.5 0 1 1-5 0 2.5 2.5 0 1 1 5 0z\"/></g><path d=\"M17.5 26h10M15 30h15m-7.5-14.5v5M20 18h5\" stroke-linejoin=\"miter\"/></g><g class=\"white queen\" fill=\"#fff\" fill-rule=\"evenodd\" id=\"white-queen\" stroke=\"#000\" stroke-linecap=\"round\" stroke-linejoin=\"round\" stroke-width=\"1.5\"><path d=\"M8 12a2 2 0 1 1-4 0 2 2 0 1 1 4 0zM24.5 7.5a2 2 0 1 1-4 0 2 2 0 1 1 4 0zM41 12a2 2 0 1 1-4 0 2 2 0 1 1 4 0zM16 8.5a2 2 0 1 1-4 0 2 2 0 1 1 4 0zM33 9a2 2 0 1 1-4 0 2 2 0 1 1 4 0z\"/><path d=\"M9 26c8.5-1.5 21-1.5 27 0l2-12-7 11V11l-5.5 13.5-3-15-3 15-5.5-14V25L7 14l2 12zM9 26c0 2 1.5 2 2.5 4 1 1.5 1 1 .5 3.5-1.5 1-1.5 2.5-1.5 2.5-1.5 1.5.5 2.5.5 2.5 6.5 1 16.5 1 23 0 0 0 1.5-1 0-2.5 0 0 .5-1.5-1-2.5-.5-2.5-.5-2 .5-3.5 1-2 2.5-2 2.5-4-8.5-1.5-18.5-1.5-27 0z\" stroke-linecap=\"butt\"/><path d=\"M11.5 30c3.5-1 18.5-1 22 0M12 33.5c6-1 15-1 21 0\" fill=\"none\"/></g></defs><rect class=\"square dark a1\" fill=\"#d18b47\" height=\"45\" stroke=\"none\" width=\"45\" x=\"0\" y=\"315\"/><rect class=\"square light b1\" fill=\"#ffce9e\" height=\"45\" stroke=\"none\" width=\"45\" x=\"45\" y=\"315\"/><rect class=\"square dark c1\" fill=\"#d18b47\" height=\"45\" stroke=\"none\" width=\"45\" x=\"90\" y=\"315\"/><rect class=\"square light d1\" fill=\"#ffce9e\" height=\"45\" stroke=\"none\" width=\"45\" x=\"135\" y=\"315\"/><rect class=\"square dark e1\" fill=\"#d18b47\" height=\"45\" stroke=\"none\" width=\"45\" x=\"180\" y=\"315\"/><rect class=\"square light f1\" fill=\"#ffce9e\" height=\"45\" stroke=\"none\" width=\"45\" x=\"225\" y=\"315\"/><rect class=\"square dark g1\" fill=\"#d18b47\" height=\"45\" stroke=\"none\" width=\"45\" x=\"270\" y=\"315\"/><rect class=\"square light h1\" fill=\"#ffce9e\" height=\"45\" stroke=\"none\" width=\"45\" x=\"315\" y=\"315\"/><rect class=\"square light a2\" fill=\"#ffce9e\" height=\"45\" stroke=\"none\" width=\"45\" x=\"0\" y=\"270\"/><rect class=\"square dark b2\" fill=\"#d18b47\" height=\"45\" stroke=\"none\" width=\"45\" x=\"45\" y=\"270\"/><rect class=\"square light c2\" fill=\"#ffce9e\" height=\"45\" stroke=\"none\" width=\"45\" x=\"90\" y=\"270\"/><rect class=\"square dark d2\" fill=\"#d18b47\" height=\"45\" stroke=\"none\" width=\"45\" x=\"135\" y=\"270\"/><rect class=\"square light e2\" fill=\"#ffce9e\" height=\"45\" stroke=\"none\" width=\"45\" x=\"180\" y=\"270\"/><rect class=\"square dark f2\" fill=\"#d18b47\" height=\"45\" stroke=\"none\" width=\"45\" x=\"225\" y=\"270\"/><rect class=\"square light g2\" fill=\"#ffce9e\" height=\"45\" stroke=\"none\" width=\"45\" x=\"270\" y=\"270\"/><rect class=\"square dark h2\" fill=\"#d18b47\" height=\"45\" stroke=\"none\" width=\"45\" x=\"315\" y=\"270\"/><rect class=\"square dark a3\" fill=\"#d18b47\" height=\"45\" stroke=\"none\" width=\"45\" x=\"0\" y=\"225\"/><rect class=\"square light b3\" fill=\"#ffce9e\" height=\"45\" stroke=\"none\" width=\"45\" x=\"45\" y=\"225\"/><rect class=\"square dark c3\" fill=\"#d18b47\" height=\"45\" stroke=\"none\" width=\"45\" x=\"90\" y=\"225\"/><rect class=\"square light d3\" fill=\"#ffce9e\" height=\"45\" stroke=\"none\" width=\"45\" x=\"135\" y=\"225\"/><rect class=\"square dark e3\" fill=\"#d18b47\" height=\"45\" stroke=\"none\" width=\"45\" x=\"180\" y=\"225\"/><rect class=\"square light f3\" fill=\"#ffce9e\" height=\"45\" stroke=\"none\" width=\"45\" x=\"225\" y=\"225\"/><rect class=\"square dark g3\" fill=\"#d18b47\" height=\"45\" stroke=\"none\" width=\"45\" x=\"270\" y=\"225\"/><rect class=\"square light h3\" fill=\"#ffce9e\" height=\"45\" stroke=\"none\" width=\"45\" x=\"315\" y=\"225\"/><rect class=\"square light a4\" fill=\"#ffce9e\" height=\"45\" stroke=\"none\" width=\"45\" x=\"0\" y=\"180\"/><rect class=\"square dark b4\" fill=\"#d18b47\" height=\"45\" stroke=\"none\" width=\"45\" x=\"45\" y=\"180\"/><rect class=\"square light c4\" fill=\"#ffce9e\" height=\"45\" stroke=\"none\" width=\"45\" x=\"90\" y=\"180\"/><rect class=\"square dark d4\" fill=\"#d18b47\" height=\"45\" stroke=\"none\" width=\"45\" x=\"135\" y=\"180\"/><rect class=\"square light e4\" fill=\"#ffce9e\" height=\"45\" stroke=\"none\" width=\"45\" x=\"180\" y=\"180\"/><rect class=\"square dark f4\" fill=\"#d18b47\" height=\"45\" stroke=\"none\" width=\"45\" x=\"225\" y=\"180\"/><rect class=\"square light g4\" fill=\"#ffce9e\" height=\"45\" stroke=\"none\" width=\"45\" x=\"270\" y=\"180\"/><rect class=\"square dark h4\" fill=\"#d18b47\" height=\"45\" stroke=\"none\" width=\"45\" x=\"315\" y=\"180\"/><rect class=\"square dark a5\" fill=\"#d18b47\" height=\"45\" stroke=\"none\" width=\"45\" x=\"0\" y=\"135\"/><rect class=\"square light b5\" fill=\"#ffce9e\" height=\"45\" stroke=\"none\" width=\"45\" x=\"45\" y=\"135\"/><rect class=\"square dark c5\" fill=\"#d18b47\" height=\"45\" stroke=\"none\" width=\"45\" x=\"90\" y=\"135\"/><rect class=\"square light d5\" fill=\"#ffce9e\" height=\"45\" stroke=\"none\" width=\"45\" x=\"135\" y=\"135\"/><rect class=\"square dark e5\" fill=\"#d18b47\" height=\"45\" stroke=\"none\" width=\"45\" x=\"180\" y=\"135\"/><rect class=\"square light f5\" fill=\"#ffce9e\" height=\"45\" stroke=\"none\" width=\"45\" x=\"225\" y=\"135\"/><rect class=\"square dark g5\" fill=\"#d18b47\" height=\"45\" stroke=\"none\" width=\"45\" x=\"270\" y=\"135\"/><rect class=\"square light h5\" fill=\"#ffce9e\" height=\"45\" stroke=\"none\" width=\"45\" x=\"315\" y=\"135\"/><rect class=\"square light a6\" fill=\"#ffce9e\" height=\"45\" stroke=\"none\" width=\"45\" x=\"0\" y=\"90\"/><rect class=\"square dark b6\" fill=\"#d18b47\" height=\"45\" stroke=\"none\" width=\"45\" x=\"45\" y=\"90\"/><rect class=\"square light c6\" fill=\"#ffce9e\" height=\"45\" stroke=\"none\" width=\"45\" x=\"90\" y=\"90\"/><rect class=\"square dark d6\" fill=\"#d18b47\" height=\"45\" stroke=\"none\" width=\"45\" x=\"135\" y=\"90\"/><rect class=\"square light e6\" fill=\"#ffce9e\" height=\"45\" stroke=\"none\" width=\"45\" x=\"180\" y=\"90\"/><rect class=\"square dark f6\" fill=\"#d18b47\" height=\"45\" stroke=\"none\" width=\"45\" x=\"225\" y=\"90\"/><rect class=\"square light g6\" fill=\"#ffce9e\" height=\"45\" stroke=\"none\" width=\"45\" x=\"270\" y=\"90\"/><rect class=\"square dark h6\" fill=\"#d18b47\" height=\"45\" stroke=\"none\" width=\"45\" x=\"315\" y=\"90\"/><use transform=\"translate(315, 90)\" xlink:href=\"#white-bishop\"/><rect class=\"square dark a7\" fill=\"#d18b47\" height=\"45\" stroke=\"none\" width=\"45\" x=\"0\" y=\"45\"/><rect class=\"square light b7\" fill=\"#ffce9e\" height=\"45\" stroke=\"none\" width=\"45\" x=\"45\" y=\"45\"/><rect class=\"square dark c7\" fill=\"#d18b47\" height=\"45\" stroke=\"none\" width=\"45\" x=\"90\" y=\"45\"/><rect class=\"square light d7\" fill=\"#ffce9e\" height=\"45\" stroke=\"none\" width=\"45\" x=\"135\" y=\"45\"/><rect class=\"square dark e7\" fill=\"#d18b47\" height=\"45\" stroke=\"none\" width=\"45\" x=\"180\" y=\"45\"/><rect class=\"square light f7\" fill=\"#ffce9e\" height=\"45\" stroke=\"none\" width=\"45\" x=\"225\" y=\"45\"/><rect class=\"square dark g7\" fill=\"#d18b47\" height=\"45\" stroke=\"none\" width=\"45\" x=\"270\" y=\"45\"/><rect class=\"square light h7\" fill=\"#ffce9e\" height=\"45\" stroke=\"none\" width=\"45\" x=\"315\" y=\"45\"/><rect class=\"square light a8\" fill=\"#ffce9e\" height=\"45\" stroke=\"none\" width=\"45\" x=\"0\" y=\"0\"/><rect class=\"square dark b8\" fill=\"#d18b47\" height=\"45\" stroke=\"none\" width=\"45\" x=\"45\" y=\"0\"/><rect class=\"square light c8\" fill=\"#ffce9e\" height=\"45\" stroke=\"none\" width=\"45\" x=\"90\" y=\"0\"/><rect class=\"square dark d8\" fill=\"#d18b47\" height=\"45\" stroke=\"none\" width=\"45\" x=\"135\" y=\"0\"/><rect class=\"square light e8\" fill=\"#ffce9e\" height=\"45\" stroke=\"none\" width=\"45\" x=\"180\" y=\"0\"/><use transform=\"translate(180, 0)\" xlink:href=\"#white-queen\"/><rect class=\"square dark f8\" fill=\"#d18b47\" height=\"45\" stroke=\"none\" width=\"45\" x=\"225\" y=\"0\"/><use transform=\"translate(225, 0)\" xlink:href=\"#white-queen\"/><rect class=\"square light g8\" fill=\"#ffce9e\" height=\"45\" stroke=\"none\" width=\"45\" x=\"270\" y=\"0\"/><use transform=\"translate(270, 0)\" xlink:href=\"#white-queen\"/><rect class=\"square dark h8\" fill=\"#d18b47\" height=\"45\" stroke=\"none\" width=\"45\" x=\"315\" y=\"0\"/><use transform=\"translate(315, 0)\" xlink:href=\"#white-queen\"/><circle class=\"circle\" cx=\"67.5\" cy=\"337.5\" fill=\"none\" opacity=\"0.5\" r=\"20.25\" stroke=\"red\" stroke-width=\"4.5\"/><circle class=\"circle\" cx=\"157.5\" cy=\"337.5\" fill=\"none\" opacity=\"0.5\" r=\"20.25\" stroke=\"red\" stroke-width=\"4.5\"/><circle class=\"circle\" cx=\"337.5\" cy=\"337.5\" fill=\"none\" opacity=\"0.5\" r=\"20.25\" stroke=\"red\" stroke-width=\"4.5\"/><circle class=\"circle\" cx=\"112.5\" cy=\"292.5\" fill=\"none\" opacity=\"0.5\" r=\"20.25\" stroke=\"red\" stroke-width=\"4.5\"/><circle class=\"circle\" cx=\"337.5\" cy=\"292.5\" fill=\"none\" opacity=\"0.5\" r=\"20.25\" stroke=\"red\" stroke-width=\"4.5\"/><circle class=\"circle\" cx=\"157.5\" cy=\"247.5\" fill=\"none\" opacity=\"0.5\" r=\"20.25\" stroke=\"red\" stroke-width=\"4.5\"/><circle class=\"circle\" cx=\"337.5\" cy=\"247.5\" fill=\"none\" opacity=\"0.5\" r=\"20.25\" stroke=\"red\" stroke-width=\"4.5\"/><circle class=\"circle\" cx=\"337.5\" cy=\"202.5\" fill=\"none\" opacity=\"0.5\" r=\"20.25\" stroke=\"red\" stroke-width=\"4.5\"/><circle class=\"circle\" cx=\"22.5\" cy=\"157.5\" fill=\"none\" opacity=\"0.5\" r=\"20.25\" stroke=\"red\" stroke-width=\"4.5\"/><circle class=\"circle\" cx=\"22.5\" cy=\"112.5\" fill=\"none\" opacity=\"0.5\" r=\"20.25\" stroke=\"red\" stroke-width=\"4.5\"/><circle class=\"circle\" cx=\"67.5\" cy=\"112.5\" fill=\"none\" opacity=\"0.5\" r=\"20.25\" stroke=\"red\" stroke-width=\"4.5\"/><circle class=\"circle\" cx=\"22.5\" cy=\"67.5\" fill=\"none\" opacity=\"0.5\" r=\"20.25\" stroke=\"red\" stroke-width=\"4.5\"/><circle class=\"circle\" cx=\"67.5\" cy=\"67.5\" fill=\"none\" opacity=\"0.5\" r=\"20.25\" stroke=\"red\" stroke-width=\"4.5\"/><circle class=\"circle\" cx=\"112.5\" cy=\"67.5\" fill=\"none\" opacity=\"0.5\" r=\"20.25\" stroke=\"red\" stroke-width=\"4.5\"/></svg>"
      ],
      "text/plain": [
       "<IPython.core.display.SVG object>"
      ]
     },
     "metadata": {},
     "output_type": "display_data"
    },
    {
     "name": "stdout",
     "output_type": "stream",
     "text": [
      "51\n"
     ]
    },
    {
     "data": {
      "image/svg+xml": [
       "<svg version=\"1.1\" viewBox=\"0 0 360 360\" xmlns=\"http://www.w3.org/2000/svg\" xmlns:xlink=\"http://www.w3.org/1999/xlink\"><style>\n",
       ".square.light {\n",
       "fill: #cacaca;\n",
       "}\n",
       ".square.dark {\n",
       "fill: #898989;\n",
       "}\n",
       "#xx {\n",
       "fill: blue;\n",
       "stroke: red;\n",
       "}\n",
       ".square.light.lastmove {\n",
       "fill: #c3d889;\n",
       "}\n",
       ".square.dark.lastmove {\n",
       "fill: #92b167;\n",
       "}\n",
       ".check {\n",
       "fill: url(#check_gradient);\n",
       "}\n",
       ".arrow {\n",
       "stroke: #ff5858;\n",
       "fill: blue;\n",
       "}\n",
       ".mark {\n",
       "stroke: #959fff;\n",
       "fill: blue;\n",
       "}\n",
       "</style><defs><g class=\"white bishop\" fill=\"none\" fill-rule=\"evenodd\" id=\"white-bishop\" stroke=\"#000\" stroke-linecap=\"round\" stroke-linejoin=\"round\" stroke-width=\"1.5\"><g fill=\"#fff\" stroke-linecap=\"butt\"><path d=\"M9 36c3.39-.97 10.11.43 13.5-2 3.39 2.43 10.11 1.03 13.5 2 0 0 1.65.54 3 2-.68.97-1.65.99-3 .5-3.39-.97-10.11.46-13.5-1-3.39 1.46-10.11.03-13.5 1-1.354.49-2.323.47-3-.5 1.354-1.94 3-2 3-2zM15 32c2.5 2.5 12.5 2.5 15 0 .5-1.5 0-2 0-2 0-2.5-2.5-4-2.5-4 5.5-1.5 6-11.5-5-15.5-11 4-10.5 14-5 15.5 0 0-2.5 1.5-2.5 4 0 0-.5.5 0 2zM25 8a2.5 2.5 0 1 1-5 0 2.5 2.5 0 1 1 5 0z\"/></g><path d=\"M17.5 26h10M15 30h15m-7.5-14.5v5M20 18h5\" stroke-linejoin=\"miter\"/></g><g class=\"white queen\" fill=\"#fff\" fill-rule=\"evenodd\" id=\"white-queen\" stroke=\"#000\" stroke-linecap=\"round\" stroke-linejoin=\"round\" stroke-width=\"1.5\"><path d=\"M8 12a2 2 0 1 1-4 0 2 2 0 1 1 4 0zM24.5 7.5a2 2 0 1 1-4 0 2 2 0 1 1 4 0zM41 12a2 2 0 1 1-4 0 2 2 0 1 1 4 0zM16 8.5a2 2 0 1 1-4 0 2 2 0 1 1 4 0zM33 9a2 2 0 1 1-4 0 2 2 0 1 1 4 0z\"/><path d=\"M9 26c8.5-1.5 21-1.5 27 0l2-12-7 11V11l-5.5 13.5-3-15-3 15-5.5-14V25L7 14l2 12zM9 26c0 2 1.5 2 2.5 4 1 1.5 1 1 .5 3.5-1.5 1-1.5 2.5-1.5 2.5-1.5 1.5.5 2.5.5 2.5 6.5 1 16.5 1 23 0 0 0 1.5-1 0-2.5 0 0 .5-1.5-1-2.5-.5-2.5-.5-2 .5-3.5 1-2 2.5-2 2.5-4-8.5-1.5-18.5-1.5-27 0z\" stroke-linecap=\"butt\"/><path d=\"M11.5 30c3.5-1 18.5-1 22 0M12 33.5c6-1 15-1 21 0\" fill=\"none\"/></g></defs><rect class=\"square dark a1\" fill=\"#d18b47\" height=\"45\" stroke=\"none\" width=\"45\" x=\"0\" y=\"315\"/><rect class=\"square light b1\" fill=\"#ffce9e\" height=\"45\" stroke=\"none\" width=\"45\" x=\"45\" y=\"315\"/><rect class=\"square dark c1\" fill=\"#d18b47\" height=\"45\" stroke=\"none\" width=\"45\" x=\"90\" y=\"315\"/><rect class=\"square light d1\" fill=\"#ffce9e\" height=\"45\" stroke=\"none\" width=\"45\" x=\"135\" y=\"315\"/><rect class=\"square dark e1\" fill=\"#d18b47\" height=\"45\" stroke=\"none\" width=\"45\" x=\"180\" y=\"315\"/><rect class=\"square light f1\" fill=\"#ffce9e\" height=\"45\" stroke=\"none\" width=\"45\" x=\"225\" y=\"315\"/><rect class=\"square dark g1\" fill=\"#d18b47\" height=\"45\" stroke=\"none\" width=\"45\" x=\"270\" y=\"315\"/><rect class=\"square light h1\" fill=\"#ffce9e\" height=\"45\" stroke=\"none\" width=\"45\" x=\"315\" y=\"315\"/><rect class=\"square light a2\" fill=\"#ffce9e\" height=\"45\" stroke=\"none\" width=\"45\" x=\"0\" y=\"270\"/><rect class=\"square dark b2\" fill=\"#d18b47\" height=\"45\" stroke=\"none\" width=\"45\" x=\"45\" y=\"270\"/><rect class=\"square light c2\" fill=\"#ffce9e\" height=\"45\" stroke=\"none\" width=\"45\" x=\"90\" y=\"270\"/><rect class=\"square dark d2\" fill=\"#d18b47\" height=\"45\" stroke=\"none\" width=\"45\" x=\"135\" y=\"270\"/><rect class=\"square light e2\" fill=\"#ffce9e\" height=\"45\" stroke=\"none\" width=\"45\" x=\"180\" y=\"270\"/><rect class=\"square dark f2\" fill=\"#d18b47\" height=\"45\" stroke=\"none\" width=\"45\" x=\"225\" y=\"270\"/><rect class=\"square light g2\" fill=\"#ffce9e\" height=\"45\" stroke=\"none\" width=\"45\" x=\"270\" y=\"270\"/><rect class=\"square dark h2\" fill=\"#d18b47\" height=\"45\" stroke=\"none\" width=\"45\" x=\"315\" y=\"270\"/><rect class=\"square dark a3\" fill=\"#d18b47\" height=\"45\" stroke=\"none\" width=\"45\" x=\"0\" y=\"225\"/><rect class=\"square light b3\" fill=\"#ffce9e\" height=\"45\" stroke=\"none\" width=\"45\" x=\"45\" y=\"225\"/><rect class=\"square dark c3\" fill=\"#d18b47\" height=\"45\" stroke=\"none\" width=\"45\" x=\"90\" y=\"225\"/><rect class=\"square light d3\" fill=\"#ffce9e\" height=\"45\" stroke=\"none\" width=\"45\" x=\"135\" y=\"225\"/><rect class=\"square dark e3\" fill=\"#d18b47\" height=\"45\" stroke=\"none\" width=\"45\" x=\"180\" y=\"225\"/><rect class=\"square light f3\" fill=\"#ffce9e\" height=\"45\" stroke=\"none\" width=\"45\" x=\"225\" y=\"225\"/><rect class=\"square dark g3\" fill=\"#d18b47\" height=\"45\" stroke=\"none\" width=\"45\" x=\"270\" y=\"225\"/><rect class=\"square light h3\" fill=\"#ffce9e\" height=\"45\" stroke=\"none\" width=\"45\" x=\"315\" y=\"225\"/><rect class=\"square light a4\" fill=\"#ffce9e\" height=\"45\" stroke=\"none\" width=\"45\" x=\"0\" y=\"180\"/><rect class=\"square dark b4\" fill=\"#d18b47\" height=\"45\" stroke=\"none\" width=\"45\" x=\"45\" y=\"180\"/><rect class=\"square light c4\" fill=\"#ffce9e\" height=\"45\" stroke=\"none\" width=\"45\" x=\"90\" y=\"180\"/><rect class=\"square dark d4\" fill=\"#d18b47\" height=\"45\" stroke=\"none\" width=\"45\" x=\"135\" y=\"180\"/><rect class=\"square light e4\" fill=\"#ffce9e\" height=\"45\" stroke=\"none\" width=\"45\" x=\"180\" y=\"180\"/><rect class=\"square dark f4\" fill=\"#d18b47\" height=\"45\" stroke=\"none\" width=\"45\" x=\"225\" y=\"180\"/><rect class=\"square light g4\" fill=\"#ffce9e\" height=\"45\" stroke=\"none\" width=\"45\" x=\"270\" y=\"180\"/><rect class=\"square dark h4\" fill=\"#d18b47\" height=\"45\" stroke=\"none\" width=\"45\" x=\"315\" y=\"180\"/><rect class=\"square dark a5\" fill=\"#d18b47\" height=\"45\" stroke=\"none\" width=\"45\" x=\"0\" y=\"135\"/><rect class=\"square light b5\" fill=\"#ffce9e\" height=\"45\" stroke=\"none\" width=\"45\" x=\"45\" y=\"135\"/><rect class=\"square dark c5\" fill=\"#d18b47\" height=\"45\" stroke=\"none\" width=\"45\" x=\"90\" y=\"135\"/><rect class=\"square light d5\" fill=\"#ffce9e\" height=\"45\" stroke=\"none\" width=\"45\" x=\"135\" y=\"135\"/><rect class=\"square dark e5\" fill=\"#d18b47\" height=\"45\" stroke=\"none\" width=\"45\" x=\"180\" y=\"135\"/><rect class=\"square light f5\" fill=\"#ffce9e\" height=\"45\" stroke=\"none\" width=\"45\" x=\"225\" y=\"135\"/><rect class=\"square dark g5\" fill=\"#d18b47\" height=\"45\" stroke=\"none\" width=\"45\" x=\"270\" y=\"135\"/><rect class=\"square light h5\" fill=\"#ffce9e\" height=\"45\" stroke=\"none\" width=\"45\" x=\"315\" y=\"135\"/><rect class=\"square light a6\" fill=\"#ffce9e\" height=\"45\" stroke=\"none\" width=\"45\" x=\"0\" y=\"90\"/><rect class=\"square dark b6\" fill=\"#d18b47\" height=\"45\" stroke=\"none\" width=\"45\" x=\"45\" y=\"90\"/><rect class=\"square light c6\" fill=\"#ffce9e\" height=\"45\" stroke=\"none\" width=\"45\" x=\"90\" y=\"90\"/><rect class=\"square dark d6\" fill=\"#d18b47\" height=\"45\" stroke=\"none\" width=\"45\" x=\"135\" y=\"90\"/><rect class=\"square light e6\" fill=\"#ffce9e\" height=\"45\" stroke=\"none\" width=\"45\" x=\"180\" y=\"90\"/><rect class=\"square dark f6\" fill=\"#d18b47\" height=\"45\" stroke=\"none\" width=\"45\" x=\"225\" y=\"90\"/><rect class=\"square light g6\" fill=\"#ffce9e\" height=\"45\" stroke=\"none\" width=\"45\" x=\"270\" y=\"90\"/><rect class=\"square dark h6\" fill=\"#d18b47\" height=\"45\" stroke=\"none\" width=\"45\" x=\"315\" y=\"90\"/><rect class=\"square dark a7\" fill=\"#d18b47\" height=\"45\" stroke=\"none\" width=\"45\" x=\"0\" y=\"45\"/><rect class=\"square light b7\" fill=\"#ffce9e\" height=\"45\" stroke=\"none\" width=\"45\" x=\"45\" y=\"45\"/><rect class=\"square dark c7\" fill=\"#d18b47\" height=\"45\" stroke=\"none\" width=\"45\" x=\"90\" y=\"45\"/><rect class=\"square light d7\" fill=\"#ffce9e\" height=\"45\" stroke=\"none\" width=\"45\" x=\"135\" y=\"45\"/><rect class=\"square dark e7\" fill=\"#d18b47\" height=\"45\" stroke=\"none\" width=\"45\" x=\"180\" y=\"45\"/><rect class=\"square light f7\" fill=\"#ffce9e\" height=\"45\" stroke=\"none\" width=\"45\" x=\"225\" y=\"45\"/><rect class=\"square dark g7\" fill=\"#d18b47\" height=\"45\" stroke=\"none\" width=\"45\" x=\"270\" y=\"45\"/><rect class=\"square light h7\" fill=\"#ffce9e\" height=\"45\" stroke=\"none\" width=\"45\" x=\"315\" y=\"45\"/><use transform=\"translate(315, 45)\" xlink:href=\"#white-bishop\"/><rect class=\"square light a8\" fill=\"#ffce9e\" height=\"45\" stroke=\"none\" width=\"45\" x=\"0\" y=\"0\"/><rect class=\"square dark b8\" fill=\"#d18b47\" height=\"45\" stroke=\"none\" width=\"45\" x=\"45\" y=\"0\"/><rect class=\"square light c8\" fill=\"#ffce9e\" height=\"45\" stroke=\"none\" width=\"45\" x=\"90\" y=\"0\"/><rect class=\"square dark d8\" fill=\"#d18b47\" height=\"45\" stroke=\"none\" width=\"45\" x=\"135\" y=\"0\"/><rect class=\"square light e8\" fill=\"#ffce9e\" height=\"45\" stroke=\"none\" width=\"45\" x=\"180\" y=\"0\"/><use transform=\"translate(180, 0)\" xlink:href=\"#white-queen\"/><rect class=\"square dark f8\" fill=\"#d18b47\" height=\"45\" stroke=\"none\" width=\"45\" x=\"225\" y=\"0\"/><use transform=\"translate(225, 0)\" xlink:href=\"#white-queen\"/><rect class=\"square light g8\" fill=\"#ffce9e\" height=\"45\" stroke=\"none\" width=\"45\" x=\"270\" y=\"0\"/><use transform=\"translate(270, 0)\" xlink:href=\"#white-queen\"/><rect class=\"square dark h8\" fill=\"#d18b47\" height=\"45\" stroke=\"none\" width=\"45\" x=\"315\" y=\"0\"/><use transform=\"translate(315, 0)\" xlink:href=\"#white-queen\"/><circle class=\"circle\" cx=\"112.5\" cy=\"337.5\" fill=\"none\" opacity=\"0.5\" r=\"20.25\" stroke=\"red\" stroke-width=\"4.5\"/><circle class=\"circle\" cx=\"157.5\" cy=\"337.5\" fill=\"none\" opacity=\"0.5\" r=\"20.25\" stroke=\"red\" stroke-width=\"4.5\"/><circle class=\"circle\" cx=\"337.5\" cy=\"337.5\" fill=\"none\" opacity=\"0.5\" r=\"20.25\" stroke=\"red\" stroke-width=\"4.5\"/><circle class=\"circle\" cx=\"157.5\" cy=\"292.5\" fill=\"none\" opacity=\"0.5\" r=\"20.25\" stroke=\"red\" stroke-width=\"4.5\"/><circle class=\"circle\" cx=\"337.5\" cy=\"292.5\" fill=\"none\" opacity=\"0.5\" r=\"20.25\" stroke=\"red\" stroke-width=\"4.5\"/><circle class=\"circle\" cx=\"337.5\" cy=\"247.5\" fill=\"none\" opacity=\"0.5\" r=\"20.25\" stroke=\"red\" stroke-width=\"4.5\"/><circle class=\"circle\" cx=\"337.5\" cy=\"202.5\" fill=\"none\" opacity=\"0.5\" r=\"20.25\" stroke=\"red\" stroke-width=\"4.5\"/><circle class=\"circle\" cx=\"22.5\" cy=\"157.5\" fill=\"none\" opacity=\"0.5\" r=\"20.25\" stroke=\"red\" stroke-width=\"4.5\"/><circle class=\"circle\" cx=\"22.5\" cy=\"112.5\" fill=\"none\" opacity=\"0.5\" r=\"20.25\" stroke=\"red\" stroke-width=\"4.5\"/><circle class=\"circle\" cx=\"67.5\" cy=\"112.5\" fill=\"none\" opacity=\"0.5\" r=\"20.25\" stroke=\"red\" stroke-width=\"4.5\"/><circle class=\"circle\" cx=\"22.5\" cy=\"67.5\" fill=\"none\" opacity=\"0.5\" r=\"20.25\" stroke=\"red\" stroke-width=\"4.5\"/><circle class=\"circle\" cx=\"67.5\" cy=\"67.5\" fill=\"none\" opacity=\"0.5\" r=\"20.25\" stroke=\"red\" stroke-width=\"4.5\"/><circle class=\"circle\" cx=\"112.5\" cy=\"67.5\" fill=\"none\" opacity=\"0.5\" r=\"20.25\" stroke=\"red\" stroke-width=\"4.5\"/></svg>"
      ],
      "text/plain": [
       "<IPython.core.display.SVG object>"
      ]
     },
     "metadata": {},
     "output_type": "display_data"
    },
    {
     "name": "stdout",
     "output_type": "stream",
     "text": [
      "52\n"
     ]
    },
    {
     "data": {
      "image/svg+xml": [
       "<svg version=\"1.1\" viewBox=\"0 0 360 360\" xmlns=\"http://www.w3.org/2000/svg\" xmlns:xlink=\"http://www.w3.org/1999/xlink\"><style>\n",
       ".square.light {\n",
       "fill: #cacaca;\n",
       "}\n",
       ".square.dark {\n",
       "fill: #898989;\n",
       "}\n",
       "#xx {\n",
       "fill: blue;\n",
       "stroke: red;\n",
       "}\n",
       ".square.light.lastmove {\n",
       "fill: #c3d889;\n",
       "}\n",
       ".square.dark.lastmove {\n",
       "fill: #92b167;\n",
       "}\n",
       ".check {\n",
       "fill: url(#check_gradient);\n",
       "}\n",
       ".arrow {\n",
       "stroke: #ff5858;\n",
       "fill: blue;\n",
       "}\n",
       ".mark {\n",
       "stroke: #959fff;\n",
       "fill: blue;\n",
       "}\n",
       "</style><defs><g class=\"white bishop\" fill=\"none\" fill-rule=\"evenodd\" id=\"white-bishop\" stroke=\"#000\" stroke-linecap=\"round\" stroke-linejoin=\"round\" stroke-width=\"1.5\"><g fill=\"#fff\" stroke-linecap=\"butt\"><path d=\"M9 36c3.39-.97 10.11.43 13.5-2 3.39 2.43 10.11 1.03 13.5 2 0 0 1.65.54 3 2-.68.97-1.65.99-3 .5-3.39-.97-10.11.46-13.5-1-3.39 1.46-10.11.03-13.5 1-1.354.49-2.323.47-3-.5 1.354-1.94 3-2 3-2zM15 32c2.5 2.5 12.5 2.5 15 0 .5-1.5 0-2 0-2 0-2.5-2.5-4-2.5-4 5.5-1.5 6-11.5-5-15.5-11 4-10.5 14-5 15.5 0 0-2.5 1.5-2.5 4 0 0-.5.5 0 2zM25 8a2.5 2.5 0 1 1-5 0 2.5 2.5 0 1 1 5 0z\"/></g><path d=\"M17.5 26h10M15 30h15m-7.5-14.5v5M20 18h5\" stroke-linejoin=\"miter\"/></g><g class=\"white queen\" fill=\"#fff\" fill-rule=\"evenodd\" id=\"white-queen\" stroke=\"#000\" stroke-linecap=\"round\" stroke-linejoin=\"round\" stroke-width=\"1.5\"><path d=\"M8 12a2 2 0 1 1-4 0 2 2 0 1 1 4 0zM24.5 7.5a2 2 0 1 1-4 0 2 2 0 1 1 4 0zM41 12a2 2 0 1 1-4 0 2 2 0 1 1 4 0zM16 8.5a2 2 0 1 1-4 0 2 2 0 1 1 4 0zM33 9a2 2 0 1 1-4 0 2 2 0 1 1 4 0z\"/><path d=\"M9 26c8.5-1.5 21-1.5 27 0l2-12-7 11V11l-5.5 13.5-3-15-3 15-5.5-14V25L7 14l2 12zM9 26c0 2 1.5 2 2.5 4 1 1.5 1 1 .5 3.5-1.5 1-1.5 2.5-1.5 2.5-1.5 1.5.5 2.5.5 2.5 6.5 1 16.5 1 23 0 0 0 1.5-1 0-2.5 0 0 .5-1.5-1-2.5-.5-2.5-.5-2 .5-3.5 1-2 2.5-2 2.5-4-8.5-1.5-18.5-1.5-27 0z\" stroke-linecap=\"butt\"/><path d=\"M11.5 30c3.5-1 18.5-1 22 0M12 33.5c6-1 15-1 21 0\" fill=\"none\"/></g></defs><rect class=\"square dark a1\" fill=\"#d18b47\" height=\"45\" stroke=\"none\" width=\"45\" x=\"0\" y=\"315\"/><rect class=\"square light b1\" fill=\"#ffce9e\" height=\"45\" stroke=\"none\" width=\"45\" x=\"45\" y=\"315\"/><rect class=\"square dark c1\" fill=\"#d18b47\" height=\"45\" stroke=\"none\" width=\"45\" x=\"90\" y=\"315\"/><rect class=\"square light d1\" fill=\"#ffce9e\" height=\"45\" stroke=\"none\" width=\"45\" x=\"135\" y=\"315\"/><rect class=\"square dark e1\" fill=\"#d18b47\" height=\"45\" stroke=\"none\" width=\"45\" x=\"180\" y=\"315\"/><rect class=\"square light f1\" fill=\"#ffce9e\" height=\"45\" stroke=\"none\" width=\"45\" x=\"225\" y=\"315\"/><rect class=\"square dark g1\" fill=\"#d18b47\" height=\"45\" stroke=\"none\" width=\"45\" x=\"270\" y=\"315\"/><rect class=\"square light h1\" fill=\"#ffce9e\" height=\"45\" stroke=\"none\" width=\"45\" x=\"315\" y=\"315\"/><rect class=\"square light a2\" fill=\"#ffce9e\" height=\"45\" stroke=\"none\" width=\"45\" x=\"0\" y=\"270\"/><rect class=\"square dark b2\" fill=\"#d18b47\" height=\"45\" stroke=\"none\" width=\"45\" x=\"45\" y=\"270\"/><rect class=\"square light c2\" fill=\"#ffce9e\" height=\"45\" stroke=\"none\" width=\"45\" x=\"90\" y=\"270\"/><rect class=\"square dark d2\" fill=\"#d18b47\" height=\"45\" stroke=\"none\" width=\"45\" x=\"135\" y=\"270\"/><rect class=\"square light e2\" fill=\"#ffce9e\" height=\"45\" stroke=\"none\" width=\"45\" x=\"180\" y=\"270\"/><rect class=\"square dark f2\" fill=\"#d18b47\" height=\"45\" stroke=\"none\" width=\"45\" x=\"225\" y=\"270\"/><rect class=\"square light g2\" fill=\"#ffce9e\" height=\"45\" stroke=\"none\" width=\"45\" x=\"270\" y=\"270\"/><rect class=\"square dark h2\" fill=\"#d18b47\" height=\"45\" stroke=\"none\" width=\"45\" x=\"315\" y=\"270\"/><rect class=\"square dark a3\" fill=\"#d18b47\" height=\"45\" stroke=\"none\" width=\"45\" x=\"0\" y=\"225\"/><rect class=\"square light b3\" fill=\"#ffce9e\" height=\"45\" stroke=\"none\" width=\"45\" x=\"45\" y=\"225\"/><rect class=\"square dark c3\" fill=\"#d18b47\" height=\"45\" stroke=\"none\" width=\"45\" x=\"90\" y=\"225\"/><rect class=\"square light d3\" fill=\"#ffce9e\" height=\"45\" stroke=\"none\" width=\"45\" x=\"135\" y=\"225\"/><rect class=\"square dark e3\" fill=\"#d18b47\" height=\"45\" stroke=\"none\" width=\"45\" x=\"180\" y=\"225\"/><rect class=\"square light f3\" fill=\"#ffce9e\" height=\"45\" stroke=\"none\" width=\"45\" x=\"225\" y=\"225\"/><rect class=\"square dark g3\" fill=\"#d18b47\" height=\"45\" stroke=\"none\" width=\"45\" x=\"270\" y=\"225\"/><rect class=\"square light h3\" fill=\"#ffce9e\" height=\"45\" stroke=\"none\" width=\"45\" x=\"315\" y=\"225\"/><rect class=\"square light a4\" fill=\"#ffce9e\" height=\"45\" stroke=\"none\" width=\"45\" x=\"0\" y=\"180\"/><rect class=\"square dark b4\" fill=\"#d18b47\" height=\"45\" stroke=\"none\" width=\"45\" x=\"45\" y=\"180\"/><rect class=\"square light c4\" fill=\"#ffce9e\" height=\"45\" stroke=\"none\" width=\"45\" x=\"90\" y=\"180\"/><rect class=\"square dark d4\" fill=\"#d18b47\" height=\"45\" stroke=\"none\" width=\"45\" x=\"135\" y=\"180\"/><rect class=\"square light e4\" fill=\"#ffce9e\" height=\"45\" stroke=\"none\" width=\"45\" x=\"180\" y=\"180\"/><rect class=\"square dark f4\" fill=\"#d18b47\" height=\"45\" stroke=\"none\" width=\"45\" x=\"225\" y=\"180\"/><rect class=\"square light g4\" fill=\"#ffce9e\" height=\"45\" stroke=\"none\" width=\"45\" x=\"270\" y=\"180\"/><rect class=\"square dark h4\" fill=\"#d18b47\" height=\"45\" stroke=\"none\" width=\"45\" x=\"315\" y=\"180\"/><rect class=\"square dark a5\" fill=\"#d18b47\" height=\"45\" stroke=\"none\" width=\"45\" x=\"0\" y=\"135\"/><rect class=\"square light b5\" fill=\"#ffce9e\" height=\"45\" stroke=\"none\" width=\"45\" x=\"45\" y=\"135\"/><rect class=\"square dark c5\" fill=\"#d18b47\" height=\"45\" stroke=\"none\" width=\"45\" x=\"90\" y=\"135\"/><rect class=\"square light d5\" fill=\"#ffce9e\" height=\"45\" stroke=\"none\" width=\"45\" x=\"135\" y=\"135\"/><rect class=\"square dark e5\" fill=\"#d18b47\" height=\"45\" stroke=\"none\" width=\"45\" x=\"180\" y=\"135\"/><rect class=\"square light f5\" fill=\"#ffce9e\" height=\"45\" stroke=\"none\" width=\"45\" x=\"225\" y=\"135\"/><rect class=\"square dark g5\" fill=\"#d18b47\" height=\"45\" stroke=\"none\" width=\"45\" x=\"270\" y=\"135\"/><rect class=\"square light h5\" fill=\"#ffce9e\" height=\"45\" stroke=\"none\" width=\"45\" x=\"315\" y=\"135\"/><rect class=\"square light a6\" fill=\"#ffce9e\" height=\"45\" stroke=\"none\" width=\"45\" x=\"0\" y=\"90\"/><rect class=\"square dark b6\" fill=\"#d18b47\" height=\"45\" stroke=\"none\" width=\"45\" x=\"45\" y=\"90\"/><rect class=\"square light c6\" fill=\"#ffce9e\" height=\"45\" stroke=\"none\" width=\"45\" x=\"90\" y=\"90\"/><rect class=\"square dark d6\" fill=\"#d18b47\" height=\"45\" stroke=\"none\" width=\"45\" x=\"135\" y=\"90\"/><rect class=\"square light e6\" fill=\"#ffce9e\" height=\"45\" stroke=\"none\" width=\"45\" x=\"180\" y=\"90\"/><rect class=\"square dark f6\" fill=\"#d18b47\" height=\"45\" stroke=\"none\" width=\"45\" x=\"225\" y=\"90\"/><rect class=\"square light g6\" fill=\"#ffce9e\" height=\"45\" stroke=\"none\" width=\"45\" x=\"270\" y=\"90\"/><rect class=\"square dark h6\" fill=\"#d18b47\" height=\"45\" stroke=\"none\" width=\"45\" x=\"315\" y=\"90\"/><rect class=\"square dark a7\" fill=\"#d18b47\" height=\"45\" stroke=\"none\" width=\"45\" x=\"0\" y=\"45\"/><rect class=\"square light b7\" fill=\"#ffce9e\" height=\"45\" stroke=\"none\" width=\"45\" x=\"45\" y=\"45\"/><rect class=\"square dark c7\" fill=\"#d18b47\" height=\"45\" stroke=\"none\" width=\"45\" x=\"90\" y=\"45\"/><rect class=\"square light d7\" fill=\"#ffce9e\" height=\"45\" stroke=\"none\" width=\"45\" x=\"135\" y=\"45\"/><rect class=\"square dark e7\" fill=\"#d18b47\" height=\"45\" stroke=\"none\" width=\"45\" x=\"180\" y=\"45\"/><rect class=\"square light f7\" fill=\"#ffce9e\" height=\"45\" stroke=\"none\" width=\"45\" x=\"225\" y=\"45\"/><rect class=\"square dark g7\" fill=\"#d18b47\" height=\"45\" stroke=\"none\" width=\"45\" x=\"270\" y=\"45\"/><rect class=\"square light h7\" fill=\"#ffce9e\" height=\"45\" stroke=\"none\" width=\"45\" x=\"315\" y=\"45\"/><rect class=\"square light a8\" fill=\"#ffce9e\" height=\"45\" stroke=\"none\" width=\"45\" x=\"0\" y=\"0\"/><rect class=\"square dark b8\" fill=\"#d18b47\" height=\"45\" stroke=\"none\" width=\"45\" x=\"45\" y=\"0\"/><rect class=\"square light c8\" fill=\"#ffce9e\" height=\"45\" stroke=\"none\" width=\"45\" x=\"90\" y=\"0\"/><rect class=\"square dark d8\" fill=\"#d18b47\" height=\"45\" stroke=\"none\" width=\"45\" x=\"135\" y=\"0\"/><use transform=\"translate(135, 0)\" xlink:href=\"#white-bishop\"/><rect class=\"square light e8\" fill=\"#ffce9e\" height=\"45\" stroke=\"none\" width=\"45\" x=\"180\" y=\"0\"/><use transform=\"translate(180, 0)\" xlink:href=\"#white-queen\"/><rect class=\"square dark f8\" fill=\"#d18b47\" height=\"45\" stroke=\"none\" width=\"45\" x=\"225\" y=\"0\"/><use transform=\"translate(225, 0)\" xlink:href=\"#white-queen\"/><rect class=\"square light g8\" fill=\"#ffce9e\" height=\"45\" stroke=\"none\" width=\"45\" x=\"270\" y=\"0\"/><use transform=\"translate(270, 0)\" xlink:href=\"#white-queen\"/><rect class=\"square dark h8\" fill=\"#d18b47\" height=\"45\" stroke=\"none\" width=\"45\" x=\"315\" y=\"0\"/><use transform=\"translate(315, 0)\" xlink:href=\"#white-queen\"/><circle class=\"circle\" cx=\"67.5\" cy=\"337.5\" fill=\"none\" opacity=\"0.5\" r=\"20.25\" stroke=\"red\" stroke-width=\"4.5\"/><circle class=\"circle\" cx=\"112.5\" cy=\"337.5\" fill=\"none\" opacity=\"0.5\" r=\"20.25\" stroke=\"red\" stroke-width=\"4.5\"/><circle class=\"circle\" cx=\"157.5\" cy=\"337.5\" fill=\"none\" opacity=\"0.5\" r=\"20.25\" stroke=\"red\" stroke-width=\"4.5\"/><circle class=\"circle\" cx=\"112.5\" cy=\"292.5\" fill=\"none\" opacity=\"0.5\" r=\"20.25\" stroke=\"red\" stroke-width=\"4.5\"/><circle class=\"circle\" cx=\"157.5\" cy=\"292.5\" fill=\"none\" opacity=\"0.5\" r=\"20.25\" stroke=\"red\" stroke-width=\"4.5\"/><circle class=\"circle\" cx=\"157.5\" cy=\"247.5\" fill=\"none\" opacity=\"0.5\" r=\"20.25\" stroke=\"red\" stroke-width=\"4.5\"/><circle class=\"circle\" cx=\"22.5\" cy=\"112.5\" fill=\"none\" opacity=\"0.5\" r=\"20.25\" stroke=\"red\" stroke-width=\"4.5\"/><circle class=\"circle\" cx=\"22.5\" cy=\"67.5\" fill=\"none\" opacity=\"0.5\" r=\"20.25\" stroke=\"red\" stroke-width=\"4.5\"/><circle class=\"circle\" cx=\"67.5\" cy=\"67.5\" fill=\"none\" opacity=\"0.5\" r=\"20.25\" stroke=\"red\" stroke-width=\"4.5\"/><circle class=\"circle\" cx=\"22.5\" cy=\"22.5\" fill=\"none\" opacity=\"0.5\" r=\"20.25\" stroke=\"red\" stroke-width=\"4.5\"/><circle class=\"circle\" cx=\"67.5\" cy=\"22.5\" fill=\"none\" opacity=\"0.5\" r=\"20.25\" stroke=\"red\" stroke-width=\"4.5\"/><circle class=\"circle\" cx=\"112.5\" cy=\"22.5\" fill=\"none\" opacity=\"0.5\" r=\"20.25\" stroke=\"red\" stroke-width=\"4.5\"/></svg>"
      ],
      "text/plain": [
       "<IPython.core.display.SVG object>"
      ]
     },
     "metadata": {},
     "output_type": "display_data"
    },
    {
     "name": "stdout",
     "output_type": "stream",
     "text": [
      "53\n"
     ]
    },
    {
     "data": {
      "image/svg+xml": [
       "<svg version=\"1.1\" viewBox=\"0 0 360 360\" xmlns=\"http://www.w3.org/2000/svg\" xmlns:xlink=\"http://www.w3.org/1999/xlink\"><style>\n",
       ".square.light {\n",
       "fill: #cacaca;\n",
       "}\n",
       ".square.dark {\n",
       "fill: #898989;\n",
       "}\n",
       "#xx {\n",
       "fill: blue;\n",
       "stroke: red;\n",
       "}\n",
       ".square.light.lastmove {\n",
       "fill: #c3d889;\n",
       "}\n",
       ".square.dark.lastmove {\n",
       "fill: #92b167;\n",
       "}\n",
       ".check {\n",
       "fill: url(#check_gradient);\n",
       "}\n",
       ".arrow {\n",
       "stroke: #ff5858;\n",
       "fill: blue;\n",
       "}\n",
       ".mark {\n",
       "stroke: #959fff;\n",
       "fill: blue;\n",
       "}\n",
       "</style><defs><g class=\"white bishop\" fill=\"none\" fill-rule=\"evenodd\" id=\"white-bishop\" stroke=\"#000\" stroke-linecap=\"round\" stroke-linejoin=\"round\" stroke-width=\"1.5\"><g fill=\"#fff\" stroke-linecap=\"butt\"><path d=\"M9 36c3.39-.97 10.11.43 13.5-2 3.39 2.43 10.11 1.03 13.5 2 0 0 1.65.54 3 2-.68.97-1.65.99-3 .5-3.39-.97-10.11.46-13.5-1-3.39 1.46-10.11.03-13.5 1-1.354.49-2.323.47-3-.5 1.354-1.94 3-2 3-2zM15 32c2.5 2.5 12.5 2.5 15 0 .5-1.5 0-2 0-2 0-2.5-2.5-4-2.5-4 5.5-1.5 6-11.5-5-15.5-11 4-10.5 14-5 15.5 0 0-2.5 1.5-2.5 4 0 0-.5.5 0 2zM25 8a2.5 2.5 0 1 1-5 0 2.5 2.5 0 1 1 5 0z\"/></g><path d=\"M17.5 26h10M15 30h15m-7.5-14.5v5M20 18h5\" stroke-linejoin=\"miter\"/></g><g class=\"white queen\" fill=\"#fff\" fill-rule=\"evenodd\" id=\"white-queen\" stroke=\"#000\" stroke-linecap=\"round\" stroke-linejoin=\"round\" stroke-width=\"1.5\"><path d=\"M8 12a2 2 0 1 1-4 0 2 2 0 1 1 4 0zM24.5 7.5a2 2 0 1 1-4 0 2 2 0 1 1 4 0zM41 12a2 2 0 1 1-4 0 2 2 0 1 1 4 0zM16 8.5a2 2 0 1 1-4 0 2 2 0 1 1 4 0zM33 9a2 2 0 1 1-4 0 2 2 0 1 1 4 0z\"/><path d=\"M9 26c8.5-1.5 21-1.5 27 0l2-12-7 11V11l-5.5 13.5-3-15-3 15-5.5-14V25L7 14l2 12zM9 26c0 2 1.5 2 2.5 4 1 1.5 1 1 .5 3.5-1.5 1-1.5 2.5-1.5 2.5-1.5 1.5.5 2.5.5 2.5 6.5 1 16.5 1 23 0 0 0 1.5-1 0-2.5 0 0 .5-1.5-1-2.5-.5-2.5-.5-2 .5-3.5 1-2 2.5-2 2.5-4-8.5-1.5-18.5-1.5-27 0z\" stroke-linecap=\"butt\"/><path d=\"M11.5 30c3.5-1 18.5-1 22 0M12 33.5c6-1 15-1 21 0\" fill=\"none\"/></g></defs><rect class=\"square dark a1\" fill=\"#d18b47\" height=\"45\" stroke=\"none\" width=\"45\" x=\"0\" y=\"315\"/><rect class=\"square light b1\" fill=\"#ffce9e\" height=\"45\" stroke=\"none\" width=\"45\" x=\"45\" y=\"315\"/><rect class=\"square dark c1\" fill=\"#d18b47\" height=\"45\" stroke=\"none\" width=\"45\" x=\"90\" y=\"315\"/><rect class=\"square light d1\" fill=\"#ffce9e\" height=\"45\" stroke=\"none\" width=\"45\" x=\"135\" y=\"315\"/><rect class=\"square dark e1\" fill=\"#d18b47\" height=\"45\" stroke=\"none\" width=\"45\" x=\"180\" y=\"315\"/><rect class=\"square light f1\" fill=\"#ffce9e\" height=\"45\" stroke=\"none\" width=\"45\" x=\"225\" y=\"315\"/><rect class=\"square dark g1\" fill=\"#d18b47\" height=\"45\" stroke=\"none\" width=\"45\" x=\"270\" y=\"315\"/><rect class=\"square light h1\" fill=\"#ffce9e\" height=\"45\" stroke=\"none\" width=\"45\" x=\"315\" y=\"315\"/><rect class=\"square light a2\" fill=\"#ffce9e\" height=\"45\" stroke=\"none\" width=\"45\" x=\"0\" y=\"270\"/><rect class=\"square dark b2\" fill=\"#d18b47\" height=\"45\" stroke=\"none\" width=\"45\" x=\"45\" y=\"270\"/><rect class=\"square light c2\" fill=\"#ffce9e\" height=\"45\" stroke=\"none\" width=\"45\" x=\"90\" y=\"270\"/><rect class=\"square dark d2\" fill=\"#d18b47\" height=\"45\" stroke=\"none\" width=\"45\" x=\"135\" y=\"270\"/><rect class=\"square light e2\" fill=\"#ffce9e\" height=\"45\" stroke=\"none\" width=\"45\" x=\"180\" y=\"270\"/><rect class=\"square dark f2\" fill=\"#d18b47\" height=\"45\" stroke=\"none\" width=\"45\" x=\"225\" y=\"270\"/><rect class=\"square light g2\" fill=\"#ffce9e\" height=\"45\" stroke=\"none\" width=\"45\" x=\"270\" y=\"270\"/><rect class=\"square dark h2\" fill=\"#d18b47\" height=\"45\" stroke=\"none\" width=\"45\" x=\"315\" y=\"270\"/><rect class=\"square dark a3\" fill=\"#d18b47\" height=\"45\" stroke=\"none\" width=\"45\" x=\"0\" y=\"225\"/><rect class=\"square light b3\" fill=\"#ffce9e\" height=\"45\" stroke=\"none\" width=\"45\" x=\"45\" y=\"225\"/><rect class=\"square dark c3\" fill=\"#d18b47\" height=\"45\" stroke=\"none\" width=\"45\" x=\"90\" y=\"225\"/><rect class=\"square light d3\" fill=\"#ffce9e\" height=\"45\" stroke=\"none\" width=\"45\" x=\"135\" y=\"225\"/><rect class=\"square dark e3\" fill=\"#d18b47\" height=\"45\" stroke=\"none\" width=\"45\" x=\"180\" y=\"225\"/><rect class=\"square light f3\" fill=\"#ffce9e\" height=\"45\" stroke=\"none\" width=\"45\" x=\"225\" y=\"225\"/><rect class=\"square dark g3\" fill=\"#d18b47\" height=\"45\" stroke=\"none\" width=\"45\" x=\"270\" y=\"225\"/><rect class=\"square light h3\" fill=\"#ffce9e\" height=\"45\" stroke=\"none\" width=\"45\" x=\"315\" y=\"225\"/><rect class=\"square light a4\" fill=\"#ffce9e\" height=\"45\" stroke=\"none\" width=\"45\" x=\"0\" y=\"180\"/><rect class=\"square dark b4\" fill=\"#d18b47\" height=\"45\" stroke=\"none\" width=\"45\" x=\"45\" y=\"180\"/><rect class=\"square light c4\" fill=\"#ffce9e\" height=\"45\" stroke=\"none\" width=\"45\" x=\"90\" y=\"180\"/><rect class=\"square dark d4\" fill=\"#d18b47\" height=\"45\" stroke=\"none\" width=\"45\" x=\"135\" y=\"180\"/><rect class=\"square light e4\" fill=\"#ffce9e\" height=\"45\" stroke=\"none\" width=\"45\" x=\"180\" y=\"180\"/><rect class=\"square dark f4\" fill=\"#d18b47\" height=\"45\" stroke=\"none\" width=\"45\" x=\"225\" y=\"180\"/><rect class=\"square light g4\" fill=\"#ffce9e\" height=\"45\" stroke=\"none\" width=\"45\" x=\"270\" y=\"180\"/><rect class=\"square dark h4\" fill=\"#d18b47\" height=\"45\" stroke=\"none\" width=\"45\" x=\"315\" y=\"180\"/><rect class=\"square dark a5\" fill=\"#d18b47\" height=\"45\" stroke=\"none\" width=\"45\" x=\"0\" y=\"135\"/><rect class=\"square light b5\" fill=\"#ffce9e\" height=\"45\" stroke=\"none\" width=\"45\" x=\"45\" y=\"135\"/><rect class=\"square dark c5\" fill=\"#d18b47\" height=\"45\" stroke=\"none\" width=\"45\" x=\"90\" y=\"135\"/><rect class=\"square light d5\" fill=\"#ffce9e\" height=\"45\" stroke=\"none\" width=\"45\" x=\"135\" y=\"135\"/><rect class=\"square dark e5\" fill=\"#d18b47\" height=\"45\" stroke=\"none\" width=\"45\" x=\"180\" y=\"135\"/><rect class=\"square light f5\" fill=\"#ffce9e\" height=\"45\" stroke=\"none\" width=\"45\" x=\"225\" y=\"135\"/><rect class=\"square dark g5\" fill=\"#d18b47\" height=\"45\" stroke=\"none\" width=\"45\" x=\"270\" y=\"135\"/><rect class=\"square light h5\" fill=\"#ffce9e\" height=\"45\" stroke=\"none\" width=\"45\" x=\"315\" y=\"135\"/><rect class=\"square light a6\" fill=\"#ffce9e\" height=\"45\" stroke=\"none\" width=\"45\" x=\"0\" y=\"90\"/><rect class=\"square dark b6\" fill=\"#d18b47\" height=\"45\" stroke=\"none\" width=\"45\" x=\"45\" y=\"90\"/><rect class=\"square light c6\" fill=\"#ffce9e\" height=\"45\" stroke=\"none\" width=\"45\" x=\"90\" y=\"90\"/><rect class=\"square dark d6\" fill=\"#d18b47\" height=\"45\" stroke=\"none\" width=\"45\" x=\"135\" y=\"90\"/><rect class=\"square light e6\" fill=\"#ffce9e\" height=\"45\" stroke=\"none\" width=\"45\" x=\"180\" y=\"90\"/><rect class=\"square dark f6\" fill=\"#d18b47\" height=\"45\" stroke=\"none\" width=\"45\" x=\"225\" y=\"90\"/><rect class=\"square light g6\" fill=\"#ffce9e\" height=\"45\" stroke=\"none\" width=\"45\" x=\"270\" y=\"90\"/><rect class=\"square dark h6\" fill=\"#d18b47\" height=\"45\" stroke=\"none\" width=\"45\" x=\"315\" y=\"90\"/><rect class=\"square dark a7\" fill=\"#d18b47\" height=\"45\" stroke=\"none\" width=\"45\" x=\"0\" y=\"45\"/><rect class=\"square light b7\" fill=\"#ffce9e\" height=\"45\" stroke=\"none\" width=\"45\" x=\"45\" y=\"45\"/><rect class=\"square dark c7\" fill=\"#d18b47\" height=\"45\" stroke=\"none\" width=\"45\" x=\"90\" y=\"45\"/><rect class=\"square light d7\" fill=\"#ffce9e\" height=\"45\" stroke=\"none\" width=\"45\" x=\"135\" y=\"45\"/><rect class=\"square dark e7\" fill=\"#d18b47\" height=\"45\" stroke=\"none\" width=\"45\" x=\"180\" y=\"45\"/><rect class=\"square light f7\" fill=\"#ffce9e\" height=\"45\" stroke=\"none\" width=\"45\" x=\"225\" y=\"45\"/><rect class=\"square dark g7\" fill=\"#d18b47\" height=\"45\" stroke=\"none\" width=\"45\" x=\"270\" y=\"45\"/><rect class=\"square light h7\" fill=\"#ffce9e\" height=\"45\" stroke=\"none\" width=\"45\" x=\"315\" y=\"45\"/><rect class=\"square light a8\" fill=\"#ffce9e\" height=\"45\" stroke=\"none\" width=\"45\" x=\"0\" y=\"0\"/><rect class=\"square dark b8\" fill=\"#d18b47\" height=\"45\" stroke=\"none\" width=\"45\" x=\"45\" y=\"0\"/><use transform=\"translate(45, 0)\" xlink:href=\"#white-bishop\"/><rect class=\"square light c8\" fill=\"#ffce9e\" height=\"45\" stroke=\"none\" width=\"45\" x=\"90\" y=\"0\"/><rect class=\"square dark d8\" fill=\"#d18b47\" height=\"45\" stroke=\"none\" width=\"45\" x=\"135\" y=\"0\"/><rect class=\"square light e8\" fill=\"#ffce9e\" height=\"45\" stroke=\"none\" width=\"45\" x=\"180\" y=\"0\"/><use transform=\"translate(180, 0)\" xlink:href=\"#white-queen\"/><rect class=\"square dark f8\" fill=\"#d18b47\" height=\"45\" stroke=\"none\" width=\"45\" x=\"225\" y=\"0\"/><use transform=\"translate(225, 0)\" xlink:href=\"#white-queen\"/><rect class=\"square light g8\" fill=\"#ffce9e\" height=\"45\" stroke=\"none\" width=\"45\" x=\"270\" y=\"0\"/><use transform=\"translate(270, 0)\" xlink:href=\"#white-queen\"/><rect class=\"square dark h8\" fill=\"#d18b47\" height=\"45\" stroke=\"none\" width=\"45\" x=\"315\" y=\"0\"/><use transform=\"translate(315, 0)\" xlink:href=\"#white-queen\"/><circle class=\"circle\" cx=\"67.5\" cy=\"337.5\" fill=\"none\" opacity=\"0.5\" r=\"20.25\" stroke=\"red\" stroke-width=\"4.5\"/><circle class=\"circle\" cx=\"112.5\" cy=\"337.5\" fill=\"none\" opacity=\"0.5\" r=\"20.25\" stroke=\"red\" stroke-width=\"4.5\"/><circle class=\"circle\" cx=\"157.5\" cy=\"337.5\" fill=\"none\" opacity=\"0.5\" r=\"20.25\" stroke=\"red\" stroke-width=\"4.5\"/><circle class=\"circle\" cx=\"112.5\" cy=\"292.5\" fill=\"none\" opacity=\"0.5\" r=\"20.25\" stroke=\"red\" stroke-width=\"4.5\"/><circle class=\"circle\" cx=\"157.5\" cy=\"292.5\" fill=\"none\" opacity=\"0.5\" r=\"20.25\" stroke=\"red\" stroke-width=\"4.5\"/><circle class=\"circle\" cx=\"157.5\" cy=\"247.5\" fill=\"none\" opacity=\"0.5\" r=\"20.25\" stroke=\"red\" stroke-width=\"4.5\"/><circle class=\"circle\" cx=\"22.5\" cy=\"157.5\" fill=\"none\" opacity=\"0.5\" r=\"20.25\" stroke=\"red\" stroke-width=\"4.5\"/><circle class=\"circle\" cx=\"22.5\" cy=\"112.5\" fill=\"none\" opacity=\"0.5\" r=\"20.25\" stroke=\"red\" stroke-width=\"4.5\"/><circle class=\"circle\" cx=\"67.5\" cy=\"112.5\" fill=\"none\" opacity=\"0.5\" r=\"20.25\" stroke=\"red\" stroke-width=\"4.5\"/><circle class=\"circle\" cx=\"67.5\" cy=\"67.5\" fill=\"none\" opacity=\"0.5\" r=\"20.25\" stroke=\"red\" stroke-width=\"4.5\"/><circle class=\"circle\" cx=\"22.5\" cy=\"22.5\" fill=\"none\" opacity=\"0.5\" r=\"20.25\" stroke=\"red\" stroke-width=\"4.5\"/></svg>"
      ],
      "text/plain": [
       "<IPython.core.display.SVG object>"
      ]
     },
     "metadata": {},
     "output_type": "display_data"
    },
    {
     "name": "stdout",
     "output_type": "stream",
     "text": [
      "54\n"
     ]
    },
    {
     "data": {
      "image/svg+xml": [
       "<svg version=\"1.1\" viewBox=\"0 0 360 360\" xmlns=\"http://www.w3.org/2000/svg\" xmlns:xlink=\"http://www.w3.org/1999/xlink\"><style>\n",
       ".square.light {\n",
       "fill: #cacaca;\n",
       "}\n",
       ".square.dark {\n",
       "fill: #898989;\n",
       "}\n",
       "#xx {\n",
       "fill: blue;\n",
       "stroke: red;\n",
       "}\n",
       ".square.light.lastmove {\n",
       "fill: #c3d889;\n",
       "}\n",
       ".square.dark.lastmove {\n",
       "fill: #92b167;\n",
       "}\n",
       ".check {\n",
       "fill: url(#check_gradient);\n",
       "}\n",
       ".arrow {\n",
       "stroke: #ff5858;\n",
       "fill: blue;\n",
       "}\n",
       ".mark {\n",
       "stroke: #959fff;\n",
       "fill: blue;\n",
       "}\n",
       "</style><defs><g class=\"white bishop\" fill=\"none\" fill-rule=\"evenodd\" id=\"white-bishop\" stroke=\"#000\" stroke-linecap=\"round\" stroke-linejoin=\"round\" stroke-width=\"1.5\"><g fill=\"#fff\" stroke-linecap=\"butt\"><path d=\"M9 36c3.39-.97 10.11.43 13.5-2 3.39 2.43 10.11 1.03 13.5 2 0 0 1.65.54 3 2-.68.97-1.65.99-3 .5-3.39-.97-10.11.46-13.5-1-3.39 1.46-10.11.03-13.5 1-1.354.49-2.323.47-3-.5 1.354-1.94 3-2 3-2zM15 32c2.5 2.5 12.5 2.5 15 0 .5-1.5 0-2 0-2 0-2.5-2.5-4-2.5-4 5.5-1.5 6-11.5-5-15.5-11 4-10.5 14-5 15.5 0 0-2.5 1.5-2.5 4 0 0-.5.5 0 2zM25 8a2.5 2.5 0 1 1-5 0 2.5 2.5 0 1 1 5 0z\"/></g><path d=\"M17.5 26h10M15 30h15m-7.5-14.5v5M20 18h5\" stroke-linejoin=\"miter\"/></g><g class=\"white queen\" fill=\"#fff\" fill-rule=\"evenodd\" id=\"white-queen\" stroke=\"#000\" stroke-linecap=\"round\" stroke-linejoin=\"round\" stroke-width=\"1.5\"><path d=\"M8 12a2 2 0 1 1-4 0 2 2 0 1 1 4 0zM24.5 7.5a2 2 0 1 1-4 0 2 2 0 1 1 4 0zM41 12a2 2 0 1 1-4 0 2 2 0 1 1 4 0zM16 8.5a2 2 0 1 1-4 0 2 2 0 1 1 4 0zM33 9a2 2 0 1 1-4 0 2 2 0 1 1 4 0z\"/><path d=\"M9 26c8.5-1.5 21-1.5 27 0l2-12-7 11V11l-5.5 13.5-3-15-3 15-5.5-14V25L7 14l2 12zM9 26c0 2 1.5 2 2.5 4 1 1.5 1 1 .5 3.5-1.5 1-1.5 2.5-1.5 2.5-1.5 1.5.5 2.5.5 2.5 6.5 1 16.5 1 23 0 0 0 1.5-1 0-2.5 0 0 .5-1.5-1-2.5-.5-2.5-.5-2 .5-3.5 1-2 2.5-2 2.5-4-8.5-1.5-18.5-1.5-27 0z\" stroke-linecap=\"butt\"/><path d=\"M11.5 30c3.5-1 18.5-1 22 0M12 33.5c6-1 15-1 21 0\" fill=\"none\"/></g></defs><rect class=\"square dark a1\" fill=\"#d18b47\" height=\"45\" stroke=\"none\" width=\"45\" x=\"0\" y=\"315\"/><rect class=\"square light b1\" fill=\"#ffce9e\" height=\"45\" stroke=\"none\" width=\"45\" x=\"45\" y=\"315\"/><rect class=\"square dark c1\" fill=\"#d18b47\" height=\"45\" stroke=\"none\" width=\"45\" x=\"90\" y=\"315\"/><rect class=\"square light d1\" fill=\"#ffce9e\" height=\"45\" stroke=\"none\" width=\"45\" x=\"135\" y=\"315\"/><rect class=\"square dark e1\" fill=\"#d18b47\" height=\"45\" stroke=\"none\" width=\"45\" x=\"180\" y=\"315\"/><rect class=\"square light f1\" fill=\"#ffce9e\" height=\"45\" stroke=\"none\" width=\"45\" x=\"225\" y=\"315\"/><rect class=\"square dark g1\" fill=\"#d18b47\" height=\"45\" stroke=\"none\" width=\"45\" x=\"270\" y=\"315\"/><rect class=\"square light h1\" fill=\"#ffce9e\" height=\"45\" stroke=\"none\" width=\"45\" x=\"315\" y=\"315\"/><rect class=\"square light a2\" fill=\"#ffce9e\" height=\"45\" stroke=\"none\" width=\"45\" x=\"0\" y=\"270\"/><rect class=\"square dark b2\" fill=\"#d18b47\" height=\"45\" stroke=\"none\" width=\"45\" x=\"45\" y=\"270\"/><rect class=\"square light c2\" fill=\"#ffce9e\" height=\"45\" stroke=\"none\" width=\"45\" x=\"90\" y=\"270\"/><rect class=\"square dark d2\" fill=\"#d18b47\" height=\"45\" stroke=\"none\" width=\"45\" x=\"135\" y=\"270\"/><rect class=\"square light e2\" fill=\"#ffce9e\" height=\"45\" stroke=\"none\" width=\"45\" x=\"180\" y=\"270\"/><rect class=\"square dark f2\" fill=\"#d18b47\" height=\"45\" stroke=\"none\" width=\"45\" x=\"225\" y=\"270\"/><rect class=\"square light g2\" fill=\"#ffce9e\" height=\"45\" stroke=\"none\" width=\"45\" x=\"270\" y=\"270\"/><rect class=\"square dark h2\" fill=\"#d18b47\" height=\"45\" stroke=\"none\" width=\"45\" x=\"315\" y=\"270\"/><rect class=\"square dark a3\" fill=\"#d18b47\" height=\"45\" stroke=\"none\" width=\"45\" x=\"0\" y=\"225\"/><rect class=\"square light b3\" fill=\"#ffce9e\" height=\"45\" stroke=\"none\" width=\"45\" x=\"45\" y=\"225\"/><rect class=\"square dark c3\" fill=\"#d18b47\" height=\"45\" stroke=\"none\" width=\"45\" x=\"90\" y=\"225\"/><rect class=\"square light d3\" fill=\"#ffce9e\" height=\"45\" stroke=\"none\" width=\"45\" x=\"135\" y=\"225\"/><rect class=\"square dark e3\" fill=\"#d18b47\" height=\"45\" stroke=\"none\" width=\"45\" x=\"180\" y=\"225\"/><rect class=\"square light f3\" fill=\"#ffce9e\" height=\"45\" stroke=\"none\" width=\"45\" x=\"225\" y=\"225\"/><rect class=\"square dark g3\" fill=\"#d18b47\" height=\"45\" stroke=\"none\" width=\"45\" x=\"270\" y=\"225\"/><rect class=\"square light h3\" fill=\"#ffce9e\" height=\"45\" stroke=\"none\" width=\"45\" x=\"315\" y=\"225\"/><rect class=\"square light a4\" fill=\"#ffce9e\" height=\"45\" stroke=\"none\" width=\"45\" x=\"0\" y=\"180\"/><rect class=\"square dark b4\" fill=\"#d18b47\" height=\"45\" stroke=\"none\" width=\"45\" x=\"45\" y=\"180\"/><rect class=\"square light c4\" fill=\"#ffce9e\" height=\"45\" stroke=\"none\" width=\"45\" x=\"90\" y=\"180\"/><rect class=\"square dark d4\" fill=\"#d18b47\" height=\"45\" stroke=\"none\" width=\"45\" x=\"135\" y=\"180\"/><rect class=\"square light e4\" fill=\"#ffce9e\" height=\"45\" stroke=\"none\" width=\"45\" x=\"180\" y=\"180\"/><rect class=\"square dark f4\" fill=\"#d18b47\" height=\"45\" stroke=\"none\" width=\"45\" x=\"225\" y=\"180\"/><rect class=\"square light g4\" fill=\"#ffce9e\" height=\"45\" stroke=\"none\" width=\"45\" x=\"270\" y=\"180\"/><rect class=\"square dark h4\" fill=\"#d18b47\" height=\"45\" stroke=\"none\" width=\"45\" x=\"315\" y=\"180\"/><rect class=\"square dark a5\" fill=\"#d18b47\" height=\"45\" stroke=\"none\" width=\"45\" x=\"0\" y=\"135\"/><rect class=\"square light b5\" fill=\"#ffce9e\" height=\"45\" stroke=\"none\" width=\"45\" x=\"45\" y=\"135\"/><rect class=\"square dark c5\" fill=\"#d18b47\" height=\"45\" stroke=\"none\" width=\"45\" x=\"90\" y=\"135\"/><rect class=\"square light d5\" fill=\"#ffce9e\" height=\"45\" stroke=\"none\" width=\"45\" x=\"135\" y=\"135\"/><rect class=\"square dark e5\" fill=\"#d18b47\" height=\"45\" stroke=\"none\" width=\"45\" x=\"180\" y=\"135\"/><rect class=\"square light f5\" fill=\"#ffce9e\" height=\"45\" stroke=\"none\" width=\"45\" x=\"225\" y=\"135\"/><rect class=\"square dark g5\" fill=\"#d18b47\" height=\"45\" stroke=\"none\" width=\"45\" x=\"270\" y=\"135\"/><rect class=\"square light h5\" fill=\"#ffce9e\" height=\"45\" stroke=\"none\" width=\"45\" x=\"315\" y=\"135\"/><rect class=\"square light a6\" fill=\"#ffce9e\" height=\"45\" stroke=\"none\" width=\"45\" x=\"0\" y=\"90\"/><rect class=\"square dark b6\" fill=\"#d18b47\" height=\"45\" stroke=\"none\" width=\"45\" x=\"45\" y=\"90\"/><rect class=\"square light c6\" fill=\"#ffce9e\" height=\"45\" stroke=\"none\" width=\"45\" x=\"90\" y=\"90\"/><rect class=\"square dark d6\" fill=\"#d18b47\" height=\"45\" stroke=\"none\" width=\"45\" x=\"135\" y=\"90\"/><rect class=\"square light e6\" fill=\"#ffce9e\" height=\"45\" stroke=\"none\" width=\"45\" x=\"180\" y=\"90\"/><rect class=\"square dark f6\" fill=\"#d18b47\" height=\"45\" stroke=\"none\" width=\"45\" x=\"225\" y=\"90\"/><rect class=\"square light g6\" fill=\"#ffce9e\" height=\"45\" stroke=\"none\" width=\"45\" x=\"270\" y=\"90\"/><rect class=\"square dark h6\" fill=\"#d18b47\" height=\"45\" stroke=\"none\" width=\"45\" x=\"315\" y=\"90\"/><rect class=\"square dark a7\" fill=\"#d18b47\" height=\"45\" stroke=\"none\" width=\"45\" x=\"0\" y=\"45\"/><rect class=\"square light b7\" fill=\"#ffce9e\" height=\"45\" stroke=\"none\" width=\"45\" x=\"45\" y=\"45\"/><use transform=\"translate(45, 45)\" xlink:href=\"#white-bishop\"/><rect class=\"square dark c7\" fill=\"#d18b47\" height=\"45\" stroke=\"none\" width=\"45\" x=\"90\" y=\"45\"/><rect class=\"square light d7\" fill=\"#ffce9e\" height=\"45\" stroke=\"none\" width=\"45\" x=\"135\" y=\"45\"/><rect class=\"square dark e7\" fill=\"#d18b47\" height=\"45\" stroke=\"none\" width=\"45\" x=\"180\" y=\"45\"/><rect class=\"square light f7\" fill=\"#ffce9e\" height=\"45\" stroke=\"none\" width=\"45\" x=\"225\" y=\"45\"/><rect class=\"square dark g7\" fill=\"#d18b47\" height=\"45\" stroke=\"none\" width=\"45\" x=\"270\" y=\"45\"/><rect class=\"square light h7\" fill=\"#ffce9e\" height=\"45\" stroke=\"none\" width=\"45\" x=\"315\" y=\"45\"/><rect class=\"square light a8\" fill=\"#ffce9e\" height=\"45\" stroke=\"none\" width=\"45\" x=\"0\" y=\"0\"/><rect class=\"square dark b8\" fill=\"#d18b47\" height=\"45\" stroke=\"none\" width=\"45\" x=\"45\" y=\"0\"/><rect class=\"square light c8\" fill=\"#ffce9e\" height=\"45\" stroke=\"none\" width=\"45\" x=\"90\" y=\"0\"/><rect class=\"square dark d8\" fill=\"#d18b47\" height=\"45\" stroke=\"none\" width=\"45\" x=\"135\" y=\"0\"/><rect class=\"square light e8\" fill=\"#ffce9e\" height=\"45\" stroke=\"none\" width=\"45\" x=\"180\" y=\"0\"/><use transform=\"translate(180, 0)\" xlink:href=\"#white-queen\"/><rect class=\"square dark f8\" fill=\"#d18b47\" height=\"45\" stroke=\"none\" width=\"45\" x=\"225\" y=\"0\"/><use transform=\"translate(225, 0)\" xlink:href=\"#white-queen\"/><rect class=\"square light g8\" fill=\"#ffce9e\" height=\"45\" stroke=\"none\" width=\"45\" x=\"270\" y=\"0\"/><use transform=\"translate(270, 0)\" xlink:href=\"#white-queen\"/><rect class=\"square dark h8\" fill=\"#d18b47\" height=\"45\" stroke=\"none\" width=\"45\" x=\"315\" y=\"0\"/><use transform=\"translate(315, 0)\" xlink:href=\"#white-queen\"/><circle class=\"circle\" cx=\"67.5\" cy=\"337.5\" fill=\"none\" opacity=\"0.5\" r=\"20.25\" stroke=\"red\" stroke-width=\"4.5\"/><circle class=\"circle\" cx=\"112.5\" cy=\"337.5\" fill=\"none\" opacity=\"0.5\" r=\"20.25\" stroke=\"red\" stroke-width=\"4.5\"/><circle class=\"circle\" cx=\"157.5\" cy=\"337.5\" fill=\"none\" opacity=\"0.5\" r=\"20.25\" stroke=\"red\" stroke-width=\"4.5\"/><circle class=\"circle\" cx=\"112.5\" cy=\"292.5\" fill=\"none\" opacity=\"0.5\" r=\"20.25\" stroke=\"red\" stroke-width=\"4.5\"/><circle class=\"circle\" cx=\"157.5\" cy=\"292.5\" fill=\"none\" opacity=\"0.5\" r=\"20.25\" stroke=\"red\" stroke-width=\"4.5\"/><circle class=\"circle\" cx=\"157.5\" cy=\"247.5\" fill=\"none\" opacity=\"0.5\" r=\"20.25\" stroke=\"red\" stroke-width=\"4.5\"/><circle class=\"circle\" cx=\"22.5\" cy=\"157.5\" fill=\"none\" opacity=\"0.5\" r=\"20.25\" stroke=\"red\" stroke-width=\"4.5\"/><circle class=\"circle\" cx=\"67.5\" cy=\"112.5\" fill=\"none\" opacity=\"0.5\" r=\"20.25\" stroke=\"red\" stroke-width=\"4.5\"/><circle class=\"circle\" cx=\"22.5\" cy=\"67.5\" fill=\"none\" opacity=\"0.5\" r=\"20.25\" stroke=\"red\" stroke-width=\"4.5\"/><circle class=\"circle\" cx=\"112.5\" cy=\"67.5\" fill=\"none\" opacity=\"0.5\" r=\"20.25\" stroke=\"red\" stroke-width=\"4.5\"/></svg>"
      ],
      "text/plain": [
       "<IPython.core.display.SVG object>"
      ]
     },
     "metadata": {},
     "output_type": "display_data"
    },
    {
     "name": "stdout",
     "output_type": "stream",
     "text": [
      "55\n"
     ]
    },
    {
     "data": {
      "image/svg+xml": [
       "<svg version=\"1.1\" viewBox=\"0 0 360 360\" xmlns=\"http://www.w3.org/2000/svg\" xmlns:xlink=\"http://www.w3.org/1999/xlink\"><style>\n",
       ".square.light {\n",
       "fill: #cacaca;\n",
       "}\n",
       ".square.dark {\n",
       "fill: #898989;\n",
       "}\n",
       "#xx {\n",
       "fill: blue;\n",
       "stroke: red;\n",
       "}\n",
       ".square.light.lastmove {\n",
       "fill: #c3d889;\n",
       "}\n",
       ".square.dark.lastmove {\n",
       "fill: #92b167;\n",
       "}\n",
       ".check {\n",
       "fill: url(#check_gradient);\n",
       "}\n",
       ".arrow {\n",
       "stroke: #ff5858;\n",
       "fill: blue;\n",
       "}\n",
       ".mark {\n",
       "stroke: #959fff;\n",
       "fill: blue;\n",
       "}\n",
       "</style><defs><g class=\"white bishop\" fill=\"none\" fill-rule=\"evenodd\" id=\"white-bishop\" stroke=\"#000\" stroke-linecap=\"round\" stroke-linejoin=\"round\" stroke-width=\"1.5\"><g fill=\"#fff\" stroke-linecap=\"butt\"><path d=\"M9 36c3.39-.97 10.11.43 13.5-2 3.39 2.43 10.11 1.03 13.5 2 0 0 1.65.54 3 2-.68.97-1.65.99-3 .5-3.39-.97-10.11.46-13.5-1-3.39 1.46-10.11.03-13.5 1-1.354.49-2.323.47-3-.5 1.354-1.94 3-2 3-2zM15 32c2.5 2.5 12.5 2.5 15 0 .5-1.5 0-2 0-2 0-2.5-2.5-4-2.5-4 5.5-1.5 6-11.5-5-15.5-11 4-10.5 14-5 15.5 0 0-2.5 1.5-2.5 4 0 0-.5.5 0 2zM25 8a2.5 2.5 0 1 1-5 0 2.5 2.5 0 1 1 5 0z\"/></g><path d=\"M17.5 26h10M15 30h15m-7.5-14.5v5M20 18h5\" stroke-linejoin=\"miter\"/></g><g class=\"white queen\" fill=\"#fff\" fill-rule=\"evenodd\" id=\"white-queen\" stroke=\"#000\" stroke-linecap=\"round\" stroke-linejoin=\"round\" stroke-width=\"1.5\"><path d=\"M8 12a2 2 0 1 1-4 0 2 2 0 1 1 4 0zM24.5 7.5a2 2 0 1 1-4 0 2 2 0 1 1 4 0zM41 12a2 2 0 1 1-4 0 2 2 0 1 1 4 0zM16 8.5a2 2 0 1 1-4 0 2 2 0 1 1 4 0zM33 9a2 2 0 1 1-4 0 2 2 0 1 1 4 0z\"/><path d=\"M9 26c8.5-1.5 21-1.5 27 0l2-12-7 11V11l-5.5 13.5-3-15-3 15-5.5-14V25L7 14l2 12zM9 26c0 2 1.5 2 2.5 4 1 1.5 1 1 .5 3.5-1.5 1-1.5 2.5-1.5 2.5-1.5 1.5.5 2.5.5 2.5 6.5 1 16.5 1 23 0 0 0 1.5-1 0-2.5 0 0 .5-1.5-1-2.5-.5-2.5-.5-2 .5-3.5 1-2 2.5-2 2.5-4-8.5-1.5-18.5-1.5-27 0z\" stroke-linecap=\"butt\"/><path d=\"M11.5 30c3.5-1 18.5-1 22 0M12 33.5c6-1 15-1 21 0\" fill=\"none\"/></g></defs><rect class=\"square dark a1\" fill=\"#d18b47\" height=\"45\" stroke=\"none\" width=\"45\" x=\"0\" y=\"315\"/><rect class=\"square light b1\" fill=\"#ffce9e\" height=\"45\" stroke=\"none\" width=\"45\" x=\"45\" y=\"315\"/><rect class=\"square dark c1\" fill=\"#d18b47\" height=\"45\" stroke=\"none\" width=\"45\" x=\"90\" y=\"315\"/><rect class=\"square light d1\" fill=\"#ffce9e\" height=\"45\" stroke=\"none\" width=\"45\" x=\"135\" y=\"315\"/><rect class=\"square dark e1\" fill=\"#d18b47\" height=\"45\" stroke=\"none\" width=\"45\" x=\"180\" y=\"315\"/><rect class=\"square light f1\" fill=\"#ffce9e\" height=\"45\" stroke=\"none\" width=\"45\" x=\"225\" y=\"315\"/><rect class=\"square dark g1\" fill=\"#d18b47\" height=\"45\" stroke=\"none\" width=\"45\" x=\"270\" y=\"315\"/><rect class=\"square light h1\" fill=\"#ffce9e\" height=\"45\" stroke=\"none\" width=\"45\" x=\"315\" y=\"315\"/><rect class=\"square light a2\" fill=\"#ffce9e\" height=\"45\" stroke=\"none\" width=\"45\" x=\"0\" y=\"270\"/><rect class=\"square dark b2\" fill=\"#d18b47\" height=\"45\" stroke=\"none\" width=\"45\" x=\"45\" y=\"270\"/><rect class=\"square light c2\" fill=\"#ffce9e\" height=\"45\" stroke=\"none\" width=\"45\" x=\"90\" y=\"270\"/><rect class=\"square dark d2\" fill=\"#d18b47\" height=\"45\" stroke=\"none\" width=\"45\" x=\"135\" y=\"270\"/><rect class=\"square light e2\" fill=\"#ffce9e\" height=\"45\" stroke=\"none\" width=\"45\" x=\"180\" y=\"270\"/><rect class=\"square dark f2\" fill=\"#d18b47\" height=\"45\" stroke=\"none\" width=\"45\" x=\"225\" y=\"270\"/><rect class=\"square light g2\" fill=\"#ffce9e\" height=\"45\" stroke=\"none\" width=\"45\" x=\"270\" y=\"270\"/><rect class=\"square dark h2\" fill=\"#d18b47\" height=\"45\" stroke=\"none\" width=\"45\" x=\"315\" y=\"270\"/><rect class=\"square dark a3\" fill=\"#d18b47\" height=\"45\" stroke=\"none\" width=\"45\" x=\"0\" y=\"225\"/><rect class=\"square light b3\" fill=\"#ffce9e\" height=\"45\" stroke=\"none\" width=\"45\" x=\"45\" y=\"225\"/><rect class=\"square dark c3\" fill=\"#d18b47\" height=\"45\" stroke=\"none\" width=\"45\" x=\"90\" y=\"225\"/><rect class=\"square light d3\" fill=\"#ffce9e\" height=\"45\" stroke=\"none\" width=\"45\" x=\"135\" y=\"225\"/><rect class=\"square dark e3\" fill=\"#d18b47\" height=\"45\" stroke=\"none\" width=\"45\" x=\"180\" y=\"225\"/><rect class=\"square light f3\" fill=\"#ffce9e\" height=\"45\" stroke=\"none\" width=\"45\" x=\"225\" y=\"225\"/><rect class=\"square dark g3\" fill=\"#d18b47\" height=\"45\" stroke=\"none\" width=\"45\" x=\"270\" y=\"225\"/><rect class=\"square light h3\" fill=\"#ffce9e\" height=\"45\" stroke=\"none\" width=\"45\" x=\"315\" y=\"225\"/><rect class=\"square light a4\" fill=\"#ffce9e\" height=\"45\" stroke=\"none\" width=\"45\" x=\"0\" y=\"180\"/><rect class=\"square dark b4\" fill=\"#d18b47\" height=\"45\" stroke=\"none\" width=\"45\" x=\"45\" y=\"180\"/><rect class=\"square light c4\" fill=\"#ffce9e\" height=\"45\" stroke=\"none\" width=\"45\" x=\"90\" y=\"180\"/><rect class=\"square dark d4\" fill=\"#d18b47\" height=\"45\" stroke=\"none\" width=\"45\" x=\"135\" y=\"180\"/><rect class=\"square light e4\" fill=\"#ffce9e\" height=\"45\" stroke=\"none\" width=\"45\" x=\"180\" y=\"180\"/><rect class=\"square dark f4\" fill=\"#d18b47\" height=\"45\" stroke=\"none\" width=\"45\" x=\"225\" y=\"180\"/><rect class=\"square light g4\" fill=\"#ffce9e\" height=\"45\" stroke=\"none\" width=\"45\" x=\"270\" y=\"180\"/><rect class=\"square dark h4\" fill=\"#d18b47\" height=\"45\" stroke=\"none\" width=\"45\" x=\"315\" y=\"180\"/><rect class=\"square dark a5\" fill=\"#d18b47\" height=\"45\" stroke=\"none\" width=\"45\" x=\"0\" y=\"135\"/><rect class=\"square light b5\" fill=\"#ffce9e\" height=\"45\" stroke=\"none\" width=\"45\" x=\"45\" y=\"135\"/><rect class=\"square dark c5\" fill=\"#d18b47\" height=\"45\" stroke=\"none\" width=\"45\" x=\"90\" y=\"135\"/><rect class=\"square light d5\" fill=\"#ffce9e\" height=\"45\" stroke=\"none\" width=\"45\" x=\"135\" y=\"135\"/><rect class=\"square dark e5\" fill=\"#d18b47\" height=\"45\" stroke=\"none\" width=\"45\" x=\"180\" y=\"135\"/><rect class=\"square light f5\" fill=\"#ffce9e\" height=\"45\" stroke=\"none\" width=\"45\" x=\"225\" y=\"135\"/><rect class=\"square dark g5\" fill=\"#d18b47\" height=\"45\" stroke=\"none\" width=\"45\" x=\"270\" y=\"135\"/><rect class=\"square light h5\" fill=\"#ffce9e\" height=\"45\" stroke=\"none\" width=\"45\" x=\"315\" y=\"135\"/><rect class=\"square light a6\" fill=\"#ffce9e\" height=\"45\" stroke=\"none\" width=\"45\" x=\"0\" y=\"90\"/><rect class=\"square dark b6\" fill=\"#d18b47\" height=\"45\" stroke=\"none\" width=\"45\" x=\"45\" y=\"90\"/><rect class=\"square light c6\" fill=\"#ffce9e\" height=\"45\" stroke=\"none\" width=\"45\" x=\"90\" y=\"90\"/><rect class=\"square dark d6\" fill=\"#d18b47\" height=\"45\" stroke=\"none\" width=\"45\" x=\"135\" y=\"90\"/><rect class=\"square light e6\" fill=\"#ffce9e\" height=\"45\" stroke=\"none\" width=\"45\" x=\"180\" y=\"90\"/><rect class=\"square dark f6\" fill=\"#d18b47\" height=\"45\" stroke=\"none\" width=\"45\" x=\"225\" y=\"90\"/><rect class=\"square light g6\" fill=\"#ffce9e\" height=\"45\" stroke=\"none\" width=\"45\" x=\"270\" y=\"90\"/><rect class=\"square dark h6\" fill=\"#d18b47\" height=\"45\" stroke=\"none\" width=\"45\" x=\"315\" y=\"90\"/><rect class=\"square dark a7\" fill=\"#d18b47\" height=\"45\" stroke=\"none\" width=\"45\" x=\"0\" y=\"45\"/><rect class=\"square light b7\" fill=\"#ffce9e\" height=\"45\" stroke=\"none\" width=\"45\" x=\"45\" y=\"45\"/><rect class=\"square dark c7\" fill=\"#d18b47\" height=\"45\" stroke=\"none\" width=\"45\" x=\"90\" y=\"45\"/><use transform=\"translate(90, 45)\" xlink:href=\"#white-bishop\"/><rect class=\"square light d7\" fill=\"#ffce9e\" height=\"45\" stroke=\"none\" width=\"45\" x=\"135\" y=\"45\"/><rect class=\"square dark e7\" fill=\"#d18b47\" height=\"45\" stroke=\"none\" width=\"45\" x=\"180\" y=\"45\"/><rect class=\"square light f7\" fill=\"#ffce9e\" height=\"45\" stroke=\"none\" width=\"45\" x=\"225\" y=\"45\"/><rect class=\"square dark g7\" fill=\"#d18b47\" height=\"45\" stroke=\"none\" width=\"45\" x=\"270\" y=\"45\"/><rect class=\"square light h7\" fill=\"#ffce9e\" height=\"45\" stroke=\"none\" width=\"45\" x=\"315\" y=\"45\"/><rect class=\"square light a8\" fill=\"#ffce9e\" height=\"45\" stroke=\"none\" width=\"45\" x=\"0\" y=\"0\"/><rect class=\"square dark b8\" fill=\"#d18b47\" height=\"45\" stroke=\"none\" width=\"45\" x=\"45\" y=\"0\"/><rect class=\"square light c8\" fill=\"#ffce9e\" height=\"45\" stroke=\"none\" width=\"45\" x=\"90\" y=\"0\"/><rect class=\"square dark d8\" fill=\"#d18b47\" height=\"45\" stroke=\"none\" width=\"45\" x=\"135\" y=\"0\"/><rect class=\"square light e8\" fill=\"#ffce9e\" height=\"45\" stroke=\"none\" width=\"45\" x=\"180\" y=\"0\"/><use transform=\"translate(180, 0)\" xlink:href=\"#white-queen\"/><rect class=\"square dark f8\" fill=\"#d18b47\" height=\"45\" stroke=\"none\" width=\"45\" x=\"225\" y=\"0\"/><use transform=\"translate(225, 0)\" xlink:href=\"#white-queen\"/><rect class=\"square light g8\" fill=\"#ffce9e\" height=\"45\" stroke=\"none\" width=\"45\" x=\"270\" y=\"0\"/><use transform=\"translate(270, 0)\" xlink:href=\"#white-queen\"/><rect class=\"square dark h8\" fill=\"#d18b47\" height=\"45\" stroke=\"none\" width=\"45\" x=\"315\" y=\"0\"/><use transform=\"translate(315, 0)\" xlink:href=\"#white-queen\"/><circle class=\"circle\" cx=\"67.5\" cy=\"337.5\" fill=\"none\" opacity=\"0.5\" r=\"20.25\" stroke=\"red\" stroke-width=\"4.5\"/><circle class=\"circle\" cx=\"112.5\" cy=\"337.5\" fill=\"none\" opacity=\"0.5\" r=\"20.25\" stroke=\"red\" stroke-width=\"4.5\"/><circle class=\"circle\" cx=\"157.5\" cy=\"337.5\" fill=\"none\" opacity=\"0.5\" r=\"20.25\" stroke=\"red\" stroke-width=\"4.5\"/><circle class=\"circle\" cx=\"112.5\" cy=\"292.5\" fill=\"none\" opacity=\"0.5\" r=\"20.25\" stroke=\"red\" stroke-width=\"4.5\"/><circle class=\"circle\" cx=\"157.5\" cy=\"292.5\" fill=\"none\" opacity=\"0.5\" r=\"20.25\" stroke=\"red\" stroke-width=\"4.5\"/><circle class=\"circle\" cx=\"157.5\" cy=\"247.5\" fill=\"none\" opacity=\"0.5\" r=\"20.25\" stroke=\"red\" stroke-width=\"4.5\"/><circle class=\"circle\" cx=\"22.5\" cy=\"112.5\" fill=\"none\" opacity=\"0.5\" r=\"20.25\" stroke=\"red\" stroke-width=\"4.5\"/><circle class=\"circle\" cx=\"22.5\" cy=\"67.5\" fill=\"none\" opacity=\"0.5\" r=\"20.25\" stroke=\"red\" stroke-width=\"4.5\"/><circle class=\"circle\" cx=\"67.5\" cy=\"67.5\" fill=\"none\" opacity=\"0.5\" r=\"20.25\" stroke=\"red\" stroke-width=\"4.5\"/></svg>"
      ],
      "text/plain": [
       "<IPython.core.display.SVG object>"
      ]
     },
     "metadata": {},
     "output_type": "display_data"
    },
    {
     "name": "stdout",
     "output_type": "stream",
     "text": [
      "56\n"
     ]
    },
    {
     "data": {
      "image/svg+xml": [
       "<svg version=\"1.1\" viewBox=\"0 0 360 360\" xmlns=\"http://www.w3.org/2000/svg\" xmlns:xlink=\"http://www.w3.org/1999/xlink\"><style>\n",
       ".square.light {\n",
       "fill: #cacaca;\n",
       "}\n",
       ".square.dark {\n",
       "fill: #898989;\n",
       "}\n",
       "#xx {\n",
       "fill: blue;\n",
       "stroke: red;\n",
       "}\n",
       ".square.light.lastmove {\n",
       "fill: #c3d889;\n",
       "}\n",
       ".square.dark.lastmove {\n",
       "fill: #92b167;\n",
       "}\n",
       ".check {\n",
       "fill: url(#check_gradient);\n",
       "}\n",
       ".arrow {\n",
       "stroke: #ff5858;\n",
       "fill: blue;\n",
       "}\n",
       ".mark {\n",
       "stroke: #959fff;\n",
       "fill: blue;\n",
       "}\n",
       "</style><defs><g class=\"white bishop\" fill=\"none\" fill-rule=\"evenodd\" id=\"white-bishop\" stroke=\"#000\" stroke-linecap=\"round\" stroke-linejoin=\"round\" stroke-width=\"1.5\"><g fill=\"#fff\" stroke-linecap=\"butt\"><path d=\"M9 36c3.39-.97 10.11.43 13.5-2 3.39 2.43 10.11 1.03 13.5 2 0 0 1.65.54 3 2-.68.97-1.65.99-3 .5-3.39-.97-10.11.46-13.5-1-3.39 1.46-10.11.03-13.5 1-1.354.49-2.323.47-3-.5 1.354-1.94 3-2 3-2zM15 32c2.5 2.5 12.5 2.5 15 0 .5-1.5 0-2 0-2 0-2.5-2.5-4-2.5-4 5.5-1.5 6-11.5-5-15.5-11 4-10.5 14-5 15.5 0 0-2.5 1.5-2.5 4 0 0-.5.5 0 2zM25 8a2.5 2.5 0 1 1-5 0 2.5 2.5 0 1 1 5 0z\"/></g><path d=\"M17.5 26h10M15 30h15m-7.5-14.5v5M20 18h5\" stroke-linejoin=\"miter\"/></g><g class=\"white queen\" fill=\"#fff\" fill-rule=\"evenodd\" id=\"white-queen\" stroke=\"#000\" stroke-linecap=\"round\" stroke-linejoin=\"round\" stroke-width=\"1.5\"><path d=\"M8 12a2 2 0 1 1-4 0 2 2 0 1 1 4 0zM24.5 7.5a2 2 0 1 1-4 0 2 2 0 1 1 4 0zM41 12a2 2 0 1 1-4 0 2 2 0 1 1 4 0zM16 8.5a2 2 0 1 1-4 0 2 2 0 1 1 4 0zM33 9a2 2 0 1 1-4 0 2 2 0 1 1 4 0z\"/><path d=\"M9 26c8.5-1.5 21-1.5 27 0l2-12-7 11V11l-5.5 13.5-3-15-3 15-5.5-14V25L7 14l2 12zM9 26c0 2 1.5 2 2.5 4 1 1.5 1 1 .5 3.5-1.5 1-1.5 2.5-1.5 2.5-1.5 1.5.5 2.5.5 2.5 6.5 1 16.5 1 23 0 0 0 1.5-1 0-2.5 0 0 .5-1.5-1-2.5-.5-2.5-.5-2 .5-3.5 1-2 2.5-2 2.5-4-8.5-1.5-18.5-1.5-27 0z\" stroke-linecap=\"butt\"/><path d=\"M11.5 30c3.5-1 18.5-1 22 0M12 33.5c6-1 15-1 21 0\" fill=\"none\"/></g></defs><rect class=\"square dark a1\" fill=\"#d18b47\" height=\"45\" stroke=\"none\" width=\"45\" x=\"0\" y=\"315\"/><rect class=\"square light b1\" fill=\"#ffce9e\" height=\"45\" stroke=\"none\" width=\"45\" x=\"45\" y=\"315\"/><rect class=\"square dark c1\" fill=\"#d18b47\" height=\"45\" stroke=\"none\" width=\"45\" x=\"90\" y=\"315\"/><rect class=\"square light d1\" fill=\"#ffce9e\" height=\"45\" stroke=\"none\" width=\"45\" x=\"135\" y=\"315\"/><rect class=\"square dark e1\" fill=\"#d18b47\" height=\"45\" stroke=\"none\" width=\"45\" x=\"180\" y=\"315\"/><rect class=\"square light f1\" fill=\"#ffce9e\" height=\"45\" stroke=\"none\" width=\"45\" x=\"225\" y=\"315\"/><rect class=\"square dark g1\" fill=\"#d18b47\" height=\"45\" stroke=\"none\" width=\"45\" x=\"270\" y=\"315\"/><rect class=\"square light h1\" fill=\"#ffce9e\" height=\"45\" stroke=\"none\" width=\"45\" x=\"315\" y=\"315\"/><rect class=\"square light a2\" fill=\"#ffce9e\" height=\"45\" stroke=\"none\" width=\"45\" x=\"0\" y=\"270\"/><rect class=\"square dark b2\" fill=\"#d18b47\" height=\"45\" stroke=\"none\" width=\"45\" x=\"45\" y=\"270\"/><rect class=\"square light c2\" fill=\"#ffce9e\" height=\"45\" stroke=\"none\" width=\"45\" x=\"90\" y=\"270\"/><rect class=\"square dark d2\" fill=\"#d18b47\" height=\"45\" stroke=\"none\" width=\"45\" x=\"135\" y=\"270\"/><rect class=\"square light e2\" fill=\"#ffce9e\" height=\"45\" stroke=\"none\" width=\"45\" x=\"180\" y=\"270\"/><rect class=\"square dark f2\" fill=\"#d18b47\" height=\"45\" stroke=\"none\" width=\"45\" x=\"225\" y=\"270\"/><rect class=\"square light g2\" fill=\"#ffce9e\" height=\"45\" stroke=\"none\" width=\"45\" x=\"270\" y=\"270\"/><rect class=\"square dark h2\" fill=\"#d18b47\" height=\"45\" stroke=\"none\" width=\"45\" x=\"315\" y=\"270\"/><rect class=\"square dark a3\" fill=\"#d18b47\" height=\"45\" stroke=\"none\" width=\"45\" x=\"0\" y=\"225\"/><rect class=\"square light b3\" fill=\"#ffce9e\" height=\"45\" stroke=\"none\" width=\"45\" x=\"45\" y=\"225\"/><rect class=\"square dark c3\" fill=\"#d18b47\" height=\"45\" stroke=\"none\" width=\"45\" x=\"90\" y=\"225\"/><rect class=\"square light d3\" fill=\"#ffce9e\" height=\"45\" stroke=\"none\" width=\"45\" x=\"135\" y=\"225\"/><rect class=\"square dark e3\" fill=\"#d18b47\" height=\"45\" stroke=\"none\" width=\"45\" x=\"180\" y=\"225\"/><rect class=\"square light f3\" fill=\"#ffce9e\" height=\"45\" stroke=\"none\" width=\"45\" x=\"225\" y=\"225\"/><rect class=\"square dark g3\" fill=\"#d18b47\" height=\"45\" stroke=\"none\" width=\"45\" x=\"270\" y=\"225\"/><rect class=\"square light h3\" fill=\"#ffce9e\" height=\"45\" stroke=\"none\" width=\"45\" x=\"315\" y=\"225\"/><rect class=\"square light a4\" fill=\"#ffce9e\" height=\"45\" stroke=\"none\" width=\"45\" x=\"0\" y=\"180\"/><rect class=\"square dark b4\" fill=\"#d18b47\" height=\"45\" stroke=\"none\" width=\"45\" x=\"45\" y=\"180\"/><rect class=\"square light c4\" fill=\"#ffce9e\" height=\"45\" stroke=\"none\" width=\"45\" x=\"90\" y=\"180\"/><rect class=\"square dark d4\" fill=\"#d18b47\" height=\"45\" stroke=\"none\" width=\"45\" x=\"135\" y=\"180\"/><rect class=\"square light e4\" fill=\"#ffce9e\" height=\"45\" stroke=\"none\" width=\"45\" x=\"180\" y=\"180\"/><rect class=\"square dark f4\" fill=\"#d18b47\" height=\"45\" stroke=\"none\" width=\"45\" x=\"225\" y=\"180\"/><rect class=\"square light g4\" fill=\"#ffce9e\" height=\"45\" stroke=\"none\" width=\"45\" x=\"270\" y=\"180\"/><rect class=\"square dark h4\" fill=\"#d18b47\" height=\"45\" stroke=\"none\" width=\"45\" x=\"315\" y=\"180\"/><rect class=\"square dark a5\" fill=\"#d18b47\" height=\"45\" stroke=\"none\" width=\"45\" x=\"0\" y=\"135\"/><rect class=\"square light b5\" fill=\"#ffce9e\" height=\"45\" stroke=\"none\" width=\"45\" x=\"45\" y=\"135\"/><rect class=\"square dark c5\" fill=\"#d18b47\" height=\"45\" stroke=\"none\" width=\"45\" x=\"90\" y=\"135\"/><rect class=\"square light d5\" fill=\"#ffce9e\" height=\"45\" stroke=\"none\" width=\"45\" x=\"135\" y=\"135\"/><rect class=\"square dark e5\" fill=\"#d18b47\" height=\"45\" stroke=\"none\" width=\"45\" x=\"180\" y=\"135\"/><rect class=\"square light f5\" fill=\"#ffce9e\" height=\"45\" stroke=\"none\" width=\"45\" x=\"225\" y=\"135\"/><rect class=\"square dark g5\" fill=\"#d18b47\" height=\"45\" stroke=\"none\" width=\"45\" x=\"270\" y=\"135\"/><rect class=\"square light h5\" fill=\"#ffce9e\" height=\"45\" stroke=\"none\" width=\"45\" x=\"315\" y=\"135\"/><rect class=\"square light a6\" fill=\"#ffce9e\" height=\"45\" stroke=\"none\" width=\"45\" x=\"0\" y=\"90\"/><rect class=\"square dark b6\" fill=\"#d18b47\" height=\"45\" stroke=\"none\" width=\"45\" x=\"45\" y=\"90\"/><use transform=\"translate(45, 90)\" xlink:href=\"#white-bishop\"/><rect class=\"square light c6\" fill=\"#ffce9e\" height=\"45\" stroke=\"none\" width=\"45\" x=\"90\" y=\"90\"/><rect class=\"square dark d6\" fill=\"#d18b47\" height=\"45\" stroke=\"none\" width=\"45\" x=\"135\" y=\"90\"/><rect class=\"square light e6\" fill=\"#ffce9e\" height=\"45\" stroke=\"none\" width=\"45\" x=\"180\" y=\"90\"/><rect class=\"square dark f6\" fill=\"#d18b47\" height=\"45\" stroke=\"none\" width=\"45\" x=\"225\" y=\"90\"/><rect class=\"square light g6\" fill=\"#ffce9e\" height=\"45\" stroke=\"none\" width=\"45\" x=\"270\" y=\"90\"/><rect class=\"square dark h6\" fill=\"#d18b47\" height=\"45\" stroke=\"none\" width=\"45\" x=\"315\" y=\"90\"/><rect class=\"square dark a7\" fill=\"#d18b47\" height=\"45\" stroke=\"none\" width=\"45\" x=\"0\" y=\"45\"/><rect class=\"square light b7\" fill=\"#ffce9e\" height=\"45\" stroke=\"none\" width=\"45\" x=\"45\" y=\"45\"/><rect class=\"square dark c7\" fill=\"#d18b47\" height=\"45\" stroke=\"none\" width=\"45\" x=\"90\" y=\"45\"/><rect class=\"square light d7\" fill=\"#ffce9e\" height=\"45\" stroke=\"none\" width=\"45\" x=\"135\" y=\"45\"/><rect class=\"square dark e7\" fill=\"#d18b47\" height=\"45\" stroke=\"none\" width=\"45\" x=\"180\" y=\"45\"/><rect class=\"square light f7\" fill=\"#ffce9e\" height=\"45\" stroke=\"none\" width=\"45\" x=\"225\" y=\"45\"/><rect class=\"square dark g7\" fill=\"#d18b47\" height=\"45\" stroke=\"none\" width=\"45\" x=\"270\" y=\"45\"/><rect class=\"square light h7\" fill=\"#ffce9e\" height=\"45\" stroke=\"none\" width=\"45\" x=\"315\" y=\"45\"/><rect class=\"square light a8\" fill=\"#ffce9e\" height=\"45\" stroke=\"none\" width=\"45\" x=\"0\" y=\"0\"/><rect class=\"square dark b8\" fill=\"#d18b47\" height=\"45\" stroke=\"none\" width=\"45\" x=\"45\" y=\"0\"/><rect class=\"square light c8\" fill=\"#ffce9e\" height=\"45\" stroke=\"none\" width=\"45\" x=\"90\" y=\"0\"/><rect class=\"square dark d8\" fill=\"#d18b47\" height=\"45\" stroke=\"none\" width=\"45\" x=\"135\" y=\"0\"/><rect class=\"square light e8\" fill=\"#ffce9e\" height=\"45\" stroke=\"none\" width=\"45\" x=\"180\" y=\"0\"/><use transform=\"translate(180, 0)\" xlink:href=\"#white-queen\"/><rect class=\"square dark f8\" fill=\"#d18b47\" height=\"45\" stroke=\"none\" width=\"45\" x=\"225\" y=\"0\"/><use transform=\"translate(225, 0)\" xlink:href=\"#white-queen\"/><rect class=\"square light g8\" fill=\"#ffce9e\" height=\"45\" stroke=\"none\" width=\"45\" x=\"270\" y=\"0\"/><use transform=\"translate(270, 0)\" xlink:href=\"#white-queen\"/><rect class=\"square dark h8\" fill=\"#d18b47\" height=\"45\" stroke=\"none\" width=\"45\" x=\"315\" y=\"0\"/><use transform=\"translate(315, 0)\" xlink:href=\"#white-queen\"/><circle class=\"circle\" cx=\"67.5\" cy=\"337.5\" fill=\"none\" opacity=\"0.5\" r=\"20.25\" stroke=\"red\" stroke-width=\"4.5\"/><circle class=\"circle\" cx=\"112.5\" cy=\"337.5\" fill=\"none\" opacity=\"0.5\" r=\"20.25\" stroke=\"red\" stroke-width=\"4.5\"/><circle class=\"circle\" cx=\"157.5\" cy=\"337.5\" fill=\"none\" opacity=\"0.5\" r=\"20.25\" stroke=\"red\" stroke-width=\"4.5\"/><circle class=\"circle\" cx=\"112.5\" cy=\"292.5\" fill=\"none\" opacity=\"0.5\" r=\"20.25\" stroke=\"red\" stroke-width=\"4.5\"/><circle class=\"circle\" cx=\"157.5\" cy=\"292.5\" fill=\"none\" opacity=\"0.5\" r=\"20.25\" stroke=\"red\" stroke-width=\"4.5\"/><circle class=\"circle\" cx=\"157.5\" cy=\"247.5\" fill=\"none\" opacity=\"0.5\" r=\"20.25\" stroke=\"red\" stroke-width=\"4.5\"/><circle class=\"circle\" cx=\"22.5\" cy=\"112.5\" fill=\"none\" opacity=\"0.5\" r=\"20.25\" stroke=\"red\" stroke-width=\"4.5\"/><circle class=\"circle\" cx=\"67.5\" cy=\"67.5\" fill=\"none\" opacity=\"0.5\" r=\"20.25\" stroke=\"red\" stroke-width=\"4.5\"/></svg>"
      ],
      "text/plain": [
       "<IPython.core.display.SVG object>"
      ]
     },
     "metadata": {},
     "output_type": "display_data"
    },
    {
     "name": "stdout",
     "output_type": "stream",
     "text": [
      "57\n"
     ]
    },
    {
     "data": {
      "image/svg+xml": [
       "<svg version=\"1.1\" viewBox=\"0 0 360 360\" xmlns=\"http://www.w3.org/2000/svg\" xmlns:xlink=\"http://www.w3.org/1999/xlink\"><style>\n",
       ".square.light {\n",
       "fill: #cacaca;\n",
       "}\n",
       ".square.dark {\n",
       "fill: #898989;\n",
       "}\n",
       "#xx {\n",
       "fill: blue;\n",
       "stroke: red;\n",
       "}\n",
       ".square.light.lastmove {\n",
       "fill: #c3d889;\n",
       "}\n",
       ".square.dark.lastmove {\n",
       "fill: #92b167;\n",
       "}\n",
       ".check {\n",
       "fill: url(#check_gradient);\n",
       "}\n",
       ".arrow {\n",
       "stroke: #ff5858;\n",
       "fill: blue;\n",
       "}\n",
       ".mark {\n",
       "stroke: #959fff;\n",
       "fill: blue;\n",
       "}\n",
       "</style><defs><g class=\"white bishop\" fill=\"none\" fill-rule=\"evenodd\" id=\"white-bishop\" stroke=\"#000\" stroke-linecap=\"round\" stroke-linejoin=\"round\" stroke-width=\"1.5\"><g fill=\"#fff\" stroke-linecap=\"butt\"><path d=\"M9 36c3.39-.97 10.11.43 13.5-2 3.39 2.43 10.11 1.03 13.5 2 0 0 1.65.54 3 2-.68.97-1.65.99-3 .5-3.39-.97-10.11.46-13.5-1-3.39 1.46-10.11.03-13.5 1-1.354.49-2.323.47-3-.5 1.354-1.94 3-2 3-2zM15 32c2.5 2.5 12.5 2.5 15 0 .5-1.5 0-2 0-2 0-2.5-2.5-4-2.5-4 5.5-1.5 6-11.5-5-15.5-11 4-10.5 14-5 15.5 0 0-2.5 1.5-2.5 4 0 0-.5.5 0 2zM25 8a2.5 2.5 0 1 1-5 0 2.5 2.5 0 1 1 5 0z\"/></g><path d=\"M17.5 26h10M15 30h15m-7.5-14.5v5M20 18h5\" stroke-linejoin=\"miter\"/></g><g class=\"white queen\" fill=\"#fff\" fill-rule=\"evenodd\" id=\"white-queen\" stroke=\"#000\" stroke-linecap=\"round\" stroke-linejoin=\"round\" stroke-width=\"1.5\"><path d=\"M8 12a2 2 0 1 1-4 0 2 2 0 1 1 4 0zM24.5 7.5a2 2 0 1 1-4 0 2 2 0 1 1 4 0zM41 12a2 2 0 1 1-4 0 2 2 0 1 1 4 0zM16 8.5a2 2 0 1 1-4 0 2 2 0 1 1 4 0zM33 9a2 2 0 1 1-4 0 2 2 0 1 1 4 0z\"/><path d=\"M9 26c8.5-1.5 21-1.5 27 0l2-12-7 11V11l-5.5 13.5-3-15-3 15-5.5-14V25L7 14l2 12zM9 26c0 2 1.5 2 2.5 4 1 1.5 1 1 .5 3.5-1.5 1-1.5 2.5-1.5 2.5-1.5 1.5.5 2.5.5 2.5 6.5 1 16.5 1 23 0 0 0 1.5-1 0-2.5 0 0 .5-1.5-1-2.5-.5-2.5-.5-2 .5-3.5 1-2 2.5-2 2.5-4-8.5-1.5-18.5-1.5-27 0z\" stroke-linecap=\"butt\"/><path d=\"M11.5 30c3.5-1 18.5-1 22 0M12 33.5c6-1 15-1 21 0\" fill=\"none\"/></g></defs><rect class=\"square dark a1\" fill=\"#d18b47\" height=\"45\" stroke=\"none\" width=\"45\" x=\"0\" y=\"315\"/><rect class=\"square light b1\" fill=\"#ffce9e\" height=\"45\" stroke=\"none\" width=\"45\" x=\"45\" y=\"315\"/><rect class=\"square dark c1\" fill=\"#d18b47\" height=\"45\" stroke=\"none\" width=\"45\" x=\"90\" y=\"315\"/><rect class=\"square light d1\" fill=\"#ffce9e\" height=\"45\" stroke=\"none\" width=\"45\" x=\"135\" y=\"315\"/><rect class=\"square dark e1\" fill=\"#d18b47\" height=\"45\" stroke=\"none\" width=\"45\" x=\"180\" y=\"315\"/><rect class=\"square light f1\" fill=\"#ffce9e\" height=\"45\" stroke=\"none\" width=\"45\" x=\"225\" y=\"315\"/><rect class=\"square dark g1\" fill=\"#d18b47\" height=\"45\" stroke=\"none\" width=\"45\" x=\"270\" y=\"315\"/><rect class=\"square light h1\" fill=\"#ffce9e\" height=\"45\" stroke=\"none\" width=\"45\" x=\"315\" y=\"315\"/><rect class=\"square light a2\" fill=\"#ffce9e\" height=\"45\" stroke=\"none\" width=\"45\" x=\"0\" y=\"270\"/><rect class=\"square dark b2\" fill=\"#d18b47\" height=\"45\" stroke=\"none\" width=\"45\" x=\"45\" y=\"270\"/><rect class=\"square light c2\" fill=\"#ffce9e\" height=\"45\" stroke=\"none\" width=\"45\" x=\"90\" y=\"270\"/><rect class=\"square dark d2\" fill=\"#d18b47\" height=\"45\" stroke=\"none\" width=\"45\" x=\"135\" y=\"270\"/><rect class=\"square light e2\" fill=\"#ffce9e\" height=\"45\" stroke=\"none\" width=\"45\" x=\"180\" y=\"270\"/><rect class=\"square dark f2\" fill=\"#d18b47\" height=\"45\" stroke=\"none\" width=\"45\" x=\"225\" y=\"270\"/><rect class=\"square light g2\" fill=\"#ffce9e\" height=\"45\" stroke=\"none\" width=\"45\" x=\"270\" y=\"270\"/><rect class=\"square dark h2\" fill=\"#d18b47\" height=\"45\" stroke=\"none\" width=\"45\" x=\"315\" y=\"270\"/><rect class=\"square dark a3\" fill=\"#d18b47\" height=\"45\" stroke=\"none\" width=\"45\" x=\"0\" y=\"225\"/><rect class=\"square light b3\" fill=\"#ffce9e\" height=\"45\" stroke=\"none\" width=\"45\" x=\"45\" y=\"225\"/><rect class=\"square dark c3\" fill=\"#d18b47\" height=\"45\" stroke=\"none\" width=\"45\" x=\"90\" y=\"225\"/><rect class=\"square light d3\" fill=\"#ffce9e\" height=\"45\" stroke=\"none\" width=\"45\" x=\"135\" y=\"225\"/><rect class=\"square dark e3\" fill=\"#d18b47\" height=\"45\" stroke=\"none\" width=\"45\" x=\"180\" y=\"225\"/><rect class=\"square light f3\" fill=\"#ffce9e\" height=\"45\" stroke=\"none\" width=\"45\" x=\"225\" y=\"225\"/><rect class=\"square dark g3\" fill=\"#d18b47\" height=\"45\" stroke=\"none\" width=\"45\" x=\"270\" y=\"225\"/><rect class=\"square light h3\" fill=\"#ffce9e\" height=\"45\" stroke=\"none\" width=\"45\" x=\"315\" y=\"225\"/><rect class=\"square light a4\" fill=\"#ffce9e\" height=\"45\" stroke=\"none\" width=\"45\" x=\"0\" y=\"180\"/><rect class=\"square dark b4\" fill=\"#d18b47\" height=\"45\" stroke=\"none\" width=\"45\" x=\"45\" y=\"180\"/><rect class=\"square light c4\" fill=\"#ffce9e\" height=\"45\" stroke=\"none\" width=\"45\" x=\"90\" y=\"180\"/><rect class=\"square dark d4\" fill=\"#d18b47\" height=\"45\" stroke=\"none\" width=\"45\" x=\"135\" y=\"180\"/><rect class=\"square light e4\" fill=\"#ffce9e\" height=\"45\" stroke=\"none\" width=\"45\" x=\"180\" y=\"180\"/><rect class=\"square dark f4\" fill=\"#d18b47\" height=\"45\" stroke=\"none\" width=\"45\" x=\"225\" y=\"180\"/><rect class=\"square light g4\" fill=\"#ffce9e\" height=\"45\" stroke=\"none\" width=\"45\" x=\"270\" y=\"180\"/><rect class=\"square dark h4\" fill=\"#d18b47\" height=\"45\" stroke=\"none\" width=\"45\" x=\"315\" y=\"180\"/><rect class=\"square dark a5\" fill=\"#d18b47\" height=\"45\" stroke=\"none\" width=\"45\" x=\"0\" y=\"135\"/><rect class=\"square light b5\" fill=\"#ffce9e\" height=\"45\" stroke=\"none\" width=\"45\" x=\"45\" y=\"135\"/><use transform=\"translate(45, 135)\" xlink:href=\"#white-bishop\"/><rect class=\"square dark c5\" fill=\"#d18b47\" height=\"45\" stroke=\"none\" width=\"45\" x=\"90\" y=\"135\"/><rect class=\"square light d5\" fill=\"#ffce9e\" height=\"45\" stroke=\"none\" width=\"45\" x=\"135\" y=\"135\"/><rect class=\"square dark e5\" fill=\"#d18b47\" height=\"45\" stroke=\"none\" width=\"45\" x=\"180\" y=\"135\"/><rect class=\"square light f5\" fill=\"#ffce9e\" height=\"45\" stroke=\"none\" width=\"45\" x=\"225\" y=\"135\"/><rect class=\"square dark g5\" fill=\"#d18b47\" height=\"45\" stroke=\"none\" width=\"45\" x=\"270\" y=\"135\"/><rect class=\"square light h5\" fill=\"#ffce9e\" height=\"45\" stroke=\"none\" width=\"45\" x=\"315\" y=\"135\"/><rect class=\"square light a6\" fill=\"#ffce9e\" height=\"45\" stroke=\"none\" width=\"45\" x=\"0\" y=\"90\"/><rect class=\"square dark b6\" fill=\"#d18b47\" height=\"45\" stroke=\"none\" width=\"45\" x=\"45\" y=\"90\"/><rect class=\"square light c6\" fill=\"#ffce9e\" height=\"45\" stroke=\"none\" width=\"45\" x=\"90\" y=\"90\"/><rect class=\"square dark d6\" fill=\"#d18b47\" height=\"45\" stroke=\"none\" width=\"45\" x=\"135\" y=\"90\"/><rect class=\"square light e6\" fill=\"#ffce9e\" height=\"45\" stroke=\"none\" width=\"45\" x=\"180\" y=\"90\"/><rect class=\"square dark f6\" fill=\"#d18b47\" height=\"45\" stroke=\"none\" width=\"45\" x=\"225\" y=\"90\"/><rect class=\"square light g6\" fill=\"#ffce9e\" height=\"45\" stroke=\"none\" width=\"45\" x=\"270\" y=\"90\"/><rect class=\"square dark h6\" fill=\"#d18b47\" height=\"45\" stroke=\"none\" width=\"45\" x=\"315\" y=\"90\"/><rect class=\"square dark a7\" fill=\"#d18b47\" height=\"45\" stroke=\"none\" width=\"45\" x=\"0\" y=\"45\"/><rect class=\"square light b7\" fill=\"#ffce9e\" height=\"45\" stroke=\"none\" width=\"45\" x=\"45\" y=\"45\"/><rect class=\"square dark c7\" fill=\"#d18b47\" height=\"45\" stroke=\"none\" width=\"45\" x=\"90\" y=\"45\"/><rect class=\"square light d7\" fill=\"#ffce9e\" height=\"45\" stroke=\"none\" width=\"45\" x=\"135\" y=\"45\"/><rect class=\"square dark e7\" fill=\"#d18b47\" height=\"45\" stroke=\"none\" width=\"45\" x=\"180\" y=\"45\"/><rect class=\"square light f7\" fill=\"#ffce9e\" height=\"45\" stroke=\"none\" width=\"45\" x=\"225\" y=\"45\"/><rect class=\"square dark g7\" fill=\"#d18b47\" height=\"45\" stroke=\"none\" width=\"45\" x=\"270\" y=\"45\"/><rect class=\"square light h7\" fill=\"#ffce9e\" height=\"45\" stroke=\"none\" width=\"45\" x=\"315\" y=\"45\"/><use transform=\"translate(315, 45)\" xlink:href=\"#white-queen\"/><rect class=\"square light a8\" fill=\"#ffce9e\" height=\"45\" stroke=\"none\" width=\"45\" x=\"0\" y=\"0\"/><rect class=\"square dark b8\" fill=\"#d18b47\" height=\"45\" stroke=\"none\" width=\"45\" x=\"45\" y=\"0\"/><rect class=\"square light c8\" fill=\"#ffce9e\" height=\"45\" stroke=\"none\" width=\"45\" x=\"90\" y=\"0\"/><rect class=\"square dark d8\" fill=\"#d18b47\" height=\"45\" stroke=\"none\" width=\"45\" x=\"135\" y=\"0\"/><rect class=\"square light e8\" fill=\"#ffce9e\" height=\"45\" stroke=\"none\" width=\"45\" x=\"180\" y=\"0\"/><rect class=\"square dark f8\" fill=\"#d18b47\" height=\"45\" stroke=\"none\" width=\"45\" x=\"225\" y=\"0\"/><use transform=\"translate(225, 0)\" xlink:href=\"#white-queen\"/><rect class=\"square light g8\" fill=\"#ffce9e\" height=\"45\" stroke=\"none\" width=\"45\" x=\"270\" y=\"0\"/><use transform=\"translate(270, 0)\" xlink:href=\"#white-queen\"/><rect class=\"square dark h8\" fill=\"#d18b47\" height=\"45\" stroke=\"none\" width=\"45\" x=\"315\" y=\"0\"/><use transform=\"translate(315, 0)\" xlink:href=\"#white-queen\"/><circle class=\"circle\" cx=\"112.5\" cy=\"337.5\" fill=\"none\" opacity=\"0.5\" r=\"20.25\" stroke=\"red\" stroke-width=\"4.5\"/><circle class=\"circle\" cx=\"157.5\" cy=\"337.5\" fill=\"none\" opacity=\"0.5\" r=\"20.25\" stroke=\"red\" stroke-width=\"4.5\"/><circle class=\"circle\" cx=\"202.5\" cy=\"337.5\" fill=\"none\" opacity=\"0.5\" r=\"20.25\" stroke=\"red\" stroke-width=\"4.5\"/><circle class=\"circle\" cx=\"157.5\" cy=\"292.5\" fill=\"none\" opacity=\"0.5\" r=\"20.25\" stroke=\"red\" stroke-width=\"4.5\"/><circle class=\"circle\" cx=\"202.5\" cy=\"247.5\" fill=\"none\" opacity=\"0.5\" r=\"20.25\" stroke=\"red\" stroke-width=\"4.5\"/><circle class=\"circle\" cx=\"22.5\" cy=\"157.5\" fill=\"none\" opacity=\"0.5\" r=\"20.25\" stroke=\"red\" stroke-width=\"4.5\"/><circle class=\"circle\" cx=\"67.5\" cy=\"112.5\" fill=\"none\" opacity=\"0.5\" r=\"20.25\" stroke=\"red\" stroke-width=\"4.5\"/></svg>"
      ],
      "text/plain": [
       "<IPython.core.display.SVG object>"
      ]
     },
     "metadata": {},
     "output_type": "display_data"
    },
    {
     "name": "stdout",
     "output_type": "stream",
     "text": [
      "58\n"
     ]
    },
    {
     "data": {
      "image/svg+xml": [
       "<svg version=\"1.1\" viewBox=\"0 0 360 360\" xmlns=\"http://www.w3.org/2000/svg\" xmlns:xlink=\"http://www.w3.org/1999/xlink\"><style>\n",
       ".square.light {\n",
       "fill: #cacaca;\n",
       "}\n",
       ".square.dark {\n",
       "fill: #898989;\n",
       "}\n",
       "#xx {\n",
       "fill: blue;\n",
       "stroke: red;\n",
       "}\n",
       ".square.light.lastmove {\n",
       "fill: #c3d889;\n",
       "}\n",
       ".square.dark.lastmove {\n",
       "fill: #92b167;\n",
       "}\n",
       ".check {\n",
       "fill: url(#check_gradient);\n",
       "}\n",
       ".arrow {\n",
       "stroke: #ff5858;\n",
       "fill: blue;\n",
       "}\n",
       ".mark {\n",
       "stroke: #959fff;\n",
       "fill: blue;\n",
       "}\n",
       "</style><defs><g class=\"white bishop\" fill=\"none\" fill-rule=\"evenodd\" id=\"white-bishop\" stroke=\"#000\" stroke-linecap=\"round\" stroke-linejoin=\"round\" stroke-width=\"1.5\"><g fill=\"#fff\" stroke-linecap=\"butt\"><path d=\"M9 36c3.39-.97 10.11.43 13.5-2 3.39 2.43 10.11 1.03 13.5 2 0 0 1.65.54 3 2-.68.97-1.65.99-3 .5-3.39-.97-10.11.46-13.5-1-3.39 1.46-10.11.03-13.5 1-1.354.49-2.323.47-3-.5 1.354-1.94 3-2 3-2zM15 32c2.5 2.5 12.5 2.5 15 0 .5-1.5 0-2 0-2 0-2.5-2.5-4-2.5-4 5.5-1.5 6-11.5-5-15.5-11 4-10.5 14-5 15.5 0 0-2.5 1.5-2.5 4 0 0-.5.5 0 2zM25 8a2.5 2.5 0 1 1-5 0 2.5 2.5 0 1 1 5 0z\"/></g><path d=\"M17.5 26h10M15 30h15m-7.5-14.5v5M20 18h5\" stroke-linejoin=\"miter\"/></g><g class=\"white queen\" fill=\"#fff\" fill-rule=\"evenodd\" id=\"white-queen\" stroke=\"#000\" stroke-linecap=\"round\" stroke-linejoin=\"round\" stroke-width=\"1.5\"><path d=\"M8 12a2 2 0 1 1-4 0 2 2 0 1 1 4 0zM24.5 7.5a2 2 0 1 1-4 0 2 2 0 1 1 4 0zM41 12a2 2 0 1 1-4 0 2 2 0 1 1 4 0zM16 8.5a2 2 0 1 1-4 0 2 2 0 1 1 4 0zM33 9a2 2 0 1 1-4 0 2 2 0 1 1 4 0z\"/><path d=\"M9 26c8.5-1.5 21-1.5 27 0l2-12-7 11V11l-5.5 13.5-3-15-3 15-5.5-14V25L7 14l2 12zM9 26c0 2 1.5 2 2.5 4 1 1.5 1 1 .5 3.5-1.5 1-1.5 2.5-1.5 2.5-1.5 1.5.5 2.5.5 2.5 6.5 1 16.5 1 23 0 0 0 1.5-1 0-2.5 0 0 .5-1.5-1-2.5-.5-2.5-.5-2 .5-3.5 1-2 2.5-2 2.5-4-8.5-1.5-18.5-1.5-27 0z\" stroke-linecap=\"butt\"/><path d=\"M11.5 30c3.5-1 18.5-1 22 0M12 33.5c6-1 15-1 21 0\" fill=\"none\"/></g></defs><rect class=\"square dark a1\" fill=\"#d18b47\" height=\"45\" stroke=\"none\" width=\"45\" x=\"0\" y=\"315\"/><rect class=\"square light b1\" fill=\"#ffce9e\" height=\"45\" stroke=\"none\" width=\"45\" x=\"45\" y=\"315\"/><rect class=\"square dark c1\" fill=\"#d18b47\" height=\"45\" stroke=\"none\" width=\"45\" x=\"90\" y=\"315\"/><rect class=\"square light d1\" fill=\"#ffce9e\" height=\"45\" stroke=\"none\" width=\"45\" x=\"135\" y=\"315\"/><rect class=\"square dark e1\" fill=\"#d18b47\" height=\"45\" stroke=\"none\" width=\"45\" x=\"180\" y=\"315\"/><rect class=\"square light f1\" fill=\"#ffce9e\" height=\"45\" stroke=\"none\" width=\"45\" x=\"225\" y=\"315\"/><rect class=\"square dark g1\" fill=\"#d18b47\" height=\"45\" stroke=\"none\" width=\"45\" x=\"270\" y=\"315\"/><rect class=\"square light h1\" fill=\"#ffce9e\" height=\"45\" stroke=\"none\" width=\"45\" x=\"315\" y=\"315\"/><rect class=\"square light a2\" fill=\"#ffce9e\" height=\"45\" stroke=\"none\" width=\"45\" x=\"0\" y=\"270\"/><rect class=\"square dark b2\" fill=\"#d18b47\" height=\"45\" stroke=\"none\" width=\"45\" x=\"45\" y=\"270\"/><rect class=\"square light c2\" fill=\"#ffce9e\" height=\"45\" stroke=\"none\" width=\"45\" x=\"90\" y=\"270\"/><rect class=\"square dark d2\" fill=\"#d18b47\" height=\"45\" stroke=\"none\" width=\"45\" x=\"135\" y=\"270\"/><rect class=\"square light e2\" fill=\"#ffce9e\" height=\"45\" stroke=\"none\" width=\"45\" x=\"180\" y=\"270\"/><rect class=\"square dark f2\" fill=\"#d18b47\" height=\"45\" stroke=\"none\" width=\"45\" x=\"225\" y=\"270\"/><rect class=\"square light g2\" fill=\"#ffce9e\" height=\"45\" stroke=\"none\" width=\"45\" x=\"270\" y=\"270\"/><rect class=\"square dark h2\" fill=\"#d18b47\" height=\"45\" stroke=\"none\" width=\"45\" x=\"315\" y=\"270\"/><rect class=\"square dark a3\" fill=\"#d18b47\" height=\"45\" stroke=\"none\" width=\"45\" x=\"0\" y=\"225\"/><rect class=\"square light b3\" fill=\"#ffce9e\" height=\"45\" stroke=\"none\" width=\"45\" x=\"45\" y=\"225\"/><rect class=\"square dark c3\" fill=\"#d18b47\" height=\"45\" stroke=\"none\" width=\"45\" x=\"90\" y=\"225\"/><rect class=\"square light d3\" fill=\"#ffce9e\" height=\"45\" stroke=\"none\" width=\"45\" x=\"135\" y=\"225\"/><rect class=\"square dark e3\" fill=\"#d18b47\" height=\"45\" stroke=\"none\" width=\"45\" x=\"180\" y=\"225\"/><rect class=\"square light f3\" fill=\"#ffce9e\" height=\"45\" stroke=\"none\" width=\"45\" x=\"225\" y=\"225\"/><rect class=\"square dark g3\" fill=\"#d18b47\" height=\"45\" stroke=\"none\" width=\"45\" x=\"270\" y=\"225\"/><rect class=\"square light h3\" fill=\"#ffce9e\" height=\"45\" stroke=\"none\" width=\"45\" x=\"315\" y=\"225\"/><rect class=\"square light a4\" fill=\"#ffce9e\" height=\"45\" stroke=\"none\" width=\"45\" x=\"0\" y=\"180\"/><rect class=\"square dark b4\" fill=\"#d18b47\" height=\"45\" stroke=\"none\" width=\"45\" x=\"45\" y=\"180\"/><rect class=\"square light c4\" fill=\"#ffce9e\" height=\"45\" stroke=\"none\" width=\"45\" x=\"90\" y=\"180\"/><rect class=\"square dark d4\" fill=\"#d18b47\" height=\"45\" stroke=\"none\" width=\"45\" x=\"135\" y=\"180\"/><rect class=\"square light e4\" fill=\"#ffce9e\" height=\"45\" stroke=\"none\" width=\"45\" x=\"180\" y=\"180\"/><rect class=\"square dark f4\" fill=\"#d18b47\" height=\"45\" stroke=\"none\" width=\"45\" x=\"225\" y=\"180\"/><rect class=\"square light g4\" fill=\"#ffce9e\" height=\"45\" stroke=\"none\" width=\"45\" x=\"270\" y=\"180\"/><rect class=\"square dark h4\" fill=\"#d18b47\" height=\"45\" stroke=\"none\" width=\"45\" x=\"315\" y=\"180\"/><rect class=\"square dark a5\" fill=\"#d18b47\" height=\"45\" stroke=\"none\" width=\"45\" x=\"0\" y=\"135\"/><rect class=\"square light b5\" fill=\"#ffce9e\" height=\"45\" stroke=\"none\" width=\"45\" x=\"45\" y=\"135\"/><rect class=\"square dark c5\" fill=\"#d18b47\" height=\"45\" stroke=\"none\" width=\"45\" x=\"90\" y=\"135\"/><rect class=\"square light d5\" fill=\"#ffce9e\" height=\"45\" stroke=\"none\" width=\"45\" x=\"135\" y=\"135\"/><rect class=\"square dark e5\" fill=\"#d18b47\" height=\"45\" stroke=\"none\" width=\"45\" x=\"180\" y=\"135\"/><rect class=\"square light f5\" fill=\"#ffce9e\" height=\"45\" stroke=\"none\" width=\"45\" x=\"225\" y=\"135\"/><rect class=\"square dark g5\" fill=\"#d18b47\" height=\"45\" stroke=\"none\" width=\"45\" x=\"270\" y=\"135\"/><rect class=\"square light h5\" fill=\"#ffce9e\" height=\"45\" stroke=\"none\" width=\"45\" x=\"315\" y=\"135\"/><rect class=\"square light a6\" fill=\"#ffce9e\" height=\"45\" stroke=\"none\" width=\"45\" x=\"0\" y=\"90\"/><rect class=\"square dark b6\" fill=\"#d18b47\" height=\"45\" stroke=\"none\" width=\"45\" x=\"45\" y=\"90\"/><rect class=\"square light c6\" fill=\"#ffce9e\" height=\"45\" stroke=\"none\" width=\"45\" x=\"90\" y=\"90\"/><rect class=\"square dark d6\" fill=\"#d18b47\" height=\"45\" stroke=\"none\" width=\"45\" x=\"135\" y=\"90\"/><rect class=\"square light e6\" fill=\"#ffce9e\" height=\"45\" stroke=\"none\" width=\"45\" x=\"180\" y=\"90\"/><rect class=\"square dark f6\" fill=\"#d18b47\" height=\"45\" stroke=\"none\" width=\"45\" x=\"225\" y=\"90\"/><rect class=\"square light g6\" fill=\"#ffce9e\" height=\"45\" stroke=\"none\" width=\"45\" x=\"270\" y=\"90\"/><rect class=\"square dark h6\" fill=\"#d18b47\" height=\"45\" stroke=\"none\" width=\"45\" x=\"315\" y=\"90\"/><rect class=\"square dark a7\" fill=\"#d18b47\" height=\"45\" stroke=\"none\" width=\"45\" x=\"0\" y=\"45\"/><rect class=\"square light b7\" fill=\"#ffce9e\" height=\"45\" stroke=\"none\" width=\"45\" x=\"45\" y=\"45\"/><rect class=\"square dark c7\" fill=\"#d18b47\" height=\"45\" stroke=\"none\" width=\"45\" x=\"90\" y=\"45\"/><rect class=\"square light d7\" fill=\"#ffce9e\" height=\"45\" stroke=\"none\" width=\"45\" x=\"135\" y=\"45\"/><rect class=\"square dark e7\" fill=\"#d18b47\" height=\"45\" stroke=\"none\" width=\"45\" x=\"180\" y=\"45\"/><rect class=\"square light f7\" fill=\"#ffce9e\" height=\"45\" stroke=\"none\" width=\"45\" x=\"225\" y=\"45\"/><rect class=\"square dark g7\" fill=\"#d18b47\" height=\"45\" stroke=\"none\" width=\"45\" x=\"270\" y=\"45\"/><rect class=\"square light h7\" fill=\"#ffce9e\" height=\"45\" stroke=\"none\" width=\"45\" x=\"315\" y=\"45\"/><use transform=\"translate(315, 45)\" xlink:href=\"#white-queen\"/><rect class=\"square light a8\" fill=\"#ffce9e\" height=\"45\" stroke=\"none\" width=\"45\" x=\"0\" y=\"0\"/><rect class=\"square dark b8\" fill=\"#d18b47\" height=\"45\" stroke=\"none\" width=\"45\" x=\"45\" y=\"0\"/><rect class=\"square light c8\" fill=\"#ffce9e\" height=\"45\" stroke=\"none\" width=\"45\" x=\"90\" y=\"0\"/><rect class=\"square dark d8\" fill=\"#d18b47\" height=\"45\" stroke=\"none\" width=\"45\" x=\"135\" y=\"0\"/><rect class=\"square light e8\" fill=\"#ffce9e\" height=\"45\" stroke=\"none\" width=\"45\" x=\"180\" y=\"0\"/><use transform=\"translate(180, 0)\" xlink:href=\"#white-queen\"/><rect class=\"square dark f8\" fill=\"#d18b47\" height=\"45\" stroke=\"none\" width=\"45\" x=\"225\" y=\"0\"/><use transform=\"translate(225, 0)\" xlink:href=\"#white-queen\"/><rect class=\"square light g8\" fill=\"#ffce9e\" height=\"45\" stroke=\"none\" width=\"45\" x=\"270\" y=\"0\"/><use transform=\"translate(270, 0)\" xlink:href=\"#white-queen\"/><rect class=\"square dark h8\" fill=\"#d18b47\" height=\"45\" stroke=\"none\" width=\"45\" x=\"315\" y=\"0\"/><use transform=\"translate(315, 0)\" xlink:href=\"#white-bishop\"/><circle class=\"circle\" cx=\"112.5\" cy=\"337.5\" fill=\"none\" opacity=\"0.5\" r=\"20.25\" stroke=\"red\" stroke-width=\"4.5\"/><circle class=\"circle\" cx=\"157.5\" cy=\"337.5\" fill=\"none\" opacity=\"0.5\" r=\"20.25\" stroke=\"red\" stroke-width=\"4.5\"/><circle class=\"circle\" cx=\"157.5\" cy=\"292.5\" fill=\"none\" opacity=\"0.5\" r=\"20.25\" stroke=\"red\" stroke-width=\"4.5\"/><circle class=\"circle\" cx=\"22.5\" cy=\"157.5\" fill=\"none\" opacity=\"0.5\" r=\"20.25\" stroke=\"red\" stroke-width=\"4.5\"/><circle class=\"circle\" cx=\"22.5\" cy=\"112.5\" fill=\"none\" opacity=\"0.5\" r=\"20.25\" stroke=\"red\" stroke-width=\"4.5\"/><circle class=\"circle\" cx=\"67.5\" cy=\"112.5\" fill=\"none\" opacity=\"0.5\" r=\"20.25\" stroke=\"red\" stroke-width=\"4.5\"/></svg>"
      ],
      "text/plain": [
       "<IPython.core.display.SVG object>"
      ]
     },
     "metadata": {},
     "output_type": "display_data"
    },
    {
     "name": "stdout",
     "output_type": "stream",
     "text": [
      "59\n"
     ]
    },
    {
     "data": {
      "image/svg+xml": [
       "<svg version=\"1.1\" viewBox=\"0 0 360 360\" xmlns=\"http://www.w3.org/2000/svg\" xmlns:xlink=\"http://www.w3.org/1999/xlink\"><style>\n",
       ".square.light {\n",
       "fill: #cacaca;\n",
       "}\n",
       ".square.dark {\n",
       "fill: #898989;\n",
       "}\n",
       "#xx {\n",
       "fill: blue;\n",
       "stroke: red;\n",
       "}\n",
       ".square.light.lastmove {\n",
       "fill: #c3d889;\n",
       "}\n",
       ".square.dark.lastmove {\n",
       "fill: #92b167;\n",
       "}\n",
       ".check {\n",
       "fill: url(#check_gradient);\n",
       "}\n",
       ".arrow {\n",
       "stroke: #ff5858;\n",
       "fill: blue;\n",
       "}\n",
       ".mark {\n",
       "stroke: #959fff;\n",
       "fill: blue;\n",
       "}\n",
       "</style><defs><g class=\"white bishop\" fill=\"none\" fill-rule=\"evenodd\" id=\"white-bishop\" stroke=\"#000\" stroke-linecap=\"round\" stroke-linejoin=\"round\" stroke-width=\"1.5\"><g fill=\"#fff\" stroke-linecap=\"butt\"><path d=\"M9 36c3.39-.97 10.11.43 13.5-2 3.39 2.43 10.11 1.03 13.5 2 0 0 1.65.54 3 2-.68.97-1.65.99-3 .5-3.39-.97-10.11.46-13.5-1-3.39 1.46-10.11.03-13.5 1-1.354.49-2.323.47-3-.5 1.354-1.94 3-2 3-2zM15 32c2.5 2.5 12.5 2.5 15 0 .5-1.5 0-2 0-2 0-2.5-2.5-4-2.5-4 5.5-1.5 6-11.5-5-15.5-11 4-10.5 14-5 15.5 0 0-2.5 1.5-2.5 4 0 0-.5.5 0 2zM25 8a2.5 2.5 0 1 1-5 0 2.5 2.5 0 1 1 5 0z\"/></g><path d=\"M17.5 26h10M15 30h15m-7.5-14.5v5M20 18h5\" stroke-linejoin=\"miter\"/></g><g class=\"white queen\" fill=\"#fff\" fill-rule=\"evenodd\" id=\"white-queen\" stroke=\"#000\" stroke-linecap=\"round\" stroke-linejoin=\"round\" stroke-width=\"1.5\"><path d=\"M8 12a2 2 0 1 1-4 0 2 2 0 1 1 4 0zM24.5 7.5a2 2 0 1 1-4 0 2 2 0 1 1 4 0zM41 12a2 2 0 1 1-4 0 2 2 0 1 1 4 0zM16 8.5a2 2 0 1 1-4 0 2 2 0 1 1 4 0zM33 9a2 2 0 1 1-4 0 2 2 0 1 1 4 0z\"/><path d=\"M9 26c8.5-1.5 21-1.5 27 0l2-12-7 11V11l-5.5 13.5-3-15-3 15-5.5-14V25L7 14l2 12zM9 26c0 2 1.5 2 2.5 4 1 1.5 1 1 .5 3.5-1.5 1-1.5 2.5-1.5 2.5-1.5 1.5.5 2.5.5 2.5 6.5 1 16.5 1 23 0 0 0 1.5-1 0-2.5 0 0 .5-1.5-1-2.5-.5-2.5-.5-2 .5-3.5 1-2 2.5-2 2.5-4-8.5-1.5-18.5-1.5-27 0z\" stroke-linecap=\"butt\"/><path d=\"M11.5 30c3.5-1 18.5-1 22 0M12 33.5c6-1 15-1 21 0\" fill=\"none\"/></g></defs><rect class=\"square dark a1\" fill=\"#d18b47\" height=\"45\" stroke=\"none\" width=\"45\" x=\"0\" y=\"315\"/><rect class=\"square light b1\" fill=\"#ffce9e\" height=\"45\" stroke=\"none\" width=\"45\" x=\"45\" y=\"315\"/><rect class=\"square dark c1\" fill=\"#d18b47\" height=\"45\" stroke=\"none\" width=\"45\" x=\"90\" y=\"315\"/><rect class=\"square light d1\" fill=\"#ffce9e\" height=\"45\" stroke=\"none\" width=\"45\" x=\"135\" y=\"315\"/><rect class=\"square dark e1\" fill=\"#d18b47\" height=\"45\" stroke=\"none\" width=\"45\" x=\"180\" y=\"315\"/><rect class=\"square light f1\" fill=\"#ffce9e\" height=\"45\" stroke=\"none\" width=\"45\" x=\"225\" y=\"315\"/><rect class=\"square dark g1\" fill=\"#d18b47\" height=\"45\" stroke=\"none\" width=\"45\" x=\"270\" y=\"315\"/><rect class=\"square light h1\" fill=\"#ffce9e\" height=\"45\" stroke=\"none\" width=\"45\" x=\"315\" y=\"315\"/><rect class=\"square light a2\" fill=\"#ffce9e\" height=\"45\" stroke=\"none\" width=\"45\" x=\"0\" y=\"270\"/><rect class=\"square dark b2\" fill=\"#d18b47\" height=\"45\" stroke=\"none\" width=\"45\" x=\"45\" y=\"270\"/><rect class=\"square light c2\" fill=\"#ffce9e\" height=\"45\" stroke=\"none\" width=\"45\" x=\"90\" y=\"270\"/><rect class=\"square dark d2\" fill=\"#d18b47\" height=\"45\" stroke=\"none\" width=\"45\" x=\"135\" y=\"270\"/><rect class=\"square light e2\" fill=\"#ffce9e\" height=\"45\" stroke=\"none\" width=\"45\" x=\"180\" y=\"270\"/><rect class=\"square dark f2\" fill=\"#d18b47\" height=\"45\" stroke=\"none\" width=\"45\" x=\"225\" y=\"270\"/><rect class=\"square light g2\" fill=\"#ffce9e\" height=\"45\" stroke=\"none\" width=\"45\" x=\"270\" y=\"270\"/><rect class=\"square dark h2\" fill=\"#d18b47\" height=\"45\" stroke=\"none\" width=\"45\" x=\"315\" y=\"270\"/><rect class=\"square dark a3\" fill=\"#d18b47\" height=\"45\" stroke=\"none\" width=\"45\" x=\"0\" y=\"225\"/><rect class=\"square light b3\" fill=\"#ffce9e\" height=\"45\" stroke=\"none\" width=\"45\" x=\"45\" y=\"225\"/><rect class=\"square dark c3\" fill=\"#d18b47\" height=\"45\" stroke=\"none\" width=\"45\" x=\"90\" y=\"225\"/><rect class=\"square light d3\" fill=\"#ffce9e\" height=\"45\" stroke=\"none\" width=\"45\" x=\"135\" y=\"225\"/><rect class=\"square dark e3\" fill=\"#d18b47\" height=\"45\" stroke=\"none\" width=\"45\" x=\"180\" y=\"225\"/><rect class=\"square light f3\" fill=\"#ffce9e\" height=\"45\" stroke=\"none\" width=\"45\" x=\"225\" y=\"225\"/><rect class=\"square dark g3\" fill=\"#d18b47\" height=\"45\" stroke=\"none\" width=\"45\" x=\"270\" y=\"225\"/><rect class=\"square light h3\" fill=\"#ffce9e\" height=\"45\" stroke=\"none\" width=\"45\" x=\"315\" y=\"225\"/><rect class=\"square light a4\" fill=\"#ffce9e\" height=\"45\" stroke=\"none\" width=\"45\" x=\"0\" y=\"180\"/><rect class=\"square dark b4\" fill=\"#d18b47\" height=\"45\" stroke=\"none\" width=\"45\" x=\"45\" y=\"180\"/><rect class=\"square light c4\" fill=\"#ffce9e\" height=\"45\" stroke=\"none\" width=\"45\" x=\"90\" y=\"180\"/><rect class=\"square dark d4\" fill=\"#d18b47\" height=\"45\" stroke=\"none\" width=\"45\" x=\"135\" y=\"180\"/><use transform=\"translate(135, 180)\" xlink:href=\"#white-bishop\"/><rect class=\"square light e4\" fill=\"#ffce9e\" height=\"45\" stroke=\"none\" width=\"45\" x=\"180\" y=\"180\"/><rect class=\"square dark f4\" fill=\"#d18b47\" height=\"45\" stroke=\"none\" width=\"45\" x=\"225\" y=\"180\"/><rect class=\"square light g4\" fill=\"#ffce9e\" height=\"45\" stroke=\"none\" width=\"45\" x=\"270\" y=\"180\"/><rect class=\"square dark h4\" fill=\"#d18b47\" height=\"45\" stroke=\"none\" width=\"45\" x=\"315\" y=\"180\"/><rect class=\"square dark a5\" fill=\"#d18b47\" height=\"45\" stroke=\"none\" width=\"45\" x=\"0\" y=\"135\"/><rect class=\"square light b5\" fill=\"#ffce9e\" height=\"45\" stroke=\"none\" width=\"45\" x=\"45\" y=\"135\"/><rect class=\"square dark c5\" fill=\"#d18b47\" height=\"45\" stroke=\"none\" width=\"45\" x=\"90\" y=\"135\"/><rect class=\"square light d5\" fill=\"#ffce9e\" height=\"45\" stroke=\"none\" width=\"45\" x=\"135\" y=\"135\"/><rect class=\"square dark e5\" fill=\"#d18b47\" height=\"45\" stroke=\"none\" width=\"45\" x=\"180\" y=\"135\"/><rect class=\"square light f5\" fill=\"#ffce9e\" height=\"45\" stroke=\"none\" width=\"45\" x=\"225\" y=\"135\"/><rect class=\"square dark g5\" fill=\"#d18b47\" height=\"45\" stroke=\"none\" width=\"45\" x=\"270\" y=\"135\"/><rect class=\"square light h5\" fill=\"#ffce9e\" height=\"45\" stroke=\"none\" width=\"45\" x=\"315\" y=\"135\"/><rect class=\"square light a6\" fill=\"#ffce9e\" height=\"45\" stroke=\"none\" width=\"45\" x=\"0\" y=\"90\"/><rect class=\"square dark b6\" fill=\"#d18b47\" height=\"45\" stroke=\"none\" width=\"45\" x=\"45\" y=\"90\"/><rect class=\"square light c6\" fill=\"#ffce9e\" height=\"45\" stroke=\"none\" width=\"45\" x=\"90\" y=\"90\"/><rect class=\"square dark d6\" fill=\"#d18b47\" height=\"45\" stroke=\"none\" width=\"45\" x=\"135\" y=\"90\"/><rect class=\"square light e6\" fill=\"#ffce9e\" height=\"45\" stroke=\"none\" width=\"45\" x=\"180\" y=\"90\"/><rect class=\"square dark f6\" fill=\"#d18b47\" height=\"45\" stroke=\"none\" width=\"45\" x=\"225\" y=\"90\"/><rect class=\"square light g6\" fill=\"#ffce9e\" height=\"45\" stroke=\"none\" width=\"45\" x=\"270\" y=\"90\"/><rect class=\"square dark h6\" fill=\"#d18b47\" height=\"45\" stroke=\"none\" width=\"45\" x=\"315\" y=\"90\"/><rect class=\"square dark a7\" fill=\"#d18b47\" height=\"45\" stroke=\"none\" width=\"45\" x=\"0\" y=\"45\"/><rect class=\"square light b7\" fill=\"#ffce9e\" height=\"45\" stroke=\"none\" width=\"45\" x=\"45\" y=\"45\"/><rect class=\"square dark c7\" fill=\"#d18b47\" height=\"45\" stroke=\"none\" width=\"45\" x=\"90\" y=\"45\"/><rect class=\"square light d7\" fill=\"#ffce9e\" height=\"45\" stroke=\"none\" width=\"45\" x=\"135\" y=\"45\"/><rect class=\"square dark e7\" fill=\"#d18b47\" height=\"45\" stroke=\"none\" width=\"45\" x=\"180\" y=\"45\"/><rect class=\"square light f7\" fill=\"#ffce9e\" height=\"45\" stroke=\"none\" width=\"45\" x=\"225\" y=\"45\"/><rect class=\"square dark g7\" fill=\"#d18b47\" height=\"45\" stroke=\"none\" width=\"45\" x=\"270\" y=\"45\"/><rect class=\"square light h7\" fill=\"#ffce9e\" height=\"45\" stroke=\"none\" width=\"45\" x=\"315\" y=\"45\"/><use transform=\"translate(315, 45)\" xlink:href=\"#white-queen\"/><rect class=\"square light a8\" fill=\"#ffce9e\" height=\"45\" stroke=\"none\" width=\"45\" x=\"0\" y=\"0\"/><rect class=\"square dark b8\" fill=\"#d18b47\" height=\"45\" stroke=\"none\" width=\"45\" x=\"45\" y=\"0\"/><rect class=\"square light c8\" fill=\"#ffce9e\" height=\"45\" stroke=\"none\" width=\"45\" x=\"90\" y=\"0\"/><rect class=\"square dark d8\" fill=\"#d18b47\" height=\"45\" stroke=\"none\" width=\"45\" x=\"135\" y=\"0\"/><rect class=\"square light e8\" fill=\"#ffce9e\" height=\"45\" stroke=\"none\" width=\"45\" x=\"180\" y=\"0\"/><use transform=\"translate(180, 0)\" xlink:href=\"#white-queen\"/><rect class=\"square dark f8\" fill=\"#d18b47\" height=\"45\" stroke=\"none\" width=\"45\" x=\"225\" y=\"0\"/><use transform=\"translate(225, 0)\" xlink:href=\"#white-queen\"/><rect class=\"square light g8\" fill=\"#ffce9e\" height=\"45\" stroke=\"none\" width=\"45\" x=\"270\" y=\"0\"/><use transform=\"translate(270, 0)\" xlink:href=\"#white-queen\"/><rect class=\"square dark h8\" fill=\"#d18b47\" height=\"45\" stroke=\"none\" width=\"45\" x=\"315\" y=\"0\"/><circle class=\"circle\" cx=\"112.5\" cy=\"337.5\" fill=\"none\" opacity=\"0.5\" r=\"20.25\" stroke=\"red\" stroke-width=\"4.5\"/><circle class=\"circle\" cx=\"157.5\" cy=\"337.5\" fill=\"none\" opacity=\"0.5\" r=\"20.25\" stroke=\"red\" stroke-width=\"4.5\"/><circle class=\"circle\" cx=\"157.5\" cy=\"292.5\" fill=\"none\" opacity=\"0.5\" r=\"20.25\" stroke=\"red\" stroke-width=\"4.5\"/><circle class=\"circle\" cx=\"22.5\" cy=\"157.5\" fill=\"none\" opacity=\"0.5\" r=\"20.25\" stroke=\"red\" stroke-width=\"4.5\"/><circle class=\"circle\" cx=\"22.5\" cy=\"112.5\" fill=\"none\" opacity=\"0.5\" r=\"20.25\" stroke=\"red\" stroke-width=\"4.5\"/></svg>"
      ],
      "text/plain": [
       "<IPython.core.display.SVG object>"
      ]
     },
     "metadata": {},
     "output_type": "display_data"
    },
    {
     "name": "stdout",
     "output_type": "stream",
     "text": [
      "60\n"
     ]
    },
    {
     "data": {
      "image/svg+xml": [
       "<svg version=\"1.1\" viewBox=\"0 0 360 360\" xmlns=\"http://www.w3.org/2000/svg\" xmlns:xlink=\"http://www.w3.org/1999/xlink\"><style>\n",
       ".square.light {\n",
       "fill: #cacaca;\n",
       "}\n",
       ".square.dark {\n",
       "fill: #898989;\n",
       "}\n",
       "#xx {\n",
       "fill: blue;\n",
       "stroke: red;\n",
       "}\n",
       ".square.light.lastmove {\n",
       "fill: #c3d889;\n",
       "}\n",
       ".square.dark.lastmove {\n",
       "fill: #92b167;\n",
       "}\n",
       ".check {\n",
       "fill: url(#check_gradient);\n",
       "}\n",
       ".arrow {\n",
       "stroke: #ff5858;\n",
       "fill: blue;\n",
       "}\n",
       ".mark {\n",
       "stroke: #959fff;\n",
       "fill: blue;\n",
       "}\n",
       "</style><defs><g class=\"white bishop\" fill=\"none\" fill-rule=\"evenodd\" id=\"white-bishop\" stroke=\"#000\" stroke-linecap=\"round\" stroke-linejoin=\"round\" stroke-width=\"1.5\"><g fill=\"#fff\" stroke-linecap=\"butt\"><path d=\"M9 36c3.39-.97 10.11.43 13.5-2 3.39 2.43 10.11 1.03 13.5 2 0 0 1.65.54 3 2-.68.97-1.65.99-3 .5-3.39-.97-10.11.46-13.5-1-3.39 1.46-10.11.03-13.5 1-1.354.49-2.323.47-3-.5 1.354-1.94 3-2 3-2zM15 32c2.5 2.5 12.5 2.5 15 0 .5-1.5 0-2 0-2 0-2.5-2.5-4-2.5-4 5.5-1.5 6-11.5-5-15.5-11 4-10.5 14-5 15.5 0 0-2.5 1.5-2.5 4 0 0-.5.5 0 2zM25 8a2.5 2.5 0 1 1-5 0 2.5 2.5 0 1 1 5 0z\"/></g><path d=\"M17.5 26h10M15 30h15m-7.5-14.5v5M20 18h5\" stroke-linejoin=\"miter\"/></g><g class=\"white queen\" fill=\"#fff\" fill-rule=\"evenodd\" id=\"white-queen\" stroke=\"#000\" stroke-linecap=\"round\" stroke-linejoin=\"round\" stroke-width=\"1.5\"><path d=\"M8 12a2 2 0 1 1-4 0 2 2 0 1 1 4 0zM24.5 7.5a2 2 0 1 1-4 0 2 2 0 1 1 4 0zM41 12a2 2 0 1 1-4 0 2 2 0 1 1 4 0zM16 8.5a2 2 0 1 1-4 0 2 2 0 1 1 4 0zM33 9a2 2 0 1 1-4 0 2 2 0 1 1 4 0z\"/><path d=\"M9 26c8.5-1.5 21-1.5 27 0l2-12-7 11V11l-5.5 13.5-3-15-3 15-5.5-14V25L7 14l2 12zM9 26c0 2 1.5 2 2.5 4 1 1.5 1 1 .5 3.5-1.5 1-1.5 2.5-1.5 2.5-1.5 1.5.5 2.5.5 2.5 6.5 1 16.5 1 23 0 0 0 1.5-1 0-2.5 0 0 .5-1.5-1-2.5-.5-2.5-.5-2 .5-3.5 1-2 2.5-2 2.5-4-8.5-1.5-18.5-1.5-27 0z\" stroke-linecap=\"butt\"/><path d=\"M11.5 30c3.5-1 18.5-1 22 0M12 33.5c6-1 15-1 21 0\" fill=\"none\"/></g></defs><rect class=\"square dark a1\" fill=\"#d18b47\" height=\"45\" stroke=\"none\" width=\"45\" x=\"0\" y=\"315\"/><rect class=\"square light b1\" fill=\"#ffce9e\" height=\"45\" stroke=\"none\" width=\"45\" x=\"45\" y=\"315\"/><rect class=\"square dark c1\" fill=\"#d18b47\" height=\"45\" stroke=\"none\" width=\"45\" x=\"90\" y=\"315\"/><rect class=\"square light d1\" fill=\"#ffce9e\" height=\"45\" stroke=\"none\" width=\"45\" x=\"135\" y=\"315\"/><rect class=\"square dark e1\" fill=\"#d18b47\" height=\"45\" stroke=\"none\" width=\"45\" x=\"180\" y=\"315\"/><rect class=\"square light f1\" fill=\"#ffce9e\" height=\"45\" stroke=\"none\" width=\"45\" x=\"225\" y=\"315\"/><rect class=\"square dark g1\" fill=\"#d18b47\" height=\"45\" stroke=\"none\" width=\"45\" x=\"270\" y=\"315\"/><rect class=\"square light h1\" fill=\"#ffce9e\" height=\"45\" stroke=\"none\" width=\"45\" x=\"315\" y=\"315\"/><rect class=\"square light a2\" fill=\"#ffce9e\" height=\"45\" stroke=\"none\" width=\"45\" x=\"0\" y=\"270\"/><rect class=\"square dark b2\" fill=\"#d18b47\" height=\"45\" stroke=\"none\" width=\"45\" x=\"45\" y=\"270\"/><rect class=\"square light c2\" fill=\"#ffce9e\" height=\"45\" stroke=\"none\" width=\"45\" x=\"90\" y=\"270\"/><rect class=\"square dark d2\" fill=\"#d18b47\" height=\"45\" stroke=\"none\" width=\"45\" x=\"135\" y=\"270\"/><rect class=\"square light e2\" fill=\"#ffce9e\" height=\"45\" stroke=\"none\" width=\"45\" x=\"180\" y=\"270\"/><rect class=\"square dark f2\" fill=\"#d18b47\" height=\"45\" stroke=\"none\" width=\"45\" x=\"225\" y=\"270\"/><rect class=\"square light g2\" fill=\"#ffce9e\" height=\"45\" stroke=\"none\" width=\"45\" x=\"270\" y=\"270\"/><rect class=\"square dark h2\" fill=\"#d18b47\" height=\"45\" stroke=\"none\" width=\"45\" x=\"315\" y=\"270\"/><rect class=\"square dark a3\" fill=\"#d18b47\" height=\"45\" stroke=\"none\" width=\"45\" x=\"0\" y=\"225\"/><rect class=\"square light b3\" fill=\"#ffce9e\" height=\"45\" stroke=\"none\" width=\"45\" x=\"45\" y=\"225\"/><rect class=\"square dark c3\" fill=\"#d18b47\" height=\"45\" stroke=\"none\" width=\"45\" x=\"90\" y=\"225\"/><use transform=\"translate(90, 225)\" xlink:href=\"#white-bishop\"/><rect class=\"square light d3\" fill=\"#ffce9e\" height=\"45\" stroke=\"none\" width=\"45\" x=\"135\" y=\"225\"/><rect class=\"square dark e3\" fill=\"#d18b47\" height=\"45\" stroke=\"none\" width=\"45\" x=\"180\" y=\"225\"/><rect class=\"square light f3\" fill=\"#ffce9e\" height=\"45\" stroke=\"none\" width=\"45\" x=\"225\" y=\"225\"/><rect class=\"square dark g3\" fill=\"#d18b47\" height=\"45\" stroke=\"none\" width=\"45\" x=\"270\" y=\"225\"/><rect class=\"square light h3\" fill=\"#ffce9e\" height=\"45\" stroke=\"none\" width=\"45\" x=\"315\" y=\"225\"/><rect class=\"square light a4\" fill=\"#ffce9e\" height=\"45\" stroke=\"none\" width=\"45\" x=\"0\" y=\"180\"/><rect class=\"square dark b4\" fill=\"#d18b47\" height=\"45\" stroke=\"none\" width=\"45\" x=\"45\" y=\"180\"/><rect class=\"square light c4\" fill=\"#ffce9e\" height=\"45\" stroke=\"none\" width=\"45\" x=\"90\" y=\"180\"/><rect class=\"square dark d4\" fill=\"#d18b47\" height=\"45\" stroke=\"none\" width=\"45\" x=\"135\" y=\"180\"/><rect class=\"square light e4\" fill=\"#ffce9e\" height=\"45\" stroke=\"none\" width=\"45\" x=\"180\" y=\"180\"/><rect class=\"square dark f4\" fill=\"#d18b47\" height=\"45\" stroke=\"none\" width=\"45\" x=\"225\" y=\"180\"/><rect class=\"square light g4\" fill=\"#ffce9e\" height=\"45\" stroke=\"none\" width=\"45\" x=\"270\" y=\"180\"/><rect class=\"square dark h4\" fill=\"#d18b47\" height=\"45\" stroke=\"none\" width=\"45\" x=\"315\" y=\"180\"/><rect class=\"square dark a5\" fill=\"#d18b47\" height=\"45\" stroke=\"none\" width=\"45\" x=\"0\" y=\"135\"/><rect class=\"square light b5\" fill=\"#ffce9e\" height=\"45\" stroke=\"none\" width=\"45\" x=\"45\" y=\"135\"/><rect class=\"square dark c5\" fill=\"#d18b47\" height=\"45\" stroke=\"none\" width=\"45\" x=\"90\" y=\"135\"/><rect class=\"square light d5\" fill=\"#ffce9e\" height=\"45\" stroke=\"none\" width=\"45\" x=\"135\" y=\"135\"/><rect class=\"square dark e5\" fill=\"#d18b47\" height=\"45\" stroke=\"none\" width=\"45\" x=\"180\" y=\"135\"/><rect class=\"square light f5\" fill=\"#ffce9e\" height=\"45\" stroke=\"none\" width=\"45\" x=\"225\" y=\"135\"/><rect class=\"square dark g5\" fill=\"#d18b47\" height=\"45\" stroke=\"none\" width=\"45\" x=\"270\" y=\"135\"/><rect class=\"square light h5\" fill=\"#ffce9e\" height=\"45\" stroke=\"none\" width=\"45\" x=\"315\" y=\"135\"/><rect class=\"square light a6\" fill=\"#ffce9e\" height=\"45\" stroke=\"none\" width=\"45\" x=\"0\" y=\"90\"/><rect class=\"square dark b6\" fill=\"#d18b47\" height=\"45\" stroke=\"none\" width=\"45\" x=\"45\" y=\"90\"/><rect class=\"square light c6\" fill=\"#ffce9e\" height=\"45\" stroke=\"none\" width=\"45\" x=\"90\" y=\"90\"/><rect class=\"square dark d6\" fill=\"#d18b47\" height=\"45\" stroke=\"none\" width=\"45\" x=\"135\" y=\"90\"/><rect class=\"square light e6\" fill=\"#ffce9e\" height=\"45\" stroke=\"none\" width=\"45\" x=\"180\" y=\"90\"/><rect class=\"square dark f6\" fill=\"#d18b47\" height=\"45\" stroke=\"none\" width=\"45\" x=\"225\" y=\"90\"/><rect class=\"square light g6\" fill=\"#ffce9e\" height=\"45\" stroke=\"none\" width=\"45\" x=\"270\" y=\"90\"/><rect class=\"square dark h6\" fill=\"#d18b47\" height=\"45\" stroke=\"none\" width=\"45\" x=\"315\" y=\"90\"/><rect class=\"square dark a7\" fill=\"#d18b47\" height=\"45\" stroke=\"none\" width=\"45\" x=\"0\" y=\"45\"/><rect class=\"square light b7\" fill=\"#ffce9e\" height=\"45\" stroke=\"none\" width=\"45\" x=\"45\" y=\"45\"/><rect class=\"square dark c7\" fill=\"#d18b47\" height=\"45\" stroke=\"none\" width=\"45\" x=\"90\" y=\"45\"/><rect class=\"square light d7\" fill=\"#ffce9e\" height=\"45\" stroke=\"none\" width=\"45\" x=\"135\" y=\"45\"/><rect class=\"square dark e7\" fill=\"#d18b47\" height=\"45\" stroke=\"none\" width=\"45\" x=\"180\" y=\"45\"/><rect class=\"square light f7\" fill=\"#ffce9e\" height=\"45\" stroke=\"none\" width=\"45\" x=\"225\" y=\"45\"/><rect class=\"square dark g7\" fill=\"#d18b47\" height=\"45\" stroke=\"none\" width=\"45\" x=\"270\" y=\"45\"/><rect class=\"square light h7\" fill=\"#ffce9e\" height=\"45\" stroke=\"none\" width=\"45\" x=\"315\" y=\"45\"/><use transform=\"translate(315, 45)\" xlink:href=\"#white-queen\"/><rect class=\"square light a8\" fill=\"#ffce9e\" height=\"45\" stroke=\"none\" width=\"45\" x=\"0\" y=\"0\"/><rect class=\"square dark b8\" fill=\"#d18b47\" height=\"45\" stroke=\"none\" width=\"45\" x=\"45\" y=\"0\"/><rect class=\"square light c8\" fill=\"#ffce9e\" height=\"45\" stroke=\"none\" width=\"45\" x=\"90\" y=\"0\"/><rect class=\"square dark d8\" fill=\"#d18b47\" height=\"45\" stroke=\"none\" width=\"45\" x=\"135\" y=\"0\"/><rect class=\"square light e8\" fill=\"#ffce9e\" height=\"45\" stroke=\"none\" width=\"45\" x=\"180\" y=\"0\"/><use transform=\"translate(180, 0)\" xlink:href=\"#white-queen\"/><rect class=\"square dark f8\" fill=\"#d18b47\" height=\"45\" stroke=\"none\" width=\"45\" x=\"225\" y=\"0\"/><use transform=\"translate(225, 0)\" xlink:href=\"#white-queen\"/><rect class=\"square light g8\" fill=\"#ffce9e\" height=\"45\" stroke=\"none\" width=\"45\" x=\"270\" y=\"0\"/><use transform=\"translate(270, 0)\" xlink:href=\"#white-queen\"/><rect class=\"square dark h8\" fill=\"#d18b47\" height=\"45\" stroke=\"none\" width=\"45\" x=\"315\" y=\"0\"/><circle class=\"circle\" cx=\"112.5\" cy=\"337.5\" fill=\"none\" opacity=\"0.5\" r=\"20.25\" stroke=\"red\" stroke-width=\"4.5\"/><circle class=\"circle\" cx=\"157.5\" cy=\"337.5\" fill=\"none\" opacity=\"0.5\" r=\"20.25\" stroke=\"red\" stroke-width=\"4.5\"/><circle class=\"circle\" cx=\"22.5\" cy=\"112.5\" fill=\"none\" opacity=\"0.5\" r=\"20.25\" stroke=\"red\" stroke-width=\"4.5\"/><circle class=\"circle\" cx=\"67.5\" cy=\"112.5\" fill=\"none\" opacity=\"0.5\" r=\"20.25\" stroke=\"red\" stroke-width=\"4.5\"/></svg>"
      ],
      "text/plain": [
       "<IPython.core.display.SVG object>"
      ]
     },
     "metadata": {},
     "output_type": "display_data"
    },
    {
     "name": "stdout",
     "output_type": "stream",
     "text": [
      "61\n"
     ]
    },
    {
     "data": {
      "image/svg+xml": [
       "<svg version=\"1.1\" viewBox=\"0 0 360 360\" xmlns=\"http://www.w3.org/2000/svg\" xmlns:xlink=\"http://www.w3.org/1999/xlink\"><style>\n",
       ".square.light {\n",
       "fill: #cacaca;\n",
       "}\n",
       ".square.dark {\n",
       "fill: #898989;\n",
       "}\n",
       "#xx {\n",
       "fill: blue;\n",
       "stroke: red;\n",
       "}\n",
       ".square.light.lastmove {\n",
       "fill: #c3d889;\n",
       "}\n",
       ".square.dark.lastmove {\n",
       "fill: #92b167;\n",
       "}\n",
       ".check {\n",
       "fill: url(#check_gradient);\n",
       "}\n",
       ".arrow {\n",
       "stroke: #ff5858;\n",
       "fill: blue;\n",
       "}\n",
       ".mark {\n",
       "stroke: #959fff;\n",
       "fill: blue;\n",
       "}\n",
       "</style><defs><g class=\"white bishop\" fill=\"none\" fill-rule=\"evenodd\" id=\"white-bishop\" stroke=\"#000\" stroke-linecap=\"round\" stroke-linejoin=\"round\" stroke-width=\"1.5\"><g fill=\"#fff\" stroke-linecap=\"butt\"><path d=\"M9 36c3.39-.97 10.11.43 13.5-2 3.39 2.43 10.11 1.03 13.5 2 0 0 1.65.54 3 2-.68.97-1.65.99-3 .5-3.39-.97-10.11.46-13.5-1-3.39 1.46-10.11.03-13.5 1-1.354.49-2.323.47-3-.5 1.354-1.94 3-2 3-2zM15 32c2.5 2.5 12.5 2.5 15 0 .5-1.5 0-2 0-2 0-2.5-2.5-4-2.5-4 5.5-1.5 6-11.5-5-15.5-11 4-10.5 14-5 15.5 0 0-2.5 1.5-2.5 4 0 0-.5.5 0 2zM25 8a2.5 2.5 0 1 1-5 0 2.5 2.5 0 1 1 5 0z\"/></g><path d=\"M17.5 26h10M15 30h15m-7.5-14.5v5M20 18h5\" stroke-linejoin=\"miter\"/></g><g class=\"white queen\" fill=\"#fff\" fill-rule=\"evenodd\" id=\"white-queen\" stroke=\"#000\" stroke-linecap=\"round\" stroke-linejoin=\"round\" stroke-width=\"1.5\"><path d=\"M8 12a2 2 0 1 1-4 0 2 2 0 1 1 4 0zM24.5 7.5a2 2 0 1 1-4 0 2 2 0 1 1 4 0zM41 12a2 2 0 1 1-4 0 2 2 0 1 1 4 0zM16 8.5a2 2 0 1 1-4 0 2 2 0 1 1 4 0zM33 9a2 2 0 1 1-4 0 2 2 0 1 1 4 0z\"/><path d=\"M9 26c8.5-1.5 21-1.5 27 0l2-12-7 11V11l-5.5 13.5-3-15-3 15-5.5-14V25L7 14l2 12zM9 26c0 2 1.5 2 2.5 4 1 1.5 1 1 .5 3.5-1.5 1-1.5 2.5-1.5 2.5-1.5 1.5.5 2.5.5 2.5 6.5 1 16.5 1 23 0 0 0 1.5-1 0-2.5 0 0 .5-1.5-1-2.5-.5-2.5-.5-2 .5-3.5 1-2 2.5-2 2.5-4-8.5-1.5-18.5-1.5-27 0z\" stroke-linecap=\"butt\"/><path d=\"M11.5 30c3.5-1 18.5-1 22 0M12 33.5c6-1 15-1 21 0\" fill=\"none\"/></g></defs><rect class=\"square dark a1\" fill=\"#d18b47\" height=\"45\" stroke=\"none\" width=\"45\" x=\"0\" y=\"315\"/><rect class=\"square light b1\" fill=\"#ffce9e\" height=\"45\" stroke=\"none\" width=\"45\" x=\"45\" y=\"315\"/><rect class=\"square dark c1\" fill=\"#d18b47\" height=\"45\" stroke=\"none\" width=\"45\" x=\"90\" y=\"315\"/><rect class=\"square light d1\" fill=\"#ffce9e\" height=\"45\" stroke=\"none\" width=\"45\" x=\"135\" y=\"315\"/><rect class=\"square dark e1\" fill=\"#d18b47\" height=\"45\" stroke=\"none\" width=\"45\" x=\"180\" y=\"315\"/><rect class=\"square light f1\" fill=\"#ffce9e\" height=\"45\" stroke=\"none\" width=\"45\" x=\"225\" y=\"315\"/><rect class=\"square dark g1\" fill=\"#d18b47\" height=\"45\" stroke=\"none\" width=\"45\" x=\"270\" y=\"315\"/><rect class=\"square light h1\" fill=\"#ffce9e\" height=\"45\" stroke=\"none\" width=\"45\" x=\"315\" y=\"315\"/><rect class=\"square light a2\" fill=\"#ffce9e\" height=\"45\" stroke=\"none\" width=\"45\" x=\"0\" y=\"270\"/><rect class=\"square dark b2\" fill=\"#d18b47\" height=\"45\" stroke=\"none\" width=\"45\" x=\"45\" y=\"270\"/><rect class=\"square light c2\" fill=\"#ffce9e\" height=\"45\" stroke=\"none\" width=\"45\" x=\"90\" y=\"270\"/><rect class=\"square dark d2\" fill=\"#d18b47\" height=\"45\" stroke=\"none\" width=\"45\" x=\"135\" y=\"270\"/><rect class=\"square light e2\" fill=\"#ffce9e\" height=\"45\" stroke=\"none\" width=\"45\" x=\"180\" y=\"270\"/><rect class=\"square dark f2\" fill=\"#d18b47\" height=\"45\" stroke=\"none\" width=\"45\" x=\"225\" y=\"270\"/><rect class=\"square light g2\" fill=\"#ffce9e\" height=\"45\" stroke=\"none\" width=\"45\" x=\"270\" y=\"270\"/><rect class=\"square dark h2\" fill=\"#d18b47\" height=\"45\" stroke=\"none\" width=\"45\" x=\"315\" y=\"270\"/><rect class=\"square dark a3\" fill=\"#d18b47\" height=\"45\" stroke=\"none\" width=\"45\" x=\"0\" y=\"225\"/><rect class=\"square light b3\" fill=\"#ffce9e\" height=\"45\" stroke=\"none\" width=\"45\" x=\"45\" y=\"225\"/><use transform=\"translate(45, 225)\" xlink:href=\"#white-bishop\"/><rect class=\"square dark c3\" fill=\"#d18b47\" height=\"45\" stroke=\"none\" width=\"45\" x=\"90\" y=\"225\"/><rect class=\"square light d3\" fill=\"#ffce9e\" height=\"45\" stroke=\"none\" width=\"45\" x=\"135\" y=\"225\"/><rect class=\"square dark e3\" fill=\"#d18b47\" height=\"45\" stroke=\"none\" width=\"45\" x=\"180\" y=\"225\"/><rect class=\"square light f3\" fill=\"#ffce9e\" height=\"45\" stroke=\"none\" width=\"45\" x=\"225\" y=\"225\"/><rect class=\"square dark g3\" fill=\"#d18b47\" height=\"45\" stroke=\"none\" width=\"45\" x=\"270\" y=\"225\"/><rect class=\"square light h3\" fill=\"#ffce9e\" height=\"45\" stroke=\"none\" width=\"45\" x=\"315\" y=\"225\"/><rect class=\"square light a4\" fill=\"#ffce9e\" height=\"45\" stroke=\"none\" width=\"45\" x=\"0\" y=\"180\"/><rect class=\"square dark b4\" fill=\"#d18b47\" height=\"45\" stroke=\"none\" width=\"45\" x=\"45\" y=\"180\"/><rect class=\"square light c4\" fill=\"#ffce9e\" height=\"45\" stroke=\"none\" width=\"45\" x=\"90\" y=\"180\"/><rect class=\"square dark d4\" fill=\"#d18b47\" height=\"45\" stroke=\"none\" width=\"45\" x=\"135\" y=\"180\"/><rect class=\"square light e4\" fill=\"#ffce9e\" height=\"45\" stroke=\"none\" width=\"45\" x=\"180\" y=\"180\"/><rect class=\"square dark f4\" fill=\"#d18b47\" height=\"45\" stroke=\"none\" width=\"45\" x=\"225\" y=\"180\"/><rect class=\"square light g4\" fill=\"#ffce9e\" height=\"45\" stroke=\"none\" width=\"45\" x=\"270\" y=\"180\"/><rect class=\"square dark h4\" fill=\"#d18b47\" height=\"45\" stroke=\"none\" width=\"45\" x=\"315\" y=\"180\"/><rect class=\"square dark a5\" fill=\"#d18b47\" height=\"45\" stroke=\"none\" width=\"45\" x=\"0\" y=\"135\"/><rect class=\"square light b5\" fill=\"#ffce9e\" height=\"45\" stroke=\"none\" width=\"45\" x=\"45\" y=\"135\"/><rect class=\"square dark c5\" fill=\"#d18b47\" height=\"45\" stroke=\"none\" width=\"45\" x=\"90\" y=\"135\"/><rect class=\"square light d5\" fill=\"#ffce9e\" height=\"45\" stroke=\"none\" width=\"45\" x=\"135\" y=\"135\"/><rect class=\"square dark e5\" fill=\"#d18b47\" height=\"45\" stroke=\"none\" width=\"45\" x=\"180\" y=\"135\"/><rect class=\"square light f5\" fill=\"#ffce9e\" height=\"45\" stroke=\"none\" width=\"45\" x=\"225\" y=\"135\"/><rect class=\"square dark g5\" fill=\"#d18b47\" height=\"45\" stroke=\"none\" width=\"45\" x=\"270\" y=\"135\"/><rect class=\"square light h5\" fill=\"#ffce9e\" height=\"45\" stroke=\"none\" width=\"45\" x=\"315\" y=\"135\"/><rect class=\"square light a6\" fill=\"#ffce9e\" height=\"45\" stroke=\"none\" width=\"45\" x=\"0\" y=\"90\"/><rect class=\"square dark b6\" fill=\"#d18b47\" height=\"45\" stroke=\"none\" width=\"45\" x=\"45\" y=\"90\"/><rect class=\"square light c6\" fill=\"#ffce9e\" height=\"45\" stroke=\"none\" width=\"45\" x=\"90\" y=\"90\"/><rect class=\"square dark d6\" fill=\"#d18b47\" height=\"45\" stroke=\"none\" width=\"45\" x=\"135\" y=\"90\"/><rect class=\"square light e6\" fill=\"#ffce9e\" height=\"45\" stroke=\"none\" width=\"45\" x=\"180\" y=\"90\"/><rect class=\"square dark f6\" fill=\"#d18b47\" height=\"45\" stroke=\"none\" width=\"45\" x=\"225\" y=\"90\"/><rect class=\"square light g6\" fill=\"#ffce9e\" height=\"45\" stroke=\"none\" width=\"45\" x=\"270\" y=\"90\"/><rect class=\"square dark h6\" fill=\"#d18b47\" height=\"45\" stroke=\"none\" width=\"45\" x=\"315\" y=\"90\"/><use transform=\"translate(315, 90)\" xlink:href=\"#white-queen\"/><rect class=\"square dark a7\" fill=\"#d18b47\" height=\"45\" stroke=\"none\" width=\"45\" x=\"0\" y=\"45\"/><rect class=\"square light b7\" fill=\"#ffce9e\" height=\"45\" stroke=\"none\" width=\"45\" x=\"45\" y=\"45\"/><rect class=\"square dark c7\" fill=\"#d18b47\" height=\"45\" stroke=\"none\" width=\"45\" x=\"90\" y=\"45\"/><rect class=\"square light d7\" fill=\"#ffce9e\" height=\"45\" stroke=\"none\" width=\"45\" x=\"135\" y=\"45\"/><rect class=\"square dark e7\" fill=\"#d18b47\" height=\"45\" stroke=\"none\" width=\"45\" x=\"180\" y=\"45\"/><rect class=\"square light f7\" fill=\"#ffce9e\" height=\"45\" stroke=\"none\" width=\"45\" x=\"225\" y=\"45\"/><rect class=\"square dark g7\" fill=\"#d18b47\" height=\"45\" stroke=\"none\" width=\"45\" x=\"270\" y=\"45\"/><use transform=\"translate(270, 45)\" xlink:href=\"#white-queen\"/><rect class=\"square light h7\" fill=\"#ffce9e\" height=\"45\" stroke=\"none\" width=\"45\" x=\"315\" y=\"45\"/><rect class=\"square light a8\" fill=\"#ffce9e\" height=\"45\" stroke=\"none\" width=\"45\" x=\"0\" y=\"0\"/><rect class=\"square dark b8\" fill=\"#d18b47\" height=\"45\" stroke=\"none\" width=\"45\" x=\"45\" y=\"0\"/><rect class=\"square light c8\" fill=\"#ffce9e\" height=\"45\" stroke=\"none\" width=\"45\" x=\"90\" y=\"0\"/><rect class=\"square dark d8\" fill=\"#d18b47\" height=\"45\" stroke=\"none\" width=\"45\" x=\"135\" y=\"0\"/><rect class=\"square light e8\" fill=\"#ffce9e\" height=\"45\" stroke=\"none\" width=\"45\" x=\"180\" y=\"0\"/><use transform=\"translate(180, 0)\" xlink:href=\"#white-queen\"/><rect class=\"square dark f8\" fill=\"#d18b47\" height=\"45\" stroke=\"none\" width=\"45\" x=\"225\" y=\"0\"/><use transform=\"translate(225, 0)\" xlink:href=\"#white-queen\"/><rect class=\"square light g8\" fill=\"#ffce9e\" height=\"45\" stroke=\"none\" width=\"45\" x=\"270\" y=\"0\"/><rect class=\"square dark h8\" fill=\"#d18b47\" height=\"45\" stroke=\"none\" width=\"45\" x=\"315\" y=\"0\"/><circle class=\"circle\" cx=\"67.5\" cy=\"337.5\" fill=\"none\" opacity=\"0.5\" r=\"20.25\" stroke=\"red\" stroke-width=\"4.5\"/><circle class=\"circle\" cx=\"157.5\" cy=\"247.5\" fill=\"none\" opacity=\"0.5\" r=\"20.25\" stroke=\"red\" stroke-width=\"4.5\"/><circle class=\"circle\" cx=\"22.5\" cy=\"157.5\" fill=\"none\" opacity=\"0.5\" r=\"20.25\" stroke=\"red\" stroke-width=\"4.5\"/></svg>"
      ],
      "text/plain": [
       "<IPython.core.display.SVG object>"
      ]
     },
     "metadata": {},
     "output_type": "display_data"
    },
    {
     "name": "stdout",
     "output_type": "stream",
     "text": [
      "62\n"
     ]
    },
    {
     "data": {
      "image/svg+xml": [
       "<svg version=\"1.1\" viewBox=\"0 0 360 360\" xmlns=\"http://www.w3.org/2000/svg\" xmlns:xlink=\"http://www.w3.org/1999/xlink\"><style>\n",
       ".square.light {\n",
       "fill: #cacaca;\n",
       "}\n",
       ".square.dark {\n",
       "fill: #898989;\n",
       "}\n",
       "#xx {\n",
       "fill: blue;\n",
       "stroke: red;\n",
       "}\n",
       ".square.light.lastmove {\n",
       "fill: #c3d889;\n",
       "}\n",
       ".square.dark.lastmove {\n",
       "fill: #92b167;\n",
       "}\n",
       ".check {\n",
       "fill: url(#check_gradient);\n",
       "}\n",
       ".arrow {\n",
       "stroke: #ff5858;\n",
       "fill: blue;\n",
       "}\n",
       ".mark {\n",
       "stroke: #959fff;\n",
       "fill: blue;\n",
       "}\n",
       "</style><defs><g class=\"white bishop\" fill=\"none\" fill-rule=\"evenodd\" id=\"white-bishop\" stroke=\"#000\" stroke-linecap=\"round\" stroke-linejoin=\"round\" stroke-width=\"1.5\"><g fill=\"#fff\" stroke-linecap=\"butt\"><path d=\"M9 36c3.39-.97 10.11.43 13.5-2 3.39 2.43 10.11 1.03 13.5 2 0 0 1.65.54 3 2-.68.97-1.65.99-3 .5-3.39-.97-10.11.46-13.5-1-3.39 1.46-10.11.03-13.5 1-1.354.49-2.323.47-3-.5 1.354-1.94 3-2 3-2zM15 32c2.5 2.5 12.5 2.5 15 0 .5-1.5 0-2 0-2 0-2.5-2.5-4-2.5-4 5.5-1.5 6-11.5-5-15.5-11 4-10.5 14-5 15.5 0 0-2.5 1.5-2.5 4 0 0-.5.5 0 2zM25 8a2.5 2.5 0 1 1-5 0 2.5 2.5 0 1 1 5 0z\"/></g><path d=\"M17.5 26h10M15 30h15m-7.5-14.5v5M20 18h5\" stroke-linejoin=\"miter\"/></g><g class=\"white queen\" fill=\"#fff\" fill-rule=\"evenodd\" id=\"white-queen\" stroke=\"#000\" stroke-linecap=\"round\" stroke-linejoin=\"round\" stroke-width=\"1.5\"><path d=\"M8 12a2 2 0 1 1-4 0 2 2 0 1 1 4 0zM24.5 7.5a2 2 0 1 1-4 0 2 2 0 1 1 4 0zM41 12a2 2 0 1 1-4 0 2 2 0 1 1 4 0zM16 8.5a2 2 0 1 1-4 0 2 2 0 1 1 4 0zM33 9a2 2 0 1 1-4 0 2 2 0 1 1 4 0z\"/><path d=\"M9 26c8.5-1.5 21-1.5 27 0l2-12-7 11V11l-5.5 13.5-3-15-3 15-5.5-14V25L7 14l2 12zM9 26c0 2 1.5 2 2.5 4 1 1.5 1 1 .5 3.5-1.5 1-1.5 2.5-1.5 2.5-1.5 1.5.5 2.5.5 2.5 6.5 1 16.5 1 23 0 0 0 1.5-1 0-2.5 0 0 .5-1.5-1-2.5-.5-2.5-.5-2 .5-3.5 1-2 2.5-2 2.5-4-8.5-1.5-18.5-1.5-27 0z\" stroke-linecap=\"butt\"/><path d=\"M11.5 30c3.5-1 18.5-1 22 0M12 33.5c6-1 15-1 21 0\" fill=\"none\"/></g></defs><rect class=\"square dark a1\" fill=\"#d18b47\" height=\"45\" stroke=\"none\" width=\"45\" x=\"0\" y=\"315\"/><rect class=\"square light b1\" fill=\"#ffce9e\" height=\"45\" stroke=\"none\" width=\"45\" x=\"45\" y=\"315\"/><rect class=\"square dark c1\" fill=\"#d18b47\" height=\"45\" stroke=\"none\" width=\"45\" x=\"90\" y=\"315\"/><rect class=\"square light d1\" fill=\"#ffce9e\" height=\"45\" stroke=\"none\" width=\"45\" x=\"135\" y=\"315\"/><rect class=\"square dark e1\" fill=\"#d18b47\" height=\"45\" stroke=\"none\" width=\"45\" x=\"180\" y=\"315\"/><rect class=\"square light f1\" fill=\"#ffce9e\" height=\"45\" stroke=\"none\" width=\"45\" x=\"225\" y=\"315\"/><rect class=\"square dark g1\" fill=\"#d18b47\" height=\"45\" stroke=\"none\" width=\"45\" x=\"270\" y=\"315\"/><rect class=\"square light h1\" fill=\"#ffce9e\" height=\"45\" stroke=\"none\" width=\"45\" x=\"315\" y=\"315\"/><rect class=\"square light a2\" fill=\"#ffce9e\" height=\"45\" stroke=\"none\" width=\"45\" x=\"0\" y=\"270\"/><rect class=\"square dark b2\" fill=\"#d18b47\" height=\"45\" stroke=\"none\" width=\"45\" x=\"45\" y=\"270\"/><rect class=\"square light c2\" fill=\"#ffce9e\" height=\"45\" stroke=\"none\" width=\"45\" x=\"90\" y=\"270\"/><rect class=\"square dark d2\" fill=\"#d18b47\" height=\"45\" stroke=\"none\" width=\"45\" x=\"135\" y=\"270\"/><rect class=\"square light e2\" fill=\"#ffce9e\" height=\"45\" stroke=\"none\" width=\"45\" x=\"180\" y=\"270\"/><rect class=\"square dark f2\" fill=\"#d18b47\" height=\"45\" stroke=\"none\" width=\"45\" x=\"225\" y=\"270\"/><rect class=\"square light g2\" fill=\"#ffce9e\" height=\"45\" stroke=\"none\" width=\"45\" x=\"270\" y=\"270\"/><rect class=\"square dark h2\" fill=\"#d18b47\" height=\"45\" stroke=\"none\" width=\"45\" x=\"315\" y=\"270\"/><rect class=\"square dark a3\" fill=\"#d18b47\" height=\"45\" stroke=\"none\" width=\"45\" x=\"0\" y=\"225\"/><rect class=\"square light b3\" fill=\"#ffce9e\" height=\"45\" stroke=\"none\" width=\"45\" x=\"45\" y=\"225\"/><rect class=\"square dark c3\" fill=\"#d18b47\" height=\"45\" stroke=\"none\" width=\"45\" x=\"90\" y=\"225\"/><rect class=\"square light d3\" fill=\"#ffce9e\" height=\"45\" stroke=\"none\" width=\"45\" x=\"135\" y=\"225\"/><rect class=\"square dark e3\" fill=\"#d18b47\" height=\"45\" stroke=\"none\" width=\"45\" x=\"180\" y=\"225\"/><rect class=\"square light f3\" fill=\"#ffce9e\" height=\"45\" stroke=\"none\" width=\"45\" x=\"225\" y=\"225\"/><rect class=\"square dark g3\" fill=\"#d18b47\" height=\"45\" stroke=\"none\" width=\"45\" x=\"270\" y=\"225\"/><rect class=\"square light h3\" fill=\"#ffce9e\" height=\"45\" stroke=\"none\" width=\"45\" x=\"315\" y=\"225\"/><rect class=\"square light a4\" fill=\"#ffce9e\" height=\"45\" stroke=\"none\" width=\"45\" x=\"0\" y=\"180\"/><rect class=\"square dark b4\" fill=\"#d18b47\" height=\"45\" stroke=\"none\" width=\"45\" x=\"45\" y=\"180\"/><use transform=\"translate(45, 180)\" xlink:href=\"#white-bishop\"/><rect class=\"square light c4\" fill=\"#ffce9e\" height=\"45\" stroke=\"none\" width=\"45\" x=\"90\" y=\"180\"/><rect class=\"square dark d4\" fill=\"#d18b47\" height=\"45\" stroke=\"none\" width=\"45\" x=\"135\" y=\"180\"/><rect class=\"square light e4\" fill=\"#ffce9e\" height=\"45\" stroke=\"none\" width=\"45\" x=\"180\" y=\"180\"/><rect class=\"square dark f4\" fill=\"#d18b47\" height=\"45\" stroke=\"none\" width=\"45\" x=\"225\" y=\"180\"/><rect class=\"square light g4\" fill=\"#ffce9e\" height=\"45\" stroke=\"none\" width=\"45\" x=\"270\" y=\"180\"/><rect class=\"square dark h4\" fill=\"#d18b47\" height=\"45\" stroke=\"none\" width=\"45\" x=\"315\" y=\"180\"/><rect class=\"square dark a5\" fill=\"#d18b47\" height=\"45\" stroke=\"none\" width=\"45\" x=\"0\" y=\"135\"/><rect class=\"square light b5\" fill=\"#ffce9e\" height=\"45\" stroke=\"none\" width=\"45\" x=\"45\" y=\"135\"/><rect class=\"square dark c5\" fill=\"#d18b47\" height=\"45\" stroke=\"none\" width=\"45\" x=\"90\" y=\"135\"/><rect class=\"square light d5\" fill=\"#ffce9e\" height=\"45\" stroke=\"none\" width=\"45\" x=\"135\" y=\"135\"/><rect class=\"square dark e5\" fill=\"#d18b47\" height=\"45\" stroke=\"none\" width=\"45\" x=\"180\" y=\"135\"/><rect class=\"square light f5\" fill=\"#ffce9e\" height=\"45\" stroke=\"none\" width=\"45\" x=\"225\" y=\"135\"/><rect class=\"square dark g5\" fill=\"#d18b47\" height=\"45\" stroke=\"none\" width=\"45\" x=\"270\" y=\"135\"/><rect class=\"square light h5\" fill=\"#ffce9e\" height=\"45\" stroke=\"none\" width=\"45\" x=\"315\" y=\"135\"/><rect class=\"square light a6\" fill=\"#ffce9e\" height=\"45\" stroke=\"none\" width=\"45\" x=\"0\" y=\"90\"/><rect class=\"square dark b6\" fill=\"#d18b47\" height=\"45\" stroke=\"none\" width=\"45\" x=\"45\" y=\"90\"/><rect class=\"square light c6\" fill=\"#ffce9e\" height=\"45\" stroke=\"none\" width=\"45\" x=\"90\" y=\"90\"/><rect class=\"square dark d6\" fill=\"#d18b47\" height=\"45\" stroke=\"none\" width=\"45\" x=\"135\" y=\"90\"/><rect class=\"square light e6\" fill=\"#ffce9e\" height=\"45\" stroke=\"none\" width=\"45\" x=\"180\" y=\"90\"/><rect class=\"square dark f6\" fill=\"#d18b47\" height=\"45\" stroke=\"none\" width=\"45\" x=\"225\" y=\"90\"/><rect class=\"square light g6\" fill=\"#ffce9e\" height=\"45\" stroke=\"none\" width=\"45\" x=\"270\" y=\"90\"/><use transform=\"translate(270, 90)\" xlink:href=\"#white-queen\"/><rect class=\"square dark h6\" fill=\"#d18b47\" height=\"45\" stroke=\"none\" width=\"45\" x=\"315\" y=\"90\"/><rect class=\"square dark a7\" fill=\"#d18b47\" height=\"45\" stroke=\"none\" width=\"45\" x=\"0\" y=\"45\"/><rect class=\"square light b7\" fill=\"#ffce9e\" height=\"45\" stroke=\"none\" width=\"45\" x=\"45\" y=\"45\"/><rect class=\"square dark c7\" fill=\"#d18b47\" height=\"45\" stroke=\"none\" width=\"45\" x=\"90\" y=\"45\"/><rect class=\"square light d7\" fill=\"#ffce9e\" height=\"45\" stroke=\"none\" width=\"45\" x=\"135\" y=\"45\"/><rect class=\"square dark e7\" fill=\"#d18b47\" height=\"45\" stroke=\"none\" width=\"45\" x=\"180\" y=\"45\"/><rect class=\"square light f7\" fill=\"#ffce9e\" height=\"45\" stroke=\"none\" width=\"45\" x=\"225\" y=\"45\"/><use transform=\"translate(225, 45)\" xlink:href=\"#white-queen\"/><rect class=\"square dark g7\" fill=\"#d18b47\" height=\"45\" stroke=\"none\" width=\"45\" x=\"270\" y=\"45\"/><rect class=\"square light h7\" fill=\"#ffce9e\" height=\"45\" stroke=\"none\" width=\"45\" x=\"315\" y=\"45\"/><rect class=\"square light a8\" fill=\"#ffce9e\" height=\"45\" stroke=\"none\" width=\"45\" x=\"0\" y=\"0\"/><rect class=\"square dark b8\" fill=\"#d18b47\" height=\"45\" stroke=\"none\" width=\"45\" x=\"45\" y=\"0\"/><rect class=\"square light c8\" fill=\"#ffce9e\" height=\"45\" stroke=\"none\" width=\"45\" x=\"90\" y=\"0\"/><rect class=\"square dark d8\" fill=\"#d18b47\" height=\"45\" stroke=\"none\" width=\"45\" x=\"135\" y=\"0\"/><rect class=\"square light e8\" fill=\"#ffce9e\" height=\"45\" stroke=\"none\" width=\"45\" x=\"180\" y=\"0\"/><use transform=\"translate(180, 0)\" xlink:href=\"#white-queen\"/><rect class=\"square dark f8\" fill=\"#d18b47\" height=\"45\" stroke=\"none\" width=\"45\" x=\"225\" y=\"0\"/><rect class=\"square light g8\" fill=\"#ffce9e\" height=\"45\" stroke=\"none\" width=\"45\" x=\"270\" y=\"0\"/><rect class=\"square dark h8\" fill=\"#d18b47\" height=\"45\" stroke=\"none\" width=\"45\" x=\"315\" y=\"0\"/><use transform=\"translate(315, 0)\" xlink:href=\"#white-queen\"/><circle class=\"circle\" cx=\"112.5\" cy=\"337.5\" fill=\"none\" opacity=\"0.5\" r=\"20.25\" stroke=\"red\" stroke-width=\"4.5\"/><circle class=\"circle\" cx=\"157.5\" cy=\"337.5\" fill=\"none\" opacity=\"0.5\" r=\"20.25\" stroke=\"red\" stroke-width=\"4.5\"/></svg>"
      ],
      "text/plain": [
       "<IPython.core.display.SVG object>"
      ]
     },
     "metadata": {},
     "output_type": "display_data"
    },
    {
     "name": "stdout",
     "output_type": "stream",
     "text": [
      "63\n"
     ]
    },
    {
     "data": {
      "image/svg+xml": [
       "<svg version=\"1.1\" viewBox=\"0 0 360 360\" xmlns=\"http://www.w3.org/2000/svg\" xmlns:xlink=\"http://www.w3.org/1999/xlink\"><style>\n",
       ".square.light {\n",
       "fill: #cacaca;\n",
       "}\n",
       ".square.dark {\n",
       "fill: #898989;\n",
       "}\n",
       "#xx {\n",
       "fill: blue;\n",
       "stroke: red;\n",
       "}\n",
       ".square.light.lastmove {\n",
       "fill: #c3d889;\n",
       "}\n",
       ".square.dark.lastmove {\n",
       "fill: #92b167;\n",
       "}\n",
       ".check {\n",
       "fill: url(#check_gradient);\n",
       "}\n",
       ".arrow {\n",
       "stroke: #ff5858;\n",
       "fill: blue;\n",
       "}\n",
       ".mark {\n",
       "stroke: #959fff;\n",
       "fill: blue;\n",
       "}\n",
       "</style><defs><g class=\"white bishop\" fill=\"none\" fill-rule=\"evenodd\" id=\"white-bishop\" stroke=\"#000\" stroke-linecap=\"round\" stroke-linejoin=\"round\" stroke-width=\"1.5\"><g fill=\"#fff\" stroke-linecap=\"butt\"><path d=\"M9 36c3.39-.97 10.11.43 13.5-2 3.39 2.43 10.11 1.03 13.5 2 0 0 1.65.54 3 2-.68.97-1.65.99-3 .5-3.39-.97-10.11.46-13.5-1-3.39 1.46-10.11.03-13.5 1-1.354.49-2.323.47-3-.5 1.354-1.94 3-2 3-2zM15 32c2.5 2.5 12.5 2.5 15 0 .5-1.5 0-2 0-2 0-2.5-2.5-4-2.5-4 5.5-1.5 6-11.5-5-15.5-11 4-10.5 14-5 15.5 0 0-2.5 1.5-2.5 4 0 0-.5.5 0 2zM25 8a2.5 2.5 0 1 1-5 0 2.5 2.5 0 1 1 5 0z\"/></g><path d=\"M17.5 26h10M15 30h15m-7.5-14.5v5M20 18h5\" stroke-linejoin=\"miter\"/></g><g class=\"white queen\" fill=\"#fff\" fill-rule=\"evenodd\" id=\"white-queen\" stroke=\"#000\" stroke-linecap=\"round\" stroke-linejoin=\"round\" stroke-width=\"1.5\"><path d=\"M8 12a2 2 0 1 1-4 0 2 2 0 1 1 4 0zM24.5 7.5a2 2 0 1 1-4 0 2 2 0 1 1 4 0zM41 12a2 2 0 1 1-4 0 2 2 0 1 1 4 0zM16 8.5a2 2 0 1 1-4 0 2 2 0 1 1 4 0zM33 9a2 2 0 1 1-4 0 2 2 0 1 1 4 0z\"/><path d=\"M9 26c8.5-1.5 21-1.5 27 0l2-12-7 11V11l-5.5 13.5-3-15-3 15-5.5-14V25L7 14l2 12zM9 26c0 2 1.5 2 2.5 4 1 1.5 1 1 .5 3.5-1.5 1-1.5 2.5-1.5 2.5-1.5 1.5.5 2.5.5 2.5 6.5 1 16.5 1 23 0 0 0 1.5-1 0-2.5 0 0 .5-1.5-1-2.5-.5-2.5-.5-2 .5-3.5 1-2 2.5-2 2.5-4-8.5-1.5-18.5-1.5-27 0z\" stroke-linecap=\"butt\"/><path d=\"M11.5 30c3.5-1 18.5-1 22 0M12 33.5c6-1 15-1 21 0\" fill=\"none\"/></g></defs><rect class=\"square dark a1\" fill=\"#d18b47\" height=\"45\" stroke=\"none\" width=\"45\" x=\"0\" y=\"315\"/><rect class=\"square light b1\" fill=\"#ffce9e\" height=\"45\" stroke=\"none\" width=\"45\" x=\"45\" y=\"315\"/><rect class=\"square dark c1\" fill=\"#d18b47\" height=\"45\" stroke=\"none\" width=\"45\" x=\"90\" y=\"315\"/><rect class=\"square light d1\" fill=\"#ffce9e\" height=\"45\" stroke=\"none\" width=\"45\" x=\"135\" y=\"315\"/><rect class=\"square dark e1\" fill=\"#d18b47\" height=\"45\" stroke=\"none\" width=\"45\" x=\"180\" y=\"315\"/><rect class=\"square light f1\" fill=\"#ffce9e\" height=\"45\" stroke=\"none\" width=\"45\" x=\"225\" y=\"315\"/><rect class=\"square dark g1\" fill=\"#d18b47\" height=\"45\" stroke=\"none\" width=\"45\" x=\"270\" y=\"315\"/><rect class=\"square light h1\" fill=\"#ffce9e\" height=\"45\" stroke=\"none\" width=\"45\" x=\"315\" y=\"315\"/><rect class=\"square light a2\" fill=\"#ffce9e\" height=\"45\" stroke=\"none\" width=\"45\" x=\"0\" y=\"270\"/><rect class=\"square dark b2\" fill=\"#d18b47\" height=\"45\" stroke=\"none\" width=\"45\" x=\"45\" y=\"270\"/><rect class=\"square light c2\" fill=\"#ffce9e\" height=\"45\" stroke=\"none\" width=\"45\" x=\"90\" y=\"270\"/><rect class=\"square dark d2\" fill=\"#d18b47\" height=\"45\" stroke=\"none\" width=\"45\" x=\"135\" y=\"270\"/><rect class=\"square light e2\" fill=\"#ffce9e\" height=\"45\" stroke=\"none\" width=\"45\" x=\"180\" y=\"270\"/><rect class=\"square dark f2\" fill=\"#d18b47\" height=\"45\" stroke=\"none\" width=\"45\" x=\"225\" y=\"270\"/><rect class=\"square light g2\" fill=\"#ffce9e\" height=\"45\" stroke=\"none\" width=\"45\" x=\"270\" y=\"270\"/><rect class=\"square dark h2\" fill=\"#d18b47\" height=\"45\" stroke=\"none\" width=\"45\" x=\"315\" y=\"270\"/><rect class=\"square dark a3\" fill=\"#d18b47\" height=\"45\" stroke=\"none\" width=\"45\" x=\"0\" y=\"225\"/><rect class=\"square light b3\" fill=\"#ffce9e\" height=\"45\" stroke=\"none\" width=\"45\" x=\"45\" y=\"225\"/><use transform=\"translate(45, 225)\" xlink:href=\"#white-bishop\"/><rect class=\"square dark c3\" fill=\"#d18b47\" height=\"45\" stroke=\"none\" width=\"45\" x=\"90\" y=\"225\"/><rect class=\"square light d3\" fill=\"#ffce9e\" height=\"45\" stroke=\"none\" width=\"45\" x=\"135\" y=\"225\"/><rect class=\"square dark e3\" fill=\"#d18b47\" height=\"45\" stroke=\"none\" width=\"45\" x=\"180\" y=\"225\"/><rect class=\"square light f3\" fill=\"#ffce9e\" height=\"45\" stroke=\"none\" width=\"45\" x=\"225\" y=\"225\"/><rect class=\"square dark g3\" fill=\"#d18b47\" height=\"45\" stroke=\"none\" width=\"45\" x=\"270\" y=\"225\"/><rect class=\"square light h3\" fill=\"#ffce9e\" height=\"45\" stroke=\"none\" width=\"45\" x=\"315\" y=\"225\"/><rect class=\"square light a4\" fill=\"#ffce9e\" height=\"45\" stroke=\"none\" width=\"45\" x=\"0\" y=\"180\"/><rect class=\"square dark b4\" fill=\"#d18b47\" height=\"45\" stroke=\"none\" width=\"45\" x=\"45\" y=\"180\"/><rect class=\"square light c4\" fill=\"#ffce9e\" height=\"45\" stroke=\"none\" width=\"45\" x=\"90\" y=\"180\"/><rect class=\"square dark d4\" fill=\"#d18b47\" height=\"45\" stroke=\"none\" width=\"45\" x=\"135\" y=\"180\"/><rect class=\"square light e4\" fill=\"#ffce9e\" height=\"45\" stroke=\"none\" width=\"45\" x=\"180\" y=\"180\"/><rect class=\"square dark f4\" fill=\"#d18b47\" height=\"45\" stroke=\"none\" width=\"45\" x=\"225\" y=\"180\"/><rect class=\"square light g4\" fill=\"#ffce9e\" height=\"45\" stroke=\"none\" width=\"45\" x=\"270\" y=\"180\"/><rect class=\"square dark h4\" fill=\"#d18b47\" height=\"45\" stroke=\"none\" width=\"45\" x=\"315\" y=\"180\"/><rect class=\"square dark a5\" fill=\"#d18b47\" height=\"45\" stroke=\"none\" width=\"45\" x=\"0\" y=\"135\"/><rect class=\"square light b5\" fill=\"#ffce9e\" height=\"45\" stroke=\"none\" width=\"45\" x=\"45\" y=\"135\"/><rect class=\"square dark c5\" fill=\"#d18b47\" height=\"45\" stroke=\"none\" width=\"45\" x=\"90\" y=\"135\"/><rect class=\"square light d5\" fill=\"#ffce9e\" height=\"45\" stroke=\"none\" width=\"45\" x=\"135\" y=\"135\"/><rect class=\"square dark e5\" fill=\"#d18b47\" height=\"45\" stroke=\"none\" width=\"45\" x=\"180\" y=\"135\"/><use transform=\"translate(180, 135)\" xlink:href=\"#white-queen\"/><rect class=\"square light f5\" fill=\"#ffce9e\" height=\"45\" stroke=\"none\" width=\"45\" x=\"225\" y=\"135\"/><use transform=\"translate(225, 135)\" xlink:href=\"#white-queen\"/><rect class=\"square dark g5\" fill=\"#d18b47\" height=\"45\" stroke=\"none\" width=\"45\" x=\"270\" y=\"135\"/><use transform=\"translate(270, 135)\" xlink:href=\"#white-queen\"/><rect class=\"square light h5\" fill=\"#ffce9e\" height=\"45\" stroke=\"none\" width=\"45\" x=\"315\" y=\"135\"/><rect class=\"square light a6\" fill=\"#ffce9e\" height=\"45\" stroke=\"none\" width=\"45\" x=\"0\" y=\"90\"/><rect class=\"square dark b6\" fill=\"#d18b47\" height=\"45\" stroke=\"none\" width=\"45\" x=\"45\" y=\"90\"/><rect class=\"square light c6\" fill=\"#ffce9e\" height=\"45\" stroke=\"none\" width=\"45\" x=\"90\" y=\"90\"/><rect class=\"square dark d6\" fill=\"#d18b47\" height=\"45\" stroke=\"none\" width=\"45\" x=\"135\" y=\"90\"/><rect class=\"square light e6\" fill=\"#ffce9e\" height=\"45\" stroke=\"none\" width=\"45\" x=\"180\" y=\"90\"/><rect class=\"square dark f6\" fill=\"#d18b47\" height=\"45\" stroke=\"none\" width=\"45\" x=\"225\" y=\"90\"/><rect class=\"square light g6\" fill=\"#ffce9e\" height=\"45\" stroke=\"none\" width=\"45\" x=\"270\" y=\"90\"/><rect class=\"square dark h6\" fill=\"#d18b47\" height=\"45\" stroke=\"none\" width=\"45\" x=\"315\" y=\"90\"/><rect class=\"square dark a7\" fill=\"#d18b47\" height=\"45\" stroke=\"none\" width=\"45\" x=\"0\" y=\"45\"/><rect class=\"square light b7\" fill=\"#ffce9e\" height=\"45\" stroke=\"none\" width=\"45\" x=\"45\" y=\"45\"/><use transform=\"translate(45, 45)\" xlink:href=\"#white-queen\"/><rect class=\"square dark c7\" fill=\"#d18b47\" height=\"45\" stroke=\"none\" width=\"45\" x=\"90\" y=\"45\"/><rect class=\"square light d7\" fill=\"#ffce9e\" height=\"45\" stroke=\"none\" width=\"45\" x=\"135\" y=\"45\"/><rect class=\"square dark e7\" fill=\"#d18b47\" height=\"45\" stroke=\"none\" width=\"45\" x=\"180\" y=\"45\"/><rect class=\"square light f7\" fill=\"#ffce9e\" height=\"45\" stroke=\"none\" width=\"45\" x=\"225\" y=\"45\"/><rect class=\"square dark g7\" fill=\"#d18b47\" height=\"45\" stroke=\"none\" width=\"45\" x=\"270\" y=\"45\"/><rect class=\"square light h7\" fill=\"#ffce9e\" height=\"45\" stroke=\"none\" width=\"45\" x=\"315\" y=\"45\"/><rect class=\"square light a8\" fill=\"#ffce9e\" height=\"45\" stroke=\"none\" width=\"45\" x=\"0\" y=\"0\"/><rect class=\"square dark b8\" fill=\"#d18b47\" height=\"45\" stroke=\"none\" width=\"45\" x=\"45\" y=\"0\"/><rect class=\"square light c8\" fill=\"#ffce9e\" height=\"45\" stroke=\"none\" width=\"45\" x=\"90\" y=\"0\"/><rect class=\"square dark d8\" fill=\"#d18b47\" height=\"45\" stroke=\"none\" width=\"45\" x=\"135\" y=\"0\"/><rect class=\"square light e8\" fill=\"#ffce9e\" height=\"45\" stroke=\"none\" width=\"45\" x=\"180\" y=\"0\"/><rect class=\"square dark f8\" fill=\"#d18b47\" height=\"45\" stroke=\"none\" width=\"45\" x=\"225\" y=\"0\"/><rect class=\"square light g8\" fill=\"#ffce9e\" height=\"45\" stroke=\"none\" width=\"45\" x=\"270\" y=\"0\"/><rect class=\"square dark h8\" fill=\"#d18b47\" height=\"45\" stroke=\"none\" width=\"45\" x=\"315\" y=\"0\"/><circle class=\"circle\" cx=\"22.5\" cy=\"247.5\" fill=\"none\" opacity=\"0.5\" r=\"20.25\" stroke=\"red\" stroke-width=\"4.5\"/></svg>"
      ],
      "text/plain": [
       "<IPython.core.display.SVG object>"
      ]
     },
     "metadata": {},
     "output_type": "display_data"
    },
    {
     "name": "stdout",
     "output_type": "stream",
     "text": [
      "64\n"
     ]
    },
    {
     "data": {
      "image/svg+xml": [
       "<svg version=\"1.1\" viewBox=\"0 0 360 360\" xmlns=\"http://www.w3.org/2000/svg\" xmlns:xlink=\"http://www.w3.org/1999/xlink\"><style>\n",
       ".square.light {\n",
       "fill: #cacaca;\n",
       "}\n",
       ".square.dark {\n",
       "fill: #898989;\n",
       "}\n",
       "#xx {\n",
       "fill: blue;\n",
       "stroke: red;\n",
       "}\n",
       ".square.light.lastmove {\n",
       "fill: #c3d889;\n",
       "}\n",
       ".square.dark.lastmove {\n",
       "fill: #92b167;\n",
       "}\n",
       ".check {\n",
       "fill: url(#check_gradient);\n",
       "}\n",
       ".arrow {\n",
       "stroke: #ff5858;\n",
       "fill: blue;\n",
       "}\n",
       ".mark {\n",
       "stroke: #959fff;\n",
       "fill: blue;\n",
       "}\n",
       "</style><defs><g class=\"white bishop\" fill=\"none\" fill-rule=\"evenodd\" id=\"white-bishop\" stroke=\"#000\" stroke-linecap=\"round\" stroke-linejoin=\"round\" stroke-width=\"1.5\"><g fill=\"#fff\" stroke-linecap=\"butt\"><path d=\"M9 36c3.39-.97 10.11.43 13.5-2 3.39 2.43 10.11 1.03 13.5 2 0 0 1.65.54 3 2-.68.97-1.65.99-3 .5-3.39-.97-10.11.46-13.5-1-3.39 1.46-10.11.03-13.5 1-1.354.49-2.323.47-3-.5 1.354-1.94 3-2 3-2zM15 32c2.5 2.5 12.5 2.5 15 0 .5-1.5 0-2 0-2 0-2.5-2.5-4-2.5-4 5.5-1.5 6-11.5-5-15.5-11 4-10.5 14-5 15.5 0 0-2.5 1.5-2.5 4 0 0-.5.5 0 2zM25 8a2.5 2.5 0 1 1-5 0 2.5 2.5 0 1 1 5 0z\"/></g><path d=\"M17.5 26h10M15 30h15m-7.5-14.5v5M20 18h5\" stroke-linejoin=\"miter\"/></g><g class=\"white queen\" fill=\"#fff\" fill-rule=\"evenodd\" id=\"white-queen\" stroke=\"#000\" stroke-linecap=\"round\" stroke-linejoin=\"round\" stroke-width=\"1.5\"><path d=\"M8 12a2 2 0 1 1-4 0 2 2 0 1 1 4 0zM24.5 7.5a2 2 0 1 1-4 0 2 2 0 1 1 4 0zM41 12a2 2 0 1 1-4 0 2 2 0 1 1 4 0zM16 8.5a2 2 0 1 1-4 0 2 2 0 1 1 4 0zM33 9a2 2 0 1 1-4 0 2 2 0 1 1 4 0z\"/><path d=\"M9 26c8.5-1.5 21-1.5 27 0l2-12-7 11V11l-5.5 13.5-3-15-3 15-5.5-14V25L7 14l2 12zM9 26c0 2 1.5 2 2.5 4 1 1.5 1 1 .5 3.5-1.5 1-1.5 2.5-1.5 2.5-1.5 1.5.5 2.5.5 2.5 6.5 1 16.5 1 23 0 0 0 1.5-1 0-2.5 0 0 .5-1.5-1-2.5-.5-2.5-.5-2 .5-3.5 1-2 2.5-2 2.5-4-8.5-1.5-18.5-1.5-27 0z\" stroke-linecap=\"butt\"/><path d=\"M11.5 30c3.5-1 18.5-1 22 0M12 33.5c6-1 15-1 21 0\" fill=\"none\"/></g></defs><rect class=\"square dark a1\" fill=\"#d18b47\" height=\"45\" stroke=\"none\" width=\"45\" x=\"0\" y=\"315\"/><rect class=\"square light b1\" fill=\"#ffce9e\" height=\"45\" stroke=\"none\" width=\"45\" x=\"45\" y=\"315\"/><rect class=\"square dark c1\" fill=\"#d18b47\" height=\"45\" stroke=\"none\" width=\"45\" x=\"90\" y=\"315\"/><rect class=\"square light d1\" fill=\"#ffce9e\" height=\"45\" stroke=\"none\" width=\"45\" x=\"135\" y=\"315\"/><rect class=\"square dark e1\" fill=\"#d18b47\" height=\"45\" stroke=\"none\" width=\"45\" x=\"180\" y=\"315\"/><rect class=\"square light f1\" fill=\"#ffce9e\" height=\"45\" stroke=\"none\" width=\"45\" x=\"225\" y=\"315\"/><rect class=\"square dark g1\" fill=\"#d18b47\" height=\"45\" stroke=\"none\" width=\"45\" x=\"270\" y=\"315\"/><rect class=\"square light h1\" fill=\"#ffce9e\" height=\"45\" stroke=\"none\" width=\"45\" x=\"315\" y=\"315\"/><rect class=\"square light a2\" fill=\"#ffce9e\" height=\"45\" stroke=\"none\" width=\"45\" x=\"0\" y=\"270\"/><rect class=\"square dark b2\" fill=\"#d18b47\" height=\"45\" stroke=\"none\" width=\"45\" x=\"45\" y=\"270\"/><rect class=\"square light c2\" fill=\"#ffce9e\" height=\"45\" stroke=\"none\" width=\"45\" x=\"90\" y=\"270\"/><rect class=\"square dark d2\" fill=\"#d18b47\" height=\"45\" stroke=\"none\" width=\"45\" x=\"135\" y=\"270\"/><rect class=\"square light e2\" fill=\"#ffce9e\" height=\"45\" stroke=\"none\" width=\"45\" x=\"180\" y=\"270\"/><rect class=\"square dark f2\" fill=\"#d18b47\" height=\"45\" stroke=\"none\" width=\"45\" x=\"225\" y=\"270\"/><rect class=\"square light g2\" fill=\"#ffce9e\" height=\"45\" stroke=\"none\" width=\"45\" x=\"270\" y=\"270\"/><rect class=\"square dark h2\" fill=\"#d18b47\" height=\"45\" stroke=\"none\" width=\"45\" x=\"315\" y=\"270\"/><rect class=\"square dark a3\" fill=\"#d18b47\" height=\"45\" stroke=\"none\" width=\"45\" x=\"0\" y=\"225\"/><rect class=\"square light b3\" fill=\"#ffce9e\" height=\"45\" stroke=\"none\" width=\"45\" x=\"45\" y=\"225\"/><rect class=\"square dark c3\" fill=\"#d18b47\" height=\"45\" stroke=\"none\" width=\"45\" x=\"90\" y=\"225\"/><rect class=\"square light d3\" fill=\"#ffce9e\" height=\"45\" stroke=\"none\" width=\"45\" x=\"135\" y=\"225\"/><rect class=\"square dark e3\" fill=\"#d18b47\" height=\"45\" stroke=\"none\" width=\"45\" x=\"180\" y=\"225\"/><rect class=\"square light f3\" fill=\"#ffce9e\" height=\"45\" stroke=\"none\" width=\"45\" x=\"225\" y=\"225\"/><rect class=\"square dark g3\" fill=\"#d18b47\" height=\"45\" stroke=\"none\" width=\"45\" x=\"270\" y=\"225\"/><rect class=\"square light h3\" fill=\"#ffce9e\" height=\"45\" stroke=\"none\" width=\"45\" x=\"315\" y=\"225\"/><rect class=\"square light a4\" fill=\"#ffce9e\" height=\"45\" stroke=\"none\" width=\"45\" x=\"0\" y=\"180\"/><rect class=\"square dark b4\" fill=\"#d18b47\" height=\"45\" stroke=\"none\" width=\"45\" x=\"45\" y=\"180\"/><rect class=\"square light c4\" fill=\"#ffce9e\" height=\"45\" stroke=\"none\" width=\"45\" x=\"90\" y=\"180\"/><use transform=\"translate(90, 180)\" xlink:href=\"#white-queen\"/><rect class=\"square dark d4\" fill=\"#d18b47\" height=\"45\" stroke=\"none\" width=\"45\" x=\"135\" y=\"180\"/><use transform=\"translate(135, 180)\" xlink:href=\"#white-queen\"/><rect class=\"square light e4\" fill=\"#ffce9e\" height=\"45\" stroke=\"none\" width=\"45\" x=\"180\" y=\"180\"/><rect class=\"square dark f4\" fill=\"#d18b47\" height=\"45\" stroke=\"none\" width=\"45\" x=\"225\" y=\"180\"/><rect class=\"square light g4\" fill=\"#ffce9e\" height=\"45\" stroke=\"none\" width=\"45\" x=\"270\" y=\"180\"/><rect class=\"square dark h4\" fill=\"#d18b47\" height=\"45\" stroke=\"none\" width=\"45\" x=\"315\" y=\"180\"/><use transform=\"translate(315, 180)\" xlink:href=\"#white-queen\"/><rect class=\"square dark a5\" fill=\"#d18b47\" height=\"45\" stroke=\"none\" width=\"45\" x=\"0\" y=\"135\"/><rect class=\"square light b5\" fill=\"#ffce9e\" height=\"45\" stroke=\"none\" width=\"45\" x=\"45\" y=\"135\"/><rect class=\"square dark c5\" fill=\"#d18b47\" height=\"45\" stroke=\"none\" width=\"45\" x=\"90\" y=\"135\"/><rect class=\"square light d5\" fill=\"#ffce9e\" height=\"45\" stroke=\"none\" width=\"45\" x=\"135\" y=\"135\"/><rect class=\"square dark e5\" fill=\"#d18b47\" height=\"45\" stroke=\"none\" width=\"45\" x=\"180\" y=\"135\"/><rect class=\"square light f5\" fill=\"#ffce9e\" height=\"45\" stroke=\"none\" width=\"45\" x=\"225\" y=\"135\"/><rect class=\"square dark g5\" fill=\"#d18b47\" height=\"45\" stroke=\"none\" width=\"45\" x=\"270\" y=\"135\"/><rect class=\"square light h5\" fill=\"#ffce9e\" height=\"45\" stroke=\"none\" width=\"45\" x=\"315\" y=\"135\"/><rect class=\"square light a6\" fill=\"#ffce9e\" height=\"45\" stroke=\"none\" width=\"45\" x=\"0\" y=\"90\"/><rect class=\"square dark b6\" fill=\"#d18b47\" height=\"45\" stroke=\"none\" width=\"45\" x=\"45\" y=\"90\"/><rect class=\"square light c6\" fill=\"#ffce9e\" height=\"45\" stroke=\"none\" width=\"45\" x=\"90\" y=\"90\"/><rect class=\"square dark d6\" fill=\"#d18b47\" height=\"45\" stroke=\"none\" width=\"45\" x=\"135\" y=\"90\"/><rect class=\"square light e6\" fill=\"#ffce9e\" height=\"45\" stroke=\"none\" width=\"45\" x=\"180\" y=\"90\"/><rect class=\"square dark f6\" fill=\"#d18b47\" height=\"45\" stroke=\"none\" width=\"45\" x=\"225\" y=\"90\"/><rect class=\"square light g6\" fill=\"#ffce9e\" height=\"45\" stroke=\"none\" width=\"45\" x=\"270\" y=\"90\"/><rect class=\"square dark h6\" fill=\"#d18b47\" height=\"45\" stroke=\"none\" width=\"45\" x=\"315\" y=\"90\"/><rect class=\"square dark a7\" fill=\"#d18b47\" height=\"45\" stroke=\"none\" width=\"45\" x=\"0\" y=\"45\"/><rect class=\"square light b7\" fill=\"#ffce9e\" height=\"45\" stroke=\"none\" width=\"45\" x=\"45\" y=\"45\"/><rect class=\"square dark c7\" fill=\"#d18b47\" height=\"45\" stroke=\"none\" width=\"45\" x=\"90\" y=\"45\"/><rect class=\"square light d7\" fill=\"#ffce9e\" height=\"45\" stroke=\"none\" width=\"45\" x=\"135\" y=\"45\"/><rect class=\"square dark e7\" fill=\"#d18b47\" height=\"45\" stroke=\"none\" width=\"45\" x=\"180\" y=\"45\"/><rect class=\"square light f7\" fill=\"#ffce9e\" height=\"45\" stroke=\"none\" width=\"45\" x=\"225\" y=\"45\"/><rect class=\"square dark g7\" fill=\"#d18b47\" height=\"45\" stroke=\"none\" width=\"45\" x=\"270\" y=\"45\"/><rect class=\"square light h7\" fill=\"#ffce9e\" height=\"45\" stroke=\"none\" width=\"45\" x=\"315\" y=\"45\"/><use transform=\"translate(315, 45)\" xlink:href=\"#white-bishop\"/><rect class=\"square light a8\" fill=\"#ffce9e\" height=\"45\" stroke=\"none\" width=\"45\" x=\"0\" y=\"0\"/><use transform=\"translate(0, 0)\" xlink:href=\"#white-queen\"/><rect class=\"square dark b8\" fill=\"#d18b47\" height=\"45\" stroke=\"none\" width=\"45\" x=\"45\" y=\"0\"/><rect class=\"square light c8\" fill=\"#ffce9e\" height=\"45\" stroke=\"none\" width=\"45\" x=\"90\" y=\"0\"/><rect class=\"square dark d8\" fill=\"#d18b47\" height=\"45\" stroke=\"none\" width=\"45\" x=\"135\" y=\"0\"/><rect class=\"square light e8\" fill=\"#ffce9e\" height=\"45\" stroke=\"none\" width=\"45\" x=\"180\" y=\"0\"/><rect class=\"square dark f8\" fill=\"#d18b47\" height=\"45\" stroke=\"none\" width=\"45\" x=\"225\" y=\"0\"/><rect class=\"square light g8\" fill=\"#ffce9e\" height=\"45\" stroke=\"none\" width=\"45\" x=\"270\" y=\"0\"/><rect class=\"square dark h8\" fill=\"#d18b47\" height=\"45\" stroke=\"none\" width=\"45\" x=\"315\" y=\"0\"/></svg>"
      ],
      "text/plain": [
       "<IPython.core.display.SVG object>"
      ]
     },
     "metadata": {},
     "output_type": "display_data"
    }
   ],
   "source": [
    "# display_chessboard(cmb)\n",
    "import chess\n",
    "import chess.svg\n",
    "from IPython.display import SVG, display\n",
    "\n",
    "recorded_solutions_percases, ntries\n",
    "\n",
    "for k in sorted(recorded_solutions_percases):\n",
    "    print(k)\n",
    "    display(SVG(display_chessboard(recorded_solutions_percases[k])))\n",
    "    with open('chess-try' + str(k) + '.svg', 'w') as f:\n",
    "        f.write(display_chessboard(recorded_solutions_percases[k]))"
   ]
  },
  {
   "cell_type": "code",
   "execution_count": null,
   "metadata": {},
   "outputs": [],
   "source": []
  }
 ],
 "metadata": {
  "kernelspec": {
   "display_name": "Python 3",
   "language": "python",
   "name": "python3"
  },
  "language_info": {
   "codemirror_mode": {
    "name": "ipython",
    "version": 3
   },
   "file_extension": ".py",
   "mimetype": "text/x-python",
   "name": "python",
   "nbconvert_exporter": "python",
   "pygments_lexer": "ipython3",
   "version": "3.7.6"
  }
 },
 "nbformat": 4,
 "nbformat_minor": 2
}
