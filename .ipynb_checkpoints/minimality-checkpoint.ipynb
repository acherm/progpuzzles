{
 "cells": [
  {
   "cell_type": "code",
   "execution_count": null,
   "metadata": {},
   "outputs": [],
   "source": [
    "######### 280 characters solution?\n",
    "# chess.QUEEN = 5\n",
    "# chess.BISHOP = 3\n",
    "# https://python-chess.readthedocs.io/en/latest/core.html#piece-types\n",
    "# >63 takes less characters than ==64\n",
    "# fun with print conditionals\n",
    "# I've not the space to include a while(True) loop\n",
    "# w=True is to save some space\n",
    "# same for import as ..\n",
    "# we reuse built-in facilities of python-chess for generating moves\n",
    "import chess as c,random as r\n",
    "w=True\n",
    "s=[r.randrange(0,64) for i in range(0,5)]\n",
    "b=c.Board(fen=None)\n",
    "for q in range(0,4):\n",
    "    b.set_piece_at(s[q],c.Piece(5,w))\n",
    "b.set_piece_at(s[4],c.Piece(3,w))\n",
    "print((s,b)[len(set().union(*[list(b.attacks(s[q]))for q in range(0,5)],s))>63])"
   ]
  },
  {
   "cell_type": "code",
   "execution_count": null,
   "metadata": {},
   "outputs": [],
   "source": [
    "# miss an opportunity here with pieces' kinds and avoiding the verbose call of b.set_piece_at\n",
    "# b.set_piece_at(s[4],c.Piece(3,w))\n",
    "# w=True no longer needed?\n",
    "# \n",
    "import chess as c,random as r\n",
    "w=True\n",
    "pk=[5,5,5,5,3]\n",
    "while(w):\n",
    "    s=[r.randrange(0,64) for i in range(0,5)]\n",
    "    b=c.Board(fen=None)\n",
    "    for q in range(0,5):b.set_piece_at(s[q],c.Piece(pk[q],w))\n",
    "    if len(set().union(*[list(b.attacks(s[q]))for q in range(0,5)],s))>63:break"
   ]
  },
  {
   "cell_type": "code",
   "execution_count": null,
   "metadata": {},
   "outputs": [],
   "source": [
    "b"
   ]
  },
  {
   "cell_type": "code",
   "execution_count": null,
   "metadata": {},
   "outputs": [],
   "source": [
    "# 6x6 \n",
    "# place 3 queens\n",
    "import chess as c,itertools as i\n",
    "w=True\n",
    "l=set(filter(lambda x:x>>3<6 and x&7<6,range(0,64)))\n",
    "for s in i.combinations(l,3):\n",
    "    b=c.Board(fen=None)\n",
    "    for q in range(0,3):b.set_piece_at(s[q],c.Piece(5,w))    \n",
    "    if l<set().union(*[list(b.attacks(s[q]))for q in range(0,3)],s):F=b"
   ]
  },
  {
   "cell_type": "code",
   "execution_count": null,
   "metadata": {},
   "outputs": [],
   "source": [
    "F"
   ]
  },
  {
   "cell_type": "code",
   "execution_count": null,
   "metadata": {},
   "outputs": [],
   "source": [
    "ctr"
   ]
  },
  {
   "cell_type": "code",
   "execution_count": 3,
   "metadata": {},
   "outputs": [
    {
     "name": "stdout",
     "output_type": "stream",
     "text": [
      "Q . . . . . . .\n",
      ". . . . . . . Q\n",
      ". . . . . B . .\n",
      ". . . . . . . .\n",
      ". Q . . . . . .\n",
      ". . . . . . . .\n",
      ". . . . . . . .\n",
      ". . . . Q . . .\n",
      "but we continue\n",
      ". . . . . . . .\n",
      ". B . . . . . .\n",
      ". . . . . . Q .\n",
      ". . Q . . . . .\n",
      ". . . . . . . .\n",
      ". . . . . . . .\n",
      ". . . . . . . Q\n",
      ". . . Q . . . . STOP!\n"
     ]
    }
   ],
   "source": [
    "import chess as c,itertools as i,random as r\n",
    "import math\n",
    "w=True\n",
    "# we can also parameterize the size of the board ncols*nlines assuming ncols == nlines and ncols <= 8\n",
    "ncols=nlines=8\n",
    "N=5 # sounds impossible to place 5 rooks, 5 bishops, 9 knights on 6x6; \n",
    "# but it's possible to place 5 kings (!!) on 6x6 board\n",
    "# N=19 knights needed to cover a 8x8 board N=9 kings to cover 8x8 board (possible solution with distanciations) N=8 bishops n=8 rooks to cover 8*8 board\n",
    "# print(math.factorial(ncols*nlines) / math.factorial(N) * math.factorial((ncols*nlines) - N))\n",
    "# pk=c.KING\n",
    "# even better: kind piece is an array (each piece can be kinded allowing heterogeneous scenarios and 4 queens+1bishop)\n",
    "pk=[c.QUEEN for i in range(0,N)]\n",
    "pk[4]=c.BISHOP\n",
    "assert(len(pk) == N)\n",
    "l=set(filter(lambda x:x>>3<ncols and x&7<nlines,range(0,64)))\n",
    "\n",
    "def gen_rand(n):\n",
    "    return r.sample(l,n) # [r.sample(l, 1) for i in range(0, n)]\n",
    "# for s in i.combinations(l,N): # complexity here! \n",
    "while(True):\n",
    "    s=gen_rand(N)\n",
    "    b=c.Board(fen=None)\n",
    "    for q in range(0,N):b.set_piece_at(s[q],c.Piece(pk[q],w))    \n",
    "    if l<=set().union(*[list(b.attacks(s[q]))for q in range(0,N)],s): # <= seems necessary!\n",
    "        # for king distancing\n",
    "        if l.difference(set().union(*[list(b.attacks(s[q]))for q in range(0,N)])) == set(s):\n",
    "            F=b \n",
    "            print(b, \"STOP!\")\n",
    "            break\n",
    "        else:\n",
    "            print(b)\n",
    "            print(\"but we continue\")"
   ]
  },
  {
   "cell_type": "code",
   "execution_count": null,
   "metadata": {},
   "outputs": [],
   "source": [
    "F"
   ]
  },
  {
   "cell_type": "code",
   "execution_count": null,
   "metadata": {},
   "outputs": [],
   "source": [
    "{1, 2, 3} <= {1, 2, 3}"
   ]
  },
  {
   "cell_type": "code",
   "execution_count": null,
   "metadata": {},
   "outputs": [],
   "source": []
  }
 ],
 "metadata": {
  "kernelspec": {
   "display_name": "Python 3",
   "language": "python",
   "name": "python3"
  },
  "language_info": {
   "codemirror_mode": {
    "name": "ipython",
    "version": 3
   },
   "file_extension": ".py",
   "mimetype": "text/x-python",
   "name": "python",
   "nbconvert_exporter": "python",
   "pygments_lexer": "ipython3",
   "version": "3.7.6"
  }
 },
 "nbformat": 4,
 "nbformat_minor": 2
}
