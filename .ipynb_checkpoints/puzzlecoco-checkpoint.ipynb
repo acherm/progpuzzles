{
 "cells": [
  {
   "cell_type": "code",
   "execution_count": 4,
   "metadata": {},
   "outputs": [
    {
     "name": "stdout",
     "output_type": "stream",
     "text": [
      "314\n"
     ]
    }
   ],
   "source": [
    "def extract_digits(n):\n",
    "    while n:\n",
    "        n, r = divmod(n, 10)\n",
    "        yield r\n",
    "        \n",
    "def wellplaced(s, gt, four_digits=False):\n",
    "    ds = list(extract_digits(s))\n",
    "    dgt = list(extract_digits(gt))\n",
    "    if four_digits: # proposed solution can have 4 digits (second puzzle)\n",
    "        if len(ds) == 3:\n",
    "            ds.append(0)\n",
    "        if len(dgt) == 3:\n",
    "            dgt.append(0)\n",
    "    n_well_placed = 0\n",
    "    for i in range(0, len(ds)):\n",
    "        if ds[i] == dgt[i]:\n",
    "            n_well_placed = n_well_placed + 1\n",
    "    return n_well_placed\n",
    "\n",
    "def OK_notplaced(s, gt, four_digits=False):\n",
    "    ds = list(extract_digits(s))\n",
    "    dgt = list(extract_digits(gt))\n",
    "    if four_digits: # proposed solution can have 4 digits (second puzzle)\n",
    "        if len(ds) == 3:\n",
    "            ds.append(0)\n",
    "        if len(dgt) == 3:\n",
    "            dgt.append(0)\n",
    "    n = 0\n",
    "    for i in range(0, len(ds)):\n",
    "        if ds[i] in dgt and ds[i] != dgt[i]:\n",
    "            n = n + 1\n",
    "    return n\n",
    "\n",
    "def nothing_good(s, gt, four_digits=False):\n",
    "    ds = list(extract_digits(s))\n",
    "    dgt = list(extract_digits(gt))\n",
    "    if four_digits: # proposed solution can have 4 digits (second puzzle)\n",
    "        if len(ds) == 3:\n",
    "            ds.append(0)\n",
    "        if len(dgt) == 3:\n",
    "            dgt.append(0)\n",
    "    return not(set(ds) & set(dgt))\n",
    "        \n",
    "def is_validsolution(s):\n",
    "    # extract all digits (unit, dozen, ...) from right to left\n",
    "    ds = list(extract_digits(s))    \n",
    "    # one digit is OK and well placed (684)\n",
    "    # one digit is OK but not well placed (621)\n",
    "    # one digit is OK but not well placed (783)\n",
    "    # two digits OK but not well placed (436)\n",
    "    # all digits wrong (708)\n",
    "    predicates = [wellplaced(s, 684) == 1, OK_notplaced(s, 621) == 1, OK_notplaced(s, 783) == 1, OK_notplaced(s, 436) == 2, nothing_good(s, 708)]\n",
    "    return all (predicates)    \n",
    "\n",
    "assert(wellplaced(104, 684) == 1)\n",
    "assert(wellplaced(604, 684) == 2)\n",
    "assert(wellplaced(100, 684) == 0)\n",
    "assert(wellplaced(864, 684) == 1)\n",
    "assert(wellplaced(684, 684) == 3)\n",
    "assert(wellplaced(468, 684) == 0)\n",
    "assert(wellplaced(683, 684) == 2)\n",
    "\n",
    "assert(OK_notplaced(401, 684) == 1)\n",
    "assert(OK_notplaced(461, 684) == 2)\n",
    "assert(OK_notplaced(104, 684) == 0)\n",
    "\n",
    "set(extract_digits(173)) & set(extract_digits(684))\n",
    "assert(nothing_good(173, 684))\n",
    "assert(not(nothing_good(813, 684)))\n",
    "assert(not(nothing_good(468, 684)))\n",
    "assert(nothing_good(123, 456))\n",
    "\n",
    "\n",
    "# gen all solutions (here: all numbers of 3 digits)\n",
    "for sol in range(100, 1000):\n",
    "    if is_validsolution(sol): \n",
    "        print(sol)"
   ]
  },
  {
   "cell_type": "code",
   "execution_count": 14,
   "metadata": {},
   "outputs": [
    {
     "name": "stdout",
     "output_type": "stream",
     "text": [
      "1982\n"
     ]
    }
   ],
   "source": [
    "def all_diff(s):    \n",
    "    l = list(extract_digits(s))  \n",
    "    return len(set(l)) == len(l)\n",
    "\n",
    "def is_validsolution_bis(s):\n",
    "    ds = list(extract_digits(s))\n",
    "    # predicates = [OK_notplaced(s, 7619, four_digits=True) == 2, nothing_good(s, 4763, four_digits=True), OK_notplaced(s, 451, four_digits=True) == 1, wellplaced(s, 5942, four_digits=True) == 2, all_diff(s)]\n",
    "    # need to add an additional constraint otherwise multiple solutions\n",
    "    # 1982 is the finest solution since for 1952 one can discuss and consider that for \"1952 vs 0451\" it's stronger than \n",
    "    # one digit is good and not well placed (there is the 5 well-placed AND the 1 is good, not well-placed)... \n",
    "    # same for  5921 and 5981. \n",
    "    predicates = [OK_notplaced(s, 7619, four_digits=True) == 2, nothing_good(s, 4763, four_digits=True), OK_notplaced(s, 451, four_digits=True) == 1 and wellplaced(s, 451, four_digits=True) == 0, wellplaced(s, 5942, four_digits=True) == 2, all_diff(s)]\n",
    "    return predicates    \n",
    "\n",
    "\n",
    "assert(all_diff(1234))\n",
    "assert(not all_diff(1231))\n",
    "# second puzzle\n",
    "for sol in range(0, 9999):\n",
    "    if all(is_validsolution_bis(sol)):\n",
    "        print(sol)\n",
    "        \n",
    "# is_validsolution_bis(5941)\n",
    "# is_validsolution_bis(9542)"
   ]
  },
  {
   "cell_type": "code",
   "execution_count": null,
   "metadata": {},
   "outputs": [],
   "source": [
    "l1 = list(extract_digits(134))\n",
    "l1.append(0)\n",
    "l1"
   ]
  },
  {
   "cell_type": "code",
   "execution_count": null,
   "metadata": {},
   "outputs": [],
   "source": []
  }
 ],
 "metadata": {
  "kernelspec": {
   "display_name": "Python 3",
   "language": "python",
   "name": "python3"
  },
  "language_info": {
   "codemirror_mode": {
    "name": "ipython",
    "version": 3
   },
   "file_extension": ".py",
   "mimetype": "text/x-python",
   "name": "python",
   "nbconvert_exporter": "python",
   "pygments_lexer": "ipython3",
   "version": "3.7.6"
  }
 },
 "nbformat": 4,
 "nbformat_minor": 2
}
