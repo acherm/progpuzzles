{
 "cells": [
  {
   "cell_type": "markdown",
   "metadata": {},
   "source": [
    "Few libraries needed"
   ]
  },
  {
   "cell_type": "code",
   "execution_count": 1,
   "metadata": {},
   "outputs": [],
   "source": [
    "import numpy as np\n",
    "import matplotlib.pyplot as plt"
   ]
  },
  {
   "cell_type": "markdown",
   "metadata": {},
   "source": [
    "Definition of the board"
   ]
  },
  {
   "cell_type": "code",
   "execution_count": 2,
   "metadata": {},
   "outputs": [
    {
     "data": {
      "image/png": "[encoded data removed]",
      "text/plain": [
       "<Figure size 432x288 with 1 Axes>"
      ]
     },
     "metadata": {
      "needs_background": "light"
     },
     "output_type": "display_data"
    }
   ],
   "source": [
    "line = [k%2 for k in range(8)]\n",
    "line1 = [1-k%2 for k in range(8)]\n",
    "boardControlled = np.array([line1 if k%2 else line for k in range(8)])\n",
    "\n",
    "colors = np.array([[0, 0, 0],   # black squares controlled\n",
    "                    [255, 255, 255],   # white squares controlled\n",
    "                    [255, 0, 0],   # red : squares not controlled\n",
    "                    [255, 192, 203], # pink : queens\n",
    "                    [0, 255, 0]]) # green : the bishop\n",
    "\n",
    "def showBoard(board):\n",
    "    plt.imshow(colors[board])\n",
    "    plt.ylim((-0.5,7.5))\n",
    "    plt.xticks([k for k in range(8)], ['A','B','C','D','E','F','G','H'])\n",
    "    plt.yticks([k for k in range(8)], [str(k+1) for k in range(8)])\n",
    "    plt.show()\n",
    "\n",
    "showBoard(boardControlled)"
   ]
  },
  {
   "cell_type": "markdown",
   "metadata": {},
   "source": [
    "Let's make an abstract class Piece"
   ]
  },
  {
   "cell_type": "code",
   "execution_count": 3,
   "metadata": {},
   "outputs": [],
   "source": [
    "class Piece():\n",
    "    \n",
    "    def __init__(self, board, pos_i, pos_j):\n",
    "        self.board = board\n",
    "        self.pos_i = pos_i\n",
    "        self.pos_j = pos_j\n",
    "    \n",
    "    def getListPosition(self):\n",
    "        pass\n",
    "    \n",
    "    def addPiece(self):\n",
    "        pass"
   ]
  },
  {
   "cell_type": "markdown",
   "metadata": {},
   "source": [
    "Use it to define a bishop"
   ]
  },
  {
   "cell_type": "code",
   "execution_count": 4,
   "metadata": {},
   "outputs": [],
   "source": [
    "class Bishop(Piece):\n",
    "    \n",
    "    def __init__(self, board, pos_i, pos_j):\n",
    "        Piece.__init__(self, board, pos_i, pos_j)\n",
    "        \n",
    "    def getListPositions(self):\n",
    "        listPositions = []\n",
    "    \n",
    "        i = self.pos_i\n",
    "        j = self.pos_j\n",
    "        freeWay = True\n",
    "        while i<8 and j<8 and freeWay:\n",
    "            if self.board[j,i] == 2:\n",
    "                listPositions.append((i,j))\n",
    "            if self.board[j,i] >2:\n",
    "                freeWay = False\n",
    "            i+=1\n",
    "            j+=1\n",
    "\n",
    "        i = self.pos_i\n",
    "        j = self.pos_j\n",
    "        freeWay = True\n",
    "        while i<8 and j>=0 and freeWay:\n",
    "            if self.board[j,i] == 2:\n",
    "                listPositions.append((i,j))\n",
    "            if self.board[j,i] >2:\n",
    "                freeWay = False\n",
    "            i+=1\n",
    "            j-=1\n",
    "\n",
    "        i = self.pos_i\n",
    "        j = self.pos_j\n",
    "        while i>=0 and j<8 and freeWay:\n",
    "            if self.board[j,i] == 2:\n",
    "                listPositions.append((i,j))\n",
    "            if self.board[j,i] >2:\n",
    "                freeWay = False\n",
    "            i-=1\n",
    "            j+=1\n",
    "\n",
    "        i = self.pos_i\n",
    "        j = self.pos_j\n",
    "        while i>=0 and j>=0 and freeWay:\n",
    "            if self.board[j,i] == 2:\n",
    "                listPositions.append((i,j))\n",
    "            if self.board[j,i] >2:\n",
    "                freeWay = False\n",
    "            i-=1\n",
    "            j-=1\n",
    "\n",
    "        return listPositions\n",
    "\n",
    "    def addPiece(self):\n",
    "        for square in self.getListPositions():\n",
    "            self.board[square[1]][square[0]] = boardControlled[square[1]][square[0]]\n",
    "        self.board[self.pos_j][self.pos_i] = 4"
   ]
  },
  {
   "cell_type": "code",
   "execution_count": 5,
   "metadata": {},
   "outputs": [
    {
     "data": {
      "image/png": "[encoded data removed]",
      "text/plain": [
       "<Figure size 432x288 with 1 Axes>"
      ]
     },
     "metadata": {
      "needs_background": "light"
     },
     "output_type": "display_data"
    }
   ],
   "source": [
    "boardBishop = 2*np.ones(64,int).reshape(8,8)\n",
    "\n",
    "b1 = Bishop(boardBishop,0,1)\n",
    "b1.addPiece()\n",
    "\n",
    "showBoard(boardBishop)"
   ]
  },
  {
   "cell_type": "markdown",
   "metadata": {},
   "source": [
    "And the queen"
   ]
  },
  {
   "cell_type": "code",
   "execution_count": 6,
   "metadata": {},
   "outputs": [],
   "source": [
    "class Queen(Bishop):\n",
    "    \n",
    "    def __init__(self, board, pos_i, pos_j):\n",
    "        super().__init__(board, pos_i, pos_j)\n",
    "    \n",
    "    def getListPositions(self):\n",
    "    \n",
    "        listPositions = super().getListPositions()\n",
    "\n",
    "        i = self.pos_i\n",
    "        freeWay = True\n",
    "        while i<8 and freeWay:\n",
    "            if self.board[self.pos_j,i] == 2:\n",
    "                listPositions.append((i,self.pos_j))\n",
    "            if self.board[self.pos_j,i] >2:\n",
    "                freeWay = False\n",
    "            i+=1\n",
    "\n",
    "        i = self.pos_i\n",
    "        freeWay = True\n",
    "        while i>=0 and freeWay:\n",
    "            if self.board[self.pos_j,i] == 2:\n",
    "                listPositions.append((i,self.pos_j))\n",
    "            if self.board[self.pos_j,i] >2:\n",
    "                freeWay = False\n",
    "            i-=1\n",
    "\n",
    "        j = self.pos_j\n",
    "        while j<8 and freeWay:\n",
    "            if self.board[j,self.pos_i] == 2:\n",
    "                listPositions.append((self.pos_i,j))\n",
    "            if self.board[j,self.pos_i] >2:\n",
    "                freeWay = False\n",
    "            j+=1\n",
    "\n",
    "        j = self.pos_j\n",
    "        while j>=0 and freeWay:\n",
    "            if self.board[j,self.pos_i] == 2:\n",
    "                listPositions.append((self.pos_i,j))\n",
    "            if self.board[j,self.pos_i] >2:\n",
    "                freeWay = False\n",
    "            j-=1\n",
    "        \n",
    "        return listPositions\n",
    "\n",
    "    def addPiece(self):\n",
    "        super().addPiece()\n",
    "        self.board[self.pos_j][self.pos_i] = 3\n",
    "        "
   ]
  },
  {
   "cell_type": "code",
   "execution_count": 7,
   "metadata": {},
   "outputs": [
    {
     "data": {
      "image/png": "[encoded data removed]",
      "text/plain": [
       "<Figure size 432x288 with 1 Axes>"
      ]
     },
     "metadata": {
      "needs_background": "light"
     },
     "output_type": "display_data"
    }
   ],
   "source": [
    "boardQueen = 2*np.ones(64,int).reshape(8,8)\n",
    "\n",
    "b = Queen(boardQueen,2,1)\n",
    "b.addPiece()\n",
    "\n",
    "showBoard(boardQueen)"
   ]
  },
  {
   "cell_type": "markdown",
   "metadata": {},
   "source": [
    "Now let's solve the problem!"
   ]
  },
  {
   "cell_type": "code",
   "execution_count": 8,
   "metadata": {},
   "outputs": [
    {
     "data": {
      "image/png": "[encoded data removed]",
      "text/plain": [
       "<Figure size 432x288 with 1 Axes>"
      ]
     },
     "metadata": {
      "needs_background": "light"
     },
     "output_type": "display_data"
    }
   ],
   "source": [
    "boardIni = 2*np.ones(64,int).reshape(8,8)\n",
    "\n",
    "#dict key i,j the id of squares -> gives the number of cases controlled by positions if you add a queen in i,j\n",
    "pos = dict()\n",
    "\n",
    "# first queen\n",
    "\n",
    "for i in range(8):\n",
    "    for j in range(8):\n",
    "        q = Queen(boardIni, i,j)\n",
    "        pos[(i,j)] = len(q.getListPositions())\n",
    "\n",
    "pos_opti = max(pos, key=pos.get)\n",
    "# max cases controlled for 3,3\n",
    "q = Queen(boardIni, pos_opti[0], pos_opti[1])\n",
    "q.addPiece()\n",
    "\n",
    "showBoard(boardIni)"
   ]
  },
  {
   "cell_type": "markdown",
   "metadata": {},
   "source": [
    "Now, we place the four queens with this method"
   ]
  },
  {
   "cell_type": "code",
   "execution_count": 9,
   "metadata": {},
   "outputs": [
    {
     "data": {
      "image/png": "[encoded data removed]",
      "text/plain": [
       "<Figure size 432x288 with 1 Axes>"
      ]
     },
     "metadata": {
      "needs_background": "light"
     },
     "output_type": "display_data"
    }
   ],
   "source": [
    "boardIni = 2*np.ones(64,int).reshape(8,8)\n",
    "\n",
    "l=0\n",
    "while l < 4:\n",
    "    for i in range(8):\n",
    "        for j in range(8):\n",
    "            q = Queen(boardIni, i,j)\n",
    "            pos[(i,j)] = len(q.getListPositions())\n",
    "    pos_opti = max(pos, key=pos.get)\n",
    "    q = Queen(boardIni, pos_opti[0], pos_opti[1])\n",
    "    q.addPiece()\n",
    "    l+=1\n",
    "\n",
    "showBoard(boardIni)"
   ]
  },
  {
   "cell_type": "markdown",
   "metadata": {},
   "source": [
    "Definitely not working, let's try to place the bishop first :-)"
   ]
  },
  {
   "cell_type": "code",
   "execution_count": 10,
   "metadata": {},
   "outputs": [
    {
     "data": {
      "image/png": "[encoded data removed]",
      "text/plain": [
       "<Figure size 432x288 with 1 Axes>"
      ]
     },
     "metadata": {
      "needs_background": "light"
     },
     "output_type": "display_data"
    }
   ],
   "source": [
    "boardIni = 2*np.ones(64,int).reshape(8,8)\n",
    "\n",
    "#dict key i,j the id of squares -> gives the number of cases controlled by positions if you add a bishop in i,j\n",
    "pos = dict()\n",
    "\n",
    "# first the bishop\n",
    "\n",
    "for i in range(8):\n",
    "    for j in range(8):\n",
    "        q = Bishop(boardIni, i,j)\n",
    "        pos[(i,j)] = len(q.getListPositions())\n",
    "\n",
    "pos_opti = max(pos, key=pos.get)\n",
    "q = Bishop(boardIni, pos_opti[0], pos_opti[1])\n",
    "q.addPiece()\n",
    "\n",
    "# then the four queens\n",
    "\n",
    "l=0\n",
    "while l < 4:\n",
    "    for i in range(8):\n",
    "        for j in range(8):\n",
    "            q = Queen(boardIni, i,j)\n",
    "            pos[(i,j)] = len(q.getListPositions())\n",
    "    pos_opti = max(pos, key=pos.get)\n",
    "    q = Queen(boardIni, pos_opti[0], pos_opti[1])\n",
    "    q.addPiece()\n",
    "    l+=1\n",
    "\n",
    "showBoard(boardIni)"
   ]
  },
  {
   "cell_type": "markdown",
   "metadata": {},
   "source": [
    "Close, but not getting the solution yet"
   ]
  },
  {
   "cell_type": "markdown",
   "metadata": {},
   "source": [
    "The greedy policy does not work immediatly with the first solution, let's try to choose randomly (uniform) one of the best solutions"
   ]
  },
  {
   "cell_type": "code",
   "execution_count": 8,
   "metadata": {
    "scrolled": true
   },
   "outputs": [],
   "source": [
    "def simulateGame():\n",
    "    # return True with the board if the game is won\n",
    "    # else return false\n",
    "    win = False\n",
    "    \n",
    "    boardIni = 2*np.ones(64,int).reshape(8,8)\n",
    "\n",
    "    pos = dict()\n",
    "\n",
    "    l=0\n",
    "    while l < 4:\n",
    "        for i in range(8):\n",
    "            for j in range(8):\n",
    "                q = Queen(boardIni, i,j)\n",
    "                pos[(i,j)] = len(q.getListPositions())\n",
    "        \n",
    "        list_pos_opti =[k for k in pos.keys() if np.abs(pos[k]-pos[max(pos, key=pos.get)]) < 3]\n",
    "        # add some variability\n",
    "        rand_index = np.random.randint(0,len(list_pos_opti))\n",
    "        pos_opti = list_pos_opti[rand_index]\n",
    "        q = Queen(boardIni, pos_opti[0], pos_opti[1])\n",
    "        q.addPiece()\n",
    "        l+=1\n",
    "    \n",
    "    \n",
    "    for i in range(8):\n",
    "        for j in range(8):\n",
    "            q = Bishop(boardIni, i,j)\n",
    "            pos[(i,j)] = len(q.getListPositions())\n",
    "    \n",
    "    pos_opti = max(pos, key=pos.get)\n",
    "    q = Bishop(boardIni, pos_opti[0], pos_opti[1])\n",
    "    q.addPiece()\n",
    "    \n",
    "    if 2 not in boardIni:\n",
    "        showBoard(boardIni)\n",
    "        win = True\n",
    "    return win"
   ]
  },
  {
   "cell_type": "code",
   "execution_count": 9,
   "metadata": {},
   "outputs": [
    {
     "data": {
      "image/png": "[encoded data removed]",
      "text/plain": [
       "<Figure size 432x288 with 1 Axes>"
      ]
     },
     "metadata": {
      "needs_background": "light"
     },
     "output_type": "display_data"
    }
   ],
   "source": [
    "nbGameMax = 50000\n",
    "countGame = 0\n",
    "win = False\n",
    "while countGame < nbGameMax and not win:\n",
    "    win = simulateGame()\n",
    "    countGame+=1\n",
    "if countGame == nbGameMax:\n",
    "    print(\"No solution\")"
   ]
  },
  {
   "cell_type": "code",
   "execution_count": null,
   "metadata": {},
   "outputs": [],
   "source": []
  },
  {
   "cell_type": "code",
   "execution_count": null,
   "metadata": {},
   "outputs": [],
   "source": []
  },
  {
   "cell_type": "code",
   "execution_count": null,
   "metadata": {},
   "outputs": [],
   "source": []
  },
  {
   "cell_type": "code",
   "execution_count": null,
   "metadata": {},
   "outputs": [],
   "source": []
  },
  {
   "cell_type": "code",
   "execution_count": null,
   "metadata": {},
   "outputs": [],
   "source": []
  },
  {
   "cell_type": "code",
   "execution_count": null,
   "metadata": {},
   "outputs": [],
   "source": []
  }
 ],
 "metadata": {
  "kernelspec": {
   "display_name": "Python 3",
   "language": "python",
   "name": "python3"
  },
  "language_info": {
   "codemirror_mode": {
    "name": "ipython",
    "version": 3
   },
   "file_extension": ".py",
   "mimetype": "text/x-python",
   "name": "python",
   "nbconvert_exporter": "python",
   "pygments_lexer": "ipython3",
   "version": "3.7.6"
  }
 },
 "nbformat": 4,
 "nbformat_minor": 2
}
