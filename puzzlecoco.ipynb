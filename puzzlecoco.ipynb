{
 "cells": [
  {
   "cell_type": "code",
   "execution_count": 1,
   "metadata": {},
   "outputs": [
    {
     "name": "stdout",
     "output_type": "stream",
     "text": [
      "314\n"
     ]
    }
   ],
   "source": [
    "def extract_digits(n):\n",
    "    while n:\n",
    "        n, r = divmod(n, 10)\n",
    "        yield r\n",
    "        \n",
    "def nb_wellplaced(s, gt):\n",
    "    ds = list(extract_digits(s))\n",
    "    dgt = list(extract_digits(gt))\n",
    "    n_well_placed = 0\n",
    "    for i in range(0, len(ds)):\n",
    "        if ds[i] == dgt[i]:\n",
    "            n_well_placed = n_well_placed + 1\n",
    "    return n_well_placed\n",
    "\n",
    "def nb_OK_notwellplaced(s, gt):\n",
    "    ds = list(extract_digits(s))\n",
    "    dgt = list(extract_digits(gt))\n",
    "    n = 0\n",
    "    for i in range(0, len(ds)):\n",
    "        if ds[i] in dgt and ds[i] != dgt[i]:\n",
    "            n = n + 1\n",
    "    return n\n",
    "\n",
    "def nothing_good(s, gt):\n",
    "    ds = set(extract_digits(s))\n",
    "    dgt = set(extract_digits(gt))\n",
    "    return not(ds & dgt)\n",
    "        \n",
    "def is_validsolution(s):\n",
    "    # extract all digits (unit, dozen, ...) from right to left\n",
    "    ds = list(extract_digits(s))\n",
    "    \n",
    "    # one digit is OK and well placed (684)\n",
    "    if nb_wellplaced(s, 684) != 1:\n",
    "        return False\n",
    "    # one digit is OK but not well placed (621)\n",
    "    if nb_OK_notwellplaced(s, 621) != 1:\n",
    "        return False\n",
    "    # one digit is OK but not well placed (783)\n",
    "    if nb_OK_notwellplaced(s, 783) != 1:\n",
    "        return False\n",
    "    \n",
    "    if nb_OK_notwellplaced(s, 436) != 2:\n",
    "        return False\n",
    "\n",
    "    if not nothing_good(s, 708):\n",
    "        return False  \n",
    "\n",
    "    return True\n",
    "\n",
    "# gen all solutions (here: all numbers of 3 digits)\n",
    "for sol in range(100, 1000):\n",
    "    if is_validsolution(sol):\n",
    "        print(sol)\n",
    "\n",
    "\n",
    "\n",
    "assert(nb_wellplaced(104, 684) == 1)\n",
    "assert(nb_wellplaced(604, 684) == 2)\n",
    "assert(nb_wellplaced(100, 684) == 0)\n",
    "assert(nb_wellplaced(864, 684) == 1)\n",
    "assert(nb_wellplaced(684, 684) == 3)\n",
    "assert(nb_wellplaced(468, 684) == 0)\n",
    "assert(nb_wellplaced(683, 684) == 2)\n",
    "\n",
    "assert(nb_OK_notwellplaced(401, 684) == 1)\n",
    "assert(nb_OK_notwellplaced(461, 684) == 2)\n",
    "assert(nb_OK_notwellplaced(104, 684) == 0)\n",
    "\n",
    "set(extract_digits(173)) & set(extract_digits(684))\n",
    "assert(nothing_good(173, 684))\n",
    "assert(not(nothing_good(813, 684)))\n",
    "assert(not(nothing_good(468, 684)))\n",
    "assert(nothing_good(123, 456))"
   ]
  },
  {
   "cell_type": "code",
   "execution_count": 2,
   "metadata": {},
   "outputs": [
    {
     "ename": "SyntaxError",
     "evalue": "can't use starred expression here (<ipython-input-2-910261fca8ca>, line 4)",
     "output_type": "error",
     "traceback": [
      "\u001b[0;36m  File \u001b[0;32m\"<ipython-input-2-910261fca8ca>\"\u001b[0;36m, line \u001b[0;32m4\u001b[0m\n\u001b[0;31mSyntaxError\u001b[0m\u001b[0;31m:\u001b[0m can't use starred expression here\n"
     ]
    }
   ],
   "source": [
    "nb_wellplaced(s, 684)"
   ]
  },
  {
   "cell_type": "code",
   "execution_count": null,
   "metadata": {},
   "outputs": [],
   "source": []
  }
 ],
 "metadata": {
  "kernelspec": {
   "display_name": "Python 3",
   "language": "python",
   "name": "python3"
  },
  "language_info": {
   "codemirror_mode": {
    "name": "ipython",
    "version": 3
   },
   "file_extension": ".py",
   "mimetype": "text/x-python",
   "name": "python",
   "nbconvert_exporter": "python",
   "pygments_lexer": "ipython3",
   "version": "3.7.6"
  }
 },
 "nbformat": 4,
 "nbformat_minor": 2
}
