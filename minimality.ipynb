{
 "cells": [
  {
   "cell_type": "code",
   "execution_count": null,
   "metadata": {},
   "outputs": [],
   "source": [
    "######### 280 characters solution?\n",
    "# chess.QUEEN = 5\n",
    "# chess.BISHOP = 3\n",
    "# https://python-chess.readthedocs.io/en/latest/core.html#piece-types\n",
    "# >63 takes less characters than ==64\n",
    "# fun with print conditionals\n",
    "# I've not the space to include a while(True) loop\n",
    "# w=True is to save some space\n",
    "# same for import as ..\n",
    "# we reuse built-in facilities of python-chess for generating moves\n",
    "import chess as c,random as r\n",
    "w=True\n",
    "s=[r.randrange(0,64) for i in range(0,5)]\n",
    "b=c.Board(fen=None)\n",
    "for q in range(0,4):\n",
    "    b.set_piece_at(s[q],c.Piece(5,w))\n",
    "b.set_piece_at(s[4],c.Piece(3,w))\n",
    "print((s,b)[len(set().union(*[list(b.attacks(s[q]))for q in range(0,5)],s))>63])"
   ]
  },
  {
   "cell_type": "code",
   "execution_count": null,
   "metadata": {},
   "outputs": [],
   "source": [
    "# miss an opportunity here with pieces' kinds and avoiding the verbose call of b.set_piece_at\n",
    "# b.set_piece_at(s[4],c.Piece(3,w))\n",
    "# w=True no longer needed?\n",
    "# \n",
    "import chess as c,random as r\n",
    "w=True\n",
    "pk=[5,5,5,5,3]\n",
    "while(w):\n",
    "    s=[r.randrange(0,64) for i in range(0,5)]\n",
    "    b=c.Board(fen=None)\n",
    "    for q in range(0,5):b.set_piece_at(s[q],c.Piece(pk[q],w))\n",
    "    if len(set().union(*[list(b.attacks(s[q]))for q in range(0,5)],s))>63:break"
   ]
  },
  {
   "cell_type": "code",
   "execution_count": null,
   "metadata": {},
   "outputs": [],
   "source": [
    "b"
   ]
  },
  {
   "cell_type": "code",
   "execution_count": null,
   "metadata": {},
   "outputs": [],
   "source": [
    "# 6x6 \n",
    "# place 3 queens\n",
    "import chess as c,itertools as i\n",
    "w=True\n",
    "l=set(filter(lambda x:x>>3<6 and x&7<6,range(0,64)))\n",
    "for s in i.combinations(l,3):\n",
    "    b=c.Board(fen=None)\n",
    "    for q in range(0,3):b.set_piece_at(s[q],c.Piece(5,w))    \n",
    "    if l<set().union(*[list(b.attacks(s[q]))for q in range(0,3)],s):F=b"
   ]
  },
  {
   "cell_type": "code",
   "execution_count": null,
   "metadata": {},
   "outputs": [],
   "source": [
    "F"
   ]
  },
  {
   "cell_type": "code",
   "execution_count": null,
   "metadata": {},
   "outputs": [],
   "source": [
    "ctr"
   ]
  },
  {
   "cell_type": "code",
   "execution_count": null,
   "metadata": {},
   "outputs": [],
   "source": [
    "import chess as c,itertools as i,random as r\n",
    "import math\n",
    "import numpy as np \n",
    "w=True\n",
    "# we can also parameterize the size of the board ncols*nlines assuming ncols == nlines and ncols <= 8\n",
    "ncols=nlines=8\n",
    "N=5 # sounds impossible to place 5 rooks, 5 bishops, 9 knights on 6x6; \n",
    "# but it's possible to place 5 kings (!!) on 6x6 board\n",
    "# N=19 knights needed to cover a 8x8 board N=9 kings to cover 8x8 board (possible solution with distanciations) N=8 bishops n=8 rooks to cover 8*8 board\n",
    "# print(math.factorial(ncols*nlines) / math.factorial(N) * math.factorial((ncols*nlines) - N))\n",
    "# pk=c.KING\n",
    "# even better: kind piece is an array (each piece can be kinded allowing heterogeneous scenarios and 4 queens+1bishop)\n",
    "# 5 bishops + 3 KNIGHTS + 1 ROOK is not sufficient (aka Facebook discussion: 1T 5F 3C)\n",
    "# 5 bishops + 2 KNIGHTS + 2 ROOKs: OK\n",
    "# 5 bishops + 3 ROOKS + 1 KNIGHT: OK \n",
    "# 4 queens + 1 knight: quite easy but seems more complex than 4 queens + 1 bishop (TODO: compare with enumerative approaches)\n",
    "pk=[c.QUEEN for i in range(0,N)]\n",
    "pk[4]=c.KNIGHT\n",
    "# pk[5]=c.KNIGHT\n",
    "#pk[5]=c.KNIGHT\n",
    "#pk[3]=c.ROOK\n",
    "#pk[2]=c.KNIGHT\n",
    "assert(len(pk) == N)\n",
    "l=set(filter(lambda x:x>>3<ncols and x&7<nlines,range(0,64)))\n",
    "\n",
    "# !! works only for 8x8 !! \n",
    "weights = [1/128 for c in range(0, 64)] # TODO: not sure about generation to ncols*nlines and 1/128\n",
    "for i in filter(lambda x: x >> 3 == 3 or x >> 3 == 4,range(0,64)): # square in the centers (line=3) are more probable\n",
    "    weights[i] = 1/32 + 1/128 # 1/2 in total (8/16)\n",
    "# weighted sampling with numpy (see also https://www.python-course.eu/weighted_choice_and_sample.php)\n",
    "def gen_weightrand():\n",
    "    return np.random.choice(list(l), p=weights, size=N)\n",
    "\n",
    "def gen_rand():\n",
    "    return r.sample(l,N) # [r.sample(l, 1) for i in range(0, n)]\n",
    "# for s in i.combinations(l,N): # complexity here! \n",
    "while(True):\n",
    "    s=gen_rand()\n",
    "    # s=gen_weightrand()\n",
    "    b=c.Board(fen=None)\n",
    "    for q in range(0,N):b.set_piece_at(s[q],c.Piece(pk[q],w))    \n",
    "    if l<=set().union(*[list(b.attacks(s[q]))for q in range(0,N)],s): # <= seems necessary!\n",
    "        # for king distancing\n",
    "        if l.difference(set().union(*[list(b.attacks(s[q]))for q in range(0,N)])) == set(s):\n",
    "            F=b \n",
    "            print(b, \"STOP!\")\n",
    "            break\n",
    "        else:\n",
    "            print(b)\n",
    "            print(\"but we (should) continue for confinement constraint/rule\")\n",
    "            break # can comment it"
   ]
  },
  {
   "cell_type": "code",
   "execution_count": null,
   "metadata": {},
   "outputs": [],
   "source": [
    "b\n"
   ]
  },
  {
   "cell_type": "code",
   "execution_count": null,
   "metadata": {},
   "outputs": [],
   "source": [
    "{1, 2, 3} <= {1, 2, 3}"
   ]
  },
  {
   "cell_type": "code",
   "execution_count": null,
   "metadata": {},
   "outputs": [],
   "source": [
    "# bc=c.Board(fen=\"7R/8/8/8/NBBBBBB1/N7/8/8 w - - 0 1\")\n",
    "bc=c.Board(fen=\"4B1N1/4B3/4B3/4B3/4B3/4B3/8/R7 w - - 0 1\")\n",
    "set().union(*[list(bc.attacks(q))for q in range(0,64)])\n",
    "[bc.attacks(q) for q in range(0,64)]\n",
    "bc"
   ]
  },
  {
   "cell_type": "code",
   "execution_count": 13,
   "metadata": {},
   "outputs": [
    {
     "name": "stdout",
     "output_type": "stream",
     "text": [
      "{0, 2, 3, 4, 5, 6, 7, 8, 9, 10, 11, 12, 13, 14, 16, 17, 18, 19, 20, 22, 23, 25, 26, 27, 28, 29, 30, 31, 32, 33, 35, 36, 37, 38, 39, 40, 41, 42, 43, 45, 46, 47, 48, 49, 50, 51, 52, 53, 55, 56, 57, 58, 60, 61, 62, 63}\n",
      "[44, 15, 21, 1, 34, 24, 59, 54]\n",
      ". . . Q . . . .\n",
      ". . . . . . Q .\n",
      ". . . . Q . . .\n",
      ". . Q . . . . .\n",
      "Q . . . . . . .\n",
      ". . . . . Q . .\n",
      ". . . . . . . Q\n",
      ". Q . . . . . . STOP!\n"
     ]
    }
   ],
   "source": [
    "import chess as c,itertools as i,random as r\n",
    "import math\n",
    "import numpy as np \n",
    "\n",
    "# EIGHT QUEENS PROBLEMS\n",
    "w=True\n",
    "# we can also parameterize the size of the board ncols*nlines assuming ncols == nlines and ncols <= 8\n",
    "ncols=nlines=8\n",
    "N=8 # sounds impossible to place 5 rooks, 5 bishops, 9 knights on 6x6; \n",
    "pk=[c.QUEEN for i in range(0,N)]\n",
    "assert(len(pk) == N)\n",
    "l=set(filter(lambda x:x>>3<ncols and x&7<nlines,range(0,64)))\n",
    "\n",
    "# !! works only for 8x8 !! \n",
    "weights = [1/128 for c in range(0, 64)] # TODO: not sure about generation to ncols*nlines and 1/128\n",
    "for i in filter(lambda x: x >> 3 == 3 or x >> 3 == 4,range(0,64)): # square in the centers (line=3) are more probable\n",
    "    weights[i] = 1/32 + 1/128 # 1/2 in total (8/16)\n",
    "# weighted sampling with numpy (see also https://www.python-course.eu/weighted_choice_and_sample.php)\n",
    "def gen_weightrand():\n",
    "    return np.random.choice(list(l), p=weights, size=N)\n",
    "\n",
    "def gen_rand():\n",
    "    return r.sample(l,N) # [r.sample(l, 1) for i in range(0, n)]\n",
    "# for s in i.combinations(l,N): # complexity here! \n",
    "while(True):\n",
    "    s=gen_rand()\n",
    "    # s=gen_weightrand()\n",
    "    b=c.Board(fen=None)\n",
    "    for q in range(0,N): \n",
    "        b.set_piece_at(s[q],c.Piece(pk[q],w))    \n",
    "    # if not l.difference(set().union(*[list(b.attacks(s[q]))for q in range(0,N)])) & set(s):\n",
    "    if not set().union(*[list(b.attacks(s[q]))for q in range(0,N)]) & set(s):\n",
    "        print(b, \"STOP!\")\n",
    "        break"
   ]
  },
  {
   "cell_type": "code",
   "execution_count": 14,
   "metadata": {},
   "outputs": [
    {
     "data": {
      "image/svg+xml": [
       "<svg height=\"400\" version=\"1.1\" viewBox=\"0 0 400 400\" width=\"400\" xmlns=\"http://www.w3.org/2000/svg\" xmlns:xlink=\"http://www.w3.org/1999/xlink\"><defs><g class=\"white queen\" fill=\"#fff\" fill-rule=\"evenodd\" id=\"white-queen\" stroke=\"#000\" stroke-linecap=\"round\" stroke-linejoin=\"round\" stroke-width=\"1.5\"><path d=\"M8 12a2 2 0 1 1-4 0 2 2 0 1 1 4 0zM24.5 7.5a2 2 0 1 1-4 0 2 2 0 1 1 4 0zM41 12a2 2 0 1 1-4 0 2 2 0 1 1 4 0zM16 8.5a2 2 0 1 1-4 0 2 2 0 1 1 4 0zM33 9a2 2 0 1 1-4 0 2 2 0 1 1 4 0z\" /><path d=\"M9 26c8.5-1.5 21-1.5 27 0l2-12-7 11V11l-5.5 13.5-3-15-3 15-5.5-14V25L7 14l2 12zM9 26c0 2 1.5 2 2.5 4 1 1.5 1 1 .5 3.5-1.5 1-1.5 2.5-1.5 2.5-1.5 1.5.5 2.5.5 2.5 6.5 1 16.5 1 23 0 0 0 1.5-1 0-2.5 0 0 .5-1.5-1-2.5-.5-2.5-.5-2 .5-3.5 1-2 2.5-2 2.5-4-8.5-1.5-18.5-1.5-27 0z\" stroke-linecap=\"butt\" /><path d=\"M11.5 30c3.5-1 18.5-1 22 0M12 33.5c6-1 15-1 21 0\" fill=\"none\" /></g></defs><rect class=\"square dark a1\" fill=\"#d18b47\" height=\"45\" stroke=\"none\" width=\"45\" x=\"20\" y=\"335\" /><rect class=\"square light b1\" fill=\"#ffce9e\" height=\"45\" stroke=\"none\" width=\"45\" x=\"65\" y=\"335\" /><use transform=\"translate(65, 335)\" xlink:href=\"#white-queen\" /><rect class=\"square dark c1\" fill=\"#d18b47\" height=\"45\" stroke=\"none\" width=\"45\" x=\"110\" y=\"335\" /><rect class=\"square light d1\" fill=\"#ffce9e\" height=\"45\" stroke=\"none\" width=\"45\" x=\"155\" y=\"335\" /><rect class=\"square dark e1\" fill=\"#d18b47\" height=\"45\" stroke=\"none\" width=\"45\" x=\"200\" y=\"335\" /><rect class=\"square light f1\" fill=\"#ffce9e\" height=\"45\" stroke=\"none\" width=\"45\" x=\"245\" y=\"335\" /><rect class=\"square dark g1\" fill=\"#d18b47\" height=\"45\" stroke=\"none\" width=\"45\" x=\"290\" y=\"335\" /><rect class=\"square light h1\" fill=\"#ffce9e\" height=\"45\" stroke=\"none\" width=\"45\" x=\"335\" y=\"335\" /><rect class=\"square light a2\" fill=\"#ffce9e\" height=\"45\" stroke=\"none\" width=\"45\" x=\"20\" y=\"290\" /><rect class=\"square dark b2\" fill=\"#d18b47\" height=\"45\" stroke=\"none\" width=\"45\" x=\"65\" y=\"290\" /><rect class=\"square light c2\" fill=\"#ffce9e\" height=\"45\" stroke=\"none\" width=\"45\" x=\"110\" y=\"290\" /><rect class=\"square dark d2\" fill=\"#d18b47\" height=\"45\" stroke=\"none\" width=\"45\" x=\"155\" y=\"290\" /><rect class=\"square light e2\" fill=\"#ffce9e\" height=\"45\" stroke=\"none\" width=\"45\" x=\"200\" y=\"290\" /><rect class=\"square dark f2\" fill=\"#d18b47\" height=\"45\" stroke=\"none\" width=\"45\" x=\"245\" y=\"290\" /><rect class=\"square light g2\" fill=\"#ffce9e\" height=\"45\" stroke=\"none\" width=\"45\" x=\"290\" y=\"290\" /><rect class=\"square dark h2\" fill=\"#d18b47\" height=\"45\" stroke=\"none\" width=\"45\" x=\"335\" y=\"290\" /><use transform=\"translate(335, 290)\" xlink:href=\"#white-queen\" /><rect class=\"square dark a3\" fill=\"#d18b47\" height=\"45\" stroke=\"none\" width=\"45\" x=\"20\" y=\"245\" /><rect class=\"square light b3\" fill=\"#ffce9e\" height=\"45\" stroke=\"none\" width=\"45\" x=\"65\" y=\"245\" /><rect class=\"square dark c3\" fill=\"#d18b47\" height=\"45\" stroke=\"none\" width=\"45\" x=\"110\" y=\"245\" /><rect class=\"square light d3\" fill=\"#ffce9e\" height=\"45\" stroke=\"none\" width=\"45\" x=\"155\" y=\"245\" /><rect class=\"square dark e3\" fill=\"#d18b47\" height=\"45\" stroke=\"none\" width=\"45\" x=\"200\" y=\"245\" /><rect class=\"square light f3\" fill=\"#ffce9e\" height=\"45\" stroke=\"none\" width=\"45\" x=\"245\" y=\"245\" /><use transform=\"translate(245, 245)\" xlink:href=\"#white-queen\" /><rect class=\"square dark g3\" fill=\"#d18b47\" height=\"45\" stroke=\"none\" width=\"45\" x=\"290\" y=\"245\" /><rect class=\"square light h3\" fill=\"#ffce9e\" height=\"45\" stroke=\"none\" width=\"45\" x=\"335\" y=\"245\" /><rect class=\"square light a4\" fill=\"#ffce9e\" height=\"45\" stroke=\"none\" width=\"45\" x=\"20\" y=\"200\" /><use transform=\"translate(20, 200)\" xlink:href=\"#white-queen\" /><rect class=\"square dark b4\" fill=\"#d18b47\" height=\"45\" stroke=\"none\" width=\"45\" x=\"65\" y=\"200\" /><rect class=\"square light c4\" fill=\"#ffce9e\" height=\"45\" stroke=\"none\" width=\"45\" x=\"110\" y=\"200\" /><rect class=\"square dark d4\" fill=\"#d18b47\" height=\"45\" stroke=\"none\" width=\"45\" x=\"155\" y=\"200\" /><rect class=\"square light e4\" fill=\"#ffce9e\" height=\"45\" stroke=\"none\" width=\"45\" x=\"200\" y=\"200\" /><rect class=\"square dark f4\" fill=\"#d18b47\" height=\"45\" stroke=\"none\" width=\"45\" x=\"245\" y=\"200\" /><rect class=\"square light g4\" fill=\"#ffce9e\" height=\"45\" stroke=\"none\" width=\"45\" x=\"290\" y=\"200\" /><rect class=\"square dark h4\" fill=\"#d18b47\" height=\"45\" stroke=\"none\" width=\"45\" x=\"335\" y=\"200\" /><rect class=\"square dark a5\" fill=\"#d18b47\" height=\"45\" stroke=\"none\" width=\"45\" x=\"20\" y=\"155\" /><rect class=\"square light b5\" fill=\"#ffce9e\" height=\"45\" stroke=\"none\" width=\"45\" x=\"65\" y=\"155\" /><rect class=\"square dark c5\" fill=\"#d18b47\" height=\"45\" stroke=\"none\" width=\"45\" x=\"110\" y=\"155\" /><use transform=\"translate(110, 155)\" xlink:href=\"#white-queen\" /><rect class=\"square light d5\" fill=\"#ffce9e\" height=\"45\" stroke=\"none\" width=\"45\" x=\"155\" y=\"155\" /><rect class=\"square dark e5\" fill=\"#d18b47\" height=\"45\" stroke=\"none\" width=\"45\" x=\"200\" y=\"155\" /><rect class=\"square light f5\" fill=\"#ffce9e\" height=\"45\" stroke=\"none\" width=\"45\" x=\"245\" y=\"155\" /><rect class=\"square dark g5\" fill=\"#d18b47\" height=\"45\" stroke=\"none\" width=\"45\" x=\"290\" y=\"155\" /><rect class=\"square light h5\" fill=\"#ffce9e\" height=\"45\" stroke=\"none\" width=\"45\" x=\"335\" y=\"155\" /><rect class=\"square light a6\" fill=\"#ffce9e\" height=\"45\" stroke=\"none\" width=\"45\" x=\"20\" y=\"110\" /><rect class=\"square dark b6\" fill=\"#d18b47\" height=\"45\" stroke=\"none\" width=\"45\" x=\"65\" y=\"110\" /><rect class=\"square light c6\" fill=\"#ffce9e\" height=\"45\" stroke=\"none\" width=\"45\" x=\"110\" y=\"110\" /><rect class=\"square dark d6\" fill=\"#d18b47\" height=\"45\" stroke=\"none\" width=\"45\" x=\"155\" y=\"110\" /><rect class=\"square light e6\" fill=\"#ffce9e\" height=\"45\" stroke=\"none\" width=\"45\" x=\"200\" y=\"110\" /><use transform=\"translate(200, 110)\" xlink:href=\"#white-queen\" /><rect class=\"square dark f6\" fill=\"#d18b47\" height=\"45\" stroke=\"none\" width=\"45\" x=\"245\" y=\"110\" /><rect class=\"square light g6\" fill=\"#ffce9e\" height=\"45\" stroke=\"none\" width=\"45\" x=\"290\" y=\"110\" /><rect class=\"square dark h6\" fill=\"#d18b47\" height=\"45\" stroke=\"none\" width=\"45\" x=\"335\" y=\"110\" /><rect class=\"square dark a7\" fill=\"#d18b47\" height=\"45\" stroke=\"none\" width=\"45\" x=\"20\" y=\"65\" /><rect class=\"square light b7\" fill=\"#ffce9e\" height=\"45\" stroke=\"none\" width=\"45\" x=\"65\" y=\"65\" /><rect class=\"square dark c7\" fill=\"#d18b47\" height=\"45\" stroke=\"none\" width=\"45\" x=\"110\" y=\"65\" /><rect class=\"square light d7\" fill=\"#ffce9e\" height=\"45\" stroke=\"none\" width=\"45\" x=\"155\" y=\"65\" /><rect class=\"square dark e7\" fill=\"#d18b47\" height=\"45\" stroke=\"none\" width=\"45\" x=\"200\" y=\"65\" /><rect class=\"square light f7\" fill=\"#ffce9e\" height=\"45\" stroke=\"none\" width=\"45\" x=\"245\" y=\"65\" /><rect class=\"square dark g7\" fill=\"#d18b47\" height=\"45\" stroke=\"none\" width=\"45\" x=\"290\" y=\"65\" /><use transform=\"translate(290, 65)\" xlink:href=\"#white-queen\" /><rect class=\"square light h7\" fill=\"#ffce9e\" height=\"45\" stroke=\"none\" width=\"45\" x=\"335\" y=\"65\" /><rect class=\"square light a8\" fill=\"#ffce9e\" height=\"45\" stroke=\"none\" width=\"45\" x=\"20\" y=\"20\" /><rect class=\"square dark b8\" fill=\"#d18b47\" height=\"45\" stroke=\"none\" width=\"45\" x=\"65\" y=\"20\" /><rect class=\"square light c8\" fill=\"#ffce9e\" height=\"45\" stroke=\"none\" width=\"45\" x=\"110\" y=\"20\" /><rect class=\"square dark d8\" fill=\"#d18b47\" height=\"45\" stroke=\"none\" width=\"45\" x=\"155\" y=\"20\" /><use transform=\"translate(155, 20)\" xlink:href=\"#white-queen\" /><rect class=\"square light e8\" fill=\"#ffce9e\" height=\"45\" stroke=\"none\" width=\"45\" x=\"200\" y=\"20\" /><rect class=\"square dark f8\" fill=\"#d18b47\" height=\"45\" stroke=\"none\" width=\"45\" x=\"245\" y=\"20\" /><rect class=\"square light g8\" fill=\"#ffce9e\" height=\"45\" stroke=\"none\" width=\"45\" x=\"290\" y=\"20\" /><rect class=\"square dark h8\" fill=\"#d18b47\" height=\"45\" stroke=\"none\" width=\"45\" x=\"335\" y=\"20\" /><text alignment-baseline=\"middle\" font-size=\"14\" text-anchor=\"middle\" x=\"42\" y=\"10\">a</text><text alignment-baseline=\"middle\" font-size=\"14\" text-anchor=\"middle\" x=\"42\" y=\"390\">a</text><text alignment-baseline=\"middle\" font-size=\"14\" text-anchor=\"middle\" x=\"87\" y=\"10\">b</text><text alignment-baseline=\"middle\" font-size=\"14\" text-anchor=\"middle\" x=\"87\" y=\"390\">b</text><text alignment-baseline=\"middle\" font-size=\"14\" text-anchor=\"middle\" x=\"132\" y=\"10\">c</text><text alignment-baseline=\"middle\" font-size=\"14\" text-anchor=\"middle\" x=\"132\" y=\"390\">c</text><text alignment-baseline=\"middle\" font-size=\"14\" text-anchor=\"middle\" x=\"177\" y=\"10\">d</text><text alignment-baseline=\"middle\" font-size=\"14\" text-anchor=\"middle\" x=\"177\" y=\"390\">d</text><text alignment-baseline=\"middle\" font-size=\"14\" text-anchor=\"middle\" x=\"222\" y=\"10\">e</text><text alignment-baseline=\"middle\" font-size=\"14\" text-anchor=\"middle\" x=\"222\" y=\"390\">e</text><text alignment-baseline=\"middle\" font-size=\"14\" text-anchor=\"middle\" x=\"267\" y=\"10\">f</text><text alignment-baseline=\"middle\" font-size=\"14\" text-anchor=\"middle\" x=\"267\" y=\"390\">f</text><text alignment-baseline=\"middle\" font-size=\"14\" text-anchor=\"middle\" x=\"312\" y=\"10\">g</text><text alignment-baseline=\"middle\" font-size=\"14\" text-anchor=\"middle\" x=\"312\" y=\"390\">g</text><text alignment-baseline=\"middle\" font-size=\"14\" text-anchor=\"middle\" x=\"357\" y=\"10\">h</text><text alignment-baseline=\"middle\" font-size=\"14\" text-anchor=\"middle\" x=\"357\" y=\"390\">h</text><text alignment-baseline=\"middle\" font-size=\"14\" text-anchor=\"middle\" x=\"10\" y=\"357\">1</text><text alignment-baseline=\"middle\" font-size=\"14\" text-anchor=\"middle\" x=\"390\" y=\"357\">1</text><text alignment-baseline=\"middle\" font-size=\"14\" text-anchor=\"middle\" x=\"10\" y=\"312\">2</text><text alignment-baseline=\"middle\" font-size=\"14\" text-anchor=\"middle\" x=\"390\" y=\"312\">2</text><text alignment-baseline=\"middle\" font-size=\"14\" text-anchor=\"middle\" x=\"10\" y=\"267\">3</text><text alignment-baseline=\"middle\" font-size=\"14\" text-anchor=\"middle\" x=\"390\" y=\"267\">3</text><text alignment-baseline=\"middle\" font-size=\"14\" text-anchor=\"middle\" x=\"10\" y=\"222\">4</text><text alignment-baseline=\"middle\" font-size=\"14\" text-anchor=\"middle\" x=\"390\" y=\"222\">4</text><text alignment-baseline=\"middle\" font-size=\"14\" text-anchor=\"middle\" x=\"10\" y=\"177\">5</text><text alignment-baseline=\"middle\" font-size=\"14\" text-anchor=\"middle\" x=\"390\" y=\"177\">5</text><text alignment-baseline=\"middle\" font-size=\"14\" text-anchor=\"middle\" x=\"10\" y=\"132\">6</text><text alignment-baseline=\"middle\" font-size=\"14\" text-anchor=\"middle\" x=\"390\" y=\"132\">6</text><text alignment-baseline=\"middle\" font-size=\"14\" text-anchor=\"middle\" x=\"10\" y=\"87\">7</text><text alignment-baseline=\"middle\" font-size=\"14\" text-anchor=\"middle\" x=\"390\" y=\"87\">7</text><text alignment-baseline=\"middle\" font-size=\"14\" text-anchor=\"middle\" x=\"10\" y=\"42\">8</text><text alignment-baseline=\"middle\" font-size=\"14\" text-anchor=\"middle\" x=\"390\" y=\"42\">8</text></svg>"
      ],
      "text/plain": [
       "Board('3Q4/6Q1/4Q3/2Q5/Q7/5Q2/7Q/1Q6 w - - 0 1')"
      ]
     },
     "execution_count": 14,
     "metadata": {},
     "output_type": "execute_result"
    }
   ],
   "source": [
    "b"
   ]
  },
  {
   "cell_type": "code",
   "execution_count": null,
   "metadata": {},
   "outputs": [],
   "source": []
  }
 ],
 "metadata": {
  "kernelspec": {
   "display_name": "Python 3",
   "language": "python",
   "name": "python3"
  },
  "language_info": {
   "codemirror_mode": {
    "name": "ipython",
    "version": 3
   },
   "file_extension": ".py",
   "mimetype": "text/x-python",
   "name": "python",
   "nbconvert_exporter": "python",
   "pygments_lexer": "ipython3",
   "version": "3.7.6"
  }
 },
 "nbformat": 4,
 "nbformat_minor": 2
}
